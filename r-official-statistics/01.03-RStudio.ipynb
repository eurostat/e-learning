{
 "cells": [
  {
   "cell_type": "markdown",
   "metadata": {},
   "source": [
    "<!--NAVIGATION-->\n",
    "<span style='background: rgb(128, 128, 128, .15); width: 100%; display: block; padding: 10px 0 10px 10px'>< [Installing R & Tools](01.02-Installing-R.ipynb) | [Contents](00.00-Index.ipynb) | [Quiz 1](01.04-Quiz.ipynb) ></span>\n",
    "\n",
    "<a href=\"https://colab.research.google.com/github/eurostat/e-learning/blob/main/r-official-statistics/01.03-RStudio.ipynb\"><img align=\"left\" src=\"https://colab.research.google.com/assets/colab-badge.svg\" alt=\"Open in Colab\" title=\"Open and Execute in Google Colaboratory\"></a>\n"
   ]
  },
  {
   "cell_type": "markdown",
   "metadata": {},
   "source": [
    "<a id='top'></a>\n",
    "\n",
    "# How to use RStudio\n",
    "## Content  \n",
    "- [RStudio IDE](#studio)  \n",
    "- [Code Editor](#ceditor)  \n",
    "- [Console](#console)  \n",
    "- [History](#hist)  \n",
    "- [Files](#files)\n",
    "- [Plots](#plots)\n",
    "- [Packages](#packs)\n",
    "- [Environment](#env)\n",
    "- [Tips, Tweaks And Tricks](#tweaks)"
   ]
  },
  {
   "cell_type": "markdown",
   "metadata": {},
   "source": [
    "<a id='unicode'></a>\n",
    "\n",
    "## RStudio IDE\n",
    "This is the most used development environment for R. Here how it looks:  \n",
    "\n",
    "![RStudio](img/RStudio.png)  \n",
    "<br>\n",
    "It starts with 4 panels. Here, in my example, top-left panel contains the code editor, bottom-left is the console, top-right here I have the environment panel, and bottom-right is the plots panel.  \n",
    "Let's describe, very brief, the most used panels and RStudio related functionality:"
   ]
  },
  {
   "cell_type": "markdown",
   "metadata": {},
   "source": [
    "<a id='ceditor'></a>\n",
    "\n",
    "## Code Editor\n",
    "It's a full fledged editor with most of the features you want to see, like:  \n",
    "- Bracket Matching with bracket navigation\n",
    "- Reformat and reindent code\n",
    "- Autocomplete (ex.: datasets::iris$, or utils::head)\n",
    "![RStudio](img/Source.png)  \n",
    "  <br>  \n",
    "- Find & Replace with regex capability  \n",
    "Another feature here: Replace in scope for safe renaming of variables\n",
    "- Managing code sections (folding, easy navigation: doc outline)\n",
    "- Code snippets providing templates for useful code sequences\n",
    "- Keyboard shortcuts consistent between platforms (also you can create more)  \n",
    "  <br><br>\n",
    "__Useful__: _The most used shortcut is CTRL+Enter: Run a line or selected text from the code editor in the console_."
   ]
  },
  {
   "cell_type": "markdown",
   "metadata": {},
   "source": [
    "<a id='console'></a>\n",
    "\n",
    "## Console\n",
    "When you run a line of code from code editor, your line is copied and run in the console panel. Or you can type directly a command there to execute.  \n",
    "But it is an enhanced console: you have some capabilities of source editor, like autocomplition."
   ]
  },
  {
   "cell_type": "markdown",
   "metadata": {},
   "source": [
    "<a id='hist'></a>\n",
    "\n",
    "## History\n",
    "All executed commands will be stored in this panel, so you can trace your moves. This come with useful commands as navigation, saving to a file, or send a specific command again to source editor or directly to console."
   ]
  },
  {
   "cell_type": "markdown",
   "metadata": {},
   "source": [
    "<a id='files'></a>\n",
    "\n",
    "## Files\n",
    "Another useful panel that allows you to see files and folders starting from working directory and navigate in your environment.  \n",
    "But the biggest advantage of being integrated into an IDE is that all these panels interact.  \n",
    "Let's say, I have an rda file (R binary format for multiple datasets) I want to open. After opening with Files panel, the command runs in console, it is added to History, and the variables from the file are visible in the Environment panel."
   ]
  },
  {
   "cell_type": "markdown",
   "metadata": {},
   "source": [
    "<a id='plots'></a>\n",
    "\n",
    "## Plots\n",
    "Each time you run a plot command the image of that plot is opened into plots panel. All the plots you run are stored there and you can navigate between them, or save them as image or pdf, or delete each or all of them. "
   ]
  },
  {
   "cell_type": "markdown",
   "metadata": {},
   "source": [
    "<a id='packs'></a>\n",
    "\n",
    "## Packages\n",
    "Comparing with the original GUI that comes with R that has some reduce functionality dealing with packages RStudio is providing here in style. You can see/search/filter installed packages, load/unload with one click, update or install new ones from different sources that can be customized. And help you to find needed package from those sources.  \n",
    "  <br>  \n",
    "__Useful__: _By clicking on the package names open the help of the package and you can browse all the possible commands seeing some examples, and search all of it together with the vignettes._\n"
   ]
  },
  {
   "cell_type": "markdown",
   "metadata": {},
   "source": [
    "<a id='env'></a>\n",
    "\n",
    "## Environment\n",
    "This is another panel used frequently by R developers. Here you can see all defined variables on each domain: Global Environment or other loaded packages. It has the possibility to clean up the environment, and for complex data, like data frames it will open for you a new windows, associated with the View command, that allows you to see/filter/sort these data.  \n",
    "  <br>  \n",
    "__Note__: _It shows by default only the working environment (Global Environment) and for the others you have to select from the drop down list._  \n",
    "\n",
    "For more: http://adv-r.had.co.nz/Environments.html"
   ]
  },
  {
   "cell_type": "markdown",
   "metadata": {},
   "source": [
    "<a id='tweaks'></a>\n",
    "\n",
    "## Tips, Tweaks And Tricks\n",
    "\n",
    "- set different R engines for RStudio?\n",
    "- how to set proxy RStudio?\n"
   ]
  },
  {
   "cell_type": "markdown",
   "metadata": {},
   "source": [
    "<!--NAVIGATION-->\n",
    "<span style='background: rgb(128, 128, 128, .15); width: 100%; display: block; padding: 10px 0 10px 10px'>< [Installing R & Tools](01.02-Installing-R.ipynb) | [Contents](00.00-Index.ipynb) | [Quiz 1](01.04-Quiz.ipynb) > [Top](#top) ^ </span>"
   ]
  },
  {
   "cell_type": "markdown",
   "metadata": {},
   "source": [
    "<span style='background: rgb(128, 128, 128, .15); width: 100%; display: block; padding: 10px 0 10px 10px'>This is the Jupyter notebook version of the __Python for Official Statistics__ produced by Eurostat; the content is available [on GitHub](https://github.com/eurostat/e-learning/tree/main/python-official-statistics).\n",
    "<br>The text and code are released under the [EUPL-1.2 license](https://github.com/eurostat/e-learning/blob/main/LICENSE).</span>"
   ]
  }
 ],
 "metadata": {
  "anaconda-cloud": {},
  "kernelspec": {
   "display_name": "R",
   "language": "R",
   "name": "ir"
  },
  "language_info": {
   "codemirror_mode": "r",
   "file_extension": ".r",
   "mimetype": "text/x-r-source",
   "name": "R",
   "pygments_lexer": "r",
   "version": "4.2.0"
  }
 },
 "nbformat": 4,
 "nbformat_minor": 4
}
