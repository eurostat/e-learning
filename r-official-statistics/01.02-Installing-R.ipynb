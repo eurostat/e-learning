{
 "cells": [
  {
   "cell_type": "markdown",
   "metadata": {},
   "source": [
    "<!--NAVIGATION-->\n",
    "<span style='background: rgb(128, 128, 128, .15); width: 100%; display: block; padding: 10px 0 10px 10px'>< [Why R?](01.01-Why-R.ipynb) | [Contents](00.00-Index.ipynb) | [How to use RStudio](01.03-RStudio.ipynb) ></span>\n",
    "\n",
    "<a href=\"https://colab.research.google.com/github/eurostat/e-learning/blob/main/r-official-statistics/01.02-Installing-R.ipynb\"><img align=\"left\" src=\"https://colab.research.google.com/assets/colab-badge.svg\" alt=\"Open in Colab\" title=\"Open and Execute in Google Colaboratory\"></a>\n"
   ]
  },
  {
   "cell_type": "markdown",
   "metadata": {},
   "source": [
    "<a id='top'></a>\n",
    "\n",
    "# Installing R & Tools\n",
    "## Content  \n",
    "- [Installing R](#r)  \n",
    "- [Installing RStudio](#rstudio)  \n",
    "- [R and Jupyter](#IRkernel)  \n",
    "- [Packages](#packs)  "
   ]
  },
  {
   "cell_type": "markdown",
   "metadata": {},
   "source": [
    "<a id='r'></a>\n",
    "\n",
    "## Installing R\n",
    "The [R Project for Statistical Computing](https://www.r-project.org/) is the official R page. A lot of good information can be found here.\n",
    "\n",
    "R can be downloaded and installed from The Comprehensive R Archive Network (CRAN):\n",
    "\n",
    "https://cloud.r-project.org\n",
    "\n",
    "We recommend you to use, always, the last stable version. The version we used for our examples is 4.2.0.\n",
    "\n",
    "Usually this distribution is installed in Windows in ``...\\Program Files\\R\\R-4.2.0`` folder, and yes you can have several engines installed, also ex: ``...\\Program Files\\R\\R-4.1.3``.  \n",
    "\n",
    "Worth mentioned here 3 main executables includes in this distribution (for the Windows in the folder ``...\\R-4.2.0\\bin\\x64``):\n",
    "- R.exe: An interactive console for R language.\n",
    "- Rgui.exe: A little graphic user interface with package handling functionality.\n",
    "- Rscript.exe: Followed by a name of a R script, offer the opportunity to run R scripts directly."
   ]
  },
  {
   "cell_type": "markdown",
   "metadata": {},
   "source": [
    "<a id='rstudio'></a>\n",
    "\n",
    "## Installing RStudio\n",
    "RStudio is an integrated development environment (IDE) for R, a programming language for statistical computing and graphics. It is available in two formats: RStudio Desktop is a regular desktop application while RStudio Server runs on a remote server and allows accessing RStudio using a web browser.  \n",
    "You can [download it](https://www.rstudio.com/products/rstudio/download/) for free of cost. There is a paid premium version too.  \n",
    "RStudio requires an installation of R 3.0.1 or higher. You can download the most recent version of R for your environment from CRAN.  \n",
    "There are other IDEs (RTVS for Visual Studio, StatET for R, RKWard, etc.) for R, but RStudio provides a really excellent full package, and nobody can touch RStudio in terms of no. 1.  \n",
    "We dedicate an entire chapter (the next one) to provide an introduction of [RStudio IDE](01.03-RStudio.ipynb)."
   ]
  },
  {
   "cell_type": "markdown",
   "metadata": {},
   "source": [
    "<a id='IRkernel'></a>\n",
    "\n",
    "## R and Jupyter\n",
    "\n",
    "### Jupyter\n",
    "The Jupyter project was developed for Python, but now several more languages like R or Julia, have developed kernels to connect with Jupyter.\n",
    "The `Jupyter Notebook` is the original web application for creating and sharing computational documents. It offers a simple, streamlined, document-centric experience.\n",
    "For more:\n",
    "https://jupyter.org/  \n",
    "<br>\n",
    "   \n",
    "### R Kernel for Jupyter\n",
    "Once you have installed Jupyter you must do these simple steps to have your R engine connected with Jupyter:\n",
    "1. Installed IRkernel package from R or RStudio\n",
    "1. run IRkernel::installspec() in R console\n",
    "1. start Jupyter (the command is: ``jupyter notebook``)\n",
    "1. open or create a new notebook\n",
    "1. from Jupyter change kernel to R.  \n",
    "\n",
    "<br>\n",
    "Now you can use your Jupyter notebook to run R code."
   ]
  },
  {
   "cell_type": "markdown",
   "metadata": {},
   "source": [
    "<a id='packs'></a>\n",
    "\n",
    "## Packages\n",
    "\n",
    "1. better install them with RStudio\n",
    "2. using pacman (Packages.R)\n",
    "3. find them with:\n",
    "- CRAN (https://cran.r-project.org/): list ordered by name, by publishing date\n",
    "- Crantastic (just list of CRAN) (https://www.r-pkg.org/pkg/crantastic)\n",
    "packages and CRANtastic (https://www.r-bloggers.com/2009/08/packages-and-crantastic/)\n",
    "- GitHub"
   ]
  },
  {
   "cell_type": "markdown",
   "metadata": {},
   "source": [
    "<!--NAVIGATION-->\n",
    "<span style='background: rgb(128, 128, 128, .15); width: 100%; display: block; padding: 10px 0 10px 10px'>< [Why R?](01.01-Why-R.ipynb) | [Contents](00.00-Index.ipynb) | [How to use RStudio](01.03-RStudio.ipynb) > [Top](#top) ^ </span>"
   ]
  },
  {
   "cell_type": "markdown",
   "metadata": {},
   "source": [
    "<span style='background: rgb(128, 128, 128, .15); width: 100%; display: block; padding: 10px 0 10px 10px'>This is the Jupyter notebook version of the __Python for Official Statistics__ produced by Eurostat; the content is available [on GitHub](https://github.com/eurostat/e-learning/tree/main/python-official-statistics).\n",
    "<br>The text and code are released under the [EUPL-1.2 license](https://github.com/eurostat/e-learning/blob/main/LICENSE).</span>"
   ]
  }
 ],
 "metadata": {
  "anaconda-cloud": {},
  "kernelspec": {
   "display_name": "R",
   "language": "R",
   "name": "ir"
  },
  "language_info": {
   "codemirror_mode": "r",
   "file_extension": ".r",
   "mimetype": "text/x-r-source",
   "name": "R",
   "pygments_lexer": "r",
   "version": "4.2.0"
  }
 },
 "nbformat": 4,
 "nbformat_minor": 4
}
