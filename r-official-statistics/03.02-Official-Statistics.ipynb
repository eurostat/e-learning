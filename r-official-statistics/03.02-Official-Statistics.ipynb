{
 "cells": [
  {
   "cell_type": "markdown",
   "metadata": {},
   "source": [
    "<!--NAVIGATION-->\n",
    "<span style='background: rgb(128, 128, 128, .15); width: 100%; display: block; padding: 10px 0 10px 10px'>< [Read Data](03.01-Read-Data.ipynb) | [Contents](00.00-Index.ipynb) | [Quiz 3](03.03-Quiz.ipynb) ></span>\n",
    "\n",
    "<a href=\"https://colab.research.google.com/github/eurostat/e-learning/blob/main/r-official-statistics/03.02-Official-Statistics.ipynb\"><img align=\"left\" src=\"https://colab.research.google.com/assets/colab-badge.svg\" alt=\"Open in Colab\" title=\"Open and Execute in Google Colaboratory\"></a>\n"
   ]
  },
  {
   "cell_type": "markdown",
   "metadata": {},
   "source": [
    "<a id='top'></a>\n",
    "\n",
    "# Data sources for official statistics\n",
    "## Content  \n",
    "\n",
    "- [rsdmx](#rsdmx)\n",
    "- [OECD](#OECD)\n",
    "- [readsdmx](#readsdmx)\n",
    "- [ecb](#ecb)\n",
    "- [RJSDMX](#RJSDMX)\n",
    "- [restatapi](#restatapi)\n",
    "- [giscoR](#giscoR)\n"
   ]
  },
  {
   "cell_type": "markdown",
   "metadata": {},
   "source": [
    "<a id='rsdmx'></a>\n",
    "\n",
    "## rsdmx\n",
    "rsdmx offers a low-level set of tools to read data and metadata in SDMX format. Its strategy is to make it very easy for the user. For this, a unique function named readSDMX has to be used, whatever it is a data or metadata document, or if it is local or remote datasource.  \n",
    "\n",
    "https://github.com/opensdmx/rsdmx  \n",
    "  <br>  \n",
    "  \n",
    "Examples:"
   ]
  },
  {
   "cell_type": "code",
   "execution_count": 1,
   "metadata": {
    "vscode": {
     "languageId": "r"
    }
   },
   "outputs": [
    {
     "name": "stderr",
     "output_type": "stream",
     "text": [
      "Loading required package: rsdmx\n",
      "\n"
     ]
    },
    {
     "data": {
      "text/html": [
       "<table class=\"dataframe\">\n",
       "<caption>A data.frame: 4 × 6</caption>\n",
       "<thead>\n",
       "\t<tr><th></th><th scope=col>agencyId</th><th scope=col>name</th><th scope=col>scale</th><th scope=col>country</th><th scope=col>builder</th><th scope=col>compliant</th></tr>\n",
       "\t<tr><th></th><th scope=col>&lt;chr&gt;</th><th scope=col>&lt;chr&gt;</th><th scope=col>&lt;chr&gt;</th><th scope=col>&lt;chr&gt;</th><th scope=col>&lt;chr&gt;</th><th scope=col>&lt;chr&gt;</th></tr>\n",
       "</thead>\n",
       "<tbody>\n",
       "\t<tr><th scope=row>1</th><td>ECB  </td><td>European Central Bank                                 </td><td>international</td><td>NA</td><td>SDMXREST21RequestBuilder </td><td>TRUE </td></tr>\n",
       "\t<tr><th scope=row>2</th><td>ESTAT</td><td>Eurostat (Statistical office of the European Union)   </td><td>international</td><td>NA</td><td>SDMXREST21RequestBuilder </td><td>TRUE </td></tr>\n",
       "\t<tr><th scope=row>3</th><td>IMF  </td><td>International Monetary Fund                           </td><td>international</td><td>NA</td><td>SDMXREST21RequestBuilder </td><td>TRUE </td></tr>\n",
       "\t<tr><th scope=row>4</th><td>OECD </td><td>Organisation for Economic Cooperation and Development </td><td>international</td><td>NA</td><td>SDMXDotStatRequestBuilder</td><td>FALSE</td></tr>\n",
       "</tbody>\n",
       "</table>\n"
      ],
      "text/latex": [
       "A data.frame: 4 × 6\n",
       "\\begin{tabular}{r|llllll}\n",
       "  & agencyId & name & scale & country & builder & compliant\\\\\n",
       "  & <chr> & <chr> & <chr> & <chr> & <chr> & <chr>\\\\\n",
       "\\hline\n",
       "\t1 & ECB   & European Central Bank                                  & international & NA & SDMXREST21RequestBuilder  & TRUE \\\\\n",
       "\t2 & ESTAT & Eurostat (Statistical office of the European Union)    & international & NA & SDMXREST21RequestBuilder  & TRUE \\\\\n",
       "\t3 & IMF   & International Monetary Fund                            & international & NA & SDMXREST21RequestBuilder  & TRUE \\\\\n",
       "\t4 & OECD  & Organisation for Economic Cooperation and Development  & international & NA & SDMXDotStatRequestBuilder & FALSE\\\\\n",
       "\\end{tabular}\n"
      ],
      "text/markdown": [
       "\n",
       "A data.frame: 4 × 6\n",
       "\n",
       "| <!--/--> | agencyId &lt;chr&gt; | name &lt;chr&gt; | scale &lt;chr&gt; | country &lt;chr&gt; | builder &lt;chr&gt; | compliant &lt;chr&gt; |\n",
       "|---|---|---|---|---|---|---|\n",
       "| 1 | ECB   | European Central Bank                                  | international | NA | SDMXREST21RequestBuilder  | TRUE  |\n",
       "| 2 | ESTAT | Eurostat (Statistical office of the European Union)    | international | NA | SDMXREST21RequestBuilder  | TRUE  |\n",
       "| 3 | IMF   | International Monetary Fund                            | international | NA | SDMXREST21RequestBuilder  | TRUE  |\n",
       "| 4 | OECD  | Organisation for Economic Cooperation and Development  | international | NA | SDMXDotStatRequestBuilder | FALSE |\n",
       "\n"
      ],
      "text/plain": [
       "  agencyId name                                                   scale        \n",
       "1 ECB      European Central Bank                                  international\n",
       "2 ESTAT    Eurostat (Statistical office of the European Union)    international\n",
       "3 IMF      International Monetary Fund                            international\n",
       "4 OECD     Organisation for Economic Cooperation and Development  international\n",
       "  country builder                   compliant\n",
       "1 NA      SDMXREST21RequestBuilder  TRUE     \n",
       "2 NA      SDMXREST21RequestBuilder  TRUE     \n",
       "3 NA      SDMXREST21RequestBuilder  TRUE     \n",
       "4 NA      SDMXDotStatRequestBuilder FALSE    "
      ]
     },
     "metadata": {},
     "output_type": "display_data"
    },
    {
     "data": {
      "text/html": [
       "<table class=\"dataframe\">\n",
       "<caption>A data.frame: 6 × 8</caption>\n",
       "<thead>\n",
       "\t<tr><th></th><th scope=col>CO2</th><th scope=col>VAR</th><th scope=col>GEN</th><th scope=col>COU</th><th scope=col>TIME_FORMAT</th><th scope=col>obsTime</th><th scope=col>obsValue</th><th scope=col>OBS_STATUS</th></tr>\n",
       "\t<tr><th></th><th scope=col>&lt;chr&gt;</th><th scope=col>&lt;chr&gt;</th><th scope=col>&lt;chr&gt;</th><th scope=col>&lt;chr&gt;</th><th scope=col>&lt;chr&gt;</th><th scope=col>&lt;chr&gt;</th><th scope=col>&lt;dbl&gt;</th><th scope=col>&lt;chr&gt;</th></tr>\n",
       "</thead>\n",
       "<tbody>\n",
       "\t<tr><th scope=row>1</th><td>TOT</td><td>B11</td><td>WMN</td><td>AUS</td><td>P1Y</td><td>2000</td><td>54754</td><td>NA</td></tr>\n",
       "\t<tr><th scope=row>2</th><td>TOT</td><td>B11</td><td>WMN</td><td>AUS</td><td>P1Y</td><td>2001</td><td>65079</td><td>NA</td></tr>\n",
       "\t<tr><th scope=row>3</th><td>TOT</td><td>B11</td><td>WMN</td><td>AUS</td><td>P1Y</td><td>2002</td><td>60958</td><td>NA</td></tr>\n",
       "\t<tr><th scope=row>4</th><td>TOT</td><td>B11</td><td>WMN</td><td>AUS</td><td>P1Y</td><td>2003</td><td>63768</td><td>NA</td></tr>\n",
       "\t<tr><th scope=row>5</th><td>TOT</td><td>B11</td><td>WMN</td><td>AUS</td><td>P1Y</td><td>2004</td><td>74957</td><td>NA</td></tr>\n",
       "\t<tr><th scope=row>6</th><td>TOT</td><td>B11</td><td>WMN</td><td>AUS</td><td>P1Y</td><td>2005</td><td>82155</td><td>NA</td></tr>\n",
       "</tbody>\n",
       "</table>\n"
      ],
      "text/latex": [
       "A data.frame: 6 × 8\n",
       "\\begin{tabular}{r|llllllll}\n",
       "  & CO2 & VAR & GEN & COU & TIME\\_FORMAT & obsTime & obsValue & OBS\\_STATUS\\\\\n",
       "  & <chr> & <chr> & <chr> & <chr> & <chr> & <chr> & <dbl> & <chr>\\\\\n",
       "\\hline\n",
       "\t1 & TOT & B11 & WMN & AUS & P1Y & 2000 & 54754 & NA\\\\\n",
       "\t2 & TOT & B11 & WMN & AUS & P1Y & 2001 & 65079 & NA\\\\\n",
       "\t3 & TOT & B11 & WMN & AUS & P1Y & 2002 & 60958 & NA\\\\\n",
       "\t4 & TOT & B11 & WMN & AUS & P1Y & 2003 & 63768 & NA\\\\\n",
       "\t5 & TOT & B11 & WMN & AUS & P1Y & 2004 & 74957 & NA\\\\\n",
       "\t6 & TOT & B11 & WMN & AUS & P1Y & 2005 & 82155 & NA\\\\\n",
       "\\end{tabular}\n"
      ],
      "text/markdown": [
       "\n",
       "A data.frame: 6 × 8\n",
       "\n",
       "| <!--/--> | CO2 &lt;chr&gt; | VAR &lt;chr&gt; | GEN &lt;chr&gt; | COU &lt;chr&gt; | TIME_FORMAT &lt;chr&gt; | obsTime &lt;chr&gt; | obsValue &lt;dbl&gt; | OBS_STATUS &lt;chr&gt; |\n",
       "|---|---|---|---|---|---|---|---|---|\n",
       "| 1 | TOT | B11 | WMN | AUS | P1Y | 2000 | 54754 | NA |\n",
       "| 2 | TOT | B11 | WMN | AUS | P1Y | 2001 | 65079 | NA |\n",
       "| 3 | TOT | B11 | WMN | AUS | P1Y | 2002 | 60958 | NA |\n",
       "| 4 | TOT | B11 | WMN | AUS | P1Y | 2003 | 63768 | NA |\n",
       "| 5 | TOT | B11 | WMN | AUS | P1Y | 2004 | 74957 | NA |\n",
       "| 6 | TOT | B11 | WMN | AUS | P1Y | 2005 | 82155 | NA |\n",
       "\n"
      ],
      "text/plain": [
       "  CO2 VAR GEN COU TIME_FORMAT obsTime obsValue OBS_STATUS\n",
       "1 TOT B11 WMN AUS P1Y         2000    54754    NA        \n",
       "2 TOT B11 WMN AUS P1Y         2001    65079    NA        \n",
       "3 TOT B11 WMN AUS P1Y         2002    60958    NA        \n",
       "4 TOT B11 WMN AUS P1Y         2003    63768    NA        \n",
       "5 TOT B11 WMN AUS P1Y         2004    74957    NA        \n",
       "6 TOT B11 WMN AUS P1Y         2005    82155    NA        "
      ]
     },
     "metadata": {},
     "output_type": "display_data"
    }
   ],
   "source": [
    "if (!require(\"rsdmx\")) {\n",
    "    install.packages(\"rsdmx\")\n",
    "    library(rsdmx)\n",
    "}\n",
    "# check providers\n",
    "head(as.data.frame(getSDMXServiceProviders()), 4)\n",
    "# Read remote datasets\n",
    "oecdUrl <- \"https://stats.oecd.org/restsdmx/sdmx.ashx/GetData/MIG/TOT../OECD?startTime=2000&endTime=2011\"\n",
    "dataset <- readSDMX(oecdUrl)\n",
    "stats <- as.data.frame(dataset)\n",
    "head(stats)"
   ]
  },
  {
   "cell_type": "markdown",
   "metadata": {},
   "source": [
    "<a id='OECD'></a>\n",
    "\n",
    "## OECD\n",
    "The OECD package allows the user to download data from the OECD’s API in a dynamic and reproducible way.  \n",
    "https://github.com/expersso/OECD  \n",
    "  <br>  \n",
    "  \n",
    "Examples:"
   ]
  },
  {
   "cell_type": "code",
   "execution_count": 2,
   "metadata": {
    "vscode": {
     "languageId": "r"
    }
   },
   "outputs": [
    {
     "name": "stderr",
     "output_type": "stream",
     "text": [
      "Loading required package: OECD\n",
      "\n"
     ]
    },
    {
     "data": {
      "text/html": [
       "<table class=\"dataframe\">\n",
       "<caption>A tibble: 10 × 2</caption>\n",
       "<thead>\n",
       "\t<tr><th></th><th scope=col>id</th><th scope=col>title</th></tr>\n",
       "\t<tr><th></th><th scope=col>&lt;chr&gt;</th><th scope=col>&lt;chr&gt;</th></tr>\n",
       "</thead>\n",
       "<tbody>\n",
       "\t<tr><th scope=row>94</th><td>DUR_I               </td><td>Incidence of unemployment by duration                                              </td></tr>\n",
       "\t<tr><th scope=row>95</th><td>DUR_D               </td><td>Unemployment by duration                                                           </td></tr>\n",
       "\t<tr><th scope=row>160</th><td>AVD_DUR             </td><td>Average duration of unemployment                                                   </td></tr>\n",
       "\t<tr><th scope=row>674</th><td>AEO2012_CH6_FIG4    </td><td>Figure 4: Youth and adult unemployment                                             </td></tr>\n",
       "\t<tr><th scope=row>706</th><td>AEO2012_CH6_FIG29   </td><td>Figure 29: Youth employment and unemployment by education and country income groups</td></tr>\n",
       "\t<tr><th scope=row>754</th><td>AEO2012_CH6_FIG19   </td><td>Figure 19: The trade off between vulnerable employment and unemployment            </td></tr>\n",
       "\t<tr><th scope=row>968</th><td>PTRUB               </td><td>PTR for families claiming Unemployment Benefits                                    </td></tr>\n",
       "\t<tr><th scope=row>1022</th><td>MIG_NUP_RATES_GENDER</td><td>Employment, unemployment, and participation rates by place of birth and sex        </td></tr>\n",
       "\t<tr><th scope=row>1338</th><td>NRR                 </td><td>Net replacement rate in unemployment                                               </td></tr>\n",
       "\t<tr><th scope=row>1447</th><td>PTRCCUB             </td><td>PTR for parents claiming Unemployment Benefits and using childcare services        </td></tr>\n",
       "</tbody>\n",
       "</table>\n"
      ],
      "text/latex": [
       "A tibble: 10 × 2\n",
       "\\begin{tabular}{r|ll}\n",
       "  & id & title\\\\\n",
       "  & <chr> & <chr>\\\\\n",
       "\\hline\n",
       "\t94 & DUR\\_I                & Incidence of unemployment by duration                                              \\\\\n",
       "\t95 & DUR\\_D                & Unemployment by duration                                                           \\\\\n",
       "\t160 & AVD\\_DUR              & Average duration of unemployment                                                   \\\\\n",
       "\t674 & AEO2012\\_CH6\\_FIG4     & Figure 4: Youth and adult unemployment                                             \\\\\n",
       "\t706 & AEO2012\\_CH6\\_FIG29    & Figure 29: Youth employment and unemployment by education and country income groups\\\\\n",
       "\t754 & AEO2012\\_CH6\\_FIG19    & Figure 19: The trade off between vulnerable employment and unemployment            \\\\\n",
       "\t968 & PTRUB                & PTR for families claiming Unemployment Benefits                                    \\\\\n",
       "\t1022 & MIG\\_NUP\\_RATES\\_GENDER & Employment, unemployment, and participation rates by place of birth and sex        \\\\\n",
       "\t1338 & NRR                  & Net replacement rate in unemployment                                               \\\\\n",
       "\t1447 & PTRCCUB              & PTR for parents claiming Unemployment Benefits and using childcare services        \\\\\n",
       "\\end{tabular}\n"
      ],
      "text/markdown": [
       "\n",
       "A tibble: 10 × 2\n",
       "\n",
       "| <!--/--> | id &lt;chr&gt; | title &lt;chr&gt; |\n",
       "|---|---|---|\n",
       "| 94 | DUR_I                | Incidence of unemployment by duration                                               |\n",
       "| 95 | DUR_D                | Unemployment by duration                                                            |\n",
       "| 160 | AVD_DUR              | Average duration of unemployment                                                    |\n",
       "| 674 | AEO2012_CH6_FIG4     | Figure 4: Youth and adult unemployment                                              |\n",
       "| 706 | AEO2012_CH6_FIG29    | Figure 29: Youth employment and unemployment by education and country income groups |\n",
       "| 754 | AEO2012_CH6_FIG19    | Figure 19: The trade off between vulnerable employment and unemployment             |\n",
       "| 968 | PTRUB                | PTR for families claiming Unemployment Benefits                                     |\n",
       "| 1022 | MIG_NUP_RATES_GENDER | Employment, unemployment, and participation rates by place of birth and sex         |\n",
       "| 1338 | NRR                  | Net replacement rate in unemployment                                                |\n",
       "| 1447 | PTRCCUB              | PTR for parents claiming Unemployment Benefits and using childcare services         |\n",
       "\n"
      ],
      "text/plain": [
       "     id                  \n",
       "94   DUR_I               \n",
       "95   DUR_D               \n",
       "160  AVD_DUR             \n",
       "674  AEO2012_CH6_FIG4    \n",
       "706  AEO2012_CH6_FIG29   \n",
       "754  AEO2012_CH6_FIG19   \n",
       "968  PTRUB               \n",
       "1022 MIG_NUP_RATES_GENDER\n",
       "1338 NRR                 \n",
       "1447 PTRCCUB             \n",
       "     title                                                                              \n",
       "94   Incidence of unemployment by duration                                              \n",
       "95   Unemployment by duration                                                           \n",
       "160  Average duration of unemployment                                                   \n",
       "674  Figure 4: Youth and adult unemployment                                             \n",
       "706  Figure 29: Youth employment and unemployment by education and country income groups\n",
       "754  Figure 19: The trade off between vulnerable employment and unemployment            \n",
       "968  PTR for families claiming Unemployment Benefits                                    \n",
       "1022 Employment, unemployment, and participation rates by place of birth and sex        \n",
       "1338 Net replacement rate in unemployment                                               \n",
       "1447 PTR for parents claiming Unemployment Benefits and using childcare services        "
      ]
     },
     "metadata": {},
     "output_type": "display_data"
    },
    {
     "data": {
      "text/html": [
       "<table class=\"dataframe\">\n",
       "<caption>A tibble: 6 × 8</caption>\n",
       "<thead>\n",
       "\t<tr><th></th><th scope=col>AGE</th><th scope=col>COUNTRY</th><th scope=col>DURATION</th><th scope=col>FREQUENCY</th><th scope=col>ObsValue</th><th scope=col>SEX</th><th scope=col>TIME_FORMAT</th><th scope=col>Time</th></tr>\n",
       "\t<tr><th></th><th scope=col>&lt;chr&gt;</th><th scope=col>&lt;chr&gt;</th><th scope=col>&lt;chr&gt;</th><th scope=col>&lt;chr&gt;</th><th scope=col>&lt;chr&gt;</th><th scope=col>&lt;chr&gt;</th><th scope=col>&lt;chr&gt;</th><th scope=col>&lt;chr&gt;</th></tr>\n",
       "</thead>\n",
       "<tbody>\n",
       "\t<tr><th scope=row>1</th><td>2024</td><td>FRA</td><td>UN1</td><td>A</td><td>30.9699993133545</td><td>MW</td><td>P1Y</td><td>1975</td></tr>\n",
       "\t<tr><th scope=row>2</th><td>2024</td><td>FRA</td><td>UN1</td><td>A</td><td>27.1599998474121</td><td>MW</td><td>P1Y</td><td>1976</td></tr>\n",
       "\t<tr><th scope=row>3</th><td>2024</td><td>FRA</td><td>UN1</td><td>A</td><td>29.2099990844727</td><td>MW</td><td>P1Y</td><td>1977</td></tr>\n",
       "\t<tr><th scope=row>4</th><td>2024</td><td>FRA</td><td>UN1</td><td>A</td><td>26.5200004577637</td><td>MW</td><td>P1Y</td><td>1978</td></tr>\n",
       "\t<tr><th scope=row>5</th><td>2024</td><td>FRA</td><td>UN1</td><td>A</td><td>32.0200004577637</td><td>MW</td><td>P1Y</td><td>1979</td></tr>\n",
       "\t<tr><th scope=row>6</th><td>2024</td><td>FRA</td><td>UN1</td><td>A</td><td>31.9300003051758</td><td>MW</td><td>P1Y</td><td>1980</td></tr>\n",
       "</tbody>\n",
       "</table>\n"
      ],
      "text/latex": [
       "A tibble: 6 × 8\n",
       "\\begin{tabular}{r|llllllll}\n",
       "  & AGE & COUNTRY & DURATION & FREQUENCY & ObsValue & SEX & TIME\\_FORMAT & Time\\\\\n",
       "  & <chr> & <chr> & <chr> & <chr> & <chr> & <chr> & <chr> & <chr>\\\\\n",
       "\\hline\n",
       "\t1 & 2024 & FRA & UN1 & A & 30.9699993133545 & MW & P1Y & 1975\\\\\n",
       "\t2 & 2024 & FRA & UN1 & A & 27.1599998474121 & MW & P1Y & 1976\\\\\n",
       "\t3 & 2024 & FRA & UN1 & A & 29.2099990844727 & MW & P1Y & 1977\\\\\n",
       "\t4 & 2024 & FRA & UN1 & A & 26.5200004577637 & MW & P1Y & 1978\\\\\n",
       "\t5 & 2024 & FRA & UN1 & A & 32.0200004577637 & MW & P1Y & 1979\\\\\n",
       "\t6 & 2024 & FRA & UN1 & A & 31.9300003051758 & MW & P1Y & 1980\\\\\n",
       "\\end{tabular}\n"
      ],
      "text/markdown": [
       "\n",
       "A tibble: 6 × 8\n",
       "\n",
       "| <!--/--> | AGE &lt;chr&gt; | COUNTRY &lt;chr&gt; | DURATION &lt;chr&gt; | FREQUENCY &lt;chr&gt; | ObsValue &lt;chr&gt; | SEX &lt;chr&gt; | TIME_FORMAT &lt;chr&gt; | Time &lt;chr&gt; |\n",
       "|---|---|---|---|---|---|---|---|---|\n",
       "| 1 | 2024 | FRA | UN1 | A | 30.9699993133545 | MW | P1Y | 1975 |\n",
       "| 2 | 2024 | FRA | UN1 | A | 27.1599998474121 | MW | P1Y | 1976 |\n",
       "| 3 | 2024 | FRA | UN1 | A | 29.2099990844727 | MW | P1Y | 1977 |\n",
       "| 4 | 2024 | FRA | UN1 | A | 26.5200004577637 | MW | P1Y | 1978 |\n",
       "| 5 | 2024 | FRA | UN1 | A | 32.0200004577637 | MW | P1Y | 1979 |\n",
       "| 6 | 2024 | FRA | UN1 | A | 31.9300003051758 | MW | P1Y | 1980 |\n",
       "\n"
      ],
      "text/plain": [
       "  AGE  COUNTRY DURATION FREQUENCY ObsValue         SEX TIME_FORMAT Time\n",
       "1 2024 FRA     UN1      A         30.9699993133545 MW  P1Y         1975\n",
       "2 2024 FRA     UN1      A         27.1599998474121 MW  P1Y         1976\n",
       "3 2024 FRA     UN1      A         29.2099990844727 MW  P1Y         1977\n",
       "4 2024 FRA     UN1      A         26.5200004577637 MW  P1Y         1978\n",
       "5 2024 FRA     UN1      A         32.0200004577637 MW  P1Y         1979\n",
       "6 2024 FRA     UN1      A         31.9300003051758 MW  P1Y         1980"
      ]
     },
     "metadata": {},
     "output_type": "display_data"
    }
   ],
   "source": [
    "if (!require(\"OECD\")) {\n",
    "    install.packages(\"OECD\")\n",
    "    library(OECD)\n",
    "}\n",
    "# search a dataset\n",
    "dataset_list <- get_datasets()\n",
    "search_dataset(\"unemployment\", data = dataset_list)\n",
    "# get some data:\n",
    "# duration of unemployment (DUR_D) of men aged 20 to 24 in Germany and France. \n",
    "df <- get_dataset(dataset = \"DUR_D\", filter = list(c(\"DEU\", \"FRA\"), \"MW\", \"2024\"))\n",
    "head(df)"
   ]
  },
  {
   "cell_type": "markdown",
   "metadata": {},
   "source": [
    "<a id='readsdmx'></a>\n",
    "\n",
    "## readsdmx\n",
    "Read sdmx data into dataframes from either a local SDMX-ML file or from a SDMX web-service.  \n",
    "https://github.com/mdequeljoe/readsdmx  \n",
    "  <br>  \n",
    "  \n",
    "Examples:"
   ]
  },
  {
   "cell_type": "code",
   "execution_count": 3,
   "metadata": {
    "vscode": {
     "languageId": "r"
    }
   },
   "outputs": [
    {
     "name": "stderr",
     "output_type": "stream",
     "text": [
      "Loading required package: readsdmx\n",
      "\n"
     ]
    },
    {
     "data": {
      "text/html": [
       "<table class=\"dataframe\">\n",
       "<caption>A data.frame: 6 × 7</caption>\n",
       "<thead>\n",
       "\t<tr><th></th><th scope=col>FREQUENCY</th><th scope=col>INDICATOR</th><th scope=col>LOCATION</th><th scope=col>ObsValue</th><th scope=col>POWERCODE</th><th scope=col>TIME_FORMAT</th><th scope=col>Time</th></tr>\n",
       "\t<tr><th></th><th scope=col>&lt;chr&gt;</th><th scope=col>&lt;chr&gt;</th><th scope=col>&lt;chr&gt;</th><th scope=col>&lt;chr&gt;</th><th scope=col>&lt;chr&gt;</th><th scope=col>&lt;chr&gt;</th><th scope=col>&lt;chr&gt;</th></tr>\n",
       "</thead>\n",
       "<tbody>\n",
       "\t<tr><th scope=row>1</th><td>Q</td><td>UNEMPRATE</td><td>IRL</td><td>4.9 </td><td>0</td><td>P3M</td><td>2007-Q1</td></tr>\n",
       "\t<tr><th scope=row>2</th><td>Q</td><td>UNEMPRATE</td><td>IRL</td><td>5   </td><td>0</td><td>P3M</td><td>2007-Q2</td></tr>\n",
       "\t<tr><th scope=row>3</th><td>Q</td><td>UNEMPRATE</td><td>IRL</td><td>4.9 </td><td>0</td><td>P3M</td><td>2007-Q3</td></tr>\n",
       "\t<tr><th scope=row>4</th><td>Q</td><td>UNEMPRATE</td><td>IRL</td><td>5.2 </td><td>0</td><td>P3M</td><td>2007-Q4</td></tr>\n",
       "\t<tr><th scope=row>5</th><td>Q</td><td>UNEMPRATE</td><td>IRL</td><td>5.37</td><td>0</td><td>P3M</td><td>2008-Q1</td></tr>\n",
       "\t<tr><th scope=row>6</th><td>Q</td><td>UNEMPRATE</td><td>IRL</td><td>5.93</td><td>0</td><td>P3M</td><td>2008-Q2</td></tr>\n",
       "</tbody>\n",
       "</table>\n"
      ],
      "text/latex": [
       "A data.frame: 6 × 7\n",
       "\\begin{tabular}{r|lllllll}\n",
       "  & FREQUENCY & INDICATOR & LOCATION & ObsValue & POWERCODE & TIME\\_FORMAT & Time\\\\\n",
       "  & <chr> & <chr> & <chr> & <chr> & <chr> & <chr> & <chr>\\\\\n",
       "\\hline\n",
       "\t1 & Q & UNEMPRATE & IRL & 4.9  & 0 & P3M & 2007-Q1\\\\\n",
       "\t2 & Q & UNEMPRATE & IRL & 5    & 0 & P3M & 2007-Q2\\\\\n",
       "\t3 & Q & UNEMPRATE & IRL & 4.9  & 0 & P3M & 2007-Q3\\\\\n",
       "\t4 & Q & UNEMPRATE & IRL & 5.2  & 0 & P3M & 2007-Q4\\\\\n",
       "\t5 & Q & UNEMPRATE & IRL & 5.37 & 0 & P3M & 2008-Q1\\\\\n",
       "\t6 & Q & UNEMPRATE & IRL & 5.93 & 0 & P3M & 2008-Q2\\\\\n",
       "\\end{tabular}\n"
      ],
      "text/markdown": [
       "\n",
       "A data.frame: 6 × 7\n",
       "\n",
       "| <!--/--> | FREQUENCY &lt;chr&gt; | INDICATOR &lt;chr&gt; | LOCATION &lt;chr&gt; | ObsValue &lt;chr&gt; | POWERCODE &lt;chr&gt; | TIME_FORMAT &lt;chr&gt; | Time &lt;chr&gt; |\n",
       "|---|---|---|---|---|---|---|---|\n",
       "| 1 | Q | UNEMPRATE | IRL | 4.9  | 0 | P3M | 2007-Q1 |\n",
       "| 2 | Q | UNEMPRATE | IRL | 5    | 0 | P3M | 2007-Q2 |\n",
       "| 3 | Q | UNEMPRATE | IRL | 4.9  | 0 | P3M | 2007-Q3 |\n",
       "| 4 | Q | UNEMPRATE | IRL | 5.2  | 0 | P3M | 2007-Q4 |\n",
       "| 5 | Q | UNEMPRATE | IRL | 5.37 | 0 | P3M | 2008-Q1 |\n",
       "| 6 | Q | UNEMPRATE | IRL | 5.93 | 0 | P3M | 2008-Q2 |\n",
       "\n"
      ],
      "text/plain": [
       "  FREQUENCY INDICATOR LOCATION ObsValue POWERCODE TIME_FORMAT Time   \n",
       "1 Q         UNEMPRATE IRL      4.9      0         P3M         2007-Q1\n",
       "2 Q         UNEMPRATE IRL      5        0         P3M         2007-Q2\n",
       "3 Q         UNEMPRATE IRL      4.9      0         P3M         2007-Q3\n",
       "4 Q         UNEMPRATE IRL      5.2      0         P3M         2007-Q4\n",
       "5 Q         UNEMPRATE IRL      5.37     0         P3M         2008-Q1\n",
       "6 Q         UNEMPRATE IRL      5.93     0         P3M         2008-Q2"
      ]
     },
     "metadata": {},
     "output_type": "display_data"
    }
   ],
   "source": [
    "if (!require(\"readsdmx\")) {\n",
    "    install.packages(\"readsdmx\")\n",
    "    library(readsdmx)\n",
    "}\n",
    "\n",
    "url <-  \"https://stats.oecd.org/restsdmx/sdmx.ashx/GetData/HH_DASH/..Q\"\n",
    "df <- readsdmx::read_sdmx(url)\n",
    "head(df)"
   ]
  },
  {
   "cell_type": "markdown",
   "metadata": {},
   "source": [
    "<a id='ecb'></a>\n",
    "\n",
    "## ecb\n",
    "Provides an interface to the European Central Bank's Statistical Data Warehouse API, allowing for programmatic retrieval of a vast quantity of statistical data.  \n",
    "https://github.com/cran/ecb  \n",
    "  <br>  \n",
    "  \n",
    "Examples:"
   ]
  },
  {
   "cell_type": "code",
   "execution_count": 4,
   "metadata": {
    "vscode": {
     "languageId": "r"
    }
   },
   "outputs": [
    {
     "name": "stderr",
     "output_type": "stream",
     "text": [
      "Loading required package: ecb\n",
      "\n"
     ]
    },
    {
     "data": {
      "text/html": [
       "<dl>\n",
       "\t<dt>$ICP.M.DE.N.000000.4.ANR</dt>\n",
       "\t\t<dd><table class=\"dataframe\">\n",
       "<caption>A data.frame: 6 × 2</caption>\n",
       "<thead>\n",
       "\t<tr><th></th><th scope=col>dim</th><th scope=col>value</th></tr>\n",
       "\t<tr><th></th><th scope=col>&lt;chr&gt;</th><th scope=col>&lt;chr&gt;</th></tr>\n",
       "</thead>\n",
       "<tbody>\n",
       "\t<tr><th scope=row>1</th><td>FREQ           </td><td>M     </td></tr>\n",
       "\t<tr><th scope=row>2</th><td>REF_AREA       </td><td>DE    </td></tr>\n",
       "\t<tr><th scope=row>3</th><td>ADJUSTMENT     </td><td>N     </td></tr>\n",
       "\t<tr><th scope=row>4</th><td>ICP_ITEM       </td><td>000000</td></tr>\n",
       "\t<tr><th scope=row>5</th><td>STS_INSTITUTION</td><td>4     </td></tr>\n",
       "\t<tr><th scope=row>6</th><td>ICP_SUFFIX     </td><td>ANR   </td></tr>\n",
       "</tbody>\n",
       "</table>\n",
       "</dd>\n",
       "\t<dt>$ICP.M.DE.N.XEF000.4.ANR</dt>\n",
       "\t\t<dd><table class=\"dataframe\">\n",
       "<caption>A data.frame: 6 × 2</caption>\n",
       "<thead>\n",
       "\t<tr><th></th><th scope=col>dim</th><th scope=col>value</th></tr>\n",
       "\t<tr><th></th><th scope=col>&lt;chr&gt;</th><th scope=col>&lt;chr&gt;</th></tr>\n",
       "</thead>\n",
       "<tbody>\n",
       "\t<tr><th scope=row>1</th><td>FREQ           </td><td>M     </td></tr>\n",
       "\t<tr><th scope=row>2</th><td>REF_AREA       </td><td>DE    </td></tr>\n",
       "\t<tr><th scope=row>3</th><td>ADJUSTMENT     </td><td>N     </td></tr>\n",
       "\t<tr><th scope=row>4</th><td>ICP_ITEM       </td><td>XEF000</td></tr>\n",
       "\t<tr><th scope=row>5</th><td>STS_INSTITUTION</td><td>4     </td></tr>\n",
       "\t<tr><th scope=row>6</th><td>ICP_SUFFIX     </td><td>ANR   </td></tr>\n",
       "</tbody>\n",
       "</table>\n",
       "</dd>\n",
       "</dl>\n"
      ],
      "text/latex": [
       "\\begin{description}\n",
       "\\item[\\$ICP.M.DE.N.000000.4.ANR] A data.frame: 6 × 2\n",
       "\\begin{tabular}{r|ll}\n",
       "  & dim & value\\\\\n",
       "  & <chr> & <chr>\\\\\n",
       "\\hline\n",
       "\t1 & FREQ            & M     \\\\\n",
       "\t2 & REF\\_AREA        & DE    \\\\\n",
       "\t3 & ADJUSTMENT      & N     \\\\\n",
       "\t4 & ICP\\_ITEM        & 000000\\\\\n",
       "\t5 & STS\\_INSTITUTION & 4     \\\\\n",
       "\t6 & ICP\\_SUFFIX      & ANR   \\\\\n",
       "\\end{tabular}\n",
       "\n",
       "\\item[\\$ICP.M.DE.N.XEF000.4.ANR] A data.frame: 6 × 2\n",
       "\\begin{tabular}{r|ll}\n",
       "  & dim & value\\\\\n",
       "  & <chr> & <chr>\\\\\n",
       "\\hline\n",
       "\t1 & FREQ            & M     \\\\\n",
       "\t2 & REF\\_AREA        & DE    \\\\\n",
       "\t3 & ADJUSTMENT      & N     \\\\\n",
       "\t4 & ICP\\_ITEM        & XEF000\\\\\n",
       "\t5 & STS\\_INSTITUTION & 4     \\\\\n",
       "\t6 & ICP\\_SUFFIX      & ANR   \\\\\n",
       "\\end{tabular}\n",
       "\n",
       "\\end{description}\n"
      ],
      "text/markdown": [
       "$ICP.M.DE.N.000000.4.ANR\n",
       ":   \n",
       "A data.frame: 6 × 2\n",
       "\n",
       "| <!--/--> | dim &lt;chr&gt; | value &lt;chr&gt; |\n",
       "|---|---|---|\n",
       "| 1 | FREQ            | M      |\n",
       "| 2 | REF_AREA        | DE     |\n",
       "| 3 | ADJUSTMENT      | N      |\n",
       "| 4 | ICP_ITEM        | 000000 |\n",
       "| 5 | STS_INSTITUTION | 4      |\n",
       "| 6 | ICP_SUFFIX      | ANR    |\n",
       "\n",
       "\n",
       "$ICP.M.DE.N.XEF000.4.ANR\n",
       ":   \n",
       "A data.frame: 6 × 2\n",
       "\n",
       "| <!--/--> | dim &lt;chr&gt; | value &lt;chr&gt; |\n",
       "|---|---|---|\n",
       "| 1 | FREQ            | M      |\n",
       "| 2 | REF_AREA        | DE     |\n",
       "| 3 | ADJUSTMENT      | N      |\n",
       "| 4 | ICP_ITEM        | XEF000 |\n",
       "| 5 | STS_INSTITUTION | 4      |\n",
       "| 6 | ICP_SUFFIX      | ANR    |\n",
       "\n",
       "\n",
       "\n",
       "\n"
      ],
      "text/plain": [
       "$ICP.M.DE.N.000000.4.ANR\n",
       "              dim  value\n",
       "1            FREQ      M\n",
       "2        REF_AREA     DE\n",
       "3      ADJUSTMENT      N\n",
       "4        ICP_ITEM 000000\n",
       "5 STS_INSTITUTION      4\n",
       "6      ICP_SUFFIX    ANR\n",
       "\n",
       "$ICP.M.DE.N.XEF000.4.ANR\n",
       "              dim  value\n",
       "1            FREQ      M\n",
       "2        REF_AREA     DE\n",
       "3      ADJUSTMENT      N\n",
       "4        ICP_ITEM XEF000\n",
       "5 STS_INSTITUTION      4\n",
       "6      ICP_SUFFIX    ANR\n"
      ]
     },
     "metadata": {},
     "output_type": "display_data"
    },
    {
     "data": {
      "text/html": [
       "<table class=\"dataframe\">\n",
       "<caption>A tibble: 6 × 9</caption>\n",
       "<thead>\n",
       "\t<tr><th></th><th scope=col>freq</th><th scope=col>ref_area</th><th scope=col>adjustment</th><th scope=col>lfs_indicator</th><th scope=col>lfs_breakdown</th><th scope=col>age_breakdown</th><th scope=col>gender</th><th scope=col>obstime</th><th scope=col>obsvalue</th></tr>\n",
       "\t<tr><th></th><th scope=col>&lt;chr&gt;</th><th scope=col>&lt;chr&gt;</th><th scope=col>&lt;chr&gt;</th><th scope=col>&lt;chr&gt;</th><th scope=col>&lt;chr&gt;</th><th scope=col>&lt;chr&gt;</th><th scope=col>&lt;chr&gt;</th><th scope=col>&lt;chr&gt;</th><th scope=col>&lt;dbl&gt;</th></tr>\n",
       "</thead>\n",
       "<tbody>\n",
       "\t<tr><th scope=row>1</th><td>M</td><td>AT</td><td>S</td><td>UNEHRT</td><td>TOTAL0</td><td>15_74</td><td>T</td><td>2000-01</td><td>4.282376</td></tr>\n",
       "\t<tr><th scope=row>2</th><td>M</td><td>AT</td><td>S</td><td>UNEHRT</td><td>TOTAL0</td><td>15_74</td><td>T</td><td>2000-02</td><td>4.262103</td></tr>\n",
       "\t<tr><th scope=row>3</th><td>M</td><td>AT</td><td>S</td><td>UNEHRT</td><td>TOTAL0</td><td>15_74</td><td>T</td><td>2000-03</td><td>4.135780</td></tr>\n",
       "\t<tr><th scope=row>4</th><td>M</td><td>AT</td><td>S</td><td>UNEHRT</td><td>TOTAL0</td><td>15_74</td><td>T</td><td>2000-04</td><td>3.841552</td></tr>\n",
       "\t<tr><th scope=row>5</th><td>M</td><td>AT</td><td>S</td><td>UNEHRT</td><td>TOTAL0</td><td>15_74</td><td>T</td><td>2000-05</td><td>3.666299</td></tr>\n",
       "\t<tr><th scope=row>6</th><td>M</td><td>AT</td><td>S</td><td>UNEHRT</td><td>TOTAL0</td><td>15_74</td><td>T</td><td>2000-06</td><td>3.633573</td></tr>\n",
       "</tbody>\n",
       "</table>\n"
      ],
      "text/latex": [
       "A tibble: 6 × 9\n",
       "\\begin{tabular}{r|lllllllll}\n",
       "  & freq & ref\\_area & adjustment & lfs\\_indicator & lfs\\_breakdown & age\\_breakdown & gender & obstime & obsvalue\\\\\n",
       "  & <chr> & <chr> & <chr> & <chr> & <chr> & <chr> & <chr> & <chr> & <dbl>\\\\\n",
       "\\hline\n",
       "\t1 & M & AT & S & UNEHRT & TOTAL0 & 15\\_74 & T & 2000-01 & 4.282376\\\\\n",
       "\t2 & M & AT & S & UNEHRT & TOTAL0 & 15\\_74 & T & 2000-02 & 4.262103\\\\\n",
       "\t3 & M & AT & S & UNEHRT & TOTAL0 & 15\\_74 & T & 2000-03 & 4.135780\\\\\n",
       "\t4 & M & AT & S & UNEHRT & TOTAL0 & 15\\_74 & T & 2000-04 & 3.841552\\\\\n",
       "\t5 & M & AT & S & UNEHRT & TOTAL0 & 15\\_74 & T & 2000-05 & 3.666299\\\\\n",
       "\t6 & M & AT & S & UNEHRT & TOTAL0 & 15\\_74 & T & 2000-06 & 3.633573\\\\\n",
       "\\end{tabular}\n"
      ],
      "text/markdown": [
       "\n",
       "A tibble: 6 × 9\n",
       "\n",
       "| <!--/--> | freq &lt;chr&gt; | ref_area &lt;chr&gt; | adjustment &lt;chr&gt; | lfs_indicator &lt;chr&gt; | lfs_breakdown &lt;chr&gt; | age_breakdown &lt;chr&gt; | gender &lt;chr&gt; | obstime &lt;chr&gt; | obsvalue &lt;dbl&gt; |\n",
       "|---|---|---|---|---|---|---|---|---|---|\n",
       "| 1 | M | AT | S | UNEHRT | TOTAL0 | 15_74 | T | 2000-01 | 4.282376 |\n",
       "| 2 | M | AT | S | UNEHRT | TOTAL0 | 15_74 | T | 2000-02 | 4.262103 |\n",
       "| 3 | M | AT | S | UNEHRT | TOTAL0 | 15_74 | T | 2000-03 | 4.135780 |\n",
       "| 4 | M | AT | S | UNEHRT | TOTAL0 | 15_74 | T | 2000-04 | 3.841552 |\n",
       "| 5 | M | AT | S | UNEHRT | TOTAL0 | 15_74 | T | 2000-05 | 3.666299 |\n",
       "| 6 | M | AT | S | UNEHRT | TOTAL0 | 15_74 | T | 2000-06 | 3.633573 |\n",
       "\n"
      ],
      "text/plain": [
       "  freq ref_area adjustment lfs_indicator lfs_breakdown age_breakdown gender\n",
       "1 M    AT       S          UNEHRT        TOTAL0        15_74         T     \n",
       "2 M    AT       S          UNEHRT        TOTAL0        15_74         T     \n",
       "3 M    AT       S          UNEHRT        TOTAL0        15_74         T     \n",
       "4 M    AT       S          UNEHRT        TOTAL0        15_74         T     \n",
       "5 M    AT       S          UNEHRT        TOTAL0        15_74         T     \n",
       "6 M    AT       S          UNEHRT        TOTAL0        15_74         T     \n",
       "  obstime obsvalue\n",
       "1 2000-01 4.282376\n",
       "2 2000-02 4.262103\n",
       "3 2000-03 4.135780\n",
       "4 2000-04 3.841552\n",
       "5 2000-05 3.666299\n",
       "6 2000-06 3.633573"
      ]
     },
     "metadata": {},
     "output_type": "display_data"
    }
   ],
   "source": [
    "if (!require(\"ecb\")) {\n",
    "    install.packages(\"ecb\")\n",
    "    library(ecb)\n",
    "}\n",
    "## get dimensions\n",
    "dims <- get_dimensions(\"ICP.M.DE.N.000000+XEF000.4.ANR\")\n",
    "lapply(dims, head)\n",
    "# read some data\n",
    "unemp <- ecb::get_data(\"LFSI.M..S.UNEHRT.TOTAL0.15_74.T\", \n",
    "                 filter = list(startPeriod = \"2000\"))\n",
    "head(unemp)"
   ]
  },
  {
   "cell_type": "markdown",
   "metadata": {},
   "source": [
    "<a id='RJSDMX'></a>\n",
    "\n",
    "## RJSDMX\n",
    "Provides functions to retrieve data and metadata from providers that disseminate data by means of SDMX web services.  \n",
    "https://github.com/amattioc/SDMX/tree/master/RJSDMX  \n",
    "  <br>  \n",
    "\n",
    "_Note: For this package to have it working, a java VM must be installed on the computer!_  \n",
    "\n",
    "\n",
    "  <br>  \n",
    "  \n",
    "Examples:"
   ]
  },
  {
   "cell_type": "code",
   "execution_count": 5,
   "metadata": {
    "vscode": {
     "languageId": "r"
    }
   },
   "outputs": [
    {
     "name": "stderr",
     "output_type": "stream",
     "text": [
      "Loading required package: RJSDMX\n",
      "\n",
      "Loading required package: rJava\n",
      "\n",
      "Loading required package: zoo\n",
      "\n",
      "\n",
      "Attaching package: 'zoo'\n",
      "\n",
      "\n",
      "The following objects are masked from 'package:base':\n",
      "\n",
      "    as.Date, as.Date.numeric\n",
      "\n",
      "\n"
     ]
    },
    {
     "data": {
      "text/html": [
       "<style>\n",
       ".list-inline {list-style: none; margin:0; padding: 0}\n",
       ".list-inline>li {display: inline-block}\n",
       ".list-inline>li:not(:last-child)::after {content: \"\\00b7\"; padding: 0 .5ex}\n",
       "</style>\n",
       "<ol class=list-inline><li>'ABS'</li><li>'ECB'</li><li>'EUROSTAT'</li><li>'ILO'</li><li>'ILO_Legacy'</li><li>'IMF2'</li><li>'IMF_SDMX_CENTRAL'</li><li>'INEGI'</li><li>'INSEE'</li><li>'ISTAT'</li><li>'ISTAT_CENSUS_AGR'</li><li>'ISTAT_CENSUS_IND'</li><li>'ISTAT_CENSUS_POP'</li><li>'NBB'</li><li>'OECD'</li><li>'OECD_RESTR'</li><li>'StatsEE'</li><li>'UIS'</li><li>'UNDATA'</li><li>'WB'</li><li>'WITS'</li></ol>\n"
      ],
      "text/latex": [
       "\\begin{enumerate*}\n",
       "\\item 'ABS'\n",
       "\\item 'ECB'\n",
       "\\item 'EUROSTAT'\n",
       "\\item 'ILO'\n",
       "\\item 'ILO\\_Legacy'\n",
       "\\item 'IMF2'\n",
       "\\item 'IMF\\_SDMX\\_CENTRAL'\n",
       "\\item 'INEGI'\n",
       "\\item 'INSEE'\n",
       "\\item 'ISTAT'\n",
       "\\item 'ISTAT\\_CENSUS\\_AGR'\n",
       "\\item 'ISTAT\\_CENSUS\\_IND'\n",
       "\\item 'ISTAT\\_CENSUS\\_POP'\n",
       "\\item 'NBB'\n",
       "\\item 'OECD'\n",
       "\\item 'OECD\\_RESTR'\n",
       "\\item 'StatsEE'\n",
       "\\item 'UIS'\n",
       "\\item 'UNDATA'\n",
       "\\item 'WB'\n",
       "\\item 'WITS'\n",
       "\\end{enumerate*}\n"
      ],
      "text/markdown": [
       "1. 'ABS'\n",
       "2. 'ECB'\n",
       "3. 'EUROSTAT'\n",
       "4. 'ILO'\n",
       "5. 'ILO_Legacy'\n",
       "6. 'IMF2'\n",
       "7. 'IMF_SDMX_CENTRAL'\n",
       "8. 'INEGI'\n",
       "9. 'INSEE'\n",
       "10. 'ISTAT'\n",
       "11. 'ISTAT_CENSUS_AGR'\n",
       "12. 'ISTAT_CENSUS_IND'\n",
       "13. 'ISTAT_CENSUS_POP'\n",
       "14. 'NBB'\n",
       "15. 'OECD'\n",
       "16. 'OECD_RESTR'\n",
       "17. 'StatsEE'\n",
       "18. 'UIS'\n",
       "19. 'UNDATA'\n",
       "20. 'WB'\n",
       "21. 'WITS'\n",
       "\n",
       "\n"
      ],
      "text/plain": [
       " [1] \"ABS\"              \"ECB\"              \"EUROSTAT\"         \"ILO\"             \n",
       " [5] \"ILO_Legacy\"       \"IMF2\"             \"IMF_SDMX_CENTRAL\" \"INEGI\"           \n",
       " [9] \"INSEE\"            \"ISTAT\"            \"ISTAT_CENSUS_AGR\" \"ISTAT_CENSUS_IND\"\n",
       "[13] \"ISTAT_CENSUS_POP\" \"NBB\"              \"OECD\"             \"OECD_RESTR\"      \n",
       "[17] \"StatsEE\"          \"UIS\"              \"UNDATA\"           \"WB\"              \n",
       "[21] \"WITS\"            "
      ]
     },
     "metadata": {},
     "output_type": "display_data"
    },
    {
     "data": {
      "text/html": [
       "<dl>\n",
       "\t<dt>$`ESTAT,tus_00hhstatus,1.0`</dt>\n",
       "\t\t<dd>'Time spent, participation time and participation rate in the main activity by sex and household composition'</dd>\n",
       "\t<dt>$`ESTAT,lfso_17seworg,1.0`</dt>\n",
       "\t\t<dd>'Self-employed persons having at least one client in the last 12 months by control over working time, and sex'</dd>\n",
       "\t<dt>$`ESTAT,ilc_li06h,1.0`</dt>\n",
       "\t\t<dd>'At-risk-of-poverty rate by poverty threshold and work intensity of the household - ECHP survey'</dd>\n",
       "\t<dt>$`ESTAT,htec_emp_risced,1.0`</dt>\n",
       "\t\t<dd>'Employment in technology and knowledge-intensive sectors by NUTS 1 regions and level of education (1994-2008, NACE Rev. 1.1)'</dd>\n",
       "\t<dt>$`ESTAT,ilc_mddu06b,1.0`</dt>\n",
       "\t\t<dd>'Persons who cannot afford to replace worn-out clothes by some new (not second-hand) ones by employment status and income quintile'</dd>\n",
       "\t<dt>$`ESTAT,tour_dem_tnq,1.0`</dt>\n",
       "\t\t<dd>'Number of nights spent - quarterly data'</dd>\n",
       "</dl>\n"
      ],
      "text/latex": [
       "\\begin{description}\n",
       "\\item[\\$`ESTAT,tus\\_00hhstatus,1.0`] 'Time spent, participation time and participation rate in the main activity by sex and household composition'\n",
       "\\item[\\$`ESTAT,lfso\\_17seworg,1.0`] 'Self-employed persons having at least one client in the last 12 months by control over working time, and sex'\n",
       "\\item[\\$`ESTAT,ilc\\_li06h,1.0`] 'At-risk-of-poverty rate by poverty threshold and work intensity of the household - ECHP survey'\n",
       "\\item[\\$`ESTAT,htec\\_emp\\_risced,1.0`] 'Employment in technology and knowledge-intensive sectors by NUTS 1 regions and level of education (1994-2008, NACE Rev. 1.1)'\n",
       "\\item[\\$`ESTAT,ilc\\_mddu06b,1.0`] 'Persons who cannot afford to replace worn-out clothes by some new (not second-hand) ones by employment status and income quintile'\n",
       "\\item[\\$`ESTAT,tour\\_dem\\_tnq,1.0`] 'Number of nights spent - quarterly data'\n",
       "\\end{description}\n"
      ],
      "text/markdown": [
       "$`ESTAT,tus_00hhstatus,1.0`\n",
       ":   'Time spent, participation time and participation rate in the main activity by sex and household composition'\n",
       "$`ESTAT,lfso_17seworg,1.0`\n",
       ":   'Self-employed persons having at least one client in the last 12 months by control over working time, and sex'\n",
       "$`ESTAT,ilc_li06h,1.0`\n",
       ":   'At-risk-of-poverty rate by poverty threshold and work intensity of the household - ECHP survey'\n",
       "$`ESTAT,htec_emp_risced,1.0`\n",
       ":   'Employment in technology and knowledge-intensive sectors by NUTS 1 regions and level of education (1994-2008, NACE Rev. 1.1)'\n",
       "$`ESTAT,ilc_mddu06b,1.0`\n",
       ":   'Persons who cannot afford to replace worn-out clothes by some new (not second-hand) ones by employment status and income quintile'\n",
       "$`ESTAT,tour_dem_tnq,1.0`\n",
       ":   'Number of nights spent - quarterly data'\n",
       "\n",
       "\n"
      ],
      "text/plain": [
       "$`ESTAT,tus_00hhstatus,1.0`\n",
       "[1] \"Time spent, participation time and participation rate in the main activity by sex and household composition\"\n",
       "\n",
       "$`ESTAT,lfso_17seworg,1.0`\n",
       "[1] \"Self-employed persons having at least one client in the last 12 months by control over working time, and sex\"\n",
       "\n",
       "$`ESTAT,ilc_li06h,1.0`\n",
       "[1] \"At-risk-of-poverty rate by poverty threshold and work intensity of the household - ECHP survey\"\n",
       "\n",
       "$`ESTAT,htec_emp_risced,1.0`\n",
       "[1] \"Employment in technology and knowledge-intensive sectors by NUTS 1 regions and level of education (1994-2008, NACE Rev. 1.1)\"\n",
       "\n",
       "$`ESTAT,ilc_mddu06b,1.0`\n",
       "[1] \"Persons who cannot afford to replace worn-out clothes by some new (not second-hand) ones by employment status and income quintile\"\n",
       "\n",
       "$`ESTAT,tour_dem_tnq,1.0`\n",
       "[1] \"Number of nights spent - quarterly data\"\n"
      ]
     },
     "metadata": {},
     "output_type": "display_data"
    },
    {
     "data": {
      "text/html": [
       "<ol>\n",
       "\t<li><strong>$FREQ</strong> = 'ESTAT/CL_FREQ/1.0'</li>\n",
       "\t<li><strong>$UNIT</strong> = 'ESTAT/CL_UNIT/1.0'</li>\n",
       "\t<li><strong>$COICOP</strong> = 'ESTAT/CL_COICOP/1.0'</li>\n",
       "\t<li><strong>$GEO</strong> = 'ESTAT/CL_GEO/1.0'</li>\n",
       "</ol>\n"
      ],
      "text/latex": [
       "\\begin{enumerate}\n",
       "\\item \\textbf{\\$FREQ} = 'ESTAT/CL\\_FREQ/1.0'\n",
       "\\item \\textbf{\\$UNIT} = 'ESTAT/CL\\_UNIT/1.0'\n",
       "\\item \\textbf{\\$COICOP} = 'ESTAT/CL\\_COICOP/1.0'\n",
       "\\item \\textbf{\\$GEO} = 'ESTAT/CL\\_GEO/1.0'\n",
       "\\end{enumerate}\n"
      ],
      "text/markdown": [
       "1. **$FREQ** = 'ESTAT/CL_FREQ/1.0'\n",
       "2. **$UNIT** = 'ESTAT/CL_UNIT/1.0'\n",
       "3. **$COICOP** = 'ESTAT/CL_COICOP/1.0'\n",
       "4. **$GEO** = 'ESTAT/CL_GEO/1.0'\n",
       "\n",
       "\n"
      ],
      "text/plain": [
       "[[1]]\n",
       "[[1]]$FREQ\n",
       "[1] \"ESTAT/CL_FREQ/1.0\"\n",
       "\n",
       "\n",
       "[[2]]\n",
       "[[2]]$UNIT\n",
       "[1] \"ESTAT/CL_UNIT/1.0\"\n",
       "\n",
       "\n",
       "[[3]]\n",
       "[[3]]$COICOP\n",
       "[1] \"ESTAT/CL_COICOP/1.0\"\n",
       "\n",
       "\n",
       "[[4]]\n",
       "[[4]]$GEO\n",
       "[1] \"ESTAT/CL_GEO/1.0\"\n",
       "\n"
      ]
     },
     "metadata": {},
     "output_type": "display_data"
    },
    {
     "data": {
      "text/plain": [
       "$prc_hicp_midx.M.I05.CP00.DE\n",
       "Jan 2021 Feb 2021 Mar 2021 Apr 2021 May 2021 Jun 2021 Jul 2021 Aug 2021 \n",
       "   125.0    125.7    126.2    126.8    127.2    127.6    128.4    128.5 \n",
       "Sep 2021 Oct 2021 Nov 2021 Dec 2021 Jan 2022 Feb 2022 Mar 2022 Apr 2022 \n",
       "   128.8    129.6    129.8    130.2    131.4    132.5    135.8    136.8 \n",
       "May 2022 \n",
       "   138.3 \n",
       "\n",
       "$prc_hicp_midx.M.I05.CP00.EU\n",
       "Jan 2021 Feb 2021 Mar 2021 Apr 2021 May 2021 Jun 2021 Jul 2021 Aug 2021 \n",
       "  128.96   129.30   130.40   131.15   131.52   131.84   131.88   132.32 \n",
       "Sep 2021 Oct 2021 Nov 2021 Dec 2021 Jan 2022 Feb 2022 Mar 2022 Apr 2022 \n",
       "  132.96   134.14   134.78   135.42   136.15   137.34   140.61   141.78 \n",
       "May 2022 \n",
       "  143.13 \n"
      ]
     },
     "metadata": {},
     "output_type": "display_data"
    }
   ],
   "source": [
    "if (!require(\"RJSDMX\")) {\n",
    "    install.packages(\"RJSDMX\")\n",
    "    library(RJSDMX)\n",
    "}\n",
    "# get providers\n",
    "RJSDMX::getProviders()\n",
    "# datasets\n",
    "head(RJSDMX::getFlows('EUROSTAT'))\n",
    "# dimensions\n",
    "head(RJSDMX::getDimensions('EUROSTAT', 'prc_hicp_midx'))\n",
    "# time series\n",
    "ans <- RJSDMX::getTimeSeries(start = '2021', 'EUROSTAT', 'prc_hicp_midx.M.I05.CP00.EU+DE')\n",
    "ans"
   ]
  },
  {
   "cell_type": "markdown",
   "metadata": {},
   "source": [
    "<a id='restatapi'></a>\n",
    "\n",
    "## restatapi\n",
    "Search and retrieve data from Eurostat database using SDMX.  \n",
    "https://github.com/eurostat/restatapi  \n",
    "  <br>  \n",
    "  \n",
    "Examples:"
   ]
  },
  {
   "cell_type": "code",
   "execution_count": 6,
   "metadata": {
    "vscode": {
     "languageId": "r"
    }
   },
   "outputs": [
    {
     "name": "stderr",
     "output_type": "stream",
     "text": [
      "Loading required package: restatapi\n",
      "\n",
      "restatapi: - version 0.13.3\n",
      "           - config file with the API version 1 loaded from GitHub (the 'current' API version number is 1).\n",
      "           - 2 from the 4 cores are used for parallel computing, can be changed with 'options(restatapi_cores=...)'\n",
      "           - 'libcurl' method will be used for file download, can be changed with 'options(restatapi_dmethod=...)'\n",
      "           - the Table of contents (TOC) was not pre-loaded into the deafult cache ('.restatapi_env').\n",
      "\n"
     ]
    },
    {
     "data": {
      "text/html": [
       "<table class=\"dataframe\">\n",
       "<caption>A data.frame: 1 × 4</caption>\n",
       "<thead>\n",
       "\t<tr><th></th><th scope=col>pattern</th><th scope=col>concept</th><th scope=col>code</th><th scope=col>name</th></tr>\n",
       "\t<tr><th></th><th scope=col>&lt;chr&gt;</th><th scope=col>&lt;chr&gt;</th><th scope=col>&lt;chr&gt;</th><th scope=col>&lt;chr&gt;</th></tr>\n",
       "</thead>\n",
       "<tbody>\n",
       "\t<tr><th scope=row>31</th><td>EU</td><td>GEO</td><td>EU27_2020</td><td>European Union - 27 countries (from 2020)</td></tr>\n",
       "</tbody>\n",
       "</table>\n"
      ],
      "text/latex": [
       "A data.frame: 1 × 4\n",
       "\\begin{tabular}{r|llll}\n",
       "  & pattern & concept & code & name\\\\\n",
       "  & <chr> & <chr> & <chr> & <chr>\\\\\n",
       "\\hline\n",
       "\t31 & EU & GEO & EU27\\_2020 & European Union - 27 countries (from 2020)\\\\\n",
       "\\end{tabular}\n"
      ],
      "text/markdown": [
       "\n",
       "A data.frame: 1 × 4\n",
       "\n",
       "| <!--/--> | pattern &lt;chr&gt; | concept &lt;chr&gt; | code &lt;chr&gt; | name &lt;chr&gt; |\n",
       "|---|---|---|---|---|\n",
       "| 31 | EU | GEO | EU27_2020 | European Union - 27 countries (from 2020) |\n",
       "\n"
      ],
      "text/plain": [
       "   pattern concept code      name                                     \n",
       "31 EU      GEO     EU27_2020 European Union - 27 countries (from 2020)"
      ]
     },
     "metadata": {},
     "output_type": "display_data"
    },
    {
     "data": {
      "text/html": [
       "<table class=\"dataframe\">\n",
       "<caption>A data.table: 6 × 48</caption>\n",
       "<thead>\n",
       "\t<tr><th scope=col>unit,na_item,geo\\time</th><th scope=col>2021</th><th scope=col>2020</th><th scope=col>2019</th><th scope=col>2018</th><th scope=col>2017</th><th scope=col>2016</th><th scope=col>2015</th><th scope=col>2014</th><th scope=col>2013</th><th scope=col>⋯</th><th scope=col>1984</th><th scope=col>1983</th><th scope=col>1982</th><th scope=col>1981</th><th scope=col>1980</th><th scope=col>1979</th><th scope=col>1978</th><th scope=col>1977</th><th scope=col>1976</th><th scope=col>1975</th></tr>\n",
       "\t<tr><th scope=col>&lt;chr&gt;</th><th scope=col>&lt;chr&gt;</th><th scope=col>&lt;chr&gt;</th><th scope=col>&lt;chr&gt;</th><th scope=col>&lt;chr&gt;</th><th scope=col>&lt;chr&gt;</th><th scope=col>&lt;chr&gt;</th><th scope=col>&lt;chr&gt;</th><th scope=col>&lt;chr&gt;</th><th scope=col>&lt;chr&gt;</th><th scope=col>⋯</th><th scope=col>&lt;chr&gt;</th><th scope=col>&lt;chr&gt;</th><th scope=col>&lt;chr&gt;</th><th scope=col>&lt;chr&gt;</th><th scope=col>&lt;chr&gt;</th><th scope=col>&lt;chr&gt;</th><th scope=col>&lt;chr&gt;</th><th scope=col>&lt;chr&gt;</th><th scope=col>&lt;chr&gt;</th><th scope=col>&lt;chr&gt;</th></tr>\n",
       "</thead>\n",
       "<tbody>\n",
       "\t<tr><td>CLV05_MEUR,B1G,AT</td><td>270365.4  </td><td>258371.1  </td><td>277157.2</td><td>273213.7</td><td>266016.9</td><td>259996.4</td><td>255017.1</td><td>252879.7</td><td>251167.1</td><td>⋯</td><td>:</td><td>:</td><td>:</td><td>:</td><td>:</td><td>:</td><td>:</td><td>:</td><td>:</td><td>:</td></tr>\n",
       "\t<tr><td>CLV05_MEUR,B1G,BA</td><td>11154.0   </td><td>10532.2   </td><td>10821.3 </td><td>10515.0 </td><td>10135.1 </td><td>9811.3  </td><td>9511.2  </td><td>9224.4  </td><td>9118.0  </td><td>⋯</td><td>:</td><td>:</td><td>:</td><td>:</td><td>:</td><td>:</td><td>:</td><td>:</td><td>:</td><td>:</td></tr>\n",
       "\t<tr><td>CLV05_MEUR,B1G,BE</td><td>343926.1 p</td><td>324121.0 p</td><td>342250.5</td><td>334846.9</td><td>328736.7</td><td>323677.5</td><td>320657.4</td><td>313684.3</td><td>308495.4</td><td>⋯</td><td>:</td><td>:</td><td>:</td><td>:</td><td>:</td><td>:</td><td>:</td><td>:</td><td>:</td><td>:</td></tr>\n",
       "\t<tr><td>CLV05_MEUR,B1G,BG</td><td>29421.7 p </td><td>28387.3   </td><td>29721.6 </td><td>28654.5 </td><td>27691.2 </td><td>26806.7 </td><td>26129.3 </td><td>25373.6 </td><td>25127.0 </td><td>⋯</td><td>:</td><td>:</td><td>:</td><td>:</td><td>:</td><td>:</td><td>:</td><td>:</td><td>:</td><td>:</td></tr>\n",
       "\t<tr><td>CLV05_MEUR,B1G,CH</td><td>440224.6  </td><td>424629.5  </td><td>434166.1</td><td>428690.5</td><td>415990.3</td><td>409449.3</td><td>401210.1</td><td>394744.2</td><td>385200.1</td><td>⋯</td><td>:</td><td>:</td><td>:</td><td>:</td><td>:</td><td>:</td><td>:</td><td>:</td><td>:</td><td>:</td></tr>\n",
       "\t<tr><td>CLV05_MEUR,B1G,CY</td><td>17298.0 p </td><td>16391.3   </td><td>17251.1 </td><td>16385.4 </td><td>15498.7 </td><td>14637.2 </td><td>13751.8 </td><td>13323.0 </td><td>13571.3 </td><td>⋯</td><td>:</td><td>:</td><td>:</td><td>:</td><td>:</td><td>:</td><td>:</td><td>:</td><td>:</td><td>:</td></tr>\n",
       "</tbody>\n",
       "</table>\n"
      ],
      "text/latex": [
       "A data.table: 6 × 48\n",
       "\\begin{tabular}{lllllllllllllllllllll}\n",
       " unit,na\\_item,geo\\textbackslash{}time & 2021 & 2020 & 2019 & 2018 & 2017 & 2016 & 2015 & 2014 & 2013 & ⋯ & 1984 & 1983 & 1982 & 1981 & 1980 & 1979 & 1978 & 1977 & 1976 & 1975\\\\\n",
       " <chr> & <chr> & <chr> & <chr> & <chr> & <chr> & <chr> & <chr> & <chr> & <chr> & ⋯ & <chr> & <chr> & <chr> & <chr> & <chr> & <chr> & <chr> & <chr> & <chr> & <chr>\\\\\n",
       "\\hline\n",
       "\t CLV05\\_MEUR,B1G,AT & 270365.4   & 258371.1   & 277157.2 & 273213.7 & 266016.9 & 259996.4 & 255017.1 & 252879.7 & 251167.1 & ⋯ & : & : & : & : & : & : & : & : & : & :\\\\\n",
       "\t CLV05\\_MEUR,B1G,BA & 11154.0    & 10532.2    & 10821.3  & 10515.0  & 10135.1  & 9811.3   & 9511.2   & 9224.4   & 9118.0   & ⋯ & : & : & : & : & : & : & : & : & : & :\\\\\n",
       "\t CLV05\\_MEUR,B1G,BE & 343926.1 p & 324121.0 p & 342250.5 & 334846.9 & 328736.7 & 323677.5 & 320657.4 & 313684.3 & 308495.4 & ⋯ & : & : & : & : & : & : & : & : & : & :\\\\\n",
       "\t CLV05\\_MEUR,B1G,BG & 29421.7 p  & 28387.3    & 29721.6  & 28654.5  & 27691.2  & 26806.7  & 26129.3  & 25373.6  & 25127.0  & ⋯ & : & : & : & : & : & : & : & : & : & :\\\\\n",
       "\t CLV05\\_MEUR,B1G,CH & 440224.6   & 424629.5   & 434166.1 & 428690.5 & 415990.3 & 409449.3 & 401210.1 & 394744.2 & 385200.1 & ⋯ & : & : & : & : & : & : & : & : & : & :\\\\\n",
       "\t CLV05\\_MEUR,B1G,CY & 17298.0 p  & 16391.3    & 17251.1  & 16385.4  & 15498.7  & 14637.2  & 13751.8  & 13323.0  & 13571.3  & ⋯ & : & : & : & : & : & : & : & : & : & :\\\\\n",
       "\\end{tabular}\n"
      ],
      "text/markdown": [
       "\n",
       "A data.table: 6 × 48\n",
       "\n",
       "| unit,na_item,geo\\time &lt;chr&gt; | 2021 &lt;chr&gt; | 2020 &lt;chr&gt; | 2019 &lt;chr&gt; | 2018 &lt;chr&gt; | 2017 &lt;chr&gt; | 2016 &lt;chr&gt; | 2015 &lt;chr&gt; | 2014 &lt;chr&gt; | 2013 &lt;chr&gt; | ⋯ ⋯ | 1984 &lt;chr&gt; | 1983 &lt;chr&gt; | 1982 &lt;chr&gt; | 1981 &lt;chr&gt; | 1980 &lt;chr&gt; | 1979 &lt;chr&gt; | 1978 &lt;chr&gt; | 1977 &lt;chr&gt; | 1976 &lt;chr&gt; | 1975 &lt;chr&gt; |\n",
       "|---|---|---|---|---|---|---|---|---|---|---|---|---|---|---|---|---|---|---|---|---|\n",
       "| CLV05_MEUR,B1G,AT | 270365.4   | 258371.1   | 277157.2 | 273213.7 | 266016.9 | 259996.4 | 255017.1 | 252879.7 | 251167.1 | ⋯ | : | : | : | : | : | : | : | : | : | : |\n",
       "| CLV05_MEUR,B1G,BA | 11154.0    | 10532.2    | 10821.3  | 10515.0  | 10135.1  | 9811.3   | 9511.2   | 9224.4   | 9118.0   | ⋯ | : | : | : | : | : | : | : | : | : | : |\n",
       "| CLV05_MEUR,B1G,BE | 343926.1 p | 324121.0 p | 342250.5 | 334846.9 | 328736.7 | 323677.5 | 320657.4 | 313684.3 | 308495.4 | ⋯ | : | : | : | : | : | : | : | : | : | : |\n",
       "| CLV05_MEUR,B1G,BG | 29421.7 p  | 28387.3    | 29721.6  | 28654.5  | 27691.2  | 26806.7  | 26129.3  | 25373.6  | 25127.0  | ⋯ | : | : | : | : | : | : | : | : | : | : |\n",
       "| CLV05_MEUR,B1G,CH | 440224.6   | 424629.5   | 434166.1 | 428690.5 | 415990.3 | 409449.3 | 401210.1 | 394744.2 | 385200.1 | ⋯ | : | : | : | : | : | : | : | : | : | : |\n",
       "| CLV05_MEUR,B1G,CY | 17298.0 p  | 16391.3    | 17251.1  | 16385.4  | 15498.7  | 14637.2  | 13751.8  | 13323.0  | 13571.3  | ⋯ | : | : | : | : | : | : | : | : | : | : |\n",
       "\n"
      ],
      "text/plain": [
       "  unit,na_item,geo\\\\time 2021       2020       2019     2018     2017    \n",
       "1 CLV05_MEUR,B1G,AT      270365.4   258371.1   277157.2 273213.7 266016.9\n",
       "2 CLV05_MEUR,B1G,BA      11154.0    10532.2    10821.3  10515.0  10135.1 \n",
       "3 CLV05_MEUR,B1G,BE      343926.1 p 324121.0 p 342250.5 334846.9 328736.7\n",
       "4 CLV05_MEUR,B1G,BG      29421.7 p  28387.3    29721.6  28654.5  27691.2 \n",
       "5 CLV05_MEUR,B1G,CH      440224.6   424629.5   434166.1 428690.5 415990.3\n",
       "6 CLV05_MEUR,B1G,CY      17298.0 p  16391.3    17251.1  16385.4  15498.7 \n",
       "  2016     2015     2014     2013     ⋯ 1984 1983 1982 1981 1980 1979 1978 1977\n",
       "1 259996.4 255017.1 252879.7 251167.1 ⋯ :    :    :    :    :    :    :    :   \n",
       "2 9811.3   9511.2   9224.4   9118.0   ⋯ :    :    :    :    :    :    :    :   \n",
       "3 323677.5 320657.4 313684.3 308495.4 ⋯ :    :    :    :    :    :    :    :   \n",
       "4 26806.7  26129.3  25373.6  25127.0  ⋯ :    :    :    :    :    :    :    :   \n",
       "5 409449.3 401210.1 394744.2 385200.1 ⋯ :    :    :    :    :    :    :    :   \n",
       "6 14637.2  13751.8  13323.0  13571.3  ⋯ :    :    :    :    :    :    :    :   \n",
       "  1976 1975\n",
       "1 :    :   \n",
       "2 :    :   \n",
       "3 :    :   \n",
       "4 :    :   \n",
       "5 :    :   \n",
       "6 :    :   "
      ]
     },
     "metadata": {},
     "output_type": "display_data"
    },
    {
     "data": {
      "text/html": [
       "<table class=\"dataframe\">\n",
       "<caption>A data.table: 6 × 5</caption>\n",
       "<thead>\n",
       "\t<tr><th scope=col>unit</th><th scope=col>na_item</th><th scope=col>geo</th><th scope=col>time</th><th scope=col>values</th></tr>\n",
       "\t<tr><th scope=col>&lt;fct&gt;</th><th scope=col>&lt;fct&gt;</th><th scope=col>&lt;fct&gt;</th><th scope=col>&lt;fct&gt;</th><th scope=col>&lt;dbl&gt;</th></tr>\n",
       "</thead>\n",
       "<tbody>\n",
       "\t<tr><td>CLV05_MEUR</td><td>B1G</td><td>AT</td><td>1995</td><td>177617.0</td></tr>\n",
       "\t<tr><td>CLV05_MEUR</td><td>B1G</td><td>AT</td><td>1996</td><td>180999.4</td></tr>\n",
       "\t<tr><td>CLV05_MEUR</td><td>B1G</td><td>AT</td><td>1997</td><td>184799.1</td></tr>\n",
       "\t<tr><td>CLV05_MEUR</td><td>B1G</td><td>AT</td><td>1998</td><td>192025.4</td></tr>\n",
       "\t<tr><td>CLV05_MEUR</td><td>B1G</td><td>AT</td><td>1999</td><td>198247.2</td></tr>\n",
       "\t<tr><td>CLV05_MEUR</td><td>B1G</td><td>AT</td><td>2000</td><td>205898.4</td></tr>\n",
       "</tbody>\n",
       "</table>\n"
      ],
      "text/latex": [
       "A data.table: 6 × 5\n",
       "\\begin{tabular}{lllll}\n",
       " unit & na\\_item & geo & time & values\\\\\n",
       " <fct> & <fct> & <fct> & <fct> & <dbl>\\\\\n",
       "\\hline\n",
       "\t CLV05\\_MEUR & B1G & AT & 1995 & 177617.0\\\\\n",
       "\t CLV05\\_MEUR & B1G & AT & 1996 & 180999.4\\\\\n",
       "\t CLV05\\_MEUR & B1G & AT & 1997 & 184799.1\\\\\n",
       "\t CLV05\\_MEUR & B1G & AT & 1998 & 192025.4\\\\\n",
       "\t CLV05\\_MEUR & B1G & AT & 1999 & 198247.2\\\\\n",
       "\t CLV05\\_MEUR & B1G & AT & 2000 & 205898.4\\\\\n",
       "\\end{tabular}\n"
      ],
      "text/markdown": [
       "\n",
       "A data.table: 6 × 5\n",
       "\n",
       "| unit &lt;fct&gt; | na_item &lt;fct&gt; | geo &lt;fct&gt; | time &lt;fct&gt; | values &lt;dbl&gt; |\n",
       "|---|---|---|---|---|\n",
       "| CLV05_MEUR | B1G | AT | 1995 | 177617.0 |\n",
       "| CLV05_MEUR | B1G | AT | 1996 | 180999.4 |\n",
       "| CLV05_MEUR | B1G | AT | 1997 | 184799.1 |\n",
       "| CLV05_MEUR | B1G | AT | 1998 | 192025.4 |\n",
       "| CLV05_MEUR | B1G | AT | 1999 | 198247.2 |\n",
       "| CLV05_MEUR | B1G | AT | 2000 | 205898.4 |\n",
       "\n"
      ],
      "text/plain": [
       "  unit       na_item geo time values  \n",
       "1 CLV05_MEUR B1G     AT  1995 177617.0\n",
       "2 CLV05_MEUR B1G     AT  1996 180999.4\n",
       "3 CLV05_MEUR B1G     AT  1997 184799.1\n",
       "4 CLV05_MEUR B1G     AT  1998 192025.4\n",
       "5 CLV05_MEUR B1G     AT  1999 198247.2\n",
       "6 CLV05_MEUR B1G     AT  2000 205898.4"
      ]
     },
     "metadata": {},
     "output_type": "display_data"
    }
   ],
   "source": [
    "if (!require(\"restatapi\")) {\n",
    "    install.packages(\"restatapi\")\n",
    "    library(restatapi)\n",
    "}\n",
    "# Download the Data Structure Definition (DSD) and search on it\n",
    "dsd <- restatapi::get_eurostat_dsd(\"ei_bsfs_q\")\n",
    "restatapi::search_eurostat_dsd(\"EU\", dsd, name=FALSE)\n",
    "# get some row data as data.table\n",
    "head(restatapi::get_eurostat_raw(\"NAMA_10_GDP\",melt=FALSE))\n",
    "# get some data as data.table\n",
    "head(restatapi::get_eurostat_data(\"NAMA_10_GDP\"))"
   ]
  },
  {
   "cell_type": "markdown",
   "metadata": {},
   "source": [
    "<a id='giscoR'></a>\n",
    "\n",
    "## giscoR\n",
    "giscoR is an API package that helps to retrieve data from Eurostat - GISCO (the Geographic Information System of the COmmission). It also provides some lightweight data sets ready to use without downloading.  \n",
    "https://github.com/rOpenGov/giscoR  \n",
    "  <br>  \n",
    "  \n",
    "Examples:"
   ]
  },
  {
   "cell_type": "code",
   "execution_count": 8,
   "metadata": {
    "vscode": {
     "languageId": "r"
    }
   },
   "outputs": [
    {
     "name": "stderr",
     "output_type": "stream",
     "text": [
      "Warning message in st_point_on_surface.sfc(sf::st_zm(x)):\n",
      "\"st_point_on_surface may not give correct results for longitude/latitude data\"\n"
     ]
    },
    {
     "data": {
      "image/png": "[encoded data removed]",
      "text/plain": [
       "plot without title"
      ]
     },
     "metadata": {
      "image/png": {
       "height": 420,
       "width": 420
      }
     },
     "output_type": "display_data"
    }
   ],
   "source": [
    "if (!require(\"giscoR\")) {\n",
    "    install.packages(\"giscoR\")\n",
    "    library(giscoR)\n",
    "}\n",
    "if (!require(\"ggplot2\")) {\n",
    "    install.packages(\"ggplot2\")\n",
    "    library(ggplot2)\n",
    "}\n",
    "\n",
    "ITA <- gisco_get_nuts(country = \"Italy\", nuts_level = 1)\n",
    "ggplot(ITA) +\n",
    "  geom_sf() +\n",
    "  geom_sf_text(aes(label = NAME_LATN)) +\n",
    "  theme(axis.title = element_blank())"
   ]
  },
  {
   "cell_type": "markdown",
   "metadata": {},
   "source": [
    "<!--NAVIGATION-->\n",
    "<span style='background: rgb(128, 128, 128, .15); width: 100%; display: block; padding: 10px 0 10px 10px'>< [Read Data](03.01-Read-Data.ipynb) | [Contents](00.00-Index.ipynb) | [Quiz 3](03.03-Quiz.ipynb) > [Top](#top) ^ </span>"
   ]
  },
  {
   "cell_type": "markdown",
   "metadata": {},
   "source": [
    "<span style='background: rgb(128, 128, 128, .15); width: 100%; display: block; padding: 10px 0 10px 10px'>This is the Jupyter notebook version of the __Python for Official Statistics__ produced by Eurostat; the content is available [on GitHub](https://github.com/eurostat/e-learning/tree/main/python-official-statistics).\n",
    "<br>The text and code are released under the [EUPL-1.2 license](https://github.com/eurostat/e-learning/blob/main/LICENSE).</span>"
   ]
  }
 ],
 "metadata": {
  "anaconda-cloud": {},
  "kernelspec": {
   "display_name": "R",
   "language": "R",
   "name": "ir"
  },
  "language_info": {
   "codemirror_mode": "r",
   "file_extension": ".r",
   "mimetype": "text/x-r-source",
   "name": "R",
   "pygments_lexer": "r",
   "version": "4.2.0"
  }
 },
 "nbformat": 4,
 "nbformat_minor": 4
}
