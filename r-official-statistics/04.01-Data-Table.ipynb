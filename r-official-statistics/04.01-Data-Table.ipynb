{
 "cells": [
  {
   "cell_type": "markdown",
   "metadata": {},
   "source": [
    "<!--NAVIGATION-->\n",
    "<span style='background: rgb(128, 128, 128, .15); width: 100%; display: block; padding: 10px 0 10px 10px'>< [Quiz](03.03-Quiz.ipynb) | [Contents](00.00-Index.ipynb) | [JDemetra](04.02-JDemetra.ipynb) ></span>\n",
    "\n",
    "<a href=\"https://colab.research.google.com/github/eurostat/e-learning/blob/main/r-official-statistics/04.01-Data-Table.ipynb\"><img align=\"left\" src=\"https://colab.research.google.com/assets/colab-badge.svg\" alt=\"Open in Colab\" title=\"Open and Execute in Google Colaboratory\"></a>\n"
   ]
  },
  {
   "cell_type": "markdown",
   "metadata": {},
   "source": [
    "<a id='top'></a>\n",
    "\n",
    "# Data Processing\n",
    "## Content  \n",
    "- [Data Processing with data.frame](#dframe)\n",
    " - [Handling missing data](#miss)\n",
    " - [Identify and Remove Duplicate Data](#dup)\n",
    " - [Reshaping Your Data with tidyr](#tidyr)\n",
    " - [Transforming Your Data with dplyr](#dplyr)\n",
    "- [data.table Package](#dtable)\n",
    "- [data.table vs. data.frame](#versus)\n"
   ]
  },
  {
   "cell_type": "markdown",
   "metadata": {},
   "source": [
    "<a id='dframe'></a>\n",
    "\n",
    "## Data Processing with data.frame\n",
    "data.frame is the most important data structure used for data analisys, but is not the most efficient. Later in the chapter we will present data.table, an improvement structure similar to data.frame, with the most important differences in usage.  \n",
    "But for now let us show some of the most important use cases in dealing with two dimensional data in data.frame structures.  \n",
    "\n",
    "<a id='miss'></a>\n",
    "\n",
    "### Handling missing data\n",
    "A common task in data analysis is dealing with missing values. In R, missing values are often represented by NA or some other value that represents missing values (i.e. 99)."
   ]
  },
  {
   "cell_type": "markdown",
   "metadata": {},
   "source": [
    "#### Test for missing values\n",
    "To identify missing values use is.na() function which returns a logical vector with TRUE in the element locations that contain missing values represented by NA. is.na() will work on vectors, lists, matrices, and data frames."
   ]
  },
  {
   "cell_type": "code",
   "execution_count": 1,
   "metadata": {
    "vscode": {
     "languageId": "r"
    }
   },
   "outputs": [
    {
     "data": {
      "text/html": [
       "<style>\n",
       ".list-inline {list-style: none; margin:0; padding: 0}\n",
       ".list-inline>li {display: inline-block}\n",
       ".list-inline>li:not(:last-child)::after {content: \"\\00b7\"; padding: 0 .5ex}\n",
       "</style>\n",
       "<ol class=list-inline><li>1</li><li>2</li><li>3</li><li>4</li><li>&lt;NA&gt;</li><li>6</li><li>7</li><li>&lt;NA&gt;</li></ol>\n"
      ],
      "text/latex": [
       "\\begin{enumerate*}\n",
       "\\item 1\n",
       "\\item 2\n",
       "\\item 3\n",
       "\\item 4\n",
       "\\item <NA>\n",
       "\\item 6\n",
       "\\item 7\n",
       "\\item <NA>\n",
       "\\end{enumerate*}\n"
      ],
      "text/markdown": [
       "1. 1\n",
       "2. 2\n",
       "3. 3\n",
       "4. 4\n",
       "5. &lt;NA&gt;\n",
       "6. 6\n",
       "7. 7\n",
       "8. &lt;NA&gt;\n",
       "\n",
       "\n"
      ],
      "text/plain": [
       "[1]  1  2  3  4 NA  6  7 NA"
      ]
     },
     "metadata": {},
     "output_type": "display_data"
    },
    {
     "data": {
      "text/html": [
       "<style>\n",
       ".list-inline {list-style: none; margin:0; padding: 0}\n",
       ".list-inline>li {display: inline-block}\n",
       ".list-inline>li:not(:last-child)::after {content: \"\\00b7\"; padding: 0 .5ex}\n",
       "</style>\n",
       "<ol class=list-inline><li>FALSE</li><li>FALSE</li><li>FALSE</li><li>FALSE</li><li>TRUE</li><li>FALSE</li><li>FALSE</li><li>TRUE</li></ol>\n"
      ],
      "text/latex": [
       "\\begin{enumerate*}\n",
       "\\item FALSE\n",
       "\\item FALSE\n",
       "\\item FALSE\n",
       "\\item FALSE\n",
       "\\item TRUE\n",
       "\\item FALSE\n",
       "\\item FALSE\n",
       "\\item TRUE\n",
       "\\end{enumerate*}\n"
      ],
      "text/markdown": [
       "1. FALSE\n",
       "2. FALSE\n",
       "3. FALSE\n",
       "4. FALSE\n",
       "5. TRUE\n",
       "6. FALSE\n",
       "7. FALSE\n",
       "8. TRUE\n",
       "\n",
       "\n"
      ],
      "text/plain": [
       "[1] FALSE FALSE FALSE FALSE  TRUE FALSE FALSE  TRUE"
      ]
     },
     "metadata": {},
     "output_type": "display_data"
    },
    {
     "data": {
      "text/html": [
       "<table class=\"dataframe\">\n",
       "<caption>A data.frame: 4 × 4</caption>\n",
       "<thead>\n",
       "\t<tr><th scope=col>col1</th><th scope=col>col2</th><th scope=col>col3</th><th scope=col>col4</th></tr>\n",
       "\t<tr><th scope=col>&lt;int&gt;</th><th scope=col>&lt;chr&gt;</th><th scope=col>&lt;lgl&gt;</th><th scope=col>&lt;dbl&gt;</th></tr>\n",
       "</thead>\n",
       "<tbody>\n",
       "\t<tr><td> 1</td><td>this</td><td> TRUE</td><td>2.5</td></tr>\n",
       "\t<tr><td> 2</td><td>NA  </td><td>FALSE</td><td>4.2</td></tr>\n",
       "\t<tr><td> 3</td><td>is  </td><td> TRUE</td><td>3.2</td></tr>\n",
       "\t<tr><td>NA</td><td>text</td><td> TRUE</td><td> NA</td></tr>\n",
       "</tbody>\n",
       "</table>\n"
      ],
      "text/latex": [
       "A data.frame: 4 × 4\n",
       "\\begin{tabular}{llll}\n",
       " col1 & col2 & col3 & col4\\\\\n",
       " <int> & <chr> & <lgl> & <dbl>\\\\\n",
       "\\hline\n",
       "\t  1 & this &  TRUE & 2.5\\\\\n",
       "\t  2 & NA   & FALSE & 4.2\\\\\n",
       "\t  3 & is   &  TRUE & 3.2\\\\\n",
       "\t NA & text &  TRUE &  NA\\\\\n",
       "\\end{tabular}\n"
      ],
      "text/markdown": [
       "\n",
       "A data.frame: 4 × 4\n",
       "\n",
       "| col1 &lt;int&gt; | col2 &lt;chr&gt; | col3 &lt;lgl&gt; | col4 &lt;dbl&gt; |\n",
       "|---|---|---|---|\n",
       "|  1 | this |  TRUE | 2.5 |\n",
       "|  2 | NA   | FALSE | 4.2 |\n",
       "|  3 | is   |  TRUE | 3.2 |\n",
       "| NA | text |  TRUE |  NA |\n",
       "\n"
      ],
      "text/plain": [
       "  col1 col2 col3  col4\n",
       "1  1   this  TRUE 2.5 \n",
       "2  2   NA   FALSE 4.2 \n",
       "3  3   is    TRUE 3.2 \n",
       "4 NA   text  TRUE  NA "
      ]
     },
     "metadata": {},
     "output_type": "display_data"
    },
    {
     "data": {
      "text/html": [
       "<table class=\"dataframe\">\n",
       "<caption>A matrix: 4 × 4 of type lgl</caption>\n",
       "<thead>\n",
       "\t<tr><th scope=col>col1</th><th scope=col>col2</th><th scope=col>col3</th><th scope=col>col4</th></tr>\n",
       "</thead>\n",
       "<tbody>\n",
       "\t<tr><td>FALSE</td><td>FALSE</td><td>FALSE</td><td>FALSE</td></tr>\n",
       "\t<tr><td>FALSE</td><td> TRUE</td><td>FALSE</td><td>FALSE</td></tr>\n",
       "\t<tr><td>FALSE</td><td>FALSE</td><td>FALSE</td><td>FALSE</td></tr>\n",
       "\t<tr><td> TRUE</td><td>FALSE</td><td>FALSE</td><td> TRUE</td></tr>\n",
       "</tbody>\n",
       "</table>\n"
      ],
      "text/latex": [
       "A matrix: 4 × 4 of type lgl\n",
       "\\begin{tabular}{llll}\n",
       " col1 & col2 & col3 & col4\\\\\n",
       "\\hline\n",
       "\t FALSE & FALSE & FALSE & FALSE\\\\\n",
       "\t FALSE &  TRUE & FALSE & FALSE\\\\\n",
       "\t FALSE & FALSE & FALSE & FALSE\\\\\n",
       "\t  TRUE & FALSE & FALSE &  TRUE\\\\\n",
       "\\end{tabular}\n"
      ],
      "text/markdown": [
       "\n",
       "A matrix: 4 × 4 of type lgl\n",
       "\n",
       "| col1 | col2 | col3 | col4 |\n",
       "|---|---|---|---|\n",
       "| FALSE | FALSE | FALSE | FALSE |\n",
       "| FALSE |  TRUE | FALSE | FALSE |\n",
       "| FALSE | FALSE | FALSE | FALSE |\n",
       "|  TRUE | FALSE | FALSE |  TRUE |\n",
       "\n"
      ],
      "text/plain": [
       "     col1  col2  col3  col4 \n",
       "[1,] FALSE FALSE FALSE FALSE\n",
       "[2,] FALSE  TRUE FALSE FALSE\n",
       "[3,] FALSE FALSE FALSE FALSE\n",
       "[4,]  TRUE FALSE FALSE  TRUE"
      ]
     },
     "metadata": {},
     "output_type": "display_data"
    },
    {
     "data": {
      "text/html": [
       "<style>\n",
       ".list-inline {list-style: none; margin:0; padding: 0}\n",
       ".list-inline>li {display: inline-block}\n",
       ".list-inline>li:not(:last-child)::after {content: \"\\00b7\"; padding: 0 .5ex}\n",
       "</style>\n",
       "<ol class=list-inline><li>FALSE</li><li>FALSE</li><li>FALSE</li><li>TRUE</li></ol>\n"
      ],
      "text/latex": [
       "\\begin{enumerate*}\n",
       "\\item FALSE\n",
       "\\item FALSE\n",
       "\\item FALSE\n",
       "\\item TRUE\n",
       "\\end{enumerate*}\n"
      ],
      "text/markdown": [
       "1. FALSE\n",
       "2. FALSE\n",
       "3. FALSE\n",
       "4. TRUE\n",
       "\n",
       "\n"
      ],
      "text/plain": [
       "[1] FALSE FALSE FALSE  TRUE"
      ]
     },
     "metadata": {},
     "output_type": "display_data"
    }
   ],
   "source": [
    "# vector with missing data\n",
    "x <- c(1:4, NA, 6:7, NA)\n",
    "x\n",
    "# identify NAs in vector\n",
    "is.na(x)\n",
    "\n",
    "# data frame with missing data\n",
    "df1 <- data.frame(col1 = c(1:3, NA),\n",
    "                 col2 = c(\"this\", NA, \"is\", \"text\"), \n",
    "                 col3 = c(TRUE, FALSE, TRUE, TRUE), \n",
    "                 col4 = c(2.5, 4.2, 3.2, NA),\n",
    "                 stringsAsFactors = FALSE)\n",
    "df1\n",
    "# identify NAs in full data frame\n",
    "is.na(df1)\n",
    "# identify NAs in specific data frame column\n",
    "is.na(df1$col4)"
   ]
  },
  {
   "cell_type": "markdown",
   "metadata": {},
   "source": [
    "To identify the location or the number of NAs we can leverage the which() and sum() functions:"
   ]
  },
  {
   "cell_type": "code",
   "execution_count": 2,
   "metadata": {
    "vscode": {
     "languageId": "r"
    }
   },
   "outputs": [
    {
     "data": {
      "text/html": [
       "<style>\n",
       ".list-inline {list-style: none; margin:0; padding: 0}\n",
       ".list-inline>li {display: inline-block}\n",
       ".list-inline>li:not(:last-child)::after {content: \"\\00b7\"; padding: 0 .5ex}\n",
       "</style>\n",
       "<ol class=list-inline><li>5</li><li>8</li></ol>\n"
      ],
      "text/latex": [
       "\\begin{enumerate*}\n",
       "\\item 5\n",
       "\\item 8\n",
       "\\end{enumerate*}\n"
      ],
      "text/markdown": [
       "1. 5\n",
       "2. 8\n",
       "\n",
       "\n"
      ],
      "text/plain": [
       "[1] 5 8"
      ]
     },
     "metadata": {},
     "output_type": "display_data"
    },
    {
     "data": {
      "text/html": [
       "3"
      ],
      "text/latex": [
       "3"
      ],
      "text/markdown": [
       "3"
      ],
      "text/plain": [
       "[1] 3"
      ]
     },
     "metadata": {},
     "output_type": "display_data"
    }
   ],
   "source": [
    "# identify location of NAs in vector\n",
    "which(is.na(x))\n",
    "\n",
    "# identify count of NAs in data frame\n",
    "sum(is.na(df1))"
   ]
  },
  {
   "cell_type": "markdown",
   "metadata": {},
   "source": [
    "For data frames, a convenient shortcut to compute the total missing values in each column is to use colSums():"
   ]
  },
  {
   "cell_type": "code",
   "execution_count": 3,
   "metadata": {
    "vscode": {
     "languageId": "r"
    }
   },
   "outputs": [
    {
     "data": {
      "text/html": [
       "<style>\n",
       ".dl-inline {width: auto; margin:0; padding: 0}\n",
       ".dl-inline>dt, .dl-inline>dd {float: none; width: auto; display: inline-block}\n",
       ".dl-inline>dt::after {content: \":\\0020\"; padding-right: .5ex}\n",
       ".dl-inline>dt:not(:first-of-type) {padding-left: .5ex}\n",
       "</style><dl class=dl-inline><dt>col1</dt><dd>1</dd><dt>col2</dt><dd>1</dd><dt>col3</dt><dd>0</dd><dt>col4</dt><dd>1</dd></dl>\n"
      ],
      "text/latex": [
       "\\begin{description*}\n",
       "\\item[col1] 1\n",
       "\\item[col2] 1\n",
       "\\item[col3] 0\n",
       "\\item[col4] 1\n",
       "\\end{description*}\n"
      ],
      "text/markdown": [
       "col1\n",
       ":   1col2\n",
       ":   1col3\n",
       ":   0col4\n",
       ":   1\n",
       "\n"
      ],
      "text/plain": [
       "col1 col2 col3 col4 \n",
       "   1    1    0    1 "
      ]
     },
     "metadata": {},
     "output_type": "display_data"
    }
   ],
   "source": [
    "colSums(is.na(df1))"
   ]
  },
  {
   "cell_type": "markdown",
   "metadata": {},
   "source": [
    "#### Recode missing values\n",
    "To recode missing values, or a value that represent missing values, we can use normal subsetting and assignment operations. For example, we can recode missing values in vector x with the mean values in x by first subsetting the vector to identify NAs and then assign these elements a value. Similarly, if missing values are represented by another value (i.e. 99) we can simply subset the data for the elements that contain that value and then assign a desired value to those elements."
   ]
  },
  {
   "cell_type": "code",
   "execution_count": 4,
   "metadata": {
    "vscode": {
     "languageId": "r"
    }
   },
   "outputs": [
    {
     "data": {
      "text/html": [
       "<style>\n",
       ".list-inline {list-style: none; margin:0; padding: 0}\n",
       ".list-inline>li {display: inline-block}\n",
       ".list-inline>li:not(:last-child)::after {content: \"\\00b7\"; padding: 0 .5ex}\n",
       "</style>\n",
       "<ol class=list-inline><li>1</li><li>2</li><li>3</li><li>4</li><li>&lt;NA&gt;</li><li>6</li><li>7</li><li>&lt;NA&gt;</li></ol>\n"
      ],
      "text/latex": [
       "\\begin{enumerate*}\n",
       "\\item 1\n",
       "\\item 2\n",
       "\\item 3\n",
       "\\item 4\n",
       "\\item <NA>\n",
       "\\item 6\n",
       "\\item 7\n",
       "\\item <NA>\n",
       "\\end{enumerate*}\n"
      ],
      "text/markdown": [
       "1. 1\n",
       "2. 2\n",
       "3. 3\n",
       "4. 4\n",
       "5. &lt;NA&gt;\n",
       "6. 6\n",
       "7. 7\n",
       "8. &lt;NA&gt;\n",
       "\n",
       "\n"
      ],
      "text/plain": [
       "[1]  1  2  3  4 NA  6  7 NA"
      ]
     },
     "metadata": {},
     "output_type": "display_data"
    },
    {
     "data": {
      "text/html": [
       "<style>\n",
       ".list-inline {list-style: none; margin:0; padding: 0}\n",
       ".list-inline>li {display: inline-block}\n",
       ".list-inline>li:not(:last-child)::after {content: \"\\00b7\"; padding: 0 .5ex}\n",
       "</style>\n",
       "<ol class=list-inline><li>1</li><li>2</li><li>3</li><li>4</li><li>3.83</li><li>6</li><li>7</li><li>3.83</li></ol>\n"
      ],
      "text/latex": [
       "\\begin{enumerate*}\n",
       "\\item 1\n",
       "\\item 2\n",
       "\\item 3\n",
       "\\item 4\n",
       "\\item 3.83\n",
       "\\item 6\n",
       "\\item 7\n",
       "\\item 3.83\n",
       "\\end{enumerate*}\n"
      ],
      "text/markdown": [
       "1. 1\n",
       "2. 2\n",
       "3. 3\n",
       "4. 4\n",
       "5. 3.83\n",
       "6. 6\n",
       "7. 7\n",
       "8. 3.83\n",
       "\n",
       "\n"
      ],
      "text/plain": [
       "[1] 1.00 2.00 3.00 4.00 3.83 6.00 7.00 3.83"
      ]
     },
     "metadata": {},
     "output_type": "display_data"
    },
    {
     "data": {
      "text/html": [
       "<table class=\"dataframe\">\n",
       "<caption>A data.frame: 4 × 4</caption>\n",
       "<thead>\n",
       "\t<tr><th scope=col>col1</th><th scope=col>col2</th><th scope=col>col3</th><th scope=col>col4</th></tr>\n",
       "\t<tr><th scope=col>&lt;int&gt;</th><th scope=col>&lt;chr&gt;</th><th scope=col>&lt;lgl&gt;</th><th scope=col>&lt;dbl&gt;</th></tr>\n",
       "</thead>\n",
       "<tbody>\n",
       "\t<tr><td> 1</td><td>this</td><td> TRUE</td><td>2.5</td></tr>\n",
       "\t<tr><td> 2</td><td>NA  </td><td>FALSE</td><td>4.2</td></tr>\n",
       "\t<tr><td> 3</td><td>is  </td><td> TRUE</td><td>3.2</td></tr>\n",
       "\t<tr><td>NA</td><td>text</td><td> TRUE</td><td>3.3</td></tr>\n",
       "</tbody>\n",
       "</table>\n"
      ],
      "text/latex": [
       "A data.frame: 4 × 4\n",
       "\\begin{tabular}{llll}\n",
       " col1 & col2 & col3 & col4\\\\\n",
       " <int> & <chr> & <lgl> & <dbl>\\\\\n",
       "\\hline\n",
       "\t  1 & this &  TRUE & 2.5\\\\\n",
       "\t  2 & NA   & FALSE & 4.2\\\\\n",
       "\t  3 & is   &  TRUE & 3.2\\\\\n",
       "\t NA & text &  TRUE & 3.3\\\\\n",
       "\\end{tabular}\n"
      ],
      "text/markdown": [
       "\n",
       "A data.frame: 4 × 4\n",
       "\n",
       "| col1 &lt;int&gt; | col2 &lt;chr&gt; | col3 &lt;lgl&gt; | col4 &lt;dbl&gt; |\n",
       "|---|---|---|---|\n",
       "|  1 | this |  TRUE | 2.5 |\n",
       "|  2 | NA   | FALSE | 4.2 |\n",
       "|  3 | is   |  TRUE | 3.2 |\n",
       "| NA | text |  TRUE | 3.3 |\n",
       "\n"
      ],
      "text/plain": [
       "  col1 col2 col3  col4\n",
       "1  1   this  TRUE 2.5 \n",
       "2  2   NA   FALSE 4.2 \n",
       "3  3   is    TRUE 3.2 \n",
       "4 NA   text  TRUE 3.3 "
      ]
     },
     "metadata": {},
     "output_type": "display_data"
    },
    {
     "data": {
      "text/html": [
       "<table class=\"dataframe\">\n",
       "<caption>A data.frame: 4 × 2</caption>\n",
       "<thead>\n",
       "\t<tr><th scope=col>col1</th><th scope=col>col2</th></tr>\n",
       "\t<tr><th scope=col>&lt;dbl&gt;</th><th scope=col>&lt;dbl&gt;</th></tr>\n",
       "</thead>\n",
       "<tbody>\n",
       "\t<tr><td> 1</td><td> 2.5</td></tr>\n",
       "\t<tr><td> 2</td><td> 4.2</td></tr>\n",
       "\t<tr><td> 3</td><td>99.0</td></tr>\n",
       "\t<tr><td>99</td><td> 3.2</td></tr>\n",
       "</tbody>\n",
       "</table>\n"
      ],
      "text/latex": [
       "A data.frame: 4 × 2\n",
       "\\begin{tabular}{ll}\n",
       " col1 & col2\\\\\n",
       " <dbl> & <dbl>\\\\\n",
       "\\hline\n",
       "\t  1 &  2.5\\\\\n",
       "\t  2 &  4.2\\\\\n",
       "\t  3 & 99.0\\\\\n",
       "\t 99 &  3.2\\\\\n",
       "\\end{tabular}\n"
      ],
      "text/markdown": [
       "\n",
       "A data.frame: 4 × 2\n",
       "\n",
       "| col1 &lt;dbl&gt; | col2 &lt;dbl&gt; |\n",
       "|---|---|\n",
       "|  1 |  2.5 |\n",
       "|  2 |  4.2 |\n",
       "|  3 | 99.0 |\n",
       "| 99 |  3.2 |\n",
       "\n"
      ],
      "text/plain": [
       "  col1 col2\n",
       "1  1    2.5\n",
       "2  2    4.2\n",
       "3  3   99.0\n",
       "4 99    3.2"
      ]
     },
     "metadata": {},
     "output_type": "display_data"
    },
    {
     "data": {
      "text/html": [
       "<table class=\"dataframe\">\n",
       "<caption>A data.frame: 4 × 2</caption>\n",
       "<thead>\n",
       "\t<tr><th scope=col>col1</th><th scope=col>col2</th></tr>\n",
       "\t<tr><th scope=col>&lt;dbl&gt;</th><th scope=col>&lt;dbl&gt;</th></tr>\n",
       "</thead>\n",
       "<tbody>\n",
       "\t<tr><td> 1</td><td>2.5</td></tr>\n",
       "\t<tr><td> 2</td><td>4.2</td></tr>\n",
       "\t<tr><td> 3</td><td> NA</td></tr>\n",
       "\t<tr><td>NA</td><td>3.2</td></tr>\n",
       "</tbody>\n",
       "</table>\n"
      ],
      "text/latex": [
       "A data.frame: 4 × 2\n",
       "\\begin{tabular}{ll}\n",
       " col1 & col2\\\\\n",
       " <dbl> & <dbl>\\\\\n",
       "\\hline\n",
       "\t  1 & 2.5\\\\\n",
       "\t  2 & 4.2\\\\\n",
       "\t  3 &  NA\\\\\n",
       "\t NA & 3.2\\\\\n",
       "\\end{tabular}\n"
      ],
      "text/markdown": [
       "\n",
       "A data.frame: 4 × 2\n",
       "\n",
       "| col1 &lt;dbl&gt; | col2 &lt;dbl&gt; |\n",
       "|---|---|\n",
       "|  1 | 2.5 |\n",
       "|  2 | 4.2 |\n",
       "|  3 |  NA |\n",
       "| NA | 3.2 |\n",
       "\n"
      ],
      "text/plain": [
       "  col1 col2\n",
       "1  1   2.5 \n",
       "2  2   4.2 \n",
       "3  3    NA \n",
       "4 NA   3.2 "
      ]
     },
     "metadata": {},
     "output_type": "display_data"
    }
   ],
   "source": [
    "# recode missing values with the mean\n",
    "# vector with missing data\n",
    "x\n",
    "# recode in vector and add some round adjustment\n",
    "x[is.na(x)] <- mean(x, na.rm = TRUE)\n",
    "round(x, 2)\n",
    "# recode in a data.frame column\n",
    "df1$col4[is.na(df1$col4)] <- mean(df1$col4, na.rm = TRUE)\n",
    "df1\n",
    "# data frame that codes missing values as 99\n",
    "df2 <- data.frame(col1 = c(1:3, 99), col2 = c(2.5, 4.2, 99, 3.2))\n",
    "df2\n",
    "# change 99s to NAs\n",
    "df2[df2 == 99] <- NA\n",
    "df2"
   ]
  },
  {
   "cell_type": "markdown",
   "metadata": {},
   "source": [
    "#### Exclude missing values\n",
    "We can exclude missing values in a couple different ways. First, if we want to exclude missing values from mathematical operations use the na.rm = TRUE argument. If you do not exclude these values most functions will return an NA."
   ]
  },
  {
   "cell_type": "code",
   "execution_count": 5,
   "metadata": {
    "vscode": {
     "languageId": "r"
    }
   },
   "outputs": [
    {
     "data": {
      "text/html": [
       "<style>\n",
       ".list-inline {list-style: none; margin:0; padding: 0}\n",
       ".list-inline>li {display: inline-block}\n",
       ".list-inline>li:not(:last-child)::after {content: \"\\00b7\"; padding: 0 .5ex}\n",
       "</style>\n",
       "<ol class=list-inline><li>1</li><li>2</li><li>3</li><li>4</li><li>&lt;NA&gt;</li><li>6</li><li>7</li><li>&lt;NA&gt;</li></ol>\n"
      ],
      "text/latex": [
       "\\begin{enumerate*}\n",
       "\\item 1\n",
       "\\item 2\n",
       "\\item 3\n",
       "\\item 4\n",
       "\\item <NA>\n",
       "\\item 6\n",
       "\\item 7\n",
       "\\item <NA>\n",
       "\\end{enumerate*}\n"
      ],
      "text/markdown": [
       "1. 1\n",
       "2. 2\n",
       "3. 3\n",
       "4. 4\n",
       "5. &lt;NA&gt;\n",
       "6. 6\n",
       "7. 7\n",
       "8. &lt;NA&gt;\n",
       "\n",
       "\n"
      ],
      "text/plain": [
       "[1]  1  2  3  4 NA  6  7 NA"
      ]
     },
     "metadata": {},
     "output_type": "display_data"
    },
    {
     "data": {
      "text/html": [
       "&lt;NA&gt;"
      ],
      "text/latex": [
       "<NA>"
      ],
      "text/markdown": [
       "&lt;NA&gt;"
      ],
      "text/plain": [
       "[1] NA"
      ]
     },
     "metadata": {},
     "output_type": "display_data"
    },
    {
     "data": {
      "text/html": [
       "3.83333333333333"
      ],
      "text/latex": [
       "3.83333333333333"
      ],
      "text/markdown": [
       "3.83333333333333"
      ],
      "text/plain": [
       "[1] 3.833333"
      ]
     },
     "metadata": {},
     "output_type": "display_data"
    }
   ],
   "source": [
    "# A vector with missing values\n",
    "x <- c(1:4, NA, 6:7, NA)\n",
    "x\n",
    "# including NA values will produce an NA output\n",
    "mean(x)\n",
    "# excluding NA values will calculate the mathematical operation for all non-missing values\n",
    "mean(x, na.rm = TRUE)"
   ]
  },
  {
   "cell_type": "markdown",
   "metadata": {},
   "source": [
    "We may also desire to subset our data to obtain complete observations, those observations (rows) in our data that contain no missing data. We can do this in two different ways."
   ]
  },
  {
   "cell_type": "code",
   "execution_count": 6,
   "metadata": {
    "vscode": {
     "languageId": "r"
    }
   },
   "outputs": [
    {
     "data": {
      "text/html": [
       "<table class=\"dataframe\">\n",
       "<caption>A data.frame: 4 × 4</caption>\n",
       "<thead>\n",
       "\t<tr><th scope=col>col1</th><th scope=col>col2</th><th scope=col>col3</th><th scope=col>col4</th></tr>\n",
       "\t<tr><th scope=col>&lt;int&gt;</th><th scope=col>&lt;chr&gt;</th><th scope=col>&lt;lgl&gt;</th><th scope=col>&lt;dbl&gt;</th></tr>\n",
       "</thead>\n",
       "<tbody>\n",
       "\t<tr><td> 1</td><td>this</td><td> TRUE</td><td>2.5</td></tr>\n",
       "\t<tr><td> 2</td><td>NA  </td><td>FALSE</td><td>4.2</td></tr>\n",
       "\t<tr><td> 3</td><td>is  </td><td> TRUE</td><td>3.2</td></tr>\n",
       "\t<tr><td>NA</td><td>text</td><td> TRUE</td><td> NA</td></tr>\n",
       "</tbody>\n",
       "</table>\n"
      ],
      "text/latex": [
       "A data.frame: 4 × 4\n",
       "\\begin{tabular}{llll}\n",
       " col1 & col2 & col3 & col4\\\\\n",
       " <int> & <chr> & <lgl> & <dbl>\\\\\n",
       "\\hline\n",
       "\t  1 & this &  TRUE & 2.5\\\\\n",
       "\t  2 & NA   & FALSE & 4.2\\\\\n",
       "\t  3 & is   &  TRUE & 3.2\\\\\n",
       "\t NA & text &  TRUE &  NA\\\\\n",
       "\\end{tabular}\n"
      ],
      "text/markdown": [
       "\n",
       "A data.frame: 4 × 4\n",
       "\n",
       "| col1 &lt;int&gt; | col2 &lt;chr&gt; | col3 &lt;lgl&gt; | col4 &lt;dbl&gt; |\n",
       "|---|---|---|---|\n",
       "|  1 | this |  TRUE | 2.5 |\n",
       "|  2 | NA   | FALSE | 4.2 |\n",
       "|  3 | is   |  TRUE | 3.2 |\n",
       "| NA | text |  TRUE |  NA |\n",
       "\n"
      ],
      "text/plain": [
       "  col1 col2 col3  col4\n",
       "1  1   this  TRUE 2.5 \n",
       "2  2   NA   FALSE 4.2 \n",
       "3  3   is    TRUE 3.2 \n",
       "4 NA   text  TRUE  NA "
      ]
     },
     "metadata": {},
     "output_type": "display_data"
    }
   ],
   "source": [
    "# data frame with missing values\n",
    "df <- data.frame(col1 = c(1:3, NA),\n",
    "                 col2 = c(\"this\", NA,\"is\", \"text\"), \n",
    "                 col3 = c(TRUE, FALSE, TRUE, TRUE), \n",
    "                 col4 = c(2.5, 4.2, 3.2, NA),\n",
    "                 stringsAsFactors = FALSE)\n",
    "df"
   ]
  },
  {
   "cell_type": "markdown",
   "metadata": {},
   "source": [
    "First, to find complete cases we can leverage the complete.cases() function which returns a logical vector identifying rows which are complete cases."
   ]
  },
  {
   "cell_type": "code",
   "execution_count": 7,
   "metadata": {
    "vscode": {
     "languageId": "r"
    }
   },
   "outputs": [
    {
     "data": {
      "text/html": [
       "<table class=\"dataframe\">\n",
       "<caption>A data.frame: 2 × 4</caption>\n",
       "<thead>\n",
       "\t<tr><th></th><th scope=col>col1</th><th scope=col>col2</th><th scope=col>col3</th><th scope=col>col4</th></tr>\n",
       "\t<tr><th></th><th scope=col>&lt;int&gt;</th><th scope=col>&lt;chr&gt;</th><th scope=col>&lt;lgl&gt;</th><th scope=col>&lt;dbl&gt;</th></tr>\n",
       "</thead>\n",
       "<tbody>\n",
       "\t<tr><th scope=row>1</th><td>1</td><td>this</td><td>TRUE</td><td>2.5</td></tr>\n",
       "\t<tr><th scope=row>3</th><td>3</td><td>is  </td><td>TRUE</td><td>3.2</td></tr>\n",
       "</tbody>\n",
       "</table>\n"
      ],
      "text/latex": [
       "A data.frame: 2 × 4\n",
       "\\begin{tabular}{r|llll}\n",
       "  & col1 & col2 & col3 & col4\\\\\n",
       "  & <int> & <chr> & <lgl> & <dbl>\\\\\n",
       "\\hline\n",
       "\t1 & 1 & this & TRUE & 2.5\\\\\n",
       "\t3 & 3 & is   & TRUE & 3.2\\\\\n",
       "\\end{tabular}\n"
      ],
      "text/markdown": [
       "\n",
       "A data.frame: 2 × 4\n",
       "\n",
       "| <!--/--> | col1 &lt;int&gt; | col2 &lt;chr&gt; | col3 &lt;lgl&gt; | col4 &lt;dbl&gt; |\n",
       "|---|---|---|---|---|\n",
       "| 1 | 1 | this | TRUE | 2.5 |\n",
       "| 3 | 3 | is   | TRUE | 3.2 |\n",
       "\n"
      ],
      "text/plain": [
       "  col1 col2 col3 col4\n",
       "1 1    this TRUE 2.5 \n",
       "3 3    is   TRUE 3.2 "
      ]
     },
     "metadata": {},
     "output_type": "display_data"
    }
   ],
   "source": [
    "df[complete.cases(df), ]"
   ]
  },
  {
   "cell_type": "markdown",
   "metadata": {},
   "source": [
    "Second alternative is to simply use na.omit() to omit all rows containing missing values."
   ]
  },
  {
   "cell_type": "code",
   "execution_count": 8,
   "metadata": {
    "vscode": {
     "languageId": "r"
    }
   },
   "outputs": [
    {
     "data": {
      "text/html": [
       "<table class=\"dataframe\">\n",
       "<caption>A data.frame: 2 × 4</caption>\n",
       "<thead>\n",
       "\t<tr><th></th><th scope=col>col1</th><th scope=col>col2</th><th scope=col>col3</th><th scope=col>col4</th></tr>\n",
       "\t<tr><th></th><th scope=col>&lt;int&gt;</th><th scope=col>&lt;chr&gt;</th><th scope=col>&lt;lgl&gt;</th><th scope=col>&lt;dbl&gt;</th></tr>\n",
       "</thead>\n",
       "<tbody>\n",
       "\t<tr><th scope=row>1</th><td>1</td><td>this</td><td>TRUE</td><td>2.5</td></tr>\n",
       "\t<tr><th scope=row>3</th><td>3</td><td>is  </td><td>TRUE</td><td>3.2</td></tr>\n",
       "</tbody>\n",
       "</table>\n"
      ],
      "text/latex": [
       "A data.frame: 2 × 4\n",
       "\\begin{tabular}{r|llll}\n",
       "  & col1 & col2 & col3 & col4\\\\\n",
       "  & <int> & <chr> & <lgl> & <dbl>\\\\\n",
       "\\hline\n",
       "\t1 & 1 & this & TRUE & 2.5\\\\\n",
       "\t3 & 3 & is   & TRUE & 3.2\\\\\n",
       "\\end{tabular}\n"
      ],
      "text/markdown": [
       "\n",
       "A data.frame: 2 × 4\n",
       "\n",
       "| <!--/--> | col1 &lt;int&gt; | col2 &lt;chr&gt; | col3 &lt;lgl&gt; | col4 &lt;dbl&gt; |\n",
       "|---|---|---|---|---|\n",
       "| 1 | 1 | this | TRUE | 2.5 |\n",
       "| 3 | 3 | is   | TRUE | 3.2 |\n",
       "\n"
      ],
      "text/plain": [
       "  col1 col2 col3 col4\n",
       "1 1    this TRUE 2.5 \n",
       "3 3    is   TRUE 3.2 "
      ]
     },
     "metadata": {},
     "output_type": "display_data"
    }
   ],
   "source": [
    "na.omit(df)"
   ]
  },
  {
   "cell_type": "markdown",
   "metadata": {},
   "source": [
    "<a id='dup'></a>\n",
    "\n",
    "### Identify and Remove Duplicate Data\n",
    "A dataset can have duplicate values and to keep it redundancy-free and accurate, duplicate rows need to be identified and removed.\n",
    "#### Identifying Duplicate Data\n",
    "For identification, we will use duplicated() function which returns the count of duplicate rows."
   ]
  },
  {
   "cell_type": "code",
   "execution_count": 9,
   "metadata": {
    "vscode": {
     "languageId": "r"
    }
   },
   "outputs": [
    {
     "data": {
      "text/html": [
       "<table class=\"dataframe\">\n",
       "<caption>A data.frame: 7 × 4</caption>\n",
       "<thead>\n",
       "\t<tr><th scope=col>name</th><th scope=col>maths</th><th scope=col>science</th><th scope=col>history</th></tr>\n",
       "\t<tr><th scope=col>&lt;chr&gt;</th><th scope=col>&lt;dbl&gt;</th><th scope=col>&lt;dbl&gt;</th><th scope=col>&lt;dbl&gt;</th></tr>\n",
       "</thead>\n",
       "<tbody>\n",
       "\t<tr><td>Ramee </td><td> 7</td><td>5</td><td>7</td></tr>\n",
       "\t<tr><td>Don   </td><td> 8</td><td>7</td><td>7</td></tr>\n",
       "\t<tr><td>John  </td><td> 8</td><td>6</td><td>7</td></tr>\n",
       "\t<tr><td>Paul  </td><td> 9</td><td>8</td><td>7</td></tr>\n",
       "\t<tr><td>Cassie</td><td>10</td><td>9</td><td>7</td></tr>\n",
       "\t<tr><td>Don   </td><td> 8</td><td>7</td><td>7</td></tr>\n",
       "\t<tr><td>Paul  </td><td> 9</td><td>8</td><td>7</td></tr>\n",
       "</tbody>\n",
       "</table>\n"
      ],
      "text/latex": [
       "A data.frame: 7 × 4\n",
       "\\begin{tabular}{llll}\n",
       " name & maths & science & history\\\\\n",
       " <chr> & <dbl> & <dbl> & <dbl>\\\\\n",
       "\\hline\n",
       "\t Ramee  &  7 & 5 & 7\\\\\n",
       "\t Don    &  8 & 7 & 7\\\\\n",
       "\t John   &  8 & 6 & 7\\\\\n",
       "\t Paul   &  9 & 8 & 7\\\\\n",
       "\t Cassie & 10 & 9 & 7\\\\\n",
       "\t Don    &  8 & 7 & 7\\\\\n",
       "\t Paul   &  9 & 8 & 7\\\\\n",
       "\\end{tabular}\n"
      ],
      "text/markdown": [
       "\n",
       "A data.frame: 7 × 4\n",
       "\n",
       "| name &lt;chr&gt; | maths &lt;dbl&gt; | science &lt;dbl&gt; | history &lt;dbl&gt; |\n",
       "|---|---|---|---|\n",
       "| Ramee  |  7 | 5 | 7 |\n",
       "| Don    |  8 | 7 | 7 |\n",
       "| John   |  8 | 6 | 7 |\n",
       "| Paul   |  9 | 8 | 7 |\n",
       "| Cassie | 10 | 9 | 7 |\n",
       "| Don    |  8 | 7 | 7 |\n",
       "| Paul   |  9 | 8 | 7 |\n",
       "\n"
      ],
      "text/plain": [
       "  name   maths science history\n",
       "1 Ramee   7    5       7      \n",
       "2 Don     8    7       7      \n",
       "3 John    8    6       7      \n",
       "4 Paul    9    8       7      \n",
       "5 Cassie 10    9       7      \n",
       "6 Don     8    7       7      \n",
       "7 Paul    9    8       7      "
      ]
     },
     "metadata": {},
     "output_type": "display_data"
    },
    {
     "data": {
      "text/html": [
       "<style>\n",
       ".list-inline {list-style: none; margin:0; padding: 0}\n",
       ".list-inline>li {display: inline-block}\n",
       ".list-inline>li:not(:last-child)::after {content: \"\\00b7\"; padding: 0 .5ex}\n",
       "</style>\n",
       "<ol class=list-inline><li>FALSE</li><li>FALSE</li><li>FALSE</li><li>FALSE</li><li>FALSE</li><li>TRUE</li><li>TRUE</li></ol>\n"
      ],
      "text/latex": [
       "\\begin{enumerate*}\n",
       "\\item FALSE\n",
       "\\item FALSE\n",
       "\\item FALSE\n",
       "\\item FALSE\n",
       "\\item FALSE\n",
       "\\item TRUE\n",
       "\\item TRUE\n",
       "\\end{enumerate*}\n"
      ],
      "text/markdown": [
       "1. FALSE\n",
       "2. FALSE\n",
       "3. FALSE\n",
       "4. FALSE\n",
       "5. FALSE\n",
       "6. TRUE\n",
       "7. TRUE\n",
       "\n",
       "\n"
      ],
      "text/plain": [
       "[1] FALSE FALSE FALSE FALSE FALSE  TRUE  TRUE"
      ]
     },
     "metadata": {},
     "output_type": "display_data"
    },
    {
     "data": {
      "text/html": [
       "2"
      ],
      "text/latex": [
       "2"
      ],
      "text/markdown": [
       "2"
      ],
      "text/plain": [
       "[1] 2"
      ]
     },
     "metadata": {},
     "output_type": "display_data"
    }
   ],
   "source": [
    "# Creating a sample data frame of students \n",
    "# and their marks in respective subjects.\n",
    "student_result=data.frame(name=c(\"Ramee\",\"Don\",\"John\",\"Paul\",\n",
    "                                 \"Cassie\",\"Don\",\"Paul\"),\n",
    "                          maths=c(7,8,8,9,10,8,9),\n",
    "                          science=c(5,7,6,8,9,7,8),\n",
    "                          history=c(7,7,7,7,7,7,7))\n",
    "  \n",
    "# Printing data\n",
    "student_result\n",
    "duplicated(student_result)\n",
    "sum(duplicated(student_result))"
   ]
  },
  {
   "cell_type": "markdown",
   "metadata": {},
   "source": [
    "#### Removing Duplicate Data\n",
    "There are two functions we can use to accomplish the task: `unique()` and `distinct()` from the library `tidyverse`. The `distinct()` function has more flexibility, but you need to have the corresponding package installed."
   ]
  },
  {
   "cell_type": "code",
   "execution_count": 10,
   "metadata": {
    "vscode": {
     "languageId": "r"
    }
   },
   "outputs": [
    {
     "data": {
      "text/html": [
       "<table class=\"dataframe\">\n",
       "<caption>A data.frame: 5 × 4</caption>\n",
       "<thead>\n",
       "\t<tr><th></th><th scope=col>name</th><th scope=col>maths</th><th scope=col>science</th><th scope=col>history</th></tr>\n",
       "\t<tr><th></th><th scope=col>&lt;chr&gt;</th><th scope=col>&lt;dbl&gt;</th><th scope=col>&lt;dbl&gt;</th><th scope=col>&lt;dbl&gt;</th></tr>\n",
       "</thead>\n",
       "<tbody>\n",
       "\t<tr><th scope=row>1</th><td>Ramee </td><td> 7</td><td>5</td><td>7</td></tr>\n",
       "\t<tr><th scope=row>2</th><td>Don   </td><td> 8</td><td>7</td><td>7</td></tr>\n",
       "\t<tr><th scope=row>3</th><td>John  </td><td> 8</td><td>6</td><td>7</td></tr>\n",
       "\t<tr><th scope=row>4</th><td>Paul  </td><td> 9</td><td>8</td><td>7</td></tr>\n",
       "\t<tr><th scope=row>5</th><td>Cassie</td><td>10</td><td>9</td><td>7</td></tr>\n",
       "</tbody>\n",
       "</table>\n"
      ],
      "text/latex": [
       "A data.frame: 5 × 4\n",
       "\\begin{tabular}{r|llll}\n",
       "  & name & maths & science & history\\\\\n",
       "  & <chr> & <dbl> & <dbl> & <dbl>\\\\\n",
       "\\hline\n",
       "\t1 & Ramee  &  7 & 5 & 7\\\\\n",
       "\t2 & Don    &  8 & 7 & 7\\\\\n",
       "\t3 & John   &  8 & 6 & 7\\\\\n",
       "\t4 & Paul   &  9 & 8 & 7\\\\\n",
       "\t5 & Cassie & 10 & 9 & 7\\\\\n",
       "\\end{tabular}\n"
      ],
      "text/markdown": [
       "\n",
       "A data.frame: 5 × 4\n",
       "\n",
       "| <!--/--> | name &lt;chr&gt; | maths &lt;dbl&gt; | science &lt;dbl&gt; | history &lt;dbl&gt; |\n",
       "|---|---|---|---|---|\n",
       "| 1 | Ramee  |  7 | 5 | 7 |\n",
       "| 2 | Don    |  8 | 7 | 7 |\n",
       "| 3 | John   |  8 | 6 | 7 |\n",
       "| 4 | Paul   |  9 | 8 | 7 |\n",
       "| 5 | Cassie | 10 | 9 | 7 |\n",
       "\n"
      ],
      "text/plain": [
       "  name   maths science history\n",
       "1 Ramee   7    5       7      \n",
       "2 Don     8    7       7      \n",
       "3 John    8    6       7      \n",
       "4 Paul    9    8       7      \n",
       "5 Cassie 10    9       7      "
      ]
     },
     "metadata": {},
     "output_type": "display_data"
    }
   ],
   "source": [
    "unique(student_result)"
   ]
  },
  {
   "cell_type": "markdown",
   "metadata": {},
   "source": [
    "<a id='tidyr'></a>\n",
    "\n",
    "### Reshaping Your Data with tidyr\n",
    "There are many fundamental data processing functions in R (`base`), but they have lacked consistent coding and the ability to easily flow together. There are some packages that are more consistent and easy to use.  \n",
    "`tidyr` is a one such package which was built for the sole purpose of simplifying the process of creating _tidy data_. Next we will provide you with the basic understanding of the four fundamental functions from tidyr:\n",
    "- gather() - makes “wide” data longer\n",
    "- spread() - makes “long” data wider\n",
    "- separate() - splits a single column into multiple columns\n",
    "- unite() - combines multiple columns into a single column"
   ]
  },
  {
   "cell_type": "code",
   "execution_count": 11,
   "metadata": {
    "vscode": {
     "languageId": "r"
    }
   },
   "outputs": [
    {
     "name": "stderr",
     "output_type": "stream",
     "text": [
      "Loading required package: tidyr\n",
      "\n"
     ]
    }
   ],
   "source": [
    "if (!require(\"tidyr\")) {\n",
    "    install.packages(\"tidyr\")\n",
    "    library(tidyr)\n",
    "}"
   ]
  },
  {
   "cell_type": "markdown",
   "metadata": {},
   "source": [
    "#### gather( ) & spread() functions:\n",
    "There are times when our data is considered unstacked and a common attribute of concern is spread out across columns. To reformat the data such that these common attributes are gathered together as a single variable, the `gather()` function will take multiple columns and collapse them into key-value pairs, duplicating all other columns as needed.  \n",
    "This function is a complement to `spread()`."
   ]
  },
  {
   "cell_type": "code",
   "execution_count": 12,
   "metadata": {
    "vscode": {
     "languageId": "r"
    }
   },
   "outputs": [
    {
     "data": {
      "text/html": [
       "<table class=\"dataframe\">\n",
       "<caption>A data.frame: 12 × 6</caption>\n",
       "<thead>\n",
       "\t<tr><th></th><th scope=col>Group</th><th scope=col>Year</th><th scope=col>Qtr.1</th><th scope=col>Qtr.2</th><th scope=col>Qtr.3</th><th scope=col>Qtr.4</th></tr>\n",
       "\t<tr><th></th><th scope=col>&lt;int&gt;</th><th scope=col>&lt;int&gt;</th><th scope=col>&lt;int&gt;</th><th scope=col>&lt;int&gt;</th><th scope=col>&lt;int&gt;</th><th scope=col>&lt;int&gt;</th></tr>\n",
       "</thead>\n",
       "<tbody>\n",
       "\t<tr><th scope=row>1</th><td>1</td><td>2006</td><td>15</td><td>16</td><td>19</td><td>17</td></tr>\n",
       "\t<tr><th scope=row>2</th><td>1</td><td>2007</td><td>12</td><td>13</td><td>27</td><td>23</td></tr>\n",
       "\t<tr><th scope=row>3</th><td>1</td><td>2008</td><td>22</td><td>22</td><td>24</td><td>20</td></tr>\n",
       "\t<tr><th scope=row>4</th><td>1</td><td>2009</td><td>10</td><td>14</td><td>20</td><td>16</td></tr>\n",
       "\t<tr><th scope=row>5</th><td>2</td><td>2006</td><td>12</td><td>13</td><td>25</td><td>18</td></tr>\n",
       "\t<tr><th scope=row>6</th><td>2</td><td>2007</td><td>16</td><td>14</td><td>21</td><td>19</td></tr>\n",
       "\t<tr><th scope=row>7</th><td>2</td><td>2008</td><td>13</td><td>11</td><td>29</td><td>15</td></tr>\n",
       "\t<tr><th scope=row>8</th><td>2</td><td>2009</td><td>23</td><td>20</td><td>26</td><td>20</td></tr>\n",
       "\t<tr><th scope=row>9</th><td>3</td><td>2006</td><td>11</td><td>12</td><td>22</td><td>16</td></tr>\n",
       "\t<tr><th scope=row>10</th><td>3</td><td>2007</td><td>13</td><td>11</td><td>27</td><td>21</td></tr>\n",
       "\t<tr><th scope=row>11</th><td>3</td><td>2008</td><td>17</td><td>12</td><td>23</td><td>19</td></tr>\n",
       "\t<tr><th scope=row>12</th><td>3</td><td>2009</td><td>14</td><td> 9</td><td>31</td><td>24</td></tr>\n",
       "</tbody>\n",
       "</table>\n"
      ],
      "text/latex": [
       "A data.frame: 12 × 6\n",
       "\\begin{tabular}{r|llllll}\n",
       "  & Group & Year & Qtr.1 & Qtr.2 & Qtr.3 & Qtr.4\\\\\n",
       "  & <int> & <int> & <int> & <int> & <int> & <int>\\\\\n",
       "\\hline\n",
       "\t1 & 1 & 2006 & 15 & 16 & 19 & 17\\\\\n",
       "\t2 & 1 & 2007 & 12 & 13 & 27 & 23\\\\\n",
       "\t3 & 1 & 2008 & 22 & 22 & 24 & 20\\\\\n",
       "\t4 & 1 & 2009 & 10 & 14 & 20 & 16\\\\\n",
       "\t5 & 2 & 2006 & 12 & 13 & 25 & 18\\\\\n",
       "\t6 & 2 & 2007 & 16 & 14 & 21 & 19\\\\\n",
       "\t7 & 2 & 2008 & 13 & 11 & 29 & 15\\\\\n",
       "\t8 & 2 & 2009 & 23 & 20 & 26 & 20\\\\\n",
       "\t9 & 3 & 2006 & 11 & 12 & 22 & 16\\\\\n",
       "\t10 & 3 & 2007 & 13 & 11 & 27 & 21\\\\\n",
       "\t11 & 3 & 2008 & 17 & 12 & 23 & 19\\\\\n",
       "\t12 & 3 & 2009 & 14 &  9 & 31 & 24\\\\\n",
       "\\end{tabular}\n"
      ],
      "text/markdown": [
       "\n",
       "A data.frame: 12 × 6\n",
       "\n",
       "| <!--/--> | Group &lt;int&gt; | Year &lt;int&gt; | Qtr.1 &lt;int&gt; | Qtr.2 &lt;int&gt; | Qtr.3 &lt;int&gt; | Qtr.4 &lt;int&gt; |\n",
       "|---|---|---|---|---|---|---|\n",
       "| 1 | 1 | 2006 | 15 | 16 | 19 | 17 |\n",
       "| 2 | 1 | 2007 | 12 | 13 | 27 | 23 |\n",
       "| 3 | 1 | 2008 | 22 | 22 | 24 | 20 |\n",
       "| 4 | 1 | 2009 | 10 | 14 | 20 | 16 |\n",
       "| 5 | 2 | 2006 | 12 | 13 | 25 | 18 |\n",
       "| 6 | 2 | 2007 | 16 | 14 | 21 | 19 |\n",
       "| 7 | 2 | 2008 | 13 | 11 | 29 | 15 |\n",
       "| 8 | 2 | 2009 | 23 | 20 | 26 | 20 |\n",
       "| 9 | 3 | 2006 | 11 | 12 | 22 | 16 |\n",
       "| 10 | 3 | 2007 | 13 | 11 | 27 | 21 |\n",
       "| 11 | 3 | 2008 | 17 | 12 | 23 | 19 |\n",
       "| 12 | 3 | 2009 | 14 |  9 | 31 | 24 |\n",
       "\n"
      ],
      "text/plain": [
       "   Group Year Qtr.1 Qtr.2 Qtr.3 Qtr.4\n",
       "1  1     2006 15    16    19    17   \n",
       "2  1     2007 12    13    27    23   \n",
       "3  1     2008 22    22    24    20   \n",
       "4  1     2009 10    14    20    16   \n",
       "5  2     2006 12    13    25    18   \n",
       "6  2     2007 16    14    21    19   \n",
       "7  2     2008 13    11    29    15   \n",
       "8  2     2009 23    20    26    20   \n",
       "9  3     2006 11    12    22    16   \n",
       "10 3     2007 13    11    27    21   \n",
       "11 3     2008 17    12    23    19   \n",
       "12 3     2009 14     9    31    24   "
      ]
     },
     "metadata": {},
     "output_type": "display_data"
    },
    {
     "data": {
      "text/html": [
       "<table class=\"dataframe\">\n",
       "<caption>A data.frame: 6 × 4</caption>\n",
       "<thead>\n",
       "\t<tr><th></th><th scope=col>Group</th><th scope=col>Year</th><th scope=col>Quarter</th><th scope=col>Revenue</th></tr>\n",
       "\t<tr><th></th><th scope=col>&lt;int&gt;</th><th scope=col>&lt;int&gt;</th><th scope=col>&lt;chr&gt;</th><th scope=col>&lt;int&gt;</th></tr>\n",
       "</thead>\n",
       "<tbody>\n",
       "\t<tr><th scope=row>1</th><td>1</td><td>2006</td><td>Qtr.1</td><td>15</td></tr>\n",
       "\t<tr><th scope=row>2</th><td>1</td><td>2007</td><td>Qtr.1</td><td>12</td></tr>\n",
       "\t<tr><th scope=row>3</th><td>1</td><td>2008</td><td>Qtr.1</td><td>22</td></tr>\n",
       "\t<tr><th scope=row>4</th><td>1</td><td>2009</td><td>Qtr.1</td><td>10</td></tr>\n",
       "\t<tr><th scope=row>5</th><td>2</td><td>2006</td><td>Qtr.1</td><td>12</td></tr>\n",
       "\t<tr><th scope=row>6</th><td>2</td><td>2007</td><td>Qtr.1</td><td>16</td></tr>\n",
       "</tbody>\n",
       "</table>\n"
      ],
      "text/latex": [
       "A data.frame: 6 × 4\n",
       "\\begin{tabular}{r|llll}\n",
       "  & Group & Year & Quarter & Revenue\\\\\n",
       "  & <int> & <int> & <chr> & <int>\\\\\n",
       "\\hline\n",
       "\t1 & 1 & 2006 & Qtr.1 & 15\\\\\n",
       "\t2 & 1 & 2007 & Qtr.1 & 12\\\\\n",
       "\t3 & 1 & 2008 & Qtr.1 & 22\\\\\n",
       "\t4 & 1 & 2009 & Qtr.1 & 10\\\\\n",
       "\t5 & 2 & 2006 & Qtr.1 & 12\\\\\n",
       "\t6 & 2 & 2007 & Qtr.1 & 16\\\\\n",
       "\\end{tabular}\n"
      ],
      "text/markdown": [
       "\n",
       "A data.frame: 6 × 4\n",
       "\n",
       "| <!--/--> | Group &lt;int&gt; | Year &lt;int&gt; | Quarter &lt;chr&gt; | Revenue &lt;int&gt; |\n",
       "|---|---|---|---|---|\n",
       "| 1 | 1 | 2006 | Qtr.1 | 15 |\n",
       "| 2 | 1 | 2007 | Qtr.1 | 12 |\n",
       "| 3 | 1 | 2008 | Qtr.1 | 22 |\n",
       "| 4 | 1 | 2009 | Qtr.1 | 10 |\n",
       "| 5 | 2 | 2006 | Qtr.1 | 12 |\n",
       "| 6 | 2 | 2007 | Qtr.1 | 16 |\n",
       "\n"
      ],
      "text/plain": [
       "  Group Year Quarter Revenue\n",
       "1 1     2006 Qtr.1   15     \n",
       "2 1     2007 Qtr.1   12     \n",
       "3 1     2008 Qtr.1   22     \n",
       "4 1     2009 Qtr.1   10     \n",
       "5 2     2006 Qtr.1   12     \n",
       "6 2     2007 Qtr.1   16     "
      ]
     },
     "metadata": {},
     "output_type": "display_data"
    },
    {
     "name": "stdout",
     "output_type": "stream",
     "text": [
      "'data.frame':\t48 obs. of  4 variables:\n",
      " $ Group  : int  1 1 1 1 2 2 2 2 3 3 ...\n",
      " $ Year   : int  2006 2007 2008 2009 2006 2007 2008 2009 2006 2007 ...\n",
      " $ Quarter: chr  \"Qtr.1\" \"Qtr.1\" \"Qtr.1\" \"Qtr.1\" ...\n",
      " $ Revenue: int  15 12 22 10 12 16 13 23 11 13 ...\n",
      "'data.frame':\t48 obs. of  4 variables:\n",
      " $ Group  : int  1 1 1 1 2 2 2 2 3 3 ...\n",
      " $ Year   : int  2006 2007 2008 2009 2006 2007 2008 2009 2006 2007 ...\n",
      " $ Quarter: chr  \"Qtr.1\" \"Qtr.1\" \"Qtr.1\" \"Qtr.1\" ...\n",
      " $ Revenue: int  15 12 22 10 12 16 13 23 11 13 ...\n",
      "'data.frame':\t48 obs. of  4 variables:\n",
      " $ Group  : int  1 1 1 1 2 2 2 2 3 3 ...\n",
      " $ Year   : int  2006 2007 2008 2009 2006 2007 2008 2009 2006 2007 ...\n",
      " $ Quarter: chr  \"Qtr.1\" \"Qtr.1\" \"Qtr.1\" \"Qtr.1\" ...\n",
      " $ Revenue: int  15 12 22 10 12 16 13 23 11 13 ...\n"
     ]
    },
    {
     "data": {
      "text/html": [
       "<table class=\"dataframe\">\n",
       "<caption>A data.frame: 12 × 6</caption>\n",
       "<thead>\n",
       "\t<tr><th scope=col>Group</th><th scope=col>Year</th><th scope=col>Qtr.1</th><th scope=col>Qtr.2</th><th scope=col>Qtr.3</th><th scope=col>Qtr.4</th></tr>\n",
       "\t<tr><th scope=col>&lt;int&gt;</th><th scope=col>&lt;int&gt;</th><th scope=col>&lt;int&gt;</th><th scope=col>&lt;int&gt;</th><th scope=col>&lt;int&gt;</th><th scope=col>&lt;int&gt;</th></tr>\n",
       "</thead>\n",
       "<tbody>\n",
       "\t<tr><td>1</td><td>2006</td><td>15</td><td>16</td><td>19</td><td>17</td></tr>\n",
       "\t<tr><td>1</td><td>2007</td><td>12</td><td>13</td><td>27</td><td>23</td></tr>\n",
       "\t<tr><td>1</td><td>2008</td><td>22</td><td>22</td><td>24</td><td>20</td></tr>\n",
       "\t<tr><td>1</td><td>2009</td><td>10</td><td>14</td><td>20</td><td>16</td></tr>\n",
       "\t<tr><td>2</td><td>2006</td><td>12</td><td>13</td><td>25</td><td>18</td></tr>\n",
       "\t<tr><td>2</td><td>2007</td><td>16</td><td>14</td><td>21</td><td>19</td></tr>\n",
       "\t<tr><td>2</td><td>2008</td><td>13</td><td>11</td><td>29</td><td>15</td></tr>\n",
       "\t<tr><td>2</td><td>2009</td><td>23</td><td>20</td><td>26</td><td>20</td></tr>\n",
       "\t<tr><td>3</td><td>2006</td><td>11</td><td>12</td><td>22</td><td>16</td></tr>\n",
       "\t<tr><td>3</td><td>2007</td><td>13</td><td>11</td><td>27</td><td>21</td></tr>\n",
       "\t<tr><td>3</td><td>2008</td><td>17</td><td>12</td><td>23</td><td>19</td></tr>\n",
       "\t<tr><td>3</td><td>2009</td><td>14</td><td> 9</td><td>31</td><td>24</td></tr>\n",
       "</tbody>\n",
       "</table>\n"
      ],
      "text/latex": [
       "A data.frame: 12 × 6\n",
       "\\begin{tabular}{llllll}\n",
       " Group & Year & Qtr.1 & Qtr.2 & Qtr.3 & Qtr.4\\\\\n",
       " <int> & <int> & <int> & <int> & <int> & <int>\\\\\n",
       "\\hline\n",
       "\t 1 & 2006 & 15 & 16 & 19 & 17\\\\\n",
       "\t 1 & 2007 & 12 & 13 & 27 & 23\\\\\n",
       "\t 1 & 2008 & 22 & 22 & 24 & 20\\\\\n",
       "\t 1 & 2009 & 10 & 14 & 20 & 16\\\\\n",
       "\t 2 & 2006 & 12 & 13 & 25 & 18\\\\\n",
       "\t 2 & 2007 & 16 & 14 & 21 & 19\\\\\n",
       "\t 2 & 2008 & 13 & 11 & 29 & 15\\\\\n",
       "\t 2 & 2009 & 23 & 20 & 26 & 20\\\\\n",
       "\t 3 & 2006 & 11 & 12 & 22 & 16\\\\\n",
       "\t 3 & 2007 & 13 & 11 & 27 & 21\\\\\n",
       "\t 3 & 2008 & 17 & 12 & 23 & 19\\\\\n",
       "\t 3 & 2009 & 14 &  9 & 31 & 24\\\\\n",
       "\\end{tabular}\n"
      ],
      "text/markdown": [
       "\n",
       "A data.frame: 12 × 6\n",
       "\n",
       "| Group &lt;int&gt; | Year &lt;int&gt; | Qtr.1 &lt;int&gt; | Qtr.2 &lt;int&gt; | Qtr.3 &lt;int&gt; | Qtr.4 &lt;int&gt; |\n",
       "|---|---|---|---|---|---|\n",
       "| 1 | 2006 | 15 | 16 | 19 | 17 |\n",
       "| 1 | 2007 | 12 | 13 | 27 | 23 |\n",
       "| 1 | 2008 | 22 | 22 | 24 | 20 |\n",
       "| 1 | 2009 | 10 | 14 | 20 | 16 |\n",
       "| 2 | 2006 | 12 | 13 | 25 | 18 |\n",
       "| 2 | 2007 | 16 | 14 | 21 | 19 |\n",
       "| 2 | 2008 | 13 | 11 | 29 | 15 |\n",
       "| 2 | 2009 | 23 | 20 | 26 | 20 |\n",
       "| 3 | 2006 | 11 | 12 | 22 | 16 |\n",
       "| 3 | 2007 | 13 | 11 | 27 | 21 |\n",
       "| 3 | 2008 | 17 | 12 | 23 | 19 |\n",
       "| 3 | 2009 | 14 |  9 | 31 | 24 |\n",
       "\n"
      ],
      "text/plain": [
       "   Group Year Qtr.1 Qtr.2 Qtr.3 Qtr.4\n",
       "1  1     2006 15    16    19    17   \n",
       "2  1     2007 12    13    27    23   \n",
       "3  1     2008 22    22    24    20   \n",
       "4  1     2009 10    14    20    16   \n",
       "5  2     2006 12    13    25    18   \n",
       "6  2     2007 16    14    21    19   \n",
       "7  2     2008 13    11    29    15   \n",
       "8  2     2009 23    20    26    20   \n",
       "9  3     2006 11    12    22    16   \n",
       "10 3     2007 13    11    27    21   \n",
       "11 3     2008 17    12    23    19   \n",
       "12 3     2009 14     9    31    24   "
      ]
     },
     "metadata": {},
     "output_type": "display_data"
    }
   ],
   "source": [
    "# wide\n",
    "df_m <- read.csv('data/tidier.csv', row.names = 1)\n",
    "df_m\n",
    "# long: tidier (with pipe)\n",
    "df_l <- df_m %>% gather(Quarter, Revenue, Qtr.1:Qtr.4)\n",
    "head(df_l)\n",
    "\n",
    "# These all produce the same results:\n",
    "df_m %>% gather(Quarter, Revenue, -Group, -Year) %>% str()\n",
    "df_m %>% gather(Quarter, Revenue, 3:6) %>% str()\n",
    "df_m %>% gather(Quarter, Revenue, Qtr.1, Qtr.2, Qtr.3, Qtr.4) %>% str()\n",
    "\n",
    "# now going back with spread()\n",
    "df_l %>% spread(Quarter, Revenue)"
   ]
  },
  {
   "cell_type": "markdown",
   "metadata": {},
   "source": [
    "#### separate( ) & unite() functions:\n",
    "Many times a single column variable will capture multiple variables, or even parts of a variable you just don’t care about.  \n",
    "\n",
    "This function is a complement to `unite()`.  \n",
    "We can go back to our df_m dataframe we created above in which way may desire to clean up or separate the Quarter variable."
   ]
  },
  {
   "cell_type": "code",
   "execution_count": 13,
   "metadata": {
    "vscode": {
     "languageId": "r"
    }
   },
   "outputs": [
    {
     "data": {
      "text/html": [
       "<table class=\"dataframe\">\n",
       "<caption>A data.frame: 5 × 4</caption>\n",
       "<thead>\n",
       "\t<tr><th></th><th scope=col>Group</th><th scope=col>Year</th><th scope=col>Quarter</th><th scope=col>Revenue</th></tr>\n",
       "\t<tr><th></th><th scope=col>&lt;int&gt;</th><th scope=col>&lt;int&gt;</th><th scope=col>&lt;chr&gt;</th><th scope=col>&lt;int&gt;</th></tr>\n",
       "</thead>\n",
       "<tbody>\n",
       "\t<tr><th scope=row>12</th><td>3</td><td>2009</td><td>Qtr.1</td><td>14</td></tr>\n",
       "\t<tr><th scope=row>33</th><td>3</td><td>2006</td><td>Qtr.3</td><td>22</td></tr>\n",
       "\t<tr><th scope=row>28</th><td>1</td><td>2009</td><td>Qtr.3</td><td>20</td></tr>\n",
       "\t<tr><th scope=row>2</th><td>1</td><td>2007</td><td>Qtr.1</td><td>12</td></tr>\n",
       "\t<tr><th scope=row>15</th><td>1</td><td>2008</td><td>Qtr.2</td><td>22</td></tr>\n",
       "</tbody>\n",
       "</table>\n"
      ],
      "text/latex": [
       "A data.frame: 5 × 4\n",
       "\\begin{tabular}{r|llll}\n",
       "  & Group & Year & Quarter & Revenue\\\\\n",
       "  & <int> & <int> & <chr> & <int>\\\\\n",
       "\\hline\n",
       "\t12 & 3 & 2009 & Qtr.1 & 14\\\\\n",
       "\t33 & 3 & 2006 & Qtr.3 & 22\\\\\n",
       "\t28 & 1 & 2009 & Qtr.3 & 20\\\\\n",
       "\t2 & 1 & 2007 & Qtr.1 & 12\\\\\n",
       "\t15 & 1 & 2008 & Qtr.2 & 22\\\\\n",
       "\\end{tabular}\n"
      ],
      "text/markdown": [
       "\n",
       "A data.frame: 5 × 4\n",
       "\n",
       "| <!--/--> | Group &lt;int&gt; | Year &lt;int&gt; | Quarter &lt;chr&gt; | Revenue &lt;int&gt; |\n",
       "|---|---|---|---|---|\n",
       "| 12 | 3 | 2009 | Qtr.1 | 14 |\n",
       "| 33 | 3 | 2006 | Qtr.3 | 22 |\n",
       "| 28 | 1 | 2009 | Qtr.3 | 20 |\n",
       "| 2 | 1 | 2007 | Qtr.1 | 12 |\n",
       "| 15 | 1 | 2008 | Qtr.2 | 22 |\n",
       "\n"
      ],
      "text/plain": [
       "   Group Year Quarter Revenue\n",
       "12 3     2009 Qtr.1   14     \n",
       "33 3     2006 Qtr.3   22     \n",
       "28 1     2009 Qtr.3   20     \n",
       "2  1     2007 Qtr.1   12     \n",
       "15 1     2008 Qtr.2   22     "
      ]
     },
     "metadata": {},
     "output_type": "display_data"
    },
    {
     "data": {
      "text/html": [
       "<table class=\"dataframe\">\n",
       "<caption>A data.frame: 5 × 5</caption>\n",
       "<thead>\n",
       "\t<tr><th></th><th scope=col>Group</th><th scope=col>Year</th><th scope=col>Time_Interval</th><th scope=col>Interval_ID</th><th scope=col>Revenue</th></tr>\n",
       "\t<tr><th></th><th scope=col>&lt;int&gt;</th><th scope=col>&lt;int&gt;</th><th scope=col>&lt;chr&gt;</th><th scope=col>&lt;chr&gt;</th><th scope=col>&lt;int&gt;</th></tr>\n",
       "</thead>\n",
       "<tbody>\n",
       "\t<tr><th scope=row>12</th><td>3</td><td>2009</td><td>Qtr</td><td>1</td><td>14</td></tr>\n",
       "\t<tr><th scope=row>33</th><td>3</td><td>2006</td><td>Qtr</td><td>3</td><td>22</td></tr>\n",
       "\t<tr><th scope=row>28</th><td>1</td><td>2009</td><td>Qtr</td><td>3</td><td>20</td></tr>\n",
       "\t<tr><th scope=row>2</th><td>1</td><td>2007</td><td>Qtr</td><td>1</td><td>12</td></tr>\n",
       "\t<tr><th scope=row>15</th><td>1</td><td>2008</td><td>Qtr</td><td>2</td><td>22</td></tr>\n",
       "</tbody>\n",
       "</table>\n"
      ],
      "text/latex": [
       "A data.frame: 5 × 5\n",
       "\\begin{tabular}{r|lllll}\n",
       "  & Group & Year & Time\\_Interval & Interval\\_ID & Revenue\\\\\n",
       "  & <int> & <int> & <chr> & <chr> & <int>\\\\\n",
       "\\hline\n",
       "\t12 & 3 & 2009 & Qtr & 1 & 14\\\\\n",
       "\t33 & 3 & 2006 & Qtr & 3 & 22\\\\\n",
       "\t28 & 1 & 2009 & Qtr & 3 & 20\\\\\n",
       "\t2 & 1 & 2007 & Qtr & 1 & 12\\\\\n",
       "\t15 & 1 & 2008 & Qtr & 2 & 22\\\\\n",
       "\\end{tabular}\n"
      ],
      "text/markdown": [
       "\n",
       "A data.frame: 5 × 5\n",
       "\n",
       "| <!--/--> | Group &lt;int&gt; | Year &lt;int&gt; | Time_Interval &lt;chr&gt; | Interval_ID &lt;chr&gt; | Revenue &lt;int&gt; |\n",
       "|---|---|---|---|---|---|\n",
       "| 12 | 3 | 2009 | Qtr | 1 | 14 |\n",
       "| 33 | 3 | 2006 | Qtr | 3 | 22 |\n",
       "| 28 | 1 | 2009 | Qtr | 3 | 20 |\n",
       "| 2 | 1 | 2007 | Qtr | 1 | 12 |\n",
       "| 15 | 1 | 2008 | Qtr | 2 | 22 |\n",
       "\n"
      ],
      "text/plain": [
       "   Group Year Time_Interval Interval_ID Revenue\n",
       "12 3     2009 Qtr           1           14     \n",
       "33 3     2006 Qtr           3           22     \n",
       "28 1     2009 Qtr           3           20     \n",
       "2  1     2007 Qtr           1           12     \n",
       "15 1     2008 Qtr           2           22     "
      ]
     },
     "metadata": {},
     "output_type": "display_data"
    },
    {
     "name": "stdout",
     "output_type": "stream",
     "text": [
      "'data.frame':\t48 obs. of  5 variables:\n",
      " $ Group        : int  1 1 1 1 2 2 2 2 3 3 ...\n",
      " $ Year         : int  2006 2007 2008 2009 2006 2007 2008 2009 2006 2007 ...\n",
      " $ Time_Interval: chr  \"Qtr\" \"Qtr\" \"Qtr\" \"Qtr\" ...\n",
      " $ Interval_ID  : chr  \"1\" \"1\" \"1\" \"1\" ...\n",
      " $ Revenue      : int  15 12 22 10 12 16 13 23 11 13 ...\n",
      "'data.frame':\t48 obs. of  5 variables:\n",
      " $ Group        : int  1 1 1 1 2 2 2 2 3 3 ...\n",
      " $ Year         : int  2006 2007 2008 2009 2006 2007 2008 2009 2006 2007 ...\n",
      " $ Time_Interval: chr  \"Qtr\" \"Qtr\" \"Qtr\" \"Qtr\" ...\n",
      " $ Interval_ID  : chr  \"1\" \"1\" \"1\" \"1\" ...\n",
      " $ Revenue      : int  15 12 22 10 12 16 13 23 11 13 ...\n"
     ]
    },
    {
     "data": {
      "text/html": [
       "<table class=\"dataframe\">\n",
       "<caption>A data.frame: 6 × 4</caption>\n",
       "<thead>\n",
       "\t<tr><th></th><th scope=col>Group</th><th scope=col>Year</th><th scope=col>Quarter</th><th scope=col>Revenue</th></tr>\n",
       "\t<tr><th></th><th scope=col>&lt;int&gt;</th><th scope=col>&lt;int&gt;</th><th scope=col>&lt;chr&gt;</th><th scope=col>&lt;int&gt;</th></tr>\n",
       "</thead>\n",
       "<tbody>\n",
       "\t<tr><th scope=row>1</th><td>1</td><td>2006</td><td>Qtr.1</td><td>15</td></tr>\n",
       "\t<tr><th scope=row>2</th><td>1</td><td>2007</td><td>Qtr.1</td><td>12</td></tr>\n",
       "\t<tr><th scope=row>3</th><td>1</td><td>2008</td><td>Qtr.1</td><td>22</td></tr>\n",
       "\t<tr><th scope=row>4</th><td>1</td><td>2009</td><td>Qtr.1</td><td>10</td></tr>\n",
       "\t<tr><th scope=row>5</th><td>2</td><td>2006</td><td>Qtr.1</td><td>12</td></tr>\n",
       "\t<tr><th scope=row>6</th><td>2</td><td>2007</td><td>Qtr.1</td><td>16</td></tr>\n",
       "</tbody>\n",
       "</table>\n"
      ],
      "text/latex": [
       "A data.frame: 6 × 4\n",
       "\\begin{tabular}{r|llll}\n",
       "  & Group & Year & Quarter & Revenue\\\\\n",
       "  & <int> & <int> & <chr> & <int>\\\\\n",
       "\\hline\n",
       "\t1 & 1 & 2006 & Qtr.1 & 15\\\\\n",
       "\t2 & 1 & 2007 & Qtr.1 & 12\\\\\n",
       "\t3 & 1 & 2008 & Qtr.1 & 22\\\\\n",
       "\t4 & 1 & 2009 & Qtr.1 & 10\\\\\n",
       "\t5 & 2 & 2006 & Qtr.1 & 12\\\\\n",
       "\t6 & 2 & 2007 & Qtr.1 & 16\\\\\n",
       "\\end{tabular}\n"
      ],
      "text/markdown": [
       "\n",
       "A data.frame: 6 × 4\n",
       "\n",
       "| <!--/--> | Group &lt;int&gt; | Year &lt;int&gt; | Quarter &lt;chr&gt; | Revenue &lt;int&gt; |\n",
       "|---|---|---|---|---|\n",
       "| 1 | 1 | 2006 | Qtr.1 | 15 |\n",
       "| 2 | 1 | 2007 | Qtr.1 | 12 |\n",
       "| 3 | 1 | 2008 | Qtr.1 | 22 |\n",
       "| 4 | 1 | 2009 | Qtr.1 | 10 |\n",
       "| 5 | 2 | 2006 | Qtr.1 | 12 |\n",
       "| 6 | 2 | 2007 | Qtr.1 | 16 |\n",
       "\n"
      ],
      "text/plain": [
       "  Group Year Quarter Revenue\n",
       "1 1     2006 Qtr.1   15     \n",
       "2 1     2007 Qtr.1   12     \n",
       "3 1     2008 Qtr.1   22     \n",
       "4 1     2009 Qtr.1   10     \n",
       "5 2     2006 Qtr.1   12     \n",
       "6 2     2007 Qtr.1   16     "
      ]
     },
     "metadata": {},
     "output_type": "display_data"
    }
   ],
   "source": [
    "samp <- sample(nrow(df_l), 5)\n",
    "df_l[samp, ]\n",
    "df_sep <- df_l %>% separate(Quarter, c(\"Time_Interval\", \"Interval_ID\"))\n",
    "df_sep[samp, ]\n",
    "\n",
    "# This produce the same results:\n",
    "df_sep %>% str()\n",
    "df_l %>% separate(Quarter, c(\"Time_Interval\", \"Interval_ID\"), sep = \"\\\\.\") %>% str()\n",
    "\n",
    "# now going back with unite()\n",
    "df_sep %>% unite(Quarter, Time_Interval, Interval_ID, sep = \".\") %>% head()"
   ]
  },
  {
   "cell_type": "markdown",
   "metadata": {},
   "source": [
    "<a id='dplyr'></a>\n",
    "\n",
    "### Transforming Your Data with dplyr\n",
    "For a very similar reason we presented you some of the functions from `tidyr`, we will introduce to you a new useful library `dplyr`.  \n",
    "This package was built for the sole purpose of simplifying the process of manipulating, sorting, summarizing, and joining data frames. The fundamental functions of data transformation that the dplyr package offers includes:\n",
    "- select() - selects variables\n",
    "- filter() - provides basic filtering capabilities\n",
    "- group_by() - groups data by categorical levels\n",
    "- summarise() - summarizes data by functions of choice\n",
    "- arrange() - orders data\n",
    "- join() - joins separate dataframes\n",
    "- mutate() - creates new variables"
   ]
  },
  {
   "cell_type": "code",
   "execution_count": 14,
   "metadata": {
    "vscode": {
     "languageId": "r"
    }
   },
   "outputs": [
    {
     "name": "stderr",
     "output_type": "stream",
     "text": [
      "Loading required package: dplyr\n",
      "\n",
      "\n",
      "Attaching package: 'dplyr'\n",
      "\n",
      "\n",
      "The following objects are masked from 'package:stats':\n",
      "\n",
      "    filter, lag\n",
      "\n",
      "\n",
      "The following objects are masked from 'package:base':\n",
      "\n",
      "    intersect, setdiff, setequal, union\n",
      "\n",
      "\n"
     ]
    }
   ],
   "source": [
    "if (!require(\"dplyr\")) {\n",
    "    install.packages(\"dplyr\")\n",
    "    library(dplyr)\n",
    "}"
   ]
  },
  {
   "cell_type": "markdown",
   "metadata": {},
   "source": [
    "#### select( ) function:\n",
    "Reduce dataframe size to only desired variables for current task.  \n",
    "When working with a sizable dataframe, often we desire to only assess specific variables. The select() function allows you to select and/or rename variables.  \n",
    "  \n",
    "_Note: In the following example we will use some public data from datasets package._"
   ]
  },
  {
   "cell_type": "code",
   "execution_count": 15,
   "metadata": {
    "vscode": {
     "languageId": "r"
    }
   },
   "outputs": [
    {
     "name": "stdout",
     "output_type": "stream",
     "text": [
      " Time-Series [1:144] from 1949 to 1961: 112 118 132 129 121 135 148 148 136 119 ...\n"
     ]
    },
    {
     "data": {
      "text/html": [
       "<table class=\"dataframe\">\n",
       "<caption>A data.frame: 6 × 12</caption>\n",
       "<thead>\n",
       "\t<tr><th></th><th scope=col>Jan</th><th scope=col>Feb</th><th scope=col>Mar</th><th scope=col>Apr</th><th scope=col>May</th><th scope=col>Jun</th><th scope=col>Jul</th><th scope=col>Aug</th><th scope=col>Sep</th><th scope=col>Oct</th><th scope=col>Nov</th><th scope=col>Dec</th></tr>\n",
       "\t<tr><th></th><th scope=col>&lt;dbl&gt;</th><th scope=col>&lt;dbl&gt;</th><th scope=col>&lt;dbl&gt;</th><th scope=col>&lt;dbl&gt;</th><th scope=col>&lt;dbl&gt;</th><th scope=col>&lt;dbl&gt;</th><th scope=col>&lt;dbl&gt;</th><th scope=col>&lt;dbl&gt;</th><th scope=col>&lt;dbl&gt;</th><th scope=col>&lt;dbl&gt;</th><th scope=col>&lt;dbl&gt;</th><th scope=col>&lt;dbl&gt;</th></tr>\n",
       "</thead>\n",
       "<tbody>\n",
       "\t<tr><th scope=row>1949</th><td>112</td><td>118</td><td>132</td><td>129</td><td>121</td><td>135</td><td>148</td><td>148</td><td>136</td><td>119</td><td>104</td><td>118</td></tr>\n",
       "\t<tr><th scope=row>1950</th><td>115</td><td>126</td><td>141</td><td>135</td><td>125</td><td>149</td><td>170</td><td>170</td><td>158</td><td>133</td><td>114</td><td>140</td></tr>\n",
       "\t<tr><th scope=row>1951</th><td>145</td><td>150</td><td>178</td><td>163</td><td>172</td><td>178</td><td>199</td><td>199</td><td>184</td><td>162</td><td>146</td><td>166</td></tr>\n",
       "\t<tr><th scope=row>1952</th><td>171</td><td>180</td><td>193</td><td>181</td><td>183</td><td>218</td><td>230</td><td>242</td><td>209</td><td>191</td><td>172</td><td>194</td></tr>\n",
       "\t<tr><th scope=row>1953</th><td>196</td><td>196</td><td>236</td><td>235</td><td>229</td><td>243</td><td>264</td><td>272</td><td>237</td><td>211</td><td>180</td><td>201</td></tr>\n",
       "\t<tr><th scope=row>1954</th><td>204</td><td>188</td><td>235</td><td>227</td><td>234</td><td>264</td><td>302</td><td>293</td><td>259</td><td>229</td><td>203</td><td>229</td></tr>\n",
       "</tbody>\n",
       "</table>\n"
      ],
      "text/latex": [
       "A data.frame: 6 × 12\n",
       "\\begin{tabular}{r|llllllllllll}\n",
       "  & Jan & Feb & Mar & Apr & May & Jun & Jul & Aug & Sep & Oct & Nov & Dec\\\\\n",
       "  & <dbl> & <dbl> & <dbl> & <dbl> & <dbl> & <dbl> & <dbl> & <dbl> & <dbl> & <dbl> & <dbl> & <dbl>\\\\\n",
       "\\hline\n",
       "\t1949 & 112 & 118 & 132 & 129 & 121 & 135 & 148 & 148 & 136 & 119 & 104 & 118\\\\\n",
       "\t1950 & 115 & 126 & 141 & 135 & 125 & 149 & 170 & 170 & 158 & 133 & 114 & 140\\\\\n",
       "\t1951 & 145 & 150 & 178 & 163 & 172 & 178 & 199 & 199 & 184 & 162 & 146 & 166\\\\\n",
       "\t1952 & 171 & 180 & 193 & 181 & 183 & 218 & 230 & 242 & 209 & 191 & 172 & 194\\\\\n",
       "\t1953 & 196 & 196 & 236 & 235 & 229 & 243 & 264 & 272 & 237 & 211 & 180 & 201\\\\\n",
       "\t1954 & 204 & 188 & 235 & 227 & 234 & 264 & 302 & 293 & 259 & 229 & 203 & 229\\\\\n",
       "\\end{tabular}\n"
      ],
      "text/markdown": [
       "\n",
       "A data.frame: 6 × 12\n",
       "\n",
       "| <!--/--> | Jan &lt;dbl&gt; | Feb &lt;dbl&gt; | Mar &lt;dbl&gt; | Apr &lt;dbl&gt; | May &lt;dbl&gt; | Jun &lt;dbl&gt; | Jul &lt;dbl&gt; | Aug &lt;dbl&gt; | Sep &lt;dbl&gt; | Oct &lt;dbl&gt; | Nov &lt;dbl&gt; | Dec &lt;dbl&gt; |\n",
       "|---|---|---|---|---|---|---|---|---|---|---|---|---|\n",
       "| 1949 | 112 | 118 | 132 | 129 | 121 | 135 | 148 | 148 | 136 | 119 | 104 | 118 |\n",
       "| 1950 | 115 | 126 | 141 | 135 | 125 | 149 | 170 | 170 | 158 | 133 | 114 | 140 |\n",
       "| 1951 | 145 | 150 | 178 | 163 | 172 | 178 | 199 | 199 | 184 | 162 | 146 | 166 |\n",
       "| 1952 | 171 | 180 | 193 | 181 | 183 | 218 | 230 | 242 | 209 | 191 | 172 | 194 |\n",
       "| 1953 | 196 | 196 | 236 | 235 | 229 | 243 | 264 | 272 | 237 | 211 | 180 | 201 |\n",
       "| 1954 | 204 | 188 | 235 | 227 | 234 | 264 | 302 | 293 | 259 | 229 | 203 | 229 |\n",
       "\n"
      ],
      "text/plain": [
       "     Jan Feb Mar Apr May Jun Jul Aug Sep Oct Nov Dec\n",
       "1949 112 118 132 129 121 135 148 148 136 119 104 118\n",
       "1950 115 126 141 135 125 149 170 170 158 133 114 140\n",
       "1951 145 150 178 163 172 178 199 199 184 162 146 166\n",
       "1952 171 180 193 181 183 218 230 242 209 191 172 194\n",
       "1953 196 196 236 235 229 243 264 272 237 211 180 201\n",
       "1954 204 188 235 227 234 264 302 293 259 229 203 229"
      ]
     },
     "metadata": {},
     "output_type": "display_data"
    },
    {
     "data": {
      "text/html": [
       "<table class=\"dataframe\">\n",
       "<caption>A data.frame: 6 × 3</caption>\n",
       "<thead>\n",
       "\t<tr><th></th><th scope=col>Jun</th><th scope=col>Jul</th><th scope=col>Aug</th></tr>\n",
       "\t<tr><th></th><th scope=col>&lt;dbl&gt;</th><th scope=col>&lt;dbl&gt;</th><th scope=col>&lt;dbl&gt;</th></tr>\n",
       "</thead>\n",
       "<tbody>\n",
       "\t<tr><th scope=row>1949</th><td>135</td><td>148</td><td>148</td></tr>\n",
       "\t<tr><th scope=row>1950</th><td>149</td><td>170</td><td>170</td></tr>\n",
       "\t<tr><th scope=row>1951</th><td>178</td><td>199</td><td>199</td></tr>\n",
       "\t<tr><th scope=row>1952</th><td>218</td><td>230</td><td>242</td></tr>\n",
       "\t<tr><th scope=row>1953</th><td>243</td><td>264</td><td>272</td></tr>\n",
       "\t<tr><th scope=row>1954</th><td>264</td><td>302</td><td>293</td></tr>\n",
       "</tbody>\n",
       "</table>\n"
      ],
      "text/latex": [
       "A data.frame: 6 × 3\n",
       "\\begin{tabular}{r|lll}\n",
       "  & Jun & Jul & Aug\\\\\n",
       "  & <dbl> & <dbl> & <dbl>\\\\\n",
       "\\hline\n",
       "\t1949 & 135 & 148 & 148\\\\\n",
       "\t1950 & 149 & 170 & 170\\\\\n",
       "\t1951 & 178 & 199 & 199\\\\\n",
       "\t1952 & 218 & 230 & 242\\\\\n",
       "\t1953 & 243 & 264 & 272\\\\\n",
       "\t1954 & 264 & 302 & 293\\\\\n",
       "\\end{tabular}\n"
      ],
      "text/markdown": [
       "\n",
       "A data.frame: 6 × 3\n",
       "\n",
       "| <!--/--> | Jun &lt;dbl&gt; | Jul &lt;dbl&gt; | Aug &lt;dbl&gt; |\n",
       "|---|---|---|---|\n",
       "| 1949 | 135 | 148 | 148 |\n",
       "| 1950 | 149 | 170 | 170 |\n",
       "| 1951 | 178 | 199 | 199 |\n",
       "| 1952 | 218 | 230 | 242 |\n",
       "| 1953 | 243 | 264 | 272 |\n",
       "| 1954 | 264 | 302 | 293 |\n",
       "\n"
      ],
      "text/plain": [
       "     Jun Jul Aug\n",
       "1949 135 148 148\n",
       "1950 149 170 170\n",
       "1951 178 199 199\n",
       "1952 218 230 242\n",
       "1953 243 264 272\n",
       "1954 264 302 293"
      ]
     },
     "metadata": {},
     "output_type": "display_data"
    },
    {
     "data": {
      "text/html": [
       "<table class=\"dataframe\">\n",
       "<caption>A data.frame: 6 × 3</caption>\n",
       "<thead>\n",
       "\t<tr><th></th><th scope=col>Jun</th><th scope=col>Jul</th><th scope=col>Aug</th></tr>\n",
       "\t<tr><th></th><th scope=col>&lt;dbl&gt;</th><th scope=col>&lt;dbl&gt;</th><th scope=col>&lt;dbl&gt;</th></tr>\n",
       "</thead>\n",
       "<tbody>\n",
       "\t<tr><th scope=row>1949</th><td>135</td><td>148</td><td>148</td></tr>\n",
       "\t<tr><th scope=row>1950</th><td>149</td><td>170</td><td>170</td></tr>\n",
       "\t<tr><th scope=row>1951</th><td>178</td><td>199</td><td>199</td></tr>\n",
       "\t<tr><th scope=row>1952</th><td>218</td><td>230</td><td>242</td></tr>\n",
       "\t<tr><th scope=row>1953</th><td>243</td><td>264</td><td>272</td></tr>\n",
       "\t<tr><th scope=row>1954</th><td>264</td><td>302</td><td>293</td></tr>\n",
       "</tbody>\n",
       "</table>\n"
      ],
      "text/latex": [
       "A data.frame: 6 × 3\n",
       "\\begin{tabular}{r|lll}\n",
       "  & Jun & Jul & Aug\\\\\n",
       "  & <dbl> & <dbl> & <dbl>\\\\\n",
       "\\hline\n",
       "\t1949 & 135 & 148 & 148\\\\\n",
       "\t1950 & 149 & 170 & 170\\\\\n",
       "\t1951 & 178 & 199 & 199\\\\\n",
       "\t1952 & 218 & 230 & 242\\\\\n",
       "\t1953 & 243 & 264 & 272\\\\\n",
       "\t1954 & 264 & 302 & 293\\\\\n",
       "\\end{tabular}\n"
      ],
      "text/markdown": [
       "\n",
       "A data.frame: 6 × 3\n",
       "\n",
       "| <!--/--> | Jun &lt;dbl&gt; | Jul &lt;dbl&gt; | Aug &lt;dbl&gt; |\n",
       "|---|---|---|---|\n",
       "| 1949 | 135 | 148 | 148 |\n",
       "| 1950 | 149 | 170 | 170 |\n",
       "| 1951 | 178 | 199 | 199 |\n",
       "| 1952 | 218 | 230 | 242 |\n",
       "| 1953 | 243 | 264 | 272 |\n",
       "| 1954 | 264 | 302 | 293 |\n",
       "\n"
      ],
      "text/plain": [
       "     Jun Jul Aug\n",
       "1949 135 148 148\n",
       "1950 149 170 170\n",
       "1951 178 199 199\n",
       "1952 218 230 242\n",
       "1953 243 264 272\n",
       "1954 264 302 293"
      ]
     },
     "metadata": {},
     "output_type": "display_data"
    },
    {
     "data": {
      "text/html": [
       "<table class=\"dataframe\">\n",
       "<caption>A data.frame: 6 × 3</caption>\n",
       "<thead>\n",
       "\t<tr><th></th><th scope=col>Jun</th><th scope=col>Jul</th><th scope=col>Aug</th></tr>\n",
       "\t<tr><th></th><th scope=col>&lt;dbl&gt;</th><th scope=col>&lt;dbl&gt;</th><th scope=col>&lt;dbl&gt;</th></tr>\n",
       "</thead>\n",
       "<tbody>\n",
       "\t<tr><th scope=row>1949</th><td>135</td><td>148</td><td>148</td></tr>\n",
       "\t<tr><th scope=row>1950</th><td>149</td><td>170</td><td>170</td></tr>\n",
       "\t<tr><th scope=row>1951</th><td>178</td><td>199</td><td>199</td></tr>\n",
       "\t<tr><th scope=row>1952</th><td>218</td><td>230</td><td>242</td></tr>\n",
       "\t<tr><th scope=row>1953</th><td>243</td><td>264</td><td>272</td></tr>\n",
       "\t<tr><th scope=row>1954</th><td>264</td><td>302</td><td>293</td></tr>\n",
       "</tbody>\n",
       "</table>\n"
      ],
      "text/latex": [
       "A data.frame: 6 × 3\n",
       "\\begin{tabular}{r|lll}\n",
       "  & Jun & Jul & Aug\\\\\n",
       "  & <dbl> & <dbl> & <dbl>\\\\\n",
       "\\hline\n",
       "\t1949 & 135 & 148 & 148\\\\\n",
       "\t1950 & 149 & 170 & 170\\\\\n",
       "\t1951 & 178 & 199 & 199\\\\\n",
       "\t1952 & 218 & 230 & 242\\\\\n",
       "\t1953 & 243 & 264 & 272\\\\\n",
       "\t1954 & 264 & 302 & 293\\\\\n",
       "\\end{tabular}\n"
      ],
      "text/markdown": [
       "\n",
       "A data.frame: 6 × 3\n",
       "\n",
       "| <!--/--> | Jun &lt;dbl&gt; | Jul &lt;dbl&gt; | Aug &lt;dbl&gt; |\n",
       "|---|---|---|---|\n",
       "| 1949 | 135 | 148 | 148 |\n",
       "| 1950 | 149 | 170 | 170 |\n",
       "| 1951 | 178 | 199 | 199 |\n",
       "| 1952 | 218 | 230 | 242 |\n",
       "| 1953 | 243 | 264 | 272 |\n",
       "| 1954 | 264 | 302 | 293 |\n",
       "\n"
      ],
      "text/plain": [
       "     Jun Jul Aug\n",
       "1949 135 148 148\n",
       "1950 149 170 170\n",
       "1951 178 199 199\n",
       "1952 218 230 242\n",
       "1953 243 264 272\n",
       "1954 264 302 293"
      ]
     },
     "metadata": {},
     "output_type": "display_data"
    },
    {
     "data": {
      "text/html": [
       "<table class=\"dataframe\">\n",
       "<caption>A data.frame: 6 × 3</caption>\n",
       "<thead>\n",
       "\t<tr><th></th><th scope=col>Jan</th><th scope=col>Jun</th><th scope=col>Jul</th></tr>\n",
       "\t<tr><th></th><th scope=col>&lt;dbl&gt;</th><th scope=col>&lt;dbl&gt;</th><th scope=col>&lt;dbl&gt;</th></tr>\n",
       "</thead>\n",
       "<tbody>\n",
       "\t<tr><th scope=row>1949</th><td>112</td><td>135</td><td>148</td></tr>\n",
       "\t<tr><th scope=row>1950</th><td>115</td><td>149</td><td>170</td></tr>\n",
       "\t<tr><th scope=row>1951</th><td>145</td><td>178</td><td>199</td></tr>\n",
       "\t<tr><th scope=row>1952</th><td>171</td><td>218</td><td>230</td></tr>\n",
       "\t<tr><th scope=row>1953</th><td>196</td><td>243</td><td>264</td></tr>\n",
       "\t<tr><th scope=row>1954</th><td>204</td><td>264</td><td>302</td></tr>\n",
       "</tbody>\n",
       "</table>\n"
      ],
      "text/latex": [
       "A data.frame: 6 × 3\n",
       "\\begin{tabular}{r|lll}\n",
       "  & Jan & Jun & Jul\\\\\n",
       "  & <dbl> & <dbl> & <dbl>\\\\\n",
       "\\hline\n",
       "\t1949 & 112 & 135 & 148\\\\\n",
       "\t1950 & 115 & 149 & 170\\\\\n",
       "\t1951 & 145 & 178 & 199\\\\\n",
       "\t1952 & 171 & 218 & 230\\\\\n",
       "\t1953 & 196 & 243 & 264\\\\\n",
       "\t1954 & 204 & 264 & 302\\\\\n",
       "\\end{tabular}\n"
      ],
      "text/markdown": [
       "\n",
       "A data.frame: 6 × 3\n",
       "\n",
       "| <!--/--> | Jan &lt;dbl&gt; | Jun &lt;dbl&gt; | Jul &lt;dbl&gt; |\n",
       "|---|---|---|---|\n",
       "| 1949 | 112 | 135 | 148 |\n",
       "| 1950 | 115 | 149 | 170 |\n",
       "| 1951 | 145 | 178 | 199 |\n",
       "| 1952 | 171 | 218 | 230 |\n",
       "| 1953 | 196 | 243 | 264 |\n",
       "| 1954 | 204 | 264 | 302 |\n",
       "\n"
      ],
      "text/plain": [
       "     Jan Jun Jul\n",
       "1949 112 135 148\n",
       "1950 115 149 170\n",
       "1951 145 178 199\n",
       "1952 171 218 230\n",
       "1953 196 243 264\n",
       "1954 204 264 302"
      ]
     },
     "metadata": {},
     "output_type": "display_data"
    }
   ],
   "source": [
    "# library(help = \"datasets\")\n",
    "# Monthly Airline Passenger Numbers 1949-1960\n",
    "str(AirPassengers)\n",
    "# this one is a time series, let's convert it into a data.frame\n",
    "df_air <- data.frame(t(matrix(AirPassengers, 12, dimnames=list(month.abb))), row.names=1949:1960)\n",
    "head(df_air)\n",
    "# selecting just the summer months\n",
    "df_air %>% select(Jun, Jul, Aug) %>% head()\n",
    "# or these\n",
    "df_air %>% select(Jun:Aug) %>% head()\n",
    "df_air %>% select(6:8) %>% head()\n",
    "# or for selection you can use one of the special functions: \n",
    "# starts_with, ends_with, contains, matches\n",
    "df_air %>% select(starts_with('J')) %>% head()\n"
   ]
  },
  {
   "cell_type": "markdown",
   "metadata": {},
   "source": [
    "#### filter( ) function:\n",
    "Reduce rows/observations with matching conditions.  \n",
    "Filtering data is a common task to identify/select observations in which a particular variable matches a specific value/condition. The filter() function provides this capability."
   ]
  },
  {
   "cell_type": "code",
   "execution_count": 16,
   "metadata": {
    "vscode": {
     "languageId": "r"
    }
   },
   "outputs": [
    {
     "data": {
      "text/html": [
       "<table class=\"dataframe\">\n",
       "<caption>A data.frame: 4 × 11</caption>\n",
       "<thead>\n",
       "\t<tr><th></th><th scope=col>mpg</th><th scope=col>cyl</th><th scope=col>disp</th><th scope=col>hp</th><th scope=col>drat</th><th scope=col>wt</th><th scope=col>qsec</th><th scope=col>vs</th><th scope=col>am</th><th scope=col>gear</th><th scope=col>carb</th></tr>\n",
       "\t<tr><th></th><th scope=col>&lt;dbl&gt;</th><th scope=col>&lt;dbl&gt;</th><th scope=col>&lt;dbl&gt;</th><th scope=col>&lt;dbl&gt;</th><th scope=col>&lt;dbl&gt;</th><th scope=col>&lt;dbl&gt;</th><th scope=col>&lt;dbl&gt;</th><th scope=col>&lt;dbl&gt;</th><th scope=col>&lt;dbl&gt;</th><th scope=col>&lt;dbl&gt;</th><th scope=col>&lt;dbl&gt;</th></tr>\n",
       "</thead>\n",
       "<tbody>\n",
       "\t<tr><th scope=row>Mazda RX4</th><td>21.0</td><td>6</td><td>160</td><td>110</td><td>3.90</td><td>2.620</td><td>16.46</td><td>0</td><td>1</td><td>4</td><td>4</td></tr>\n",
       "\t<tr><th scope=row>Mazda RX4 Wag</th><td>21.0</td><td>6</td><td>160</td><td>110</td><td>3.90</td><td>2.875</td><td>17.02</td><td>0</td><td>1</td><td>4</td><td>4</td></tr>\n",
       "\t<tr><th scope=row>Datsun 710</th><td>22.8</td><td>4</td><td>108</td><td> 93</td><td>3.85</td><td>2.320</td><td>18.61</td><td>1</td><td>1</td><td>4</td><td>1</td></tr>\n",
       "\t<tr><th scope=row>Hornet 4 Drive</th><td>21.4</td><td>6</td><td>258</td><td>110</td><td>3.08</td><td>3.215</td><td>19.44</td><td>1</td><td>0</td><td>3</td><td>1</td></tr>\n",
       "</tbody>\n",
       "</table>\n"
      ],
      "text/latex": [
       "A data.frame: 4 × 11\n",
       "\\begin{tabular}{r|lllllllllll}\n",
       "  & mpg & cyl & disp & hp & drat & wt & qsec & vs & am & gear & carb\\\\\n",
       "  & <dbl> & <dbl> & <dbl> & <dbl> & <dbl> & <dbl> & <dbl> & <dbl> & <dbl> & <dbl> & <dbl>\\\\\n",
       "\\hline\n",
       "\tMazda RX4 & 21.0 & 6 & 160 & 110 & 3.90 & 2.620 & 16.46 & 0 & 1 & 4 & 4\\\\\n",
       "\tMazda RX4 Wag & 21.0 & 6 & 160 & 110 & 3.90 & 2.875 & 17.02 & 0 & 1 & 4 & 4\\\\\n",
       "\tDatsun 710 & 22.8 & 4 & 108 &  93 & 3.85 & 2.320 & 18.61 & 1 & 1 & 4 & 1\\\\\n",
       "\tHornet 4 Drive & 21.4 & 6 & 258 & 110 & 3.08 & 3.215 & 19.44 & 1 & 0 & 3 & 1\\\\\n",
       "\\end{tabular}\n"
      ],
      "text/markdown": [
       "\n",
       "A data.frame: 4 × 11\n",
       "\n",
       "| <!--/--> | mpg &lt;dbl&gt; | cyl &lt;dbl&gt; | disp &lt;dbl&gt; | hp &lt;dbl&gt; | drat &lt;dbl&gt; | wt &lt;dbl&gt; | qsec &lt;dbl&gt; | vs &lt;dbl&gt; | am &lt;dbl&gt; | gear &lt;dbl&gt; | carb &lt;dbl&gt; |\n",
       "|---|---|---|---|---|---|---|---|---|---|---|---|\n",
       "| Mazda RX4 | 21.0 | 6 | 160 | 110 | 3.90 | 2.620 | 16.46 | 0 | 1 | 4 | 4 |\n",
       "| Mazda RX4 Wag | 21.0 | 6 | 160 | 110 | 3.90 | 2.875 | 17.02 | 0 | 1 | 4 | 4 |\n",
       "| Datsun 710 | 22.8 | 4 | 108 |  93 | 3.85 | 2.320 | 18.61 | 1 | 1 | 4 | 1 |\n",
       "| Hornet 4 Drive | 21.4 | 6 | 258 | 110 | 3.08 | 3.215 | 19.44 | 1 | 0 | 3 | 1 |\n",
       "\n"
      ],
      "text/plain": [
       "               mpg  cyl disp hp  drat wt    qsec  vs am gear carb\n",
       "Mazda RX4      21.0 6   160  110 3.90 2.620 16.46 0  1  4    4   \n",
       "Mazda RX4 Wag  21.0 6   160  110 3.90 2.875 17.02 0  1  4    4   \n",
       "Datsun 710     22.8 4   108   93 3.85 2.320 18.61 1  1  4    1   \n",
       "Hornet 4 Drive 21.4 6   258  110 3.08 3.215 19.44 1  0  3    1   "
      ]
     },
     "metadata": {},
     "output_type": "display_data"
    },
    {
     "data": {
      "text/html": [
       "<table class=\"dataframe\">\n",
       "<caption>A data.frame: 4 × 11</caption>\n",
       "<thead>\n",
       "\t<tr><th></th><th scope=col>mpg</th><th scope=col>cyl</th><th scope=col>disp</th><th scope=col>hp</th><th scope=col>drat</th><th scope=col>wt</th><th scope=col>qsec</th><th scope=col>vs</th><th scope=col>am</th><th scope=col>gear</th><th scope=col>carb</th></tr>\n",
       "\t<tr><th></th><th scope=col>&lt;dbl&gt;</th><th scope=col>&lt;dbl&gt;</th><th scope=col>&lt;dbl&gt;</th><th scope=col>&lt;dbl&gt;</th><th scope=col>&lt;dbl&gt;</th><th scope=col>&lt;dbl&gt;</th><th scope=col>&lt;dbl&gt;</th><th scope=col>&lt;dbl&gt;</th><th scope=col>&lt;dbl&gt;</th><th scope=col>&lt;dbl&gt;</th><th scope=col>&lt;dbl&gt;</th></tr>\n",
       "</thead>\n",
       "<tbody>\n",
       "\t<tr><th scope=row>Datsun 710</th><td>22.8</td><td>4</td><td>108.0</td><td>93</td><td>3.85</td><td>2.32</td><td>18.61</td><td>1</td><td>1</td><td>4</td><td>1</td></tr>\n",
       "\t<tr><th scope=row>Merc 240D</th><td>24.4</td><td>4</td><td>146.7</td><td>62</td><td>3.69</td><td>3.19</td><td>20.00</td><td>1</td><td>0</td><td>4</td><td>2</td></tr>\n",
       "\t<tr><th scope=row>Merc 230</th><td>22.8</td><td>4</td><td>140.8</td><td>95</td><td>3.92</td><td>3.15</td><td>22.90</td><td>1</td><td>0</td><td>4</td><td>2</td></tr>\n",
       "\t<tr><th scope=row>Fiat 128</th><td>32.4</td><td>4</td><td> 78.7</td><td>66</td><td>4.08</td><td>2.20</td><td>19.47</td><td>1</td><td>1</td><td>4</td><td>1</td></tr>\n",
       "</tbody>\n",
       "</table>\n"
      ],
      "text/latex": [
       "A data.frame: 4 × 11\n",
       "\\begin{tabular}{r|lllllllllll}\n",
       "  & mpg & cyl & disp & hp & drat & wt & qsec & vs & am & gear & carb\\\\\n",
       "  & <dbl> & <dbl> & <dbl> & <dbl> & <dbl> & <dbl> & <dbl> & <dbl> & <dbl> & <dbl> & <dbl>\\\\\n",
       "\\hline\n",
       "\tDatsun 710 & 22.8 & 4 & 108.0 & 93 & 3.85 & 2.32 & 18.61 & 1 & 1 & 4 & 1\\\\\n",
       "\tMerc 240D & 24.4 & 4 & 146.7 & 62 & 3.69 & 3.19 & 20.00 & 1 & 0 & 4 & 2\\\\\n",
       "\tMerc 230 & 22.8 & 4 & 140.8 & 95 & 3.92 & 3.15 & 22.90 & 1 & 0 & 4 & 2\\\\\n",
       "\tFiat 128 & 32.4 & 4 &  78.7 & 66 & 4.08 & 2.20 & 19.47 & 1 & 1 & 4 & 1\\\\\n",
       "\\end{tabular}\n"
      ],
      "text/markdown": [
       "\n",
       "A data.frame: 4 × 11\n",
       "\n",
       "| <!--/--> | mpg &lt;dbl&gt; | cyl &lt;dbl&gt; | disp &lt;dbl&gt; | hp &lt;dbl&gt; | drat &lt;dbl&gt; | wt &lt;dbl&gt; | qsec &lt;dbl&gt; | vs &lt;dbl&gt; | am &lt;dbl&gt; | gear &lt;dbl&gt; | carb &lt;dbl&gt; |\n",
       "|---|---|---|---|---|---|---|---|---|---|---|---|\n",
       "| Datsun 710 | 22.8 | 4 | 108.0 | 93 | 3.85 | 2.32 | 18.61 | 1 | 1 | 4 | 1 |\n",
       "| Merc 240D | 24.4 | 4 | 146.7 | 62 | 3.69 | 3.19 | 20.00 | 1 | 0 | 4 | 2 |\n",
       "| Merc 230 | 22.8 | 4 | 140.8 | 95 | 3.92 | 3.15 | 22.90 | 1 | 0 | 4 | 2 |\n",
       "| Fiat 128 | 32.4 | 4 |  78.7 | 66 | 4.08 | 2.20 | 19.47 | 1 | 1 | 4 | 1 |\n",
       "\n"
      ],
      "text/plain": [
       "           mpg  cyl disp  hp drat wt   qsec  vs am gear carb\n",
       "Datsun 710 22.8 4   108.0 93 3.85 2.32 18.61 1  1  4    1   \n",
       "Merc 240D  24.4 4   146.7 62 3.69 3.19 20.00 1  0  4    2   \n",
       "Merc 230   22.8 4   140.8 95 3.92 3.15 22.90 1  0  4    2   \n",
       "Fiat 128   32.4 4    78.7 66 4.08 2.20 19.47 1  1  4    1   "
      ]
     },
     "metadata": {},
     "output_type": "display_data"
    }
   ],
   "source": [
    "# Motor Trend Car Road Tests\n",
    "head(mtcars, 4)\n",
    "# filter the cars with 4 cylinders\n",
    "head(mtcars %>% filter(cyl == 4), 4)"
   ]
  },
  {
   "cell_type": "markdown",
   "metadata": {},
   "source": [
    "We can apply multiple logic rules in the filter() function such as:\n",
    "- %in% - Group membership\n",
    "- is.na - is NA\n",
    "- &,|,! - Boolean operators"
   ]
  },
  {
   "cell_type": "markdown",
   "metadata": {},
   "source": [
    "#### group_by( ) function:\n",
    "Group data by categorical variables.  \n",
    "Often, observations are nested within groups or categories and our goals is to perform statistical analysis both at the observation level and also at the group level. The group_by() function allows us to create these categorical groupings."
   ]
  },
  {
   "cell_type": "code",
   "execution_count": 17,
   "metadata": {
    "vscode": {
     "languageId": "r"
    }
   },
   "outputs": [
    {
     "data": {
      "text/html": [
       "<table class=\"dataframe\">\n",
       "<caption>A grouped_df: 4 × 11</caption>\n",
       "<thead>\n",
       "\t<tr><th scope=col>mpg</th><th scope=col>cyl</th><th scope=col>disp</th><th scope=col>hp</th><th scope=col>drat</th><th scope=col>wt</th><th scope=col>qsec</th><th scope=col>vs</th><th scope=col>am</th><th scope=col>gear</th><th scope=col>carb</th></tr>\n",
       "\t<tr><th scope=col>&lt;dbl&gt;</th><th scope=col>&lt;dbl&gt;</th><th scope=col>&lt;dbl&gt;</th><th scope=col>&lt;dbl&gt;</th><th scope=col>&lt;dbl&gt;</th><th scope=col>&lt;dbl&gt;</th><th scope=col>&lt;dbl&gt;</th><th scope=col>&lt;dbl&gt;</th><th scope=col>&lt;dbl&gt;</th><th scope=col>&lt;dbl&gt;</th><th scope=col>&lt;dbl&gt;</th></tr>\n",
       "</thead>\n",
       "<tbody>\n",
       "\t<tr><td>21.0</td><td>6</td><td>160</td><td>110</td><td>3.90</td><td>2.620</td><td>16.46</td><td>0</td><td>1</td><td>4</td><td>4</td></tr>\n",
       "\t<tr><td>21.0</td><td>6</td><td>160</td><td>110</td><td>3.90</td><td>2.875</td><td>17.02</td><td>0</td><td>1</td><td>4</td><td>4</td></tr>\n",
       "\t<tr><td>22.8</td><td>4</td><td>108</td><td> 93</td><td>3.85</td><td>2.320</td><td>18.61</td><td>1</td><td>1</td><td>4</td><td>1</td></tr>\n",
       "\t<tr><td>21.4</td><td>6</td><td>258</td><td>110</td><td>3.08</td><td>3.215</td><td>19.44</td><td>1</td><td>0</td><td>3</td><td>1</td></tr>\n",
       "</tbody>\n",
       "</table>\n"
      ],
      "text/latex": [
       "A grouped\\_df: 4 × 11\n",
       "\\begin{tabular}{lllllllllll}\n",
       " mpg & cyl & disp & hp & drat & wt & qsec & vs & am & gear & carb\\\\\n",
       " <dbl> & <dbl> & <dbl> & <dbl> & <dbl> & <dbl> & <dbl> & <dbl> & <dbl> & <dbl> & <dbl>\\\\\n",
       "\\hline\n",
       "\t 21.0 & 6 & 160 & 110 & 3.90 & 2.620 & 16.46 & 0 & 1 & 4 & 4\\\\\n",
       "\t 21.0 & 6 & 160 & 110 & 3.90 & 2.875 & 17.02 & 0 & 1 & 4 & 4\\\\\n",
       "\t 22.8 & 4 & 108 &  93 & 3.85 & 2.320 & 18.61 & 1 & 1 & 4 & 1\\\\\n",
       "\t 21.4 & 6 & 258 & 110 & 3.08 & 3.215 & 19.44 & 1 & 0 & 3 & 1\\\\\n",
       "\\end{tabular}\n"
      ],
      "text/markdown": [
       "\n",
       "A grouped_df: 4 × 11\n",
       "\n",
       "| mpg &lt;dbl&gt; | cyl &lt;dbl&gt; | disp &lt;dbl&gt; | hp &lt;dbl&gt; | drat &lt;dbl&gt; | wt &lt;dbl&gt; | qsec &lt;dbl&gt; | vs &lt;dbl&gt; | am &lt;dbl&gt; | gear &lt;dbl&gt; | carb &lt;dbl&gt; |\n",
       "|---|---|---|---|---|---|---|---|---|---|---|\n",
       "| 21.0 | 6 | 160 | 110 | 3.90 | 2.620 | 16.46 | 0 | 1 | 4 | 4 |\n",
       "| 21.0 | 6 | 160 | 110 | 3.90 | 2.875 | 17.02 | 0 | 1 | 4 | 4 |\n",
       "| 22.8 | 4 | 108 |  93 | 3.85 | 2.320 | 18.61 | 1 | 1 | 4 | 1 |\n",
       "| 21.4 | 6 | 258 | 110 | 3.08 | 3.215 | 19.44 | 1 | 0 | 3 | 1 |\n",
       "\n"
      ],
      "text/plain": [
       "  mpg  cyl disp hp  drat wt    qsec  vs am gear carb\n",
       "1 21.0 6   160  110 3.90 2.620 16.46 0  1  4    4   \n",
       "2 21.0 6   160  110 3.90 2.875 17.02 0  1  4    4   \n",
       "3 22.8 4   108   93 3.85 2.320 18.61 1  1  4    1   \n",
       "4 21.4 6   258  110 3.08 3.215 19.44 1  0  3    1   "
      ]
     },
     "metadata": {},
     "output_type": "display_data"
    }
   ],
   "source": [
    "cars.cyl <- mtcars %>% group_by(cyl)\n",
    "head(cars.cyl, 4)\n"
   ]
  },
  {
   "cell_type": "markdown",
   "metadata": {},
   "source": [
    "The group_by() function is a silent function in which no observable manipulation of the data is performed as a result of applying the function. The real magic of the group_by() function comes when we perform summary statistics which we will cover shortly."
   ]
  },
  {
   "cell_type": "markdown",
   "metadata": {},
   "source": [
    "#### summarise( ) function:\n",
    "Perform summary statistics on variables.\n",
    "Obviously the goal of all this data wrangling is to be able to perform statistical analysis on our data. The summarise() function allows us to perform the majority of the initial summary statistics when performing exploratory data analysis."
   ]
  },
  {
   "cell_type": "code",
   "execution_count": 18,
   "metadata": {
    "vscode": {
     "languageId": "r"
    }
   },
   "outputs": [
    {
     "data": {
      "text/html": [
       "<table class=\"dataframe\">\n",
       "<caption>A data.frame: 1 × 7</caption>\n",
       "<thead>\n",
       "\t<tr><th scope=col>Min</th><th scope=col>Median</th><th scope=col>Mean</th><th scope=col>Var</th><th scope=col>SD</th><th scope=col>Max</th><th scope=col>N</th></tr>\n",
       "\t<tr><th scope=col>&lt;dbl&gt;</th><th scope=col>&lt;dbl&gt;</th><th scope=col>&lt;dbl&gt;</th><th scope=col>&lt;dbl&gt;</th><th scope=col>&lt;dbl&gt;</th><th scope=col>&lt;dbl&gt;</th><th scope=col>&lt;int&gt;</th></tr>\n",
       "</thead>\n",
       "<tbody>\n",
       "\t<tr><td>10.4</td><td>19.2</td><td>20.09062</td><td>36.3241</td><td>6.026948</td><td>33.9</td><td>32</td></tr>\n",
       "</tbody>\n",
       "</table>\n"
      ],
      "text/latex": [
       "A data.frame: 1 × 7\n",
       "\\begin{tabular}{lllllll}\n",
       " Min & Median & Mean & Var & SD & Max & N\\\\\n",
       " <dbl> & <dbl> & <dbl> & <dbl> & <dbl> & <dbl> & <int>\\\\\n",
       "\\hline\n",
       "\t 10.4 & 19.2 & 20.09062 & 36.3241 & 6.026948 & 33.9 & 32\\\\\n",
       "\\end{tabular}\n"
      ],
      "text/markdown": [
       "\n",
       "A data.frame: 1 × 7\n",
       "\n",
       "| Min &lt;dbl&gt; | Median &lt;dbl&gt; | Mean &lt;dbl&gt; | Var &lt;dbl&gt; | SD &lt;dbl&gt; | Max &lt;dbl&gt; | N &lt;int&gt; |\n",
       "|---|---|---|---|---|---|---|\n",
       "| 10.4 | 19.2 | 20.09062 | 36.3241 | 6.026948 | 33.9 | 32 |\n",
       "\n"
      ],
      "text/plain": [
       "  Min  Median Mean     Var     SD       Max  N \n",
       "1 10.4 19.2   20.09062 36.3241 6.026948 33.9 32"
      ]
     },
     "metadata": {},
     "output_type": "display_data"
    }
   ],
   "source": [
    "# an important metric for cars is the fuel consumtion\n",
    "mtcars %>% summarise(Min = min(mpg),\n",
    "                     Median = median(mpg, na.rm=TRUE),\n",
    "                     Mean = mean(mpg, na.rm=TRUE),\n",
    "                     Var = var(mpg, na.rm=TRUE),\n",
    "                     SD = sd(mpg, na.rm=TRUE),\n",
    "                     Max = max(mpg, na.rm=TRUE),\n",
    "                     N = n())"
   ]
  },
  {
   "cell_type": "markdown",
   "metadata": {},
   "source": [
    "This information is useful, but being able to compare summary statistics at multiple levels is when you really start to gather some insights. This is where the group_by() function comes in."
   ]
  },
  {
   "cell_type": "code",
   "execution_count": 19,
   "metadata": {
    "vscode": {
     "languageId": "r"
    }
   },
   "outputs": [
    {
     "data": {
      "text/html": [
       "<table class=\"dataframe\">\n",
       "<caption>A tibble: 3 × 8</caption>\n",
       "<thead>\n",
       "\t<tr><th scope=col>cyl</th><th scope=col>Min</th><th scope=col>Median</th><th scope=col>Mean</th><th scope=col>Var</th><th scope=col>SD</th><th scope=col>Max</th><th scope=col>N</th></tr>\n",
       "\t<tr><th scope=col>&lt;dbl&gt;</th><th scope=col>&lt;dbl&gt;</th><th scope=col>&lt;dbl&gt;</th><th scope=col>&lt;dbl&gt;</th><th scope=col>&lt;dbl&gt;</th><th scope=col>&lt;dbl&gt;</th><th scope=col>&lt;dbl&gt;</th><th scope=col>&lt;int&gt;</th></tr>\n",
       "</thead>\n",
       "<tbody>\n",
       "\t<tr><td>4</td><td>21.4</td><td>26.0</td><td>26.66364</td><td>20.338545</td><td>4.509828</td><td>33.9</td><td>11</td></tr>\n",
       "\t<tr><td>6</td><td>17.8</td><td>19.7</td><td>19.74286</td><td> 2.112857</td><td>1.453567</td><td>21.4</td><td> 7</td></tr>\n",
       "\t<tr><td>8</td><td>10.4</td><td>15.2</td><td>15.10000</td><td> 6.553846</td><td>2.560048</td><td>19.2</td><td>14</td></tr>\n",
       "</tbody>\n",
       "</table>\n"
      ],
      "text/latex": [
       "A tibble: 3 × 8\n",
       "\\begin{tabular}{llllllll}\n",
       " cyl & Min & Median & Mean & Var & SD & Max & N\\\\\n",
       " <dbl> & <dbl> & <dbl> & <dbl> & <dbl> & <dbl> & <dbl> & <int>\\\\\n",
       "\\hline\n",
       "\t 4 & 21.4 & 26.0 & 26.66364 & 20.338545 & 4.509828 & 33.9 & 11\\\\\n",
       "\t 6 & 17.8 & 19.7 & 19.74286 &  2.112857 & 1.453567 & 21.4 &  7\\\\\n",
       "\t 8 & 10.4 & 15.2 & 15.10000 &  6.553846 & 2.560048 & 19.2 & 14\\\\\n",
       "\\end{tabular}\n"
      ],
      "text/markdown": [
       "\n",
       "A tibble: 3 × 8\n",
       "\n",
       "| cyl &lt;dbl&gt; | Min &lt;dbl&gt; | Median &lt;dbl&gt; | Mean &lt;dbl&gt; | Var &lt;dbl&gt; | SD &lt;dbl&gt; | Max &lt;dbl&gt; | N &lt;int&gt; |\n",
       "|---|---|---|---|---|---|---|---|\n",
       "| 4 | 21.4 | 26.0 | 26.66364 | 20.338545 | 4.509828 | 33.9 | 11 |\n",
       "| 6 | 17.8 | 19.7 | 19.74286 |  2.112857 | 1.453567 | 21.4 |  7 |\n",
       "| 8 | 10.4 | 15.2 | 15.10000 |  6.553846 | 2.560048 | 19.2 | 14 |\n",
       "\n"
      ],
      "text/plain": [
       "  cyl Min  Median Mean     Var       SD       Max  N \n",
       "1 4   21.4 26.0   26.66364 20.338545 4.509828 33.9 11\n",
       "2 6   17.8 19.7   19.74286  2.112857 1.453567 21.4  7\n",
       "3 8   10.4 15.2   15.10000  6.553846 2.560048 19.2 14"
      ]
     },
     "metadata": {},
     "output_type": "display_data"
    }
   ],
   "source": [
    "cars.cyl %>% summarise(Min = min(mpg),\n",
    "                     Median = median(mpg, na.rm=TRUE),\n",
    "                     Mean = mean(mpg, na.rm=TRUE),\n",
    "                     Var = var(mpg, na.rm=TRUE),\n",
    "                     SD = sd(mpg, na.rm=TRUE),\n",
    "                     Max = max(mpg, na.rm=TRUE),\n",
    "                     N = n())"
   ]
  },
  {
   "cell_type": "markdown",
   "metadata": {},
   "source": [
    "#### arrange( ) function:\n",
    "Order variable values.  \n",
    "Often, we desire to view observations in rank order for a particular variable(s). The arrange() function allows us to order data by variables in accending or descending order."
   ]
  },
  {
   "cell_type": "code",
   "execution_count": 20,
   "metadata": {
    "vscode": {
     "languageId": "r"
    }
   },
   "outputs": [
    {
     "data": {
      "text/html": [
       "<table class=\"dataframe\">\n",
       "<caption>A data.frame: 6 × 11</caption>\n",
       "<thead>\n",
       "\t<tr><th></th><th scope=col>mpg</th><th scope=col>cyl</th><th scope=col>disp</th><th scope=col>hp</th><th scope=col>drat</th><th scope=col>wt</th><th scope=col>qsec</th><th scope=col>vs</th><th scope=col>am</th><th scope=col>gear</th><th scope=col>carb</th></tr>\n",
       "\t<tr><th></th><th scope=col>&lt;dbl&gt;</th><th scope=col>&lt;dbl&gt;</th><th scope=col>&lt;dbl&gt;</th><th scope=col>&lt;dbl&gt;</th><th scope=col>&lt;dbl&gt;</th><th scope=col>&lt;dbl&gt;</th><th scope=col>&lt;dbl&gt;</th><th scope=col>&lt;dbl&gt;</th><th scope=col>&lt;dbl&gt;</th><th scope=col>&lt;dbl&gt;</th><th scope=col>&lt;dbl&gt;</th></tr>\n",
       "</thead>\n",
       "<tbody>\n",
       "\t<tr><th scope=row>Datsun 710</th><td>22.8</td><td>4</td><td>108.0</td><td>93</td><td>3.85</td><td>2.320</td><td>18.61</td><td>1</td><td>1</td><td>4</td><td>1</td></tr>\n",
       "\t<tr><th scope=row>Merc 240D</th><td>24.4</td><td>4</td><td>146.7</td><td>62</td><td>3.69</td><td>3.190</td><td>20.00</td><td>1</td><td>0</td><td>4</td><td>2</td></tr>\n",
       "\t<tr><th scope=row>Merc 230</th><td>22.8</td><td>4</td><td>140.8</td><td>95</td><td>3.92</td><td>3.150</td><td>22.90</td><td>1</td><td>0</td><td>4</td><td>2</td></tr>\n",
       "\t<tr><th scope=row>Fiat 128</th><td>32.4</td><td>4</td><td> 78.7</td><td>66</td><td>4.08</td><td>2.200</td><td>19.47</td><td>1</td><td>1</td><td>4</td><td>1</td></tr>\n",
       "\t<tr><th scope=row>Honda Civic</th><td>30.4</td><td>4</td><td> 75.7</td><td>52</td><td>4.93</td><td>1.615</td><td>18.52</td><td>1</td><td>1</td><td>4</td><td>2</td></tr>\n",
       "\t<tr><th scope=row>Toyota Corolla</th><td>33.9</td><td>4</td><td> 71.1</td><td>65</td><td>4.22</td><td>1.835</td><td>19.90</td><td>1</td><td>1</td><td>4</td><td>1</td></tr>\n",
       "</tbody>\n",
       "</table>\n"
      ],
      "text/latex": [
       "A data.frame: 6 × 11\n",
       "\\begin{tabular}{r|lllllllllll}\n",
       "  & mpg & cyl & disp & hp & drat & wt & qsec & vs & am & gear & carb\\\\\n",
       "  & <dbl> & <dbl> & <dbl> & <dbl> & <dbl> & <dbl> & <dbl> & <dbl> & <dbl> & <dbl> & <dbl>\\\\\n",
       "\\hline\n",
       "\tDatsun 710 & 22.8 & 4 & 108.0 & 93 & 3.85 & 2.320 & 18.61 & 1 & 1 & 4 & 1\\\\\n",
       "\tMerc 240D & 24.4 & 4 & 146.7 & 62 & 3.69 & 3.190 & 20.00 & 1 & 0 & 4 & 2\\\\\n",
       "\tMerc 230 & 22.8 & 4 & 140.8 & 95 & 3.92 & 3.150 & 22.90 & 1 & 0 & 4 & 2\\\\\n",
       "\tFiat 128 & 32.4 & 4 &  78.7 & 66 & 4.08 & 2.200 & 19.47 & 1 & 1 & 4 & 1\\\\\n",
       "\tHonda Civic & 30.4 & 4 &  75.7 & 52 & 4.93 & 1.615 & 18.52 & 1 & 1 & 4 & 2\\\\\n",
       "\tToyota Corolla & 33.9 & 4 &  71.1 & 65 & 4.22 & 1.835 & 19.90 & 1 & 1 & 4 & 1\\\\\n",
       "\\end{tabular}\n"
      ],
      "text/markdown": [
       "\n",
       "A data.frame: 6 × 11\n",
       "\n",
       "| <!--/--> | mpg &lt;dbl&gt; | cyl &lt;dbl&gt; | disp &lt;dbl&gt; | hp &lt;dbl&gt; | drat &lt;dbl&gt; | wt &lt;dbl&gt; | qsec &lt;dbl&gt; | vs &lt;dbl&gt; | am &lt;dbl&gt; | gear &lt;dbl&gt; | carb &lt;dbl&gt; |\n",
       "|---|---|---|---|---|---|---|---|---|---|---|---|\n",
       "| Datsun 710 | 22.8 | 4 | 108.0 | 93 | 3.85 | 2.320 | 18.61 | 1 | 1 | 4 | 1 |\n",
       "| Merc 240D | 24.4 | 4 | 146.7 | 62 | 3.69 | 3.190 | 20.00 | 1 | 0 | 4 | 2 |\n",
       "| Merc 230 | 22.8 | 4 | 140.8 | 95 | 3.92 | 3.150 | 22.90 | 1 | 0 | 4 | 2 |\n",
       "| Fiat 128 | 32.4 | 4 |  78.7 | 66 | 4.08 | 2.200 | 19.47 | 1 | 1 | 4 | 1 |\n",
       "| Honda Civic | 30.4 | 4 |  75.7 | 52 | 4.93 | 1.615 | 18.52 | 1 | 1 | 4 | 2 |\n",
       "| Toyota Corolla | 33.9 | 4 |  71.1 | 65 | 4.22 | 1.835 | 19.90 | 1 | 1 | 4 | 1 |\n",
       "\n"
      ],
      "text/plain": [
       "               mpg  cyl disp  hp drat wt    qsec  vs am gear carb\n",
       "Datsun 710     22.8 4   108.0 93 3.85 2.320 18.61 1  1  4    1   \n",
       "Merc 240D      24.4 4   146.7 62 3.69 3.190 20.00 1  0  4    2   \n",
       "Merc 230       22.8 4   140.8 95 3.92 3.150 22.90 1  0  4    2   \n",
       "Fiat 128       32.4 4    78.7 66 4.08 2.200 19.47 1  1  4    1   \n",
       "Honda Civic    30.4 4    75.7 52 4.93 1.615 18.52 1  1  4    2   \n",
       "Toyota Corolla 33.9 4    71.1 65 4.22 1.835 19.90 1  1  4    1   "
      ]
     },
     "metadata": {},
     "output_type": "display_data"
    }
   ],
   "source": [
    "mtcars %>% arrange(cyl) %>% head()"
   ]
  },
  {
   "cell_type": "markdown",
   "metadata": {},
   "source": [
    "#### join( ) functions:\n",
    "Objective: Join two datasets together\n",
    "Often we have separate dataframes that can have common and differing variables for similar observations and we wish to join these dataframes together. The are multiple join functions providing multiple ways to join dataframes: inner_join, left_join, right_join, full_join, semi_join, anti_join."
   ]
  },
  {
   "cell_type": "code",
   "execution_count": 21,
   "metadata": {
    "vscode": {
     "languageId": "r"
    }
   },
   "outputs": [
    {
     "data": {
      "text/html": [
       "<table class=\"dataframe\">\n",
       "<caption>A data.frame: 6 × 2</caption>\n",
       "<thead>\n",
       "\t<tr><th scope=col>name</th><th scope=col>instrument</th></tr>\n",
       "\t<tr><th scope=col>&lt;chr&gt;</th><th scope=col>&lt;chr&gt;</th></tr>\n",
       "</thead>\n",
       "<tbody>\n",
       "\t<tr><td>John  </td><td>guitar</td></tr>\n",
       "\t<tr><td>Paul  </td><td>bass  </td></tr>\n",
       "\t<tr><td>George</td><td>guitar</td></tr>\n",
       "\t<tr><td>Ringo </td><td>drums </td></tr>\n",
       "\t<tr><td>Stuart</td><td>bass  </td></tr>\n",
       "\t<tr><td>Pete  </td><td>drums </td></tr>\n",
       "</tbody>\n",
       "</table>\n"
      ],
      "text/latex": [
       "A data.frame: 6 × 2\n",
       "\\begin{tabular}{ll}\n",
       " name & instrument\\\\\n",
       " <chr> & <chr>\\\\\n",
       "\\hline\n",
       "\t John   & guitar\\\\\n",
       "\t Paul   & bass  \\\\\n",
       "\t George & guitar\\\\\n",
       "\t Ringo  & drums \\\\\n",
       "\t Stuart & bass  \\\\\n",
       "\t Pete   & drums \\\\\n",
       "\\end{tabular}\n"
      ],
      "text/markdown": [
       "\n",
       "A data.frame: 6 × 2\n",
       "\n",
       "| name &lt;chr&gt; | instrument &lt;chr&gt; |\n",
       "|---|---|\n",
       "| John   | guitar |\n",
       "| Paul   | bass   |\n",
       "| George | guitar |\n",
       "| Ringo  | drums  |\n",
       "| Stuart | bass   |\n",
       "| Pete   | drums  |\n",
       "\n"
      ],
      "text/plain": [
       "  name   instrument\n",
       "1 John   guitar    \n",
       "2 Paul   bass      \n",
       "3 George guitar    \n",
       "4 Ringo  drums     \n",
       "5 Stuart bass      \n",
       "6 Pete   drums     "
      ]
     },
     "metadata": {},
     "output_type": "display_data"
    },
    {
     "data": {
      "text/html": [
       "<table class=\"dataframe\">\n",
       "<caption>A data.frame: 5 × 2</caption>\n",
       "<thead>\n",
       "\t<tr><th scope=col>name</th><th scope=col>band</th></tr>\n",
       "\t<tr><th scope=col>&lt;chr&gt;</th><th scope=col>&lt;lgl&gt;</th></tr>\n",
       "</thead>\n",
       "<tbody>\n",
       "\t<tr><td>John  </td><td> TRUE</td></tr>\n",
       "\t<tr><td>Paul  </td><td> TRUE</td></tr>\n",
       "\t<tr><td>George</td><td> TRUE</td></tr>\n",
       "\t<tr><td>Ringo </td><td> TRUE</td></tr>\n",
       "\t<tr><td>Brian </td><td>FALSE</td></tr>\n",
       "</tbody>\n",
       "</table>\n"
      ],
      "text/latex": [
       "A data.frame: 5 × 2\n",
       "\\begin{tabular}{ll}\n",
       " name & band\\\\\n",
       " <chr> & <lgl>\\\\\n",
       "\\hline\n",
       "\t John   &  TRUE\\\\\n",
       "\t Paul   &  TRUE\\\\\n",
       "\t George &  TRUE\\\\\n",
       "\t Ringo  &  TRUE\\\\\n",
       "\t Brian  & FALSE\\\\\n",
       "\\end{tabular}\n"
      ],
      "text/markdown": [
       "\n",
       "A data.frame: 5 × 2\n",
       "\n",
       "| name &lt;chr&gt; | band &lt;lgl&gt; |\n",
       "|---|---|\n",
       "| John   |  TRUE |\n",
       "| Paul   |  TRUE |\n",
       "| George |  TRUE |\n",
       "| Ringo  |  TRUE |\n",
       "| Brian  | FALSE |\n",
       "\n"
      ],
      "text/plain": [
       "  name   band \n",
       "1 John    TRUE\n",
       "2 Paul    TRUE\n",
       "3 George  TRUE\n",
       "4 Ringo   TRUE\n",
       "5 Brian  FALSE"
      ]
     },
     "metadata": {},
     "output_type": "display_data"
    }
   ],
   "source": [
    "# Dataframe “x”:\n",
    "x <- data.frame(name=c('John', 'Paul', 'George', 'Ringo', 'Stuart', 'Pete'),\n",
    "               instrument=c('guitar', 'bass', 'guitar', 'drums', 'bass', 'drums'))\n",
    "x\n",
    "# Dataframe “y”:\n",
    "y <- data.frame(name=c('John', 'Paul', 'George', 'Ringo', 'Brian'),\n",
    "               band=c(T, T, T, T, F))\n",
    "y"
   ]
  },
  {
   "cell_type": "markdown",
   "metadata": {},
   "source": [
    "##### Left Join\n",
    "Include all of x, and matching rows of y"
   ]
  },
  {
   "cell_type": "code",
   "execution_count": 22,
   "metadata": {
    "vscode": {
     "languageId": "r"
    }
   },
   "outputs": [
    {
     "name": "stderr",
     "output_type": "stream",
     "text": [
      "\u001b[1m\u001b[22mJoining, by = \"name\"\n"
     ]
    },
    {
     "data": {
      "text/html": [
       "<table class=\"dataframe\">\n",
       "<caption>A data.frame: 6 × 3</caption>\n",
       "<thead>\n",
       "\t<tr><th scope=col>name</th><th scope=col>instrument</th><th scope=col>band</th></tr>\n",
       "\t<tr><th scope=col>&lt;chr&gt;</th><th scope=col>&lt;chr&gt;</th><th scope=col>&lt;lgl&gt;</th></tr>\n",
       "</thead>\n",
       "<tbody>\n",
       "\t<tr><td>John  </td><td>guitar</td><td>TRUE</td></tr>\n",
       "\t<tr><td>Paul  </td><td>bass  </td><td>TRUE</td></tr>\n",
       "\t<tr><td>George</td><td>guitar</td><td>TRUE</td></tr>\n",
       "\t<tr><td>Ringo </td><td>drums </td><td>TRUE</td></tr>\n",
       "\t<tr><td>Stuart</td><td>bass  </td><td>  NA</td></tr>\n",
       "\t<tr><td>Pete  </td><td>drums </td><td>  NA</td></tr>\n",
       "</tbody>\n",
       "</table>\n"
      ],
      "text/latex": [
       "A data.frame: 6 × 3\n",
       "\\begin{tabular}{lll}\n",
       " name & instrument & band\\\\\n",
       " <chr> & <chr> & <lgl>\\\\\n",
       "\\hline\n",
       "\t John   & guitar & TRUE\\\\\n",
       "\t Paul   & bass   & TRUE\\\\\n",
       "\t George & guitar & TRUE\\\\\n",
       "\t Ringo  & drums  & TRUE\\\\\n",
       "\t Stuart & bass   &   NA\\\\\n",
       "\t Pete   & drums  &   NA\\\\\n",
       "\\end{tabular}\n"
      ],
      "text/markdown": [
       "\n",
       "A data.frame: 6 × 3\n",
       "\n",
       "| name &lt;chr&gt; | instrument &lt;chr&gt; | band &lt;lgl&gt; |\n",
       "|---|---|---|\n",
       "| John   | guitar | TRUE |\n",
       "| Paul   | bass   | TRUE |\n",
       "| George | guitar | TRUE |\n",
       "| Ringo  | drums  | TRUE |\n",
       "| Stuart | bass   |   NA |\n",
       "| Pete   | drums  |   NA |\n",
       "\n"
      ],
      "text/plain": [
       "  name   instrument band\n",
       "1 John   guitar     TRUE\n",
       "2 Paul   bass       TRUE\n",
       "3 George guitar     TRUE\n",
       "4 Ringo  drums      TRUE\n",
       "5 Stuart bass         NA\n",
       "6 Pete   drums        NA"
      ]
     },
     "metadata": {},
     "output_type": "display_data"
    }
   ],
   "source": [
    "x %>% left_join(y)"
   ]
  },
  {
   "cell_type": "markdown",
   "metadata": {},
   "source": [
    "##### Inner Join\n",
    "Include only rows in both x and y that have a matching value"
   ]
  },
  {
   "cell_type": "code",
   "execution_count": 23,
   "metadata": {
    "vscode": {
     "languageId": "r"
    }
   },
   "outputs": [
    {
     "name": "stderr",
     "output_type": "stream",
     "text": [
      "\u001b[1m\u001b[22mJoining, by = \"name\"\n"
     ]
    },
    {
     "data": {
      "text/html": [
       "<table class=\"dataframe\">\n",
       "<caption>A data.frame: 4 × 3</caption>\n",
       "<thead>\n",
       "\t<tr><th scope=col>name</th><th scope=col>instrument</th><th scope=col>band</th></tr>\n",
       "\t<tr><th scope=col>&lt;chr&gt;</th><th scope=col>&lt;chr&gt;</th><th scope=col>&lt;lgl&gt;</th></tr>\n",
       "</thead>\n",
       "<tbody>\n",
       "\t<tr><td>John  </td><td>guitar</td><td>TRUE</td></tr>\n",
       "\t<tr><td>Paul  </td><td>bass  </td><td>TRUE</td></tr>\n",
       "\t<tr><td>George</td><td>guitar</td><td>TRUE</td></tr>\n",
       "\t<tr><td>Ringo </td><td>drums </td><td>TRUE</td></tr>\n",
       "</tbody>\n",
       "</table>\n"
      ],
      "text/latex": [
       "A data.frame: 4 × 3\n",
       "\\begin{tabular}{lll}\n",
       " name & instrument & band\\\\\n",
       " <chr> & <chr> & <lgl>\\\\\n",
       "\\hline\n",
       "\t John   & guitar & TRUE\\\\\n",
       "\t Paul   & bass   & TRUE\\\\\n",
       "\t George & guitar & TRUE\\\\\n",
       "\t Ringo  & drums  & TRUE\\\\\n",
       "\\end{tabular}\n"
      ],
      "text/markdown": [
       "\n",
       "A data.frame: 4 × 3\n",
       "\n",
       "| name &lt;chr&gt; | instrument &lt;chr&gt; | band &lt;lgl&gt; |\n",
       "|---|---|---|\n",
       "| John   | guitar | TRUE |\n",
       "| Paul   | bass   | TRUE |\n",
       "| George | guitar | TRUE |\n",
       "| Ringo  | drums  | TRUE |\n",
       "\n"
      ],
      "text/plain": [
       "  name   instrument band\n",
       "1 John   guitar     TRUE\n",
       "2 Paul   bass       TRUE\n",
       "3 George guitar     TRUE\n",
       "4 Ringo  drums      TRUE"
      ]
     },
     "metadata": {},
     "output_type": "display_data"
    }
   ],
   "source": [
    "inner_join(x,y)"
   ]
  },
  {
   "cell_type": "markdown",
   "metadata": {},
   "source": [
    "##### Semi Join\n",
    "Include rows of x that match y but only keep the columns from x"
   ]
  },
  {
   "cell_type": "code",
   "execution_count": 24,
   "metadata": {
    "vscode": {
     "languageId": "r"
    }
   },
   "outputs": [
    {
     "name": "stderr",
     "output_type": "stream",
     "text": [
      "\u001b[1m\u001b[22mJoining, by = \"name\"\n"
     ]
    },
    {
     "data": {
      "text/html": [
       "<table class=\"dataframe\">\n",
       "<caption>A data.frame: 4 × 2</caption>\n",
       "<thead>\n",
       "\t<tr><th scope=col>name</th><th scope=col>instrument</th></tr>\n",
       "\t<tr><th scope=col>&lt;chr&gt;</th><th scope=col>&lt;chr&gt;</th></tr>\n",
       "</thead>\n",
       "<tbody>\n",
       "\t<tr><td>John  </td><td>guitar</td></tr>\n",
       "\t<tr><td>Paul  </td><td>bass  </td></tr>\n",
       "\t<tr><td>George</td><td>guitar</td></tr>\n",
       "\t<tr><td>Ringo </td><td>drums </td></tr>\n",
       "</tbody>\n",
       "</table>\n"
      ],
      "text/latex": [
       "A data.frame: 4 × 2\n",
       "\\begin{tabular}{ll}\n",
       " name & instrument\\\\\n",
       " <chr> & <chr>\\\\\n",
       "\\hline\n",
       "\t John   & guitar\\\\\n",
       "\t Paul   & bass  \\\\\n",
       "\t George & guitar\\\\\n",
       "\t Ringo  & drums \\\\\n",
       "\\end{tabular}\n"
      ],
      "text/markdown": [
       "\n",
       "A data.frame: 4 × 2\n",
       "\n",
       "| name &lt;chr&gt; | instrument &lt;chr&gt; |\n",
       "|---|---|\n",
       "| John   | guitar |\n",
       "| Paul   | bass   |\n",
       "| George | guitar |\n",
       "| Ringo  | drums  |\n",
       "\n"
      ],
      "text/plain": [
       "  name   instrument\n",
       "1 John   guitar    \n",
       "2 Paul   bass      \n",
       "3 George guitar    \n",
       "4 Ringo  drums     "
      ]
     },
     "metadata": {},
     "output_type": "display_data"
    }
   ],
   "source": [
    "semi_join(x,y)"
   ]
  },
  {
   "cell_type": "markdown",
   "metadata": {},
   "source": [
    "##### Anti Join\n",
    "Opposite of semi_join"
   ]
  },
  {
   "cell_type": "code",
   "execution_count": 25,
   "metadata": {
    "vscode": {
     "languageId": "r"
    }
   },
   "outputs": [
    {
     "name": "stderr",
     "output_type": "stream",
     "text": [
      "\u001b[1m\u001b[22mJoining, by = \"name\"\n"
     ]
    },
    {
     "data": {
      "text/html": [
       "<table class=\"dataframe\">\n",
       "<caption>A data.frame: 2 × 2</caption>\n",
       "<thead>\n",
       "\t<tr><th scope=col>name</th><th scope=col>instrument</th></tr>\n",
       "\t<tr><th scope=col>&lt;chr&gt;</th><th scope=col>&lt;chr&gt;</th></tr>\n",
       "</thead>\n",
       "<tbody>\n",
       "\t<tr><td>Stuart</td><td>bass </td></tr>\n",
       "\t<tr><td>Pete  </td><td>drums</td></tr>\n",
       "</tbody>\n",
       "</table>\n"
      ],
      "text/latex": [
       "A data.frame: 2 × 2\n",
       "\\begin{tabular}{ll}\n",
       " name & instrument\\\\\n",
       " <chr> & <chr>\\\\\n",
       "\\hline\n",
       "\t Stuart & bass \\\\\n",
       "\t Pete   & drums\\\\\n",
       "\\end{tabular}\n"
      ],
      "text/markdown": [
       "\n",
       "A data.frame: 2 × 2\n",
       "\n",
       "| name &lt;chr&gt; | instrument &lt;chr&gt; |\n",
       "|---|---|\n",
       "| Stuart | bass  |\n",
       "| Pete   | drums |\n",
       "\n"
      ],
      "text/plain": [
       "  name   instrument\n",
       "1 Stuart bass      \n",
       "2 Pete   drums     "
      ]
     },
     "metadata": {},
     "output_type": "display_data"
    }
   ],
   "source": [
    "anti_join(x,y)"
   ]
  },
  {
   "cell_type": "markdown",
   "metadata": {},
   "source": [
    "#### mutate( ) function:\n",
    "Creates new variables.  \n",
    "Often we want to create a new variable that is a function of the current variables in our dataframe or even just add a new variable. The mutate() function allows us to add new variables while preserving the existing variables."
   ]
  },
  {
   "cell_type": "code",
   "execution_count": 26,
   "metadata": {
    "vscode": {
     "languageId": "r"
    }
   },
   "outputs": [
    {
     "data": {
      "text/html": [
       "<table class=\"dataframe\">\n",
       "<caption>A data.frame: 6 × 12</caption>\n",
       "<thead>\n",
       "\t<tr><th></th><th scope=col>mpg</th><th scope=col>cyl</th><th scope=col>disp</th><th scope=col>hp</th><th scope=col>drat</th><th scope=col>wt</th><th scope=col>qsec</th><th scope=col>vs</th><th scope=col>am</th><th scope=col>gear</th><th scope=col>carb</th><th scope=col>hp_cyl</th></tr>\n",
       "\t<tr><th></th><th scope=col>&lt;dbl&gt;</th><th scope=col>&lt;dbl&gt;</th><th scope=col>&lt;dbl&gt;</th><th scope=col>&lt;dbl&gt;</th><th scope=col>&lt;dbl&gt;</th><th scope=col>&lt;dbl&gt;</th><th scope=col>&lt;dbl&gt;</th><th scope=col>&lt;dbl&gt;</th><th scope=col>&lt;dbl&gt;</th><th scope=col>&lt;dbl&gt;</th><th scope=col>&lt;dbl&gt;</th><th scope=col>&lt;dbl&gt;</th></tr>\n",
       "</thead>\n",
       "<tbody>\n",
       "\t<tr><th scope=row>Honda Civic</th><td>30.4</td><td>4</td><td> 75.7</td><td> 52</td><td>4.93</td><td>1.615</td><td>18.52</td><td>1</td><td>1</td><td>4</td><td>2</td><td>13.00</td></tr>\n",
       "\t<tr><th scope=row>Merc 240D</th><td>24.4</td><td>4</td><td>146.7</td><td> 62</td><td>3.69</td><td>3.190</td><td>20.00</td><td>1</td><td>0</td><td>4</td><td>2</td><td>15.50</td></tr>\n",
       "\t<tr><th scope=row>Toyota Corolla</th><td>33.9</td><td>4</td><td> 71.1</td><td> 65</td><td>4.22</td><td>1.835</td><td>19.90</td><td>1</td><td>1</td><td>4</td><td>1</td><td>16.25</td></tr>\n",
       "\t<tr><th scope=row>Fiat 128</th><td>32.4</td><td>4</td><td> 78.7</td><td> 66</td><td>4.08</td><td>2.200</td><td>19.47</td><td>1</td><td>1</td><td>4</td><td>1</td><td>16.50</td></tr>\n",
       "\t<tr><th scope=row>Fiat X1-9</th><td>27.3</td><td>4</td><td> 79.0</td><td> 66</td><td>4.08</td><td>1.935</td><td>18.90</td><td>1</td><td>1</td><td>4</td><td>1</td><td>16.50</td></tr>\n",
       "\t<tr><th scope=row>Valiant</th><td>18.1</td><td>6</td><td>225.0</td><td>105</td><td>2.76</td><td>3.460</td><td>20.22</td><td>1</td><td>0</td><td>3</td><td>1</td><td>17.50</td></tr>\n",
       "</tbody>\n",
       "</table>\n"
      ],
      "text/latex": [
       "A data.frame: 6 × 12\n",
       "\\begin{tabular}{r|llllllllllll}\n",
       "  & mpg & cyl & disp & hp & drat & wt & qsec & vs & am & gear & carb & hp\\_cyl\\\\\n",
       "  & <dbl> & <dbl> & <dbl> & <dbl> & <dbl> & <dbl> & <dbl> & <dbl> & <dbl> & <dbl> & <dbl> & <dbl>\\\\\n",
       "\\hline\n",
       "\tHonda Civic & 30.4 & 4 &  75.7 &  52 & 4.93 & 1.615 & 18.52 & 1 & 1 & 4 & 2 & 13.00\\\\\n",
       "\tMerc 240D & 24.4 & 4 & 146.7 &  62 & 3.69 & 3.190 & 20.00 & 1 & 0 & 4 & 2 & 15.50\\\\\n",
       "\tToyota Corolla & 33.9 & 4 &  71.1 &  65 & 4.22 & 1.835 & 19.90 & 1 & 1 & 4 & 1 & 16.25\\\\\n",
       "\tFiat 128 & 32.4 & 4 &  78.7 &  66 & 4.08 & 2.200 & 19.47 & 1 & 1 & 4 & 1 & 16.50\\\\\n",
       "\tFiat X1-9 & 27.3 & 4 &  79.0 &  66 & 4.08 & 1.935 & 18.90 & 1 & 1 & 4 & 1 & 16.50\\\\\n",
       "\tValiant & 18.1 & 6 & 225.0 & 105 & 2.76 & 3.460 & 20.22 & 1 & 0 & 3 & 1 & 17.50\\\\\n",
       "\\end{tabular}\n"
      ],
      "text/markdown": [
       "\n",
       "A data.frame: 6 × 12\n",
       "\n",
       "| <!--/--> | mpg &lt;dbl&gt; | cyl &lt;dbl&gt; | disp &lt;dbl&gt; | hp &lt;dbl&gt; | drat &lt;dbl&gt; | wt &lt;dbl&gt; | qsec &lt;dbl&gt; | vs &lt;dbl&gt; | am &lt;dbl&gt; | gear &lt;dbl&gt; | carb &lt;dbl&gt; | hp_cyl &lt;dbl&gt; |\n",
       "|---|---|---|---|---|---|---|---|---|---|---|---|---|\n",
       "| Honda Civic | 30.4 | 4 |  75.7 |  52 | 4.93 | 1.615 | 18.52 | 1 | 1 | 4 | 2 | 13.00 |\n",
       "| Merc 240D | 24.4 | 4 | 146.7 |  62 | 3.69 | 3.190 | 20.00 | 1 | 0 | 4 | 2 | 15.50 |\n",
       "| Toyota Corolla | 33.9 | 4 |  71.1 |  65 | 4.22 | 1.835 | 19.90 | 1 | 1 | 4 | 1 | 16.25 |\n",
       "| Fiat 128 | 32.4 | 4 |  78.7 |  66 | 4.08 | 2.200 | 19.47 | 1 | 1 | 4 | 1 | 16.50 |\n",
       "| Fiat X1-9 | 27.3 | 4 |  79.0 |  66 | 4.08 | 1.935 | 18.90 | 1 | 1 | 4 | 1 | 16.50 |\n",
       "| Valiant | 18.1 | 6 | 225.0 | 105 | 2.76 | 3.460 | 20.22 | 1 | 0 | 3 | 1 | 17.50 |\n",
       "\n"
      ],
      "text/plain": [
       "               mpg  cyl disp  hp  drat wt    qsec  vs am gear carb hp_cyl\n",
       "Honda Civic    30.4 4    75.7  52 4.93 1.615 18.52 1  1  4    2    13.00 \n",
       "Merc 240D      24.4 4   146.7  62 3.69 3.190 20.00 1  0  4    2    15.50 \n",
       "Toyota Corolla 33.9 4    71.1  65 4.22 1.835 19.90 1  1  4    1    16.25 \n",
       "Fiat 128       32.4 4    78.7  66 4.08 2.200 19.47 1  1  4    1    16.50 \n",
       "Fiat X1-9      27.3 4    79.0  66 4.08 1.935 18.90 1  1  4    1    16.50 \n",
       "Valiant        18.1 6   225.0 105 2.76 3.460 20.22 1  0  3    1    17.50 "
      ]
     },
     "metadata": {},
     "output_type": "display_data"
    }
   ],
   "source": [
    "# back to car dataset\n",
    "# let's create a column for power per cylinder and sort on it\n",
    "mtcars %>% mutate(hp_cyl = hp/cyl) %>% arrange(hp_cyl) %>% head()"
   ]
  },
  {
   "cell_type": "markdown",
   "metadata": {},
   "source": [
    "<a id='dtable'></a>\n",
    "\n",
    "## data.table Package\n",
    "\n",
    "data.table is an R package that provides an enhanced version of data.frames, which are the standard data structure for storing data in base R.  \n",
    "It is considered to be faster and more memory efficient.  \n",
    "data.table is code efficient, we can able to write less number of lines of code in data.table.  \n",
    "But maybe the best way to introduce the new structure is comparing it with the data.frame:"
   ]
  },
  {
   "cell_type": "markdown",
   "metadata": {},
   "source": [
    "<a id='versus'></a>\n",
    "\n",
    "## data.table vs. data.frame\n",
    "There is a third parameter that is game changing. Looks very similar with sql language syntax.  \n",
    "<br>  \n",
    "  \n",
    "### data.frame  \n",
    "syntax for selection: df[i, j]\n",
    "- i: row selection\n",
    "- j: column selection\n",
    "<br><br>  \n",
    "  \n",
    "### data.table  \n",
    "syntax for selection: dt[i, j, by]\n",
    "- i: row selection\n",
    "- j: column selection or function to apply\n",
    "- by: grouping  "
   ]
  },
  {
   "cell_type": "code",
   "execution_count": 27,
   "metadata": {
    "vscode": {
     "languageId": "r"
    }
   },
   "outputs": [
    {
     "name": "stderr",
     "output_type": "stream",
     "text": [
      "Loading required package: data.table\n",
      "\n",
      "\n",
      "Attaching package: 'data.table'\n",
      "\n",
      "\n",
      "The following objects are masked from 'package:dplyr':\n",
      "\n",
      "    between, first, last\n",
      "\n",
      "\n"
     ]
    }
   ],
   "source": [
    "if (!require(\"data.table\")) {\n",
    "    install.packages(\"data.table\")\n",
    "    library(data.table)\n",
    "}"
   ]
  },
  {
   "cell_type": "markdown",
   "metadata": {},
   "source": [
    "### Read from file\n",
    "The library comes with a generic function `fread` more customizeable that the corresponding read.csv: "
   ]
  },
  {
   "cell_type": "code",
   "execution_count": 28,
   "metadata": {
    "vscode": {
     "languageId": "r"
    }
   },
   "outputs": [
    {
     "name": "stdout",
     "output_type": "stream",
     "text": [
      "'data.frame':\t12 obs. of  5 variables:\n",
      " $ Index: chr  \"A1\" \"B1\" \"C1\" \"D1\" ...\n",
      " $ Col1 : int  1 5 9 13 1 5 9 13 1 5 ...\n",
      " $ Col2 : num  2.4 6.2 10.3 14.4 2.3 6.3 10.4 14.4 2.2 6.4 ...\n",
      " $ Col3 : logi  TRUE TRUE FALSE TRUE TRUE TRUE ...\n",
      " $ Col4 : chr  \"A\" \"A\" \"B\" \"B\" ...\n"
     ]
    },
    {
     "data": {
      "text/html": [
       "<table class=\"dataframe\">\n",
       "<caption>A data.frame: 6 × 5</caption>\n",
       "<thead>\n",
       "\t<tr><th></th><th scope=col>Index</th><th scope=col>Col1</th><th scope=col>Col2</th><th scope=col>Col3</th><th scope=col>Col4</th></tr>\n",
       "\t<tr><th></th><th scope=col>&lt;chr&gt;</th><th scope=col>&lt;int&gt;</th><th scope=col>&lt;dbl&gt;</th><th scope=col>&lt;lgl&gt;</th><th scope=col>&lt;chr&gt;</th></tr>\n",
       "</thead>\n",
       "<tbody>\n",
       "\t<tr><th scope=row>1</th><td>A1</td><td> 1</td><td> 2.4</td><td> TRUE</td><td>A</td></tr>\n",
       "\t<tr><th scope=row>2</th><td>B1</td><td> 5</td><td> 6.2</td><td> TRUE</td><td>A</td></tr>\n",
       "\t<tr><th scope=row>3</th><td>C1</td><td> 9</td><td>10.3</td><td>FALSE</td><td>B</td></tr>\n",
       "\t<tr><th scope=row>4</th><td>D1</td><td>13</td><td>14.4</td><td> TRUE</td><td>B</td></tr>\n",
       "\t<tr><th scope=row>5</th><td>A2</td><td> 1</td><td> 2.3</td><td> TRUE</td><td>A</td></tr>\n",
       "\t<tr><th scope=row>6</th><td>B2</td><td> 5</td><td> 6.3</td><td> TRUE</td><td>A</td></tr>\n",
       "</tbody>\n",
       "</table>\n"
      ],
      "text/latex": [
       "A data.frame: 6 × 5\n",
       "\\begin{tabular}{r|lllll}\n",
       "  & Index & Col1 & Col2 & Col3 & Col4\\\\\n",
       "  & <chr> & <int> & <dbl> & <lgl> & <chr>\\\\\n",
       "\\hline\n",
       "\t1 & A1 &  1 &  2.4 &  TRUE & A\\\\\n",
       "\t2 & B1 &  5 &  6.2 &  TRUE & A\\\\\n",
       "\t3 & C1 &  9 & 10.3 & FALSE & B\\\\\n",
       "\t4 & D1 & 13 & 14.4 &  TRUE & B\\\\\n",
       "\t5 & A2 &  1 &  2.3 &  TRUE & A\\\\\n",
       "\t6 & B2 &  5 &  6.3 &  TRUE & A\\\\\n",
       "\\end{tabular}\n"
      ],
      "text/markdown": [
       "\n",
       "A data.frame: 6 × 5\n",
       "\n",
       "| <!--/--> | Index &lt;chr&gt; | Col1 &lt;int&gt; | Col2 &lt;dbl&gt; | Col3 &lt;lgl&gt; | Col4 &lt;chr&gt; |\n",
       "|---|---|---|---|---|---|\n",
       "| 1 | A1 |  1 |  2.4 |  TRUE | A |\n",
       "| 2 | B1 |  5 |  6.2 |  TRUE | A |\n",
       "| 3 | C1 |  9 | 10.3 | FALSE | B |\n",
       "| 4 | D1 | 13 | 14.4 |  TRUE | B |\n",
       "| 5 | A2 |  1 |  2.3 |  TRUE | A |\n",
       "| 6 | B2 |  5 |  6.3 |  TRUE | A |\n",
       "\n"
      ],
      "text/plain": [
       "  Index Col1 Col2 Col3  Col4\n",
       "1 A1     1    2.4  TRUE A   \n",
       "2 B1     5    6.2  TRUE A   \n",
       "3 C1     9   10.3 FALSE B   \n",
       "4 D1    13   14.4  TRUE B   \n",
       "5 A2     1    2.3  TRUE A   \n",
       "6 B2     5    6.3  TRUE A   "
      ]
     },
     "metadata": {},
     "output_type": "display_data"
    },
    {
     "name": "stdout",
     "output_type": "stream",
     "text": [
      "Classes 'data.table' and 'data.frame':\t12 obs. of  5 variables:\n",
      " $ Index: chr  \"A1\" \"B1\" \"C1\" \"D1\" ...\n",
      " $ Col1 : int  1 5 9 13 1 5 9 13 1 5 ...\n",
      " $ Col2 : num  2.4 6.2 10.3 14.4 2.3 6.3 10.4 14.4 2.2 6.4 ...\n",
      " $ Col3 : chr  \"T\" \"T\" \"F\" \"T\" ...\n",
      " $ Col4 : chr  \"A\" \"A\" \"B\" \"B\" ...\n",
      " - attr(*, \".internal.selfref\")=<externalptr> \n"
     ]
    },
    {
     "data": {
      "text/html": [
       "<table class=\"dataframe\">\n",
       "<caption>A data.table: 6 × 5</caption>\n",
       "<thead>\n",
       "\t<tr><th scope=col>Index</th><th scope=col>Col1</th><th scope=col>Col2</th><th scope=col>Col3</th><th scope=col>Col4</th></tr>\n",
       "\t<tr><th scope=col>&lt;chr&gt;</th><th scope=col>&lt;int&gt;</th><th scope=col>&lt;dbl&gt;</th><th scope=col>&lt;chr&gt;</th><th scope=col>&lt;chr&gt;</th></tr>\n",
       "</thead>\n",
       "<tbody>\n",
       "\t<tr><td>A1</td><td> 1</td><td> 2.4</td><td>T</td><td>A</td></tr>\n",
       "\t<tr><td>B1</td><td> 5</td><td> 6.2</td><td>T</td><td>A</td></tr>\n",
       "\t<tr><td>C1</td><td> 9</td><td>10.3</td><td>F</td><td>B</td></tr>\n",
       "\t<tr><td>D1</td><td>13</td><td>14.4</td><td>T</td><td>B</td></tr>\n",
       "\t<tr><td>A2</td><td> 1</td><td> 2.3</td><td>T</td><td>A</td></tr>\n",
       "\t<tr><td>B2</td><td> 5</td><td> 6.3</td><td>T</td><td>A</td></tr>\n",
       "</tbody>\n",
       "</table>\n"
      ],
      "text/latex": [
       "A data.table: 6 × 5\n",
       "\\begin{tabular}{lllll}\n",
       " Index & Col1 & Col2 & Col3 & Col4\\\\\n",
       " <chr> & <int> & <dbl> & <chr> & <chr>\\\\\n",
       "\\hline\n",
       "\t A1 &  1 &  2.4 & T & A\\\\\n",
       "\t B1 &  5 &  6.2 & T & A\\\\\n",
       "\t C1 &  9 & 10.3 & F & B\\\\\n",
       "\t D1 & 13 & 14.4 & T & B\\\\\n",
       "\t A2 &  1 &  2.3 & T & A\\\\\n",
       "\t B2 &  5 &  6.3 & T & A\\\\\n",
       "\\end{tabular}\n"
      ],
      "text/markdown": [
       "\n",
       "A data.table: 6 × 5\n",
       "\n",
       "| Index &lt;chr&gt; | Col1 &lt;int&gt; | Col2 &lt;dbl&gt; | Col3 &lt;chr&gt; | Col4 &lt;chr&gt; |\n",
       "|---|---|---|---|---|\n",
       "| A1 |  1 |  2.4 | T | A |\n",
       "| B1 |  5 |  6.2 | T | A |\n",
       "| C1 |  9 | 10.3 | F | B |\n",
       "| D1 | 13 | 14.4 | T | B |\n",
       "| A2 |  1 |  2.3 | T | A |\n",
       "| B2 |  5 |  6.3 | T | A |\n",
       "\n"
      ],
      "text/plain": [
       "  Index Col1 Col2 Col3 Col4\n",
       "1 A1     1    2.4 T    A   \n",
       "2 B1     5    6.2 T    A   \n",
       "3 C1     9   10.3 F    B   \n",
       "4 D1    13   14.4 T    B   \n",
       "5 A2     1    2.3 T    A   \n",
       "6 B2     5    6.3 T    A   "
      ]
     },
     "metadata": {},
     "output_type": "display_data"
    },
    {
     "data": {
      "text/html": [
       "<table class=\"dataframe\">\n",
       "<caption>A data.table: 6 × 5</caption>\n",
       "<thead>\n",
       "\t<tr><th scope=col>Index</th><th scope=col>Col1</th><th scope=col>Col2</th><th scope=col>Col3</th><th scope=col>Col4</th></tr>\n",
       "\t<tr><th scope=col>&lt;chr&gt;</th><th scope=col>&lt;int&gt;</th><th scope=col>&lt;dbl&gt;</th><th scope=col>&lt;lgl&gt;</th><th scope=col>&lt;chr&gt;</th></tr>\n",
       "</thead>\n",
       "<tbody>\n",
       "\t<tr><td>A1</td><td> 1</td><td> 2.4</td><td> TRUE</td><td>A</td></tr>\n",
       "\t<tr><td>B1</td><td> 5</td><td> 6.2</td><td> TRUE</td><td>A</td></tr>\n",
       "\t<tr><td>C1</td><td> 9</td><td>10.3</td><td>FALSE</td><td>B</td></tr>\n",
       "\t<tr><td>D1</td><td>13</td><td>14.4</td><td> TRUE</td><td>B</td></tr>\n",
       "\t<tr><td>A2</td><td> 1</td><td> 2.3</td><td> TRUE</td><td>A</td></tr>\n",
       "\t<tr><td>B2</td><td> 5</td><td> 6.3</td><td> TRUE</td><td>A</td></tr>\n",
       "</tbody>\n",
       "</table>\n"
      ],
      "text/latex": [
       "A data.table: 6 × 5\n",
       "\\begin{tabular}{lllll}\n",
       " Index & Col1 & Col2 & Col3 & Col4\\\\\n",
       " <chr> & <int> & <dbl> & <lgl> & <chr>\\\\\n",
       "\\hline\n",
       "\t A1 &  1 &  2.4 &  TRUE & A\\\\\n",
       "\t B1 &  5 &  6.2 &  TRUE & A\\\\\n",
       "\t C1 &  9 & 10.3 & FALSE & B\\\\\n",
       "\t D1 & 13 & 14.4 &  TRUE & B\\\\\n",
       "\t A2 &  1 &  2.3 &  TRUE & A\\\\\n",
       "\t B2 &  5 &  6.3 &  TRUE & A\\\\\n",
       "\\end{tabular}\n"
      ],
      "text/markdown": [
       "\n",
       "A data.table: 6 × 5\n",
       "\n",
       "| Index &lt;chr&gt; | Col1 &lt;int&gt; | Col2 &lt;dbl&gt; | Col3 &lt;lgl&gt; | Col4 &lt;chr&gt; |\n",
       "|---|---|---|---|---|\n",
       "| A1 |  1 |  2.4 |  TRUE | A |\n",
       "| B1 |  5 |  6.2 |  TRUE | A |\n",
       "| C1 |  9 | 10.3 | FALSE | B |\n",
       "| D1 | 13 | 14.4 |  TRUE | B |\n",
       "| A2 |  1 |  2.3 |  TRUE | A |\n",
       "| B2 |  5 |  6.3 |  TRUE | A |\n",
       "\n"
      ],
      "text/plain": [
       "  Index Col1 Col2 Col3  Col4\n",
       "1 A1     1    2.4  TRUE A   \n",
       "2 B1     5    6.2  TRUE A   \n",
       "3 C1     9   10.3 FALSE B   \n",
       "4 D1    13   14.4  TRUE B   \n",
       "5 A2     1    2.3  TRUE A   \n",
       "6 B2     5    6.3  TRUE A   "
      ]
     },
     "metadata": {},
     "output_type": "display_data"
    }
   ],
   "source": [
    "# read the file in df\n",
    "df <- read.csv('data/df_dt.csv')\n",
    "str(df)\n",
    "head(df)\n",
    "# read the file in dt\n",
    "# fread 10 times faster\n",
    "# contains also a data.frame\n",
    "dt <- fread('data/df_dt.csv')\n",
    "str(dt)\n",
    "head(dt)\n",
    "# converting Col3\n",
    "dt$Col3 <- dt$Col3 == 'T'\n",
    "head(dt)"
   ]
  },
  {
   "cell_type": "markdown",
   "metadata": {},
   "source": [
    "### Rows Selection"
   ]
  },
  {
   "cell_type": "code",
   "execution_count": 29,
   "metadata": {
    "vscode": {
     "languageId": "r"
    }
   },
   "outputs": [
    {
     "data": {
      "text/html": [
       "<table class=\"dataframe\">\n",
       "<caption>A data.frame: 3 × 5</caption>\n",
       "<thead>\n",
       "\t<tr><th></th><th scope=col>Index</th><th scope=col>Col1</th><th scope=col>Col2</th><th scope=col>Col3</th><th scope=col>Col4</th></tr>\n",
       "\t<tr><th></th><th scope=col>&lt;chr&gt;</th><th scope=col>&lt;int&gt;</th><th scope=col>&lt;dbl&gt;</th><th scope=col>&lt;lgl&gt;</th><th scope=col>&lt;chr&gt;</th></tr>\n",
       "</thead>\n",
       "<tbody>\n",
       "\t<tr><th scope=row>1</th><td>A1</td><td>1</td><td> 2.4</td><td> TRUE</td><td>A</td></tr>\n",
       "\t<tr><th scope=row>2</th><td>B1</td><td>5</td><td> 6.2</td><td> TRUE</td><td>A</td></tr>\n",
       "\t<tr><th scope=row>3</th><td>C1</td><td>9</td><td>10.3</td><td>FALSE</td><td>B</td></tr>\n",
       "</tbody>\n",
       "</table>\n"
      ],
      "text/latex": [
       "A data.frame: 3 × 5\n",
       "\\begin{tabular}{r|lllll}\n",
       "  & Index & Col1 & Col2 & Col3 & Col4\\\\\n",
       "  & <chr> & <int> & <dbl> & <lgl> & <chr>\\\\\n",
       "\\hline\n",
       "\t1 & A1 & 1 &  2.4 &  TRUE & A\\\\\n",
       "\t2 & B1 & 5 &  6.2 &  TRUE & A\\\\\n",
       "\t3 & C1 & 9 & 10.3 & FALSE & B\\\\\n",
       "\\end{tabular}\n"
      ],
      "text/markdown": [
       "\n",
       "A data.frame: 3 × 5\n",
       "\n",
       "| <!--/--> | Index &lt;chr&gt; | Col1 &lt;int&gt; | Col2 &lt;dbl&gt; | Col3 &lt;lgl&gt; | Col4 &lt;chr&gt; |\n",
       "|---|---|---|---|---|---|\n",
       "| 1 | A1 | 1 |  2.4 |  TRUE | A |\n",
       "| 2 | B1 | 5 |  6.2 |  TRUE | A |\n",
       "| 3 | C1 | 9 | 10.3 | FALSE | B |\n",
       "\n"
      ],
      "text/plain": [
       "  Index Col1 Col2 Col3  Col4\n",
       "1 A1    1     2.4  TRUE A   \n",
       "2 B1    5     6.2  TRUE A   \n",
       "3 C1    9    10.3 FALSE B   "
      ]
     },
     "metadata": {},
     "output_type": "display_data"
    },
    {
     "data": {
      "text/html": [
       "<table class=\"dataframe\">\n",
       "<caption>A data.table: 3 × 5</caption>\n",
       "<thead>\n",
       "\t<tr><th scope=col>Index</th><th scope=col>Col1</th><th scope=col>Col2</th><th scope=col>Col3</th><th scope=col>Col4</th></tr>\n",
       "\t<tr><th scope=col>&lt;chr&gt;</th><th scope=col>&lt;int&gt;</th><th scope=col>&lt;dbl&gt;</th><th scope=col>&lt;lgl&gt;</th><th scope=col>&lt;chr&gt;</th></tr>\n",
       "</thead>\n",
       "<tbody>\n",
       "\t<tr><td>A1</td><td>1</td><td> 2.4</td><td> TRUE</td><td>A</td></tr>\n",
       "\t<tr><td>B1</td><td>5</td><td> 6.2</td><td> TRUE</td><td>A</td></tr>\n",
       "\t<tr><td>C1</td><td>9</td><td>10.3</td><td>FALSE</td><td>B</td></tr>\n",
       "</tbody>\n",
       "</table>\n"
      ],
      "text/latex": [
       "A data.table: 3 × 5\n",
       "\\begin{tabular}{lllll}\n",
       " Index & Col1 & Col2 & Col3 & Col4\\\\\n",
       " <chr> & <int> & <dbl> & <lgl> & <chr>\\\\\n",
       "\\hline\n",
       "\t A1 & 1 &  2.4 &  TRUE & A\\\\\n",
       "\t B1 & 5 &  6.2 &  TRUE & A\\\\\n",
       "\t C1 & 9 & 10.3 & FALSE & B\\\\\n",
       "\\end{tabular}\n"
      ],
      "text/markdown": [
       "\n",
       "A data.table: 3 × 5\n",
       "\n",
       "| Index &lt;chr&gt; | Col1 &lt;int&gt; | Col2 &lt;dbl&gt; | Col3 &lt;lgl&gt; | Col4 &lt;chr&gt; |\n",
       "|---|---|---|---|---|\n",
       "| A1 | 1 |  2.4 |  TRUE | A |\n",
       "| B1 | 5 |  6.2 |  TRUE | A |\n",
       "| C1 | 9 | 10.3 | FALSE | B |\n",
       "\n"
      ],
      "text/plain": [
       "  Index Col1 Col2 Col3  Col4\n",
       "1 A1    1     2.4  TRUE A   \n",
       "2 B1    5     6.2  TRUE A   \n",
       "3 C1    9    10.3 FALSE B   "
      ]
     },
     "metadata": {},
     "output_type": "display_data"
    }
   ],
   "source": [
    "# select rows in df\n",
    "df[1:3,]\n",
    "\n",
    "# select rows in dt\n",
    "# comma can be ommited\n",
    "dt[1:3]\n"
   ]
  },
  {
   "cell_type": "markdown",
   "metadata": {},
   "source": [
    "### Filtering"
   ]
  },
  {
   "cell_type": "code",
   "execution_count": 30,
   "metadata": {
    "vscode": {
     "languageId": "r"
    }
   },
   "outputs": [
    {
     "data": {
      "text/html": [
       "<table class=\"dataframe\">\n",
       "<caption>A data.frame: 6 × 5</caption>\n",
       "<thead>\n",
       "\t<tr><th></th><th scope=col>Index</th><th scope=col>Col1</th><th scope=col>Col2</th><th scope=col>Col3</th><th scope=col>Col4</th></tr>\n",
       "\t<tr><th></th><th scope=col>&lt;chr&gt;</th><th scope=col>&lt;int&gt;</th><th scope=col>&lt;dbl&gt;</th><th scope=col>&lt;lgl&gt;</th><th scope=col>&lt;chr&gt;</th></tr>\n",
       "</thead>\n",
       "<tbody>\n",
       "\t<tr><th scope=row>1</th><td>A1</td><td>1</td><td>2.4</td><td>TRUE</td><td>A</td></tr>\n",
       "\t<tr><th scope=row>2</th><td>B1</td><td>5</td><td>6.2</td><td>TRUE</td><td>A</td></tr>\n",
       "\t<tr><th scope=row>5</th><td>A2</td><td>1</td><td>2.3</td><td>TRUE</td><td>A</td></tr>\n",
       "\t<tr><th scope=row>6</th><td>B2</td><td>5</td><td>6.3</td><td>TRUE</td><td>A</td></tr>\n",
       "\t<tr><th scope=row>9</th><td>A3</td><td>1</td><td>2.2</td><td>TRUE</td><td>A</td></tr>\n",
       "\t<tr><th scope=row>10</th><td>B3</td><td>5</td><td>6.4</td><td>TRUE</td><td>A</td></tr>\n",
       "</tbody>\n",
       "</table>\n"
      ],
      "text/latex": [
       "A data.frame: 6 × 5\n",
       "\\begin{tabular}{r|lllll}\n",
       "  & Index & Col1 & Col2 & Col3 & Col4\\\\\n",
       "  & <chr> & <int> & <dbl> & <lgl> & <chr>\\\\\n",
       "\\hline\n",
       "\t1 & A1 & 1 & 2.4 & TRUE & A\\\\\n",
       "\t2 & B1 & 5 & 6.2 & TRUE & A\\\\\n",
       "\t5 & A2 & 1 & 2.3 & TRUE & A\\\\\n",
       "\t6 & B2 & 5 & 6.3 & TRUE & A\\\\\n",
       "\t9 & A3 & 1 & 2.2 & TRUE & A\\\\\n",
       "\t10 & B3 & 5 & 6.4 & TRUE & A\\\\\n",
       "\\end{tabular}\n"
      ],
      "text/markdown": [
       "\n",
       "A data.frame: 6 × 5\n",
       "\n",
       "| <!--/--> | Index &lt;chr&gt; | Col1 &lt;int&gt; | Col2 &lt;dbl&gt; | Col3 &lt;lgl&gt; | Col4 &lt;chr&gt; |\n",
       "|---|---|---|---|---|---|\n",
       "| 1 | A1 | 1 | 2.4 | TRUE | A |\n",
       "| 2 | B1 | 5 | 6.2 | TRUE | A |\n",
       "| 5 | A2 | 1 | 2.3 | TRUE | A |\n",
       "| 6 | B2 | 5 | 6.3 | TRUE | A |\n",
       "| 9 | A3 | 1 | 2.2 | TRUE | A |\n",
       "| 10 | B3 | 5 | 6.4 | TRUE | A |\n",
       "\n"
      ],
      "text/plain": [
       "   Index Col1 Col2 Col3 Col4\n",
       "1  A1    1    2.4  TRUE A   \n",
       "2  B1    5    6.2  TRUE A   \n",
       "5  A2    1    2.3  TRUE A   \n",
       "6  B2    5    6.3  TRUE A   \n",
       "9  A3    1    2.2  TRUE A   \n",
       "10 B3    5    6.4  TRUE A   "
      ]
     },
     "metadata": {},
     "output_type": "display_data"
    },
    {
     "data": {
      "text/html": [
       "<table class=\"dataframe\">\n",
       "<caption>A data.table: 6 × 5</caption>\n",
       "<thead>\n",
       "\t<tr><th scope=col>Index</th><th scope=col>Col1</th><th scope=col>Col2</th><th scope=col>Col3</th><th scope=col>Col4</th></tr>\n",
       "\t<tr><th scope=col>&lt;chr&gt;</th><th scope=col>&lt;int&gt;</th><th scope=col>&lt;dbl&gt;</th><th scope=col>&lt;lgl&gt;</th><th scope=col>&lt;chr&gt;</th></tr>\n",
       "</thead>\n",
       "<tbody>\n",
       "\t<tr><td>A1</td><td>1</td><td>2.4</td><td>TRUE</td><td>A</td></tr>\n",
       "\t<tr><td>B1</td><td>5</td><td>6.2</td><td>TRUE</td><td>A</td></tr>\n",
       "\t<tr><td>A2</td><td>1</td><td>2.3</td><td>TRUE</td><td>A</td></tr>\n",
       "\t<tr><td>B2</td><td>5</td><td>6.3</td><td>TRUE</td><td>A</td></tr>\n",
       "\t<tr><td>A3</td><td>1</td><td>2.2</td><td>TRUE</td><td>A</td></tr>\n",
       "\t<tr><td>B3</td><td>5</td><td>6.4</td><td>TRUE</td><td>A</td></tr>\n",
       "</tbody>\n",
       "</table>\n"
      ],
      "text/latex": [
       "A data.table: 6 × 5\n",
       "\\begin{tabular}{lllll}\n",
       " Index & Col1 & Col2 & Col3 & Col4\\\\\n",
       " <chr> & <int> & <dbl> & <lgl> & <chr>\\\\\n",
       "\\hline\n",
       "\t A1 & 1 & 2.4 & TRUE & A\\\\\n",
       "\t B1 & 5 & 6.2 & TRUE & A\\\\\n",
       "\t A2 & 1 & 2.3 & TRUE & A\\\\\n",
       "\t B2 & 5 & 6.3 & TRUE & A\\\\\n",
       "\t A3 & 1 & 2.2 & TRUE & A\\\\\n",
       "\t B3 & 5 & 6.4 & TRUE & A\\\\\n",
       "\\end{tabular}\n"
      ],
      "text/markdown": [
       "\n",
       "A data.table: 6 × 5\n",
       "\n",
       "| Index &lt;chr&gt; | Col1 &lt;int&gt; | Col2 &lt;dbl&gt; | Col3 &lt;lgl&gt; | Col4 &lt;chr&gt; |\n",
       "|---|---|---|---|---|\n",
       "| A1 | 1 | 2.4 | TRUE | A |\n",
       "| B1 | 5 | 6.2 | TRUE | A |\n",
       "| A2 | 1 | 2.3 | TRUE | A |\n",
       "| B2 | 5 | 6.3 | TRUE | A |\n",
       "| A3 | 1 | 2.2 | TRUE | A |\n",
       "| B3 | 5 | 6.4 | TRUE | A |\n",
       "\n"
      ],
      "text/plain": [
       "  Index Col1 Col2 Col3 Col4\n",
       "1 A1    1    2.4  TRUE A   \n",
       "2 B1    5    6.2  TRUE A   \n",
       "3 A2    1    2.3  TRUE A   \n",
       "4 B2    5    6.3  TRUE A   \n",
       "5 A3    1    2.2  TRUE A   \n",
       "6 B3    5    6.4  TRUE A   "
      ]
     },
     "metadata": {},
     "output_type": "display_data"
    }
   ],
   "source": [
    "# filter rows in df\n",
    "df[df$Col3 & df$Col4 == 'A',]\n",
    "\n",
    "# filter rows in dt\n",
    "# 10 times faster\n",
    "# comma ommited\n",
    "# columns as variables\n",
    "dt[Col3 & Col4 == 'A']"
   ]
  },
  {
   "cell_type": "markdown",
   "metadata": {},
   "source": [
    "### Sorting"
   ]
  },
  {
   "cell_type": "code",
   "execution_count": 31,
   "metadata": {
    "vscode": {
     "languageId": "r"
    }
   },
   "outputs": [
    {
     "data": {
      "text/html": [
       "<table class=\"dataframe\">\n",
       "<caption>A data.frame: 12 × 5</caption>\n",
       "<thead>\n",
       "\t<tr><th></th><th scope=col>Index</th><th scope=col>Col1</th><th scope=col>Col2</th><th scope=col>Col3</th><th scope=col>Col4</th></tr>\n",
       "\t<tr><th></th><th scope=col>&lt;chr&gt;</th><th scope=col>&lt;int&gt;</th><th scope=col>&lt;dbl&gt;</th><th scope=col>&lt;lgl&gt;</th><th scope=col>&lt;chr&gt;</th></tr>\n",
       "</thead>\n",
       "<tbody>\n",
       "\t<tr><th scope=row>9</th><td>A3</td><td> 1</td><td> 2.2</td><td> TRUE</td><td>A</td></tr>\n",
       "\t<tr><th scope=row>5</th><td>A2</td><td> 1</td><td> 2.3</td><td> TRUE</td><td>A</td></tr>\n",
       "\t<tr><th scope=row>1</th><td>A1</td><td> 1</td><td> 2.4</td><td> TRUE</td><td>A</td></tr>\n",
       "\t<tr><th scope=row>2</th><td>B1</td><td> 5</td><td> 6.2</td><td> TRUE</td><td>A</td></tr>\n",
       "\t<tr><th scope=row>6</th><td>B2</td><td> 5</td><td> 6.3</td><td> TRUE</td><td>A</td></tr>\n",
       "\t<tr><th scope=row>10</th><td>B3</td><td> 5</td><td> 6.4</td><td> TRUE</td><td>A</td></tr>\n",
       "\t<tr><th scope=row>3</th><td>C1</td><td> 9</td><td>10.3</td><td>FALSE</td><td>B</td></tr>\n",
       "\t<tr><th scope=row>7</th><td>C2</td><td> 9</td><td>10.4</td><td>FALSE</td><td>B</td></tr>\n",
       "\t<tr><th scope=row>11</th><td>C3</td><td> 9</td><td>10.5</td><td>FALSE</td><td>B</td></tr>\n",
       "\t<tr><th scope=row>4</th><td>D1</td><td>13</td><td>14.4</td><td> TRUE</td><td>B</td></tr>\n",
       "\t<tr><th scope=row>8</th><td>D2</td><td>13</td><td>14.4</td><td> TRUE</td><td>B</td></tr>\n",
       "\t<tr><th scope=row>12</th><td>D3</td><td>13</td><td>14.4</td><td> TRUE</td><td>B</td></tr>\n",
       "</tbody>\n",
       "</table>\n"
      ],
      "text/latex": [
       "A data.frame: 12 × 5\n",
       "\\begin{tabular}{r|lllll}\n",
       "  & Index & Col1 & Col2 & Col3 & Col4\\\\\n",
       "  & <chr> & <int> & <dbl> & <lgl> & <chr>\\\\\n",
       "\\hline\n",
       "\t9 & A3 &  1 &  2.2 &  TRUE & A\\\\\n",
       "\t5 & A2 &  1 &  2.3 &  TRUE & A\\\\\n",
       "\t1 & A1 &  1 &  2.4 &  TRUE & A\\\\\n",
       "\t2 & B1 &  5 &  6.2 &  TRUE & A\\\\\n",
       "\t6 & B2 &  5 &  6.3 &  TRUE & A\\\\\n",
       "\t10 & B3 &  5 &  6.4 &  TRUE & A\\\\\n",
       "\t3 & C1 &  9 & 10.3 & FALSE & B\\\\\n",
       "\t7 & C2 &  9 & 10.4 & FALSE & B\\\\\n",
       "\t11 & C3 &  9 & 10.5 & FALSE & B\\\\\n",
       "\t4 & D1 & 13 & 14.4 &  TRUE & B\\\\\n",
       "\t8 & D2 & 13 & 14.4 &  TRUE & B\\\\\n",
       "\t12 & D3 & 13 & 14.4 &  TRUE & B\\\\\n",
       "\\end{tabular}\n"
      ],
      "text/markdown": [
       "\n",
       "A data.frame: 12 × 5\n",
       "\n",
       "| <!--/--> | Index &lt;chr&gt; | Col1 &lt;int&gt; | Col2 &lt;dbl&gt; | Col3 &lt;lgl&gt; | Col4 &lt;chr&gt; |\n",
       "|---|---|---|---|---|---|\n",
       "| 9 | A3 |  1 |  2.2 |  TRUE | A |\n",
       "| 5 | A2 |  1 |  2.3 |  TRUE | A |\n",
       "| 1 | A1 |  1 |  2.4 |  TRUE | A |\n",
       "| 2 | B1 |  5 |  6.2 |  TRUE | A |\n",
       "| 6 | B2 |  5 |  6.3 |  TRUE | A |\n",
       "| 10 | B3 |  5 |  6.4 |  TRUE | A |\n",
       "| 3 | C1 |  9 | 10.3 | FALSE | B |\n",
       "| 7 | C2 |  9 | 10.4 | FALSE | B |\n",
       "| 11 | C3 |  9 | 10.5 | FALSE | B |\n",
       "| 4 | D1 | 13 | 14.4 |  TRUE | B |\n",
       "| 8 | D2 | 13 | 14.4 |  TRUE | B |\n",
       "| 12 | D3 | 13 | 14.4 |  TRUE | B |\n",
       "\n"
      ],
      "text/plain": [
       "   Index Col1 Col2 Col3  Col4\n",
       "9  A3     1    2.2  TRUE A   \n",
       "5  A2     1    2.3  TRUE A   \n",
       "1  A1     1    2.4  TRUE A   \n",
       "2  B1     5    6.2  TRUE A   \n",
       "6  B2     5    6.3  TRUE A   \n",
       "10 B3     5    6.4  TRUE A   \n",
       "3  C1     9   10.3 FALSE B   \n",
       "7  C2     9   10.4 FALSE B   \n",
       "11 C3     9   10.5 FALSE B   \n",
       "4  D1    13   14.4  TRUE B   \n",
       "8  D2    13   14.4  TRUE B   \n",
       "12 D3    13   14.4  TRUE B   "
      ]
     },
     "metadata": {},
     "output_type": "display_data"
    },
    {
     "data": {
      "text/html": [
       "<table class=\"dataframe\">\n",
       "<caption>A data.table: 12 × 5</caption>\n",
       "<thead>\n",
       "\t<tr><th scope=col>Index</th><th scope=col>Col1</th><th scope=col>Col2</th><th scope=col>Col3</th><th scope=col>Col4</th></tr>\n",
       "\t<tr><th scope=col>&lt;chr&gt;</th><th scope=col>&lt;int&gt;</th><th scope=col>&lt;dbl&gt;</th><th scope=col>&lt;lgl&gt;</th><th scope=col>&lt;chr&gt;</th></tr>\n",
       "</thead>\n",
       "<tbody>\n",
       "\t<tr><td>A3</td><td> 1</td><td> 2.2</td><td> TRUE</td><td>A</td></tr>\n",
       "\t<tr><td>A2</td><td> 1</td><td> 2.3</td><td> TRUE</td><td>A</td></tr>\n",
       "\t<tr><td>A1</td><td> 1</td><td> 2.4</td><td> TRUE</td><td>A</td></tr>\n",
       "\t<tr><td>B1</td><td> 5</td><td> 6.2</td><td> TRUE</td><td>A</td></tr>\n",
       "\t<tr><td>B2</td><td> 5</td><td> 6.3</td><td> TRUE</td><td>A</td></tr>\n",
       "\t<tr><td>B3</td><td> 5</td><td> 6.4</td><td> TRUE</td><td>A</td></tr>\n",
       "\t<tr><td>C1</td><td> 9</td><td>10.3</td><td>FALSE</td><td>B</td></tr>\n",
       "\t<tr><td>C2</td><td> 9</td><td>10.4</td><td>FALSE</td><td>B</td></tr>\n",
       "\t<tr><td>C3</td><td> 9</td><td>10.5</td><td>FALSE</td><td>B</td></tr>\n",
       "\t<tr><td>D1</td><td>13</td><td>14.4</td><td> TRUE</td><td>B</td></tr>\n",
       "\t<tr><td>D2</td><td>13</td><td>14.4</td><td> TRUE</td><td>B</td></tr>\n",
       "\t<tr><td>D3</td><td>13</td><td>14.4</td><td> TRUE</td><td>B</td></tr>\n",
       "</tbody>\n",
       "</table>\n"
      ],
      "text/latex": [
       "A data.table: 12 × 5\n",
       "\\begin{tabular}{lllll}\n",
       " Index & Col1 & Col2 & Col3 & Col4\\\\\n",
       " <chr> & <int> & <dbl> & <lgl> & <chr>\\\\\n",
       "\\hline\n",
       "\t A3 &  1 &  2.2 &  TRUE & A\\\\\n",
       "\t A2 &  1 &  2.3 &  TRUE & A\\\\\n",
       "\t A1 &  1 &  2.4 &  TRUE & A\\\\\n",
       "\t B1 &  5 &  6.2 &  TRUE & A\\\\\n",
       "\t B2 &  5 &  6.3 &  TRUE & A\\\\\n",
       "\t B3 &  5 &  6.4 &  TRUE & A\\\\\n",
       "\t C1 &  9 & 10.3 & FALSE & B\\\\\n",
       "\t C2 &  9 & 10.4 & FALSE & B\\\\\n",
       "\t C3 &  9 & 10.5 & FALSE & B\\\\\n",
       "\t D1 & 13 & 14.4 &  TRUE & B\\\\\n",
       "\t D2 & 13 & 14.4 &  TRUE & B\\\\\n",
       "\t D3 & 13 & 14.4 &  TRUE & B\\\\\n",
       "\\end{tabular}\n"
      ],
      "text/markdown": [
       "\n",
       "A data.table: 12 × 5\n",
       "\n",
       "| Index &lt;chr&gt; | Col1 &lt;int&gt; | Col2 &lt;dbl&gt; | Col3 &lt;lgl&gt; | Col4 &lt;chr&gt; |\n",
       "|---|---|---|---|---|\n",
       "| A3 |  1 |  2.2 |  TRUE | A |\n",
       "| A2 |  1 |  2.3 |  TRUE | A |\n",
       "| A1 |  1 |  2.4 |  TRUE | A |\n",
       "| B1 |  5 |  6.2 |  TRUE | A |\n",
       "| B2 |  5 |  6.3 |  TRUE | A |\n",
       "| B3 |  5 |  6.4 |  TRUE | A |\n",
       "| C1 |  9 | 10.3 | FALSE | B |\n",
       "| C2 |  9 | 10.4 | FALSE | B |\n",
       "| C3 |  9 | 10.5 | FALSE | B |\n",
       "| D1 | 13 | 14.4 |  TRUE | B |\n",
       "| D2 | 13 | 14.4 |  TRUE | B |\n",
       "| D3 | 13 | 14.4 |  TRUE | B |\n",
       "\n"
      ],
      "text/plain": [
       "   Index Col1 Col2 Col3  Col4\n",
       "1  A3     1    2.2  TRUE A   \n",
       "2  A2     1    2.3  TRUE A   \n",
       "3  A1     1    2.4  TRUE A   \n",
       "4  B1     5    6.2  TRUE A   \n",
       "5  B2     5    6.3  TRUE A   \n",
       "6  B3     5    6.4  TRUE A   \n",
       "7  C1     9   10.3 FALSE B   \n",
       "8  C2     9   10.4 FALSE B   \n",
       "9  C3     9   10.5 FALSE B   \n",
       "10 D1    13   14.4  TRUE B   \n",
       "11 D2    13   14.4  TRUE B   \n",
       "12 D3    13   14.4  TRUE B   "
      ]
     },
     "metadata": {},
     "output_type": "display_data"
    }
   ],
   "source": [
    "# order in df\n",
    "df[order(df$Col1, df$Col2),]\n",
    "\n",
    "# order in dt\n",
    "# 4 times faster\n",
    "dt[order(Col1, Col2)]"
   ]
  },
  {
   "cell_type": "markdown",
   "metadata": {},
   "source": [
    "### Columns Selection"
   ]
  },
  {
   "cell_type": "code",
   "execution_count": 32,
   "metadata": {
    "vscode": {
     "languageId": "r"
    }
   },
   "outputs": [
    {
     "data": {
      "text/html": [
       "<style>\n",
       ".list-inline {list-style: none; margin:0; padding: 0}\n",
       ".list-inline>li {display: inline-block}\n",
       ".list-inline>li:not(:last-child)::after {content: \"\\00b7\"; padding: 0 .5ex}\n",
       "</style>\n",
       "<ol class=list-inline><li>'A1'</li><li>'B1'</li><li>'C1'</li><li>'D1'</li><li>'A2'</li><li>'B2'</li><li>'C2'</li><li>'D2'</li><li>'A3'</li><li>'B3'</li><li>'C3'</li><li>'D3'</li></ol>\n"
      ],
      "text/latex": [
       "\\begin{enumerate*}\n",
       "\\item 'A1'\n",
       "\\item 'B1'\n",
       "\\item 'C1'\n",
       "\\item 'D1'\n",
       "\\item 'A2'\n",
       "\\item 'B2'\n",
       "\\item 'C2'\n",
       "\\item 'D2'\n",
       "\\item 'A3'\n",
       "\\item 'B3'\n",
       "\\item 'C3'\n",
       "\\item 'D3'\n",
       "\\end{enumerate*}\n"
      ],
      "text/markdown": [
       "1. 'A1'\n",
       "2. 'B1'\n",
       "3. 'C1'\n",
       "4. 'D1'\n",
       "5. 'A2'\n",
       "6. 'B2'\n",
       "7. 'C2'\n",
       "8. 'D2'\n",
       "9. 'A3'\n",
       "10. 'B3'\n",
       "11. 'C3'\n",
       "12. 'D3'\n",
       "\n",
       "\n"
      ],
      "text/plain": [
       " [1] \"A1\" \"B1\" \"C1\" \"D1\" \"A2\" \"B2\" \"C2\" \"D2\" \"A3\" \"B3\" \"C3\" \"D3\""
      ]
     },
     "metadata": {},
     "output_type": "display_data"
    },
    {
     "data": {
      "text/html": [
       "<style>\n",
       ".list-inline {list-style: none; margin:0; padding: 0}\n",
       ".list-inline>li {display: inline-block}\n",
       ".list-inline>li:not(:last-child)::after {content: \"\\00b7\"; padding: 0 .5ex}\n",
       "</style>\n",
       "<ol class=list-inline><li>'A1'</li><li>'B1'</li><li>'C1'</li><li>'D1'</li><li>'A2'</li><li>'B2'</li><li>'C2'</li><li>'D2'</li><li>'A3'</li><li>'B3'</li><li>'C3'</li><li>'D3'</li></ol>\n"
      ],
      "text/latex": [
       "\\begin{enumerate*}\n",
       "\\item 'A1'\n",
       "\\item 'B1'\n",
       "\\item 'C1'\n",
       "\\item 'D1'\n",
       "\\item 'A2'\n",
       "\\item 'B2'\n",
       "\\item 'C2'\n",
       "\\item 'D2'\n",
       "\\item 'A3'\n",
       "\\item 'B3'\n",
       "\\item 'C3'\n",
       "\\item 'D3'\n",
       "\\end{enumerate*}\n"
      ],
      "text/markdown": [
       "1. 'A1'\n",
       "2. 'B1'\n",
       "3. 'C1'\n",
       "4. 'D1'\n",
       "5. 'A2'\n",
       "6. 'B2'\n",
       "7. 'C2'\n",
       "8. 'D2'\n",
       "9. 'A3'\n",
       "10. 'B3'\n",
       "11. 'C3'\n",
       "12. 'D3'\n",
       "\n",
       "\n"
      ],
      "text/plain": [
       " [1] \"A1\" \"B1\" \"C1\" \"D1\" \"A2\" \"B2\" \"C2\" \"D2\" \"A3\" \"B3\" \"C3\" \"D3\""
      ]
     },
     "metadata": {},
     "output_type": "display_data"
    },
    {
     "data": {
      "text/html": [
       "<style>\n",
       ".list-inline {list-style: none; margin:0; padding: 0}\n",
       ".list-inline>li {display: inline-block}\n",
       ".list-inline>li:not(:last-child)::after {content: \"\\00b7\"; padding: 0 .5ex}\n",
       "</style>\n",
       "<ol class=list-inline><li>'A1'</li><li>'B1'</li><li>'C1'</li><li>'D1'</li><li>'A2'</li><li>'B2'</li><li>'C2'</li><li>'D2'</li><li>'A3'</li><li>'B3'</li><li>'C3'</li><li>'D3'</li></ol>\n"
      ],
      "text/latex": [
       "\\begin{enumerate*}\n",
       "\\item 'A1'\n",
       "\\item 'B1'\n",
       "\\item 'C1'\n",
       "\\item 'D1'\n",
       "\\item 'A2'\n",
       "\\item 'B2'\n",
       "\\item 'C2'\n",
       "\\item 'D2'\n",
       "\\item 'A3'\n",
       "\\item 'B3'\n",
       "\\item 'C3'\n",
       "\\item 'D3'\n",
       "\\end{enumerate*}\n"
      ],
      "text/markdown": [
       "1. 'A1'\n",
       "2. 'B1'\n",
       "3. 'C1'\n",
       "4. 'D1'\n",
       "5. 'A2'\n",
       "6. 'B2'\n",
       "7. 'C2'\n",
       "8. 'D2'\n",
       "9. 'A3'\n",
       "10. 'B3'\n",
       "11. 'C3'\n",
       "12. 'D3'\n",
       "\n",
       "\n"
      ],
      "text/plain": [
       " [1] \"A1\" \"B1\" \"C1\" \"D1\" \"A2\" \"B2\" \"C2\" \"D2\" \"A3\" \"B3\" \"C3\" \"D3\""
      ]
     },
     "metadata": {},
     "output_type": "display_data"
    },
    {
     "data": {
      "text/html": [
       "<style>\n",
       ".list-inline {list-style: none; margin:0; padding: 0}\n",
       ".list-inline>li {display: inline-block}\n",
       ".list-inline>li:not(:last-child)::after {content: \"\\00b7\"; padding: 0 .5ex}\n",
       "</style>\n",
       "<ol class=list-inline><li>'A1'</li><li>'B1'</li><li>'C1'</li><li>'D1'</li><li>'A2'</li><li>'B2'</li><li>'C2'</li><li>'D2'</li><li>'A3'</li><li>'B3'</li><li>'C3'</li><li>'D3'</li></ol>\n"
      ],
      "text/latex": [
       "\\begin{enumerate*}\n",
       "\\item 'A1'\n",
       "\\item 'B1'\n",
       "\\item 'C1'\n",
       "\\item 'D1'\n",
       "\\item 'A2'\n",
       "\\item 'B2'\n",
       "\\item 'C2'\n",
       "\\item 'D2'\n",
       "\\item 'A3'\n",
       "\\item 'B3'\n",
       "\\item 'C3'\n",
       "\\item 'D3'\n",
       "\\end{enumerate*}\n"
      ],
      "text/markdown": [
       "1. 'A1'\n",
       "2. 'B1'\n",
       "3. 'C1'\n",
       "4. 'D1'\n",
       "5. 'A2'\n",
       "6. 'B2'\n",
       "7. 'C2'\n",
       "8. 'D2'\n",
       "9. 'A3'\n",
       "10. 'B3'\n",
       "11. 'C3'\n",
       "12. 'D3'\n",
       "\n",
       "\n"
      ],
      "text/plain": [
       " [1] \"A1\" \"B1\" \"C1\" \"D1\" \"A2\" \"B2\" \"C2\" \"D2\" \"A3\" \"B3\" \"C3\" \"D3\""
      ]
     },
     "metadata": {},
     "output_type": "display_data"
    },
    {
     "data": {
      "text/html": [
       "<table class=\"dataframe\">\n",
       "<caption>A data.table: 12 × 1</caption>\n",
       "<thead>\n",
       "\t<tr><th scope=col>Index</th></tr>\n",
       "\t<tr><th scope=col>&lt;chr&gt;</th></tr>\n",
       "</thead>\n",
       "<tbody>\n",
       "\t<tr><td>A1</td></tr>\n",
       "\t<tr><td>B1</td></tr>\n",
       "\t<tr><td>C1</td></tr>\n",
       "\t<tr><td>D1</td></tr>\n",
       "\t<tr><td>A2</td></tr>\n",
       "\t<tr><td>B2</td></tr>\n",
       "\t<tr><td>C2</td></tr>\n",
       "\t<tr><td>D2</td></tr>\n",
       "\t<tr><td>A3</td></tr>\n",
       "\t<tr><td>B3</td></tr>\n",
       "\t<tr><td>C3</td></tr>\n",
       "\t<tr><td>D3</td></tr>\n",
       "</tbody>\n",
       "</table>\n"
      ],
      "text/latex": [
       "A data.table: 12 × 1\n",
       "\\begin{tabular}{l}\n",
       " Index\\\\\n",
       " <chr>\\\\\n",
       "\\hline\n",
       "\t A1\\\\\n",
       "\t B1\\\\\n",
       "\t C1\\\\\n",
       "\t D1\\\\\n",
       "\t A2\\\\\n",
       "\t B2\\\\\n",
       "\t C2\\\\\n",
       "\t D2\\\\\n",
       "\t A3\\\\\n",
       "\t B3\\\\\n",
       "\t C3\\\\\n",
       "\t D3\\\\\n",
       "\\end{tabular}\n"
      ],
      "text/markdown": [
       "\n",
       "A data.table: 12 × 1\n",
       "\n",
       "| Index &lt;chr&gt; |\n",
       "|---|\n",
       "| A1 |\n",
       "| B1 |\n",
       "| C1 |\n",
       "| D1 |\n",
       "| A2 |\n",
       "| B2 |\n",
       "| C2 |\n",
       "| D2 |\n",
       "| A3 |\n",
       "| B3 |\n",
       "| C3 |\n",
       "| D3 |\n",
       "\n"
      ],
      "text/plain": [
       "   Index\n",
       "1  A1   \n",
       "2  B1   \n",
       "3  C1   \n",
       "4  D1   \n",
       "5  A2   \n",
       "6  B2   \n",
       "7  C2   \n",
       "8  D2   \n",
       "9  A3   \n",
       "10 B3   \n",
       "11 C3   \n",
       "12 D3   "
      ]
     },
     "metadata": {},
     "output_type": "display_data"
    }
   ],
   "source": [
    "# select a column of type chr\n",
    "\n",
    "# in df returns factor\n",
    "df$Index\n",
    "df[, 'Index']\n",
    "\n",
    "# in dt this way returns vector\n",
    "dt$Index\n",
    "dt[, Index]\n",
    "# but this way a table with one column\n",
    "dt[, 'Index']"
   ]
  },
  {
   "cell_type": "code",
   "execution_count": 33,
   "metadata": {
    "vscode": {
     "languageId": "r"
    }
   },
   "outputs": [
    {
     "data": {
      "text/html": [
       "<table class=\"dataframe\">\n",
       "<caption>A data.frame: 12 × 2</caption>\n",
       "<thead>\n",
       "\t<tr><th scope=col>Col1</th><th scope=col>Col2</th></tr>\n",
       "\t<tr><th scope=col>&lt;int&gt;</th><th scope=col>&lt;dbl&gt;</th></tr>\n",
       "</thead>\n",
       "<tbody>\n",
       "\t<tr><td> 1</td><td> 2.4</td></tr>\n",
       "\t<tr><td> 5</td><td> 6.2</td></tr>\n",
       "\t<tr><td> 9</td><td>10.3</td></tr>\n",
       "\t<tr><td>13</td><td>14.4</td></tr>\n",
       "\t<tr><td> 1</td><td> 2.3</td></tr>\n",
       "\t<tr><td> 5</td><td> 6.3</td></tr>\n",
       "\t<tr><td> 9</td><td>10.4</td></tr>\n",
       "\t<tr><td>13</td><td>14.4</td></tr>\n",
       "\t<tr><td> 1</td><td> 2.2</td></tr>\n",
       "\t<tr><td> 5</td><td> 6.4</td></tr>\n",
       "\t<tr><td> 9</td><td>10.5</td></tr>\n",
       "\t<tr><td>13</td><td>14.4</td></tr>\n",
       "</tbody>\n",
       "</table>\n"
      ],
      "text/latex": [
       "A data.frame: 12 × 2\n",
       "\\begin{tabular}{ll}\n",
       " Col1 & Col2\\\\\n",
       " <int> & <dbl>\\\\\n",
       "\\hline\n",
       "\t  1 &  2.4\\\\\n",
       "\t  5 &  6.2\\\\\n",
       "\t  9 & 10.3\\\\\n",
       "\t 13 & 14.4\\\\\n",
       "\t  1 &  2.3\\\\\n",
       "\t  5 &  6.3\\\\\n",
       "\t  9 & 10.4\\\\\n",
       "\t 13 & 14.4\\\\\n",
       "\t  1 &  2.2\\\\\n",
       "\t  5 &  6.4\\\\\n",
       "\t  9 & 10.5\\\\\n",
       "\t 13 & 14.4\\\\\n",
       "\\end{tabular}\n"
      ],
      "text/markdown": [
       "\n",
       "A data.frame: 12 × 2\n",
       "\n",
       "| Col1 &lt;int&gt; | Col2 &lt;dbl&gt; |\n",
       "|---|---|\n",
       "|  1 |  2.4 |\n",
       "|  5 |  6.2 |\n",
       "|  9 | 10.3 |\n",
       "| 13 | 14.4 |\n",
       "|  1 |  2.3 |\n",
       "|  5 |  6.3 |\n",
       "|  9 | 10.4 |\n",
       "| 13 | 14.4 |\n",
       "|  1 |  2.2 |\n",
       "|  5 |  6.4 |\n",
       "|  9 | 10.5 |\n",
       "| 13 | 14.4 |\n",
       "\n"
      ],
      "text/plain": [
       "   Col1 Col2\n",
       "1   1    2.4\n",
       "2   5    6.2\n",
       "3   9   10.3\n",
       "4  13   14.4\n",
       "5   1    2.3\n",
       "6   5    6.3\n",
       "7   9   10.4\n",
       "8  13   14.4\n",
       "9   1    2.2\n",
       "10  5    6.4\n",
       "11  9   10.5\n",
       "12 13   14.4"
      ]
     },
     "metadata": {},
     "output_type": "display_data"
    },
    {
     "data": {
      "text/html": [
       "<table class=\"dataframe\">\n",
       "<caption>A data.table: 12 × 2</caption>\n",
       "<thead>\n",
       "\t<tr><th scope=col>Col1</th><th scope=col>Col2</th></tr>\n",
       "\t<tr><th scope=col>&lt;int&gt;</th><th scope=col>&lt;dbl&gt;</th></tr>\n",
       "</thead>\n",
       "<tbody>\n",
       "\t<tr><td> 1</td><td> 2.4</td></tr>\n",
       "\t<tr><td> 5</td><td> 6.2</td></tr>\n",
       "\t<tr><td> 9</td><td>10.3</td></tr>\n",
       "\t<tr><td>13</td><td>14.4</td></tr>\n",
       "\t<tr><td> 1</td><td> 2.3</td></tr>\n",
       "\t<tr><td> 5</td><td> 6.3</td></tr>\n",
       "\t<tr><td> 9</td><td>10.4</td></tr>\n",
       "\t<tr><td>13</td><td>14.4</td></tr>\n",
       "\t<tr><td> 1</td><td> 2.2</td></tr>\n",
       "\t<tr><td> 5</td><td> 6.4</td></tr>\n",
       "\t<tr><td> 9</td><td>10.5</td></tr>\n",
       "\t<tr><td>13</td><td>14.4</td></tr>\n",
       "</tbody>\n",
       "</table>\n"
      ],
      "text/latex": [
       "A data.table: 12 × 2\n",
       "\\begin{tabular}{ll}\n",
       " Col1 & Col2\\\\\n",
       " <int> & <dbl>\\\\\n",
       "\\hline\n",
       "\t  1 &  2.4\\\\\n",
       "\t  5 &  6.2\\\\\n",
       "\t  9 & 10.3\\\\\n",
       "\t 13 & 14.4\\\\\n",
       "\t  1 &  2.3\\\\\n",
       "\t  5 &  6.3\\\\\n",
       "\t  9 & 10.4\\\\\n",
       "\t 13 & 14.4\\\\\n",
       "\t  1 &  2.2\\\\\n",
       "\t  5 &  6.4\\\\\n",
       "\t  9 & 10.5\\\\\n",
       "\t 13 & 14.4\\\\\n",
       "\\end{tabular}\n"
      ],
      "text/markdown": [
       "\n",
       "A data.table: 12 × 2\n",
       "\n",
       "| Col1 &lt;int&gt; | Col2 &lt;dbl&gt; |\n",
       "|---|---|\n",
       "|  1 |  2.4 |\n",
       "|  5 |  6.2 |\n",
       "|  9 | 10.3 |\n",
       "| 13 | 14.4 |\n",
       "|  1 |  2.3 |\n",
       "|  5 |  6.3 |\n",
       "|  9 | 10.4 |\n",
       "| 13 | 14.4 |\n",
       "|  1 |  2.2 |\n",
       "|  5 |  6.4 |\n",
       "|  9 | 10.5 |\n",
       "| 13 | 14.4 |\n",
       "\n"
      ],
      "text/plain": [
       "   Col1 Col2\n",
       "1   1    2.4\n",
       "2   5    6.2\n",
       "3   9   10.3\n",
       "4  13   14.4\n",
       "5   1    2.3\n",
       "6   5    6.3\n",
       "7   9   10.4\n",
       "8  13   14.4\n",
       "9   1    2.2\n",
       "10  5    6.4\n",
       "11  9   10.5\n",
       "12 13   14.4"
      ]
     },
     "metadata": {},
     "output_type": "display_data"
    },
    {
     "data": {
      "text/html": [
       "<table class=\"dataframe\">\n",
       "<caption>A data.table: 12 × 2</caption>\n",
       "<thead>\n",
       "\t<tr><th scope=col>Col1</th><th scope=col>Col2</th></tr>\n",
       "\t<tr><th scope=col>&lt;int&gt;</th><th scope=col>&lt;dbl&gt;</th></tr>\n",
       "</thead>\n",
       "<tbody>\n",
       "\t<tr><td> 1</td><td> 2.4</td></tr>\n",
       "\t<tr><td> 5</td><td> 6.2</td></tr>\n",
       "\t<tr><td> 9</td><td>10.3</td></tr>\n",
       "\t<tr><td>13</td><td>14.4</td></tr>\n",
       "\t<tr><td> 1</td><td> 2.3</td></tr>\n",
       "\t<tr><td> 5</td><td> 6.3</td></tr>\n",
       "\t<tr><td> 9</td><td>10.4</td></tr>\n",
       "\t<tr><td>13</td><td>14.4</td></tr>\n",
       "\t<tr><td> 1</td><td> 2.2</td></tr>\n",
       "\t<tr><td> 5</td><td> 6.4</td></tr>\n",
       "\t<tr><td> 9</td><td>10.5</td></tr>\n",
       "\t<tr><td>13</td><td>14.4</td></tr>\n",
       "</tbody>\n",
       "</table>\n"
      ],
      "text/latex": [
       "A data.table: 12 × 2\n",
       "\\begin{tabular}{ll}\n",
       " Col1 & Col2\\\\\n",
       " <int> & <dbl>\\\\\n",
       "\\hline\n",
       "\t  1 &  2.4\\\\\n",
       "\t  5 &  6.2\\\\\n",
       "\t  9 & 10.3\\\\\n",
       "\t 13 & 14.4\\\\\n",
       "\t  1 &  2.3\\\\\n",
       "\t  5 &  6.3\\\\\n",
       "\t  9 & 10.4\\\\\n",
       "\t 13 & 14.4\\\\\n",
       "\t  1 &  2.2\\\\\n",
       "\t  5 &  6.4\\\\\n",
       "\t  9 & 10.5\\\\\n",
       "\t 13 & 14.4\\\\\n",
       "\\end{tabular}\n"
      ],
      "text/markdown": [
       "\n",
       "A data.table: 12 × 2\n",
       "\n",
       "| Col1 &lt;int&gt; | Col2 &lt;dbl&gt; |\n",
       "|---|---|\n",
       "|  1 |  2.4 |\n",
       "|  5 |  6.2 |\n",
       "|  9 | 10.3 |\n",
       "| 13 | 14.4 |\n",
       "|  1 |  2.3 |\n",
       "|  5 |  6.3 |\n",
       "|  9 | 10.4 |\n",
       "| 13 | 14.4 |\n",
       "|  1 |  2.2 |\n",
       "|  5 |  6.4 |\n",
       "|  9 | 10.5 |\n",
       "| 13 | 14.4 |\n",
       "\n"
      ],
      "text/plain": [
       "   Col1 Col2\n",
       "1   1    2.4\n",
       "2   5    6.2\n",
       "3   9   10.3\n",
       "4  13   14.4\n",
       "5   1    2.3\n",
       "6   5    6.3\n",
       "7   9   10.4\n",
       "8  13   14.4\n",
       "9   1    2.2\n",
       "10  5    6.4\n",
       "11  9   10.5\n",
       "12 13   14.4"
      ]
     },
     "metadata": {},
     "output_type": "display_data"
    },
    {
     "data": {
      "text/html": [
       "<table class=\"dataframe\">\n",
       "<caption>A data.table: 12 × 2</caption>\n",
       "<thead>\n",
       "\t<tr><th scope=col>Col1</th><th scope=col>Col2</th></tr>\n",
       "\t<tr><th scope=col>&lt;int&gt;</th><th scope=col>&lt;dbl&gt;</th></tr>\n",
       "</thead>\n",
       "<tbody>\n",
       "\t<tr><td> 1</td><td> 2.4</td></tr>\n",
       "\t<tr><td> 5</td><td> 6.2</td></tr>\n",
       "\t<tr><td> 9</td><td>10.3</td></tr>\n",
       "\t<tr><td>13</td><td>14.4</td></tr>\n",
       "\t<tr><td> 1</td><td> 2.3</td></tr>\n",
       "\t<tr><td> 5</td><td> 6.3</td></tr>\n",
       "\t<tr><td> 9</td><td>10.4</td></tr>\n",
       "\t<tr><td>13</td><td>14.4</td></tr>\n",
       "\t<tr><td> 1</td><td> 2.2</td></tr>\n",
       "\t<tr><td> 5</td><td> 6.4</td></tr>\n",
       "\t<tr><td> 9</td><td>10.5</td></tr>\n",
       "\t<tr><td>13</td><td>14.4</td></tr>\n",
       "</tbody>\n",
       "</table>\n"
      ],
      "text/latex": [
       "A data.table: 12 × 2\n",
       "\\begin{tabular}{ll}\n",
       " Col1 & Col2\\\\\n",
       " <int> & <dbl>\\\\\n",
       "\\hline\n",
       "\t  1 &  2.4\\\\\n",
       "\t  5 &  6.2\\\\\n",
       "\t  9 & 10.3\\\\\n",
       "\t 13 & 14.4\\\\\n",
       "\t  1 &  2.3\\\\\n",
       "\t  5 &  6.3\\\\\n",
       "\t  9 & 10.4\\\\\n",
       "\t 13 & 14.4\\\\\n",
       "\t  1 &  2.2\\\\\n",
       "\t  5 &  6.4\\\\\n",
       "\t  9 & 10.5\\\\\n",
       "\t 13 & 14.4\\\\\n",
       "\\end{tabular}\n"
      ],
      "text/markdown": [
       "\n",
       "A data.table: 12 × 2\n",
       "\n",
       "| Col1 &lt;int&gt; | Col2 &lt;dbl&gt; |\n",
       "|---|---|\n",
       "|  1 |  2.4 |\n",
       "|  5 |  6.2 |\n",
       "|  9 | 10.3 |\n",
       "| 13 | 14.4 |\n",
       "|  1 |  2.3 |\n",
       "|  5 |  6.3 |\n",
       "|  9 | 10.4 |\n",
       "| 13 | 14.4 |\n",
       "|  1 |  2.2 |\n",
       "|  5 |  6.4 |\n",
       "|  9 | 10.5 |\n",
       "| 13 | 14.4 |\n",
       "\n"
      ],
      "text/plain": [
       "   Col1 Col2\n",
       "1   1    2.4\n",
       "2   5    6.2\n",
       "3   9   10.3\n",
       "4  13   14.4\n",
       "5   1    2.3\n",
       "6   5    6.3\n",
       "7   9   10.4\n",
       "8  13   14.4\n",
       "9   1    2.2\n",
       "10  5    6.4\n",
       "11  9   10.5\n",
       "12 13   14.4"
      ]
     },
     "metadata": {},
     "output_type": "display_data"
    },
    {
     "data": {
      "text/html": [
       "<style>\n",
       ".list-inline {list-style: none; margin:0; padding: 0}\n",
       ".list-inline>li {display: inline-block}\n",
       ".list-inline>li:not(:last-child)::after {content: \"\\00b7\"; padding: 0 .5ex}\n",
       "</style>\n",
       "<ol class=list-inline><li>1</li><li>5</li><li>9</li><li>13</li><li>1</li><li>5</li><li>9</li><li>13</li><li>1</li><li>5</li><li>9</li><li>13</li><li>2.4</li><li>6.2</li><li>10.3</li><li>14.4</li><li>2.3</li><li>6.3</li><li>10.4</li><li>14.4</li><li>2.2</li><li>6.4</li><li>10.5</li><li>14.4</li></ol>\n"
      ],
      "text/latex": [
       "\\begin{enumerate*}\n",
       "\\item 1\n",
       "\\item 5\n",
       "\\item 9\n",
       "\\item 13\n",
       "\\item 1\n",
       "\\item 5\n",
       "\\item 9\n",
       "\\item 13\n",
       "\\item 1\n",
       "\\item 5\n",
       "\\item 9\n",
       "\\item 13\n",
       "\\item 2.4\n",
       "\\item 6.2\n",
       "\\item 10.3\n",
       "\\item 14.4\n",
       "\\item 2.3\n",
       "\\item 6.3\n",
       "\\item 10.4\n",
       "\\item 14.4\n",
       "\\item 2.2\n",
       "\\item 6.4\n",
       "\\item 10.5\n",
       "\\item 14.4\n",
       "\\end{enumerate*}\n"
      ],
      "text/markdown": [
       "1. 1\n",
       "2. 5\n",
       "3. 9\n",
       "4. 13\n",
       "5. 1\n",
       "6. 5\n",
       "7. 9\n",
       "8. 13\n",
       "9. 1\n",
       "10. 5\n",
       "11. 9\n",
       "12. 13\n",
       "13. 2.4\n",
       "14. 6.2\n",
       "15. 10.3\n",
       "16. 14.4\n",
       "17. 2.3\n",
       "18. 6.3\n",
       "19. 10.4\n",
       "20. 14.4\n",
       "21. 2.2\n",
       "22. 6.4\n",
       "23. 10.5\n",
       "24. 14.4\n",
       "\n",
       "\n"
      ],
      "text/plain": [
       " [1]  1.0  5.0  9.0 13.0  1.0  5.0  9.0 13.0  1.0  5.0  9.0 13.0  2.4  6.2 10.3\n",
       "[16] 14.4  2.3  6.3 10.4 14.4  2.2  6.4 10.5 14.4"
      ]
     },
     "metadata": {},
     "output_type": "display_data"
    }
   ],
   "source": [
    "# select multiple columns\n",
    "\n",
    "# in df returns data.frame\n",
    "df[, c('Col1', 'Col2')]\n",
    "\n",
    "# in dt returns data.table\n",
    "dt[, c('Col1', 'Col2')]\n",
    "# also data.table\n",
    "dt[, list(Col1, Col2)]\n",
    "# also data.table (. means list in data.table)\n",
    "dt[, .(Col1, Col2)]\n",
    "# this way a single vector with half data from Sex followed by Age\n",
    "dt[, c(Col1, Col2)]"
   ]
  },
  {
   "cell_type": "code",
   "execution_count": 34,
   "metadata": {
    "vscode": {
     "languageId": "r"
    }
   },
   "outputs": [
    {
     "data": {
      "text/html": [
       "<style>\n",
       ".list-inline {list-style: none; margin:0; padding: 0}\n",
       ".list-inline>li {display: inline-block}\n",
       ".list-inline>li:not(:last-child)::after {content: \"\\00b7\"; padding: 0 .5ex}\n",
       "</style>\n",
       "<ol class=list-inline><li>2.4</li><li>6.2</li><li>10.3</li><li>14.4</li><li>2.3</li><li>6.3</li><li>10.4</li><li>14.4</li><li>2.2</li><li>6.4</li><li>10.5</li><li>14.4</li></ol>\n"
      ],
      "text/latex": [
       "\\begin{enumerate*}\n",
       "\\item 2.4\n",
       "\\item 6.2\n",
       "\\item 10.3\n",
       "\\item 14.4\n",
       "\\item 2.3\n",
       "\\item 6.3\n",
       "\\item 10.4\n",
       "\\item 14.4\n",
       "\\item 2.2\n",
       "\\item 6.4\n",
       "\\item 10.5\n",
       "\\item 14.4\n",
       "\\end{enumerate*}\n"
      ],
      "text/markdown": [
       "1. 2.4\n",
       "2. 6.2\n",
       "3. 10.3\n",
       "4. 14.4\n",
       "5. 2.3\n",
       "6. 6.3\n",
       "7. 10.4\n",
       "8. 14.4\n",
       "9. 2.2\n",
       "10. 6.4\n",
       "11. 10.5\n",
       "12. 14.4\n",
       "\n",
       "\n"
      ],
      "text/plain": [
       " [1]  2.4  6.2 10.3 14.4  2.3  6.3 10.4 14.4  2.2  6.4 10.5 14.4"
      ]
     },
     "metadata": {},
     "output_type": "display_data"
    },
    {
     "data": {
      "text/html": [
       "<style>\n",
       ".list-inline {list-style: none; margin:0; padding: 0}\n",
       ".list-inline>li {display: inline-block}\n",
       ".list-inline>li:not(:last-child)::after {content: \"\\00b7\"; padding: 0 .5ex}\n",
       "</style>\n",
       "<ol class=list-inline><li>2.4</li><li>6.2</li><li>10.3</li><li>14.4</li><li>2.3</li><li>6.3</li><li>10.4</li><li>14.4</li><li>2.2</li><li>6.4</li><li>10.5</li><li>14.4</li></ol>\n"
      ],
      "text/latex": [
       "\\begin{enumerate*}\n",
       "\\item 2.4\n",
       "\\item 6.2\n",
       "\\item 10.3\n",
       "\\item 14.4\n",
       "\\item 2.3\n",
       "\\item 6.3\n",
       "\\item 10.4\n",
       "\\item 14.4\n",
       "\\item 2.2\n",
       "\\item 6.4\n",
       "\\item 10.5\n",
       "\\item 14.4\n",
       "\\end{enumerate*}\n"
      ],
      "text/markdown": [
       "1. 2.4\n",
       "2. 6.2\n",
       "3. 10.3\n",
       "4. 14.4\n",
       "5. 2.3\n",
       "6. 6.3\n",
       "7. 10.4\n",
       "8. 14.4\n",
       "9. 2.2\n",
       "10. 6.4\n",
       "11. 10.5\n",
       "12. 14.4\n",
       "\n",
       "\n"
      ],
      "text/plain": [
       " [1]  2.4  6.2 10.3 14.4  2.3  6.3 10.4 14.4  2.2  6.4 10.5 14.4"
      ]
     },
     "metadata": {},
     "output_type": "display_data"
    },
    {
     "data": {
      "text/html": [
       "<table class=\"dataframe\">\n",
       "<caption>A data.table: 12 × 1</caption>\n",
       "<thead>\n",
       "\t<tr><th scope=col>Col2</th></tr>\n",
       "\t<tr><th scope=col>&lt;dbl&gt;</th></tr>\n",
       "</thead>\n",
       "<tbody>\n",
       "\t<tr><td> 2.4</td></tr>\n",
       "\t<tr><td> 6.2</td></tr>\n",
       "\t<tr><td>10.3</td></tr>\n",
       "\t<tr><td>14.4</td></tr>\n",
       "\t<tr><td> 2.3</td></tr>\n",
       "\t<tr><td> 6.3</td></tr>\n",
       "\t<tr><td>10.4</td></tr>\n",
       "\t<tr><td>14.4</td></tr>\n",
       "\t<tr><td> 2.2</td></tr>\n",
       "\t<tr><td> 6.4</td></tr>\n",
       "\t<tr><td>10.5</td></tr>\n",
       "\t<tr><td>14.4</td></tr>\n",
       "</tbody>\n",
       "</table>\n"
      ],
      "text/latex": [
       "A data.table: 12 × 1\n",
       "\\begin{tabular}{l}\n",
       " Col2\\\\\n",
       " <dbl>\\\\\n",
       "\\hline\n",
       "\t  2.4\\\\\n",
       "\t  6.2\\\\\n",
       "\t 10.3\\\\\n",
       "\t 14.4\\\\\n",
       "\t  2.3\\\\\n",
       "\t  6.3\\\\\n",
       "\t 10.4\\\\\n",
       "\t 14.4\\\\\n",
       "\t  2.2\\\\\n",
       "\t  6.4\\\\\n",
       "\t 10.5\\\\\n",
       "\t 14.4\\\\\n",
       "\\end{tabular}\n"
      ],
      "text/markdown": [
       "\n",
       "A data.table: 12 × 1\n",
       "\n",
       "| Col2 &lt;dbl&gt; |\n",
       "|---|\n",
       "|  2.4 |\n",
       "|  6.2 |\n",
       "| 10.3 |\n",
       "| 14.4 |\n",
       "|  2.3 |\n",
       "|  6.3 |\n",
       "| 10.4 |\n",
       "| 14.4 |\n",
       "|  2.2 |\n",
       "|  6.4 |\n",
       "| 10.5 |\n",
       "| 14.4 |\n",
       "\n"
      ],
      "text/plain": [
       "   Col2\n",
       "1   2.4\n",
       "2   6.2\n",
       "3  10.3\n",
       "4  14.4\n",
       "5   2.3\n",
       "6   6.3\n",
       "7  10.4\n",
       "8  14.4\n",
       "9   2.2\n",
       "10  6.4\n",
       "11 10.5\n",
       "12 14.4"
      ]
     },
     "metadata": {},
     "output_type": "display_data"
    },
    {
     "data": {
      "text/html": [
       "<table class=\"dataframe\">\n",
       "<caption>A data.table: 12 × 1</caption>\n",
       "<thead>\n",
       "\t<tr><th scope=col>Col2</th></tr>\n",
       "\t<tr><th scope=col>&lt;dbl&gt;</th></tr>\n",
       "</thead>\n",
       "<tbody>\n",
       "\t<tr><td> 2.4</td></tr>\n",
       "\t<tr><td> 6.2</td></tr>\n",
       "\t<tr><td>10.3</td></tr>\n",
       "\t<tr><td>14.4</td></tr>\n",
       "\t<tr><td> 2.3</td></tr>\n",
       "\t<tr><td> 6.3</td></tr>\n",
       "\t<tr><td>10.4</td></tr>\n",
       "\t<tr><td>14.4</td></tr>\n",
       "\t<tr><td> 2.2</td></tr>\n",
       "\t<tr><td> 6.4</td></tr>\n",
       "\t<tr><td>10.5</td></tr>\n",
       "\t<tr><td>14.4</td></tr>\n",
       "</tbody>\n",
       "</table>\n"
      ],
      "text/latex": [
       "A data.table: 12 × 1\n",
       "\\begin{tabular}{l}\n",
       " Col2\\\\\n",
       " <dbl>\\\\\n",
       "\\hline\n",
       "\t  2.4\\\\\n",
       "\t  6.2\\\\\n",
       "\t 10.3\\\\\n",
       "\t 14.4\\\\\n",
       "\t  2.3\\\\\n",
       "\t  6.3\\\\\n",
       "\t 10.4\\\\\n",
       "\t 14.4\\\\\n",
       "\t  2.2\\\\\n",
       "\t  6.4\\\\\n",
       "\t 10.5\\\\\n",
       "\t 14.4\\\\\n",
       "\\end{tabular}\n"
      ],
      "text/markdown": [
       "\n",
       "A data.table: 12 × 1\n",
       "\n",
       "| Col2 &lt;dbl&gt; |\n",
       "|---|\n",
       "|  2.4 |\n",
       "|  6.2 |\n",
       "| 10.3 |\n",
       "| 14.4 |\n",
       "|  2.3 |\n",
       "|  6.3 |\n",
       "| 10.4 |\n",
       "| 14.4 |\n",
       "|  2.2 |\n",
       "|  6.4 |\n",
       "| 10.5 |\n",
       "| 14.4 |\n",
       "\n"
      ],
      "text/plain": [
       "   Col2\n",
       "1   2.4\n",
       "2   6.2\n",
       "3  10.3\n",
       "4  14.4\n",
       "5   2.3\n",
       "6   6.3\n",
       "7  10.4\n",
       "8  14.4\n",
       "9   2.2\n",
       "10  6.4\n",
       "11 10.5\n",
       "12 14.4"
      ]
     },
     "metadata": {},
     "output_type": "display_data"
    }
   ],
   "source": [
    "# using variable for column name or id\n",
    "cname <- 'Col2'\n",
    "cnum <- 3\n",
    "\n",
    "# returns a factor or vector for df (depends of data type of the column)\n",
    "df[, cname]\n",
    "df[, cnum]\n",
    "\n",
    "# return a data.table for dt, but must use .. means 'one level up'  \n",
    "# look for cname and cnum in the workspace objects, not in dt columns\n",
    "dt[, ..cname]\n",
    "dt[, ..cnum]"
   ]
  },
  {
   "cell_type": "markdown",
   "metadata": {},
   "source": [
    "### Different table functionality"
   ]
  },
  {
   "cell_type": "code",
   "execution_count": 35,
   "metadata": {
    "vscode": {
     "languageId": "r"
    }
   },
   "outputs": [
    {
     "data": {
      "text/plain": [
       "       \n",
       "        A B\n",
       "  FALSE 0 3\n",
       "  TRUE  6 3"
      ]
     },
     "metadata": {},
     "output_type": "display_data"
    },
    {
     "data": {
      "text/html": [
       "<table class=\"dataframe\">\n",
       "<caption>A data.table: 3 × 3</caption>\n",
       "<thead>\n",
       "\t<tr><th scope=col>Col3</th><th scope=col>Col4</th><th scope=col>N</th></tr>\n",
       "\t<tr><th scope=col>&lt;lgl&gt;</th><th scope=col>&lt;chr&gt;</th><th scope=col>&lt;int&gt;</th></tr>\n",
       "</thead>\n",
       "<tbody>\n",
       "\t<tr><td> TRUE</td><td>A</td><td>6</td></tr>\n",
       "\t<tr><td>FALSE</td><td>B</td><td>3</td></tr>\n",
       "\t<tr><td> TRUE</td><td>B</td><td>3</td></tr>\n",
       "</tbody>\n",
       "</table>\n"
      ],
      "text/latex": [
       "A data.table: 3 × 3\n",
       "\\begin{tabular}{lll}\n",
       " Col3 & Col4 & N\\\\\n",
       " <lgl> & <chr> & <int>\\\\\n",
       "\\hline\n",
       "\t  TRUE & A & 6\\\\\n",
       "\t FALSE & B & 3\\\\\n",
       "\t  TRUE & B & 3\\\\\n",
       "\\end{tabular}\n"
      ],
      "text/markdown": [
       "\n",
       "A data.table: 3 × 3\n",
       "\n",
       "| Col3 &lt;lgl&gt; | Col4 &lt;chr&gt; | N &lt;int&gt; |\n",
       "|---|---|---|\n",
       "|  TRUE | A | 6 |\n",
       "| FALSE | B | 3 |\n",
       "|  TRUE | B | 3 |\n",
       "\n"
      ],
      "text/plain": [
       "  Col3  Col4 N\n",
       "1  TRUE A    6\n",
       "2 FALSE B    3\n",
       "3  TRUE B    3"
      ]
     },
     "metadata": {},
     "output_type": "display_data"
    }
   ],
   "source": [
    "# table by Area and Year\n",
    "\n",
    "# with df\n",
    "table(df$Col3, df$Col4)\n",
    "\n",
    "# with dt\n",
    "# 10 times faster\n",
    "# .N is a function that count the number of rows for each group\n",
    "dt[, .(.N), by = .(Col3, Col4)]"
   ]
  },
  {
   "cell_type": "markdown",
   "metadata": {},
   "source": [
    "### Different aggregate functionality"
   ]
  },
  {
   "cell_type": "code",
   "execution_count": 36,
   "metadata": {
    "vscode": {
     "languageId": "r"
    }
   },
   "outputs": [
    {
     "data": {
      "text/html": [
       "<table class=\"dataframe\">\n",
       "<caption>A data.frame: 2 × 3</caption>\n",
       "<thead>\n",
       "\t<tr><th scope=col>Col3</th><th scope=col>Col4</th><th scope=col>Col2</th></tr>\n",
       "\t<tr><th scope=col>&lt;lgl&gt;</th><th scope=col>&lt;chr&gt;</th><th scope=col>&lt;dbl&gt;</th></tr>\n",
       "</thead>\n",
       "<tbody>\n",
       "\t<tr><td>TRUE</td><td>A</td><td> 4.3</td></tr>\n",
       "\t<tr><td>TRUE</td><td>B</td><td>14.4</td></tr>\n",
       "</tbody>\n",
       "</table>\n"
      ],
      "text/latex": [
       "A data.frame: 2 × 3\n",
       "\\begin{tabular}{lll}\n",
       " Col3 & Col4 & Col2\\\\\n",
       " <lgl> & <chr> & <dbl>\\\\\n",
       "\\hline\n",
       "\t TRUE & A &  4.3\\\\\n",
       "\t TRUE & B & 14.4\\\\\n",
       "\\end{tabular}\n"
      ],
      "text/markdown": [
       "\n",
       "A data.frame: 2 × 3\n",
       "\n",
       "| Col3 &lt;lgl&gt; | Col4 &lt;chr&gt; | Col2 &lt;dbl&gt; |\n",
       "|---|---|---|\n",
       "| TRUE | A |  4.3 |\n",
       "| TRUE | B | 14.4 |\n",
       "\n"
      ],
      "text/plain": [
       "  Col3 Col4 Col2\n",
       "1 TRUE A     4.3\n",
       "2 TRUE B    14.4"
      ]
     },
     "metadata": {},
     "output_type": "display_data"
    },
    {
     "data": {
      "text/html": [
       "<table class=\"dataframe\">\n",
       "<caption>A data.table: 2 × 3</caption>\n",
       "<thead>\n",
       "\t<tr><th scope=col>Col3</th><th scope=col>Col4</th><th scope=col>V1</th></tr>\n",
       "\t<tr><th scope=col>&lt;lgl&gt;</th><th scope=col>&lt;chr&gt;</th><th scope=col>&lt;dbl&gt;</th></tr>\n",
       "</thead>\n",
       "<tbody>\n",
       "\t<tr><td>TRUE</td><td>A</td><td> 4.3</td></tr>\n",
       "\t<tr><td>TRUE</td><td>B</td><td>14.4</td></tr>\n",
       "</tbody>\n",
       "</table>\n"
      ],
      "text/latex": [
       "A data.table: 2 × 3\n",
       "\\begin{tabular}{lll}\n",
       " Col3 & Col4 & V1\\\\\n",
       " <lgl> & <chr> & <dbl>\\\\\n",
       "\\hline\n",
       "\t TRUE & A &  4.3\\\\\n",
       "\t TRUE & B & 14.4\\\\\n",
       "\\end{tabular}\n"
      ],
      "text/markdown": [
       "\n",
       "A data.table: 2 × 3\n",
       "\n",
       "| Col3 &lt;lgl&gt; | Col4 &lt;chr&gt; | V1 &lt;dbl&gt; |\n",
       "|---|---|---|\n",
       "| TRUE | A |  4.3 |\n",
       "| TRUE | B | 14.4 |\n",
       "\n"
      ],
      "text/plain": [
       "  Col3 Col4 V1  \n",
       "1 TRUE A     4.3\n",
       "2 TRUE B    14.4"
      ]
     },
     "metadata": {},
     "output_type": "display_data"
    }
   ],
   "source": [
    "# some aggregates: mean age of men per Area and Year\n",
    "\n",
    "# with df\n",
    "aggregate(Col2~Col3+Col4, data=df, FUN=mean, subset=df$Col3)\n",
    "\n",
    "# with dt\n",
    "# 10 times faster\n",
    "dt[Col3 == TRUE, .(mean(Col2)), by = .(Col3, Col4)]"
   ]
  },
  {
   "cell_type": "markdown",
   "metadata": {},
   "source": [
    "<!--NAVIGATION-->\n",
    "<span style='background: rgb(128, 128, 128, .15); width: 100%; display: block; padding: 10px 0 10px 10px'>< [Quiz](03.03-Quiz.ipynb) | [Contents](00.00-Index.ipynb) | [JDemetra](04.02-JDemetra.ipynb) > [Top](#top) ^ </span>"
   ]
  },
  {
   "cell_type": "markdown",
   "metadata": {},
   "source": [
    "<span style='background: rgb(128, 128, 128, .15); width: 100%; display: block; padding: 10px 0 10px 10px'>This is the Jupyter notebook version of the __Python for Official Statistics__ produced by Eurostat; the content is available [on GitHub](https://github.com/eurostat/e-learning/tree/main/python-official-statistics).\n",
    "<br>The text and code are released under the [EUPL-1.2 license](https://github.com/eurostat/e-learning/blob/main/LICENSE).</span>"
   ]
  }
 ],
 "metadata": {
  "anaconda-cloud": {},
  "kernelspec": {
   "display_name": "R",
   "language": "R",
   "name": "ir"
  },
  "language_info": {
   "codemirror_mode": "r",
   "file_extension": ".r",
   "mimetype": "text/x-r-source",
   "name": "R",
   "pygments_lexer": "r",
   "version": "4.2.0"
  }
 },
 "nbformat": 4,
 "nbformat_minor": 4
}
