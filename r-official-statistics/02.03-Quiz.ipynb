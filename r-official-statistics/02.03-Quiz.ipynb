{
 "cells": [
  {
   "cell_type": "markdown",
   "metadata": {},
   "source": [
    "<!--NAVIGATION-->\n",
    "<span style='background: rgb(128, 128, 128, .15); width: 100%; display: block; padding: 10px 0 10px 10px'>< [Data Types](02.04-Data-Types.ipynb) | [Contents](00.00-Index.ipynb) | [Read Data](03.01-Read-Data.ipynb) ></span>\n",
    "\n",
    "<a href=\"https://colab.research.google.com/github/eurostat/e-learning/blob/main/r-official-statistics/02.03-Quiz.ipynb\"><img align=\"left\" src=\"https://colab.research.google.com/assets/colab-badge.svg\" alt=\"Open in Colab\" title=\"Open and Execute in Google Colaboratory\"></a>\n"
   ]
  },
  {
   "cell_type": "markdown",
   "metadata": {},
   "source": [
    "<a id='top'></a>\n",
    "\n",
    "# Quiz 2\n",
    "## A little bit of R’s kitchen\n",
    "  <br><br>\n",
    "  \n",
    "### [Questions for Revision](#rev)\n",
    "### [Exercises](#exe)\n",
    "### [Quiz](#quizz)"
   ]
  },
  {
   "cell_type": "markdown",
   "metadata": {},
   "source": [
    "<a id='rev'></a>\n",
    "\n",
    "## Questions for Revision\n",
    "\n",
    "Try answering the following questions to test your understanding of the topics covered in this notebook:\n",
    "\n",
    "1. What are the available assignment operators?\n",
    "1. What is a correct syntax to output \"Hello World\" in R?\n",
    "1. How do you insert COMMENTS in R code?\n",
    "1. In R, you must declare the data type of a variable\n",
    "1. How do you create a variable named x with the numeric value 5?\n",
    "1. Which function is often used to concatenate elements?\n",
    "1. Which operator is used to add together two values?\n",
    "1. The value of a string variable can be surrounded by single quotes.\n",
    "1. The following values: 10.5, 55 and 787, belongs to which data type?\n",
    "1. Which operator can be used to compare two values?\n",
    "1. What will the following function do with the str string: nchar(str)\n",
    "1. What is the syntax of the `if` statement? Give an example.\n",
    "1. What is a block of code in R?\n",
    "1. How do you create a function in R?\n",
    "1. How do you call a function in R?\n",
    "1. How can you assign the same value to multiple variables in one line?\n",
    "1. Which function can be used to return the square root of a number?\n",
    "1. Consider the following code: for (x 1:10). Which keyword is missing inside the for loop to output the numbers 1 to 10?\n",
    "1. What is the correct way to create a vector of strings?\n",
    "1. What is the correct way to create a list of strings?\n",
    "1. Which function can be used to create a data frame?\n",
    "1. Which function is used to draw points (markers) in a diagram?\n",
    "1. Which function is used to add additional columns in a matrix?\n",
    "1. How do you start writing an for loop in R?\n",
    "1. How do you start writing a while loop in R?\n",
    "1. Which function is used to find the amount of rows and columns in an array?\n",
    "1. Which statement is used to stop a loop?\n",
    "1. Which of the following is a base package for R language?\n",
    "1. R functionality is divided into a number of ________?\n",
    "1. What would be the output of the following code?\n",
    "> x <- 1:4\n",
    "> x > 2"
   ]
  },
  {
   "cell_type": "markdown",
   "metadata": {},
   "source": [
    "<a id='exe'></a>\n",
    "\n",
    "## Exercises"
   ]
  },
  {
   "cell_type": "markdown",
   "metadata": {},
   "source": [
    "<a id='quizz'></a>\n",
    "\n",
    "## Quiz\n",
    "\n",
    "1. How many available assignment operators are in R?\n",
    "    1. 5 (`->`, `->>`, `<-`, `<<-`, `=`)\n",
    "    2. 3 (`->`, `<-`, `=`)  \n",
    "    3. 2 (`->`, `<-`)\n",
    "    4. 2 (`<-`, `=`)\n",
    "> <br/>  \n",
    "> (Answer: 1)  <br/><br/>   \n",
    "> \n",
    "<br/><br/>  \n",
    "\n",
    "2. What is a correct syntax to output \"Hello World\" in R?\n",
    "    1. \"Hello World\"\n",
    "    2. 'Hello World'\n",
    "    3. All of the answers.  \n",
    "    4. print(\"Hello World\")\n",
    "> <br/>  \n",
    "> (Answer: 3)  <br/><br/>   \n",
    "> \n",
    "<br/><br/>  \n",
    "\n",
    "3. What is the correct way to create a vector of strings?\n",
    "    1. fruits <- list(\"banana\", \"apple\", \"orange\")\n",
    "    2. fruits <- listOf(\"banana\", \"apple\", \"orange\")\n",
    "    3. fruits <- v(\"banana\", \"apple\", \"orange\")\n",
    "    4. fruits <- c(\"banana\", \"apple\", \"orange\")\n",
    "> <br/>  \n",
    "> (Answer: 4)  <br/><br/>   \n",
    "> \n",
    "<br/><br/>  \n",
    "\n",
    "```R\n",
    "x <- 1:4\n",
    "x > 2\n",
    "```\n",
    "4. What would be the output of the above code?\n",
    "    1. Syntax error in first line.\n",
    "    2. Syntax error in second line.\n",
    "    3. Integer vector: 3 4.  \n",
    "    4. Boolean vector: FALSE FALSE TRUE TRUE.\n",
    "> <br/>  \n",
    "> (Answer: 4)  <br/><br/>   \n",
    "> \n",
    "<br/><br/>  \n",
    "\n",
    "5. How do you create a function in R?\n",
    "    1. my_function <- function()  \n",
    "    2. my_function <- function[]\n",
    "    3. function my_function()\n",
    "> <br/>  \n",
    "> (Answer: 1)  <br/><br/>   \n",
    "> "
   ]
  },
  {
   "cell_type": "markdown",
   "metadata": {},
   "source": [
    "<!--NAVIGATION-->\n",
    "<span style='background: rgb(128, 128, 128, .15); width: 100%; display: block; padding: 10px 0 10px 10px'>< [Data Types](02.04-Data-Types.ipynb) | [Contents](00.00-Index.ipynb) | [Read Data](03.01-Read-Data.ipynb) > [Top](#top) ^ </span>"
   ]
  },
  {
   "cell_type": "markdown",
   "metadata": {},
   "source": [
    "<span style='background: rgb(128, 128, 128, .15); width: 100%; display: block; padding: 10px 0 10px 10px'>This is the Jupyter notebook version of the __Python for Official Statistics__ produced by Eurostat; the content is available [on GitHub](https://github.com/eurostat/e-learning/tree/main/python-official-statistics).\n",
    "<br>The text and code are released under the [EUPL-1.2 license](https://github.com/eurostat/e-learning/blob/main/LICENSE).</span>"
   ]
  }
 ],
 "metadata": {
  "anaconda-cloud": {},
  "kernelspec": {
   "display_name": "R",
   "language": "R",
   "name": "ir"
  },
  "language_info": {
   "codemirror_mode": "r",
   "file_extension": ".r",
   "mimetype": "text/x-r-source",
   "name": "R",
   "pygments_lexer": "r",
   "version": "4.2.0"
  }
 },
 "nbformat": 4,
 "nbformat_minor": 4
}
