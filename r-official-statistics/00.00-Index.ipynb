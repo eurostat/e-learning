{
 "cells": [
  {
   "cell_type": "markdown",
   "metadata": {},
   "source": [
    "# R for Official Statistics"
   ]
  },
  {
   "cell_type": "markdown",
   "metadata": {},
   "source": [
    "![logo](img/logos.svg)\n",
    "\n",
    "*v.0.2 06/09/2022*"
   ]
  },
  {
   "cell_type": "markdown",
   "metadata": {},
   "source": [
    "<!--NAVIGATION-->\n",
    "<span style='background: rgb(128, 128, 128, .15); width: 100%; display: block; padding: 10px 0 10px 10px'>| [Welcome](00.00-Welcome.ipynb) ></span>\n",
    "\n",
    "<a href=\"https://colab.research.google.com/github/eurostat/e-learning/blob/main/r-official-statistics/00.00-Index.ipynb\"><img align=\"left\" src=\"https://colab.research.google.com/assets/colab-badge.svg\" alt=\"Open in Colab\" title=\"Open and Execute in Google Colaboratory\"></a>\n"
   ]
  },
  {
   "cell_type": "markdown",
   "metadata": {},
   "source": [
    "## Table of Contents\n",
    "\n",
    "### [Welcome](00.00-Welcome.ipynb)\n",
    "### [Interview](00.01-Interview.mov)\n",
    "### 1. The R's World\n",
    "- [Why R?](01.01-Why-R.ipynb)\n",
    "- [Installing R & Tools](01.02-Installing-R.ipynb)\n",
    "- [How to use RStudio](01.03-RStudio.ipynb)\n",
    "- [Quiz 1](01.04-Quiz.ipynb)\n",
    "\n",
    "### 2. A little bit of R’s kitchen\n",
    "- [R syntax](02.01-R-Syntax.ipynb)\n",
    "- [Data Types](02.02-Data-Types.ipynb)\n",
    "- [Quiz 2](02.03-Quiz.ipynb)\n",
    "\n",
    "### 3. Data Input\n",
    "- [Read Data](03.01-Read-Data.ipynb)\n",
    "- [Data sources for Official Statistics](03.02-Official-Statistics.ipynb)\n",
    "- [Quiz 3](03.03-Quiz.ipynb)\n",
    "\n",
    "### 4. Performance computing\n",
    "- [Data Processing](04.01-Data-Table.ipynb)\n",
    "- [JDemetra](04.02-JDemetra.ipynb)\n",
    "- [Quiz 4](04.03-Quiz.ipynb)\n",
    "\n",
    "### 5. Visualization with R\n",
    "- [Basic Plotting](05.01-Basic-Plotting.ipynb)\n",
    "- [Evolutions: ggplot2, Plotly and Shiny](05.02-ggplot2.ipynb)\n",
    "- [Quiz 5](05.03-Quiz.ipynb)\n",
    "\n",
    "### 6. Bonus: Machine Learning with R\n",
    "- [Basic ML](06.01-Basic-ML.ipynb)\n",
    "- [Quiz 6](06.02-Quiz.ipynb)\n",
    "\n",
    "### 7. Bonus: [Real World Use Cases](07.00-Real-UC.ipynb)"
   ]
  },
  {
   "cell_type": "markdown",
   "metadata": {},
   "source": [
    "<span style='background: rgb(128, 128, 128, .15); width: 100%; display: block; padding: 10px 0 10px 10px'>This is the Jupyter notebook version of the __Python for Official Statistics__ produced by Eurostat; the content is available [on GitHub](https://github.com/eurostat/e-learning/tree/main/python-official-statistics).\n",
    "<br>The text and code are released under the [EUPL-1.2 license](https://github.com/eurostat/e-learning/blob/main/LICENSE).</span>"
   ]
  }
 ],
 "metadata": {
  "anaconda-cloud": {},
  "kernelspec": {
   "display_name": "R",
   "language": "R",
   "name": "ir"
  },
  "language_info": {
   "codemirror_mode": "r",
   "file_extension": ".r",
   "mimetype": "text/x-r-source",
   "name": "R",
   "pygments_lexer": "r",
   "version": "4.2.0"
  }
 },
 "nbformat": 4,
 "nbformat_minor": 1
}
