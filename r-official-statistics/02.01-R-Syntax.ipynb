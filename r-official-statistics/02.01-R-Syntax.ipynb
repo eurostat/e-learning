{
 "cells": [
  {
   "cell_type": "markdown",
   "metadata": {},
   "source": [
    "<!--NAVIGATION-->\n",
    "<span style='background: rgb(128, 128, 128, .15); width: 100%; display: block; padding: 10px 0 10px 10px'>< [Quiz 1](01.05-Quiz.ipynb) | [Contents](00.00-Index.ipynb) | [Data Types](02.02-Data-Types.ipynb) ></span>\n",
    "\n",
    "<a href=\"https://colab.research.google.com/github/eurostat/e-learning/blob/main/r-official-statistics/02.01-R-Syntax.ipynb\"><img align=\"left\" src=\"https://colab.research.google.com/assets/colab-badge.svg\" alt=\"Open in Colab\" title=\"Open and Execute in Google Colaboratory\"></a>\n"
   ]
  },
  {
   "cell_type": "markdown",
   "metadata": {},
   "source": [
    "<a id='top'></a>\n",
    "\n",
    "# R Language Syntax\n",
    "## Content  \n",
    "- [Assignment](#assignment)  \n",
    "- [Operators](#operators)  \n",
    "- [If Statements](#if)  \n",
    "- [While and Repeat Loops](#while)  \n",
    "- [For Loop](#for)  \n",
    "- [Functions](#functions)  "
   ]
  },
  {
   "cell_type": "markdown",
   "metadata": {},
   "source": [
    "<a id='assignment'></a>\n",
    "\n",
    "## Assignment\n",
    "Assignment is the operation to `assign` values to variables.  \n",
    "The most used operator is `<-` sign (there are 3 of them). If you want to use a variable before first initializing it you'll get an error. Each re-assignment can change the type of a variable.  \n",
    "\n",
    "There are two more, rarely used assignment operators `<<-` and `->>`, can you find what are they doing?  \n",
    "<br>\n",
    "Example:  "
   ]
  },
  {
   "cell_type": "code",
   "execution_count": 1,
   "metadata": {
    "vscode": {
     "languageId": "r"
    }
   },
   "outputs": [
    {
     "name": "stdout",
     "output_type": "stream",
     "text": [
      "[1] 3\n",
      "[1] \"Hello\"\n",
      "[1] TRUE\n"
     ]
    }
   ],
   "source": [
    "# x is a number (operator <-)\n",
    "x <- 3\n",
    "print(x)\n",
    "# now x is a string (operator ->)\n",
    "'Hello' -> x\n",
    "print(x)\n",
    "# now x is a boolean (operator =)\n",
    "x = TRUE\n",
    "print(x)"
   ]
  },
  {
   "cell_type": "markdown",
   "metadata": {},
   "source": [
    "<a id='operators'></a>\n",
    "\n",
    "## Operators\n",
    "R has several operators to perform tasks including arithmetic, logical and bitwise operations.\n",
    "### Arithmetic operators\n",
    "Here is a list of arithmetic operators available in R.  \n",
    "\n",
    "| Operator | Description |\n",
    "| :-: | :- |\n",
    "| + | Addition |\n",
    "| – | Subtraction |\n",
    "| * | Multiplication |\n",
    "| / | Division |\n",
    "| ^ or ** | Exponent |\n",
    "| %% | Modulus (Remainder from division) |\n",
    "| %/% | Integer Division  \n",
    "\n",
    "  <br>  \n",
    "And some examples:"
   ]
  },
  {
   "cell_type": "code",
   "execution_count": 20,
   "metadata": {
    "vscode": {
     "languageId": "r"
    }
   },
   "outputs": [
    {
     "data": {
      "text/html": [
       "21"
      ],
      "text/latex": [
       "21"
      ],
      "text/markdown": [
       "21"
      ],
      "text/plain": [
       "[1] 21"
      ]
     },
     "metadata": {},
     "output_type": "display_data"
    },
    {
     "data": {
      "text/html": [
       "-11"
      ],
      "text/latex": [
       "-11"
      ],
      "text/markdown": [
       "-11"
      ],
      "text/plain": [
       "[1] -11"
      ]
     },
     "metadata": {},
     "output_type": "display_data"
    }
   ],
   "source": [
    "x <- 5\n",
    "y <- 16\n",
    "x+y\n",
    "x-y"
   ]
  },
  {
   "cell_type": "code",
   "execution_count": 21,
   "metadata": {
    "vscode": {
     "languageId": "r"
    }
   },
   "outputs": [
    {
     "data": {
      "text/html": [
       "80"
      ],
      "text/latex": [
       "80"
      ],
      "text/markdown": [
       "80"
      ],
      "text/plain": [
       "[1] 80"
      ]
     },
     "metadata": {},
     "output_type": "display_data"
    },
    {
     "data": {
      "text/html": [
       "3.2"
      ],
      "text/latex": [
       "3.2"
      ],
      "text/markdown": [
       "3.2"
      ],
      "text/plain": [
       "[1] 3.2"
      ]
     },
     "metadata": {},
     "output_type": "display_data"
    }
   ],
   "source": [
    "x*y\n",
    "y/x"
   ]
  },
  {
   "cell_type": "code",
   "execution_count": 22,
   "metadata": {
    "vscode": {
     "languageId": "r"
    }
   },
   "outputs": [
    {
     "data": {
      "text/html": [
       "3"
      ],
      "text/latex": [
       "3"
      ],
      "text/markdown": [
       "3"
      ],
      "text/plain": [
       "[1] 3"
      ]
     },
     "metadata": {},
     "output_type": "display_data"
    },
    {
     "data": {
      "text/html": [
       "1"
      ],
      "text/latex": [
       "1"
      ],
      "text/markdown": [
       "1"
      ],
      "text/plain": [
       "[1] 1"
      ]
     },
     "metadata": {},
     "output_type": "display_data"
    },
    {
     "data": {
      "text/html": [
       "1048576"
      ],
      "text/latex": [
       "1048576"
      ],
      "text/markdown": [
       "1048576"
      ],
      "text/plain": [
       "[1] 1048576"
      ]
     },
     "metadata": {},
     "output_type": "display_data"
    }
   ],
   "source": [
    "y%/%x\n",
    "y%%x\n",
    "y^x"
   ]
  },
  {
   "cell_type": "markdown",
   "metadata": {},
   "source": [
    "### Relational operators\n",
    "Relational operators are used to compare between values.  \n",
    "\n",
    "| Operator | Description |\n",
    "| :-: | :- |\n",
    "| < | Less than |\n",
    "| > | Greater than |\n",
    "| <= | Less than or equal to |\n",
    "| >= | Greater than or equal to |\n",
    "| == | Equal to |\n",
    "| != | Not equal to |"
   ]
  },
  {
   "cell_type": "code",
   "execution_count": 18,
   "metadata": {
    "vscode": {
     "languageId": "r"
    }
   },
   "outputs": [
    {
     "data": {
      "text/html": [
       "TRUE"
      ],
      "text/latex": [
       "TRUE"
      ],
      "text/markdown": [
       "TRUE"
      ],
      "text/plain": [
       "[1] TRUE"
      ]
     },
     "metadata": {},
     "output_type": "display_data"
    },
    {
     "data": {
      "text/html": [
       "FALSE"
      ],
      "text/latex": [
       "FALSE"
      ],
      "text/markdown": [
       "FALSE"
      ],
      "text/plain": [
       "[1] FALSE"
      ]
     },
     "metadata": {},
     "output_type": "display_data"
    },
    {
     "data": {
      "text/html": [
       "TRUE"
      ],
      "text/latex": [
       "TRUE"
      ],
      "text/markdown": [
       "TRUE"
      ],
      "text/plain": [
       "[1] TRUE"
      ]
     },
     "metadata": {},
     "output_type": "display_data"
    },
    {
     "data": {
      "text/html": [
       "FALSE"
      ],
      "text/latex": [
       "FALSE"
      ],
      "text/markdown": [
       "FALSE"
      ],
      "text/plain": [
       "[1] FALSE"
      ]
     },
     "metadata": {},
     "output_type": "display_data"
    }
   ],
   "source": [
    "\"a\"<\"b\"\n",
    "3>4\n",
    "\"a\"<=\"A\"\n",
    "\"a\">=\"aa\""
   ]
  },
  {
   "cell_type": "code",
   "execution_count": 19,
   "metadata": {
    "vscode": {
     "languageId": "r"
    }
   },
   "outputs": [
    {
     "data": {
      "text/html": [
       "TRUE"
      ],
      "text/latex": [
       "TRUE"
      ],
      "text/markdown": [
       "TRUE"
      ],
      "text/plain": [
       "[1] TRUE"
      ]
     },
     "metadata": {},
     "output_type": "display_data"
    },
    {
     "data": {
      "text/html": [
       "FALSE"
      ],
      "text/latex": [
       "FALSE"
      ],
      "text/markdown": [
       "FALSE"
      ],
      "text/plain": [
       "[1] FALSE"
      ]
     },
     "metadata": {},
     "output_type": "display_data"
    }
   ],
   "source": [
    "# T, F short forms for boolean TRUE and FALSE\n",
    "T==1\n",
    "F!=0"
   ]
  },
  {
   "cell_type": "markdown",
   "metadata": {},
   "source": [
    "### Logical operators\n",
    "Logical operators are used to carry out Boolean operations like AND, OR etc.  \n",
    "\n",
    "| Operator | Description |\n",
    "| :-: | :- |\n",
    "| ! | Logical NOT |\n",
    "| & | Element-wise logical AND |\n",
    "| && | Logical AND |\n",
    "| \\| | Element-wise logical OR |\n",
    "| \\|\\| | Logical OR |"
   ]
  },
  {
   "cell_type": "code",
   "execution_count": 23,
   "metadata": {
    "vscode": {
     "languageId": "r"
    }
   },
   "outputs": [
    {
     "data": {
      "text/html": [
       "<style>\n",
       ".list-inline {list-style: none; margin:0; padding: 0}\n",
       ".list-inline>li {display: inline-block}\n",
       ".list-inline>li:not(:last-child)::after {content: \"\\00b7\"; padding: 0 .5ex}\n",
       "</style>\n",
       "<ol class=list-inline><li>TRUE</li><li>FALSE</li><li>FALSE</li><li>TRUE</li></ol>\n"
      ],
      "text/latex": [
       "\\begin{enumerate*}\n",
       "\\item TRUE\n",
       "\\item FALSE\n",
       "\\item FALSE\n",
       "\\item TRUE\n",
       "\\end{enumerate*}\n"
      ],
      "text/markdown": [
       "1. TRUE\n",
       "2. FALSE\n",
       "3. FALSE\n",
       "4. TRUE\n",
       "\n",
       "\n"
      ],
      "text/plain": [
       "[1]  TRUE FALSE FALSE  TRUE"
      ]
     },
     "metadata": {},
     "output_type": "display_data"
    },
    {
     "data": {
      "text/html": [
       "FALSE"
      ],
      "text/latex": [
       "FALSE"
      ],
      "text/markdown": [
       "FALSE"
      ],
      "text/plain": [
       "[1] FALSE"
      ]
     },
     "metadata": {},
     "output_type": "display_data"
    },
    {
     "data": {
      "text/html": [
       "TRUE"
      ],
      "text/latex": [
       "TRUE"
      ],
      "text/markdown": [
       "TRUE"
      ],
      "text/plain": [
       "[1] TRUE"
      ]
     },
     "metadata": {},
     "output_type": "display_data"
    }
   ],
   "source": [
    "!c(0, 1, 2, 0)\n",
    "!3\n",
    "!F"
   ]
  },
  {
   "cell_type": "code",
   "execution_count": 24,
   "metadata": {
    "vscode": {
     "languageId": "r"
    }
   },
   "outputs": [
    {
     "data": {
      "text/html": [
       "<style>\n",
       ".list-inline {list-style: none; margin:0; padding: 0}\n",
       ".list-inline>li {display: inline-block}\n",
       ".list-inline>li:not(:last-child)::after {content: \"\\00b7\"; padding: 0 .5ex}\n",
       "</style>\n",
       "<ol class=list-inline><li>FALSE</li><li>TRUE</li><li>TRUE</li><li>FALSE</li></ol>\n"
      ],
      "text/latex": [
       "\\begin{enumerate*}\n",
       "\\item FALSE\n",
       "\\item TRUE\n",
       "\\item TRUE\n",
       "\\item FALSE\n",
       "\\end{enumerate*}\n"
      ],
      "text/markdown": [
       "1. FALSE\n",
       "2. TRUE\n",
       "3. TRUE\n",
       "4. FALSE\n",
       "\n",
       "\n"
      ],
      "text/plain": [
       "[1] FALSE  TRUE  TRUE FALSE"
      ]
     },
     "metadata": {},
     "output_type": "display_data"
    },
    {
     "name": "stderr",
     "output_type": "stream",
     "text": [
      "Warning message in c(0, 1, 2, 0) && c(0, 1, 2, 3):\n",
      "\"'length(x) = 4 > 1' in coercion to 'logical(1)'\"\n"
     ]
    },
    {
     "data": {
      "text/html": [
       "FALSE"
      ],
      "text/latex": [
       "FALSE"
      ],
      "text/markdown": [
       "FALSE"
      ],
      "text/plain": [
       "[1] FALSE"
      ]
     },
     "metadata": {},
     "output_type": "display_data"
    }
   ],
   "source": [
    "c(0, 1, 2, 0) & c(0, 1, 2, 3)\n",
    "c(0, 1, 2, 0) && c(0, 1, 2, 3)"
   ]
  },
  {
   "cell_type": "markdown",
   "metadata": {},
   "source": [
    "### Bitwise Logical Operations\n",
    "Bitwise logical operations are used to perform logical operations bit by bit in a number.  \n",
    "\n",
    "| Function | Description |\n",
    "| :-: | :- |\n",
    "| bitwOr | bitwise OR\tbitwOr(value1,value2) |\n",
    "| bitwXor | bitwise XOR\tbitwXor(value1,value2) |\n",
    "| bitWnot | bitwise NOT\tbitwNot(value) |\n",
    "| bitwAnd | bitwise AND\tbitwAnd(val1,val2) |\n",
    "| bitwShiftL | Left shift\tbitwShiftL(shiftvalue,value) |\n",
    "| bitwShiftR | Right shift\tbitShiftR(shift,value)"
   ]
  },
  {
   "cell_type": "code",
   "execution_count": 4,
   "metadata": {
    "vscode": {
     "languageId": "r"
    }
   },
   "outputs": [
    {
     "data": {
      "text/plain": [
       "[1] \"e\""
      ]
     },
     "metadata": {},
     "output_type": "display_data"
    },
    {
     "data": {
      "text/html": [
       "2"
      ],
      "text/latex": [
       "2"
      ],
      "text/markdown": [
       "2"
      ],
      "text/plain": [
       "[1] 2"
      ]
     },
     "metadata": {},
     "output_type": "display_data"
    },
    {
     "data": {
      "text/html": [
       "4"
      ],
      "text/latex": [
       "4"
      ],
      "text/markdown": [
       "4"
      ],
      "text/plain": [
       "[1] 4"
      ]
     },
     "metadata": {},
     "output_type": "display_data"
    },
    {
     "data": {
      "text/html": [
       "3"
      ],
      "text/latex": [
       "3"
      ],
      "text/markdown": [
       "3"
      ],
      "text/plain": [
       "[1] 3"
      ]
     },
     "metadata": {},
     "output_type": "display_data"
    },
    {
     "data": {
      "text/html": [
       "12"
      ],
      "text/latex": [
       "12"
      ],
      "text/markdown": [
       "12"
      ],
      "text/plain": [
       "[1] 12"
      ]
     },
     "metadata": {},
     "output_type": "display_data"
    }
   ],
   "source": [
    "as.hexmode(bitwOr(0xa, 0x4))\n",
    "bitwAnd(2, 6)\n",
    "bitwXor(2, 6)\n",
    "bitwShiftR(6, 1)\n",
    "bitwShiftL(6, 1)"
   ]
  },
  {
   "cell_type": "markdown",
   "metadata": {},
   "source": [
    "<a id='if'></a>\n",
    "\n",
    "## If Statements\n",
    "Each part of the statement (if, else if, else), must be followed by a block of code. A block of code is surrounded by curly brackets ``{}``. If a block of code is just one instruction, the brackets are not needed. The test condition is surrounded by parentheses. \n",
    "\n",
    "Just some examples:"
   ]
  },
  {
   "cell_type": "code",
   "execution_count": 2,
   "metadata": {
    "vscode": {
     "languageId": "r"
    }
   },
   "outputs": [
    {
     "name": "stdout",
     "output_type": "stream",
     "text": [
      "[1] \"Hello, stranger.\"\n",
      "[1] \"You are not Alice, kiddo.\"\n",
      "[1] \"You are neither Alice nor a little kid.\"\n"
     ]
    }
   ],
   "source": [
    "# simple if statement\n",
    "name <- 'Bob'\n",
    "if (name == 'Alice')\n",
    "    print('Hi, Alice.')\n",
    "\n",
    "# if-else statement\n",
    "name <- 'Bob'\n",
    "if (name == 'Alice') {\n",
    "    print('Hi, Alice.')\n",
    "} else\n",
    "    print('Hello, stranger.')\n",
    "\n",
    "# if-else if statement\n",
    "name <- 'Bob'\n",
    "age <- 5\n",
    "if (name == 'Alice') {\n",
    "    print('Hi, Alice.')\n",
    "} else if (age > 0 & age < 12)\n",
    "    print('You are not Alice, kiddo.')\n",
    "\n",
    "# full statement: if-else if-else\n",
    "name <- 'Bob'\n",
    "age <- 30\n",
    "if (name == 'Alice') {\n",
    "    print('Hi, Alice.')\n",
    "} else if (age > 0 & age < 12) {\n",
    "    print('You are not Alice, kiddo.')\n",
    "} else\n",
    "    print('You are neither Alice nor a little kid.')"
   ]
  },
  {
   "cell_type": "markdown",
   "metadata": {},
   "source": [
    "### ifelse() Function\n",
    "This is the vectorized version for the if-else statement.\n",
    "First parameter is the boolean vector, second one is the value for TRUE, and the last one is the value for FALSE. The result of the function is a vector, same size as input vector, with values as for true or false.  \n",
    "Better check this example:"
   ]
  },
  {
   "cell_type": "code",
   "execution_count": 6,
   "metadata": {
    "vscode": {
     "languageId": "r"
    }
   },
   "outputs": [
    {
     "data": {
      "text/html": [
       "<style>\n",
       ".list-inline {list-style: none; margin:0; padding: 0}\n",
       ".list-inline>li {display: inline-block}\n",
       ".list-inline>li:not(:last-child)::after {content: \"\\00b7\"; padding: 0 .5ex}\n",
       "</style>\n",
       "<ol class=list-inline><li>TRUE</li><li>FALSE</li><li>TRUE</li><li>FALSE</li><li>TRUE</li></ol>\n"
      ],
      "text/latex": [
       "\\begin{enumerate*}\n",
       "\\item TRUE\n",
       "\\item FALSE\n",
       "\\item TRUE\n",
       "\\item FALSE\n",
       "\\item TRUE\n",
       "\\end{enumerate*}\n"
      ],
      "text/markdown": [
       "1. TRUE\n",
       "2. FALSE\n",
       "3. TRUE\n",
       "4. FALSE\n",
       "5. TRUE\n",
       "\n",
       "\n"
      ],
      "text/plain": [
       "[1]  TRUE FALSE  TRUE FALSE  TRUE"
      ]
     },
     "metadata": {},
     "output_type": "display_data"
    }
   ],
   "source": [
    "a <- c(5, -7, 2, -9, 4)\n",
    "positive <- ifelse(a < 0,FALSE,TRUE)\n",
    "positive"
   ]
  },
  {
   "cell_type": "markdown",
   "metadata": {},
   "source": [
    "<a id='while'></a>\n",
    "\n",
    "## While Loop\n",
    "It is the `indefinite iteration loop` for R. With indefinite iteration, the number of times the loop is executed isn’t specified explicitly in advance. Rather, the designated block is executed repeatedly as long as some condition is met.\n",
    "\n",
    "Example:"
   ]
  },
  {
   "cell_type": "code",
   "execution_count": 7,
   "metadata": {
    "vscode": {
     "languageId": "r"
    }
   },
   "outputs": [
    {
     "name": "stdout",
     "output_type": "stream",
     "text": [
      "[1] \"Hello, world.\"\n",
      "[1] \"Hello, world.\"\n",
      "[1] \"Hello, world.\"\n",
      "[1] \"Hello, world.\"\n",
      "[1] \"Hello, world.\"\n"
     ]
    }
   ],
   "source": [
    "spam <- 0\n",
    "while (spam < 5) {\n",
    "    print('Hello, world.')\n",
    "    spam = spam + 1\n",
    "}"
   ]
  },
  {
   "cell_type": "markdown",
   "metadata": {},
   "source": [
    "### break Statements\n",
    "If the execution reaches a break statement, it immediately exits the while loop’s clause:"
   ]
  },
  {
   "cell_type": "code",
   "execution_count": 8,
   "metadata": {
    "vscode": {
     "languageId": "r"
    }
   },
   "outputs": [
    {
     "name": "stdout",
     "output_type": "stream",
     "text": [
      "[1] 3\n",
      "[1] 2\n",
      "[1] 1\n",
      "[1] \"Thank you!\"\n"
     ]
    }
   ],
   "source": [
    "x <- 3\n",
    "while (TRUE) {\n",
    "    if (x == 0)\n",
    "        break\n",
    "    print(x)\n",
    "    x <- x -1\n",
    "}\n",
    "print('Thank you!')"
   ]
  },
  {
   "cell_type": "markdown",
   "metadata": {},
   "source": [
    "### next Statement\n",
    "When the program execution reaches a ``next`` statement, the program execution immediately jumps back to the start of the loop:"
   ]
  },
  {
   "cell_type": "code",
   "execution_count": 9,
   "metadata": {
    "vscode": {
     "languageId": "r"
    }
   },
   "outputs": [
    {
     "name": "stdout",
     "output_type": "stream",
     "text": [
      "[1] 4\n",
      "[1] 3\n",
      "3  squared is:  9 \n",
      "[1] 2\n",
      "[1] 1\n",
      "1  squared is:  1 \n",
      "[1] 0\n"
     ]
    }
   ],
   "source": [
    "x <- 5\n",
    "# or instead an infinite while you can use repeat\n",
    "repeat {\n",
    "    x <- x - 1\n",
    "    print(x)\n",
    "    if (x == 0)\n",
    "        break\n",
    "    if (x %% 2 == 0)\n",
    "        next\n",
    "    cat(x, ' squared is: ', x**2, '\\n')\n",
    "}"
   ]
  },
  {
   "cell_type": "markdown",
   "metadata": {},
   "source": [
    "<a id='for'></a>\n",
    "\n",
    "## For Loop\n",
    "Now the `definite iteration loop` in R: `for loop`. With definite iteration, the number of times the designated block will be executed is specified explicitly at the time the loop starts.\n",
    "It can be applied for a vector.  \n",
    "Also you can alter the for loop behaviour with `break`, `next`."
   ]
  },
  {
   "cell_type": "code",
   "execution_count": 10,
   "metadata": {
    "vscode": {
     "languageId": "r"
    }
   },
   "outputs": [
    {
     "name": "stdout",
     "output_type": "stream",
     "text": [
      "[1] 0\n",
      "[1] 1\n",
      "[1] 2\n",
      "[1] 3\n",
      "[1] 4\n",
      "[1] 5\n"
     ]
    }
   ],
   "source": [
    "for (i in 0:5)\n",
    "    print(i)"
   ]
  },
  {
   "cell_type": "markdown",
   "metadata": {},
   "source": [
    "<a id='functions'></a>\n",
    "\n",
    "## Functions\n",
    "In R a function is defined using assignment operator and the word ``function`` surrounding the function parameters:"
   ]
  },
  {
   "cell_type": "code",
   "execution_count": 11,
   "metadata": {
    "vscode": {
     "languageId": "r"
    }
   },
   "outputs": [
    {
     "name": "stdout",
     "output_type": "stream",
     "text": [
      "Hello  Alice \n",
      "Hello  Bob \n"
     ]
    }
   ],
   "source": [
    "hello <- function(name) {\n",
    "    cat('Hello ', name, '\\n')\n",
    "}\n",
    "\n",
    "hello('Alice')\n",
    "hello('Bob')"
   ]
  },
  {
   "cell_type": "markdown",
   "metadata": {},
   "source": [
    "### Return Values and return Statements\n",
    "When creating a function, you can specify what the return value should be with a return statement. A return statement consists of the following:\n",
    "- The return keyword.\n",
    "- The value or expression that the function should return."
   ]
  },
  {
   "cell_type": "code",
   "execution_count": 3,
   "metadata": {
    "vscode": {
     "languageId": "r"
    }
   },
   "outputs": [
    {
     "name": "stdout",
     "output_type": "stream",
     "text": [
      "[1] \"Ask again later\"\n"
     ]
    },
    {
     "data": {
      "text/html": [
       "'Very doubtful'"
      ],
      "text/latex": [
       "'Very doubtful'"
      ],
      "text/markdown": [
       "'Very doubtful'"
      ],
      "text/plain": [
       "[1] \"Very doubtful\""
      ]
     },
     "metadata": {},
     "output_type": "display_data"
    }
   ],
   "source": [
    "getAnswer <- function(answerNumber) {\n",
    "    if(answerNumber == 1) {\n",
    "        return('It is certain')\n",
    "    } else if(answerNumber == 2) {\n",
    "        return('It is decidedly so')\n",
    "    } else if(answerNumber == 3) {\n",
    "        return('Yes')\n",
    "    } else if(answerNumber == 4) {\n",
    "        return('Reply hazy try again')\n",
    "    } else if(answerNumber == 5) {\n",
    "        return('Ask again later')\n",
    "    } else if(answerNumber == 6) {\n",
    "        return('Concentrate and ask again')\n",
    "    } else if(answerNumber == 7) {\n",
    "        return('My reply is no')\n",
    "    } else if(answerNumber == 8) {\n",
    "        return('Outlook not so good')\n",
    "    } else {\n",
    "        return('Very doubtful')\n",
    "    }\n",
    "}\n",
    "r <- sample(1:10, 1)\n",
    "fortune <- getAnswer(r)\n",
    "print(fortune)\n",
    "\n",
    "# or just this\n",
    "getAnswer(sample(1:10, 1))"
   ]
  },
  {
   "cell_type": "markdown",
   "metadata": {},
   "source": [
    "### R Infix Operator\n",
    "Most of the operators that we use in R are binary operators (having two operands). Hence, they are infix operators, used between the operands. Actually, these operators do a function call in the background. It is possible to create user-defined infix operators. This is done by naming a function that starts and ends with %.  \n",
    "Predefined infix operators:  \n",
    "  \n",
    "|  |  |\n",
    "| :-: | :- |\n",
    "| %% | Remainder operator | \n",
    "| %/% | Integer division |\n",
    "| %*% | Matrix multiplication |\n",
    "| %o% | Outer product |\n",
    "| %x% | Kronecker product |\n",
    "| %in% | Matching operator  \n",
    "  <br>  \n",
    "  \n",
    "Example: "
   ]
  },
  {
   "cell_type": "code",
   "execution_count": 13,
   "metadata": {
    "vscode": {
     "languageId": "r"
    }
   },
   "outputs": [
    {
     "data": {
      "text/html": [
       "FALSE"
      ],
      "text/latex": [
       "FALSE"
      ],
      "text/markdown": [
       "FALSE"
      ],
      "text/plain": [
       "[1] FALSE"
      ]
     },
     "metadata": {},
     "output_type": "display_data"
    },
    {
     "data": {
      "text/html": [
       "TRUE"
      ],
      "text/latex": [
       "TRUE"
      ],
      "text/markdown": [
       "TRUE"
      ],
      "text/plain": [
       "[1] TRUE"
      ]
     },
     "metadata": {},
     "output_type": "display_data"
    }
   ],
   "source": [
    "`%divisible%` <- function(x,y) {\n",
    "    return(x%%y ==0)\n",
    "}\n",
    "\n",
    "10 %divisible% 3\n",
    "4 %divisible% 2"
   ]
  },
  {
   "cell_type": "markdown",
   "metadata": {},
   "source": [
    "#### Pipe Infix Operator\n",
    "Pipe operators, available in magrittr, dplyr, and other R packages, process a data-object using a sequence of operations by passing the result of one step as input for the next step using infix-operators rather than the more typical R method of nested function calls.  \n",
    "  <br>\n",
    "__Note__: _The aim of pipe operators is to increase human readability of written code._  \n",
    "\n",
    "__Hotkey__: _There is a special hotkey in RStudio for the pipe operator: Ctrl+Shift+M_  \n",
    "\n",
    "__Performance__: _there is a negative impact on performance due mainly to the overhead of using it._  \n",
    "  <br>\n",
    "\n",
    "Better some examples:"
   ]
  },
  {
   "cell_type": "code",
   "execution_count": 17,
   "metadata": {
    "vscode": {
     "languageId": "r"
    }
   },
   "outputs": [
    {
     "name": "stdout",
     "output_type": "stream",
     "text": [
      "7 5 \n",
      "7 5 \n",
      "5 7 \n",
      "5 7 \n"
     ]
    }
   ],
   "source": [
    "library(magrittr)\n",
    "# ?'%>%'\n",
    "\n",
    "# using pipe (adding in cat as first parameter: implicit)\n",
    "(3 + 4) %>% cat(5, '\\n')\n",
    "# without pipe\n",
    "cat(3 + 4, 5, '\\n')\n",
    "\n",
    "# using pipe (adding in cat as different parameter: replacing .)\n",
    "(3 + 4) %>% cat(5, ., '\\n')\n",
    "# without pipe\n",
    "cat(5, 3 + 4, '\\n')"
   ]
  },
  {
   "cell_type": "markdown",
   "metadata": {},
   "source": [
    "### R switch() Function\n",
    "The switch() function tests an expression against elements of a list. If the value evaluated from the expression matches item from the list, the corresponding value is returned."
   ]
  },
  {
   "cell_type": "code",
   "execution_count": 14,
   "metadata": {
    "vscode": {
     "languageId": "r"
    }
   },
   "outputs": [
    {
     "data": {
      "text/html": [
       "'green'"
      ],
      "text/latex": [
       "'green'"
      ],
      "text/markdown": [
       "'green'"
      ],
      "text/plain": [
       "[1] \"green\""
      ]
     },
     "metadata": {},
     "output_type": "display_data"
    },
    {
     "data": {
      "text/html": [
       "'red'"
      ],
      "text/latex": [
       "'red'"
      ],
      "text/markdown": [
       "'red'"
      ],
      "text/plain": [
       "[1] \"red\""
      ]
     },
     "metadata": {},
     "output_type": "display_data"
    }
   ],
   "source": [
    "switch(2,\"red\",\"green\",\"blue\")\n",
    "switch(\"color\", \"color\" = \"red\", \"shape\" = \"square\", \"length\" = 5)"
   ]
  },
  {
   "cell_type": "markdown",
   "metadata": {},
   "source": [
    "<!--NAVIGATION-->\n",
    "<span style='background: rgb(128, 128, 128, .15); width: 100%; display: block; padding: 10px 0 10px 10px'>< [Quiz 1](01.05-Quiz.ipynb) | [Contents](00.00-Index.ipynb) | [Data Types](02.02-Data-Types.ipynb) > [Top](#top) ^ </span>\n",
    "\n",
    "<a href=\"https://colab.research.google.com/github/eurostat/e-learning/blob/main/r-official-statistics/02.01-R-Syntax.ipynb\"><img align=\"left\" src=\"https://colab.research.google.com/assets/colab-badge.svg\" alt=\"Open in Colab\" title=\"Open and Execute in Google Colaboratory\"></a>\n"
   ]
  },
  {
   "cell_type": "markdown",
   "metadata": {},
   "source": [
    "<span style='background: rgb(128, 128, 128, .15); width: 100%; display: block; padding: 10px 0 10px 10px'>This is the Jupyter notebook version of the __Python for Official Statistics__ produced by Eurostat; the content is available [on GitHub](https://github.com/eurostat/e-learning/tree/main/python-official-statistics).\n",
    "<br>The text and code are released under the [EUPL-1.2 license](https://github.com/eurostat/e-learning/blob/main/LICENSE).</span>"
   ]
  }
 ],
 "metadata": {
  "anaconda-cloud": {},
  "kernelspec": {
   "display_name": "R",
   "language": "R",
   "name": "ir"
  },
  "language_info": {
   "codemirror_mode": "r",
   "file_extension": ".r",
   "mimetype": "text/x-r-source",
   "name": "R",
   "pygments_lexer": "r",
   "version": "4.2.0"
  }
 },
 "nbformat": 4,
 "nbformat_minor": 4
}
