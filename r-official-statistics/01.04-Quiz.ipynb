{
 "cells": [
  {
   "cell_type": "markdown",
   "metadata": {},
   "source": [
    "<!--NAVIGATION-->\n",
    "<span style='background: rgb(128, 128, 128, .15); width: 100%; display: block; padding: 10px 0 10px 10px'>< [How to use RStudio](01.03-RStudio.ipynb) | [Contents](00.00-Index.ipynb) | [R Syntax](02.01-R-Syntax.ipynb) ></span>\n",
    "\n",
    "<a href=\"https://colab.research.google.com/github/eurostat/e-learning/blob/main/r-official-statistics/01.04-Quiz.ipynb\"><img align=\"left\" src=\"https://colab.research.google.com/assets/colab-badge.svg\" alt=\"Open in Colab\" title=\"Open and Execute in Google Colaboratory\"></a>\n"
   ]
  },
  {
   "cell_type": "markdown",
   "metadata": {},
   "source": [
    "<a id='top'></a>\n",
    "\n",
    "# Quiz 1\n",
    "## The R's World\n",
    "  <br><br>\n",
    "  \n",
    "### [Questions for Revision](#rev)\n",
    "### [Quiz](#quizz)"
   ]
  },
  {
   "cell_type": "markdown",
   "metadata": {},
   "source": [
    "<a id='rev'></a>\n",
    "\n",
    "## Questions for Revision\n",
    "\n",
    "Try answering the following questions to test your understanding of the topics covered in this chapter:\n",
    "\n",
    "1. What is R?\n",
    "1. Is R open source?\n",
    "1. Is R an alias for React?\n",
    "1. Can R be used for statistics?\n",
    "1. Can R be used for machine learning?\n",
    "1. Can R do visualizations?\n",
    "1. Is R an interpreted language?\n",
    "1. What is CRAN?\n",
    "1. What is the use for Rscript.exe?\n",
    "1. What is RStudio?\n",
    "1. Is RStudio free?\n",
    "1. What is ``Jupyter``?\n",
    "1. Can Jupyter be used with R?\n",
    "1. What is ``IRkernel``?\n",
    "1. Has the code editor from RStudio autocomplete?\n",
    "1. Is RStudio capable to manage packages?\n",
    "1. Can RStudio be used to manage loading/saving data?\n",
    "1. Can RStudio be used to view data?"
   ]
  },
  {
   "cell_type": "markdown",
   "metadata": {},
   "source": [
    "<a id='quizz'></a>\n",
    "\n",
    "## Quiz\n",
    "\n",
    "1. What is R?\n",
    "    1. R is a programming language for statistical computing and graphics.\n",
    "    2. It is widely used by researchers from diverse disciplines.  \n",
    "    3. A compiled programming language.\n",
    "    4. It is free and open source.\n",
    "> <br/>  \n",
    "> (Answer: 1, 2, 4)  <br/><br/>   \n",
    "> \n",
    "<br/><br/>  \n",
    "\n",
    "2. What is CRAN?\n",
    "    1. Is a network of ftp and web servers around the world.\n",
    "    2. It stores identical, up-to-date, versions of code and documentation for R.\n",
    "    3. Is a package for R.\n",
    "    4. Short for Crantastic.  \n",
    "> <br/>  \n",
    "> (Answer: 1, 2)  <br/><br/>   \n",
    "> \n",
    "<br/><br/>  \n",
    "\n",
    "3. Can we use Jupyter with R?\n",
    "> <br/>  \n",
    "> (Answer: yes)  <br/><br/>   \n",
    "> \n",
    "<br/><br/>  \n",
    "\n",
    "4. What are the 4 (default) panels in RStudio?\n",
    "    1. Source Editor, Console, Workspace Browser, and Plots\n",
    "    2. Source Editor, Debugger, Files, and Plots\n",
    "    3. Source Editor, Console, Help, and Plots\n",
    "> <br/>  \n",
    "> (Answer: 1)  <br/><br/>   \n",
    "> \n",
    "<br/><br/>  \n",
    "\n",
    "5. Can change the R verson in RStudio, if more than one is installed?\n",
    "> <br/>  \n",
    "> (Answer: yes)  <br/><br/>   \n",
    "> \n",
    "<br/><br/>  \n",
    "\n"
   ]
  },
  {
   "cell_type": "markdown",
   "metadata": {},
   "source": [
    "<!--NAVIGATION-->\n",
    "<span style='background: rgb(128, 128, 128, .15); width: 100%; display: block; padding: 10px 0 10px 10px'>< [How to use RStudio](01.03-RStudio.ipynb) | [Contents](00.00-Index.ipynb) | [R Syntax](02.01-R-Syntax.ipynb) > [Top](#top) ^ </span>"
   ]
  },
  {
   "cell_type": "markdown",
   "metadata": {},
   "source": [
    "<span style='background: rgb(128, 128, 128, .15); width: 100%; display: block; padding: 10px 0 10px 10px'>This is the Jupyter notebook version of the __Python for Official Statistics__ produced by Eurostat; the content is available [on GitHub](https://github.com/eurostat/e-learning/tree/main/python-official-statistics).\n",
    "<br>The text and code are released under the [EUPL-1.2 license](https://github.com/eurostat/e-learning/blob/main/LICENSE).</span>"
   ]
  }
 ],
 "metadata": {
  "anaconda-cloud": {},
  "kernelspec": {
   "display_name": "Python 3.8.8 ('base')",
   "language": "python",
   "name": "python3"
  },
  "language_info": {
   "codemirror_mode": "r",
   "file_extension": ".r",
   "mimetype": "text/x-r-source",
   "name": "python",
   "pygments_lexer": "r",
   "version": "3.8.8"
  },
  "vscode": {
   "interpreter": {
    "hash": "12d738f96725d1c1f433a1d40c5369c2dd6b861cec3a8aa29acd662c91ac2528"
   }
  }
 },
 "nbformat": 4,
 "nbformat_minor": 4
}
