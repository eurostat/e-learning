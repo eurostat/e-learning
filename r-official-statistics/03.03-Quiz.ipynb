{
 "cells": [
  {
   "cell_type": "markdown",
   "metadata": {},
   "source": [
    "<!--NAVIGATION-->\n",
    "<span style='background: rgb(128, 128, 128, .15); width: 100%; display: block; padding: 10px 0 10px 10px'>< [Data sources for Official Statistics](03.02-Official-Statistics.ipynb) | [Contents](00.00-Index.ipynb) | [data.table Package](04.01-Data-Table.ipynb) ></span>\n",
    "\n",
    "<a href=\"https://colab.research.google.com/github/eurostat/e-learning/blob/main/r-official-statistics/03.03-Quiz.ipynb\"><img align=\"left\" src=\"https://colab.research.google.com/assets/colab-badge.svg\" alt=\"Open in Colab\" title=\"Open and Execute in Google Colaboratory\"></a>\n"
   ]
  },
  {
   "cell_type": "markdown",
   "metadata": {},
   "source": [
    "<a id='top'></a>\n",
    "\n",
    "# Quiz 3\n",
    "## Data Input\n",
    "  <br><br>\n",
    "  \n",
    "### [Questions for Revision](#rev)\n",
    "### [Exercises](#exe)\n",
    "### [Quiz](#quizz)"
   ]
  },
  {
   "cell_type": "markdown",
   "metadata": {},
   "source": [
    "<a id='rev'></a>\n",
    "\n",
    "## Questions for Revision\n",
    "\n",
    "Try answering the following questions to test your understanding of the topics covered in this notebook:\n",
    "\n",
    "\n",
    "1. What is the working director?\n",
    "1. What is the meaning of the function getwd?\n",
    "1. What is the meaning of the function read.csv?\n",
    "1. In what package is the function read.csv located?\n",
    "1. What is the difference between read.csv and read_csv?\n",
    "1. Is possible to load data files from the internet?\n",
    "1. Is possible to work with Excel files in R?\n",
    "1. What is the role of RIO package?\n",
    "1. What is an RDA binary file?\n",
    "1. What is an RDS binary file?\n",
    "1. What is the role of rjson package?\n",
    "1. What is the role of RSQLite package?\n",
    "1. What describe the rsdmx package?\n",
    "1. What packages can be used to load Eurostat data?\n",
    "1. What is the role of giscoR package?"
   ]
  },
  {
   "cell_type": "markdown",
   "metadata": {},
   "source": [
    "<a id='exe'></a>\n",
    "\n",
    "## Exercises"
   ]
  },
  {
   "cell_type": "markdown",
   "metadata": {},
   "source": [
    "<a id='quizz'></a>\n",
    "\n",
    "## Quiz\n",
    "\n",
    "1. Is possible to load data files from the internet?\n",
    "> <br/>  \n",
    "> (Answer: Yes)  <br/><br/>   \n",
    "> \n",
    "<br/><br/>  \n",
    "\n",
    "2. What is the difference between read.csv and read_csv?\n",
    "    1. read.csv is from utils package.\n",
    "    2. read_csv is from readr package.\n",
    "    3. They are aliases.\n",
    "    4. read_csv provide better functionality.\n",
    "> <br/>  \n",
    "> (Answer: 1, 2, 4)  <br/><br/>   \n",
    "> \n",
    "<br/><br/>  \n",
    "\n",
    "3. What is RIO package?\n",
    "    1. A package for brazilian official statistics.\n",
    "    2. A unified way to load/save data files.\n",
    "    3. The function for loading a file is import.\n",
    "    4. The function for saving a file is save.\n",
    "> <br/>  \n",
    "> (Answer: 2, 3)  <br/><br/>   \n",
    "> \n",
    "<br/><br/>  \n",
    "\n",
    "4. What are RDA & RDS Binary Files?\n",
    "    1. R own binary format for data files.\n",
    "    2. RDA files can take up one or multiple different R objects.\n",
    "    3. RIO package cannot work with these files.\n",
    "    4. Standard function to load an RDA file is ``load``.\n",
    "    5. Standard function to load an RDS file is ``readRDS``.\n",
    "> <br/>  \n",
    "> (Answer: 1, 2, 4, 5)  <br/><br/>   \n",
    "> \n",
    "<br/><br/>  \n",
    "\n",
    "5. What is rsdmx?\n",
    "    1. A package to load files from different sources in SDMX format.\n",
    "    2. It is available in CRAN.\n",
    "    3. It has not included Eurostat as data provider.\n",
    "> <br/>  \n",
    "> (Answer: 1, 2)  <br/><br/>   \n",
    "> "
   ]
  },
  {
   "cell_type": "markdown",
   "metadata": {},
   "source": [
    "<!--NAVIGATION-->\n",
    "<span style='background: rgb(128, 128, 128, .15); width: 100%; display: block; padding: 10px 0 10px 10px'>< [Data sources for Official Statistics](03.02-Official-Statistics.ipynb) | [Contents](00.00-Index.ipynb) | [data.table Package](04.01-Data-Table.ipynb) > [Top](#top) ^ </span>"
   ]
  },
  {
   "cell_type": "markdown",
   "metadata": {},
   "source": [
    "<span style='background: rgb(128, 128, 128, .15); width: 100%; display: block; padding: 10px 0 10px 10px'>This is the Jupyter notebook version of the __Python for Official Statistics__ produced by Eurostat; the content is available [on GitHub](https://github.com/eurostat/e-learning/tree/main/python-official-statistics).\n",
    "<br>The text and code are released under the [EUPL-1.2 license](https://github.com/eurostat/e-learning/blob/main/LICENSE).</span>"
   ]
  }
 ],
 "metadata": {
  "anaconda-cloud": {},
  "kernelspec": {
   "display_name": "R",
   "language": "R",
   "name": "ir"
  },
  "language_info": {
   "codemirror_mode": "r",
   "file_extension": ".r",
   "mimetype": "text/x-r-source",
   "name": "R",
   "pygments_lexer": "r",
   "version": "4.2.0"
  }
 },
 "nbformat": 4,
 "nbformat_minor": 4
}
