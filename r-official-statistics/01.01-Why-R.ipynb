{
 "cells": [
  {
   "cell_type": "markdown",
   "metadata": {},
   "source": [
    "<!--NAVIGATION-->\n",
    "<span style='background: rgb(128, 128, 128, .15); width: 100%; display: block; padding: 10px 0 10px 10px'>< [Welcome](00.00-Welcome.ipynb) | [Contents](00.00-Index.ipynb) | [Installing R & Tools](01.02-Installing-R.ipynb) ></span>\n",
    "\n",
    "<a href=\"https://colab.research.google.com/github/eurostat/e-learning/blob/main/r-official-statistics/01.01-Why-R.ipynb\"><img align=\"left\" src=\"https://colab.research.google.com/assets/colab-badge.svg\" alt=\"Open in Colab\" title=\"Open and Execute in Google Colaboratory\"></a>\n"
   ]
  },
  {
   "cell_type": "markdown",
   "metadata": {},
   "source": [
    "<a id='top'></a>\n",
    "\n",
    "# Why R?\n",
    "## Content  \n",
    "- [What is R?](#what)  \n",
    "- [Some Numbers](#some)  \n",
    "- [Some more numbers](#more)  \n",
    "- [Features](#features)  \n",
    "- [Syntax & Design](#syntax)  \n",
    "- [Common Uses](#common)  \n",
    "\n",
    "Let's find together if R is a good choice as scientific/statistical tool, and if yes, why. But first ..."
   ]
  },
  {
   "cell_type": "markdown",
   "metadata": {},
   "source": [
    "<a id='what'></a>\n",
    "\n",
    "## What is R?\n",
    "R is a programming language, open source and free software environment for statistical computing and graphics. It has quickly developed a huge community support. Contains 10000+ contributors or third parties packages. This language is used among statisticians and data miners for:\n",
    "- statistical techniques (such as statistical tests, classification, clustering and data reduction)\n",
    "- developing statistical software\n",
    "- data analysis\n",
    "- data visualization\n",
    "- data science\n",
    "- machine learning"
   ]
  },
  {
   "cell_type": "markdown",
   "metadata": {},
   "source": [
    "<a id='some'></a>\n",
    "\n",
    "## Some Numbers\n",
    "As of May 2022, R ranks 13th in the [TIOBE index](https://www.tiobe.com/tiobe-index/), a measure of programming language popularity, in which the language peaked in 8th place in August 2020.  \n",
    "R is placed in the second place, after Python, as an useful tool for data science by the [Datacamp](https://www.datacamp.com/blog/top-programming-languages-for-data-scientists-in-2022) organization: \"Frequently portrayed in data science forums as the main competitor of Python, learning one of these two languages is a critical step to break into the field.\"\n"
   ]
  },
  {
   "cell_type": "markdown",
   "metadata": {},
   "source": [
    "<a id='features'></a>\n",
    "\n",
    "## Features\n",
    "- R is an open-source software environment.\n",
    "- R can produce static graphics with production quality visualizations and has extended libraries providing interactive graphic capabilities.\n",
    "- Highly Active Community: The R environment is continuously growing. This growth is due to its large user-base.  \n",
    "- R contains a sea of packages for all the forms of disciplines like astronomy, biology, etc. While R was originally used for academic purposes, it is now being used in industries as well.\n",
    "- R has a very comprehensive development environment meaning it helps in statistical computing as well as software development.\n",
    "- R can be used to perform simple and complex mathematical and statistical calculations on data objects of a wide variety.\n",
    "- Distributed Computing: R has packages like ddR and multiDplyr that enable it to use distributed computing to process large data sets.\n",
    "- R is an interpreted language.\n",
    "- Interfacing with Databases: R contains several packages that enable it to interact with databases like Roracle, Open Database Connectivity Protocol, RmySQL, etc.\n",
    "- Data Variety: R can handle a variety of structured and unstructured data. It also provides various data modeling and data operation facilities due to its interaction with databases.\n",
    "- R can be used for machine learning as well. The best use of R when it comes to machine learning is in case of exploration or when building one-off models.\n",
    "- R with its extensive library of tools can be used for database manipulation and wrangling.\n",
    "- R is machine-independent. It supports the cross-platform operation.\n",
    "- While most of its functions are written in R itself, C, C++ or FORTRAN can be used for computationally heavy tasks.\n",
    "- R uses vectors and vector arithmetic and does not need a lot of looping to process a large set of values. This makes R much more efficient."
   ]
  },
  {
   "cell_type": "markdown",
   "metadata": {},
   "source": [
    "<!--NAVIGATION-->\n",
    "<span style='background: rgb(128, 128, 128, .15); width: 100%; display: block; padding: 10px 0 10px 10px'>< [Welcome](00.00-Welcome.ipynb) | [Contents](00.00-Index.ipynb) | [Installing R & Tools](01.02-Installing-R.ipynb) > [Top](#top) ^ </span>"
   ]
  },
  {
   "cell_type": "markdown",
   "metadata": {},
   "source": [
    "<span style='background: rgb(128, 128, 128, .15); width: 100%; display: block; padding: 10px 0 10px 10px'>This is the Jupyter notebook version of the __Python for Official Statistics__ produced by Eurostat; the content is available [on GitHub](https://github.com/eurostat/e-learning/tree/main/python-official-statistics).\n",
    "<br>The text and code are released under the [EUPL-1.2 license](https://github.com/eurostat/e-learning/blob/main/LICENSE).</span>"
   ]
  }
 ],
 "metadata": {
  "anaconda-cloud": {},
  "kernelspec": {
   "display_name": "R",
   "language": "R",
   "name": "ir"
  },
  "language_info": {
   "codemirror_mode": "r",
   "file_extension": ".r",
   "mimetype": "text/x-r-source",
   "name": "R",
   "pygments_lexer": "r",
   "version": "4.2.0"
  }
 },
 "nbformat": 4,
 "nbformat_minor": 4
}
