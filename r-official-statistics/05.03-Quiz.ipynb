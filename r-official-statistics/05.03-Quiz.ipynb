{
 "cells": [
  {
   "cell_type": "markdown",
   "metadata": {},
   "source": [
    "<!--NAVIGATION-->\n",
    "<span style='background: rgb(128, 128, 128, .15); width: 100%; display: block; padding: 10px 0 10px 10px'>< [Evolutions: ggplot2, Plotly and Shiny](05.02-ggplot2.ipynb) | [Contents](00.00-Index.ipynb) | [Basic ML](06.01-Basic-ML.ipynb) ></span>\n",
    "\n",
    "<a href=\"https://colab.research.google.com/github/eurostat/e-learning/blob/main/r-official-statistics/05.03-Quiz.ipynb\"><img align=\"left\" src=\"https://colab.research.google.com/assets/colab-badge.svg\" alt=\"Open in Colab\" title=\"Open and Execute in Google Colaboratory\"></a>\n"
   ]
  },
  {
   "cell_type": "markdown",
   "metadata": {},
   "source": [
    "<a id='top'></a>\n",
    "\n",
    "# Quiz 5\n",
    "## Visualization with R\n",
    "  <br><br>\n",
    "  \n",
    "### [Questions for Revision](#rev)\n",
    "### [Exercises](#exe)\n",
    "### [Quiz](#quiz)"
   ]
  },
  {
   "cell_type": "markdown",
   "metadata": {},
   "source": [
    "<a id='rev'></a>\n",
    "\n",
    "## Questions for Revision\n",
    "\n",
    "Try answering the following questions to test your understanding of the topics covered in this notebook:\n",
    "\n",
    "1. What is data visualization?\n",
    "1. What is ggplot2?\n",
    "1. What is Plotly?\n",
    "1. How do you plot a simple line?\n",
    "1. How do you specify labels for the axes of a chart?\n",
    "1. How do you set a title for a chart?\n",
    "1. How do you add more lines in a chart?\n",
    "1. What is the role of parameter ylim in plot function?\n",
    "1. How do you save a chart as a image?\n",
    "1. What is a scatter plot?\n",
    "1. How is a scatter plot different from a line chart?\n",
    "1. What is a histogram?\n",
    "1. How do you plot a histogram?\n",
    "1. How do you plot a density?\n",
    "1. How do you put multiple graphs in a single plot?\n",
    "1. What is the role of function barplot?\n",
    "1. What is the role of function pie?\n",
    "1. What are the two plotting functions in ggplot2?\n",
    "1. What is geom_histogram function?\n",
    "1. What is GGally?\n",
    "1. How are Plotly graphs interactive?"
   ]
  },
  {
   "cell_type": "markdown",
   "metadata": {},
   "source": [
    "<a id='exe'></a>\n",
    "\n",
    "## Exercises"
   ]
  },
  {
   "cell_type": "markdown",
   "metadata": {},
   "source": [
    "<a id='quiz'></a>\n",
    "\n",
    "## Quiz"
   ]
  },
  {
   "cell_type": "markdown",
   "metadata": {},
   "source": [
    "<!--NAVIGATION-->\n",
    "<span style='background: rgb(128, 128, 128, .15); width: 100%; display: block; padding: 10px 0 10px 10px'>< [Evolutions: ggplot2, Plotly and Shiny](05.02-ggplot2.ipynb) | [Contents](00.00-Index.ipynb) | [Basic ML](06.01-Basic-ML.ipynb) > [Top](#top) ^ </span>"
   ]
  },
  {
   "cell_type": "markdown",
   "metadata": {},
   "source": [
    "<span style='background: rgb(128, 128, 128, .15); width: 100%; display: block; padding: 10px 0 10px 10px'>This is the Jupyter notebook version of the __Python for Official Statistics__ produced by Eurostat; the content is available [on GitHub](https://github.com/eurostat/e-learning/tree/main/python-official-statistics).\n",
    "<br>The text and code are released under the [EUPL-1.2 license](https://github.com/eurostat/e-learning/blob/main/LICENSE).</span>"
   ]
  }
 ],
 "metadata": {
  "anaconda-cloud": {},
  "kernelspec": {
   "display_name": "R",
   "language": "R",
   "name": "ir"
  },
  "language_info": {
   "codemirror_mode": "r",
   "file_extension": ".r",
   "mimetype": "text/x-r-source",
   "name": "R",
   "pygments_lexer": "r",
   "version": "4.2.0"
  }
 },
 "nbformat": 4,
 "nbformat_minor": 4
}
