{
 "cells": [
  {
   "cell_type": "markdown",
   "metadata": {},
   "source": [
    "<!--NAVIGATION-->\n",
    "<span style='background: rgb(128, 128, 128, .15); width: 100%; display: block; padding: 10px 0 10px 10px'>< [Quiz 2](02.03-Quiz.ipynb) | [Contents](00.00-Index.ipynb) | [Data sources for Official Statistics](03.02-Official-Statistics.ipynb) ></span>\n",
    "\n",
    "<a href=\"https://colab.research.google.com/github/eurostat/e-learning/blob/main/r-official-statistics/03.01-Read-Data.ipynb\"><img align=\"left\" src=\"https://colab.research.google.com/assets/colab-badge.svg\" alt=\"Open in Colab\" title=\"Open and Execute in Google Colaboratory\"></a>\n"
   ]
  },
  {
   "cell_type": "markdown",
   "metadata": {},
   "source": [
    "<a id='top'></a>\n",
    "\n",
    "# Read Data\n",
    "## Content  \n",
    "- [Working Directory and File Paths](#wd)\n",
    "- [CSV and TSV Files](#csv)\n",
    "- [Excel Files](#excel)\n",
    "- [RIO Package](#rio)\n",
    "- [RDA/RDS Binary Files](#rdas)\n",
    "- [Other Packages](#other)"
   ]
  },
  {
   "cell_type": "markdown",
   "metadata": {},
   "source": [
    "<a id='wd'></a>\n",
    "\n",
    "## Working Directory and File Paths\n",
    "When you run R, it starts in a default location in your computer's file system called the working directory. You can check your working directory with the getwd() function."
   ]
  },
  {
   "cell_type": "code",
   "execution_count": 1,
   "metadata": {
    "vscode": {
     "languageId": "r"
    }
   },
   "outputs": [
    {
     "data": {
      "text/html": [
       "'E:/Work/A5/Courses/Practical R for Data Scientists/lectures'"
      ],
      "text/latex": [
       "'E:/Work/A5/Courses/Practical R for Data Scientists/lectures'"
      ],
      "text/markdown": [
       "'E:/Work/A5/Courses/Practical R for Data Scientists/lectures'"
      ],
      "text/plain": [
       "[1] \"E:/Work/A5/Courses/Practical R for Data Scientists/lectures\""
      ]
     },
     "metadata": {},
     "output_type": "display_data"
    }
   ],
   "source": [
    "getwd()"
   ]
  },
  {
   "cell_type": "markdown",
   "metadata": {},
   "source": [
    "The working directory acts as your starting point for accessing other files on your computer. To load data into R, you either need to put the data file in your working directory, change your working directory to the folder containing the data or supply the data's file path to the data reading function.\n",
    "\n",
    "You can change your working directory by supplying a new file path in quotes to the setwd()."
   ]
  },
  {
   "cell_type": "code",
   "execution_count": 2,
   "metadata": {
    "vscode": {
     "languageId": "r"
    }
   },
   "outputs": [
    {
     "data": {
      "text/html": [
       "'E:/Work/A5/Courses/Practical R for Data Scientists/lectures/data'"
      ],
      "text/latex": [
       "'E:/Work/A5/Courses/Practical R for Data Scientists/lectures/data'"
      ],
      "text/markdown": [
       "'E:/Work/A5/Courses/Practical R for Data Scientists/lectures/data'"
      ],
      "text/plain": [
       "[1] \"E:/Work/A5/Courses/Practical R for Data Scientists/lectures/data\""
      ]
     },
     "metadata": {},
     "output_type": "display_data"
    }
   ],
   "source": [
    "setwd('./data')\n",
    "getwd()"
   ]
  },
  {
   "cell_type": "markdown",
   "metadata": {},
   "source": [
    "> Note: In a local R environment, you can use forward slashes for your file path even in Windows which normally uses backslashes.  \n",
    "  \n",
    "> Note: Also you can use '.' for the current folder, and '..' for the parent folder.  \n",
    "  \n",
    "Better then worring about slash or backslash you can use some functions to create a valid path:"
   ]
  },
  {
   "cell_type": "code",
   "execution_count": 3,
   "metadata": {
    "vscode": {
     "languageId": "r"
    }
   },
   "outputs": [
    {
     "name": "stdout",
     "output_type": "stream",
     "text": [
      "[1] \"../data\"\n"
     ]
    },
    {
     "data": {
      "text/html": [
       "'E:/Work/A5/Courses/Practical R for Data Scientists/lectures/data'"
      ],
      "text/latex": [
       "'E:/Work/A5/Courses/Practical R for Data Scientists/lectures/data'"
      ],
      "text/markdown": [
       "'E:/Work/A5/Courses/Practical R for Data Scientists/lectures/data'"
      ],
      "text/plain": [
       "[1] \"E:/Work/A5/Courses/Practical R for Data Scientists/lectures/data\""
      ]
     },
     "metadata": {},
     "output_type": "display_data"
    }
   ],
   "source": [
    "my_path <- file.path(\"..\", \"data\")\n",
    "print(my_path)\n",
    "setwd(my_path)\n",
    "getwd()"
   ]
  },
  {
   "cell_type": "markdown",
   "metadata": {},
   "source": [
    "Here a few examples with some other functions related to files anf folders:"
   ]
  },
  {
   "cell_type": "code",
   "execution_count": 4,
   "metadata": {
    "vscode": {
     "languageId": "r"
    }
   },
   "outputs": [
    {
     "data": {
      "text/html": [
       "<style>\n",
       ".list-inline {list-style: none; margin:0; padding: 0}\n",
       ".list-inline>li {display: inline-block}\n",
       ".list-inline>li:not(:last-child)::after {content: \"\\00b7\"; padding: 0 .5ex}\n",
       "</style>\n",
       "<ol class=list-inline><li>'aact_ali01.tsv.gz'</li><li>'df_dt.csv'</li><li>'rio_csv.rda'</li><li>'rio_csv.rds'</li><li>'rio_txt.rds'</li><li>'rio_xlsx.rds'</li><li>'small.csv'</li><li>'small.xls'</li><li>'tidier.csv'</li></ol>\n"
      ],
      "text/latex": [
       "\\begin{enumerate*}\n",
       "\\item 'aact\\_ali01.tsv.gz'\n",
       "\\item 'df\\_dt.csv'\n",
       "\\item 'rio\\_csv.rda'\n",
       "\\item 'rio\\_csv.rds'\n",
       "\\item 'rio\\_txt.rds'\n",
       "\\item 'rio\\_xlsx.rds'\n",
       "\\item 'small.csv'\n",
       "\\item 'small.xls'\n",
       "\\item 'tidier.csv'\n",
       "\\end{enumerate*}\n"
      ],
      "text/markdown": [
       "1. 'aact_ali01.tsv.gz'\n",
       "2. 'df_dt.csv'\n",
       "3. 'rio_csv.rda'\n",
       "4. 'rio_csv.rds'\n",
       "5. 'rio_txt.rds'\n",
       "6. 'rio_xlsx.rds'\n",
       "7. 'small.csv'\n",
       "8. 'small.xls'\n",
       "9. 'tidier.csv'\n",
       "\n",
       "\n"
      ],
      "text/plain": [
       "[1] \"aact_ali01.tsv.gz\" \"df_dt.csv\"         \"rio_csv.rda\"      \n",
       "[4] \"rio_csv.rds\"       \"rio_txt.rds\"       \"rio_xlsx.rds\"     \n",
       "[7] \"small.csv\"         \"small.xls\"         \"tidier.csv\"       "
      ]
     },
     "metadata": {},
     "output_type": "display_data"
    },
    {
     "data": {
      "text/html": [
       "<style>\n",
       ".list-inline {list-style: none; margin:0; padding: 0}\n",
       ".list-inline>li {display: inline-block}\n",
       ".list-inline>li:not(:last-child)::after {content: \"\\00b7\"; padding: 0 .5ex}\n",
       "</style>\n",
       "<ol class=list-inline><li>'00.00-Index.ipynb'</li><li>'00.00-Welcome.ipynb'</li><li>'01.01-Why-R.ipynb'</li><li>'01.02-Installing-R.ipynb'</li><li>'01.03-RStudio.ipynb'</li><li>'01.04-Quiz.ipynb'</li><li>'02.01-R-Syntax.ipynb'</li><li>'02.02-Data-Types.ipynb'</li><li>'02.03-Quiz.ipynb'</li><li>'03.01-Read-Data.ipynb'</li><li>'03.02-Official-Statistics.ipynb'</li><li>'03.03-Quiz.ipynb'</li><li>'04.01-Data-Table.ipynb'</li><li>'04.02-JDemetra.ipynb'</li><li>'04.03-Quiz.ipynb'</li><li>'05.01-Basic-Plotting.ipynb'</li><li>'05.02-ggplot2.ipynb'</li><li>'05.03-Quiz.ipynb'</li><li>'06.01-Basic-ML.ipynb'</li><li>'06.02-Quiz.ipynb'</li><li>'07.00-Real-UC.ipynb'</li></ol>\n"
      ],
      "text/latex": [
       "\\begin{enumerate*}\n",
       "\\item '00.00-Index.ipynb'\n",
       "\\item '00.00-Welcome.ipynb'\n",
       "\\item '01.01-Why-R.ipynb'\n",
       "\\item '01.02-Installing-R.ipynb'\n",
       "\\item '01.03-RStudio.ipynb'\n",
       "\\item '01.04-Quiz.ipynb'\n",
       "\\item '02.01-R-Syntax.ipynb'\n",
       "\\item '02.02-Data-Types.ipynb'\n",
       "\\item '02.03-Quiz.ipynb'\n",
       "\\item '03.01-Read-Data.ipynb'\n",
       "\\item '03.02-Official-Statistics.ipynb'\n",
       "\\item '03.03-Quiz.ipynb'\n",
       "\\item '04.01-Data-Table.ipynb'\n",
       "\\item '04.02-JDemetra.ipynb'\n",
       "\\item '04.03-Quiz.ipynb'\n",
       "\\item '05.01-Basic-Plotting.ipynb'\n",
       "\\item '05.02-ggplot2.ipynb'\n",
       "\\item '05.03-Quiz.ipynb'\n",
       "\\item '06.01-Basic-ML.ipynb'\n",
       "\\item '06.02-Quiz.ipynb'\n",
       "\\item '07.00-Real-UC.ipynb'\n",
       "\\end{enumerate*}\n"
      ],
      "text/markdown": [
       "1. '00.00-Index.ipynb'\n",
       "2. '00.00-Welcome.ipynb'\n",
       "3. '01.01-Why-R.ipynb'\n",
       "4. '01.02-Installing-R.ipynb'\n",
       "5. '01.03-RStudio.ipynb'\n",
       "6. '01.04-Quiz.ipynb'\n",
       "7. '02.01-R-Syntax.ipynb'\n",
       "8. '02.02-Data-Types.ipynb'\n",
       "9. '02.03-Quiz.ipynb'\n",
       "10. '03.01-Read-Data.ipynb'\n",
       "11. '03.02-Official-Statistics.ipynb'\n",
       "12. '03.03-Quiz.ipynb'\n",
       "13. '04.01-Data-Table.ipynb'\n",
       "14. '04.02-JDemetra.ipynb'\n",
       "15. '04.03-Quiz.ipynb'\n",
       "16. '05.01-Basic-Plotting.ipynb'\n",
       "17. '05.02-ggplot2.ipynb'\n",
       "18. '05.03-Quiz.ipynb'\n",
       "19. '06.01-Basic-ML.ipynb'\n",
       "20. '06.02-Quiz.ipynb'\n",
       "21. '07.00-Real-UC.ipynb'\n",
       "\n",
       "\n"
      ],
      "text/plain": [
       " [1] \"00.00-Index.ipynb\"               \"00.00-Welcome.ipynb\"            \n",
       " [3] \"01.01-Why-R.ipynb\"               \"01.02-Installing-R.ipynb\"       \n",
       " [5] \"01.03-RStudio.ipynb\"             \"01.04-Quiz.ipynb\"               \n",
       " [7] \"02.01-R-Syntax.ipynb\"            \"02.02-Data-Types.ipynb\"         \n",
       " [9] \"02.03-Quiz.ipynb\"                \"03.01-Read-Data.ipynb\"          \n",
       "[11] \"03.02-Official-Statistics.ipynb\" \"03.03-Quiz.ipynb\"               \n",
       "[13] \"04.01-Data-Table.ipynb\"          \"04.02-JDemetra.ipynb\"           \n",
       "[15] \"04.03-Quiz.ipynb\"                \"05.01-Basic-Plotting.ipynb\"     \n",
       "[17] \"05.02-ggplot2.ipynb\"             \"05.03-Quiz.ipynb\"               \n",
       "[19] \"06.01-Basic-ML.ipynb\"            \"06.02-Quiz.ipynb\"               \n",
       "[21] \"07.00-Real-UC.ipynb\"            "
      ]
     },
     "metadata": {},
     "output_type": "display_data"
    }
   ],
   "source": [
    "# List all files and folders from specified folder\n",
    "dir('.')\n",
    "# actualy the same thing\n",
    "list.files(\"..\", pattern='*.ipynb')\n"
   ]
  },
  {
   "cell_type": "markdown",
   "metadata": {},
   "source": [
    "<a id='csv'></a>\n",
    "\n",
    "## CSV and TSV Files\n",
    "You can use the read.csv() function to read CSV files into R.  \n",
    "utils::read.csv() is the standard function, but for a better experience you can use the corresponding function, from package readr, readr::read_csv()."
   ]
  },
  {
   "cell_type": "code",
   "execution_count": 2,
   "metadata": {
    "vscode": {
     "languageId": "r"
    }
   },
   "outputs": [],
   "source": [
    "# second parameter is signaling that the first column represent the row names\n",
    "small <- read.csv('small.csv', row.names = 1)\n",
    "small"
   ]
  },
  {
   "cell_type": "markdown",
   "metadata": {},
   "source": [
    "For a tsv file example we will use an internet path. Same function but added the separater parameter:"
   ]
  },
  {
   "cell_type": "code",
   "execution_count": 6,
   "metadata": {
    "vscode": {
     "languageId": "r"
    }
   },
   "outputs": [
    {
     "data": {
      "text/html": [
       "'list'"
      ],
      "text/latex": [
       "'list'"
      ],
      "text/markdown": [
       "'list'"
      ],
      "text/plain": [
       "[1] \"list\""
      ]
     },
     "metadata": {},
     "output_type": "display_data"
    },
    {
     "data": {
      "text/html": [
       "<table class=\"dataframe\">\n",
       "<caption>A data.frame: 6 × 50</caption>\n",
       "<thead>\n",
       "\t<tr><th></th><th scope=col>itm_newa.geo.time</th><th scope=col>X2021</th><th scope=col>X2020</th><th scope=col>X2019</th><th scope=col>X2018</th><th scope=col>X2017</th><th scope=col>X2016</th><th scope=col>X2015</th><th scope=col>X2014</th><th scope=col>X2013</th><th scope=col>⋯</th><th scope=col>X1982</th><th scope=col>X1981</th><th scope=col>X1980</th><th scope=col>X1979</th><th scope=col>X1978</th><th scope=col>X1977</th><th scope=col>X1976</th><th scope=col>X1975</th><th scope=col>X1974</th><th scope=col>X1973</th></tr>\n",
       "\t<tr><th></th><th scope=col>&lt;chr&gt;</th><th scope=col>&lt;chr&gt;</th><th scope=col>&lt;chr&gt;</th><th scope=col>&lt;dbl&gt;</th><th scope=col>&lt;dbl&gt;</th><th scope=col>&lt;dbl&gt;</th><th scope=col>&lt;dbl&gt;</th><th scope=col>&lt;dbl&gt;</th><th scope=col>&lt;dbl&gt;</th><th scope=col>&lt;dbl&gt;</th><th scope=col>⋯</th><th scope=col>&lt;chr&gt;</th><th scope=col>&lt;chr&gt;</th><th scope=col>&lt;chr&gt;</th><th scope=col>&lt;chr&gt;</th><th scope=col>&lt;chr&gt;</th><th scope=col>&lt;chr&gt;</th><th scope=col>&lt;chr&gt;</th><th scope=col>&lt;chr&gt;</th><th scope=col>&lt;chr&gt;</th><th scope=col>&lt;chr&gt;</th></tr>\n",
       "</thead>\n",
       "<tbody>\n",
       "\t<tr><th scope=row>1</th><td>40000,AT</td><td>112.32 e</td><td>113.40 </td><td>115.88</td><td>117.15</td><td>118.63</td><td>119.57</td><td>120.49</td><td>122.33</td><td>124.19</td><td>⋯</td><td>:      </td><td>:      </td><td>:      </td><td>:      </td><td>:      </td><td>:      </td><td>:      </td><td>:      </td><td>:      </td><td>:      </td></tr>\n",
       "\t<tr><th scope=row>2</th><td>40000,BE</td><td>56.78 e </td><td>56.08  </td><td> 55.59</td><td> 55.66</td><td> 55.28</td><td> 55.35</td><td> 57.12</td><td> 56.84</td><td> 57.90</td><td>⋯</td><td>112.90 </td><td>115.10 </td><td>119.40 </td><td>125.10 </td><td>126.00 </td><td>130.30 </td><td>136.20 </td><td>143.60 </td><td>149.90 </td><td>155.80 </td></tr>\n",
       "\t<tr><th scope=row>3</th><td>40000,BG</td><td>166.00 e</td><td>179.50 </td><td>190.40</td><td>220.20</td><td>236.40</td><td>253.90</td><td>274.30</td><td>296.40</td><td>321.20</td><td>⋯</td><td>:      </td><td>:      </td><td>:      </td><td>:      </td><td>:      </td><td>:      </td><td>:      </td><td>:      </td><td>:      </td><td>:      </td></tr>\n",
       "\t<tr><th scope=row>4</th><td>40000,CH</td><td>72.11 e </td><td>72.67  </td><td> 73.86</td><td> 75.17</td><td> 74.63</td><td> 75.61</td><td> 76.41</td><td> 77.00</td><td> 77.30</td><td>⋯</td><td>:      </td><td>:      </td><td>:      </td><td>:      </td><td>:      </td><td>:      </td><td>:      </td><td>:      </td><td>:      </td><td>:      </td></tr>\n",
       "\t<tr><th scope=row>5</th><td>40000,CY</td><td>16.49 e </td><td>16.46  </td><td> 16.83</td><td> 16.31</td><td> 17.59</td><td> 18.26</td><td> 17.12</td><td> 17.38</td><td> 18.45</td><td>⋯</td><td>:      </td><td>:      </td><td>:      </td><td>:      </td><td>:      </td><td>:      </td><td>:      </td><td>:      </td><td>:      </td><td>:      </td></tr>\n",
       "\t<tr><th scope=row>6</th><td>40000,CZ</td><td>95.37 e </td><td>95.37  </td><td>102.02</td><td>104.34</td><td>104.60</td><td>104.48</td><td>104.80</td><td>104.90</td><td>105.10</td><td>⋯</td><td>:      </td><td>:      </td><td>:      </td><td>:      </td><td>:      </td><td>:      </td><td>:      </td><td>:      </td><td>:      </td><td>:      </td></tr>\n",
       "</tbody>\n",
       "</table>\n"
      ],
      "text/latex": [
       "A data.frame: 6 × 50\n",
       "\\begin{tabular}{r|lllllllllllllllllllll}\n",
       "  & itm\\_newa.geo.time & X2021 & X2020 & X2019 & X2018 & X2017 & X2016 & X2015 & X2014 & X2013 & ⋯ & X1982 & X1981 & X1980 & X1979 & X1978 & X1977 & X1976 & X1975 & X1974 & X1973\\\\\n",
       "  & <chr> & <chr> & <chr> & <dbl> & <dbl> & <dbl> & <dbl> & <dbl> & <dbl> & <dbl> & ⋯ & <chr> & <chr> & <chr> & <chr> & <chr> & <chr> & <chr> & <chr> & <chr> & <chr>\\\\\n",
       "\\hline\n",
       "\t1 & 40000,AT & 112.32 e & 113.40  & 115.88 & 117.15 & 118.63 & 119.57 & 120.49 & 122.33 & 124.19 & ⋯ & :       & :       & :       & :       & :       & :       & :       & :       & :       & :      \\\\\n",
       "\t2 & 40000,BE & 56.78 e  & 56.08   &  55.59 &  55.66 &  55.28 &  55.35 &  57.12 &  56.84 &  57.90 & ⋯ & 112.90  & 115.10  & 119.40  & 125.10  & 126.00  & 130.30  & 136.20  & 143.60  & 149.90  & 155.80 \\\\\n",
       "\t3 & 40000,BG & 166.00 e & 179.50  & 190.40 & 220.20 & 236.40 & 253.90 & 274.30 & 296.40 & 321.20 & ⋯ & :       & :       & :       & :       & :       & :       & :       & :       & :       & :      \\\\\n",
       "\t4 & 40000,CH & 72.11 e  & 72.67   &  73.86 &  75.17 &  74.63 &  75.61 &  76.41 &  77.00 &  77.30 & ⋯ & :       & :       & :       & :       & :       & :       & :       & :       & :       & :      \\\\\n",
       "\t5 & 40000,CY & 16.49 e  & 16.46   &  16.83 &  16.31 &  17.59 &  18.26 &  17.12 &  17.38 &  18.45 & ⋯ & :       & :       & :       & :       & :       & :       & :       & :       & :       & :      \\\\\n",
       "\t6 & 40000,CZ & 95.37 e  & 95.37   & 102.02 & 104.34 & 104.60 & 104.48 & 104.80 & 104.90 & 105.10 & ⋯ & :       & :       & :       & :       & :       & :       & :       & :       & :       & :      \\\\\n",
       "\\end{tabular}\n"
      ],
      "text/markdown": [
       "\n",
       "A data.frame: 6 × 50\n",
       "\n",
       "| <!--/--> | itm_newa.geo.time &lt;chr&gt; | X2021 &lt;chr&gt; | X2020 &lt;chr&gt; | X2019 &lt;dbl&gt; | X2018 &lt;dbl&gt; | X2017 &lt;dbl&gt; | X2016 &lt;dbl&gt; | X2015 &lt;dbl&gt; | X2014 &lt;dbl&gt; | X2013 &lt;dbl&gt; | ⋯ ⋯ | X1982 &lt;chr&gt; | X1981 &lt;chr&gt; | X1980 &lt;chr&gt; | X1979 &lt;chr&gt; | X1978 &lt;chr&gt; | X1977 &lt;chr&gt; | X1976 &lt;chr&gt; | X1975 &lt;chr&gt; | X1974 &lt;chr&gt; | X1973 &lt;chr&gt; |\n",
       "|---|---|---|---|---|---|---|---|---|---|---|---|---|---|---|---|---|---|---|---|---|---|\n",
       "| 1 | 40000,AT | 112.32 e | 113.40  | 115.88 | 117.15 | 118.63 | 119.57 | 120.49 | 122.33 | 124.19 | ⋯ | :       | :       | :       | :       | :       | :       | :       | :       | :       | :       |\n",
       "| 2 | 40000,BE | 56.78 e  | 56.08   |  55.59 |  55.66 |  55.28 |  55.35 |  57.12 |  56.84 |  57.90 | ⋯ | 112.90  | 115.10  | 119.40  | 125.10  | 126.00  | 130.30  | 136.20  | 143.60  | 149.90  | 155.80  |\n",
       "| 3 | 40000,BG | 166.00 e | 179.50  | 190.40 | 220.20 | 236.40 | 253.90 | 274.30 | 296.40 | 321.20 | ⋯ | :       | :       | :       | :       | :       | :       | :       | :       | :       | :       |\n",
       "| 4 | 40000,CH | 72.11 e  | 72.67   |  73.86 |  75.17 |  74.63 |  75.61 |  76.41 |  77.00 |  77.30 | ⋯ | :       | :       | :       | :       | :       | :       | :       | :       | :       | :       |\n",
       "| 5 | 40000,CY | 16.49 e  | 16.46   |  16.83 |  16.31 |  17.59 |  18.26 |  17.12 |  17.38 |  18.45 | ⋯ | :       | :       | :       | :       | :       | :       | :       | :       | :       | :       |\n",
       "| 6 | 40000,CZ | 95.37 e  | 95.37   | 102.02 | 104.34 | 104.60 | 104.48 | 104.80 | 104.90 | 105.10 | ⋯ | :       | :       | :       | :       | :       | :       | :       | :       | :       | :       |\n",
       "\n"
      ],
      "text/plain": [
       "  itm_newa.geo.time X2021    X2020   X2019  X2018  X2017  X2016  X2015  X2014 \n",
       "1 40000,AT          112.32 e 113.40  115.88 117.15 118.63 119.57 120.49 122.33\n",
       "2 40000,BE          56.78 e  56.08    55.59  55.66  55.28  55.35  57.12  56.84\n",
       "3 40000,BG          166.00 e 179.50  190.40 220.20 236.40 253.90 274.30 296.40\n",
       "4 40000,CH          72.11 e  72.67    73.86  75.17  74.63  75.61  76.41  77.00\n",
       "5 40000,CY          16.49 e  16.46    16.83  16.31  17.59  18.26  17.12  17.38\n",
       "6 40000,CZ          95.37 e  95.37   102.02 104.34 104.60 104.48 104.80 104.90\n",
       "  X2013  ⋯ X1982   X1981   X1980   X1979   X1978   X1977   X1976   X1975  \n",
       "1 124.19 ⋯ :       :       :       :       :       :       :       :      \n",
       "2  57.90 ⋯ 112.90  115.10  119.40  125.10  126.00  130.30  136.20  143.60 \n",
       "3 321.20 ⋯ :       :       :       :       :       :       :       :      \n",
       "4  77.30 ⋯ :       :       :       :       :       :       :       :      \n",
       "5  18.45 ⋯ :       :       :       :       :       :       :       :      \n",
       "6 105.10 ⋯ :       :       :       :       :       :       :       :      \n",
       "  X1974   X1973  \n",
       "1 :       :      \n",
       "2 149.90  155.80 \n",
       "3 :       :      \n",
       "4 :       :      \n",
       "5 :       :      \n",
       "6 :       :      "
      ]
     },
     "metadata": {},
     "output_type": "display_data"
    }
   ],
   "source": [
    "path <- 'https://ec.europa.eu/eurostat/estat-navtree-portlet-prod/BulkDownloadListing?sort=1&downfile=data%2F'\n",
    "filename <- 'aact_ali01.tsv.gz'\n",
    "download.file(paste(path, filename, sep=''), filename)\n",
    "aact_ali <- read.csv(filename, sep = '\\t')\n",
    "typeof(aact_ali)\n",
    "head(aact_ali)"
   ]
  },
  {
   "cell_type": "markdown",
   "metadata": {},
   "source": [
    "After you process your data: cleaning it, or doing some analysis you'll likely end up generating new data. You can write data in an R data frame to CSV using the write.csv() function."
   ]
  },
  {
   "cell_type": "markdown",
   "metadata": {},
   "source": [
    "<a id='excel'></a>\n",
    "\n",
    "## Excel Files\n",
    "One of the packages working with Excel files is this one: 'readxl'."
   ]
  },
  {
   "cell_type": "code",
   "execution_count": 7,
   "metadata": {
    "vscode": {
     "languageId": "r"
    }
   },
   "outputs": [
    {
     "data": {
      "text/html": [
       "'list'"
      ],
      "text/latex": [
       "'list'"
      ],
      "text/markdown": [
       "'list'"
      ],
      "text/plain": [
       "[1] \"list\""
      ]
     },
     "metadata": {},
     "output_type": "display_data"
    },
    {
     "data": {
      "text/html": [
       "<table class=\"dataframe\">\n",
       "<caption>A data.frame: 4 × 4</caption>\n",
       "<thead>\n",
       "\t<tr><th scope=col>A</th><th scope=col>B</th><th scope=col>C</th><th scope=col>D</th></tr>\n",
       "\t<tr><th scope=col>&lt;dbl&gt;</th><th scope=col>&lt;dbl&gt;</th><th scope=col>&lt;dbl&gt;</th><th scope=col>&lt;dbl&gt;</th></tr>\n",
       "</thead>\n",
       "<tbody>\n",
       "\t<tr><td> 1</td><td> 2</td><td> 3</td><td> 4</td></tr>\n",
       "\t<tr><td> 5</td><td> 6</td><td> 7</td><td> 8</td></tr>\n",
       "\t<tr><td> 9</td><td>10</td><td>11</td><td>12</td></tr>\n",
       "\t<tr><td>13</td><td>14</td><td>15</td><td>16</td></tr>\n",
       "</tbody>\n",
       "</table>\n"
      ],
      "text/latex": [
       "A data.frame: 4 × 4\n",
       "\\begin{tabular}{llll}\n",
       " A & B & C & D\\\\\n",
       " <dbl> & <dbl> & <dbl> & <dbl>\\\\\n",
       "\\hline\n",
       "\t  1 &  2 &  3 &  4\\\\\n",
       "\t  5 &  6 &  7 &  8\\\\\n",
       "\t  9 & 10 & 11 & 12\\\\\n",
       "\t 13 & 14 & 15 & 16\\\\\n",
       "\\end{tabular}\n"
      ],
      "text/markdown": [
       "\n",
       "A data.frame: 4 × 4\n",
       "\n",
       "| A &lt;dbl&gt; | B &lt;dbl&gt; | C &lt;dbl&gt; | D &lt;dbl&gt; |\n",
       "|---|---|---|---|\n",
       "|  1 |  2 |  3 |  4 |\n",
       "|  5 |  6 |  7 |  8 |\n",
       "|  9 | 10 | 11 | 12 |\n",
       "| 13 | 14 | 15 | 16 |\n",
       "\n"
      ],
      "text/plain": [
       "  A  B  C  D \n",
       "1  1  2  3  4\n",
       "2  5  6  7  8\n",
       "3  9 10 11 12\n",
       "4 13 14 15 16"
      ]
     },
     "metadata": {},
     "output_type": "display_data"
    }
   ],
   "source": [
    "library(\"readxl\")\n",
    "small2 <- read_excel('small.xls', col_names=c('A', 'B', 'C', 'D'))\n",
    "typeof(small2)\n",
    "small_df = data.frame(small2)\n",
    "small_df"
   ]
  },
  {
   "cell_type": "markdown",
   "metadata": {},
   "source": [
    "<a id='rio'></a>\n",
    "\n",
    "## RIO Package\n",
    "But there is a better solution for all situations described before, it's a package, rio, trying to unify all types of input into a single interface:"
   ]
  },
  {
   "cell_type": "code",
   "execution_count": 8,
   "metadata": {
    "vscode": {
     "languageId": "r"
    }
   },
   "outputs": [
    {
     "data": {
      "text/html": [
       "<table class=\"dataframe\">\n",
       "<caption>A data.frame: 4 × 4</caption>\n",
       "<thead>\n",
       "\t<tr><th></th><th scope=col>Col1</th><th scope=col>Col2</th><th scope=col>Col3</th><th scope=col>Col4</th></tr>\n",
       "\t<tr><th></th><th scope=col>&lt;int&gt;</th><th scope=col>&lt;int&gt;</th><th scope=col>&lt;int&gt;</th><th scope=col>&lt;int&gt;</th></tr>\n",
       "</thead>\n",
       "<tbody>\n",
       "\t<tr><th scope=row>A</th><td> 1</td><td> 2</td><td> 3</td><td> 4</td></tr>\n",
       "\t<tr><th scope=row>B</th><td> 5</td><td> 6</td><td> 7</td><td> 8</td></tr>\n",
       "\t<tr><th scope=row>C</th><td> 9</td><td>10</td><td>11</td><td>12</td></tr>\n",
       "\t<tr><th scope=row>D</th><td>13</td><td>14</td><td>15</td><td>16</td></tr>\n",
       "</tbody>\n",
       "</table>\n"
      ],
      "text/latex": [
       "A data.frame: 4 × 4\n",
       "\\begin{tabular}{r|llll}\n",
       "  & Col1 & Col2 & Col3 & Col4\\\\\n",
       "  & <int> & <int> & <int> & <int>\\\\\n",
       "\\hline\n",
       "\tA &  1 &  2 &  3 &  4\\\\\n",
       "\tB &  5 &  6 &  7 &  8\\\\\n",
       "\tC &  9 & 10 & 11 & 12\\\\\n",
       "\tD & 13 & 14 & 15 & 16\\\\\n",
       "\\end{tabular}\n"
      ],
      "text/markdown": [
       "\n",
       "A data.frame: 4 × 4\n",
       "\n",
       "| <!--/--> | Col1 &lt;int&gt; | Col2 &lt;int&gt; | Col3 &lt;int&gt; | Col4 &lt;int&gt; |\n",
       "|---|---|---|---|---|\n",
       "| A |  1 |  2 |  3 |  4 |\n",
       "| B |  5 |  6 |  7 |  8 |\n",
       "| C |  9 | 10 | 11 | 12 |\n",
       "| D | 13 | 14 | 15 | 16 |\n",
       "\n"
      ],
      "text/plain": [
       "  Col1 Col2 Col3 Col4\n",
       "A  1    2    3    4  \n",
       "B  5    6    7    8  \n",
       "C  9   10   11   12  \n",
       "D 13   14   15   16  "
      ]
     },
     "metadata": {},
     "output_type": "display_data"
    },
    {
     "name": "stderr",
     "output_type": "stream",
     "text": [
      "data.table::fread() does not support reading from connections. Using utils::read.table() instead.\n",
      "\n"
     ]
    },
    {
     "data": {
      "text/html": [
       "'list'"
      ],
      "text/latex": [
       "'list'"
      ],
      "text/markdown": [
       "'list'"
      ],
      "text/plain": [
       "[1] \"list\""
      ]
     },
     "metadata": {},
     "output_type": "display_data"
    },
    {
     "data": {
      "text/html": [
       "<table class=\"dataframe\">\n",
       "<caption>A data.frame: 6 × 50</caption>\n",
       "<thead>\n",
       "\t<tr><th></th><th scope=col>itm_newa.geo.time</th><th scope=col>X2021</th><th scope=col>X2020</th><th scope=col>X2019</th><th scope=col>X2018</th><th scope=col>X2017</th><th scope=col>X2016</th><th scope=col>X2015</th><th scope=col>X2014</th><th scope=col>X2013</th><th scope=col>⋯</th><th scope=col>X1982</th><th scope=col>X1981</th><th scope=col>X1980</th><th scope=col>X1979</th><th scope=col>X1978</th><th scope=col>X1977</th><th scope=col>X1976</th><th scope=col>X1975</th><th scope=col>X1974</th><th scope=col>X1973</th></tr>\n",
       "\t<tr><th></th><th scope=col>&lt;chr&gt;</th><th scope=col>&lt;chr&gt;</th><th scope=col>&lt;chr&gt;</th><th scope=col>&lt;dbl&gt;</th><th scope=col>&lt;dbl&gt;</th><th scope=col>&lt;dbl&gt;</th><th scope=col>&lt;dbl&gt;</th><th scope=col>&lt;dbl&gt;</th><th scope=col>&lt;dbl&gt;</th><th scope=col>&lt;dbl&gt;</th><th scope=col>⋯</th><th scope=col>&lt;chr&gt;</th><th scope=col>&lt;chr&gt;</th><th scope=col>&lt;chr&gt;</th><th scope=col>&lt;chr&gt;</th><th scope=col>&lt;chr&gt;</th><th scope=col>&lt;chr&gt;</th><th scope=col>&lt;chr&gt;</th><th scope=col>&lt;chr&gt;</th><th scope=col>&lt;chr&gt;</th><th scope=col>&lt;chr&gt;</th></tr>\n",
       "</thead>\n",
       "<tbody>\n",
       "\t<tr><th scope=row>1</th><td>40000,AT</td><td>112.32 e</td><td>113.40 </td><td>115.88</td><td>117.15</td><td>118.63</td><td>119.57</td><td>120.49</td><td>122.33</td><td>124.19</td><td>⋯</td><td>:      </td><td>:      </td><td>:      </td><td>:      </td><td>:      </td><td>:      </td><td>:      </td><td>:      </td><td>:      </td><td>:      </td></tr>\n",
       "\t<tr><th scope=row>2</th><td>40000,BE</td><td>56.78 e </td><td>56.08  </td><td> 55.59</td><td> 55.66</td><td> 55.28</td><td> 55.35</td><td> 57.12</td><td> 56.84</td><td> 57.90</td><td>⋯</td><td>112.90 </td><td>115.10 </td><td>119.40 </td><td>125.10 </td><td>126.00 </td><td>130.30 </td><td>136.20 </td><td>143.60 </td><td>149.90 </td><td>155.80 </td></tr>\n",
       "\t<tr><th scope=row>3</th><td>40000,BG</td><td>166.00 e</td><td>179.50 </td><td>190.40</td><td>220.20</td><td>236.40</td><td>253.90</td><td>274.30</td><td>296.40</td><td>321.20</td><td>⋯</td><td>:      </td><td>:      </td><td>:      </td><td>:      </td><td>:      </td><td>:      </td><td>:      </td><td>:      </td><td>:      </td><td>:      </td></tr>\n",
       "\t<tr><th scope=row>4</th><td>40000,CH</td><td>72.11 e </td><td>72.67  </td><td> 73.86</td><td> 75.17</td><td> 74.63</td><td> 75.61</td><td> 76.41</td><td> 77.00</td><td> 77.30</td><td>⋯</td><td>:      </td><td>:      </td><td>:      </td><td>:      </td><td>:      </td><td>:      </td><td>:      </td><td>:      </td><td>:      </td><td>:      </td></tr>\n",
       "\t<tr><th scope=row>5</th><td>40000,CY</td><td>16.49 e </td><td>16.46  </td><td> 16.83</td><td> 16.31</td><td> 17.59</td><td> 18.26</td><td> 17.12</td><td> 17.38</td><td> 18.45</td><td>⋯</td><td>:      </td><td>:      </td><td>:      </td><td>:      </td><td>:      </td><td>:      </td><td>:      </td><td>:      </td><td>:      </td><td>:      </td></tr>\n",
       "\t<tr><th scope=row>6</th><td>40000,CZ</td><td>95.37 e </td><td>95.37  </td><td>102.02</td><td>104.34</td><td>104.60</td><td>104.48</td><td>104.80</td><td>104.90</td><td>105.10</td><td>⋯</td><td>:      </td><td>:      </td><td>:      </td><td>:      </td><td>:      </td><td>:      </td><td>:      </td><td>:      </td><td>:      </td><td>:      </td></tr>\n",
       "</tbody>\n",
       "</table>\n"
      ],
      "text/latex": [
       "A data.frame: 6 × 50\n",
       "\\begin{tabular}{r|lllllllllllllllllllll}\n",
       "  & itm\\_newa.geo.time & X2021 & X2020 & X2019 & X2018 & X2017 & X2016 & X2015 & X2014 & X2013 & ⋯ & X1982 & X1981 & X1980 & X1979 & X1978 & X1977 & X1976 & X1975 & X1974 & X1973\\\\\n",
       "  & <chr> & <chr> & <chr> & <dbl> & <dbl> & <dbl> & <dbl> & <dbl> & <dbl> & <dbl> & ⋯ & <chr> & <chr> & <chr> & <chr> & <chr> & <chr> & <chr> & <chr> & <chr> & <chr>\\\\\n",
       "\\hline\n",
       "\t1 & 40000,AT & 112.32 e & 113.40  & 115.88 & 117.15 & 118.63 & 119.57 & 120.49 & 122.33 & 124.19 & ⋯ & :       & :       & :       & :       & :       & :       & :       & :       & :       & :      \\\\\n",
       "\t2 & 40000,BE & 56.78 e  & 56.08   &  55.59 &  55.66 &  55.28 &  55.35 &  57.12 &  56.84 &  57.90 & ⋯ & 112.90  & 115.10  & 119.40  & 125.10  & 126.00  & 130.30  & 136.20  & 143.60  & 149.90  & 155.80 \\\\\n",
       "\t3 & 40000,BG & 166.00 e & 179.50  & 190.40 & 220.20 & 236.40 & 253.90 & 274.30 & 296.40 & 321.20 & ⋯ & :       & :       & :       & :       & :       & :       & :       & :       & :       & :      \\\\\n",
       "\t4 & 40000,CH & 72.11 e  & 72.67   &  73.86 &  75.17 &  74.63 &  75.61 &  76.41 &  77.00 &  77.30 & ⋯ & :       & :       & :       & :       & :       & :       & :       & :       & :       & :      \\\\\n",
       "\t5 & 40000,CY & 16.49 e  & 16.46   &  16.83 &  16.31 &  17.59 &  18.26 &  17.12 &  17.38 &  18.45 & ⋯ & :       & :       & :       & :       & :       & :       & :       & :       & :       & :      \\\\\n",
       "\t6 & 40000,CZ & 95.37 e  & 95.37   & 102.02 & 104.34 & 104.60 & 104.48 & 104.80 & 104.90 & 105.10 & ⋯ & :       & :       & :       & :       & :       & :       & :       & :       & :       & :      \\\\\n",
       "\\end{tabular}\n"
      ],
      "text/markdown": [
       "\n",
       "A data.frame: 6 × 50\n",
       "\n",
       "| <!--/--> | itm_newa.geo.time &lt;chr&gt; | X2021 &lt;chr&gt; | X2020 &lt;chr&gt; | X2019 &lt;dbl&gt; | X2018 &lt;dbl&gt; | X2017 &lt;dbl&gt; | X2016 &lt;dbl&gt; | X2015 &lt;dbl&gt; | X2014 &lt;dbl&gt; | X2013 &lt;dbl&gt; | ⋯ ⋯ | X1982 &lt;chr&gt; | X1981 &lt;chr&gt; | X1980 &lt;chr&gt; | X1979 &lt;chr&gt; | X1978 &lt;chr&gt; | X1977 &lt;chr&gt; | X1976 &lt;chr&gt; | X1975 &lt;chr&gt; | X1974 &lt;chr&gt; | X1973 &lt;chr&gt; |\n",
       "|---|---|---|---|---|---|---|---|---|---|---|---|---|---|---|---|---|---|---|---|---|---|\n",
       "| 1 | 40000,AT | 112.32 e | 113.40  | 115.88 | 117.15 | 118.63 | 119.57 | 120.49 | 122.33 | 124.19 | ⋯ | :       | :       | :       | :       | :       | :       | :       | :       | :       | :       |\n",
       "| 2 | 40000,BE | 56.78 e  | 56.08   |  55.59 |  55.66 |  55.28 |  55.35 |  57.12 |  56.84 |  57.90 | ⋯ | 112.90  | 115.10  | 119.40  | 125.10  | 126.00  | 130.30  | 136.20  | 143.60  | 149.90  | 155.80  |\n",
       "| 3 | 40000,BG | 166.00 e | 179.50  | 190.40 | 220.20 | 236.40 | 253.90 | 274.30 | 296.40 | 321.20 | ⋯ | :       | :       | :       | :       | :       | :       | :       | :       | :       | :       |\n",
       "| 4 | 40000,CH | 72.11 e  | 72.67   |  73.86 |  75.17 |  74.63 |  75.61 |  76.41 |  77.00 |  77.30 | ⋯ | :       | :       | :       | :       | :       | :       | :       | :       | :       | :       |\n",
       "| 5 | 40000,CY | 16.49 e  | 16.46   |  16.83 |  16.31 |  17.59 |  18.26 |  17.12 |  17.38 |  18.45 | ⋯ | :       | :       | :       | :       | :       | :       | :       | :       | :       | :       |\n",
       "| 6 | 40000,CZ | 95.37 e  | 95.37   | 102.02 | 104.34 | 104.60 | 104.48 | 104.80 | 104.90 | 105.10 | ⋯ | :       | :       | :       | :       | :       | :       | :       | :       | :       | :       |\n",
       "\n"
      ],
      "text/plain": [
       "  itm_newa.geo.time X2021    X2020   X2019  X2018  X2017  X2016  X2015  X2014 \n",
       "1 40000,AT          112.32 e 113.40  115.88 117.15 118.63 119.57 120.49 122.33\n",
       "2 40000,BE          56.78 e  56.08    55.59  55.66  55.28  55.35  57.12  56.84\n",
       "3 40000,BG          166.00 e 179.50  190.40 220.20 236.40 253.90 274.30 296.40\n",
       "4 40000,CH          72.11 e  72.67    73.86  75.17  74.63  75.61  76.41  77.00\n",
       "5 40000,CY          16.49 e  16.46    16.83  16.31  17.59  18.26  17.12  17.38\n",
       "6 40000,CZ          95.37 e  95.37   102.02 104.34 104.60 104.48 104.80 104.90\n",
       "  X2013  ⋯ X1982   X1981   X1980   X1979   X1978   X1977   X1976   X1975  \n",
       "1 124.19 ⋯ :       :       :       :       :       :       :       :      \n",
       "2  57.90 ⋯ 112.90  115.10  119.40  125.10  126.00  130.30  136.20  143.60 \n",
       "3 321.20 ⋯ :       :       :       :       :       :       :       :      \n",
       "4  77.30 ⋯ :       :       :       :       :       :       :       :      \n",
       "5  18.45 ⋯ :       :       :       :       :       :       :       :      \n",
       "6 105.10 ⋯ :       :       :       :       :       :       :       :      \n",
       "  X1974   X1973  \n",
       "1 :       :      \n",
       "2 149.90  155.80 \n",
       "3 :       :      \n",
       "4 :       :      \n",
       "5 :       :      \n",
       "6 :       :      "
      ]
     },
     "metadata": {},
     "output_type": "display_data"
    },
    {
     "data": {
      "text/html": [
       "<table class=\"dataframe\">\n",
       "<caption>A data.frame: 4 × 4</caption>\n",
       "<thead>\n",
       "\t<tr><th></th><th scope=col>A</th><th scope=col>B</th><th scope=col>C</th><th scope=col>D</th></tr>\n",
       "\t<tr><th></th><th scope=col>&lt;dbl&gt;</th><th scope=col>&lt;dbl&gt;</th><th scope=col>&lt;dbl&gt;</th><th scope=col>&lt;dbl&gt;</th></tr>\n",
       "</thead>\n",
       "<tbody>\n",
       "\t<tr><th scope=row>1</th><td> 1</td><td> 2</td><td> 3</td><td> 4</td></tr>\n",
       "\t<tr><th scope=row>2</th><td> 5</td><td> 6</td><td> 7</td><td> 8</td></tr>\n",
       "\t<tr><th scope=row>3</th><td> 9</td><td>10</td><td>11</td><td>12</td></tr>\n",
       "\t<tr><th scope=row>4</th><td>13</td><td>14</td><td>15</td><td>16</td></tr>\n",
       "</tbody>\n",
       "</table>\n"
      ],
      "text/latex": [
       "A data.frame: 4 × 4\n",
       "\\begin{tabular}{r|llll}\n",
       "  & A & B & C & D\\\\\n",
       "  & <dbl> & <dbl> & <dbl> & <dbl>\\\\\n",
       "\\hline\n",
       "\t1 &  1 &  2 &  3 &  4\\\\\n",
       "\t2 &  5 &  6 &  7 &  8\\\\\n",
       "\t3 &  9 & 10 & 11 & 12\\\\\n",
       "\t4 & 13 & 14 & 15 & 16\\\\\n",
       "\\end{tabular}\n"
      ],
      "text/markdown": [
       "\n",
       "A data.frame: 4 × 4\n",
       "\n",
       "| <!--/--> | A &lt;dbl&gt; | B &lt;dbl&gt; | C &lt;dbl&gt; | D &lt;dbl&gt; |\n",
       "|---|---|---|---|---|\n",
       "| 1 |  1 |  2 |  3 |  4 |\n",
       "| 2 |  5 |  6 |  7 |  8 |\n",
       "| 3 |  9 | 10 | 11 | 12 |\n",
       "| 4 | 13 | 14 | 15 | 16 |\n",
       "\n"
      ],
      "text/plain": [
       "  A  B  C  D \n",
       "1  1  2  3  4\n",
       "2  5  6  7  8\n",
       "3  9 10 11 12\n",
       "4 13 14 15 16"
      ]
     },
     "metadata": {},
     "output_type": "display_data"
    }
   ],
   "source": [
    "library(rio)\n",
    "\n",
    "# install_formats()\n",
    "# CSV\n",
    "rio_csv <- import(\"small.csv\")\n",
    "rownames(rio_csv) <- rio_csv[, 1]\n",
    "rio_csv <- rio_csv[, -1]\n",
    "head(rio_csv)\n",
    "\n",
    "# archived TSV\n",
    "rio_txt <- import(\"aact_ali01.tsv.gz\")\n",
    "typeof(rio_txt)\n",
    "head(rio_txt)\n",
    "\n",
    "# Excel XLSX\n",
    "rio_xlsx <- import(\"small.xls\", col_names=c('A', 'B', 'C', 'D'))\n",
    "rio_xlsx\n"
   ]
  },
  {
   "cell_type": "markdown",
   "metadata": {},
   "source": [
    "Now, as you can see the functionality is not quite identical but in majority of the situation it is hiding some details and give a more robust and simple to use interface.  \n",
    "And you can use the same package, function export, to save the files in the format you want. Let's try save all of them as RDS file, we'll need them in the next chapter."
   ]
  },
  {
   "cell_type": "code",
   "execution_count": 9,
   "metadata": {
    "vscode": {
     "languageId": "r"
    }
   },
   "outputs": [],
   "source": [
    "export(rio_csv, 'rio_csv.rds')\n",
    "export(rio_txt, 'rio_txt.rds')\n",
    "export(rio_xlsx, 'rio_xlsx.rds')\n",
    "\n",
    "export(list(x = rio_csv, y = rio_xlsx), 'rio_csv.rda')\n"
   ]
  },
  {
   "cell_type": "markdown",
   "metadata": {},
   "source": [
    "<a id='rdas'></a>\n",
    "\n",
    "## RDA/RDS Binary Files\n",
    "\n",
    "R comes with its own binary format. There are two different types of binary R files for multiple objects (RDA) and for single objects (RDS). Before looking at the functions to read/write, let us first compare the two formats:\n",
    "\n",
    "#### For multiple objects: RDA (R data) files.  \n",
    "- File extension (typically): .rda, .Rda, or RData.  \n",
    "- RDA files can take up one or multiple different R objects.  \n",
    "- Preserves the name(s) of the object(s) stored.  \n",
    "- load(): Read/load existing files.  \n",
    "- save(): Write/save data.\n",
    "#### For single objects: RDS (serialized R data) files.\n",
    "- File extension (typically) .rds, or .Rds.\n",
    "- Can only take up one single object.\n",
    "- Does not preserve the name of the object saved.\n",
    "- readRDS(): Read/load existing files.\n",
    "- saveRDS(): Write/save data.\n",
    "\n",
    "  \n",
    "  Some examples, please:"
   ]
  },
  {
   "cell_type": "code",
   "execution_count": 10,
   "metadata": {
    "vscode": {
     "languageId": "r"
    }
   },
   "outputs": [
    {
     "data": {
      "text/html": [
       "<table class=\"dataframe\">\n",
       "<caption>A data.frame: 4 × 4</caption>\n",
       "<thead>\n",
       "\t<tr><th></th><th scope=col>Col1</th><th scope=col>Col2</th><th scope=col>Col3</th><th scope=col>Col4</th></tr>\n",
       "\t<tr><th></th><th scope=col>&lt;int&gt;</th><th scope=col>&lt;int&gt;</th><th scope=col>&lt;int&gt;</th><th scope=col>&lt;int&gt;</th></tr>\n",
       "</thead>\n",
       "<tbody>\n",
       "\t<tr><th scope=row>A</th><td> 1</td><td> 2</td><td> 3</td><td> 4</td></tr>\n",
       "\t<tr><th scope=row>B</th><td> 5</td><td> 6</td><td> 7</td><td> 8</td></tr>\n",
       "\t<tr><th scope=row>C</th><td> 9</td><td>10</td><td>11</td><td>12</td></tr>\n",
       "\t<tr><th scope=row>D</th><td>13</td><td>14</td><td>15</td><td>16</td></tr>\n",
       "</tbody>\n",
       "</table>\n"
      ],
      "text/latex": [
       "A data.frame: 4 × 4\n",
       "\\begin{tabular}{r|llll}\n",
       "  & Col1 & Col2 & Col3 & Col4\\\\\n",
       "  & <int> & <int> & <int> & <int>\\\\\n",
       "\\hline\n",
       "\tA &  1 &  2 &  3 &  4\\\\\n",
       "\tB &  5 &  6 &  7 &  8\\\\\n",
       "\tC &  9 & 10 & 11 & 12\\\\\n",
       "\tD & 13 & 14 & 15 & 16\\\\\n",
       "\\end{tabular}\n"
      ],
      "text/markdown": [
       "\n",
       "A data.frame: 4 × 4\n",
       "\n",
       "| <!--/--> | Col1 &lt;int&gt; | Col2 &lt;int&gt; | Col3 &lt;int&gt; | Col4 &lt;int&gt; |\n",
       "|---|---|---|---|---|\n",
       "| A |  1 |  2 |  3 |  4 |\n",
       "| B |  5 |  6 |  7 |  8 |\n",
       "| C |  9 | 10 | 11 | 12 |\n",
       "| D | 13 | 14 | 15 | 16 |\n",
       "\n"
      ],
      "text/plain": [
       "  Col1 Col2 Col3 Col4\n",
       "A  1    2    3    4  \n",
       "B  5    6    7    8  \n",
       "C  9   10   11   12  \n",
       "D 13   14   15   16  "
      ]
     },
     "metadata": {},
     "output_type": "display_data"
    },
    {
     "data": {
      "text/html": [
       "<style>\n",
       ".list-inline {list-style: none; margin:0; padding: 0}\n",
       ".list-inline>li {display: inline-block}\n",
       ".list-inline>li:not(:last-child)::after {content: \"\\00b7\"; padding: 0 .5ex}\n",
       "</style>\n",
       "<ol class=list-inline><li>'x'</li><li>'y'</li></ol>\n"
      ],
      "text/latex": [
       "\\begin{enumerate*}\n",
       "\\item 'x'\n",
       "\\item 'y'\n",
       "\\end{enumerate*}\n"
      ],
      "text/markdown": [
       "1. 'x'\n",
       "2. 'y'\n",
       "\n",
       "\n"
      ],
      "text/plain": [
       "[1] \"x\" \"y\""
      ]
     },
     "metadata": {},
     "output_type": "display_data"
    },
    {
     "data": {
      "text/html": [
       "<style>\n",
       ".list-inline {list-style: none; margin:0; padding: 0}\n",
       ".list-inline>li {display: inline-block}\n",
       ".list-inline>li:not(:last-child)::after {content: \"\\00b7\"; padding: 0 .5ex}\n",
       "</style>\n",
       "<ol class=list-inline><li>'aact_ali'</li><li>'filename'</li><li>'my_path'</li><li>'path'</li><li>'rio_csv'</li><li>'rio_csv2'</li><li>'rio_csv3'</li><li>'rio_txt'</li><li>'rio_xlsx'</li><li>'small'</li><li>'small_df'</li><li>'small2'</li><li>'x'</li><li>'y'</li></ol>\n"
      ],
      "text/latex": [
       "\\begin{enumerate*}\n",
       "\\item 'aact\\_ali'\n",
       "\\item 'filename'\n",
       "\\item 'my\\_path'\n",
       "\\item 'path'\n",
       "\\item 'rio\\_csv'\n",
       "\\item 'rio\\_csv2'\n",
       "\\item 'rio\\_csv3'\n",
       "\\item 'rio\\_txt'\n",
       "\\item 'rio\\_xlsx'\n",
       "\\item 'small'\n",
       "\\item 'small\\_df'\n",
       "\\item 'small2'\n",
       "\\item 'x'\n",
       "\\item 'y'\n",
       "\\end{enumerate*}\n"
      ],
      "text/markdown": [
       "1. 'aact_ali'\n",
       "2. 'filename'\n",
       "3. 'my_path'\n",
       "4. 'path'\n",
       "5. 'rio_csv'\n",
       "6. 'rio_csv2'\n",
       "7. 'rio_csv3'\n",
       "8. 'rio_txt'\n",
       "9. 'rio_xlsx'\n",
       "10. 'small'\n",
       "11. 'small_df'\n",
       "12. 'small2'\n",
       "13. 'x'\n",
       "14. 'y'\n",
       "\n",
       "\n"
      ],
      "text/plain": [
       " [1] \"aact_ali\" \"filename\" \"my_path\"  \"path\"     \"rio_csv\"  \"rio_csv2\"\n",
       " [7] \"rio_csv3\" \"rio_txt\"  \"rio_xlsx\" \"small\"    \"small_df\" \"small2\"  \n",
       "[13] \"x\"        \"y\"       "
      ]
     },
     "metadata": {},
     "output_type": "display_data"
    },
    {
     "data": {
      "text/html": [
       "<table class=\"dataframe\">\n",
       "<caption>A data.frame: 4 × 4</caption>\n",
       "<thead>\n",
       "\t<tr><th></th><th scope=col>Col1</th><th scope=col>Col2</th><th scope=col>Col3</th><th scope=col>Col4</th></tr>\n",
       "\t<tr><th></th><th scope=col>&lt;int&gt;</th><th scope=col>&lt;int&gt;</th><th scope=col>&lt;int&gt;</th><th scope=col>&lt;int&gt;</th></tr>\n",
       "</thead>\n",
       "<tbody>\n",
       "\t<tr><th scope=row>A</th><td> 1</td><td> 2</td><td> 3</td><td> 4</td></tr>\n",
       "\t<tr><th scope=row>B</th><td> 5</td><td> 6</td><td> 7</td><td> 8</td></tr>\n",
       "\t<tr><th scope=row>C</th><td> 9</td><td>10</td><td>11</td><td>12</td></tr>\n",
       "\t<tr><th scope=row>D</th><td>13</td><td>14</td><td>15</td><td>16</td></tr>\n",
       "</tbody>\n",
       "</table>\n"
      ],
      "text/latex": [
       "A data.frame: 4 × 4\n",
       "\\begin{tabular}{r|llll}\n",
       "  & Col1 & Col2 & Col3 & Col4\\\\\n",
       "  & <int> & <int> & <int> & <int>\\\\\n",
       "\\hline\n",
       "\tA &  1 &  2 &  3 &  4\\\\\n",
       "\tB &  5 &  6 &  7 &  8\\\\\n",
       "\tC &  9 & 10 & 11 & 12\\\\\n",
       "\tD & 13 & 14 & 15 & 16\\\\\n",
       "\\end{tabular}\n"
      ],
      "text/markdown": [
       "\n",
       "A data.frame: 4 × 4\n",
       "\n",
       "| <!--/--> | Col1 &lt;int&gt; | Col2 &lt;int&gt; | Col3 &lt;int&gt; | Col4 &lt;int&gt; |\n",
       "|---|---|---|---|---|\n",
       "| A |  1 |  2 |  3 |  4 |\n",
       "| B |  5 |  6 |  7 |  8 |\n",
       "| C |  9 | 10 | 11 | 12 |\n",
       "| D | 13 | 14 | 15 | 16 |\n",
       "\n"
      ],
      "text/plain": [
       "  Col1 Col2 Col3 Col4\n",
       "A  1    2    3    4  \n",
       "B  5    6    7    8  \n",
       "C  9   10   11   12  \n",
       "D 13   14   15   16  "
      ]
     },
     "metadata": {},
     "output_type": "display_data"
    },
    {
     "data": {
      "text/html": [
       "<table class=\"dataframe\">\n",
       "<caption>A data.frame: 4 × 4</caption>\n",
       "<thead>\n",
       "\t<tr><th></th><th scope=col>A</th><th scope=col>B</th><th scope=col>C</th><th scope=col>D</th></tr>\n",
       "\t<tr><th></th><th scope=col>&lt;dbl&gt;</th><th scope=col>&lt;dbl&gt;</th><th scope=col>&lt;dbl&gt;</th><th scope=col>&lt;dbl&gt;</th></tr>\n",
       "</thead>\n",
       "<tbody>\n",
       "\t<tr><th scope=row>1</th><td> 1</td><td> 2</td><td> 3</td><td> 4</td></tr>\n",
       "\t<tr><th scope=row>2</th><td> 5</td><td> 6</td><td> 7</td><td> 8</td></tr>\n",
       "\t<tr><th scope=row>3</th><td> 9</td><td>10</td><td>11</td><td>12</td></tr>\n",
       "\t<tr><th scope=row>4</th><td>13</td><td>14</td><td>15</td><td>16</td></tr>\n",
       "</tbody>\n",
       "</table>\n"
      ],
      "text/latex": [
       "A data.frame: 4 × 4\n",
       "\\begin{tabular}{r|llll}\n",
       "  & A & B & C & D\\\\\n",
       "  & <dbl> & <dbl> & <dbl> & <dbl>\\\\\n",
       "\\hline\n",
       "\t1 &  1 &  2 &  3 &  4\\\\\n",
       "\t2 &  5 &  6 &  7 &  8\\\\\n",
       "\t3 &  9 & 10 & 11 & 12\\\\\n",
       "\t4 & 13 & 14 & 15 & 16\\\\\n",
       "\\end{tabular}\n"
      ],
      "text/markdown": [
       "\n",
       "A data.frame: 4 × 4\n",
       "\n",
       "| <!--/--> | A &lt;dbl&gt; | B &lt;dbl&gt; | C &lt;dbl&gt; | D &lt;dbl&gt; |\n",
       "|---|---|---|---|---|\n",
       "| 1 |  1 |  2 |  3 |  4 |\n",
       "| 2 |  5 |  6 |  7 |  8 |\n",
       "| 3 |  9 | 10 | 11 | 12 |\n",
       "| 4 | 13 | 14 | 15 | 16 |\n",
       "\n"
      ],
      "text/plain": [
       "  A  B  C  D \n",
       "1  1  2  3  4\n",
       "2  5  6  7  8\n",
       "3  9 10 11 12\n",
       "4 13 14 15 16"
      ]
     },
     "metadata": {},
     "output_type": "display_data"
    }
   ],
   "source": [
    "# previously saved rio_csv data.frame as file: rio_csv.rds\n",
    "# row names and column names preserved!\n",
    "rio_csv2 <- readRDS('rio_csv.rds')\n",
    "rio_csv2\n",
    "\n",
    "# the two objects rio_csv and rio_xlsx saved together in the file: rio_csv.rda\n",
    "# load the binary files and create the two objects x & y, in the global namespace.\n",
    "rio_csv3 <- load('rio_csv.rda')\n",
    "rio_csv3\n",
    "# or ls()\n",
    "objects()\n",
    "x\n",
    "y"
   ]
  },
  {
   "cell_type": "markdown",
   "metadata": {},
   "source": [
    "<a id='other'></a>\n",
    "\n",
    "## Other Packages\n",
    "\n",
    "Additional packages allow to read a wide variety of data formats. The following list is far away from being complete, but might be of interest to you at some point:\n",
    "\n",
    "- __sf, sp__: Reading/writing and handling of spatial data (polygons, points, lines).\n",
    "- __raster, stars__: Handling of gridded spatial data.\n",
    "- __rjson__: to read/parse JSON data,\n",
    "- __xml2__: to read, parse, manipulate, create, and save xml files,\n",
    "- __png and jpeg__: Reading and writing raster images.\n",
    "- __ncdf4__: Read and write NetCDF files.\n",
    "- __RSQLite, RMySQL, influxdbr, RPostgres__: Reading and writing different data bases.\n",
    "- __haven__: Additional support for data from other statistical systems (SAS, SPSS, Stata, …).\n"
   ]
  },
  {
   "cell_type": "markdown",
   "metadata": {},
   "source": [
    "<!--NAVIGATION-->\n",
    "<span style='background: rgb(128, 128, 128, .15); width: 100%; display: block; padding: 10px 0 10px 10px'>< [Quiz 2](02.03-Quiz.ipynb) | [Contents](00.00-Index.ipynb) | [Data sources for Official Statistics](03.02-Official-Statistics.ipynb) > [Top](#top) ^ </span>"
   ]
  },
  {
   "cell_type": "markdown",
   "metadata": {},
   "source": [
    "<span style='background: rgb(128, 128, 128, .15); width: 100%; display: block; padding: 10px 0 10px 10px'>This is the Jupyter notebook version of the __Python for Official Statistics__ produced by Eurostat; the content is available [on GitHub](https://github.com/eurostat/e-learning/tree/main/python-official-statistics).\n",
    "<br>The text and code are released under the [EUPL-1.2 license](https://github.com/eurostat/e-learning/blob/main/LICENSE).</span>"
   ]
  }
 ],
 "metadata": {
  "anaconda-cloud": {},
  "kernelspec": {
   "display_name": "R",
   "language": "R",
   "name": "ir"
  },
  "language_info": {
   "codemirror_mode": "r",
   "file_extension": ".r",
   "mimetype": "text/x-r-source",
   "name": "R",
   "pygments_lexer": "r",
   "version": "4.2.0"
  }
 },
 "nbformat": 4,
 "nbformat_minor": 4
}
