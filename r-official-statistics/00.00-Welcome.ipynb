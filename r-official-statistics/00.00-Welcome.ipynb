{
 "cells": [
  {
   "cell_type": "markdown",
   "metadata": {},
   "source": [
    "<!--NAVIGATION-->\n",
    "<span style='background: rgb(128, 128, 128, .15); width: 100%; display: block; padding: 10px 0 10px 10px'>| [Contents](00.00-Index.ipynb) | [Why R?](01.01-Why-R.ipynb) ></span>\n",
    "\n",
    "<a href=\"https://colab.research.google.com/github/eurostat/e-learning/blob/main/r-official-statistics/00.00-Welcome.ipynb\"><img align=\"left\" src=\"https://colab.research.google.com/assets/colab-badge.svg\" alt=\"Open in Colab\" title=\"Open and Execute in Google Colaboratory\"></a>\n"
   ]
  },
  {
   "cell_type": "markdown",
   "metadata": {},
   "source": [
    "<a id='top'></a>\n",
    "\n",
    "# Hello and Welcome!\n",
    "## Content  \n",
    "- [Who Is This Course For?](#who)  \n",
    "- [Why R?](#why)  \n",
    "- [Outline of the Course](#outline)  \n",
    "- [How to Use This Course?](#how)  "
   ]
  },
  {
   "cell_type": "markdown",
   "metadata": {},
   "source": [
    "<a id='who'></a>\n",
    "\n",
    "## Who Is This Course For?\n",
    "\n",
    "\n",
    "You are a STEM (technical) student, software developer, or researcher, maybe you already have a strong background in writing code and using computational and numerical tools.\n",
    "Maybe you already have some experience writing software, but want to learn R with the aim of using it as a tool for data-intensive and computational science.\n",
    "There is already a huge collection of courses, videos, blog posts, and tutorials available online about R, or about data science, or about both, for all levels, beginners or experts.\n",
    "\n",
    "## Why another course? How is this different?\n",
    "\n",
    "This course is not meant to be an introduction to R, still it provides a brief introduction about some important R's concepts, nor to programming in general.\n",
    "Also in this course you'll not learn what is needed to be a data scientist.\n",
    "Instead it is meant to help R users, or aspiring users, learn to use R's data science stack – packages such as data.table, ggplot2, shiny, and related tools – to effectively store, manipulate, and gain insight from data.\n",
    "R is the language created for data science.\n",
    "It will present the current state of the art libraries, and the trends for future developments in the ecosystem.\n",
    "More important it will try to explain some important concepts and provide references for further and deeper studies."
   ]
  },
  {
   "cell_type": "markdown",
   "metadata": {},
   "source": [
    "<a id='why'></a>\n",
    "\n",
    "## Why R?\n",
    "\n",
    "R is one of the most used languages for data science, a first-class tool for scientific computing tasks, including the analysis and visualization of large datasets.  \n",
    "\n",
    "R is more than just a language. Many of the reasons why R has become such a popular tool for data science come from the ecosystem surrounding the R project. R users benefit from the many resources and packages created by the community, while commercial companies (including Microsoft) provide tools to extend and support R, and services to help people use R.  \n",
    "\n",
    "We hope to succeed in answering some of the hows of using R for Data science and make the jurney also an efficient and entertaining one.\n"
   ]
  },
  {
   "cell_type": "markdown",
   "metadata": {},
   "source": [
    "<a id='outline'></a>\n",
    "\n",
    "## Outline of the Course\n",
    "\n",
    "The first two chapters of the course are about R. If you already know the language, you can skip them.  \n",
    "\n",
    "1. The R's World: try to give some reasons to use R and to familiarize you with the R's ecosystem.\n",
    "2. A little bit of R’s kitchen: a little bit about R as a software development tool, and few flashes of usage with some very popular packages.\n",
    "\n",
    "The following chapters focuses on particular packages and tools that contribute a fundamental piece of the R data science story.  \n",
    "\n",
    "3. Data Input: It's all about loading a database in the R environment; first part is about generic files: txt, csv, json, etc., or connectors for some database systems; second part is about specific packages created to be used for loading of official statistics databases.  \n",
    "4. Performance computing: this chapter is about processing the data with special enphasis on package data.table, and also an official statistics package, JDemetra.  \n",
    "5. Visualization with R: this chapter is also split in two; first part about basics already implemented in the default packages; followed by the evolutions, in the second part, with packages: ggplot2, Plotly and Shiny.  \n",
    "6. Machine Learning with R (bonus): Is just a small appetizer for what you can do in R about Machine Learning but without going to Deep Learning.  \n",
    "7. Real World Use Cases (bonus): Presenting some work done in official statistics environment with the help of R."
   ]
  },
  {
   "cell_type": "markdown",
   "metadata": {},
   "source": [
    "<a id='how'></a>\n",
    "\n",
    "## How to Use This Course?\n",
    "\n",
    "This course is available for download at http://github.com/eurostat/etc/ as Jupyter notebooks, or as an online course (video).\n",
    "\n",
    "If you are in a video, and something is not clear, don't hesitate to pause the video and find answer to your questions. Follow the course at your own speed.\n",
    "\n",
    "We encourage you to use the course materials: a lot of examples, exercises, and quizes.\n",
    "\n",
    "Or just make an Google search (or any other search engine). The [R community](https://www.r-bloggers.com/) is there and the most difficult problem will be to choose a source for the answer."
   ]
  },
  {
   "cell_type": "markdown",
   "metadata": {},
   "source": [
    "<!--NAVIGATION-->\n",
    "<span style='background: rgb(128, 128, 128, .15); width: 100%; display: block; padding: 10px 0 10px 10px'>| [Contents](00.00-Index.ipynb) | [Why R?](01.01-Why-R.ipynb) > [Top](#top) ^ </span>\n",
    "\n",
    "<a href=\"https://colab.research.google.com/github/eurostat/e-learning/blob/main/r-official-statistics/00.00-Welcome.ipynb\"><img align=\"left\" src=\"https://colab.research.google.com/assets/colab-badge.svg\" alt=\"Open in Colab\" title=\"Open and Execute in Google Colaboratory\"></a>\n"
   ]
  },
  {
   "cell_type": "markdown",
   "metadata": {},
   "source": [
    "<span style='background: rgb(128, 128, 128, .15); width: 100%; display: block; padding: 10px 0 10px 10px'>This is the Jupyter notebook version of the __Python for Official Statistics__ produced by Eurostat; the content is available [on GitHub](https://github.com/eurostat/e-learning/tree/main/python-official-statistics).\n",
    "<br>The text and code are released under the [EUPL-1.2 license](https://github.com/eurostat/e-learning/blob/main/LICENSE).</span>"
   ]
  }
 ],
 "metadata": {
  "anaconda-cloud": {},
  "kernelspec": {
   "display_name": "R",
   "language": "R",
   "name": "ir"
  },
  "language_info": {
   "codemirror_mode": "r",
   "file_extension": ".r",
   "mimetype": "text/x-r-source",
   "name": "R",
   "pygments_lexer": "r",
   "version": "4.2.0"
  }
 },
 "nbformat": 4,
 "nbformat_minor": 4
}
