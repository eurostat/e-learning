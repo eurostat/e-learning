{
 "cells": [
  {
   "cell_type": "markdown",
   "metadata": {},
   "source": [
    "<!--NAVIGATION-->\n",
    "<span style='background: rgb(128, 128, 128, .15); width: 100%; display: block; padding: 10px 0 10px 10px'>< [JDemetra](04.02-JDemetra.ipynb) | [Contents](00.00-Index.ipynb) | [Basic Plotting](05.01-Basic-Plotting.ipynb) ></span>\n",
    "\n",
    "<a href=\"https://colab.research.google.com/github/eurostat/e-learning/blob/main/r-official-statistics/04.03-Quiz.ipynb\"><img align=\"left\" src=\"https://colab.research.google.com/assets/colab-badge.svg\" alt=\"Open in Colab\" title=\"Open and Execute in Google Colaboratory\"></a>\n"
   ]
  },
  {
   "cell_type": "markdown",
   "metadata": {},
   "source": [
    "<a id='top'></a>\n",
    "\n",
    "# Quiz 4\n",
    "## Performance Computing\n",
    "  <br><br>\n",
    "  \n",
    "### [Questions for Revision](#rev)\n",
    "### [Exercises](#exe)\n",
    "### [Quiz](#quizz)"
   ]
  },
  {
   "cell_type": "markdown",
   "metadata": {},
   "source": [
    "<a id='rev'></a>\n",
    "\n",
    "## Questions for Revision\n",
    "\n",
    "Try answering the following questions to test your understanding of the topics covered in this notebook:\n",
    "\n",
    "1. What is an __NA__ value?\n",
    "1. What is __data.frame__? What makes it useful?\n",
    "1. How you can create a __data.frame__?\n",
    "1. What is the usage of the function __is.na__?\n",
    "1. What is the use of the __na.rm__ argument from mathematical operations?\n",
    "1. What is the usage of the function __complete.cases__?\n",
    "1. How can be removed duplicate data?\n",
    "1. What is tidyverse?\n",
    "1. What is tidyr?\n",
    "1. What is the usage of the function __tydir::separate__?\n",
    "1. Enumerate some functions from dplyr package.\n",
    "1. What is data.table?\n",
    "1. Why use data.table instead of data.frame?\n",
    "1. How many parameters can be used in a data.table for selection?\n",
    "1. What is the function to read data from a file in data.table package?\n",
    "1. What is RJDemetra?"
   ]
  },
  {
   "cell_type": "markdown",
   "metadata": {},
   "source": [
    "<a id='exe'></a>\n",
    "\n",
    "## Exercises"
   ]
  },
  {
   "cell_type": "markdown",
   "metadata": {},
   "source": [
    "<a id='quizz'></a>\n",
    "\n",
    "## Quiz\n",
    "\n",
    "1. What is an __NA__ value?\n",
    "    1. NA stands for Not Available.\n",
    "    2. It is the only way to represent missing values in R.\n",
    "    3. Use ``is.na`` function to identify NA values.\n",
    "> <br/>  \n",
    "> (Answer: 1, 3)  <br/><br/>   \n",
    "> \n",
    "<br/><br/>  \n",
    "\n",
    "2. How you can create a __data.frame__?\n",
    "    1. Using create_frame function.\n",
    "    2. Using data.frame function.\n",
    "    3. Using makeframe function.\n",
    "> <br/>  \n",
    "> (Answer: 2)  <br/><br/>   \n",
    "> \n",
    "<br/><br/>  \n",
    "\n",
    "3. What is __dplyr__?\n",
    "    1. A package to manipulate data frames.\n",
    "    2. Has functions as: select, filter, arrange, etc.\n",
    "    3. left_join is not a function from this package.\n",
    "> <br/>  \n",
    "> (Answer: 1, 2)  <br/><br/>   \n",
    "> \n",
    "<br/><br/>  \n",
    "\n",
    "4. Why use data.table instead of data.frame?\n",
    "    1. You cannot: They are two very different data types.\n",
    "    2. It is considered to be faster and more memory efficient.\n",
    "    3. data.table is also more code efficient.\n",
    "> <br/>  \n",
    "> (Answer: 2, 3)  <br/><br/>   \n",
    "> \n",
    "<br/><br/>  \n",
    "\n",
    "5. What is RJDemetra?\n",
    "    1. RJDemetra is an R interface to JDemetra+.\n",
    "    2. RJDemetra relies on the rJava package and Java SE 8 or later version is required.\n",
    "    3. It cannot be installed from CRAN.\n",
    "> <br/>  \n",
    "> (Answer: 1, 2)  <br/><br/>   \n",
    "> "
   ]
  },
  {
   "cell_type": "markdown",
   "metadata": {},
   "source": [
    "<!--NAVIGATION-->\n",
    "<span style='background: rgb(128, 128, 128, .15); width: 100%; display: block; padding: 10px 0 10px 10px'>< [JDemetra](04.02-JDemetra.ipynb) | [Contents](00.00-Index.ipynb) | [Basic Plotting](05.01-Basic-Plotting.ipynb) > [Top](#top) ^ </span>"
   ]
  },
  {
   "cell_type": "markdown",
   "metadata": {},
   "source": [
    "<span style='background: rgb(128, 128, 128, .15); width: 100%; display: block; padding: 10px 0 10px 10px'>This is the Jupyter notebook version of the __Python for Official Statistics__ produced by Eurostat; the content is available [on GitHub](https://github.com/eurostat/e-learning/tree/main/python-official-statistics).\n",
    "<br>The text and code are released under the [EUPL-1.2 license](https://github.com/eurostat/e-learning/blob/main/LICENSE).</span>"
   ]
  }
 ],
 "metadata": {
  "anaconda-cloud": {},
  "kernelspec": {
   "display_name": "R",
   "language": "R",
   "name": "ir"
  },
  "language_info": {
   "codemirror_mode": "r",
   "file_extension": ".r",
   "mimetype": "text/x-r-source",
   "name": "R",
   "pygments_lexer": "r",
   "version": "4.2.0"
  }
 },
 "nbformat": 4,
 "nbformat_minor": 4
}
