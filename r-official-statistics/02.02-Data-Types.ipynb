{
 "cells": [
  {
   "cell_type": "markdown",
   "metadata": {},
   "source": [
    "<!--NAVIGATION-->\n",
    "<span style='background: rgb(128, 128, 128, .15); width: 100%; display: block; padding: 10px 0 10px 10px'>< [R Syntax](02.01-R-Syntax.ipynb) | [Contents](00.00-Index.ipynb) | [Quiz 2](02.03-Quiz.ipynb) ></span>\n",
    "\n",
    "<a href=\"https://colab.research.google.com/github/eurostat/e-learning/blob/main/r-official-statistics/02.02-Data-Types.ipynb\"><img align=\"left\" src=\"https://colab.research.google.com/assets/colab-badge.svg\" alt=\"Open in Colab\" title=\"Open and Execute in Google Colaboratory\"></a>\n"
   ]
  },
  {
   "cell_type": "markdown",
   "metadata": {},
   "source": [
    "<a id='top'></a>\n",
    "\n",
    "# Data Types\n",
    "## Content  \n",
    "- [String](#string)  \n",
    "- [Numbers](#numbers)  \n",
    "- [Booleans](#booleans)  \n",
    "- [Iterables](#sequences)  \n",
    " - [Vectors](#vectors)  \n",
    " - [Matrix](#matrix)  \n",
    " - [Factors](#factors)  \n",
    " - [Lists](#lists)  \n",
    " - [Dataframe](#dframe)\n",
    "\n",
    "Nothing is an object in R, called `NULL`. If you need a variable to be declared but not used and properly specify a type for it you can use `NULL` (it is used for some default parameters in functions):  "
   ]
  },
  {
   "cell_type": "code",
   "execution_count": 1,
   "metadata": {
    "vscode": {
     "languageId": "r"
    }
   },
   "outputs": [
    {
     "data": {
      "text/html": [
       "'NULL'"
      ],
      "text/latex": [
       "'NULL'"
      ],
      "text/markdown": [
       "'NULL'"
      ],
      "text/plain": [
       "[1] \"NULL\""
      ]
     },
     "metadata": {},
     "output_type": "display_data"
    }
   ],
   "source": [
    "a <- NULL\n",
    "typeof(a)"
   ]
  },
  {
   "cell_type": "markdown",
   "metadata": {},
   "source": [
    "Actually there are several special values:"
   ]
  },
  {
   "cell_type": "code",
   "execution_count": 2,
   "metadata": {
    "vscode": {
     "languageId": "r"
    }
   },
   "outputs": [
    {
     "name": "stdout",
     "output_type": "stream",
     "text": [
      "x Inf double \n",
      "y NaN double \n",
      "n NA logical \n",
      "n1 NA integer \n",
      "n2 NA double \n",
      "n3 NA complex \n",
      "n4 NA character \n"
     ]
    }
   ],
   "source": [
    "# helper\n",
    "show_nicely <- function(x) {\n",
    "    cat(deparse(substitute(x)), x, typeof(x), '\\n')\n",
    "}\n",
    "\n",
    "# infinity\n",
    "x <- Inf\n",
    "show_nicely(x)\n",
    "\n",
    "# Not a Number\n",
    "y <- NaN\n",
    "show_nicely(y)\n",
    "\n",
    "# Not Available\n",
    "n <- NA\n",
    "show_nicely(n)\n",
    "\n",
    "# Not Available, and specify the data type for variable\n",
    "n1 <- NA_integer_\n",
    "show_nicely(n1)\n",
    "n2 <- NA_real_\n",
    "show_nicely(n2)\n",
    "n3 <- NA_complex_\n",
    "show_nicely(n3)\n",
    "n4 <- NA_character_\n",
    "show_nicely(n4)"
   ]
  },
  {
   "cell_type": "markdown",
   "metadata": {},
   "source": [
    "<a id='string'></a>\n",
    "\n",
    "## String\n",
    "Single quotes, double quotes ...  \n",
    "Useful package `stringr`.  \n",
    "### Single quotes and double quotes\n",
    "For simple strings, and a way to include the single quotes `'` char in a string is declaring it with double quotes and viceversa. Some examples:"
   ]
  },
  {
   "cell_type": "code",
   "execution_count": 3,
   "metadata": {
    "vscode": {
     "languageId": "r"
    }
   },
   "outputs": [
    {
     "name": "stdout",
     "output_type": "stream",
     "text": [
      "[1] \"a\"\n",
      "[1] \"aa\"\n",
      "[1] \"aaa\"\n",
      "[1] \"Hello!\"\n",
      "[1] \"don't worry\"\n"
     ]
    }
   ],
   "source": [
    "print('a')\n",
    "print('aa')\n",
    "print(\"aaa\")\n",
    "print('Hello!')\n",
    "print(\"don't worry\")"
   ]
  },
  {
   "cell_type": "markdown",
   "metadata": {},
   "source": [
    "Also it is possible to use escape characters.  \n",
    "Example: \n"
   ]
  },
  {
   "cell_type": "code",
   "execution_count": 4,
   "metadata": {
    "vscode": {
     "languageId": "r"
    }
   },
   "outputs": [
    {
     "name": "stdout",
     "output_type": "stream",
     "text": [
      "[1] \"don't\"\n"
     ]
    }
   ],
   "source": [
    "print('don\\'t')"
   ]
  },
  {
   "cell_type": "markdown",
   "metadata": {},
   "source": [
    "### Multilines Strings  \n",
    "The string can be multiple lines:"
   ]
  },
  {
   "cell_type": "code",
   "execution_count": 5,
   "metadata": {
    "vscode": {
     "languageId": "r"
    }
   },
   "outputs": [
    {
     "name": "stdout",
     "output_type": "stream",
     "text": [
      "\"The Old Pond\" by Matsuo Bashō\n",
      "An old silent pond\n",
      "A frog jumps into the pond —\n",
      "Splash! Silence again.\n"
     ]
    }
   ],
   "source": [
    "haiku = '\"The Old Pond\" by Matsuo Bashō\n",
    "An old silent pond\n",
    "A frog jumps into the pond —\n",
    "Splash! Silence again.'\n",
    "\n",
    "writeLines(haiku)"
   ]
  },
  {
   "cell_type": "markdown",
   "metadata": {},
   "source": [
    "### Printing and formatting\n",
    "\n",
    "R provides a series of functions for printing strings.  \n",
    "Here are some examples:"
   ]
  },
  {
   "cell_type": "code",
   "execution_count": 6,
   "metadata": {
    "vscode": {
     "languageId": "r"
    }
   },
   "outputs": [
    {
     "name": "stdout",
     "output_type": "stream",
     "text": [
      "[1] \"programming with data is fun\"\n",
      "[1] programming with data is fun\n"
     ]
    },
    {
     "data": {
      "text/plain": [
       "[1] programming with data is fun"
      ]
     },
     "metadata": {},
     "output_type": "display_data"
    }
   ],
   "source": [
    "my_string <- \"programming with data is fun\"\n",
    "# generic printing: print()\n",
    "print(my_string)\n",
    "# or no quotes\n",
    "print(my_string, quote = FALSE)\n",
    "# same print with no quotes: noquote()\n",
    "noquote(my_string)"
   ]
  },
  {
   "cell_type": "code",
   "execution_count": 7,
   "metadata": {
    "vscode": {
     "languageId": "r"
    }
   },
   "outputs": [
    {
     "name": "stdout",
     "output_type": "stream",
     "text": [
      "programming with data is fun with R\n",
      "1, 2, 3, 4, 5, 6, 7, 8, 9, 10"
     ]
    }
   ],
   "source": [
    "# concatenation: cat()\n",
    "cat(my_string, \"with R\\n\")\n",
    "# using a separator\n",
    "cat(1:10, sep = \", \")"
   ]
  },
  {
   "cell_type": "code",
   "execution_count": 8,
   "metadata": {
    "vscode": {
     "languageId": "r"
    }
   },
   "outputs": [
    {
     "data": {
      "text/html": [
       "'13.700'"
      ],
      "text/latex": [
       "'13.700'"
      ],
      "text/markdown": [
       "'13.700'"
      ],
      "text/plain": [
       "[1] \"13.700\""
      ]
     },
     "metadata": {},
     "output_type": "display_data"
    },
    {
     "data": {
      "text/html": [
       "<style>\n",
       ".list-inline {list-style: none; margin:0; padding: 0}\n",
       ".list-inline>li {display: inline-block}\n",
       ".list-inline>li:not(:last-child)::after {content: \"\\00b7\"; padding: 0 .5ex}\n",
       "</style>\n",
       "<ol class=list-inline><li>' 6'</li><li>'13'</li></ol>\n"
      ],
      "text/latex": [
       "\\begin{enumerate*}\n",
       "\\item ' 6'\n",
       "\\item '13'\n",
       "\\end{enumerate*}\n"
      ],
      "text/markdown": [
       "1. ' 6'\n",
       "2. '13'\n",
       "\n",
       "\n"
      ],
      "text/plain": [
       "[1] \" 6\" \"13\""
      ]
     },
     "metadata": {},
     "output_type": "display_data"
    },
    {
     "data": {
      "text/html": [
       "<style>\n",
       ".list-inline {list-style: none; margin:0; padding: 0}\n",
       ".list-inline>li {display: inline-block}\n",
       ".list-inline>li:not(:last-child)::after {content: \"\\00b7\"; padding: 0 .5ex}\n",
       "</style>\n",
       "<ol class=list-inline><li>' 6.0'</li><li>'13.1'</li></ol>\n"
      ],
      "text/latex": [
       "\\begin{enumerate*}\n",
       "\\item ' 6.0'\n",
       "\\item '13.1'\n",
       "\\end{enumerate*}\n"
      ],
      "text/markdown": [
       "1. ' 6.0'\n",
       "2. '13.1'\n",
       "\n",
       "\n"
      ],
      "text/plain": [
       "[1] \" 6.0\" \"13.1\""
      ]
     },
     "metadata": {},
     "output_type": "display_data"
    },
    {
     "data": {
      "text/html": [
       "<style>\n",
       ".list-inline {list-style: none; margin:0; padding: 0}\n",
       ".list-inline>li {display: inline-block}\n",
       ".list-inline>li:not(:last-child)::after {content: \"\\00b7\"; padding: 0 .5ex}\n",
       "</style>\n",
       "<ol class=list-inline><li><span style=white-space:pre-wrap>'  A  '</span></li><li><span style=white-space:pre-wrap>' BB  '</span></li><li>' CCC '</li></ol>\n"
      ],
      "text/latex": [
       "\\begin{enumerate*}\n",
       "\\item '  A  '\n",
       "\\item ' BB  '\n",
       "\\item ' CCC '\n",
       "\\end{enumerate*}\n"
      ],
      "text/markdown": [
       "1. <span style=white-space:pre-wrap>'  A  '</span>\n",
       "2. <span style=white-space:pre-wrap>' BB  '</span>\n",
       "3. ' CCC '\n",
       "\n",
       "\n"
      ],
      "text/plain": [
       "[1] \"  A  \" \" BB  \" \" CCC \""
      ]
     },
     "metadata": {},
     "output_type": "display_data"
    }
   ],
   "source": [
    "# special formats: format()\n",
    "# use of 'nsmall'\n",
    "format(13.7, nsmall = 3)\n",
    "# use of 'digits'\n",
    "format(c(6.0, 13.1), digits = 2)\n",
    "# use of 'digits' and 'nsmall'\n",
    "format(c(6.0, 13.1), digits = 2, nsmall = 1)\n",
    "# justify options\n",
    "format(c(\"A\", \"BB\", \"CCC\"), width = 5, justify = \"centre\")"
   ]
  },
  {
   "cell_type": "code",
   "execution_count": 9,
   "metadata": {
    "vscode": {
     "languageId": "r"
    }
   },
   "outputs": [
    {
     "data": {
      "text/html": [
       "'3.12345'"
      ],
      "text/latex": [
       "'3.12345'"
      ],
      "text/markdown": [
       "'3.12345'"
      ],
      "text/plain": [
       "[1] \"3.12345\""
      ]
     },
     "metadata": {},
     "output_type": "display_data"
    },
    {
     "data": {
      "text/html": [
       "'5+3i'"
      ],
      "text/latex": [
       "'5+3i'"
      ],
      "text/markdown": [
       "'5+3i'"
      ],
      "text/plain": [
       "[1] \"5+3i\""
      ]
     },
     "metadata": {},
     "output_type": "display_data"
    },
    {
     "data": {
      "text/html": [
       "'FALSE'"
      ],
      "text/latex": [
       "'FALSE'"
      ],
      "text/markdown": [
       "'FALSE'"
      ],
      "text/plain": [
       "[1] \"FALSE\""
      ]
     },
     "metadata": {},
     "output_type": "display_data"
    }
   ],
   "source": [
    "# convert to string: toString()\n",
    "toString(3.12345)\n",
    "toString(3i + 5)\n",
    "toString(FALSE)"
   ]
  },
  {
   "cell_type": "code",
   "execution_count": 10,
   "metadata": {
    "vscode": {
     "languageId": "r"
    }
   },
   "outputs": [
    {
     "data": {
      "text/html": [
       "'Second number: 1, first number: 2'"
      ],
      "text/latex": [
       "'Second number: 1, first number: 2'"
      ],
      "text/markdown": [
       "'Second number: 1, first number: 2'"
      ],
      "text/plain": [
       "[1] \"Second number: 1, first number: 2\""
      ]
     },
     "metadata": {},
     "output_type": "display_data"
    },
    {
     "data": {
      "text/html": [
       "'abc'"
      ],
      "text/latex": [
       "'abc'"
      ],
      "text/markdown": [
       "'abc'"
      ],
      "text/plain": [
       "[1] \"abc\""
      ]
     },
     "metadata": {},
     "output_type": "display_data"
    },
    {
     "data": {
      "text/html": [
       "'0.167'"
      ],
      "text/latex": [
       "'0.167'"
      ],
      "text/markdown": [
       "'0.167'"
      ],
      "text/plain": [
       "[1] \"0.167\""
      ]
     },
     "metadata": {},
     "output_type": "display_data"
    }
   ],
   "source": [
    "# C-style printing: sprintf() - usual suspects\n",
    "sprintf(\"Second number: %2$d, first number: %1$d\", 2, 1)\n",
    "sprintf(\"%.*s\", 3, \"abcdef\")\n",
    "sprintf('%.3f', 1/6)"
   ]
  },
  {
   "cell_type": "markdown",
   "metadata": {},
   "source": [
    "### Some more functionality for strings\n",
    "Doing more with `base` package, by examples:"
   ]
  },
  {
   "cell_type": "code",
   "execution_count": 11,
   "metadata": {
    "vscode": {
     "languageId": "r"
    }
   },
   "outputs": [
    {
     "data": {
      "text/html": [
       "12"
      ],
      "text/latex": [
       "12"
      ],
      "text/markdown": [
       "12"
      ],
      "text/plain": [
       "[1] 12"
      ]
     },
     "metadata": {},
     "output_type": "display_data"
    },
    {
     "name": "stdout",
     "output_type": "stream",
     "text": [
      "[1] \"HELLO WORLD!\"\n",
      "[1] \"hello world!\"\n",
      "[1] 1\n",
      "[1] \"world\"\n",
      "[1] \"My name is Simon\"\n",
      "[[1]]\n",
      "[1] \"My\"    \"name\"  \"is\"    \"Simon\"\n",
      "\n"
     ]
    }
   ],
   "source": [
    "spam <- 'Hello world!'\n",
    "# length\n",
    "nchar(spam)\n",
    "# convert to capital letters, or viceversa\n",
    "print(toupper(spam))\n",
    "print(tolower(spam))\n",
    "# find a substring (works with regular expression too)\n",
    "print(grep('He', spam))\n",
    "# extract a substring\n",
    "print(substr(spam, 7, 11))\n",
    "# joining a list of strings into a string separated by space\n",
    "print(paste('My', 'name', 'is', 'Simon', sep=' '))\n",
    "# str_split: the opposite of paste\n",
    "print(strsplit('My name is Simon', ' '))"
   ]
  },
  {
   "cell_type": "markdown",
   "metadata": {},
   "source": [
    "### stringr Package\n",
    "This is one very frequently used package about strings. As a rule, functions from this package starts with str_, and some examples:"
   ]
  },
  {
   "cell_type": "code",
   "execution_count": 12,
   "metadata": {
    "vscode": {
     "languageId": "r"
    }
   },
   "outputs": [],
   "source": [
    "library(stringr)"
   ]
  },
  {
   "cell_type": "markdown",
   "metadata": {},
   "source": [
    "#### Character manipulation"
   ]
  },
  {
   "cell_type": "code",
   "execution_count": 13,
   "metadata": {
    "vscode": {
     "languageId": "r"
    }
   },
   "outputs": [
    {
     "data": {
      "text/html": [
       "3"
      ],
      "text/latex": [
       "3"
      ],
      "text/markdown": [
       "3"
      ],
      "text/plain": [
       "[1] 3"
      ]
     },
     "metadata": {},
     "output_type": "display_data"
    },
    {
     "data": {
      "text/html": [
       "<style>\n",
       ".list-inline {list-style: none; margin:0; padding: 0}\n",
       ".list-inline>li {display: inline-block}\n",
       ".list-inline>li:not(:last-child)::after {content: \"\\00b7\"; padding: 0 .5ex}\n",
       "</style>\n",
       "<ol class=list-inline><li>'c'</li><li>'i'</li></ol>\n"
      ],
      "text/latex": [
       "\\begin{enumerate*}\n",
       "\\item 'c'\n",
       "\\item 'i'\n",
       "\\end{enumerate*}\n"
      ],
      "text/markdown": [
       "1. 'c'\n",
       "2. 'i'\n",
       "\n",
       "\n"
      ],
      "text/plain": [
       "[1] \"c\" \"i\""
      ]
     },
     "metadata": {},
     "output_type": "display_data"
    },
    {
     "data": {
      "text/html": [
       "<style>\n",
       ".list-inline {list-style: none; margin:0; padding: 0}\n",
       ".list-inline>li {display: inline-block}\n",
       ".list-inline>li:not(:last-child)::after {content: \"\\00b7\"; padding: 0 .5ex}\n",
       "</style>\n",
       "<ol class=list-inline><li>'bcde'</li><li>'hifj'</li></ol>\n"
      ],
      "text/latex": [
       "\\begin{enumerate*}\n",
       "\\item 'bcde'\n",
       "\\item 'hifj'\n",
       "\\end{enumerate*}\n"
      ],
      "text/markdown": [
       "1. 'bcde'\n",
       "2. 'hifj'\n",
       "\n",
       "\n"
      ],
      "text/plain": [
       "[1] \"bcde\" \"hifj\""
      ]
     },
     "metadata": {},
     "output_type": "display_data"
    },
    {
     "data": {
      "text/html": [
       "<style>\n",
       ".list-inline {list-style: none; margin:0; padding: 0}\n",
       ".list-inline>li {display: inline-block}\n",
       ".list-inline>li:not(:last-child)::after {content: \"\\00b7\"; padding: 0 .5ex}\n",
       "</style>\n",
       "<ol class=list-inline><li>'abXef'</li><li>'ghXjk'</li></ol>\n"
      ],
      "text/latex": [
       "\\begin{enumerate*}\n",
       "\\item 'abXef'\n",
       "\\item 'ghXjk'\n",
       "\\end{enumerate*}\n"
      ],
      "text/markdown": [
       "1. 'abXef'\n",
       "2. 'ghXjk'\n",
       "\n",
       "\n"
      ],
      "text/plain": [
       "[1] \"abXef\" \"ghXjk\""
      ]
     },
     "metadata": {},
     "output_type": "display_data"
    }
   ],
   "source": [
    "str_length(\"abc\")\n",
    "\n",
    "x <- c(\"abcdef\", \"ghifjk\")\n",
    "# The 3rd letter\n",
    "str_sub(x, 3, 3)\n",
    "# The 2nd to 2nd-to-last character\n",
    "str_sub(x, 2, -2)\n",
    "# You can also use str_sub() to modify strings:\n",
    "str_sub(x, 3, 4) <- \"X\"\n",
    "x"
   ]
  },
  {
   "cell_type": "markdown",
   "metadata": {},
   "source": [
    "#### Whitespace\n",
    "Three functions add, remove, or modify whitespace:"
   ]
  },
  {
   "cell_type": "code",
   "execution_count": 14,
   "metadata": {
    "vscode": {
     "languageId": "r"
    }
   },
   "outputs": [
    {
     "data": {
      "text/html": [
       "<style>\n",
       ".list-inline {list-style: none; margin:0; padding: 0}\n",
       ".list-inline>li {display: inline-block}\n",
       ".list-inline>li:not(:last-child)::after {content: \"\\00b7\"; padding: 0 .5ex}\n",
       "</style>\n",
       "<ol class=list-inline><li><span style=white-space:pre-wrap>'       abc'</span></li><li><span style=white-space:pre-wrap>'    defghi'</span></li></ol>\n"
      ],
      "text/latex": [
       "\\begin{enumerate*}\n",
       "\\item '       abc'\n",
       "\\item '    defghi'\n",
       "\\end{enumerate*}\n"
      ],
      "text/markdown": [
       "1. <span style=white-space:pre-wrap>'       abc'</span>\n",
       "2. <span style=white-space:pre-wrap>'    defghi'</span>\n",
       "\n",
       "\n"
      ],
      "text/plain": [
       "[1] \"       abc\" \"    defghi\""
      ]
     },
     "metadata": {},
     "output_type": "display_data"
    },
    {
     "data": {
      "text/html": [
       "<style>\n",
       ".list-inline {list-style: none; margin:0; padding: 0}\n",
       ".list-inline>li {display: inline-block}\n",
       ".list-inline>li:not(:last-child)::after {content: \"\\00b7\"; padding: 0 .5ex}\n",
       "</style>\n",
       "<ol class=list-inline><li><span style=white-space:pre-wrap>'   abc    '</span></li><li><span style=white-space:pre-wrap>'  defghi  '</span></li></ol>\n"
      ],
      "text/latex": [
       "\\begin{enumerate*}\n",
       "\\item '   abc    '\n",
       "\\item '  defghi  '\n",
       "\\end{enumerate*}\n"
      ],
      "text/markdown": [
       "1. <span style=white-space:pre-wrap>'   abc    '</span>\n",
       "2. <span style=white-space:pre-wrap>'  defghi  '</span>\n",
       "\n",
       "\n"
      ],
      "text/plain": [
       "[1] \"   abc    \" \"  defghi  \""
      ]
     },
     "metadata": {},
     "output_type": "display_data"
    },
    {
     "data": {
      "text/html": [
       "<style>\n",
       ".list-inline {list-style: none; margin:0; padding: 0}\n",
       ".list-inline>li {display: inline-block}\n",
       ".list-inline>li:not(:last-child)::after {content: \"\\00b7\"; padding: 0 .5ex}\n",
       "</style>\n",
       "<ol class=list-inline><li>' abc'</li><li>'defghi'</li></ol>\n"
      ],
      "text/latex": [
       "\\begin{enumerate*}\n",
       "\\item ' abc'\n",
       "\\item 'defghi'\n",
       "\\end{enumerate*}\n"
      ],
      "text/markdown": [
       "1. ' abc'\n",
       "2. 'defghi'\n",
       "\n",
       "\n"
      ],
      "text/plain": [
       "[1] \" abc\"   \"defghi\""
      ]
     },
     "metadata": {},
     "output_type": "display_data"
    },
    {
     "data": {
      "text/html": [
       "<style>\n",
       ".list-inline {list-style: none; margin:0; padding: 0}\n",
       ".list-inline>li {display: inline-block}\n",
       ".list-inline>li:not(:last-child)::after {content: \"\\00b7\"; padding: 0 .5ex}\n",
       "</style>\n",
       "<ol class=list-inline><li><span style=white-space:pre-wrap>'Short     '</span></li><li>'This is...'</li></ol>\n"
      ],
      "text/latex": [
       "\\begin{enumerate*}\n",
       "\\item 'Short     '\n",
       "\\item 'This is...'\n",
       "\\end{enumerate*}\n"
      ],
      "text/markdown": [
       "1. <span style=white-space:pre-wrap>'Short     '</span>\n",
       "2. 'This is...'\n",
       "\n",
       "\n"
      ],
      "text/plain": [
       "[1] \"Short     \" \"This is...\""
      ]
     },
     "metadata": {},
     "output_type": "display_data"
    }
   ],
   "source": [
    "x <- c(\"abc\", \"defghi\")\n",
    "# default pads on left\n",
    "str_pad(x, 10)\n",
    "str_pad(x, 10, \"both\")\n",
    "str_pad(x, 4)\n",
    "# now using a pipe and str_trunc\n",
    "x <- c(\"Short\", \"This is a long string\")\n",
    "x %>% str_trunc(10) %>% str_pad(10, \"right\")\n"
   ]
  },
  {
   "cell_type": "markdown",
   "metadata": {},
   "source": [
    "#### Locale sensitive"
   ]
  },
  {
   "cell_type": "code",
   "execution_count": 15,
   "metadata": {
    "vscode": {
     "languageId": "r"
    }
   },
   "outputs": [
    {
     "data": {
      "text/html": [
       "'I LIKE HORSES.'"
      ],
      "text/latex": [
       "'I LIKE HORSES.'"
      ],
      "text/markdown": [
       "'I LIKE HORSES.'"
      ],
      "text/plain": [
       "[1] \"I LIKE HORSES.\""
      ]
     },
     "metadata": {},
     "output_type": "display_data"
    },
    {
     "data": {
      "text/html": [
       "'I Like Horses.'"
      ],
      "text/latex": [
       "'I Like Horses.'"
      ],
      "text/markdown": [
       "'I Like Horses.'"
      ],
      "text/plain": [
       "[1] \"I Like Horses.\""
      ]
     },
     "metadata": {},
     "output_type": "display_data"
    },
    {
     "data": {
      "text/html": [
       "<style>\n",
       ".list-inline {list-style: none; margin:0; padding: 0}\n",
       ".list-inline>li {display: inline-block}\n",
       ".list-inline>li:not(:last-child)::after {content: \"\\00b7\"; padding: 0 .5ex}\n",
       "</style>\n",
       "<ol class=list-inline><li>2</li><li>3</li><li>1</li></ol>\n"
      ],
      "text/latex": [
       "\\begin{enumerate*}\n",
       "\\item 2\n",
       "\\item 3\n",
       "\\item 1\n",
       "\\end{enumerate*}\n"
      ],
      "text/markdown": [
       "1. 2\n",
       "2. 3\n",
       "3. 1\n",
       "\n",
       "\n"
      ],
      "text/plain": [
       "[1] 2 3 1"
      ]
     },
     "metadata": {},
     "output_type": "display_data"
    },
    {
     "data": {
      "text/html": [
       "<style>\n",
       ".list-inline {list-style: none; margin:0; padding: 0}\n",
       ".list-inline>li {display: inline-block}\n",
       ".list-inline>li:not(:last-child)::after {content: \"\\00b7\"; padding: 0 .5ex}\n",
       "</style>\n",
       "<ol class=list-inline><li>'i'</li><li>'k'</li><li>'y'</li></ol>\n"
      ],
      "text/latex": [
       "\\begin{enumerate*}\n",
       "\\item 'i'\n",
       "\\item 'k'\n",
       "\\item 'y'\n",
       "\\end{enumerate*}\n"
      ],
      "text/markdown": [
       "1. 'i'\n",
       "2. 'k'\n",
       "3. 'y'\n",
       "\n",
       "\n"
      ],
      "text/plain": [
       "[1] \"i\" \"k\" \"y\""
      ]
     },
     "metadata": {},
     "output_type": "display_data"
    }
   ],
   "source": [
    "x <- \"I like horses.\"\n",
    "str_to_upper(x)\n",
    "str_to_title(x)\n",
    "\n",
    "x <- c(\"y\", \"i\", \"k\")\n",
    "str_order(x)\n",
    "str_sort(x)"
   ]
  },
  {
   "cell_type": "markdown",
   "metadata": {},
   "source": [
    "#### Pattern matching"
   ]
  },
  {
   "cell_type": "code",
   "execution_count": 16,
   "metadata": {
    "vscode": {
     "languageId": "r"
    }
   },
   "outputs": [
    {
     "data": {
      "text/html": [
       "<style>\n",
       ".list-inline {list-style: none; margin:0; padding: 0}\n",
       ".list-inline>li {display: inline-block}\n",
       ".list-inline>li:not(:last-child)::after {content: \"\\00b7\"; padding: 0 .5ex}\n",
       "</style>\n",
       "<ol class=list-inline><li>FALSE</li><li>TRUE</li><li>TRUE</li><li>TRUE</li></ol>\n"
      ],
      "text/latex": [
       "\\begin{enumerate*}\n",
       "\\item FALSE\n",
       "\\item TRUE\n",
       "\\item TRUE\n",
       "\\item TRUE\n",
       "\\end{enumerate*}\n"
      ],
      "text/markdown": [
       "1. FALSE\n",
       "2. TRUE\n",
       "3. TRUE\n",
       "4. TRUE\n",
       "\n",
       "\n"
      ],
      "text/plain": [
       "[1] FALSE  TRUE  TRUE  TRUE"
      ]
     },
     "metadata": {},
     "output_type": "display_data"
    },
    {
     "data": {
      "text/html": [
       "<style>\n",
       ".list-inline {list-style: none; margin:0; padding: 0}\n",
       ".list-inline>li {display: inline-block}\n",
       ".list-inline>li:not(:last-child)::after {content: \"\\00b7\"; padding: 0 .5ex}\n",
       "</style>\n",
       "<ol class=list-inline><li>'219 733 8965'</li><li>'329-293-8753'</li><li>'Work: 579-499-7527; Home: 543.355.3679'</li></ol>\n"
      ],
      "text/latex": [
       "\\begin{enumerate*}\n",
       "\\item '219 733 8965'\n",
       "\\item '329-293-8753'\n",
       "\\item 'Work: 579-499-7527; Home: 543.355.3679'\n",
       "\\end{enumerate*}\n"
      ],
      "text/markdown": [
       "1. '219 733 8965'\n",
       "2. '329-293-8753'\n",
       "3. 'Work: 579-499-7527; Home: 543.355.3679'\n",
       "\n",
       "\n"
      ],
      "text/plain": [
       "[1] \"219 733 8965\"                          \n",
       "[2] \"329-293-8753\"                          \n",
       "[3] \"Work: 579-499-7527; Home: 543.355.3679\""
      ]
     },
     "metadata": {},
     "output_type": "display_data"
    },
    {
     "data": {
      "text/html": [
       "<style>\n",
       ".list-inline {list-style: none; margin:0; padding: 0}\n",
       ".list-inline>li {display: inline-block}\n",
       ".list-inline>li:not(:last-child)::after {content: \"\\00b7\"; padding: 0 .5ex}\n",
       "</style>\n",
       "<ol class=list-inline><li>0</li><li>1</li><li>1</li><li>2</li></ol>\n"
      ],
      "text/latex": [
       "\\begin{enumerate*}\n",
       "\\item 0\n",
       "\\item 1\n",
       "\\item 1\n",
       "\\item 2\n",
       "\\end{enumerate*}\n"
      ],
      "text/markdown": [
       "1. 0\n",
       "2. 1\n",
       "3. 1\n",
       "4. 2\n",
       "\n",
       "\n"
      ],
      "text/plain": [
       "[1] 0 1 1 2"
      ]
     },
     "metadata": {},
     "output_type": "display_data"
    }
   ],
   "source": [
    "strings <- c(\n",
    "  \"apple\", \n",
    "  \"219 733 8965\", \n",
    "  \"329-293-8753\", \n",
    "  \"Work: 579-499-7527; Home: 543.355.3679\"\n",
    ")\n",
    "phone <- \"([2-9][0-9]{2})[- .]([0-9]{3})[- .]([0-9]{4})\"\n",
    "\n",
    "# Which strings contain phone numbers?\n",
    "str_detect(strings, phone)\n",
    "# Returning elements with phone numbers\n",
    "str_subset(strings, phone)\n",
    "# How many phone numbers in each string?\n",
    "str_count(strings, phone)"
   ]
  },
  {
   "cell_type": "markdown",
   "metadata": {},
   "source": [
    "<a id='numbers'></a>\n",
    "\n",
    "## Numbers\n",
    "There are three numeric types: \n",
    "- integer: Set of all integers, Z,\n",
    "- numeric: Set of all real numbers, \n",
    "- complex: Set of complex numbers.  \n",
    "\n",
    "Some examples:"
   ]
  },
  {
   "cell_type": "code",
   "execution_count": 17,
   "metadata": {
    "vscode": {
     "languageId": "r"
    }
   },
   "outputs": [
    {
     "name": "stdout",
     "output_type": "stream",
     "text": [
      "[1] \"double\"\n",
      "[1] \"integer\"\n",
      "[1] \"double\"\n",
      "[1] \"complex\"\n",
      "[1] \"numeric\"\n",
      "[1] \"double\"\n",
      "[1] FALSE\n"
     ]
    }
   ],
   "source": [
    "print(typeof(-69))\n",
    "print(typeof(6L))\n",
    "print(typeof(0xa))\n",
    "print(typeof(4 + 6i))\n",
    "\n",
    "y = 5\n",
    "print(class(y))\n",
    "print(typeof(y))\n",
    "print(is.integer(y))"
   ]
  },
  {
   "cell_type": "markdown",
   "metadata": {},
   "source": [
    "### Element-wise Logical operators\n",
    "Logical operations simulate element-wise decision operations, based on the specified operator between the operands, which are then evaluated to either a True or False boolean value. Any non zero integer value is considered as a TRUE value, be it complex or real number. \n",
    "\n",
    "#### Element-wise Logical AND operator (&)\n",
    "Returns True if both the operands are True."
   ]
  },
  {
   "cell_type": "code",
   "execution_count": 18,
   "metadata": {
    "vscode": {
     "languageId": "r"
    }
   },
   "outputs": [
    {
     "name": "stdout",
     "output_type": "stream",
     "text": [
      "[1] FALSE  TRUE\n"
     ]
    }
   ],
   "source": [
    "list1 <- c(TRUE, 0.1)\n",
    "list2 <- c(0,4+3i)\n",
    "print(list1 & list2)"
   ]
  },
  {
   "cell_type": "markdown",
   "metadata": {},
   "source": [
    "#### Element-wise Logical OR operator (|)\n",
    "Returns True if either of the operands are True."
   ]
  },
  {
   "cell_type": "code",
   "execution_count": 19,
   "metadata": {
    "vscode": {
     "languageId": "r"
    }
   },
   "outputs": [
    {
     "name": "stdout",
     "output_type": "stream",
     "text": [
      "[1] TRUE TRUE\n"
     ]
    }
   ],
   "source": [
    "print(list1|list2)"
   ]
  },
  {
   "cell_type": "markdown",
   "metadata": {},
   "source": [
    "#### NOT operator (!)\n",
    "A unary operator that negates the status of the elements of the operand."
   ]
  },
  {
   "cell_type": "code",
   "execution_count": 20,
   "metadata": {
    "vscode": {
     "languageId": "r"
    }
   },
   "outputs": [
    {
     "name": "stdout",
     "output_type": "stream",
     "text": [
      "[1]  TRUE FALSE\n"
     ]
    }
   ],
   "source": [
    "print(!list2)"
   ]
  },
  {
   "cell_type": "markdown",
   "metadata": {},
   "source": [
    "#### Logical AND operator (&&)\n",
    "Returns True if both the first elements of the operands are True."
   ]
  },
  {
   "cell_type": "code",
   "execution_count": 21,
   "metadata": {
    "vscode": {
     "languageId": "r"
    }
   },
   "outputs": [
    {
     "name": "stderr",
     "output_type": "stream",
     "text": [
      "Warning message in list1 && list2:\n",
      "\"'length(x) = 2 > 1' in coercion to 'logical(1)'\"\n",
      "Warning message in list1 && list2:\n",
      "\"'length(x) = 2 > 1' in coercion to 'logical(1)'\"\n"
     ]
    },
    {
     "name": "stdout",
     "output_type": "stream",
     "text": [
      "[1] FALSE\n"
     ]
    }
   ],
   "source": [
    "print(list1 && list2)"
   ]
  },
  {
   "cell_type": "markdown",
   "metadata": {},
   "source": [
    "#### Logical OR operator (||)\n",
    "Returns True if either of the first elements of the operands are True."
   ]
  },
  {
   "cell_type": "code",
   "execution_count": 22,
   "metadata": {
    "vscode": {
     "languageId": "r"
    }
   },
   "outputs": [
    {
     "name": "stderr",
     "output_type": "stream",
     "text": [
      "Warning message in list1 || list2:\n",
      "\"'length(x) = 2 > 1' in coercion to 'logical(1)'\"\n"
     ]
    },
    {
     "name": "stdout",
     "output_type": "stream",
     "text": [
      "[1] TRUE\n"
     ]
    }
   ],
   "source": [
    "print(list1||list2)"
   ]
  },
  {
   "cell_type": "markdown",
   "metadata": {},
   "source": [
    "<a id='booleans'></a>\n",
    "\n",
    "## Booleans\n",
    "There is just one type of boolean type in R, of course, with values: `TRUE` & `FALSE`.  \n",
    " ### Comparison operators\n",
    " They work for majority of types, but operators must be of the same type or can be converted into some wider type.  \n",
    " \n",
    "| Operation | Symbol |\n",
    "| :- | :-: |\n",
    "| Equal | == |\n",
    "| Not equal | != |\n",
    "| Greater than | > |\n",
    "| Less than | > |\n",
    "| Greater than or equal to | >= |\n",
    "| Less than or equal to | <= |  \n",
    "\n",
    "\n",
    "### Membership operator\n",
    "Membership operator is used to check if a specific item is present in the vector or the list."
   ]
  },
  {
   "cell_type": "code",
   "execution_count": 23,
   "metadata": {
    "vscode": {
     "languageId": "r"
    }
   },
   "outputs": [
    {
     "data": {
      "text/html": [
       "FALSE"
      ],
      "text/latex": [
       "FALSE"
      ],
      "text/markdown": [
       "FALSE"
      ],
      "text/plain": [
       "[1] FALSE"
      ]
     },
     "metadata": {},
     "output_type": "display_data"
    },
    {
     "data": {
      "text/html": [
       "TRUE"
      ],
      "text/latex": [
       "TRUE"
      ],
      "text/markdown": [
       "TRUE"
      ],
      "text/plain": [
       "[1] TRUE"
      ]
     },
     "metadata": {},
     "output_type": "display_data"
    }
   ],
   "source": [
    "5 %in% c(1, 2, 3, 4, 7)\n",
    "3 %in% c(1, 2, 3, 4, 7)"
   ]
  },
  {
   "cell_type": "markdown",
   "metadata": {},
   "source": [
    "<a id='sequences'></a>\n",
    "\n",
    "## Iterables\n",
    "In R programming, sequences are a generic term for an ordered set which means that the order in which we input the items will be the same when we access them.  \n",
    "R supports several different types of sequences. Ex. `vector`, `matrix`, `list`, `factor`, `data.frame`.  "
   ]
  },
  {
   "cell_type": "code",
   "execution_count": 24,
   "metadata": {
    "vscode": {
     "languageId": "r"
    }
   },
   "outputs": [
    {
     "name": "stdout",
     "output_type": "stream",
     "text": [
      "[1] 1\n",
      "[1] 5\n",
      "[1] 4\n",
      "[1] 9\n",
      "[1] 0\n",
      "[1] 1\n",
      "[1] 2\n",
      "[1] 3\n",
      "[1] 4\n",
      "[1] 5\n",
      "[1] 6\n",
      "[1] 7\n",
      "[1] 8\n",
      "[1] 9\n",
      "[1] 2.5\n",
      "[1] TRUE\n",
      "[1] 1 2 3\n",
      "[1] \"single\"\n",
      "[1] \"married\"\n",
      "[1] \"married\"\n",
      "[1] \"single\"\n",
      "[1] 1 2\n",
      "[1] 21 15\n",
      "[1] \"John\" \"Dora\"\n"
     ]
    }
   ],
   "source": [
    "# vector iterating\n",
    "v <- c(1, 5, 4, 9, 0)\n",
    "for( a in v)\n",
    "    print(a)\n",
    "\n",
    "# matrix iterating\n",
    "m <- matrix(1:9, nrow = 3, ncol = 3)\n",
    "for( a in m)\n",
    "    print(a)\n",
    "\n",
    "# list iterating\n",
    "l <- list(\"a\" = 2.5, \"b\" = TRUE, \"c\" = 1:3)\n",
    "for( a in l)\n",
    "    print(a)\n",
    "\n",
    "# factor iterating\n",
    "f <- factor(c(\"single\", \"married\", \"married\", \"single\"))\n",
    "for( a in f)\n",
    "    print(a)\n",
    "\n",
    "# data frame\n",
    "df <- data.frame(\"SN\" = 1:2, \"Age\" = c(21,15), \"Name\" = c(\"John\",\"Dora\"))\n",
    "for( a in df)\n",
    "    print(a)"
   ]
  },
  {
   "cell_type": "markdown",
   "metadata": {},
   "source": [
    "<a id='lists'></a>\n",
    "\n",
    "## Lists  \n",
    "List is a data structure having components of mixed data types. List can be created using the list() function."
   ]
  },
  {
   "cell_type": "code",
   "execution_count": 25,
   "metadata": {
    "vscode": {
     "languageId": "r"
    }
   },
   "outputs": [
    {
     "name": "stdout",
     "output_type": "stream",
     "text": [
      "List of 3\n",
      " $ a: num 2.5\n",
      " $ b: logi TRUE\n",
      " $ c: int [1:3] 1 2 3\n"
     ]
    },
    {
     "data": {
      "text/html": [
       "TRUE"
      ],
      "text/latex": [
       "TRUE"
      ],
      "text/markdown": [
       "TRUE"
      ],
      "text/plain": [
       "[1] TRUE"
      ]
     },
     "metadata": {},
     "output_type": "display_data"
    },
    {
     "data": {
      "text/html": [
       "2.5"
      ],
      "text/latex": [
       "2.5"
      ],
      "text/markdown": [
       "2.5"
      ],
      "text/plain": [
       "[1] 2.5"
      ]
     },
     "metadata": {},
     "output_type": "display_data"
    }
   ],
   "source": [
    "x <- list(\"a\" = 2.5, \"b\" = TRUE, \"c\" = 1:3)\n",
    "str(x)\n",
    "x$b\n",
    "x[['a']]"
   ]
  },
  {
   "cell_type": "markdown",
   "metadata": {},
   "source": [
    "In this example, a, b and c are called tags which makes it easier to reference the components of the list.  \n",
    "  \n",
    "However, tags are optional. We can create the same list without the tags as follows. In such scenario, numeric indices are used by default."
   ]
  },
  {
   "cell_type": "code",
   "execution_count": 26,
   "metadata": {
    "vscode": {
     "languageId": "r"
    }
   },
   "outputs": [
    {
     "name": "stdout",
     "output_type": "stream",
     "text": [
      "List of 3\n",
      " $ : num 2.5\n",
      " $ : logi TRUE\n",
      " $ : int [1:3] 1 2 3\n"
     ]
    },
    {
     "data": {
      "text/html": [
       "<ol>\n",
       "\t<li><style>\n",
       ".list-inline {list-style: none; margin:0; padding: 0}\n",
       ".list-inline>li {display: inline-block}\n",
       ".list-inline>li:not(:last-child)::after {content: \"\\00b7\"; padding: 0 .5ex}\n",
       "</style>\n",
       "<ol class=list-inline><li>1</li><li>2</li><li>3</li></ol>\n",
       "</li>\n",
       "</ol>\n"
      ],
      "text/latex": [
       "\\begin{enumerate}\n",
       "\\item \\begin{enumerate*}\n",
       "\\item 1\n",
       "\\item 2\n",
       "\\item 3\n",
       "\\end{enumerate*}\n",
       "\n",
       "\\end{enumerate}\n"
      ],
      "text/markdown": [
       "1. 1. 1\n",
       "2. 2\n",
       "3. 3\n",
       "\n",
       "\n",
       "\n",
       "\n",
       "\n"
      ],
      "text/plain": [
       "[[1]]\n",
       "[1] 1 2 3\n"
      ]
     },
     "metadata": {},
     "output_type": "display_data"
    },
    {
     "data": {
      "text/html": [
       "<ol>\n",
       "\t<li>2.5</li>\n",
       "\t<li>TRUE</li>\n",
       "</ol>\n"
      ],
      "text/latex": [
       "\\begin{enumerate}\n",
       "\\item 2.5\n",
       "\\item TRUE\n",
       "\\end{enumerate}\n"
      ],
      "text/markdown": [
       "1. 2.5\n",
       "2. TRUE\n",
       "\n",
       "\n"
      ],
      "text/plain": [
       "[[1]]\n",
       "[1] 2.5\n",
       "\n",
       "[[2]]\n",
       "[1] TRUE\n"
      ]
     },
     "metadata": {},
     "output_type": "display_data"
    }
   ],
   "source": [
    "x <- list(2.5,TRUE,1:3)\n",
    "str(x)\n",
    "x[3]\n",
    "x[c(T, T, F)]"
   ]
  },
  {
   "cell_type": "markdown",
   "metadata": {},
   "source": [
    "Modify, add, remove elements in lists."
   ]
  },
  {
   "cell_type": "code",
   "execution_count": 27,
   "metadata": {
    "vscode": {
     "languageId": "r"
    }
   },
   "outputs": [
    {
     "data": {
      "text/html": [
       "<dl>\n",
       "\t<dt>[[1]]</dt>\n",
       "\t\t<dd>2.5</dd>\n",
       "\t<dt>[[2]]</dt>\n",
       "\t\t<dd>TRUE</dd>\n",
       "\t<dt>[[3]]</dt>\n",
       "\t\t<dd><style>\n",
       ".list-inline {list-style: none; margin:0; padding: 0}\n",
       ".list-inline>li {display: inline-block}\n",
       ".list-inline>li:not(:last-child)::after {content: \"\\00b7\"; padding: 0 .5ex}\n",
       "</style>\n",
       "<ol class=list-inline><li>1</li><li>2</li><li>3</li></ol>\n",
       "</dd>\n",
       "\t<dt>$a</dt>\n",
       "\t\t<dd>3</dd>\n",
       "\t<dt>$d</dt>\n",
       "\t\t<dd>'Clair'</dd>\n",
       "</dl>\n"
      ],
      "text/latex": [
       "\\begin{description}\n",
       "\\item[{[[1]]}] 2.5\n",
       "\\item[{[[2]]}] TRUE\n",
       "\\item[{[[3]]}] \\begin{enumerate*}\n",
       "\\item 1\n",
       "\\item 2\n",
       "\\item 3\n",
       "\\end{enumerate*}\n",
       "\n",
       "\\item[\\$a] 3\n",
       "\\item[\\$d] 'Clair'\n",
       "\\end{description}\n"
      ],
      "text/markdown": [
       "[[1]]\n",
       ":   2.5\n",
       "[[2]]\n",
       ":   TRUE\n",
       "[[3]]\n",
       ":   1. 1\n",
       "2. 2\n",
       "3. 3\n",
       "\n",
       "\n",
       "\n",
       "$a\n",
       ":   3\n",
       "$d\n",
       ":   'Clair'\n",
       "\n",
       "\n"
      ],
      "text/plain": [
       "[[1]]\n",
       "[1] 2.5\n",
       "\n",
       "[[2]]\n",
       "[1] TRUE\n",
       "\n",
       "[[3]]\n",
       "[1] 1 2 3\n",
       "\n",
       "$a\n",
       "[1] 3\n",
       "\n",
       "$d\n",
       "[1] \"Clair\"\n"
      ]
     },
     "metadata": {},
     "output_type": "display_data"
    },
    {
     "data": {
      "text/html": [
       "<dl>\n",
       "\t<dt>[[1]]</dt>\n",
       "\t\t<dd>2.5</dd>\n",
       "\t<dt>[[2]]</dt>\n",
       "\t\t<dd>TRUE</dd>\n",
       "\t<dt>[[3]]</dt>\n",
       "\t\t<dd><style>\n",
       ".list-inline {list-style: none; margin:0; padding: 0}\n",
       ".list-inline>li {display: inline-block}\n",
       ".list-inline>li:not(:last-child)::after {content: \"\\00b7\"; padding: 0 .5ex}\n",
       "</style>\n",
       "<ol class=list-inline><li>1</li><li>2</li><li>3</li></ol>\n",
       "</dd>\n",
       "\t<dt>$a</dt>\n",
       "\t\t<dd>3</dd>\n",
       "</dl>\n"
      ],
      "text/latex": [
       "\\begin{description}\n",
       "\\item[{[[1]]}] 2.5\n",
       "\\item[{[[2]]}] TRUE\n",
       "\\item[{[[3]]}] \\begin{enumerate*}\n",
       "\\item 1\n",
       "\\item 2\n",
       "\\item 3\n",
       "\\end{enumerate*}\n",
       "\n",
       "\\item[\\$a] 3\n",
       "\\end{description}\n"
      ],
      "text/markdown": [
       "[[1]]\n",
       ":   2.5\n",
       "[[2]]\n",
       ":   TRUE\n",
       "[[3]]\n",
       ":   1. 1\n",
       "2. 2\n",
       "3. 3\n",
       "\n",
       "\n",
       "\n",
       "$a\n",
       ":   3\n",
       "\n",
       "\n"
      ],
      "text/plain": [
       "[[1]]\n",
       "[1] 2.5\n",
       "\n",
       "[[2]]\n",
       "[1] TRUE\n",
       "\n",
       "[[3]]\n",
       "[1] 1 2 3\n",
       "\n",
       "$a\n",
       "[1] 3\n"
      ]
     },
     "metadata": {},
     "output_type": "display_data"
    }
   ],
   "source": [
    "x$a = 3\n",
    "x[[\"d\"]] <- \"Clair\"\n",
    "x\n",
    "x$d <- NULL\n",
    "x"
   ]
  },
  {
   "cell_type": "markdown",
   "metadata": {},
   "source": [
    "<a id='vectors'></a>\n",
    "\n",
    "## Vectors\n",
    "Vector is a basic data structure in R. It contains element of the same type. Vectors are generally created using the c() function."
   ]
  },
  {
   "cell_type": "code",
   "execution_count": 28,
   "metadata": {
    "vscode": {
     "languageId": "r"
    }
   },
   "outputs": [
    {
     "data": {
      "text/html": [
       "'double'"
      ],
      "text/latex": [
       "'double'"
      ],
      "text/markdown": [
       "'double'"
      ],
      "text/plain": [
       "[1] \"double\""
      ]
     },
     "metadata": {},
     "output_type": "display_data"
    },
    {
     "data": {
      "text/html": [
       "5"
      ],
      "text/latex": [
       "5"
      ],
      "text/markdown": [
       "5"
      ],
      "text/plain": [
       "[1] 5"
      ]
     },
     "metadata": {},
     "output_type": "display_data"
    },
    {
     "data": {
      "text/html": [
       "<style>\n",
       ".list-inline {list-style: none; margin:0; padding: 0}\n",
       ".list-inline>li {display: inline-block}\n",
       ".list-inline>li:not(:last-child)::after {content: \"\\00b7\"; padding: 0 .5ex}\n",
       "</style>\n",
       "<ol class=list-inline><li>'1'</li><li>'5.4'</li><li>'TRUE'</li><li>'hello'</li></ol>\n"
      ],
      "text/latex": [
       "\\begin{enumerate*}\n",
       "\\item '1'\n",
       "\\item '5.4'\n",
       "\\item 'TRUE'\n",
       "\\item 'hello'\n",
       "\\end{enumerate*}\n"
      ],
      "text/markdown": [
       "1. '1'\n",
       "2. '5.4'\n",
       "3. 'TRUE'\n",
       "4. 'hello'\n",
       "\n",
       "\n"
      ],
      "text/plain": [
       "[1] \"1\"     \"5.4\"   \"TRUE\"  \"hello\""
      ]
     },
     "metadata": {},
     "output_type": "display_data"
    },
    {
     "data": {
      "text/html": [
       "'character'"
      ],
      "text/latex": [
       "'character'"
      ],
      "text/markdown": [
       "'character'"
      ],
      "text/plain": [
       "[1] \"character\""
      ]
     },
     "metadata": {},
     "output_type": "display_data"
    }
   ],
   "source": [
    "v1 <- c(1, 5, 4, 9, 0)\n",
    "typeof(v1)\n",
    "length(v1)\n",
    "\n",
    "v2 <- c(1, 5.4, TRUE, \"hello\")\n",
    "v2\n",
    "typeof(v2)"
   ]
  },
  {
   "cell_type": "markdown",
   "metadata": {},
   "source": [
    "- Creating a vector using : operator"
   ]
  },
  {
   "cell_type": "code",
   "execution_count": 29,
   "metadata": {
    "vscode": {
     "languageId": "r"
    }
   },
   "outputs": [
    {
     "data": {
      "text/html": [
       "<style>\n",
       ".list-inline {list-style: none; margin:0; padding: 0}\n",
       ".list-inline>li {display: inline-block}\n",
       ".list-inline>li:not(:last-child)::after {content: \"\\00b7\"; padding: 0 .5ex}\n",
       "</style>\n",
       "<ol class=list-inline><li>1</li><li>2</li><li>3</li><li>4</li><li>5</li><li>6</li><li>7</li></ol>\n"
      ],
      "text/latex": [
       "\\begin{enumerate*}\n",
       "\\item 1\n",
       "\\item 2\n",
       "\\item 3\n",
       "\\item 4\n",
       "\\item 5\n",
       "\\item 6\n",
       "\\item 7\n",
       "\\end{enumerate*}\n"
      ],
      "text/markdown": [
       "1. 1\n",
       "2. 2\n",
       "3. 3\n",
       "4. 4\n",
       "5. 5\n",
       "6. 6\n",
       "7. 7\n",
       "\n",
       "\n"
      ],
      "text/plain": [
       "[1] 1 2 3 4 5 6 7"
      ]
     },
     "metadata": {},
     "output_type": "display_data"
    },
    {
     "data": {
      "text/html": [
       "<style>\n",
       ".list-inline {list-style: none; margin:0; padding: 0}\n",
       ".list-inline>li {display: inline-block}\n",
       ".list-inline>li:not(:last-child)::after {content: \"\\00b7\"; padding: 0 .5ex}\n",
       "</style>\n",
       "<ol class=list-inline><li>2</li><li>1</li><li>0</li><li>-1</li><li>-2</li></ol>\n"
      ],
      "text/latex": [
       "\\begin{enumerate*}\n",
       "\\item 2\n",
       "\\item 1\n",
       "\\item 0\n",
       "\\item -1\n",
       "\\item -2\n",
       "\\end{enumerate*}\n"
      ],
      "text/markdown": [
       "1. 2\n",
       "2. 1\n",
       "3. 0\n",
       "4. -1\n",
       "5. -2\n",
       "\n",
       "\n"
      ],
      "text/plain": [
       "[1]  2  1  0 -1 -2"
      ]
     },
     "metadata": {},
     "output_type": "display_data"
    }
   ],
   "source": [
    "v3 <- 1:7; v3\n",
    "v4 <- 2:-2; v4"
   ]
  },
  {
   "cell_type": "markdown",
   "metadata": {},
   "source": [
    "- Creating a vector using seq() function"
   ]
  },
  {
   "cell_type": "code",
   "execution_count": 30,
   "metadata": {
    "vscode": {
     "languageId": "r"
    }
   },
   "outputs": [
    {
     "data": {
      "text/html": [
       "<style>\n",
       ".list-inline {list-style: none; margin:0; padding: 0}\n",
       ".list-inline>li {display: inline-block}\n",
       ".list-inline>li:not(:last-child)::after {content: \"\\00b7\"; padding: 0 .5ex}\n",
       "</style>\n",
       "<ol class=list-inline><li>1</li><li>1.2</li><li>1.4</li><li>1.6</li><li>1.8</li><li>2</li><li>2.2</li><li>2.4</li><li>2.6</li><li>2.8</li><li>3</li></ol>\n"
      ],
      "text/latex": [
       "\\begin{enumerate*}\n",
       "\\item 1\n",
       "\\item 1.2\n",
       "\\item 1.4\n",
       "\\item 1.6\n",
       "\\item 1.8\n",
       "\\item 2\n",
       "\\item 2.2\n",
       "\\item 2.4\n",
       "\\item 2.6\n",
       "\\item 2.8\n",
       "\\item 3\n",
       "\\end{enumerate*}\n"
      ],
      "text/markdown": [
       "1. 1\n",
       "2. 1.2\n",
       "3. 1.4\n",
       "4. 1.6\n",
       "5. 1.8\n",
       "6. 2\n",
       "7. 2.2\n",
       "8. 2.4\n",
       "9. 2.6\n",
       "10. 2.8\n",
       "11. 3\n",
       "\n",
       "\n"
      ],
      "text/plain": [
       " [1] 1.0 1.2 1.4 1.6 1.8 2.0 2.2 2.4 2.6 2.8 3.0"
      ]
     },
     "metadata": {},
     "output_type": "display_data"
    },
    {
     "data": {
      "text/html": [
       "<style>\n",
       ".list-inline {list-style: none; margin:0; padding: 0}\n",
       ".list-inline>li {display: inline-block}\n",
       ".list-inline>li:not(:last-child)::after {content: \"\\00b7\"; padding: 0 .5ex}\n",
       "</style>\n",
       "<ol class=list-inline><li>1</li><li>2.33333333333333</li><li>3.66666666666667</li><li>5</li></ol>\n"
      ],
      "text/latex": [
       "\\begin{enumerate*}\n",
       "\\item 1\n",
       "\\item 2.33333333333333\n",
       "\\item 3.66666666666667\n",
       "\\item 5\n",
       "\\end{enumerate*}\n"
      ],
      "text/markdown": [
       "1. 1\n",
       "2. 2.33333333333333\n",
       "3. 3.66666666666667\n",
       "4. 5\n",
       "\n",
       "\n"
      ],
      "text/plain": [
       "[1] 1.000000 2.333333 3.666667 5.000000"
      ]
     },
     "metadata": {},
     "output_type": "display_data"
    }
   ],
   "source": [
    "# specify step size\n",
    "v5 <- seq(1, 3, by=0.2); v5\n",
    "# specify length of the vector\n",
    "v6 <- seq(1, 5, length.out=4); v6"
   ]
  },
  {
   "cell_type": "markdown",
   "metadata": {},
   "source": [
    "#### How to access Elements of a Vector?\n",
    "Elements of a vector can be accessed using vector indexing. The vector used for indexing can be logical, integer or character vector."
   ]
  },
  {
   "cell_type": "markdown",
   "metadata": {},
   "source": [
    "- Using integer vector as index"
   ]
  },
  {
   "cell_type": "code",
   "execution_count": 31,
   "metadata": {
    "vscode": {
     "languageId": "r"
    }
   },
   "outputs": [
    {
     "data": {
      "text/html": [
       "<style>\n",
       ".list-inline {list-style: none; margin:0; padding: 0}\n",
       ".list-inline>li {display: inline-block}\n",
       ".list-inline>li:not(:last-child)::after {content: \"\\00b7\"; padding: 0 .5ex}\n",
       "</style>\n",
       "<ol class=list-inline><li>1</li><li>5</li><li>4</li><li>9</li><li>0</li></ol>\n"
      ],
      "text/latex": [
       "\\begin{enumerate*}\n",
       "\\item 1\n",
       "\\item 5\n",
       "\\item 4\n",
       "\\item 9\n",
       "\\item 0\n",
       "\\end{enumerate*}\n"
      ],
      "text/markdown": [
       "1. 1\n",
       "2. 5\n",
       "3. 4\n",
       "4. 9\n",
       "5. 0\n",
       "\n",
       "\n"
      ],
      "text/plain": [
       "[1] 1 5 4 9 0"
      ]
     },
     "metadata": {},
     "output_type": "display_data"
    },
    {
     "data": {
      "text/html": [
       "4"
      ],
      "text/latex": [
       "4"
      ],
      "text/markdown": [
       "4"
      ],
      "text/plain": [
       "[1] 4"
      ]
     },
     "metadata": {},
     "output_type": "display_data"
    },
    {
     "data": {
      "text/html": [
       "<style>\n",
       ".list-inline {list-style: none; margin:0; padding: 0}\n",
       ".list-inline>li {display: inline-block}\n",
       ".list-inline>li:not(:last-child)::after {content: \"\\00b7\"; padding: 0 .5ex}\n",
       "</style>\n",
       "<ol class=list-inline><li>5</li><li>9</li></ol>\n"
      ],
      "text/latex": [
       "\\begin{enumerate*}\n",
       "\\item 5\n",
       "\\item 9\n",
       "\\end{enumerate*}\n"
      ],
      "text/markdown": [
       "1. 5\n",
       "2. 9\n",
       "\n",
       "\n"
      ],
      "text/plain": [
       "[1] 5 9"
      ]
     },
     "metadata": {},
     "output_type": "display_data"
    },
    {
     "data": {
      "text/html": [
       "<style>\n",
       ".list-inline {list-style: none; margin:0; padding: 0}\n",
       ".list-inline>li {display: inline-block}\n",
       ".list-inline>li:not(:last-child)::after {content: \"\\00b7\"; padding: 0 .5ex}\n",
       "</style>\n",
       "<ol class=list-inline><li>5</li><li>4</li><li>9</li><li>0</li></ol>\n"
      ],
      "text/latex": [
       "\\begin{enumerate*}\n",
       "\\item 5\n",
       "\\item 4\n",
       "\\item 9\n",
       "\\item 0\n",
       "\\end{enumerate*}\n"
      ],
      "text/markdown": [
       "1. 5\n",
       "2. 4\n",
       "3. 9\n",
       "4. 0\n",
       "\n",
       "\n"
      ],
      "text/plain": [
       "[1] 5 4 9 0"
      ]
     },
     "metadata": {},
     "output_type": "display_data"
    }
   ],
   "source": [
    "v1\n",
    "# access 3rd element\n",
    "v1[3]\n",
    "# access 2nd and 4th element\n",
    "v1[c(2, 4)]\n",
    "# access all but 1st element\n",
    "v1[-1]   "
   ]
  },
  {
   "cell_type": "markdown",
   "metadata": {},
   "source": [
    "- Using logical vector as index"
   ]
  },
  {
   "cell_type": "code",
   "execution_count": 32,
   "metadata": {
    "vscode": {
     "languageId": "r"
    }
   },
   "outputs": [
    {
     "data": {
      "text/html": [
       "<style>\n",
       ".list-inline {list-style: none; margin:0; padding: 0}\n",
       ".list-inline>li {display: inline-block}\n",
       ".list-inline>li:not(:last-child)::after {content: \"\\00b7\"; padding: 0 .5ex}\n",
       "</style>\n",
       "<ol class=list-inline><li>1</li><li>9</li><li>0</li></ol>\n"
      ],
      "text/latex": [
       "\\begin{enumerate*}\n",
       "\\item 1\n",
       "\\item 9\n",
       "\\item 0\n",
       "\\end{enumerate*}\n"
      ],
      "text/markdown": [
       "1. 1\n",
       "2. 9\n",
       "3. 0\n",
       "\n",
       "\n"
      ],
      "text/plain": [
       "[1] 1 9 0"
      ]
     },
     "metadata": {},
     "output_type": "display_data"
    },
    {
     "data": {
      "text/html": [
       "<style>\n",
       ".list-inline {list-style: none; margin:0; padding: 0}\n",
       ".list-inline>li {display: inline-block}\n",
       ".list-inline>li:not(:last-child)::after {content: \"\\00b7\"; padding: 0 .5ex}\n",
       "</style>\n",
       "<ol class=list-inline><li>1</li><li>4</li><li>0</li></ol>\n"
      ],
      "text/latex": [
       "\\begin{enumerate*}\n",
       "\\item 1\n",
       "\\item 4\n",
       "\\item 0\n",
       "\\end{enumerate*}\n"
      ],
      "text/markdown": [
       "1. 1\n",
       "2. 4\n",
       "3. 0\n",
       "\n",
       "\n"
      ],
      "text/plain": [
       "[1] 1 4 0"
      ]
     },
     "metadata": {},
     "output_type": "display_data"
    }
   ],
   "source": [
    "v1[c(TRUE, FALSE, FALSE, TRUE)]\n",
    "# filtering vectors based on conditions\n",
    "v1[v1 < 5]"
   ]
  },
  {
   "cell_type": "markdown",
   "metadata": {},
   "source": [
    "- Using character vector as index  \n",
    "This type of indexing is useful when dealing with named vectors. We can name each element of a vector."
   ]
  },
  {
   "cell_type": "code",
   "execution_count": 33,
   "metadata": {
    "vscode": {
     "languageId": "r"
    }
   },
   "outputs": [
    {
     "data": {
      "text/html": [
       "<style>\n",
       ".list-inline {list-style: none; margin:0; padding: 0}\n",
       ".list-inline>li {display: inline-block}\n",
       ".list-inline>li:not(:last-child)::after {content: \"\\00b7\"; padding: 0 .5ex}\n",
       "</style>\n",
       "<ol class=list-inline><li>'first'</li><li>'second'</li><li>'third'</li></ol>\n"
      ],
      "text/latex": [
       "\\begin{enumerate*}\n",
       "\\item 'first'\n",
       "\\item 'second'\n",
       "\\item 'third'\n",
       "\\end{enumerate*}\n"
      ],
      "text/markdown": [
       "1. 'first'\n",
       "2. 'second'\n",
       "3. 'third'\n",
       "\n",
       "\n"
      ],
      "text/plain": [
       "[1] \"first\"  \"second\" \"third\" "
      ]
     },
     "metadata": {},
     "output_type": "display_data"
    },
    {
     "data": {
      "text/html": [
       "<strong>second:</strong> 0"
      ],
      "text/latex": [
       "\\textbf{second:} 0"
      ],
      "text/markdown": [
       "**second:** 0"
      ],
      "text/plain": [
       "second \n",
       "     0 "
      ]
     },
     "metadata": {},
     "output_type": "display_data"
    },
    {
     "data": {
      "text/html": [
       "<style>\n",
       ".dl-inline {width: auto; margin:0; padding: 0}\n",
       ".dl-inline>dt, .dl-inline>dd {float: none; width: auto; display: inline-block}\n",
       ".dl-inline>dt::after {content: \":\\0020\"; padding-right: .5ex}\n",
       ".dl-inline>dt:not(:first-of-type) {padding-left: .5ex}\n",
       "</style><dl class=dl-inline><dt>first</dt><dd>3</dd><dt>third</dt><dd>9</dd></dl>\n"
      ],
      "text/latex": [
       "\\begin{description*}\n",
       "\\item[first] 3\n",
       "\\item[third] 9\n",
       "\\end{description*}\n"
      ],
      "text/markdown": [
       "first\n",
       ":   3third\n",
       ":   9\n",
       "\n"
      ],
      "text/plain": [
       "first third \n",
       "    3     9 "
      ]
     },
     "metadata": {},
     "output_type": "display_data"
    }
   ],
   "source": [
    "x <- c(\"first\"=3, \"second\"=0, \"third\"=9)\n",
    "\n",
    "names(x)\n",
    "x[\"second\"]\n",
    "x[c(\"first\", \"third\")]"
   ]
  },
  {
   "cell_type": "markdown",
   "metadata": {},
   "source": [
    "#### How to modify a vector in R?"
   ]
  },
  {
   "cell_type": "code",
   "execution_count": 34,
   "metadata": {
    "vscode": {
     "languageId": "r"
    }
   },
   "outputs": [
    {
     "data": {
      "text/html": [
       "<style>\n",
       ".list-inline {list-style: none; margin:0; padding: 0}\n",
       ".list-inline>li {display: inline-block}\n",
       ".list-inline>li:not(:last-child)::after {content: \"\\00b7\"; padding: 0 .5ex}\n",
       "</style>\n",
       "<ol class=list-inline><li>-3</li><li>0</li><li>-1</li><li>0</li><li>1</li><li>2</li></ol>\n"
      ],
      "text/latex": [
       "\\begin{enumerate*}\n",
       "\\item -3\n",
       "\\item 0\n",
       "\\item -1\n",
       "\\item 0\n",
       "\\item 1\n",
       "\\item 2\n",
       "\\end{enumerate*}\n"
      ],
      "text/markdown": [
       "1. -3\n",
       "2. 0\n",
       "3. -1\n",
       "4. 0\n",
       "5. 1\n",
       "6. 2\n",
       "\n",
       "\n"
      ],
      "text/plain": [
       "[1] -3  0 -1  0  1  2"
      ]
     },
     "metadata": {},
     "output_type": "display_data"
    },
    {
     "data": {
      "text/html": [
       "<style>\n",
       ".list-inline {list-style: none; margin:0; padding: 0}\n",
       ".list-inline>li {display: inline-block}\n",
       ".list-inline>li:not(:last-child)::after {content: \"\\00b7\"; padding: 0 .5ex}\n",
       "</style>\n",
       "<ol class=list-inline><li>5</li><li>0</li><li>5</li><li>0</li><li>1</li><li>2</li></ol>\n"
      ],
      "text/latex": [
       "\\begin{enumerate*}\n",
       "\\item 5\n",
       "\\item 0\n",
       "\\item 5\n",
       "\\item 0\n",
       "\\item 1\n",
       "\\item 2\n",
       "\\end{enumerate*}\n"
      ],
      "text/markdown": [
       "1. 5\n",
       "2. 0\n",
       "3. 5\n",
       "4. 0\n",
       "5. 1\n",
       "6. 2\n",
       "\n",
       "\n"
      ],
      "text/plain": [
       "[1] 5 0 5 0 1 2"
      ]
     },
     "metadata": {},
     "output_type": "display_data"
    },
    {
     "data": {
      "text/html": [
       "<style>\n",
       ".list-inline {list-style: none; margin:0; padding: 0}\n",
       ".list-inline>li {display: inline-block}\n",
       ".list-inline>li:not(:last-child)::after {content: \"\\00b7\"; padding: 0 .5ex}\n",
       "</style>\n",
       "<ol class=list-inline><li>5</li><li>0</li><li>5</li><li>0</li></ol>\n"
      ],
      "text/latex": [
       "\\begin{enumerate*}\n",
       "\\item 5\n",
       "\\item 0\n",
       "\\item 5\n",
       "\\item 0\n",
       "\\end{enumerate*}\n"
      ],
      "text/markdown": [
       "1. 5\n",
       "2. 0\n",
       "3. 5\n",
       "4. 0\n",
       "\n",
       "\n"
      ],
      "text/plain": [
       "[1] 5 0 5 0"
      ]
     },
     "metadata": {},
     "output_type": "display_data"
    },
    {
     "data": {
      "text/html": [
       "<style>\n",
       ".list-inline {list-style: none; margin:0; padding: 0}\n",
       ".list-inline>li {display: inline-block}\n",
       ".list-inline>li:not(:last-child)::after {content: \"\\00b7\"; padding: 0 .5ex}\n",
       "</style>\n",
       "<ol class=list-inline><li>5</li><li>0</li><li>5</li><li>0</li><li>&lt;NA&gt;</li><li>&lt;NA&gt;</li><li>6</li></ol>\n"
      ],
      "text/latex": [
       "\\begin{enumerate*}\n",
       "\\item 5\n",
       "\\item 0\n",
       "\\item 5\n",
       "\\item 0\n",
       "\\item <NA>\n",
       "\\item <NA>\n",
       "\\item 6\n",
       "\\end{enumerate*}\n"
      ],
      "text/markdown": [
       "1. 5\n",
       "2. 0\n",
       "3. 5\n",
       "4. 0\n",
       "5. &lt;NA&gt;\n",
       "6. &lt;NA&gt;\n",
       "7. 6\n",
       "\n",
       "\n"
      ],
      "text/plain": [
       "[1]  5  0  5  0 NA NA  6"
      ]
     },
     "metadata": {},
     "output_type": "display_data"
    },
    {
     "data": {
      "text/plain": [
       "NULL"
      ]
     },
     "metadata": {},
     "output_type": "display_data"
    },
    {
     "data": {
      "text/plain": [
       "NULL"
      ]
     },
     "metadata": {},
     "output_type": "display_data"
    }
   ],
   "source": [
    "x <- c(-3, -2, -1,  0,  1,  2)\n",
    "# modify 2nd element\n",
    "x[2] <- 0; x\n",
    "# modify elements less than 0\n",
    "x[x<0] <- 5; x\n",
    "# truncate x to first 4 elements\n",
    "x <- x[1:4]; x\n",
    "# extending the vector\n",
    "x[7] <- 6; x\n",
    "# remove a value\n",
    "x <- NULL; x; x[4]"
   ]
  },
  {
   "cell_type": "markdown",
   "metadata": {},
   "source": [
    "<a id='matrix'></a>\n",
    "\n",
    "## Matrix\n",
    "Matrix is a two dimensional data structure in R programming. \n",
    "Matrix is similar to vector but additionally contains the dimension attribute. It can be created using the matrix() function."
   ]
  },
  {
   "cell_type": "code",
   "execution_count": 35,
   "metadata": {
    "vscode": {
     "languageId": "r"
    }
   },
   "outputs": [
    {
     "data": {
      "text/html": [
       "<table class=\"dataframe\">\n",
       "<caption>A matrix: 3 × 3 of type int</caption>\n",
       "<tbody>\n",
       "\t<tr><td>1</td><td>4</td><td>7</td></tr>\n",
       "\t<tr><td>2</td><td>5</td><td>8</td></tr>\n",
       "\t<tr><td>3</td><td>6</td><td>9</td></tr>\n",
       "</tbody>\n",
       "</table>\n"
      ],
      "text/latex": [
       "A matrix: 3 × 3 of type int\n",
       "\\begin{tabular}{lll}\n",
       "\t 1 & 4 & 7\\\\\n",
       "\t 2 & 5 & 8\\\\\n",
       "\t 3 & 6 & 9\\\\\n",
       "\\end{tabular}\n"
      ],
      "text/markdown": [
       "\n",
       "A matrix: 3 × 3 of type int\n",
       "\n",
       "| 1 | 4 | 7 |\n",
       "| 2 | 5 | 8 |\n",
       "| 3 | 6 | 9 |\n",
       "\n"
      ],
      "text/plain": [
       "     [,1] [,2] [,3]\n",
       "[1,] 1    4    7   \n",
       "[2,] 2    5    8   \n",
       "[3,] 3    6    9   "
      ]
     },
     "metadata": {},
     "output_type": "display_data"
    },
    {
     "data": {
      "text/html": [
       "<table class=\"dataframe\">\n",
       "<caption>A matrix: 3 × 3 of type int</caption>\n",
       "<tbody>\n",
       "\t<tr><td>1</td><td>4</td><td>7</td></tr>\n",
       "\t<tr><td>2</td><td>5</td><td>8</td></tr>\n",
       "\t<tr><td>3</td><td>6</td><td>9</td></tr>\n",
       "</tbody>\n",
       "</table>\n"
      ],
      "text/latex": [
       "A matrix: 3 × 3 of type int\n",
       "\\begin{tabular}{lll}\n",
       "\t 1 & 4 & 7\\\\\n",
       "\t 2 & 5 & 8\\\\\n",
       "\t 3 & 6 & 9\\\\\n",
       "\\end{tabular}\n"
      ],
      "text/markdown": [
       "\n",
       "A matrix: 3 × 3 of type int\n",
       "\n",
       "| 1 | 4 | 7 |\n",
       "| 2 | 5 | 8 |\n",
       "| 3 | 6 | 9 |\n",
       "\n"
      ],
      "text/plain": [
       "     [,1] [,2] [,3]\n",
       "[1,] 1    4    7   \n",
       "[2,] 2    5    8   \n",
       "[3,] 3    6    9   "
      ]
     },
     "metadata": {},
     "output_type": "display_data"
    },
    {
     "data": {
      "text/html": [
       "<table class=\"dataframe\">\n",
       "<caption>A matrix: 3 × 3 of type int</caption>\n",
       "<tbody>\n",
       "\t<tr><td>1</td><td>2</td><td>3</td></tr>\n",
       "\t<tr><td>4</td><td>5</td><td>6</td></tr>\n",
       "\t<tr><td>7</td><td>8</td><td>9</td></tr>\n",
       "</tbody>\n",
       "</table>\n"
      ],
      "text/latex": [
       "A matrix: 3 × 3 of type int\n",
       "\\begin{tabular}{lll}\n",
       "\t 1 & 2 & 3\\\\\n",
       "\t 4 & 5 & 6\\\\\n",
       "\t 7 & 8 & 9\\\\\n",
       "\\end{tabular}\n"
      ],
      "text/markdown": [
       "\n",
       "A matrix: 3 × 3 of type int\n",
       "\n",
       "| 1 | 2 | 3 |\n",
       "| 4 | 5 | 6 |\n",
       "| 7 | 8 | 9 |\n",
       "\n"
      ],
      "text/plain": [
       "     [,1] [,2] [,3]\n",
       "[1,] 1    2    3   \n",
       "[2,] 4    5    6   \n",
       "[3,] 7    8    9   "
      ]
     },
     "metadata": {},
     "output_type": "display_data"
    },
    {
     "data": {
      "text/html": [
       "<strong>$dim</strong> = <style>\n",
       ".list-inline {list-style: none; margin:0; padding: 0}\n",
       ".list-inline>li {display: inline-block}\n",
       ".list-inline>li:not(:last-child)::after {content: \"\\00b7\"; padding: 0 .5ex}\n",
       "</style>\n",
       "<ol class=list-inline><li>3</li><li>3</li></ol>\n"
      ],
      "text/latex": [
       "\\textbf{\\$dim} = \\begin{enumerate*}\n",
       "\\item 3\n",
       "\\item 3\n",
       "\\end{enumerate*}\n"
      ],
      "text/markdown": [
       "**$dim** = 1. 3\n",
       "2. 3\n",
       "\n",
       "\n"
      ],
      "text/plain": [
       "$dim\n",
       "[1] 3 3\n"
      ]
     },
     "metadata": {},
     "output_type": "display_data"
    },
    {
     "data": {
      "text/html": [
       "<style>\n",
       ".list-inline {list-style: none; margin:0; padding: 0}\n",
       ".list-inline>li {display: inline-block}\n",
       ".list-inline>li:not(:last-child)::after {content: \"\\00b7\"; padding: 0 .5ex}\n",
       "</style>\n",
       "<ol class=list-inline><li>3</li><li>3</li></ol>\n"
      ],
      "text/latex": [
       "\\begin{enumerate*}\n",
       "\\item 3\n",
       "\\item 3\n",
       "\\end{enumerate*}\n"
      ],
      "text/markdown": [
       "1. 3\n",
       "2. 3\n",
       "\n",
       "\n"
      ],
      "text/plain": [
       "[1] 3 3"
      ]
     },
     "metadata": {},
     "output_type": "display_data"
    }
   ],
   "source": [
    "m1 <- matrix(1:9, nrow = 3, ncol = 3); m1\n",
    "# same result is obtained by providing only one dimension\n",
    "matrix(1:9, nrow = 3)\n",
    "# fill matrix row-wise\n",
    "m2 <- matrix(1:9, nrow=3, byrow=TRUE); m2\n",
    "\n",
    "attributes(m1)\n",
    "dim(m1)"
   ]
  },
  {
   "cell_type": "markdown",
   "metadata": {},
   "source": [
    "It is possible to name the rows and columns of matrix during creation by passing a 2 element list to the argument dimnames."
   ]
  },
  {
   "cell_type": "code",
   "execution_count": 36,
   "metadata": {
    "vscode": {
     "languageId": "r"
    }
   },
   "outputs": [
    {
     "data": {
      "text/html": [
       "<table class=\"dataframe\">\n",
       "<caption>A matrix: 3 × 3 of type int</caption>\n",
       "<thead>\n",
       "\t<tr><th></th><th scope=col>A</th><th scope=col>B</th><th scope=col>C</th></tr>\n",
       "</thead>\n",
       "<tbody>\n",
       "\t<tr><th scope=row>X</th><td>1</td><td>4</td><td>7</td></tr>\n",
       "\t<tr><th scope=row>Y</th><td>2</td><td>5</td><td>8</td></tr>\n",
       "\t<tr><th scope=row>Z</th><td>3</td><td>6</td><td>9</td></tr>\n",
       "</tbody>\n",
       "</table>\n"
      ],
      "text/latex": [
       "A matrix: 3 × 3 of type int\n",
       "\\begin{tabular}{r|lll}\n",
       "  & A & B & C\\\\\n",
       "\\hline\n",
       "\tX & 1 & 4 & 7\\\\\n",
       "\tY & 2 & 5 & 8\\\\\n",
       "\tZ & 3 & 6 & 9\\\\\n",
       "\\end{tabular}\n"
      ],
      "text/markdown": [
       "\n",
       "A matrix: 3 × 3 of type int\n",
       "\n",
       "| <!--/--> | A | B | C |\n",
       "|---|---|---|---|\n",
       "| X | 1 | 4 | 7 |\n",
       "| Y | 2 | 5 | 8 |\n",
       "| Z | 3 | 6 | 9 |\n",
       "\n"
      ],
      "text/plain": [
       "  A B C\n",
       "X 1 4 7\n",
       "Y 2 5 8\n",
       "Z 3 6 9"
      ]
     },
     "metadata": {},
     "output_type": "display_data"
    }
   ],
   "source": [
    "m3 <- matrix(1:9, nrow = 3, dimnames = list(c(\"X\",\"Y\",\"Z\"), c(\"A\",\"B\",\"C\")))\n",
    "m3"
   ]
  },
  {
   "cell_type": "markdown",
   "metadata": {},
   "source": [
    "Another way of creating a matrix is by using functions cbind() and rbind() as in column bind and row bind."
   ]
  },
  {
   "cell_type": "code",
   "execution_count": 37,
   "metadata": {
    "vscode": {
     "languageId": "r"
    }
   },
   "outputs": [
    {
     "data": {
      "text/html": [
       "<table class=\"dataframe\">\n",
       "<caption>A matrix: 3 × 2 of type dbl</caption>\n",
       "<tbody>\n",
       "\t<tr><td>1</td><td>4</td></tr>\n",
       "\t<tr><td>2</td><td>5</td></tr>\n",
       "\t<tr><td>3</td><td>6</td></tr>\n",
       "</tbody>\n",
       "</table>\n"
      ],
      "text/latex": [
       "A matrix: 3 × 2 of type dbl\n",
       "\\begin{tabular}{ll}\n",
       "\t 1 & 4\\\\\n",
       "\t 2 & 5\\\\\n",
       "\t 3 & 6\\\\\n",
       "\\end{tabular}\n"
      ],
      "text/markdown": [
       "\n",
       "A matrix: 3 × 2 of type dbl\n",
       "\n",
       "| 1 | 4 |\n",
       "| 2 | 5 |\n",
       "| 3 | 6 |\n",
       "\n"
      ],
      "text/plain": [
       "     [,1] [,2]\n",
       "[1,] 1    4   \n",
       "[2,] 2    5   \n",
       "[3,] 3    6   "
      ]
     },
     "metadata": {},
     "output_type": "display_data"
    },
    {
     "data": {
      "text/html": [
       "<table class=\"dataframe\">\n",
       "<caption>A matrix: 2 × 3 of type dbl</caption>\n",
       "<tbody>\n",
       "\t<tr><td>1</td><td>2</td><td>3</td></tr>\n",
       "\t<tr><td>4</td><td>5</td><td>6</td></tr>\n",
       "</tbody>\n",
       "</table>\n"
      ],
      "text/latex": [
       "A matrix: 2 × 3 of type dbl\n",
       "\\begin{tabular}{lll}\n",
       "\t 1 & 2 & 3\\\\\n",
       "\t 4 & 5 & 6\\\\\n",
       "\\end{tabular}\n"
      ],
      "text/markdown": [
       "\n",
       "A matrix: 2 × 3 of type dbl\n",
       "\n",
       "| 1 | 2 | 3 |\n",
       "| 4 | 5 | 6 |\n",
       "\n"
      ],
      "text/plain": [
       "     [,1] [,2] [,3]\n",
       "[1,] 1    2    3   \n",
       "[2,] 4    5    6   "
      ]
     },
     "metadata": {},
     "output_type": "display_data"
    }
   ],
   "source": [
    "cbind(c(1,2,3),c(4,5,6))\n",
    "\n",
    "rbind(c(1,2,3),c(4,5,6))"
   ]
  },
  {
   "cell_type": "markdown",
   "metadata": {},
   "source": [
    "You can also create a matrix from a vector by setting its dimensions using dim()."
   ]
  },
  {
   "cell_type": "code",
   "execution_count": 38,
   "metadata": {
    "vscode": {
     "languageId": "r"
    }
   },
   "outputs": [
    {
     "data": {
      "text/html": [
       "<style>\n",
       ".list-inline {list-style: none; margin:0; padding: 0}\n",
       ".list-inline>li {display: inline-block}\n",
       ".list-inline>li:not(:last-child)::after {content: \"\\00b7\"; padding: 0 .5ex}\n",
       "</style>\n",
       "<ol class=list-inline><li>1</li><li>2</li><li>3</li><li>4</li><li>5</li><li>6</li></ol>\n"
      ],
      "text/latex": [
       "\\begin{enumerate*}\n",
       "\\item 1\n",
       "\\item 2\n",
       "\\item 3\n",
       "\\item 4\n",
       "\\item 5\n",
       "\\item 6\n",
       "\\end{enumerate*}\n"
      ],
      "text/markdown": [
       "1. 1\n",
       "2. 2\n",
       "3. 3\n",
       "4. 4\n",
       "5. 5\n",
       "6. 6\n",
       "\n",
       "\n"
      ],
      "text/plain": [
       "[1] 1 2 3 4 5 6"
      ]
     },
     "metadata": {},
     "output_type": "display_data"
    },
    {
     "data": {
      "text/html": [
       "'numeric'"
      ],
      "text/latex": [
       "'numeric'"
      ],
      "text/markdown": [
       "'numeric'"
      ],
      "text/plain": [
       "[1] \"numeric\""
      ]
     },
     "metadata": {},
     "output_type": "display_data"
    },
    {
     "data": {
      "text/html": [
       "<table class=\"dataframe\">\n",
       "<caption>A matrix: 2 × 3 of type dbl</caption>\n",
       "<tbody>\n",
       "\t<tr><td>1</td><td>3</td><td>5</td></tr>\n",
       "\t<tr><td>2</td><td>4</td><td>6</td></tr>\n",
       "</tbody>\n",
       "</table>\n"
      ],
      "text/latex": [
       "A matrix: 2 × 3 of type dbl\n",
       "\\begin{tabular}{lll}\n",
       "\t 1 & 3 & 5\\\\\n",
       "\t 2 & 4 & 6\\\\\n",
       "\\end{tabular}\n"
      ],
      "text/markdown": [
       "\n",
       "A matrix: 2 × 3 of type dbl\n",
       "\n",
       "| 1 | 3 | 5 |\n",
       "| 2 | 4 | 6 |\n",
       "\n"
      ],
      "text/plain": [
       "     [,1] [,2] [,3]\n",
       "[1,] 1    3    5   \n",
       "[2,] 2    4    6   "
      ]
     },
     "metadata": {},
     "output_type": "display_data"
    }
   ],
   "source": [
    "x <- c(1,2,3,4,5,6)\n",
    "x\n",
    "class(x)\n",
    "dim(x) <- c(2,3)\n",
    "x"
   ]
  },
  {
   "cell_type": "markdown",
   "metadata": {},
   "source": [
    "Modify data into a matrix and accessing different elements are similar with the vectors. Of course, use one element for columns and one for the rows."
   ]
  },
  {
   "cell_type": "code",
   "execution_count": 39,
   "metadata": {
    "vscode": {
     "languageId": "r"
    }
   },
   "outputs": [
    {
     "data": {
      "text/html": [
       "<table class=\"dataframe\">\n",
       "<caption>A matrix: 3 × 3 of type int</caption>\n",
       "<tbody>\n",
       "\t<tr><td>1</td><td>4</td><td>7</td></tr>\n",
       "\t<tr><td>2</td><td>5</td><td>8</td></tr>\n",
       "\t<tr><td>3</td><td>6</td><td>9</td></tr>\n",
       "</tbody>\n",
       "</table>\n"
      ],
      "text/latex": [
       "A matrix: 3 × 3 of type int\n",
       "\\begin{tabular}{lll}\n",
       "\t 1 & 4 & 7\\\\\n",
       "\t 2 & 5 & 8\\\\\n",
       "\t 3 & 6 & 9\\\\\n",
       "\\end{tabular}\n"
      ],
      "text/markdown": [
       "\n",
       "A matrix: 3 × 3 of type int\n",
       "\n",
       "| 1 | 4 | 7 |\n",
       "| 2 | 5 | 8 |\n",
       "| 3 | 6 | 9 |\n",
       "\n"
      ],
      "text/plain": [
       "     [,1] [,2] [,3]\n",
       "[1,] 1    4    7   \n",
       "[2,] 2    5    8   \n",
       "[3,] 3    6    9   "
      ]
     },
     "metadata": {},
     "output_type": "display_data"
    },
    {
     "data": {
      "text/html": [
       "<table class=\"dataframe\">\n",
       "<caption>A matrix: 2 × 2 of type int</caption>\n",
       "<tbody>\n",
       "\t<tr><td>4</td><td>7</td></tr>\n",
       "\t<tr><td>5</td><td>8</td></tr>\n",
       "</tbody>\n",
       "</table>\n"
      ],
      "text/latex": [
       "A matrix: 2 × 2 of type int\n",
       "\\begin{tabular}{ll}\n",
       "\t 4 & 7\\\\\n",
       "\t 5 & 8\\\\\n",
       "\\end{tabular}\n"
      ],
      "text/markdown": [
       "\n",
       "A matrix: 2 × 2 of type int\n",
       "\n",
       "| 4 | 7 |\n",
       "| 5 | 8 |\n",
       "\n"
      ],
      "text/plain": [
       "     [,1] [,2]\n",
       "[1,] 4    7   \n",
       "[2,] 5    8   "
      ]
     },
     "metadata": {},
     "output_type": "display_data"
    },
    {
     "data": {
      "text/html": [
       "<style>\n",
       ".list-inline {list-style: none; margin:0; padding: 0}\n",
       ".list-inline>li {display: inline-block}\n",
       ".list-inline>li:not(:last-child)::after {content: \"\\00b7\"; padding: 0 .5ex}\n",
       "</style>\n",
       "<ol class=list-inline><li>1</li><li>4</li><li>7</li></ol>\n"
      ],
      "text/latex": [
       "\\begin{enumerate*}\n",
       "\\item 1\n",
       "\\item 4\n",
       "\\item 7\n",
       "\\end{enumerate*}\n"
      ],
      "text/markdown": [
       "1. 1\n",
       "2. 4\n",
       "3. 7\n",
       "\n",
       "\n"
      ],
      "text/plain": [
       "[1] 1 4 7"
      ]
     },
     "metadata": {},
     "output_type": "display_data"
    },
    {
     "data": {
      "text/html": [
       "'integer'"
      ],
      "text/latex": [
       "'integer'"
      ],
      "text/markdown": [
       "'integer'"
      ],
      "text/plain": [
       "[1] \"integer\""
      ]
     },
     "metadata": {},
     "output_type": "display_data"
    },
    {
     "data": {
      "text/html": [
       "<table class=\"dataframe\">\n",
       "<caption>A matrix: 1 × 3 of type int</caption>\n",
       "<tbody>\n",
       "\t<tr><td>1</td><td>4</td><td>7</td></tr>\n",
       "</tbody>\n",
       "</table>\n"
      ],
      "text/latex": [
       "A matrix: 1 × 3 of type int\n",
       "\\begin{tabular}{lll}\n",
       "\t 1 & 4 & 7\\\\\n",
       "\\end{tabular}\n"
      ],
      "text/markdown": [
       "\n",
       "A matrix: 1 × 3 of type int\n",
       "\n",
       "| 1 | 4 | 7 |\n",
       "\n"
      ],
      "text/plain": [
       "     [,1] [,2] [,3]\n",
       "[1,] 1    4    7   "
      ]
     },
     "metadata": {},
     "output_type": "display_data"
    },
    {
     "data": {
      "text/html": [
       "<table class=\"dataframe\">\n",
       "<caption>A matrix: 2 × 2 of type int</caption>\n",
       "<tbody>\n",
       "\t<tr><td>1</td><td>4</td></tr>\n",
       "\t<tr><td>3</td><td>6</td></tr>\n",
       "</tbody>\n",
       "</table>\n"
      ],
      "text/latex": [
       "A matrix: 2 × 2 of type int\n",
       "\\begin{tabular}{ll}\n",
       "\t 1 & 4\\\\\n",
       "\t 3 & 6\\\\\n",
       "\\end{tabular}\n"
      ],
      "text/markdown": [
       "\n",
       "A matrix: 2 × 2 of type int\n",
       "\n",
       "| 1 | 4 |\n",
       "| 3 | 6 |\n",
       "\n"
      ],
      "text/plain": [
       "     [,1] [,2]\n",
       "[1,] 1    4   \n",
       "[2,] 3    6   "
      ]
     },
     "metadata": {},
     "output_type": "display_data"
    },
    {
     "data": {
      "text/html": [
       "<style>\n",
       ".list-inline {list-style: none; margin:0; padding: 0}\n",
       ".list-inline>li {display: inline-block}\n",
       ".list-inline>li:not(:last-child)::after {content: \"\\00b7\"; padding: 0 .5ex}\n",
       "</style>\n",
       "<ol class=list-inline><li>1</li><li>3</li><li>5</li><li>7</li><li>9</li></ol>\n"
      ],
      "text/latex": [
       "\\begin{enumerate*}\n",
       "\\item 1\n",
       "\\item 3\n",
       "\\item 5\n",
       "\\item 7\n",
       "\\item 9\n",
       "\\end{enumerate*}\n"
      ],
      "text/markdown": [
       "1. 1\n",
       "2. 3\n",
       "3. 5\n",
       "4. 7\n",
       "5. 9\n",
       "\n",
       "\n"
      ],
      "text/plain": [
       "[1] 1 3 5 7 9"
      ]
     },
     "metadata": {},
     "output_type": "display_data"
    },
    {
     "data": {
      "text/html": [
       "<style>\n",
       ".list-inline {list-style: none; margin:0; padding: 0}\n",
       ".list-inline>li {display: inline-block}\n",
       ".list-inline>li:not(:last-child)::after {content: \"\\00b7\"; padding: 0 .5ex}\n",
       "</style>\n",
       "<ol class=list-inline><li>1</li><li>2</li><li>3</li><li>4</li></ol>\n"
      ],
      "text/latex": [
       "\\begin{enumerate*}\n",
       "\\item 1\n",
       "\\item 2\n",
       "\\item 3\n",
       "\\item 4\n",
       "\\end{enumerate*}\n"
      ],
      "text/markdown": [
       "1. 1\n",
       "2. 2\n",
       "3. 3\n",
       "4. 4\n",
       "\n",
       "\n"
      ],
      "text/plain": [
       "[1] 1 2 3 4"
      ]
     },
     "metadata": {},
     "output_type": "display_data"
    },
    {
     "data": {
      "text/html": [
       "<style>\n",
       ".dl-inline {width: auto; margin:0; padding: 0}\n",
       ".dl-inline>dt, .dl-inline>dd {float: none; width: auto; display: inline-block}\n",
       ".dl-inline>dt::after {content: \":\\0020\"; padding-right: .5ex}\n",
       ".dl-inline>dt:not(:first-of-type) {padding-left: .5ex}\n",
       "</style><dl class=dl-inline><dt>X</dt><dd>1</dd><dt>Y</dt><dd>2</dd><dt>Z</dt><dd>3</dd></dl>\n"
      ],
      "text/latex": [
       "\\begin{description*}\n",
       "\\item[X] 1\n",
       "\\item[Y] 2\n",
       "\\item[Z] 3\n",
       "\\end{description*}\n"
      ],
      "text/markdown": [
       "X\n",
       ":   1Y\n",
       ":   2Z\n",
       ":   3\n",
       "\n"
      ],
      "text/plain": [
       "X Y Z \n",
       "1 2 3 "
      ]
     },
     "metadata": {},
     "output_type": "display_data"
    }
   ],
   "source": [
    "m1\n",
    "# select rows 1 & 2 and columns 2 & 3\n",
    "m1[c(1,2),c(2,3)]\n",
    "# leaving column field blank will select entire columns\n",
    "v <- m1[1,]; v; class(v)\n",
    "# if you want previous result to remain a matrix\n",
    "m1[1,,drop=FALSE]\n",
    "m1[c(TRUE,FALSE,TRUE),c(TRUE,TRUE,FALSE)]\n",
    "m1[c(TRUE, FALSE)]\n",
    "m1[m1 < 5]\n",
    "m3[,\"A\"]"
   ]
  },
  {
   "cell_type": "markdown",
   "metadata": {},
   "source": [
    "<a id='factors'></a>\n",
    "\n",
    "## Factors\n",
    "Factor is a data structure used for fields that takes only predefined, finite number of values (categorical data). We can create a factor using the function factor()."
   ]
  },
  {
   "cell_type": "code",
   "execution_count": 40,
   "metadata": {
    "vscode": {
     "languageId": "r"
    }
   },
   "outputs": [
    {
     "name": "stdout",
     "output_type": "stream",
     "text": [
      " Factor w/ 2 levels \"married\",\"single\": 2 1 1 2\n"
     ]
    }
   ],
   "source": [
    "f <- factor(c(\"single\", \"married\", \"married\", \"single\")); str(f)"
   ]
  },
  {
   "cell_type": "markdown",
   "metadata": {},
   "source": [
    "Accessing components of a factor is very much similar to that of vectors. Modify just with values from levels, and a workarround to add a new level:"
   ]
  },
  {
   "cell_type": "code",
   "execution_count": 41,
   "metadata": {
    "vscode": {
     "languageId": "r"
    }
   },
   "outputs": [
    {
     "data": {
      "text/html": [
       "married\n",
       "<details>\n",
       "\t<summary style=display:list-item;cursor:pointer>\n",
       "\t\t<strong>Levels</strong>:\n",
       "\t</summary>\n",
       "\t<style>\n",
       "\t.list-inline {list-style: none; margin:0; padding: 0}\n",
       "\t.list-inline>li {display: inline-block}\n",
       "\t.list-inline>li:not(:last-child)::after {content: \"\\00b7\"; padding: 0 .5ex}\n",
       "\t</style>\n",
       "\t<ol class=list-inline><li>'married'</li><li>'single'</li></ol>\n",
       "</details>"
      ],
      "text/latex": [
       "married\n",
       "\\emph{Levels}: \\begin{enumerate*}\n",
       "\\item 'married'\n",
       "\\item 'single'\n",
       "\\end{enumerate*}\n"
      ],
      "text/markdown": [
       "married\n",
       "**Levels**: 1. 'married'\n",
       "2. 'single'\n",
       "\n",
       "\n"
      ],
      "text/plain": [
       "[1] married\n",
       "Levels: married single"
      ]
     },
     "metadata": {},
     "output_type": "display_data"
    },
    {
     "data": {
      "text/html": [
       "<style>\n",
       ".list-inline {list-style: none; margin:0; padding: 0}\n",
       ".list-inline>li {display: inline-block}\n",
       ".list-inline>li:not(:last-child)::after {content: \"\\00b7\"; padding: 0 .5ex}\n",
       "</style>\n",
       "<ol class=list-inline><li>married</li><li>married</li></ol>\n",
       "\n",
       "<details>\n",
       "\t<summary style=display:list-item;cursor:pointer>\n",
       "\t\t<strong>Levels</strong>:\n",
       "\t</summary>\n",
       "\t<style>\n",
       "\t.list-inline {list-style: none; margin:0; padding: 0}\n",
       "\t.list-inline>li {display: inline-block}\n",
       "\t.list-inline>li:not(:last-child)::after {content: \"\\00b7\"; padding: 0 .5ex}\n",
       "\t</style>\n",
       "\t<ol class=list-inline><li>'married'</li><li>'single'</li></ol>\n",
       "</details>"
      ],
      "text/latex": [
       "\\begin{enumerate*}\n",
       "\\item married\n",
       "\\item married\n",
       "\\end{enumerate*}\n",
       "\n",
       "\\emph{Levels}: \\begin{enumerate*}\n",
       "\\item 'married'\n",
       "\\item 'single'\n",
       "\\end{enumerate*}\n"
      ],
      "text/markdown": [
       "1. married\n",
       "2. married\n",
       "\n",
       "\n",
       "\n",
       "**Levels**: 1. 'married'\n",
       "2. 'single'\n",
       "\n",
       "\n"
      ],
      "text/plain": [
       "[1] married married\n",
       "Levels: married single"
      ]
     },
     "metadata": {},
     "output_type": "display_data"
    },
    {
     "name": "stderr",
     "output_type": "stream",
     "text": [
      "Warning message in `[<-.factor`(`*tmp*`, 6, value = \"widowed\"):\n",
      "\"invalid factor level, NA generated\"\n"
     ]
    },
    {
     "data": {
      "text/html": [
       "<style>\n",
       ".list-inline {list-style: none; margin:0; padding: 0}\n",
       ".list-inline>li {display: inline-block}\n",
       ".list-inline>li:not(:last-child)::after {content: \"\\00b7\"; padding: 0 .5ex}\n",
       "</style>\n",
       "<ol class=list-inline><li>single</li><li>married</li><li>married</li><li>single</li><li>single</li><li>&lt;NA&gt;</li></ol>\n",
       "\n",
       "<details>\n",
       "\t<summary style=display:list-item;cursor:pointer>\n",
       "\t\t<strong>Levels</strong>:\n",
       "\t</summary>\n",
       "\t<style>\n",
       "\t.list-inline {list-style: none; margin:0; padding: 0}\n",
       "\t.list-inline>li {display: inline-block}\n",
       "\t.list-inline>li:not(:last-child)::after {content: \"\\00b7\"; padding: 0 .5ex}\n",
       "\t</style>\n",
       "\t<ol class=list-inline><li>'married'</li><li>'single'</li></ol>\n",
       "</details>"
      ],
      "text/latex": [
       "\\begin{enumerate*}\n",
       "\\item single\n",
       "\\item married\n",
       "\\item married\n",
       "\\item single\n",
       "\\item single\n",
       "\\item <NA>\n",
       "\\end{enumerate*}\n",
       "\n",
       "\\emph{Levels}: \\begin{enumerate*}\n",
       "\\item 'married'\n",
       "\\item 'single'\n",
       "\\end{enumerate*}\n"
      ],
      "text/markdown": [
       "1. single\n",
       "2. married\n",
       "3. married\n",
       "4. single\n",
       "5. single\n",
       "6. &lt;NA&gt;\n",
       "\n",
       "\n",
       "\n",
       "**Levels**: 1. 'married'\n",
       "2. 'single'\n",
       "\n",
       "\n"
      ],
      "text/plain": [
       "[1] single  married married single  single  <NA>   \n",
       "Levels: married single"
      ]
     },
     "metadata": {},
     "output_type": "display_data"
    },
    {
     "data": {
      "text/html": [
       "<style>\n",
       ".list-inline {list-style: none; margin:0; padding: 0}\n",
       ".list-inline>li {display: inline-block}\n",
       ".list-inline>li:not(:last-child)::after {content: \"\\00b7\"; padding: 0 .5ex}\n",
       "</style>\n",
       "<ol class=list-inline><li>single</li><li>married</li><li>married</li><li>single</li><li>single</li><li>widowed</li></ol>\n",
       "\n",
       "<details>\n",
       "\t<summary style=display:list-item;cursor:pointer>\n",
       "\t\t<strong>Levels</strong>:\n",
       "\t</summary>\n",
       "\t<style>\n",
       "\t.list-inline {list-style: none; margin:0; padding: 0}\n",
       "\t.list-inline>li {display: inline-block}\n",
       "\t.list-inline>li:not(:last-child)::after {content: \"\\00b7\"; padding: 0 .5ex}\n",
       "\t</style>\n",
       "\t<ol class=list-inline><li>'married'</li><li>'single'</li><li>'widowed'</li></ol>\n",
       "</details>"
      ],
      "text/latex": [
       "\\begin{enumerate*}\n",
       "\\item single\n",
       "\\item married\n",
       "\\item married\n",
       "\\item single\n",
       "\\item single\n",
       "\\item widowed\n",
       "\\end{enumerate*}\n",
       "\n",
       "\\emph{Levels}: \\begin{enumerate*}\n",
       "\\item 'married'\n",
       "\\item 'single'\n",
       "\\item 'widowed'\n",
       "\\end{enumerate*}\n"
      ],
      "text/markdown": [
       "1. single\n",
       "2. married\n",
       "3. married\n",
       "4. single\n",
       "5. single\n",
       "6. widowed\n",
       "\n",
       "\n",
       "\n",
       "**Levels**: 1. 'married'\n",
       "2. 'single'\n",
       "3. 'widowed'\n",
       "\n",
       "\n"
      ],
      "text/plain": [
       "[1] single  married married single  single  widowed\n",
       "Levels: married single widowed"
      ]
     },
     "metadata": {},
     "output_type": "display_data"
    }
   ],
   "source": [
    "f[3]\n",
    "f[c(2,3)]\n",
    "f[5] <- 'single'\n",
    "# this is not working\n",
    "f[6] <- 'widowed'; f\n",
    "# workarround\n",
    "levels(f) <- c(levels(f), \"widowed\") \n",
    "f[6] <- 'widowed'; f"
   ]
  },
  {
   "cell_type": "markdown",
   "metadata": {},
   "source": [
    "<a id='dframe'></a>\n",
    "\n",
    "## Dataframe\n",
    "Data frame is a two dimensional data structure in R. It is a special case of a list which has each component of equal length.  \n",
    "We can create a data frame using the data.frame() function."
   ]
  },
  {
   "cell_type": "code",
   "execution_count": 42,
   "metadata": {
    "vscode": {
     "languageId": "r"
    }
   },
   "outputs": [
    {
     "data": {
      "text/html": [
       "<table class=\"dataframe\">\n",
       "<caption>A data.frame: 2 × 3</caption>\n",
       "<thead>\n",
       "\t<tr><th scope=col>SN</th><th scope=col>Age</th><th scope=col>Name</th></tr>\n",
       "\t<tr><th scope=col>&lt;int&gt;</th><th scope=col>&lt;dbl&gt;</th><th scope=col>&lt;chr&gt;</th></tr>\n",
       "</thead>\n",
       "<tbody>\n",
       "\t<tr><td>1</td><td>21</td><td>John</td></tr>\n",
       "\t<tr><td>2</td><td>15</td><td>Dora</td></tr>\n",
       "</tbody>\n",
       "</table>\n"
      ],
      "text/latex": [
       "A data.frame: 2 × 3\n",
       "\\begin{tabular}{lll}\n",
       " SN & Age & Name\\\\\n",
       " <int> & <dbl> & <chr>\\\\\n",
       "\\hline\n",
       "\t 1 & 21 & John\\\\\n",
       "\t 2 & 15 & Dora\\\\\n",
       "\\end{tabular}\n"
      ],
      "text/markdown": [
       "\n",
       "A data.frame: 2 × 3\n",
       "\n",
       "| SN &lt;int&gt; | Age &lt;dbl&gt; | Name &lt;chr&gt; |\n",
       "|---|---|---|\n",
       "| 1 | 21 | John |\n",
       "| 2 | 15 | Dora |\n",
       "\n"
      ],
      "text/plain": [
       "  SN Age Name\n",
       "1 1  21  John\n",
       "2 2  15  Dora"
      ]
     },
     "metadata": {},
     "output_type": "display_data"
    },
    {
     "name": "stdout",
     "output_type": "stream",
     "text": [
      "'data.frame':\t2 obs. of  3 variables:\n",
      " $ SN  : int  1 2\n",
      " $ Age : num  21 15\n",
      " $ Name: chr  \"John\" \"Dora\"\n"
     ]
    },
    {
     "data": {
      "text/html": [
       "<style>\n",
       ".list-inline {list-style: none; margin:0; padding: 0}\n",
       ".list-inline>li {display: inline-block}\n",
       ".list-inline>li:not(:last-child)::after {content: \"\\00b7\"; padding: 0 .5ex}\n",
       "</style>\n",
       "<ol class=list-inline><li>'SN'</li><li>'Age'</li><li>'Name'</li></ol>\n"
      ],
      "text/latex": [
       "\\begin{enumerate*}\n",
       "\\item 'SN'\n",
       "\\item 'Age'\n",
       "\\item 'Name'\n",
       "\\end{enumerate*}\n"
      ],
      "text/markdown": [
       "1. 'SN'\n",
       "2. 'Age'\n",
       "3. 'Name'\n",
       "\n",
       "\n"
      ],
      "text/plain": [
       "[1] \"SN\"   \"Age\"  \"Name\""
      ]
     },
     "metadata": {},
     "output_type": "display_data"
    },
    {
     "data": {
      "text/html": [
       "3"
      ],
      "text/latex": [
       "3"
      ],
      "text/markdown": [
       "3"
      ],
      "text/plain": [
       "[1] 3"
      ]
     },
     "metadata": {},
     "output_type": "display_data"
    },
    {
     "data": {
      "text/html": [
       "2"
      ],
      "text/latex": [
       "2"
      ],
      "text/markdown": [
       "2"
      ],
      "text/plain": [
       "[1] 2"
      ]
     },
     "metadata": {},
     "output_type": "display_data"
    },
    {
     "data": {
      "text/html": [
       "3"
      ],
      "text/latex": [
       "3"
      ],
      "text/markdown": [
       "3"
      ],
      "text/plain": [
       "[1] 3"
      ]
     },
     "metadata": {},
     "output_type": "display_data"
    }
   ],
   "source": [
    "df1 <- data.frame(\"SN\" = 1:2, \"Age\" = c(21,15), \"Name\" = c(\"John\",\"Dora\")); df1\n",
    "\n",
    "# some functions for data frames\n",
    "str(df1)\n",
    "names(df1)\n",
    "ncol(df1)\n",
    "nrow(df1)\n",
    "length(df1)"
   ]
  },
  {
   "cell_type": "markdown",
   "metadata": {},
   "source": [
    "Components of data frame can be accessed like a list or like a matrix:\n",
    "- Like a list"
   ]
  },
  {
   "cell_type": "code",
   "execution_count": 43,
   "metadata": {
    "vscode": {
     "languageId": "r"
    }
   },
   "outputs": [
    {
     "data": {
      "text/html": [
       "<table class=\"dataframe\">\n",
       "<caption>A data.frame: 2 × 1</caption>\n",
       "<thead>\n",
       "\t<tr><th scope=col>Name</th></tr>\n",
       "\t<tr><th scope=col>&lt;chr&gt;</th></tr>\n",
       "</thead>\n",
       "<tbody>\n",
       "\t<tr><td>John</td></tr>\n",
       "\t<tr><td>Dora</td></tr>\n",
       "</tbody>\n",
       "</table>\n"
      ],
      "text/latex": [
       "A data.frame: 2 × 1\n",
       "\\begin{tabular}{l}\n",
       " Name\\\\\n",
       " <chr>\\\\\n",
       "\\hline\n",
       "\t John\\\\\n",
       "\t Dora\\\\\n",
       "\\end{tabular}\n"
      ],
      "text/markdown": [
       "\n",
       "A data.frame: 2 × 1\n",
       "\n",
       "| Name &lt;chr&gt; |\n",
       "|---|\n",
       "| John |\n",
       "| Dora |\n",
       "\n"
      ],
      "text/plain": [
       "  Name\n",
       "1 John\n",
       "2 Dora"
      ]
     },
     "metadata": {},
     "output_type": "display_data"
    },
    {
     "data": {
      "text/html": [
       "<style>\n",
       ".list-inline {list-style: none; margin:0; padding: 0}\n",
       ".list-inline>li {display: inline-block}\n",
       ".list-inline>li:not(:last-child)::after {content: \"\\00b7\"; padding: 0 .5ex}\n",
       "</style>\n",
       "<ol class=list-inline><li>'John'</li><li>'Dora'</li></ol>\n"
      ],
      "text/latex": [
       "\\begin{enumerate*}\n",
       "\\item 'John'\n",
       "\\item 'Dora'\n",
       "\\end{enumerate*}\n"
      ],
      "text/markdown": [
       "1. 'John'\n",
       "2. 'Dora'\n",
       "\n",
       "\n"
      ],
      "text/plain": [
       "[1] \"John\" \"Dora\""
      ]
     },
     "metadata": {},
     "output_type": "display_data"
    },
    {
     "data": {
      "text/html": [
       "<style>\n",
       ".list-inline {list-style: none; margin:0; padding: 0}\n",
       ".list-inline>li {display: inline-block}\n",
       ".list-inline>li:not(:last-child)::after {content: \"\\00b7\"; padding: 0 .5ex}\n",
       "</style>\n",
       "<ol class=list-inline><li>'John'</li><li>'Dora'</li></ol>\n"
      ],
      "text/latex": [
       "\\begin{enumerate*}\n",
       "\\item 'John'\n",
       "\\item 'Dora'\n",
       "\\end{enumerate*}\n"
      ],
      "text/markdown": [
       "1. 'John'\n",
       "2. 'Dora'\n",
       "\n",
       "\n"
      ],
      "text/plain": [
       "[1] \"John\" \"Dora\""
      ]
     },
     "metadata": {},
     "output_type": "display_data"
    },
    {
     "data": {
      "text/html": [
       "<style>\n",
       ".list-inline {list-style: none; margin:0; padding: 0}\n",
       ".list-inline>li {display: inline-block}\n",
       ".list-inline>li:not(:last-child)::after {content: \"\\00b7\"; padding: 0 .5ex}\n",
       "</style>\n",
       "<ol class=list-inline><li>'John'</li><li>'Dora'</li></ol>\n"
      ],
      "text/latex": [
       "\\begin{enumerate*}\n",
       "\\item 'John'\n",
       "\\item 'Dora'\n",
       "\\end{enumerate*}\n"
      ],
      "text/markdown": [
       "1. 'John'\n",
       "2. 'Dora'\n",
       "\n",
       "\n"
      ],
      "text/plain": [
       "[1] \"John\" \"Dora\""
      ]
     },
     "metadata": {},
     "output_type": "display_data"
    }
   ],
   "source": [
    "df1[\"Name\"]\n",
    "df1$Name\n",
    "df1[[\"Name\"]]\n",
    "df1[[3]]"
   ]
  },
  {
   "cell_type": "markdown",
   "metadata": {},
   "source": [
    "- Like a matrix  \n",
    "  \n",
    "_Note: To illustrate this, we use datasets already available in R (trees in our example). Datasets that are available can be listed with the command library(help = \"datasets\")._"
   ]
  },
  {
   "cell_type": "code",
   "execution_count": 44,
   "metadata": {
    "vscode": {
     "languageId": "r"
    }
   },
   "outputs": [
    {
     "name": "stdout",
     "output_type": "stream",
     "text": [
      "'data.frame':\t31 obs. of  3 variables:\n",
      " $ Girth : num  8.3 8.6 8.8 10.5 10.7 10.8 11 11 11.1 11.2 ...\n",
      " $ Height: num  70 65 63 72 81 83 66 75 80 75 ...\n",
      " $ Volume: num  10.3 10.3 10.2 16.4 18.8 19.7 15.6 18.2 22.6 19.9 ...\n"
     ]
    },
    {
     "data": {
      "text/html": [
       "<table class=\"dataframe\">\n",
       "<caption>A data.frame: 3 × 3</caption>\n",
       "<thead>\n",
       "\t<tr><th></th><th scope=col>Girth</th><th scope=col>Height</th><th scope=col>Volume</th></tr>\n",
       "\t<tr><th></th><th scope=col>&lt;dbl&gt;</th><th scope=col>&lt;dbl&gt;</th><th scope=col>&lt;dbl&gt;</th></tr>\n",
       "</thead>\n",
       "<tbody>\n",
       "\t<tr><th scope=row>1</th><td>8.3</td><td>70</td><td>10.3</td></tr>\n",
       "\t<tr><th scope=row>2</th><td>8.6</td><td>65</td><td>10.3</td></tr>\n",
       "\t<tr><th scope=row>3</th><td>8.8</td><td>63</td><td>10.2</td></tr>\n",
       "</tbody>\n",
       "</table>\n"
      ],
      "text/latex": [
       "A data.frame: 3 × 3\n",
       "\\begin{tabular}{r|lll}\n",
       "  & Girth & Height & Volume\\\\\n",
       "  & <dbl> & <dbl> & <dbl>\\\\\n",
       "\\hline\n",
       "\t1 & 8.3 & 70 & 10.3\\\\\n",
       "\t2 & 8.6 & 65 & 10.3\\\\\n",
       "\t3 & 8.8 & 63 & 10.2\\\\\n",
       "\\end{tabular}\n"
      ],
      "text/markdown": [
       "\n",
       "A data.frame: 3 × 3\n",
       "\n",
       "| <!--/--> | Girth &lt;dbl&gt; | Height &lt;dbl&gt; | Volume &lt;dbl&gt; |\n",
       "|---|---|---|---|\n",
       "| 1 | 8.3 | 70 | 10.3 |\n",
       "| 2 | 8.6 | 65 | 10.3 |\n",
       "| 3 | 8.8 | 63 | 10.2 |\n",
       "\n"
      ],
      "text/plain": [
       "  Girth Height Volume\n",
       "1 8.3   70     10.3  \n",
       "2 8.6   65     10.3  \n",
       "3 8.8   63     10.2  "
      ]
     },
     "metadata": {},
     "output_type": "display_data"
    },
    {
     "data": {
      "text/html": [
       "<table class=\"dataframe\">\n",
       "<caption>A data.frame: 2 × 3</caption>\n",
       "<thead>\n",
       "\t<tr><th></th><th scope=col>Girth</th><th scope=col>Height</th><th scope=col>Volume</th></tr>\n",
       "\t<tr><th></th><th scope=col>&lt;dbl&gt;</th><th scope=col>&lt;dbl&gt;</th><th scope=col>&lt;dbl&gt;</th></tr>\n",
       "</thead>\n",
       "<tbody>\n",
       "\t<tr><th scope=row>2</th><td>8.6</td><td>65</td><td>10.3</td></tr>\n",
       "\t<tr><th scope=row>3</th><td>8.8</td><td>63</td><td>10.2</td></tr>\n",
       "</tbody>\n",
       "</table>\n"
      ],
      "text/latex": [
       "A data.frame: 2 × 3\n",
       "\\begin{tabular}{r|lll}\n",
       "  & Girth & Height & Volume\\\\\n",
       "  & <dbl> & <dbl> & <dbl>\\\\\n",
       "\\hline\n",
       "\t2 & 8.6 & 65 & 10.3\\\\\n",
       "\t3 & 8.8 & 63 & 10.2\\\\\n",
       "\\end{tabular}\n"
      ],
      "text/markdown": [
       "\n",
       "A data.frame: 2 × 3\n",
       "\n",
       "| <!--/--> | Girth &lt;dbl&gt; | Height &lt;dbl&gt; | Volume &lt;dbl&gt; |\n",
       "|---|---|---|---|\n",
       "| 2 | 8.6 | 65 | 10.3 |\n",
       "| 3 | 8.8 | 63 | 10.2 |\n",
       "\n"
      ],
      "text/plain": [
       "  Girth Height Volume\n",
       "2 8.6   65     10.3  \n",
       "3 8.8   63     10.2  "
      ]
     },
     "metadata": {},
     "output_type": "display_data"
    },
    {
     "data": {
      "text/html": [
       "<table class=\"dataframe\">\n",
       "<caption>A data.frame: 4 × 3</caption>\n",
       "<thead>\n",
       "\t<tr><th></th><th scope=col>Girth</th><th scope=col>Height</th><th scope=col>Volume</th></tr>\n",
       "\t<tr><th></th><th scope=col>&lt;dbl&gt;</th><th scope=col>&lt;dbl&gt;</th><th scope=col>&lt;dbl&gt;</th></tr>\n",
       "</thead>\n",
       "<tbody>\n",
       "\t<tr><th scope=row>6</th><td>10.8</td><td>83</td><td>19.7</td></tr>\n",
       "\t<tr><th scope=row>17</th><td>12.9</td><td>85</td><td>33.8</td></tr>\n",
       "\t<tr><th scope=row>18</th><td>13.3</td><td>86</td><td>27.4</td></tr>\n",
       "\t<tr><th scope=row>31</th><td>20.6</td><td>87</td><td>77.0</td></tr>\n",
       "</tbody>\n",
       "</table>\n"
      ],
      "text/latex": [
       "A data.frame: 4 × 3\n",
       "\\begin{tabular}{r|lll}\n",
       "  & Girth & Height & Volume\\\\\n",
       "  & <dbl> & <dbl> & <dbl>\\\\\n",
       "\\hline\n",
       "\t6 & 10.8 & 83 & 19.7\\\\\n",
       "\t17 & 12.9 & 85 & 33.8\\\\\n",
       "\t18 & 13.3 & 86 & 27.4\\\\\n",
       "\t31 & 20.6 & 87 & 77.0\\\\\n",
       "\\end{tabular}\n"
      ],
      "text/markdown": [
       "\n",
       "A data.frame: 4 × 3\n",
       "\n",
       "| <!--/--> | Girth &lt;dbl&gt; | Height &lt;dbl&gt; | Volume &lt;dbl&gt; |\n",
       "|---|---|---|---|\n",
       "| 6 | 10.8 | 83 | 19.7 |\n",
       "| 17 | 12.9 | 85 | 33.8 |\n",
       "| 18 | 13.3 | 86 | 27.4 |\n",
       "| 31 | 20.6 | 87 | 77.0 |\n",
       "\n"
      ],
      "text/plain": [
       "   Girth Height Volume\n",
       "6  10.8  83     19.7  \n",
       "17 12.9  85     33.8  \n",
       "18 13.3  86     27.4  \n",
       "31 20.6  87     77.0  "
      ]
     },
     "metadata": {},
     "output_type": "display_data"
    },
    {
     "data": {
      "text/html": [
       "<table class=\"dataframe\">\n",
       "<caption>A data.frame: 3 × 1</caption>\n",
       "<thead>\n",
       "\t<tr><th></th><th scope=col>Height</th></tr>\n",
       "\t<tr><th></th><th scope=col>&lt;dbl&gt;</th></tr>\n",
       "</thead>\n",
       "<tbody>\n",
       "\t<tr><th scope=row>10</th><td>75</td></tr>\n",
       "\t<tr><th scope=row>11</th><td>79</td></tr>\n",
       "\t<tr><th scope=row>12</th><td>76</td></tr>\n",
       "</tbody>\n",
       "</table>\n"
      ],
      "text/latex": [
       "A data.frame: 3 × 1\n",
       "\\begin{tabular}{r|l}\n",
       "  & Height\\\\\n",
       "  & <dbl>\\\\\n",
       "\\hline\n",
       "\t10 & 75\\\\\n",
       "\t11 & 79\\\\\n",
       "\t12 & 76\\\\\n",
       "\\end{tabular}\n"
      ],
      "text/markdown": [
       "\n",
       "A data.frame: 3 × 1\n",
       "\n",
       "| <!--/--> | Height &lt;dbl&gt; |\n",
       "|---|---|\n",
       "| 10 | 75 |\n",
       "| 11 | 79 |\n",
       "| 12 | 76 |\n",
       "\n"
      ],
      "text/plain": [
       "   Height\n",
       "10 75    \n",
       "11 79    \n",
       "12 76    "
      ]
     },
     "metadata": {},
     "output_type": "display_data"
    }
   ],
   "source": [
    "str(trees)\n",
    "head(trees,n=3)\n",
    "# select 2nd and 3rd row\n",
    "trees[2:3,]\n",
    "# selects rows with Height greater than 82\n",
    "trees[trees$Height > 82,]\n",
    "\n",
    "trees[10:12,2, drop = FALSE]\n"
   ]
  },
  {
   "cell_type": "markdown",
   "metadata": {},
   "source": [
    "#### How to modify a Data Frame in R?"
   ]
  },
  {
   "cell_type": "code",
   "execution_count": 45,
   "metadata": {
    "vscode": {
     "languageId": "r"
    }
   },
   "outputs": [
    {
     "data": {
      "text/html": [
       "<table class=\"dataframe\">\n",
       "<caption>A data.frame: 2 × 3</caption>\n",
       "<thead>\n",
       "\t<tr><th scope=col>SN</th><th scope=col>Age</th><th scope=col>Name</th></tr>\n",
       "\t<tr><th scope=col>&lt;int&gt;</th><th scope=col>&lt;dbl&gt;</th><th scope=col>&lt;chr&gt;</th></tr>\n",
       "</thead>\n",
       "<tbody>\n",
       "\t<tr><td>1</td><td>21</td><td>John</td></tr>\n",
       "\t<tr><td>2</td><td>15</td><td>Dora</td></tr>\n",
       "</tbody>\n",
       "</table>\n"
      ],
      "text/latex": [
       "A data.frame: 2 × 3\n",
       "\\begin{tabular}{lll}\n",
       " SN & Age & Name\\\\\n",
       " <int> & <dbl> & <chr>\\\\\n",
       "\\hline\n",
       "\t 1 & 21 & John\\\\\n",
       "\t 2 & 15 & Dora\\\\\n",
       "\\end{tabular}\n"
      ],
      "text/markdown": [
       "\n",
       "A data.frame: 2 × 3\n",
       "\n",
       "| SN &lt;int&gt; | Age &lt;dbl&gt; | Name &lt;chr&gt; |\n",
       "|---|---|---|\n",
       "| 1 | 21 | John |\n",
       "| 2 | 15 | Dora |\n",
       "\n"
      ],
      "text/plain": [
       "  SN Age Name\n",
       "1 1  21  John\n",
       "2 2  15  Dora"
      ]
     },
     "metadata": {},
     "output_type": "display_data"
    },
    {
     "data": {
      "text/html": [
       "<table class=\"dataframe\">\n",
       "<caption>A data.frame: 2 × 3</caption>\n",
       "<thead>\n",
       "\t<tr><th scope=col>SN</th><th scope=col>Age</th><th scope=col>Name</th></tr>\n",
       "\t<tr><th scope=col>&lt;int&gt;</th><th scope=col>&lt;dbl&gt;</th><th scope=col>&lt;chr&gt;</th></tr>\n",
       "</thead>\n",
       "<tbody>\n",
       "\t<tr><td>1</td><td>20</td><td>John</td></tr>\n",
       "\t<tr><td>2</td><td>15</td><td>Dora</td></tr>\n",
       "</tbody>\n",
       "</table>\n"
      ],
      "text/latex": [
       "A data.frame: 2 × 3\n",
       "\\begin{tabular}{lll}\n",
       " SN & Age & Name\\\\\n",
       " <int> & <dbl> & <chr>\\\\\n",
       "\\hline\n",
       "\t 1 & 20 & John\\\\\n",
       "\t 2 & 15 & Dora\\\\\n",
       "\\end{tabular}\n"
      ],
      "text/markdown": [
       "\n",
       "A data.frame: 2 × 3\n",
       "\n",
       "| SN &lt;int&gt; | Age &lt;dbl&gt; | Name &lt;chr&gt; |\n",
       "|---|---|---|\n",
       "| 1 | 20 | John |\n",
       "| 2 | 15 | Dora |\n",
       "\n"
      ],
      "text/plain": [
       "  SN Age Name\n",
       "1 1  20  John\n",
       "2 2  15  Dora"
      ]
     },
     "metadata": {},
     "output_type": "display_data"
    },
    {
     "data": {
      "text/html": [
       "<table class=\"dataframe\">\n",
       "<caption>A data.frame: 3 × 3</caption>\n",
       "<thead>\n",
       "\t<tr><th scope=col>SN</th><th scope=col>Age</th><th scope=col>Name</th></tr>\n",
       "\t<tr><th scope=col>&lt;dbl&gt;</th><th scope=col>&lt;dbl&gt;</th><th scope=col>&lt;chr&gt;</th></tr>\n",
       "</thead>\n",
       "<tbody>\n",
       "\t<tr><td>1</td><td>20</td><td>John</td></tr>\n",
       "\t<tr><td>2</td><td>15</td><td>Dora</td></tr>\n",
       "\t<tr><td>1</td><td>16</td><td>Paul</td></tr>\n",
       "</tbody>\n",
       "</table>\n"
      ],
      "text/latex": [
       "A data.frame: 3 × 3\n",
       "\\begin{tabular}{lll}\n",
       " SN & Age & Name\\\\\n",
       " <dbl> & <dbl> & <chr>\\\\\n",
       "\\hline\n",
       "\t 1 & 20 & John\\\\\n",
       "\t 2 & 15 & Dora\\\\\n",
       "\t 1 & 16 & Paul\\\\\n",
       "\\end{tabular}\n"
      ],
      "text/markdown": [
       "\n",
       "A data.frame: 3 × 3\n",
       "\n",
       "| SN &lt;dbl&gt; | Age &lt;dbl&gt; | Name &lt;chr&gt; |\n",
       "|---|---|---|\n",
       "| 1 | 20 | John |\n",
       "| 2 | 15 | Dora |\n",
       "| 1 | 16 | Paul |\n",
       "\n"
      ],
      "text/plain": [
       "  SN Age Name\n",
       "1 1  20  John\n",
       "2 2  15  Dora\n",
       "3 1  16  Paul"
      ]
     },
     "metadata": {},
     "output_type": "display_data"
    },
    {
     "data": {
      "text/html": [
       "<table class=\"dataframe\">\n",
       "<caption>A data.frame: 2 × 4</caption>\n",
       "<thead>\n",
       "\t<tr><th scope=col>SN</th><th scope=col>Age</th><th scope=col>Name</th><th scope=col>State</th></tr>\n",
       "\t<tr><th scope=col>&lt;int&gt;</th><th scope=col>&lt;dbl&gt;</th><th scope=col>&lt;chr&gt;</th><th scope=col>&lt;chr&gt;</th></tr>\n",
       "</thead>\n",
       "<tbody>\n",
       "\t<tr><td>1</td><td>20</td><td>John</td><td>NY</td></tr>\n",
       "\t<tr><td>2</td><td>15</td><td>Dora</td><td>FL</td></tr>\n",
       "</tbody>\n",
       "</table>\n"
      ],
      "text/latex": [
       "A data.frame: 2 × 4\n",
       "\\begin{tabular}{llll}\n",
       " SN & Age & Name & State\\\\\n",
       " <int> & <dbl> & <chr> & <chr>\\\\\n",
       "\\hline\n",
       "\t 1 & 20 & John & NY\\\\\n",
       "\t 2 & 15 & Dora & FL\\\\\n",
       "\\end{tabular}\n"
      ],
      "text/markdown": [
       "\n",
       "A data.frame: 2 × 4\n",
       "\n",
       "| SN &lt;int&gt; | Age &lt;dbl&gt; | Name &lt;chr&gt; | State &lt;chr&gt; |\n",
       "|---|---|---|---|\n",
       "| 1 | 20 | John | NY |\n",
       "| 2 | 15 | Dora | FL |\n",
       "\n"
      ],
      "text/plain": [
       "  SN Age Name State\n",
       "1 1  20  John NY   \n",
       "2 2  15  Dora FL   "
      ]
     },
     "metadata": {},
     "output_type": "display_data"
    },
    {
     "data": {
      "text/html": [
       "<table class=\"dataframe\">\n",
       "<caption>A data.frame: 1 × 3</caption>\n",
       "<thead>\n",
       "\t<tr><th></th><th scope=col>SN</th><th scope=col>Age</th><th scope=col>Name</th></tr>\n",
       "\t<tr><th></th><th scope=col>&lt;int&gt;</th><th scope=col>&lt;dbl&gt;</th><th scope=col>&lt;chr&gt;</th></tr>\n",
       "</thead>\n",
       "<tbody>\n",
       "\t<tr><th scope=row>2</th><td>2</td><td>15</td><td>Dora</td></tr>\n",
       "</tbody>\n",
       "</table>\n"
      ],
      "text/latex": [
       "A data.frame: 1 × 3\n",
       "\\begin{tabular}{r|lll}\n",
       "  & SN & Age & Name\\\\\n",
       "  & <int> & <dbl> & <chr>\\\\\n",
       "\\hline\n",
       "\t2 & 2 & 15 & Dora\\\\\n",
       "\\end{tabular}\n"
      ],
      "text/markdown": [
       "\n",
       "A data.frame: 1 × 3\n",
       "\n",
       "| <!--/--> | SN &lt;int&gt; | Age &lt;dbl&gt; | Name &lt;chr&gt; |\n",
       "|---|---|---|---|\n",
       "| 2 | 2 | 15 | Dora |\n",
       "\n"
      ],
      "text/plain": [
       "  SN Age Name\n",
       "2 2  15  Dora"
      ]
     },
     "metadata": {},
     "output_type": "display_data"
    }
   ],
   "source": [
    "df1\n",
    "# changing a value\n",
    "df1[1,\"Age\"] <- 20; df1\n",
    "# adding row\n",
    "rbind(df1,list(1,16,\"Paul\"))\n",
    "# adding column\n",
    "cbind(df1,State=c(\"NY\",\"FL\"))\n",
    "# deleting row\n",
    "df1[-1,]\n",
    "# deleting column\n",
    "df1$State <- NULL"
   ]
  },
  {
   "cell_type": "markdown",
   "metadata": {},
   "source": [
    "<!--NAVIGATION-->\n",
    "<span style='background: rgb(128, 128, 128, .15); width: 100%; display: block; padding: 10px 0 10px 10px'>< [R Syntax](02.01-R-Syntax.ipynb) | [Contents](00.00-Index.ipynb) | [Quiz 2](02.03-Quiz.ipynb) > [Top](#top) ^ </span>"
   ]
  },
  {
   "cell_type": "markdown",
   "metadata": {},
   "source": [
    "<span style='background: rgb(128, 128, 128, .15); width: 100%; display: block; padding: 10px 0 10px 10px'>This is the Jupyter notebook version of the __Python for Official Statistics__ produced by Eurostat; the content is available [on GitHub](https://github.com/eurostat/e-learning/tree/main/python-official-statistics).\n",
    "<br>The text and code are released under the [EUPL-1.2 license](https://github.com/eurostat/e-learning/blob/main/LICENSE).</span>"
   ]
  }
 ],
 "metadata": {
  "anaconda-cloud": {},
  "kernelspec": {
   "display_name": "R",
   "language": "R",
   "name": "ir"
  },
  "language_info": {
   "codemirror_mode": "r",
   "file_extension": ".r",
   "mimetype": "text/x-r-source",
   "name": "R",
   "pygments_lexer": "r",
   "version": "4.2.0"
  }
 },
 "nbformat": 4,
 "nbformat_minor": 4
}
