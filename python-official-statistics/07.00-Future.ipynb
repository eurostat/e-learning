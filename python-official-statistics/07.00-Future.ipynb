{
 "cells": [
  {
   "cell_type": "markdown",
   "metadata": {},
   "source": [
    "<!--NAVIGATION-->\n",
    "<span style='background: rgb(128, 128, 128, .15); width: 100%; display: block; padding: 10px 0 10px 10px'>< [Quiz](06.03-Quiz.ipynb) | [Contents](00.00-Index.ipynb) | </span>\n",
    "\n",
    "<a href=\"https://colab.research.google.com/github/eurostat/e-learning/blob/main/python-official-statistics/07.00-Future.ipynb\"><img align=\"left\" src=\"https://colab.research.google.com/assets/colab-badge.svg\" alt=\"Open in Colab\" title=\"Open and Execute in Google Colaboratory\"></a>"
   ]
  },
  {
   "cell_type": "markdown",
   "metadata": {},
   "source": [
    "<a id='top'></a>\n",
    "\n",
    "# The Future of Data Science and Python\n",
    "> “Let’s be clear: the work of science has nothing whatever to do with consensus.  Consensus is the business of politics. Science, on the contrary, requires only one investigator who happens to be right, which means that he or she has results that are verifiable by reference to the real world. In science consensus is irrelevant. What is relevant is reproducible results.” – Michael Crichton\n"
   ]
  },
  {
   "cell_type": "markdown",
   "metadata": {},
   "source": [
    "## Python & Developers\n",
    "There is a community of millions of enthusiastic developers grouped into a prolific, open source, community. Very frequently a new package, pops-up and enrich the already plentiful Python ecosystem. And all this by having fun. Seems like Python reintroduced fun in the process.  \n",
    "\n",
    "And, I think, this is important.  \n",
    "This is one of the resons that makes Python community so alive, so prolific.\n",
    "\n",
    "And more and more groups of IT professionals, from different domains, join the family."
   ]
  },
  {
   "cell_type": "markdown",
   "metadata": {},
   "source": [
    "## (Data) Science Today\n",
    "The bigest problem now for science is this:\n",
    "- Too many studies are poorly designed, but\n",
    "- Even if replicating results is crucial, it is rare and difficult because:\n",
    "- Peer review is broken. One of the reasons is:\n",
    "- Too much science is locked behind paywalls (licensing system).\n",
    "\n",
    "Important for peer review is the access to the same data & tools used by the authors of such studies.  \n",
    "\n",
    "Now, the unlocking of data is not our problem to solve. We let that to the politicians.  \n",
    "\n",
    "## Python & Science\n",
    "What Python can solve is the access to good tools (scientific software). This is a solution because the ecosystem is mature, stable, free, and open source. So everybody can learn and use this huge repository of quality tools.  \n",
    "Already several science domains professionals are creating free, github repositories for their needs, and seems that new projects are born each year. And, also, new categories of Python users join the community.\n",
    "\n",
    "Thank you for choosing to learn Python with us and,  \n",
    "Good luck!\n"
   ]
  },
  {
   "cell_type": "markdown",
   "metadata": {},
   "source": [
    "<!--NAVIGATION-->\n",
    "<span style='background: rgb(128, 128, 128, .15); width: 100%; display: block; padding: 10px 0 10px 10px'>< [Quiz](06.03-Quiz.ipynb) | [Contents](00.00-Index.ipynb) | [Top](#top) ^ </span>"
   ]
  },
  {
   "cell_type": "markdown",
   "metadata": {},
   "source": [
    "<span style='background: rgb(128, 128, 128, .15); width: 100%; display: block; padding: 10px 0 10px 10px'>This is the Jupyter notebook version of the __Python for Official Statistics__ produced by Eurostat; the content is available [on GitHub](https://github.com/eurostat/e-learning/tree/main/python-official-statistics).\n",
    "<br>The text and code are released under the [EUPL-1.2 license](https://github.com/eurostat/e-learning/blob/main/LICENSE).</span>"
   ]
  }
 ],
 "metadata": {
  "anaconda-cloud": {},
  "kernelspec": {
   "display_name": "Python 3.8.8 ('base')",
   "language": "python",
   "name": "python3"
  },
  "language_info": {
   "codemirror_mode": {
    "name": "ipython",
    "version": 3
   },
   "file_extension": ".py",
   "mimetype": "text/x-python",
   "name": "python",
   "nbconvert_exporter": "python",
   "pygments_lexer": "ipython3",
   "version": "3.8.8"
  },
  "vscode": {
   "interpreter": {
    "hash": "12d738f96725d1c1f433a1d40c5369c2dd6b861cec3a8aa29acd662c91ac2528"
   }
  }
 },
 "nbformat": 4,
 "nbformat_minor": 4
}
