{
 "cells": [
  {
   "cell_type": "markdown",
   "metadata": {},
   "source": [
    "# Helper Code Used"
   ]
  },
  {
   "cell_type": "markdown",
   "metadata": {},
   "source": [
    "![logo](img/logos.svg)\n",
    "\n",
    "*v.0.1 05/05/2022*"
   ]
  },
  {
   "cell_type": "markdown",
   "metadata": {},
   "source": [
    "<!--NAVIGATION-->\n",
    "<span style='background: rgb(128, 128, 128, .15); width: 100%; display: block; padding: 10px 0 10px 10px'>| [Welcome](00.00-Welcome.ipynb) ></span>\n",
    "\n",
    "<a href=\"https://colab.research.google.com/github/eurostat/e-learning/blob/main/python-official-statistics/07.04-Helpers.ipynb\"><img align=\"left\" src=\"https://colab.research.google.com/assets/colab-badge.svg\" alt=\"Open in Colab\" title=\"Open and Execute in Google Colaboratory\"></a>"
   ]
  },
  {
   "cell_type": "markdown",
   "metadata": {},
   "source": [
    "## Table of Contents\n",
    "\n",
    "### [Jupyter Notebook Processing](#jupyter)\n",
    "All imports here:"
   ]
  },
  {
   "cell_type": "code",
   "execution_count": null,
   "metadata": {},
   "outputs": [],
   "source": [
    "import json, glob"
   ]
  },
  {
   "cell_type": "markdown",
   "metadata": {},
   "source": [
    "<a id='jupyter'></a>\n",
    "\n",
    "\n",
    "## Jupyter Notebook Processing\n",
    "Count the number of words in all cells of the specified type:\n",
    "  raw, code, markdown"
   ]
  },
  {
   "cell_type": "code",
   "execution_count": null,
   "metadata": {},
   "outputs": [],
   "source": [
    "def get_jupyter_words(filename, cell_type):\n",
    "\twith open(filename, 'r') as f:\n",
    "\t\tlecture = json.load(f)\n",
    "\n",
    "\tfor cell in lecture['cells']:\n",
    "\t\tif cell['cell_type'] == cell_type:\n",
    "\t\t\tbulk = []\n",
    "\t\t\tfor item in cell['source']:\n",
    "\t\t\t\tif not item.startswith('['):\n",
    "\t\t\t\t\t# print(item)\n",
    "\t\t\t\t\tbulk.append(item.strip())\n",
    "# \t\t\tprint(bulk)\n",
    "\t\t\tstr_bulk = ' '.join(bulk)\n",
    "\t\t\tprint(str_bulk)\n",
    "\t\t\tprint(len(str_bulk.split()))\n",
    "\n",
    "get_jupyter_words('00.00-Index.ipynb', 'markdown')"
   ]
  },
  {
   "cell_type": "markdown",
   "metadata": {},
   "source": [
    "Open a Jupyter file (json)\n",
    "The text is extracted from cells of the specified type:\n",
    "  raw, code, markdown, excluding text starting with '['"
   ]
  },
  {
   "cell_type": "code",
   "execution_count": null,
   "metadata": {},
   "outputs": [],
   "source": [
    "def stats_file(filename, cell_type, verbose=True):\n",
    "    with open(filename, 'r', encoding='utf-8') as f:\n",
    "        lecture = json.load(f)\n",
    "    print(filename)\n",
    "    total_cnt = 0\n",
    "    for cell in lecture['cells']:\n",
    "        if cell['cell_type'] == cell_type:\n",
    "            bulk = []\n",
    "            for item in cell['source']:\n",
    "                if not item.startswith('['):\n",
    "                    # print(item)\n",
    "                    bulk.append(item.strip())\n",
    "            str_bulk = ' '.join(bulk)\n",
    "            if verbose: print(str_bulk)\n",
    "            cnt = len(str_bulk.split())\n",
    "            total_cnt += cnt\n",
    "            if verbose: print('Cell count: ', cnt, '\\n')\n",
    "    print(f'Total word count: {total_cnt}')\n",
    "\n",
    "files = glob.glob(\"0*.ipynb\")\n",
    "for file in files:\n",
    "    stats_file(file, 'markdown', False)\n"
   ]
  },
  {
   "cell_type": "markdown",
   "metadata": {},
   "source": [
    "Extract all imports from code cells"
   ]
  },
  {
   "cell_type": "code",
   "execution_count": 75,
   "metadata": {},
   "outputs": [],
   "source": [
    "def imports_file(filename):\n",
    "    with open(filename, 'r', encoding='utf-8') as f:\n",
    "        lecture = json.load(f)\n",
    "    total_cnt = 0\n",
    "    bulk = []\n",
    "    for cell in lecture['cells']:\n",
    "        if cell['cell_type'] == 'code':\n",
    "            for item in cell['source']:\n",
    "                if not item.startswith('['):\n",
    "                    if item.startswith('import') or item.startswith('from'):\n",
    "                        bulk.append(item.strip().replace(\"\\r\", \"\"))\n",
    "    return '\\n'.join(bulk) + '\\n'\n",
    "\n",
    "with open('test.txt', 'w', encoding='utf-8') as f:\n",
    "    files = glob.glob(\"0*.ipynb\")\n",
    "    for file in files:\n",
    "        f.write(file + '\\n')\n",
    "        f.write(imports_file(file))\n"
   ]
  },
  {
   "cell_type": "markdown",
   "metadata": {},
   "source": [
    "<span style='background: rgb(128, 128, 128, .15); width: 100%; display: block; padding: 10px 0 10px 10px'>This is the Jupyter notebook version of the __Python for Official Statistics__ produced by Eurostat; the content is available [on GitHub](https://github.com/eurostat/e-learning/tree/main/python-official-statistics).\n",
    "<br>The text and code are released under the [EUPL-1.2 license](https://github.com/eurostat/e-learning/blob/main/LICENSE).</span>"
   ]
  }
 ],
 "metadata": {
  "anaconda-cloud": {},
  "kernelspec": {
   "display_name": "Python 3.8.8 ('base')",
   "language": "python",
   "name": "python3"
  },
  "language_info": {
   "codemirror_mode": {
    "name": "ipython",
    "version": 3
   },
   "file_extension": ".py",
   "mimetype": "text/x-python",
   "name": "python",
   "nbconvert_exporter": "python",
   "pygments_lexer": "ipython3",
   "version": "3.8.8"
  },
  "vscode": {
   "interpreter": {
    "hash": "12d738f96725d1c1f433a1d40c5369c2dd6b861cec3a8aa29acd662c91ac2528"
   }
  }
 },
 "nbformat": 4,
 "nbformat_minor": 1
}
