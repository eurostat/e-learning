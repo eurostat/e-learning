{
 "cells": [
  {
   "cell_type": "markdown",
   "metadata": {},
   "source": [
    "<!--NAVIGATION-->\n",
    "<span style='background: rgb(128, 128, 128, .15); width: 100%; display: block; padding: 10px 0 10px 10px'>< [Numpy & Data Types](03.01-Numpy.ipynb) | [Contents](00.00-Index.ipynb) | [More speed: Numba & Cython](03.03-Numba-Cython.ipynb) ></span>\n",
    "\n",
    "<a href=\"https://colab.research.google.com/github/eurostat/e-learning/blob/main/python-official-statistics/03.02-SciPy.ipynb\"><img align=\"left\" src=\"https://colab.research.google.com/assets/colab-badge.svg\" alt=\"Open in Colab\" title=\"Open and Execute in Google Colaboratory\"></a>"
   ]
  },
  {
   "cell_type": "markdown",
   "metadata": {},
   "source": [
    "<a id='top'></a>\n",
    "\n",
    "# More functionality: SciPy\n",
    "## Content  \n",
    "- [Overview](#overview)\n",
    "- [SciPy versus NumPy](#versus)\n",
    "- [Insight](#insight)\n",
    "\n",
    "Several people used `Numeric` as a base for their scientific code and developed their own modules. Around `2001`, Travis Oliphant, Eric Jones and Pearu Peterson merged their modules in one scientific super package: `SciPy` was born.  \n",
    "It seems that SciPy is older than Numpy but today they are used together, and some SciPy implementations depend on Numpy.  \n",
    "Of course, it is a free and open-source Python library."
   ]
  },
  {
   "cell_type": "markdown",
   "metadata": {},
   "source": [
    "<a id='overview'></a>\n",
    "\n",
    "## Overview\n",
    "\n",
    "[SciPy](http://www.scipy.org) builds to provide quality tools for scientific programming such as:\n",
    "\n",
    "- [Linear Algebra](http://docs.scipy.org/doc/scipy/reference/linalg.html)  \n",
    "- [Numerical Integration](http://docs.scipy.org/doc/scipy/reference/integrate.html)  \n",
    "- [Interpolation](http://docs.scipy.org/doc/scipy/reference/interpolate.html)  \n",
    "- [Optimization](http://docs.scipy.org/doc/scipy/reference/optimize.html)  \n",
    "- [Distributions and Random Number Generation](http://docs.scipy.org/doc/scipy/reference/stats.html)  \n",
    "- [Signal Processing](http://docs.scipy.org/doc/scipy/reference/signal.html)  \n",
    "- and more  \n",
    "\n",
    "\n",
    "Like NumPy, SciPy is stable, mature and widely used."
   ]
  },
  {
   "cell_type": "markdown",
   "metadata": {},
   "source": [
    "<a id='versus'></a>\n",
    "\n",
    "## SciPy versus NumPy\n",
    "\n",
    "SciPy is a package that contains various tools that are built on top of NumPy, using its array data type and related functionality.\n",
    "\n",
    "In fact, when we import SciPy we also get NumPy, as can be seen from this excerpt the SciPy initialization file:"
   ]
  },
  {
   "cell_type": "code",
   "execution_count": null,
   "metadata": {},
   "outputs": [],
   "source": [
    "# Import numpy symbols to scipy namespace\n",
    "from numpy import *\n",
    "from numpy.random import rand, randn\n",
    "from numpy.fft import fft, ifft\n",
    "from numpy.lib.scimath import *"
   ]
  },
  {
   "cell_type": "markdown",
   "metadata": {},
   "source": [
    "SciPy is a superset of NumPy. All the numerical code resides in SciPy. The SciPy module consists of all the NumPy functions. It is however better to use the fast processing NumPy if possible.  \n",
    "\n",
    "NumPy has a faster processing speed than other python libraries. NumPy is generally for performing basic operations like sorting, indexing, and array manipulation. The most important feature of NumPy is its compatibility.  \n",
    "\n",
    "The NumPy library contains a variety of functions that aren’t defined in depth. We use a combination of SciPy and NumPy for fast and efficient scientific and mathematical computations.  \n",
    "\n",
    "SciPy on the other hand has slower computational speed. It consists of rather detailed versions of the functions. It consists of all the full-fledged versions of the functions. The SciPy module consists of functions like linear algebra that are completely featured."
   ]
  },
  {
   "cell_type": "markdown",
   "metadata": {},
   "source": [
    "<a id='insight'></a>\n",
    "\n",
    "## Insight\n",
    "SciPy appears to provide most (but not all: numpy.min, numpy.max, numpy.abs and a few others have no counterparts in the scipy namespace) of NumPy's functions in its own namespace. In other words, if there's a function named numpy.foo, there's almost certainly a scipy.foo.  \n",
    "\n",
    "Most of the time, the two appear to be exactly the same, oftentimes even pointing to the same function object. Sometimes, they're different. In recent versions seems that identical functions from scipy give up to more efficient implementations from numpy. To give an example:"
   ]
  },
  {
   "cell_type": "code",
   "execution_count": null,
   "metadata": {},
   "outputs": [],
   "source": [
    "import numpy, scipy\n",
    "# numpy.log10 is an ufunc that returns NaNs for negative arguments\n",
    "print(numpy.log10(numpy.array([2, -1])))\n",
    "# scipy.log10 returns complex values for negative arguments and it is also an ufunc.\n",
    "print(scipy.log10(numpy.array([2, -1])))\n",
    "# but seems to be discontinued from version 2.0.0\n",
    "help(scipy.log10)\n",
    "# numpy.lib.scimath.log10 is similar to scipy.log10\n",
    "print(numpy.lib.scimath.log10(numpy.array([2, -1])))"
   ]
  },
  {
   "cell_type": "markdown",
   "metadata": {},
   "source": [
    "The same can be said about the functions `log`, `log2` and `logn`.  \n",
    "\n",
    "However, it is the best option to use both libraries together. Both when used hand-in-hand complement each other."
   ]
  },
  {
   "cell_type": "markdown",
   "metadata": {},
   "source": [
    "<!--NAVIGATION-->\n",
    "<span style='background: rgb(128, 128, 128, .15); width: 100%; display: block; padding: 10px 0 10px 10px'>< [Numpy & Data Types](03.01-Numpy.ipynb) | [Contents](00.00-Index.ipynb) | [More speed: Numba & Cython](03.03-Numba-Cython.ipynb) > [Top](#top) ^ </span>"
   ]
  },
  {
   "cell_type": "markdown",
   "metadata": {},
   "source": [
    "<span style='background: rgb(128, 128, 128, .15); width: 100%; display: block; padding: 10px 0 10px 10px'>This is the Jupyter notebook version of the __Python for Official Statistics__ produced by Eurostat; the content is available [on GitHub](https://github.com/eurostat/e-learning/tree/main/python-official-statistics).\n",
    "<br>The text and code are released under the [EUPL-1.2 license](https://github.com/eurostat/e-learning/blob/main/LICENSE).</span>"
   ]
  }
 ],
 "metadata": {
  "anaconda-cloud": {},
  "kernelspec": {
   "display_name": "Python 3.8.8 ('base')",
   "language": "python",
   "name": "python3"
  },
  "language_info": {
   "codemirror_mode": {
    "name": "ipython",
    "version": 3
   },
   "file_extension": ".py",
   "mimetype": "text/x-python",
   "name": "python",
   "nbconvert_exporter": "python",
   "pygments_lexer": "ipython3",
   "version": "3.8.8"
  },
  "vscode": {
   "interpreter": {
    "hash": "12d738f96725d1c1f433a1d40c5369c2dd6b861cec3a8aa29acd662c91ac2528"
   }
  }
 },
 "nbformat": 4,
 "nbformat_minor": 4
}
