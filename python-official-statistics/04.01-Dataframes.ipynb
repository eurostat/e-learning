{
 "cells": [
  {
   "cell_type": "markdown",
   "metadata": {},
   "source": [
    "<!--NAVIGATION-->\n",
    "<span style='background: rgb(128, 128, 128, .15); width: 100%; display: block; padding: 10px 0 10px 10px'>< [Quiz](03.04-Quiz.ipynb) | [Contents](00.00-Index.ipynb) | [Advanced Processing](04.02-Pandas.ipynb) ></span>\n",
    "\n",
    "<a href=\"https://colab.research.google.com/github/eurostat/e-learning/blob/main/python-official-statistics/04.01-Dataframes.ipynb\"><img align=\"left\" src=\"https://colab.research.google.com/assets/colab-badge.svg\" alt=\"Open in Colab\" title=\"Open and Execute in Google Colaboratory\"></a>"
   ]
  },
  {
   "cell_type": "markdown",
   "metadata": {},
   "source": [
    "<a id='top'></a>\n",
    "\n",
    "# Pandas: Series & Dataframes\n",
    "## Content  \n",
    "- [Pandas Objects](#objects)\n",
    "    - [Series](#series)\n",
    "    - [Index](#index)\n",
    "    - [DataFrame](#dataframe)\n",
    "- [Constructing DataFrames](#construct)\n",
    "- [DataFrame Information](#info)\n",
    "- [Indexing & Selection (and Slicing)](#indexing)\n",
    "- [Dropping Stuff](#dropping)\n",
    "- [Sort & Rank](#sort)\n",
    "- [Applying Functions](#apply)\n",
    "\n",
    "Pandas is a software library written for the Python programming language for data manipulation and analysis. In particular, it offers data structures and operations for manipulating numerical tables and time series. It is free software. The name is derived from the term \"panel data\", an econometrics term for data sets that include observations over multiple time periods for the same individuals. Its name is a play on the phrase \"Python data analysis\" itself.  \n",
    "Wes McKinney started building what would become pandas at AQR Capital while he was a researcher there from 2007 to 2010."
   ]
  },
  {
   "cell_type": "markdown",
   "metadata": {},
   "source": [
    "<a id='objects'></a>\n",
    "\n",
    "## Pandas Objects\n",
    "Pandas objects can be thought of as enhanced versions of NumPy ndarrays in which the rows and columns are identified with labels rather than simple integer indices.  \n",
    "The three fundamental Pandas data structures are the ``Series``, ``DataFrame``, and ``Index``.\n",
    "On top of the basic data structures Pandas provides a lot of useful tools, methods, and functionality.\n",
    "\n",
    "<a id='series'></a>\n",
    "### Series Object\n",
    "A Pandas ``Series`` is a one-dimensional array of indexed data. It can be seen as a generalized NumPy array: an array with specialized index.   \n",
    "It can be created from a list or array as follows:"
   ]
  },
  {
   "cell_type": "code",
   "execution_count": null,
   "metadata": {},
   "outputs": [],
   "source": [
    "import numpy as np\n",
    "import pandas as pd\n",
    "\n",
    "data = pd.Series([0.25, 0.5, 0.75, 1.0])\n",
    "data"
   ]
  },
  {
   "cell_type": "markdown",
   "metadata": {},
   "source": [
    "As we can see, the ``Series`` contains a sequence of values and a sequence of indices, which we can access with the ``values`` and ``index`` attributes.\n",
    "The ``values`` are simply a NumPy array:"
   ]
  },
  {
   "cell_type": "code",
   "execution_count": null,
   "metadata": {},
   "outputs": [],
   "source": [
    "data.values"
   ]
  },
  {
   "cell_type": "markdown",
   "metadata": {},
   "source": [
    "Like with a NumPy array, data can be accessed by the associated index via the familiar Python square-bracket notation:"
   ]
  },
  {
   "cell_type": "code",
   "execution_count": null,
   "metadata": {},
   "outputs": [],
   "source": [
    "print(data[1])\n",
    "print(data[2:])"
   ]
  },
  {
   "cell_type": "markdown",
   "metadata": {},
   "source": [
    "<a id='index'></a>\n",
    "\n",
    "### Index Objects\n",
    "They appear in conjunction with Series (and will see later, with DataFrames).  \n",
    "By default implicitly defined index is a `RangeIndex` object and permit the access to elements as in a Python list or Numpy array.  \n",
    "Depending on how you define Pandas Series an index for that object is created:"
   ]
  },
  {
   "cell_type": "code",
   "execution_count": null,
   "metadata": {},
   "outputs": [],
   "source": [
    "# implicit index\n",
    "print(data.index)\n",
    "# explicit index\n",
    "data = pd.Series([0.25, 0.5, 0.75, 1.0],\n",
    "                 index=['a', 'b', 'c', 'd'])\n",
    "print(data)\n",
    "# new type string (fixed size, more efficient)\n",
    "# about changing the index type (same function can be applied to series too)\n",
    "print(data.index.astype('string'))\n",
    "print('index item size:',len(data.index.astype('string')[0]))\n",
    "print(data.index.astype('str'))\n",
    "print(data['b'])"
   ]
  },
  {
   "cell_type": "markdown",
   "metadata": {},
   "source": [
    "Series as dictionary:"
   ]
  },
  {
   "cell_type": "code",
   "execution_count": null,
   "metadata": {},
   "outputs": [],
   "source": [
    "population = pd.Series({'California': 38332521,\n",
    "                   'Texas': 26448193,\n",
    "                   'New York': 19651127,\n",
    "                   'Florida': 19552860,\n",
    "                   'Illinois': 12882135})\n",
    "print(population)\n",
    "print(population['California':'New York'])"
   ]
  },
  {
   "cell_type": "markdown",
   "metadata": {},
   "source": [
    "or a dictionary in which the index change the available data and the order too:"
   ]
  },
  {
   "cell_type": "code",
   "execution_count": null,
   "metadata": {},
   "outputs": [],
   "source": [
    "pd.Series({2:'a', 1:'b', 3:'c'}, index=[3, 2])"
   ]
  },
  {
   "cell_type": "markdown",
   "metadata": {},
   "source": [
    "<a id='dataframe'></a>\n",
    "\n",
    "### DataFrame Object\n",
    "If a ``Series`` is an analog of a one-dimensional array with flexible indices, a ``DataFrame`` is an analog of a two-dimensional array with both flexible row indices and flexible column names.  \n",
    "Something like an Excel sheet.   \n",
    "\n",
    "Let's create a dataframe by linking together the already created series, population, with this new one, surface:"
   ]
  },
  {
   "cell_type": "code",
   "execution_count": null,
   "metadata": {},
   "outputs": [],
   "source": [
    "surface_dict = {'California': 423967, 'Texas': 695662, 'New York': 141297,\n",
    "             'Florida': 170312, 'Illinois': 149995}\n",
    "surface = pd.Series(surface_dict)\n",
    "surface"
   ]
  },
  {
   "cell_type": "markdown",
   "metadata": {},
   "source": [
    "And now put them together as a dataframe:"
   ]
  },
  {
   "cell_type": "code",
   "execution_count": null,
   "metadata": {},
   "outputs": [],
   "source": [
    "states = pd.DataFrame({'population': population,\n",
    "                       'surface': surface})\n",
    "# states.T.columns\n",
    "# states.columns\n",
    "states"
   ]
  },
  {
   "cell_type": "markdown",
   "metadata": {},
   "source": [
    "<a id='construct'></a>\n",
    "\n",
    "## Constructing DataFrame objects\n",
    "Pandas offers multiple ways to create a DataFrame, here some of them:\n",
    "\n",
    "- ### From a Series object"
   ]
  },
  {
   "cell_type": "code",
   "execution_count": null,
   "metadata": {},
   "outputs": [],
   "source": [
    "pd.DataFrame(population, columns=['population'])"
   ]
  },
  {
   "cell_type": "markdown",
   "metadata": {},
   "source": [
    "- ### From a list of dicts"
   ]
  },
  {
   "cell_type": "code",
   "execution_count": null,
   "metadata": {},
   "outputs": [],
   "source": [
    "data = [{'a': i, 'b': 2 * i}\n",
    "        for i in range(3)]\n",
    "pd.DataFrame(data)"
   ]
  },
  {
   "cell_type": "markdown",
   "metadata": {},
   "source": [
    "- ### From a dictionary of Series objects\n",
    "_already used for our first example_\n",
    "- ### From a two-dimensional NumPy array"
   ]
  },
  {
   "cell_type": "code",
   "execution_count": null,
   "metadata": {},
   "outputs": [],
   "source": [
    "pd.DataFrame(np.random.rand(3, 2),\n",
    "             columns=['foo', 'bar'],\n",
    "             index=['a', 'b', 'c'])"
   ]
  },
  {
   "cell_type": "markdown",
   "metadata": {},
   "source": [
    "- ### From a NumPy structured array"
   ]
  },
  {
   "cell_type": "code",
   "execution_count": null,
   "metadata": {},
   "outputs": [],
   "source": [
    "A = np.zeros(3, dtype=[('A', 'i8'), ('B', 'f8')])\n",
    "pd.DataFrame(A)"
   ]
  },
  {
   "cell_type": "markdown",
   "metadata": {},
   "source": [
    "<a id='info'></a>\n",
    "\n",
    "## DataFrame Information\n",
    "\n",
    "As for Numpy arrays, here in Pandas Dataframes there are some attributes and functions useful to undestand the structure and information stored in the object.\n",
    "\n",
    "### About structure\n",
    "``info()`` and ``count()`` provide also some qualitative information (null, non-null status of values). "
   ]
  },
  {
   "cell_type": "code",
   "execution_count": null,
   "metadata": {},
   "outputs": [],
   "source": [
    "# Basic Information\n",
    "# (rows, columns)\n",
    "print('- shape:', states.shape)\n",
    "# (rows * columns)\n",
    "print('- size:', states.size)\n",
    "# Describe index\n",
    "print('- index:', states.index)\n",
    "# Describe DataFrame columns\n",
    "print('- columns:', states.columns)\n",
    "# Info on DataFrame\n",
    "print('- info():', states.info())\n",
    "# Number of non-NA values\n",
    "print('- count():', states.count())\n",
    "# Number of data types\n",
    "print('- dtypes:', states.dtypes)\n",
    "# Value types count\n",
    "print('- dtypes.value_counts():', states.dtypes.value_counts())"
   ]
  },
  {
   "cell_type": "markdown",
   "metadata": {},
   "source": [
    "### About data inside\n",
    "Some statistical information describing data inside object."
   ]
  },
  {
   "cell_type": "code",
   "execution_count": null,
   "metadata": {},
   "outputs": [],
   "source": [
    "# Sum of values\n",
    "print(states.sum())\n",
    "# Cumulative sum of values\n",
    "print(states.cumsum())\n",
    "# Minimum/maximum values\n",
    "print(states.min(),states.max())\n",
    "# Minimum/Maximum index value\n",
    "print(states.idxmin(),states.idxmax() )\n",
    "# Summary statistics\n",
    "print(states.describe())\n",
    "# Mean of values\n",
    "print(states.mean())\n",
    "# Median of values\n",
    "print(states.median())"
   ]
  },
  {
   "cell_type": "markdown",
   "metadata": {},
   "source": [
    "<a id='indexing'></a>\n",
    "\n",
    "## Data Indexing and Selection (and Slicing)\n",
    "The individual ``Series`` (columns of the ``DataFrame``) can be accessed via dictionary-style indexing of the column name:"
   ]
  },
  {
   "cell_type": "code",
   "execution_count": null,
   "metadata": {},
   "outputs": [],
   "source": [
    "# individual series\n",
    "print(states['population'])\n",
    "print()\n",
    "print(type(states['population']))\n",
    "print()\n",
    "# Not the same! this is fancy indexing and returns a DataFrame\n",
    "print(states[['population']])\n",
    "print()\n",
    "print(type(states[['population']]))\n",
    "print()\n"
   ]
  },
  {
   "cell_type": "markdown",
   "metadata": {},
   "source": [
    "Also an attribute-style access with column names can be used, but, the column name must be a valid variable name.  \n",
    "_Ex. if there is a space in name, the column name is not a valid attribute._"
   ]
  },
  {
   "cell_type": "code",
   "execution_count": null,
   "metadata": {},
   "outputs": [],
   "source": [
    "states.population"
   ]
  },
  {
   "cell_type": "markdown",
   "metadata": {},
   "source": [
    "### loc & iloc\n",
    "To understand how the two functions (indexers) work we must see a ``DataFrame as a two-dimensional array``. First dimension select rows, second dimension select columns.  \n",
    "\n",
    "Using the ``iloc`` indexer, we can index the underlying array as if it is a simple NumPy array (using the implicit Python-style index).  \n",
    "\n",
    "Similarly, using the ``loc`` indexer we can index the underlying data in an array-like style but using the explicit index and column names.  \n",
    "\n",
    "Both indexers can be used for ``simple selections``, ``slicing``, ``masking``, and ``fancy indexing``:"
   ]
  },
  {
   "cell_type": "code",
   "execution_count": null,
   "metadata": {},
   "outputs": [],
   "source": [
    "def print_fmt(desc, obj):\n",
    "    print(desc)\n",
    "    print(obj)\n",
    "    print()\n",
    "\n",
    "states['density'] = states['population']/states['surface']\n",
    "\n",
    "# iloc usage\n",
    "print(states)\n",
    "print('\\niloc operations:\\n')\n",
    "# slicing iloc\n",
    "print_fmt('slice both dimensions', states.iloc[1:3,:1])\n",
    "# masking and fancy indexing as in Numpy (iloc)\n",
    "print_fmt('masking and fancy indexing', states.iloc[(states['density'] > 100).values, [1, 2]])\n",
    "# slicing with position integer for rows\n",
    "print_fmt('slicing one dimension', states.iloc[0:3])\n",
    "# indexing for both dimensions\n",
    "print_fmt('selection', states.iloc[1,1])"
   ]
  },
  {
   "cell_type": "code",
   "execution_count": null,
   "metadata": {},
   "outputs": [],
   "source": [
    "# loc usage\n",
    "print(states)\n",
    "print('\\nloc operations:\\n')\n",
    "# slicing with loc both dimensions\n",
    "print_fmt('slicing both dimensions', states.loc[:'Texas', :'surface'])\n",
    "# fancy indexing both dimensions\n",
    "print_fmt('fancy indexing both dimensions', states.loc[['Texas', 'Florida'], ['surface']])\n",
    "# masking and fancy indexing as in Numpy (loc)\n",
    "print_fmt('masking and fancy indexing', states.loc[states['density'] > 100, ['population', 'density']])"
   ]
  },
  {
   "cell_type": "markdown",
   "metadata": {},
   "source": [
    "### at & iat\n",
    "Attention! These two are indexers. In previous versions of Pandas they were functions. So now the usage is a little bit more intuitive:\n"
   ]
  },
  {
   "cell_type": "code",
   "execution_count": null,
   "metadata": {},
   "outputs": [],
   "source": [
    "# following two lines are equivalent in states dataframe\n",
    "print(states.at['New York', 'population'])\n",
    "print(states.iat[2, 0])"
   ]
  },
  {
   "cell_type": "markdown",
   "metadata": {},
   "source": [
    "### Additional indexing conventions\n",
    "\n",
    "There is something more to be mentioned about DataFrame rows and columns:  \n",
    "- While *indexing* refers to columns, *slicing* refers to rows.\n",
    "- *Masking* are also interpreted row-wise rather than column-wise."
   ]
  },
  {
   "cell_type": "markdown",
   "metadata": {},
   "source": [
    "Masking implicit: equivalent to loc"
   ]
  },
  {
   "cell_type": "code",
   "execution_count": null,
   "metadata": {},
   "outputs": [],
   "source": [
    "print_fmt('masking implicit', states[states.density > 100])\n",
    "print_fmt('masking with loc', states.loc[states.density > 100])"
   ]
  },
  {
   "cell_type": "markdown",
   "metadata": {},
   "source": [
    "Slicing implicit: equivalent to iloc"
   ]
  },
  {
   "cell_type": "code",
   "execution_count": null,
   "metadata": {},
   "outputs": [],
   "source": [
    "print_fmt('slicing rows implicit', states[0:3])\n",
    "print_fmt('slicing rows with iloc', states.iloc[0:3])"
   ]
  },
  {
   "cell_type": "markdown",
   "metadata": {},
   "source": [
    "**Masking at DataFrame level**  \n",
    "This operation is keeping all rows (of course it have no numeric sense here). Also it's replacing false values with NaN (not a number). It has no equivalent with indexers."
   ]
  },
  {
   "cell_type": "code",
   "execution_count": null,
   "metadata": {},
   "outputs": [],
   "source": [
    "print_fmt('masking at dataframe level', states[states > 100])"
   ]
  },
  {
   "cell_type": "markdown",
   "metadata": {},
   "source": [
    "**Pandas inherit operations from Numpy (ufunc)**  \n",
    "The result is keeping the index and columns."
   ]
  },
  {
   "cell_type": "code",
   "execution_count": null,
   "metadata": {},
   "outputs": [],
   "source": [
    "print(states/1000)"
   ]
  },
  {
   "cell_type": "markdown",
   "metadata": {},
   "source": [
    "With series (broadcasting row-wise by default), equivalent with ``axis=1``."
   ]
  },
  {
   "cell_type": "code",
   "execution_count": null,
   "metadata": {},
   "outputs": [],
   "source": [
    "print_fmt('with operator /', states/states.loc['California'])\n",
    "print_fmt('with function div', states.div(states.loc['California'], axis=1))"
   ]
  },
  {
   "cell_type": "markdown",
   "metadata": {},
   "source": [
    "Same div column-wise:"
   ]
  },
  {
   "cell_type": "code",
   "execution_count": null,
   "metadata": {},
   "outputs": [],
   "source": [
    "print(states.div(states['population'], axis=0))"
   ]
  },
  {
   "cell_type": "markdown",
   "metadata": {},
   "source": [
    "Preserving the columns  \n",
    "Here the divisor series (``alaska``) has no column ``density``, so, accordingly the result is NaN for it."
   ]
  },
  {
   "cell_type": "code",
   "execution_count": null,
   "metadata": {},
   "outputs": [],
   "source": [
    "alaska = pd.Series([100000, 1000000], name='Alaska', index=['population', 'surface'])\n",
    "print(states/alaska.T)"
   ]
  },
  {
   "cell_type": "markdown",
   "metadata": {},
   "source": [
    "Index and columns are aligned and sorted if dataframes involved in operation are not similar:"
   ]
  },
  {
   "cell_type": "code",
   "execution_count": null,
   "metadata": {},
   "outputs": [],
   "source": [
    "rng = np.random.RandomState(42)\n",
    "X = pd.DataFrame(rng.randint(0, 20, (2, 2)), columns=list('AB'))\n",
    "Y = pd.DataFrame(rng.randint(0, 10, (3, 3)), columns=list('BAC'))\n",
    "print_fmt('X', X)\n",
    "print_fmt('Y', Y)\n",
    "print_fmt('X + Y', X + Y)\n",
    "print_fmt('Y + X', Y + X)"
   ]
  },
  {
   "cell_type": "markdown",
   "metadata": {},
   "source": [
    "This preservation and alignment of indices and columns means that operations on data in Pandas will always maintain the data context, which prevents the types of silly errors that might come up when working with heterogeneous and/or misaligned data in raw NumPy arrays."
   ]
  },
  {
   "cell_type": "markdown",
   "metadata": {},
   "source": [
    "<a id='dropping'></a>\n",
    "\n",
    "## Dropping Stuff\n",
    "Now the last simple manipulation in DataFrames is removing some lines or columns. The function is ``drop()`` and the usage is as follow (implicit is about rows):"
   ]
  },
  {
   "cell_type": "code",
   "execution_count": null,
   "metadata": {},
   "outputs": [],
   "source": [
    "print(states)\n",
    "# Drop values from rows (axis=0)\n",
    "print(states.drop([ 'Texas', 'Florida']))\n",
    "#Drop values from columns(axis=1)\n",
    "states.drop('surface', axis=1)\n"
   ]
  },
  {
   "cell_type": "markdown",
   "metadata": {},
   "source": [
    "<a id='sort'></a>\n",
    "\n",
    "## Sort & Rank\n",
    "``sort_...()`` functions are useful when you need change the position of rows based on values for some column. When the column is the index is the function sort_index() for any other column is sort_values().  \n",
    "``rank()`` function is creating a new DataFrame with ranks: values from 1 based on values for specific column, or as percentile."
   ]
  },
  {
   "cell_type": "code",
   "execution_count": null,
   "metadata": {},
   "outputs": [],
   "source": [
    "print(states)\n",
    "\n",
    "# Sort by labels along an axis\n",
    "print(states.sort_index(ascending=False))\n",
    "\n",
    "# Sort by the values along an axis\n",
    "print(states.sort_values(by='population'))\n",
    "\n",
    "# Assign ranks to entries\n",
    "print(states.rank(ascending=False, pct=True))"
   ]
  },
  {
   "cell_type": "markdown",
   "metadata": {},
   "source": [
    "<a id='apply'></a>\n",
    "\n",
    "## Applying Functions\n",
    "When `Data Processing` it is often necessary to perform operations (such as statistical calculations, splitting, or substituting value) on a certain row or column to obtain new data. Writing a for-loop to iterate through Pandas DataFrame and Series tends to have more lines of code, less code readability, and slower performance.  \n",
    "Fortunately, there are already great methods that are built into Pandas to help you accomplish the goals: ``apply()`` and ``applymap()``."
   ]
  },
  {
   "cell_type": "code",
   "execution_count": null,
   "metadata": {},
   "outputs": [],
   "source": [
    "print(states)\n",
    "\n",
    "# Apply function\n",
    "# Used to apply a function along an axis of the DataFrame or on values of Series.\n",
    "print('\\nApply:\\n')\n",
    "print(states.apply(lambda x: np.sum(x)))\n",
    "\n",
    "# Apply function\n",
    "# Used element-wise\n",
    "print('\\nApplyMap:\\n')\n",
    "print(states.applymap(lambda x: x*2))\n"
   ]
  },
  {
   "cell_type": "markdown",
   "metadata": {},
   "source": [
    "<!--NAVIGATION-->\n",
    "<span style='background: rgb(128, 128, 128, .15); width: 100%; display: block; padding: 10px 0 10px 10px'>< [Quiz](03.04-Quiz.ipynb) | [Contents](00.00-Index.ipynb) | [Advanced Processing](04.02-Pandas.ipynb) > [Top](#top) ^ </span>"
   ]
  },
  {
   "cell_type": "markdown",
   "metadata": {},
   "source": [
    "<span style='background: rgb(128, 128, 128, .15); width: 100%; display: block; padding: 10px 0 10px 10px'>This is the Jupyter notebook version of the __Python for Official Statistics__ produced by Eurostat; the content is available [on GitHub](https://github.com/eurostat/e-learning/tree/main/python-official-statistics).\n",
    "<br>The text and code are released under the [EUPL-1.2 license](https://github.com/eurostat/e-learning/blob/main/LICENSE).</span>"
   ]
  }
 ],
 "metadata": {
  "anaconda-cloud": {},
  "kernelspec": {
   "display_name": "Python 3.8.8 ('base')",
   "language": "python",
   "name": "python3"
  },
  "language_info": {
   "codemirror_mode": {
    "name": "ipython",
    "version": 3
   },
   "file_extension": ".py",
   "mimetype": "text/x-python",
   "name": "python",
   "nbconvert_exporter": "python",
   "pygments_lexer": "ipython3",
   "version": "3.8.8"
  },
  "vscode": {
   "interpreter": {
    "hash": "12d738f96725d1c1f433a1d40c5369c2dd6b861cec3a8aa29acd662c91ac2528"
   }
  }
 },
 "nbformat": 4,
 "nbformat_minor": 4
}
