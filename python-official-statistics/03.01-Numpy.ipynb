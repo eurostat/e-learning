{
 "cells": [
  {
   "cell_type": "markdown",
   "metadata": {},
   "source": [
    "<!--NAVIGATION-->\n",
    "<span style='background: rgb(128, 128, 128, .15); width: 100%; display: block; padding: 10px 0 10px 10px'>< [Quiz 2](02.03-Quiz.ipynb) | [Contents](00.00-Index.ipynb) | [More functionality: SciPy](03.02-SciPy.ipynb) ></span>\n",
    "\n",
    "<a href=\"https://colab.research.google.com/github/eurostat/e-learning/blob/main/python-official-statistics/03.01-Numpy.ipynb\"><img align=\"left\" src=\"https://colab.research.google.com/assets/colab-badge.svg\" alt=\"Open in Colab\" title=\"Open and Execute in Google Colaboratory\"></a>"
   ]
  },
  {
   "cell_type": "markdown",
   "metadata": {},
   "source": [
    "<a id='top'></a>\n",
    "\n",
    "# Numpy & Data Types\n",
    "## Content  \n",
    "- [Overview](#overview)\n",
    "- [Numpy Array vs. Python List](#versus)\n",
    "- [Creating Numpy Arrays](#create)\n",
    "- [Shape and Dimension](#shape)\n",
    "- [Array Indexing](#indexing)\n",
    "- [Array Methods](#methods)\n",
    "- [Operations on Arrays](#operations)\n",
    "- [Concatenation and Splitting](#concat)\n",
    "- [Vectorized Functions](#ufunc)\n",
    "- [Comparisons and Masks](#masks)\n",
    "- [Sub-packages](#packages)"
   ]
  },
  {
   "cell_type": "markdown",
   "metadata": {},
   "source": [
    "<a id='overview'></a>\n",
    "\n",
    "## Overview\n",
    "\n",
    "Python is not a very performant environment, in terms of memory allocation and speed. This is because, as a main reason, was a price paid for its flexibility.  \n",
    "But a Python module, well designed and implemented in a fast low level language, as C, can be.  \n",
    "In Data Science there is the need to manipulate many, very large array of same type values. But doing this with standard Python types, as lists will be slow and will use a lot of memory.    \n",
    "\n",
    "This is the problem [Numpy](http://docs.scipy.org/doc/numpy/reference/) is ready to solve.  \n",
    "And the solution is a twofold: \n",
    "- memory excess is solved with a new type of data, numpy's ndarray;\n",
    "- speed is solved with array processing functions developed in C language for numpy package (functions that also can take advantage of the ndarray by enrolling extra hardware capabilities)  \n",
    "\n",
    "Created in `2005` by Travis Oliphant is the de facto standard for manipulating arrays.\n",
    "- Widely used in academia, finance and industry.  \n",
    "- Mature, fast, stable and under continuous development. \n",
    "- Open-source software and has many contributors."
   ]
  },
  {
   "cell_type": "markdown",
   "metadata": {},
   "source": [
    "<a id='versus'></a>\n",
    "\n",
    "## Numpy Array vs. Python List\n",
    "In a `Python list` each element is an object, and because a list can be heterogeneous, a list contains just references to all these objects. Each item in the list must contain its own type info, reference count, and other information–that is. In the special case that all variables are of the same type, much of this information is redundant: it can be much more efficient to store data in a fixed-type array.  \n",
    "This is how `Numpy ndarray` (nd comes from n-dimensional) works. At the implementation level, the array essentially contains a single pointer to one contiguous block of data."
   ]
  },
  {
   "cell_type": "markdown",
   "metadata": {},
   "source": [
    "![Array Memory Layout](img/array_vs_list.png)"
   ]
  },
  {
   "cell_type": "markdown",
   "metadata": {},
   "source": [
    "### Fixed-Type Arrays in Python\n",
    "\n",
    "Python offers an option for storing data in efficient, fixed-type data buffers.\n",
    "The built-in ``array`` module (available since Python 3.3) can be used to create arrays of a uniform type:"
   ]
  },
  {
   "cell_type": "code",
   "execution_count": null,
   "metadata": {},
   "outputs": [],
   "source": [
    "import array\n",
    "lst = [1, 2, 3, 4, 5, 6]\n",
    "# 'i' - is the code indicating the type of array items (integer here)\n",
    "arr = array.array('i', lst)\n",
    "arr"
   ]
  },
  {
   "cell_type": "markdown",
   "metadata": {},
   "source": [
    "Much more useful, is the ``ndarray`` object of the NumPy package. Python's ``array`` object provides efficient storage of array-based data, but NumPy adds to this efficient *operations* on that data."
   ]
  },
  {
   "cell_type": "markdown",
   "metadata": {},
   "source": [
    "<a id='create'></a>\n",
    "\n",
    "## Creating Numpy Arrays\n",
    "Using ``np.array`` to create arrays from Python lists (or any other enumerable). Remember that unlike Python lists, NumPy is constrained to arrays that all contain the same type. If types do not match, NumPy will upcast if possible (here, integers are up-cast to floating point):"
   ]
  },
  {
   "cell_type": "code",
   "execution_count": null,
   "metadata": {},
   "outputs": [],
   "source": [
    "import numpy as np\n",
    "arr = np.array([1, 2, 3.14, 4])\n",
    "# arr = np.array(range(1, 4)) # from a range\n",
    "# arr = np.array({1, 2, 3, 4, 2, 3, 4, 5}) # or from a set\n",
    "print(arr)\n",
    "print(arr.dtype)"
   ]
  },
  {
   "cell_type": "markdown",
   "metadata": {},
   "source": [
    "As you can see, Numpy has its own datatypes for arrays, which permit fine tunning of storage needs based on user needs, and also can help improving performance. There are more than [20 different scalar types](https://numpy.org/doc/stable/reference/arrays.scalars.html) (ex: byte, str, short, uint, half, float, double), that can be used as datatypes, and different aliases for using as generic names, platform specific or directly specifing the size: "
   ]
  },
  {
   "cell_type": "code",
   "execution_count": null,
   "metadata": {},
   "outputs": [],
   "source": [
    "# different ways to say np.float32 (character code, name, or type class)\n",
    "print(a := np.array([1, 2, 3], dtype='f'), a.dtype)\n",
    "print(a := np.array([1, 2, 3], dtype='float32'), a.dtype)\n",
    "print(a := np.array([1, 2, 3], dtype=np.float32), a.dtype)\n",
    "# generic float in numpy coresponding to float in python\n",
    "print(a := np.array([1, 2, 3], dtype=np.float_), a.dtype)"
   ]
  },
  {
   "cell_type": "markdown",
   "metadata": {},
   "source": [
    "### Functions to create arrays\n",
    "There are several of these helpers to create a particular kind of array. This is especially useful for large arrays:"
   ]
  },
  {
   "cell_type": "code",
   "execution_count": null,
   "metadata": {},
   "outputs": [],
   "source": [
    "# let's have our own function to display the array and the datatype\n",
    "def print_array(text, arr):\n",
    "    print(f'{text} values:\\n{arr}\\ndtype: {arr.dtype}\\n')\n",
    "\n",
    "# Create a length-10 integer array filled with zeros\n",
    "print_array('zeros', np.zeros(10, dtype=int))\n",
    "\n",
    "# Create a 3x2 floating-point array filled with ones\n",
    "print_array('ones', np.ones((3, 2), dtype=float))\n",
    "\n",
    "# Create a 2x2 array filled with 3.14\n",
    "print_array('full', np.full((2, 2), 3.14))\n",
    "\n",
    "# Create an array filled with a linear sequence\n",
    "# Starting at 0, ending at 20, stepping by 2\n",
    "# (this is similar to the built-in range() function)\n",
    "print_array('arange', np.arange(0, 20, 2))\n",
    "\n",
    "# Create an array of five values evenly spaced between 0 and 1\n",
    "print_array('linspace', np.linspace(0, 1, 5))\n",
    "\n",
    "# Create a 3x3 array of uniformly distributed\n",
    "# random values between 0 and 1\n",
    "print_array('random', np.random.random((3, 3)))\n",
    "\n",
    "# Create a 3x3 array of normally distributed random values\n",
    "# with mean 0 and standard deviation 1\n",
    "print_array('normal', np.random.normal(0, 1, (3, 3)))\n",
    "\n",
    "# Create a 3x3 array of random integers in the interval [0, 10)\n",
    "print_array('randint', np.random.randint(0, 10, (3, 3)))\n",
    "\n",
    "# Create a 3x3 identity matrix\n",
    "print_array('eye', np.eye(3))\n",
    "\n"
   ]
  },
  {
   "cell_type": "markdown",
   "metadata": {},
   "source": [
    "### Assigning individual elements in array:"
   ]
  },
  {
   "cell_type": "code",
   "execution_count": null,
   "metadata": {},
   "outputs": [],
   "source": [
    "arr = np.ones(4)\n",
    "print(arr)\n",
    "arr[2] = 3\n",
    "print(arr)"
   ]
  },
  {
   "cell_type": "markdown",
   "metadata": {},
   "source": [
    "<a id='shape'></a>\n",
    "\n",
    "## Shape and Dimension\n",
    "Consider the following assignment:"
   ]
  },
  {
   "cell_type": "code",
   "execution_count": null,
   "metadata": {},
   "outputs": [],
   "source": [
    "arr = np.array([1, 2, 3, 4])\n",
    "print('size:', arr.size)\n",
    "print('shape',arr.shape)\n",
    "print_array('arr', arr)\n"
   ]
  },
  {
   "cell_type": "markdown",
   "metadata": {},
   "source": [
    "Here `arr` is a *flat* array with no dimension — neither row nor column vector.  \n",
    "The dimension is recorded in the `shape` attribute, which is a tuple.  \n",
    "Here the shape tuple has only one element, which is the length of the array (tuples with one element end with a comma).\n",
    "\n",
    "To give it dimension, we can change the `shape` attribute:"
   ]
  },
  {
   "cell_type": "code",
   "execution_count": null,
   "metadata": {},
   "outputs": [],
   "source": [
    "# make it a column vector\n",
    "arr.shape=(4,1)\n",
    "print_array('arr', arr)\n",
    "\n",
    "# or a matrix\n",
    "arr.shape=(2,2)\n",
    "print_array('arr', arr)\n",
    "\n",
    "# but always the reshaping must contain the same number of elements (or use resize before to add/remove items)\n",
    "# arr.resize(6)\n",
    "arr.shape=(3,2)\n",
    "print_array('arr', arr)"
   ]
  },
  {
   "cell_type": "markdown",
   "metadata": {},
   "source": [
    "Last attribute of a ndarray we discuss here is `ndim`, the number of dimmensions. Together with `size` and `shape` completely describe the geometry of an array.\n",
    "An example:"
   ]
  },
  {
   "cell_type": "code",
   "execution_count": null,
   "metadata": {},
   "outputs": [],
   "source": [
    "# Another function to display properties of an array\n",
    "def get_attr_array(x):\n",
    "    print(f'ndim: {x.ndim}, shape: {x.shape}, size: {x.size}')\n",
    "# One-dimensional array\n",
    "get_attr_array(np.random.randint(10, size=6))\n",
    "\n",
    "# Two-dimensional array\n",
    "get_attr_array(np.ones(shape=(3, 4)))\n",
    "\n",
    "# Three-dimensional array\n",
    "get_attr_array(np.random.normal(size=(3, 4, 5)))"
   ]
  },
  {
   "cell_type": "markdown",
   "metadata": {},
   "source": [
    "We can find here a little inconsistency. Seems that in numpy is prefered parameter shape, but in random sub-module it is used size as parameter with the same meaning as size from numpy main module.\n",
    "\n",
    "As for the attributes for array's items we have the other trio: `dtype` (data type), `itemsize` (size in bytes for each item) and `nbytes` (total size of array's data: nbytes = size * itemsize)."
   ]
  },
  {
   "cell_type": "markdown",
   "metadata": {},
   "source": [
    "<a id='indexing'></a>\n",
    "\n",
    "## Array Indexing and Slicing\n",
    "For a flat array or a unidimensional array, indexing is the same as Python sequences:"
   ]
  },
  {
   "cell_type": "code",
   "execution_count": null,
   "metadata": {},
   "outputs": [],
   "source": [
    "arr = np.array([1, 2, 3, 4])\n",
    "# flat indexing\n",
    "print(arr[0])\n",
    "\n",
    "# flat slicing\n",
    "print(arr[1:])\n",
    "\n",
    "# column slicing\n",
    "arr.shape=(4,1)\n",
    "print(arr[1:])"
   ]
  },
  {
   "cell_type": "markdown",
   "metadata": {},
   "source": [
    "For a n-dimensional array it is as follows:"
   ]
  },
  {
   "cell_type": "code",
   "execution_count": null,
   "metadata": {},
   "outputs": [],
   "source": [
    "arr = np.array([[1, 2, 3], [3, 4, 5]])\n",
    "print_array('matrix', arr)\n",
    "print('shape:', arr.shape)\n",
    "\n",
    "# indexing\n",
    "print(arr[1,1])\n",
    "\n",
    "# slicing\n",
    "print(arr[:,1])\n"
   ]
  },
  {
   "cell_type": "markdown",
   "metadata": {},
   "source": [
    "<a id='methods'></a>\n",
    "\n",
    "## Array Methods\n",
    "Arrays have useful methods, all of which are carefully optimized"
   ]
  },
  {
   "cell_type": "code",
   "execution_count": null,
   "metadata": {},
   "outputs": [],
   "source": [
    "a = np.array((4, 3, 2, 1))\n",
    "print(a)\n",
    "\n",
    "# Sorts in place\n",
    "a.sort()\n",
    "print(a)\n",
    "\n",
    "# Sum\n",
    "print(a.sum())\n",
    "\n",
    "# Mean\n",
    "print(a.mean())\n",
    "\n",
    "# Max\n",
    "print(a.max())\n",
    "\n",
    "# Returns the index of the maximal element\n",
    "print(a.argmax())\n",
    "\n",
    "# Cumulative sum of the elements of array\n",
    "print(a.cumsum())\n",
    "\n",
    "# Standard deviation\n",
    "print(a.std())\n",
    "\n",
    "# Equivalent to a.transpose()\n",
    "a.shape = (2, 2)\n",
    "print(a)\n",
    "print(a.T)"
   ]
  },
  {
   "cell_type": "markdown",
   "metadata": {},
   "source": [
    "And many, many more.  \n",
    "Many of the methods discussed above have equivalent functions in the NumPy namespace, using as parameter a nparray, example:"
   ]
  },
  {
   "cell_type": "code",
   "execution_count": null,
   "metadata": {},
   "outputs": [],
   "source": [
    "print(np.sum(a))\n",
    "print(np.mean(a))"
   ]
  },
  {
   "cell_type": "markdown",
   "metadata": {},
   "source": [
    "<a id='operations'></a>\n",
    "\n",
    "## Operations on Arrays\n",
    "\n",
    "The operators `+`, `-`, `*`, `/` and `**` all act *elementwise* on arrays.  \n",
    "Example:  "
   ]
  },
  {
   "cell_type": "code",
   "execution_count": null,
   "metadata": {},
   "outputs": [],
   "source": [
    "a = np.array([1, 2, 3, 4])\n",
    "b = np.array([5, 6, 7, 8])\n",
    "print(a + b)\n",
    "\n",
    "# operation with a scalar\n",
    "print(a * 10)"
   ]
  },
  {
   "cell_type": "markdown",
   "metadata": {},
   "source": [
    "The multi-dimensional arrays follow the same general rules:"
   ]
  },
  {
   "cell_type": "code",
   "execution_count": null,
   "metadata": {},
   "outputs": [],
   "source": [
    "A = np.ones((2, 2))\n",
    "B = np.ones((2, 2))\n",
    "print(A * B)"
   ]
  },
  {
   "cell_type": "markdown",
   "metadata": {},
   "source": [
    "As you can see the product is element-wise product.  \n",
    "\n",
    "### Matrix Multiplication\n",
    "With  Python 3.5 and above, one can use the `@` symbol for matrix multiplication, as follows:  \n",
    "(For older versions of Python and NumPy you need to use the [np.dot](http://docs.scipy.org/doc/numpy/reference/generated/numpy.dot.html) function)"
   ]
  },
  {
   "cell_type": "code",
   "execution_count": null,
   "metadata": {},
   "outputs": [],
   "source": [
    "print(A @ B)\n",
    "a = np.array([[1, 2]])\n",
    "\n",
    "print(a @ A)\n",
    "print(A @ a.T)\n"
   ]
  },
  {
   "cell_type": "markdown",
   "metadata": {},
   "source": [
    "<a id='concat'></a>\n",
    "\n",
    "## Concatenation and Splitting of arrays\n",
    "\n",
    "Now you see in Numpy that `+` is a mathematical operation, but was used to concatenate lists.  \n",
    "\n",
    "Concatenation, or joining of two arrays in NumPy, is primarily accomplished using the routines ``np.concatenate``, ``np.vstack``, and ``np.hstack``.\n",
    "``np.concatenate`` takes a tuple or list of arrays as its first argument, as we can see here:"
   ]
  },
  {
   "cell_type": "code",
   "execution_count": null,
   "metadata": {},
   "outputs": [],
   "source": [
    "print(np.concatenate([A, B]))\n",
    "\n",
    "# or concatenate on a different axis\n",
    "print(np.concatenate([A, B], axis=1))\n"
   ]
  },
  {
   "cell_type": "markdown",
   "metadata": {},
   "source": [
    "For working with arrays of mixed dimensions, it can be clearer to use the ``np.vstack`` (vertical stack) and ``np.hstack`` (horizontal stack) functions:"
   ]
  },
  {
   "cell_type": "code",
   "execution_count": null,
   "metadata": {},
   "outputs": [],
   "source": [
    "# vertically stack the arrays\n",
    "print(np.vstack([a, A]))\n",
    "\n",
    "# horizontally stack the arrays\n",
    "print(np.hstack([A, a.T]))"
   ]
  },
  {
   "cell_type": "markdown",
   "metadata": {},
   "source": [
    "### Splitting of arrays\n",
    "\n",
    "The opposite of concatenation is splitting, which is implemented by the functions ``np.split``, ``np.hsplit``, and ``np.vsplit``.  For each of these, we can pass a list of indices giving the split points:"
   ]
  },
  {
   "cell_type": "code",
   "execution_count": null,
   "metadata": {},
   "outputs": [],
   "source": [
    "print(b)\n",
    "x1, x2, x3 = np.split(b, [1, 3])\n",
    "print(x1, x2, x3)"
   ]
  },
  {
   "cell_type": "markdown",
   "metadata": {},
   "source": [
    "<a id='ufunc'></a>\n",
    "\n",
    "## Vectorized Functions\n",
    "NumPy provides versions of the standard functions `log`, `exp`, `sin`, etc. that act *element-wise* on arrays"
   ]
  },
  {
   "cell_type": "code",
   "execution_count": null,
   "metadata": {},
   "outputs": [],
   "source": [
    "z = np.array([1, 2, 3])\n",
    "np.sin(z)"
   ]
  },
  {
   "cell_type": "markdown",
   "metadata": {},
   "source": [
    "This eliminates the need for explicit element-by-element loops such as:"
   ]
  },
  {
   "cell_type": "code",
   "execution_count": null,
   "metadata": {},
   "outputs": [],
   "source": [
    "n = len(z)\n",
    "y = np.empty(n)\n",
    "for i in range(n):\n",
    "    y[i] = np.sin(z[i])"
   ]
  },
  {
   "cell_type": "markdown",
   "metadata": {},
   "source": [
    "Because they act element-wise on arrays, these functions are called *vectorized functions*.\n",
    "\n",
    "In NumPy-parlance, they are also called *ufuncs*, which stands for “universal functions”.\n",
    "\n",
    "As we saw above, the usual arithmetic operations (`+`, `*`, etc.) also\n",
    "work element-wise, and combining these with the ufuncs gives a very large set of `fast element-wise functions`.\n",
    "\n",
    "Not all user-defined functions will act element-wise.\n",
    "\n",
    "For example, passing the function `f_not_ufunc` defined below a NumPy array causes a `ValueError`, but `f` is an ufunc:"
   ]
  },
  {
   "cell_type": "code",
   "execution_count": null,
   "metadata": {},
   "outputs": [],
   "source": [
    "def f(x):\n",
    "    return (1 / np.sqrt(2 * np.pi)) * np.exp(- 0.5 * x**2)\n",
    "\n",
    "def f_not_ufunc(x):\n",
    "    return 1 if x > 6 else 0\n",
    "\n",
    "print(b)\n",
    "print(f(b))\n",
    "print(f_not_ufunc(b))"
   ]
  },
  {
   "cell_type": "markdown",
   "metadata": {},
   "source": [
    "The NumPy function `np.where` provides a vectorized alternative:"
   ]
  },
  {
   "cell_type": "code",
   "execution_count": null,
   "metadata": {},
   "outputs": [],
   "source": [
    "np.where(b > 6, 1, 0)  # Insert 1 if x > 0 true, otherwise 0"
   ]
  },
  {
   "cell_type": "markdown",
   "metadata": {},
   "source": [
    "You can also use `np.vectorize` to vectorize a given function:"
   ]
  },
  {
   "cell_type": "code",
   "execution_count": null,
   "metadata": {},
   "outputs": [],
   "source": [
    "f_ufunc = np.vectorize(f_not_ufunc)\n",
    "f_ufunc(b)"
   ]
  },
  {
   "cell_type": "markdown",
   "metadata": {},
   "source": [
    "Vectorization is always the choice where the execution speed is a constraint on processing the same function on elements of an array. It has also the disadvantage of memory consumption."
   ]
  },
  {
   "cell_type": "markdown",
   "metadata": {},
   "source": [
    "<a id='masks'></a>\n",
    "\n",
    "## Comparisons and Masks\n",
    "Comparisons operators are also implemented as ufunc, so if you apply them to an array, the result will be an array of booleans:"
   ]
  },
  {
   "cell_type": "code",
   "execution_count": null,
   "metadata": {},
   "outputs": [],
   "source": [
    "print(b)\n",
    "print(b > 6)"
   ]
  },
  {
   "cell_type": "markdown",
   "metadata": {},
   "source": [
    "### Fancy Indexing\n",
    "As index, can be provided a list of indexes. This is the so called `fancy indexing`:"
   ]
  },
  {
   "cell_type": "code",
   "execution_count": null,
   "metadata": {},
   "outputs": [],
   "source": [
    "print(b[[1,3]])"
   ]
  },
  {
   "cell_type": "markdown",
   "metadata": {},
   "source": [
    "These arrays are also called masks.  \n",
    "\n",
    "Masking comes up when you want to extract, modify, count, or otherwise manipulate values in an array based on some criterion: for example, you might wish to count all values greater than a certain value, or perhaps remove all outliers that are above some threshold.\n",
    "In NumPy, Boolean masking is often the most efficient way to accomplish these types of tasks."
   ]
  },
  {
   "cell_type": "code",
   "execution_count": null,
   "metadata": {},
   "outputs": [],
   "source": [
    "print(b[b > 6])\n",
    "print(b[b > 6].sum())"
   ]
  },
  {
   "cell_type": "markdown",
   "metadata": {},
   "source": [
    "<a id='packages'></a>\n",
    "\n",
    "## Sub-packages\n",
    "\n",
    "NumPy provides some additional functionality related to scientific programming\n",
    "through its sub-packages.\n",
    "\n",
    "We’ve already used `np.random` to generate some arrays:"
   ]
  },
  {
   "cell_type": "code",
   "execution_count": null,
   "metadata": {},
   "outputs": [],
   "source": [
    "z = np.random.randn(10000)  # Generate standard normals\n",
    "y = np.random.binomial(10, 0.5, size=1000)    # 1,000 draws from Bin(10, 0.5)\n",
    "y.mean()"
   ]
  },
  {
   "cell_type": "markdown",
   "metadata": {},
   "source": [
    "Another commonly used subpackage is `np.linalg`:"
   ]
  },
  {
   "cell_type": "code",
   "execution_count": null,
   "metadata": {},
   "outputs": [],
   "source": [
    "A = np.array([[1, 2], [3, 4]])\n",
    "\n",
    "# Compute the determinant\n",
    "print(np.linalg.det(A))\n",
    "\n",
    "# Compute the inverse\n",
    "print(B := np.linalg.inv(A))\n",
    "\n",
    "print(A @ B)"
   ]
  },
  {
   "cell_type": "markdown",
   "metadata": {},
   "source": [
    "<!--NAVIGATION-->\n",
    "<span style='background: rgb(128, 128, 128, .15); width: 100%; display: block; padding: 10px 0 10px 10px'>< [Quiz 2](02.03-Quiz.ipynb) | [Contents](00.00-Index.ipynb) | [More functionality: SciPy](03.02-SciPy.ipynb) > [Top](#top) ^ </span>"
   ]
  },
  {
   "cell_type": "markdown",
   "metadata": {},
   "source": [
    "<span style='background: rgb(128, 128, 128, .15); width: 100%; display: block; padding: 10px 0 10px 10px'>This is the Jupyter notebook version of the __Python for Official Statistics__ produced by Eurostat; the content is available [on GitHub](https://github.com/eurostat/e-learning/tree/main/python-official-statistics).\n",
    "<br>The text and code are released under the [EUPL-1.2 license](https://github.com/eurostat/e-learning/blob/main/LICENSE).</span>"
   ]
  }
 ],
 "metadata": {
  "anaconda-cloud": {},
  "kernelspec": {
   "display_name": "Python 3.8.8 ('base')",
   "language": "python",
   "name": "python3"
  },
  "language_info": {
   "codemirror_mode": {
    "name": "ipython",
    "version": 3
   },
   "file_extension": ".py",
   "mimetype": "text/x-python",
   "name": "python",
   "nbconvert_exporter": "python",
   "pygments_lexer": "ipython3",
   "version": "3.8.8"
  },
  "vscode": {
   "interpreter": {
    "hash": "12d738f96725d1c1f433a1d40c5369c2dd6b861cec3a8aa29acd662c91ac2528"
   }
  }
 },
 "nbformat": 4,
 "nbformat_minor": 4
}
