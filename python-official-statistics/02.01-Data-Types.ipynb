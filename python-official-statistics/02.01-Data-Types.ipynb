{
 "cells": [
  {
   "cell_type": "markdown",
   "metadata": {},
   "source": [
    "<!--NAVIGATION-->\n",
    "<span style='background: rgb(128, 128, 128, .15); width: 100%; display: block; padding: 10px 0 10px 10px'>< [Quiz 1](01.05-Quiz.ipynb) | [Contents](00.00-Index.ipynb) | [Flow Control & Functions](02.02-Flow-Functions.ipynb) ></span>\n",
    "\n",
    "<a href=\"https://colab.research.google.com/github/eurostat/e-learning/blob/main/python-official-statistics/02.01-Data-Types.ipynb\"><img align=\"left\" src=\"https://colab.research.google.com/assets/colab-badge.svg\" alt=\"Open in Colab\" title=\"Open and Execute in Google Colaboratory\"></a>"
   ]
  },
  {
   "cell_type": "markdown",
   "metadata": {},
   "source": [
    "<a id='top'></a>\n",
    "\n",
    "# Data Types\n",
    "## Content  \n",
    "- [String](#string)  \n",
    "- [Numbers](#numbers)  \n",
    "- [Booleans](#booleans)  \n",
    "- [Assignment](#assignment)  \n",
    "- [Sequences](#sequences)  \n",
    "- [Collections](#collections)\n",
    "- [Truthy and Falsy Values](#truthy)\n",
    "\n",
    "Nothing is an object in python, called `None`. If you need a variable to be declared but not used and properly specify a type for it you can use `None` (it is used for some default parameters in functions):  "
   ]
  },
  {
   "cell_type": "code",
   "execution_count": 1,
   "metadata": {},
   "outputs": [
    {
     "data": {
      "text/plain": [
       "NoneType"
      ]
     },
     "execution_count": 1,
     "metadata": {},
     "output_type": "execute_result"
    }
   ],
   "source": [
    "a = None\n",
    "type(a)"
   ]
  },
  {
   "cell_type": "markdown",
   "metadata": {},
   "source": [
    "<a id='string'></a>\n",
    "\n",
    "## String\n",
    "Single quotes, double quotes, triple quotes ...  \n",
    "### Single quotes and double quotes\n",
    "For simple strings, and a way to include the single quotes `'` char in a string is declaring it with double quotes and viceversa. Some examples:"
   ]
  },
  {
   "cell_type": "code",
   "execution_count": 2,
   "metadata": {},
   "outputs": [
    {
     "name": "stdout",
     "output_type": "stream",
     "text": [
      "a\n",
      "aa\n",
      "aaa\n",
      "Hello!\n",
      "don't worry\n"
     ]
    }
   ],
   "source": [
    "print('a')\n",
    "print('aa')\n",
    "print(\"aaa\")\n",
    "print('Hello!')\n",
    "print(\"don't worry\")"
   ]
  },
  {
   "cell_type": "markdown",
   "metadata": {},
   "source": [
    "Also it is possible to use escape characters.  \n",
    "Example: \n"
   ]
  },
  {
   "cell_type": "code",
   "execution_count": 3,
   "metadata": {},
   "outputs": [
    {
     "data": {
      "text/plain": [
       "\"don't\""
      ]
     },
     "execution_count": 3,
     "metadata": {},
     "output_type": "execute_result"
    }
   ],
   "source": [
    "'don\\'t'"
   ]
  },
  {
   "cell_type": "markdown",
   "metadata": {},
   "source": [
    "### Triple quotes (or triple double quotes)  \n",
    "This way you can have all characters in a string, the string can be multiple lines:"
   ]
  },
  {
   "cell_type": "code",
   "execution_count": 4,
   "metadata": {},
   "outputs": [
    {
     "name": "stdout",
     "output_type": "stream",
     "text": [
      "\"The Old Pond\" by Matsuo Bashō\n",
      "An old silent pond\n",
      "A frog jumps into the pond —\n",
      "Splash! Silence again.\n"
     ]
    }
   ],
   "source": [
    "haiku = '''\"The Old Pond\" by Matsuo Bashō\n",
    "An old silent pond\n",
    "A frog jumps into the pond —\n",
    "Splash! Silence again.'''\n",
    "\n",
    "print(haiku)"
   ]
  },
  {
   "cell_type": "markdown",
   "metadata": {},
   "source": [
    "### F-strings\n",
    "Python 3.6 introduced the f-strings that allow you to format text strings faster and more elegant.  \n",
    "The f-strings provide a way to embed expressions inside a string literal using a clearer syntax than the format() method:\n"
   ]
  },
  {
   "cell_type": "code",
   "execution_count": 5,
   "metadata": {},
   "outputs": [
    {
     "name": "stdout",
     "output_type": "stream",
     "text": [
      "1/a = 0.33\n"
     ]
    }
   ],
   "source": [
    "a = 3\n",
    "print(f'1/a = {1/a:.2f}')"
   ]
  },
  {
   "cell_type": "markdown",
   "metadata": {},
   "source": [
    "### Raw Strings\n",
    "When you prefix a string with the letter r or R, that string becomes a raw string.  \n",
    "Unlike a regular string, a raw string treats the backslashes `\\` as literal characters.  \n",
    "Raw strings are useful when you deal with strings that have many backslashes, for example, regular expressions or directory paths on Windows.  \n"
   ]
  },
  {
   "cell_type": "code",
   "execution_count": 6,
   "metadata": {},
   "outputs": [
    {
     "name": "stdout",
     "output_type": "stream",
     "text": [
      "That is Carol\\'s cat.\n"
     ]
    }
   ],
   "source": [
    "print(r'That is Carol\\'s cat.')"
   ]
  },
  {
   "cell_type": "markdown",
   "metadata": {},
   "source": [
    "### Concatenation & Replication"
   ]
  },
  {
   "cell_type": "code",
   "execution_count": 7,
   "metadata": {},
   "outputs": [
    {
     "name": "stdout",
     "output_type": "stream",
     "text": [
      "aaabbb\n",
      "aaabbb\n",
      "AliceAliceAliceAliceAlice\n"
     ]
    }
   ],
   "source": [
    "# String Concatenation\n",
    "str1 = 'aaa' \"bbb\"\n",
    "str2 = 'aaa' + \"bbb\"\n",
    "print(str1)\n",
    "print(str2)\n",
    "\n",
    "# String Replication\n",
    "str3 = 'Alice' * 5\n",
    "print(str3)"
   ]
  },
  {
   "cell_type": "markdown",
   "metadata": {},
   "source": [
    "### The `in` Operator with Strings\n",
    "Check for the existence of a substring in a string (case sensitive)."
   ]
  },
  {
   "cell_type": "code",
   "execution_count": 8,
   "metadata": {},
   "outputs": [
    {
     "name": "stdout",
     "output_type": "stream",
     "text": [
      "True\n",
      "True\n",
      "False\n",
      "True\n"
     ]
    },
    {
     "data": {
      "text/plain": [
       "False"
      ]
     },
     "execution_count": 8,
     "metadata": {},
     "output_type": "execute_result"
    }
   ],
   "source": [
    "print('Hello' in 'Hello World')\n",
    "print('Hello' in 'Hello')\n",
    "print('HELLO' in 'Hello World')\n",
    "print('' in 'spam')\n",
    "'cats' not in 'cats and dogs'"
   ]
  },
  {
   "cell_type": "markdown",
   "metadata": {},
   "source": [
    "### Some more functionality of the class `str` by examples"
   ]
  },
  {
   "cell_type": "code",
   "execution_count": 9,
   "metadata": {},
   "outputs": [
    {
     "name": "stdout",
     "output_type": "stream",
     "text": [
      "HELLO WORLD!\n",
      "False\n",
      "True\n",
      "My name is Simon\n",
      "['My', 'name', 'is', 'Simon']\n",
      "\"        Hello         \"\n"
     ]
    },
    {
     "data": {
      "text/plain": [
       "'       Hello'"
      ]
     },
     "execution_count": 9,
     "metadata": {},
     "output_type": "execute_result"
    }
   ],
   "source": [
    "spam = 'Hello world!'\n",
    "# convert to capital letters\n",
    "print(spam.upper())\n",
    "'HELLO WORLD!'\n",
    "#  check if all chars are lower\n",
    "print(spam.islower())\n",
    "# check if the string start with a specific sequence\n",
    "print(spam.startswith('Hello'))\n",
    "# joining a list of strings into a string separated by space\n",
    "print(' '.join(['My', 'name', 'is', 'Simon']))\n",
    "# split: the opposite of join\n",
    "print('My name is Simon'.split())\n",
    "# centering a string into a predefined size string\n",
    "c = 'Hello'.center(20)\n",
    "print('\"', c, '\"')\n",
    "# removing spaces from right\n",
    "c.rstrip()"
   ]
  },
  {
   "cell_type": "markdown",
   "metadata": {},
   "source": [
    "<a id='numbers'></a>\n",
    "\n",
    "## Numbers\n",
    "There are three numeric types: integer, floating-point, and complex.  \n",
    "\n",
    "### Integer Numbers Examples"
   ]
  },
  {
   "cell_type": "code",
   "execution_count": 10,
   "metadata": {},
   "outputs": [
    {
     "data": {
      "text/plain": [
       "(-69, -6, 0, 1000, 10, 10, 10, 5, -9, 56, 9)"
      ]
     },
     "execution_count": 10,
     "metadata": {},
     "output_type": "execute_result"
    }
   ],
   "source": [
    "-69, -6, 0, 1_000, 0xa, 0o12, 0B1010, int(5), int(-9.3), int('56'), int('100', base=3)"
   ]
  },
  {
   "cell_type": "markdown",
   "metadata": {},
   "source": [
    "### Floating-point Numbers Examples"
   ]
  },
  {
   "cell_type": "code",
   "execution_count": 11,
   "metadata": {},
   "outputs": [
    {
     "data": {
      "text/plain": [
       "(-1.25, 0.5, 0.0, 0.5, 4.5, 9.9)"
      ]
     },
     "execution_count": 11,
     "metadata": {},
     "output_type": "execute_result"
    }
   ],
   "source": [
    "-1.25, --0.5, 0.0, 0.5, float(\"4.5\"), float(3 + 6.9)"
   ]
  },
  {
   "cell_type": "markdown",
   "metadata": {},
   "source": [
    "### Complex Numbers Examples"
   ]
  },
  {
   "cell_type": "code",
   "execution_count": 12,
   "metadata": {},
   "outputs": [
    {
     "data": {
      "text/plain": [
       "((3.2+2j), 1j, (-1+0j), (3-5.7j), 0j)"
      ]
     },
     "execution_count": 12,
     "metadata": {},
     "output_type": "execute_result"
    }
   ],
   "source": [
    "3.2 + 2j, 1j, -1 + 0j, complex('3-5.7j'), complex()"
   ]
  },
  {
   "cell_type": "markdown",
   "metadata": {},
   "source": [
    "### Arithmetics\n",
    "Here is the list with all the operations. Some work for all numeric types some not:  \n",
    "\n",
    "| Operation | Symbol |\n",
    "| :- | :-: |\n",
    "| Addition | + |\n",
    "| Substraction | - |\n",
    "| Multiplication | * |\n",
    "| Division | / |\n",
    "| Floor division: division quotient | // |\n",
    "| Modulus: division reminder | % |\n",
    "| Exponentiation | ** |\n",
    "\n",
    "#### Narrower, Wider\n",
    "These notions are important when use numbers of different types in arithmetics. In python's arithmetics, always are used numbers of the same types. So, a conversion to wider operand is done before aritmetic operation.  \n",
    "`Complex numbers` are `wider` than `float numbers` which are `wider` than `int numbers`.  \n",
    "Some examples:"
   ]
  },
  {
   "cell_type": "code",
   "execution_count": 23,
   "metadata": {},
   "outputs": [
    {
     "name": "stdout",
     "output_type": "stream",
     "text": [
      "1.2\n",
      "(0.5+0.5j)\n",
      "8\n"
     ]
    }
   ],
   "source": [
    "print(1 + .2)\n",
    "print((1 + 1j)/2)\n",
    "print(2**3)"
   ]
  },
  {
   "cell_type": "markdown",
   "metadata": {},
   "source": [
    "There are some situations when arithmetics are not possile an an error will be raise:\n",
    "> float // complex  \n",
    "> float % complex"
   ]
  },
  {
   "cell_type": "markdown",
   "metadata": {},
   "source": [
    "### Integer bitwise operations\n",
    "For integer type you can also manipulate the value (a variable) at the bit level. Here is the list with all the operators:  \n",
    "\n",
    "| Operation | Symbol |\n",
    "| :- | :-: |\n",
    "| AND | & |\n",
    "| OR | \\| |\n",
    "| XOR (exclusive OR) | ^ |\n",
    "| NOT | ~ |\n",
    "| Left shift | << |\n",
    "| Left shift | >> | \n",
    "\n",
    "Some examples here:"
   ]
  },
  {
   "cell_type": "code",
   "execution_count": 13,
   "metadata": {},
   "outputs": [
    {
     "name": "stdout",
     "output_type": "stream",
     "text": [
      "0b1010\n",
      "0b1011\n",
      "0b1\n",
      "-0b1011\n",
      "0b101000\n",
      "0b10\n"
     ]
    }
   ],
   "source": [
    "print(bin(0b1011 & 0b1010))\n",
    "print(bin(0b1011 | 0b1010))\n",
    "print(bin(0b1011 ^ 0b1010))\n",
    "print(bin(~ 0b1010))\n",
    "print(bin(0b1010 << 2))\n",
    "print(bin(0b1010 >> 2))"
   ]
  },
  {
   "cell_type": "markdown",
   "metadata": {},
   "source": [
    "For more about bitwise operations see [python official page](https://wiki.python.org/moin/BitwiseOperators)."
   ]
  },
  {
   "cell_type": "markdown",
   "metadata": {},
   "source": [
    "<a id='booleans'></a>\n",
    "\n",
    "## Booleans\n",
    "There is just one type of boolean type in Python, of course, with values: `True` & `False`.  \n",
    " ### Comparison operators\n",
    " They work for majority of types, but operators must be of the same type or can be converted into some wider type.  \n",
    " \n",
    "| Operation | Symbol |\n",
    "| :- | :-: |\n",
    "| Equal | == |\n",
    "| Not equal | != |\n",
    "| Greater than | > |\n",
    "| Less than | > |\n",
    "| Greater than or equal to | >= |\n",
    "| Less than or equal to | <= |  \n",
    "\n",
    "### Logical operators\n",
    "Logical operators are used on conditional statements (involving boolean values, expressions, variables).\n",
    "\n",
    "| Operation | Symbol |\n",
    "| :- | :-: |\n",
    "| True if both statements are true | and |\n",
    "| True if one of the statements is true | or |\n",
    "| False if the result is true and viceversa | not |\n",
    "\n",
    "### Identity operator(s)\n",
    "Identity operators are used to compare the objects, not if they are equal, but if they are actually the same object, with the same memory location.  \n",
    "The operator is: `is`; and can be used in the negative form too: `is not`.\n",
    "\n",
    "### Membership operator(s)\n",
    "They are used to test if a sequence is presented in an object. Already used in strings. Also useful in complex types as lists and dictionaries.  \n",
    "The operator is: `in`; and can be used in the negative form too: `not in`."
   ]
  },
  {
   "cell_type": "markdown",
   "metadata": {},
   "source": [
    "<a id='assignment'></a>\n",
    "\n",
    "## Assignment\n",
    "Assignment is the operation to `assign` values to variables.  \n",
    "The main operator is `=` sign. If you want to use a variable before first initializing it you'll get an error. Each re-assignment can change the type of a variable.  \n",
    "\n",
    "Python provides also some shortcuts for assignment, called compound assignment operators.  \n",
    "\n",
    "Example:  "
   ]
  },
  {
   "cell_type": "code",
   "execution_count": 21,
   "metadata": {},
   "outputs": [
    {
     "data": {
      "text/plain": [
       "6"
      ]
     },
     "execution_count": 21,
     "metadata": {},
     "output_type": "execute_result"
    }
   ],
   "source": [
    "x = 1\n",
    "x = x + 5\n",
    "x"
   ]
  },
  {
   "cell_type": "markdown",
   "metadata": {},
   "source": [
    "this line can be writen using compound operator like this:  "
   ]
  },
  {
   "cell_type": "code",
   "execution_count": 20,
   "metadata": {},
   "outputs": [
    {
     "data": {
      "text/plain": [
       "6"
      ]
     },
     "execution_count": 20,
     "metadata": {},
     "output_type": "execute_result"
    }
   ],
   "source": [
    "x = 1\n",
    "x += 5\n",
    "x"
   ]
  },
  {
   "cell_type": "markdown",
   "metadata": {},
   "source": [
    "There is a compound oerator available for each arithmetic and bitwise operator.\n",
    "\n",
    "### Walrus operator\n",
    "The walrus operator is denoted `:=` , and introduced in Python 3.8. This operator is used for and only for the assignment of variables within another expression. Walrus operators can be used everywhere from loops to functions to list comprehension to if statements to roundabout variable assignment.  \n",
    "\n",
    "Example: A while loop.  \n",
    "Without walrus operator:"
   ]
  },
  {
   "cell_type": "code",
   "execution_count": 15,
   "metadata": {},
   "outputs": [
    {
     "name": "stdout",
     "output_type": "stream",
     "text": [
      "1\n",
      "2\n",
      "3\n",
      "4\n"
     ]
    }
   ],
   "source": [
    "i = 1\n",
    "while i < 5:\n",
    "    print(i)\n",
    "    i += 1"
   ]
  },
  {
   "cell_type": "markdown",
   "metadata": {},
   "source": [
    "now with the walrus:"
   ]
  },
  {
   "cell_type": "code",
   "execution_count": 16,
   "metadata": {},
   "outputs": [
    {
     "name": "stdout",
     "output_type": "stream",
     "text": [
      "1\n",
      "2\n",
      "3\n",
      "4\n"
     ]
    }
   ],
   "source": [
    "i = 0\n",
    "while (i := i + 1) < 5:\n",
    "    print(i)"
   ]
  },
  {
   "cell_type": "markdown",
   "metadata": {},
   "source": [
    "It sparked a little of a controversy in the python community.  \n",
    "For more, see [PEP 572](https://www.python.org/dev/peps/pep-0572/)."
   ]
  },
  {
   "cell_type": "markdown",
   "metadata": {},
   "source": [
    "<a id='sequences'></a>\n",
    "\n",
    "## Sequences\n",
    "In Python programming, sequences are a generic term for an ordered set which means that the order in which we input the items will be the same when we access them.  \n",
    "Python supports six different types of sequences. These are `strings`, `lists`, `tuples`, `byte sequences`, `byte arrays`, and `range` objects.  "
   ]
  },
  {
   "cell_type": "markdown",
   "metadata": {},
   "source": [
    "### Lists\n",
    "Python lists are similar to an array but they allow us to create a heterogeneous collection of items inside a list.  \n",
    "Here some examples:"
   ]
  },
  {
   "cell_type": "code",
   "execution_count": 23,
   "metadata": {},
   "outputs": [
    {
     "name": "stdout",
     "output_type": "stream",
     "text": [
      "[1, 2, 3, 4] ['red', 'green', 'blue'] ['hello', 100, 3.14, [1, 2, 3]]\n"
     ]
    }
   ],
   "source": [
    "list1 = [1,2,3,4]\n",
    "list2 = ['red', 'green', 'blue']\n",
    "list3 = ['hello', 100, 3.14, [1,2,3] ]\n",
    "\n",
    "print(list1, list2, list3)"
   ]
  },
  {
   "cell_type": "markdown",
   "metadata": {},
   "source": [
    "Very fast now more opeartions available for lists.\n",
    "### Changing a value in a list:  "
   ]
  },
  {
   "cell_type": "code",
   "execution_count": 24,
   "metadata": {},
   "outputs": [
    {
     "data": {
      "text/plain": [
       "[1, 2, 34, 4]"
      ]
     },
     "execution_count": 24,
     "metadata": {},
     "output_type": "execute_result"
    }
   ],
   "source": [
    "list1[2] = 34\n",
    "list1"
   ]
  },
  {
   "cell_type": "markdown",
   "metadata": {},
   "source": [
    "\n",
    "### Removing Values from Lists with `del` Statements:"
   ]
  },
  {
   "cell_type": "code",
   "execution_count": 25,
   "metadata": {},
   "outputs": [
    {
     "data": {
      "text/plain": [
       "[1, 2, 4]"
      ]
     },
     "execution_count": 25,
     "metadata": {},
     "output_type": "execute_result"
    }
   ],
   "source": [
    "del list1[2]\n",
    "list1"
   ]
  },
  {
   "cell_type": "markdown",
   "metadata": {},
   "source": [
    "\n",
    "### Finding a Value in a List with the ``index()`` Method"
   ]
  },
  {
   "cell_type": "code",
   "execution_count": 26,
   "metadata": {},
   "outputs": [
    {
     "data": {
      "text/plain": [
       "1"
      ]
     },
     "execution_count": 26,
     "metadata": {},
     "output_type": "execute_result"
    }
   ],
   "source": [
    "spam = ['Zophie', 'Pooka', 'Fat-tail', 'Pooka']\n",
    "spam.index('Pooka')"
   ]
  },
  {
   "cell_type": "markdown",
   "metadata": {},
   "source": [
    "\n",
    "### Adding Values to Lists with the ``append()`` and ``insert()`` Methods\n",
    "- append():"
   ]
  },
  {
   "cell_type": "code",
   "execution_count": 27,
   "metadata": {},
   "outputs": [
    {
     "data": {
      "text/plain": [
       "['cat', 'dog', 'bat', 'moose']"
      ]
     },
     "execution_count": 27,
     "metadata": {},
     "output_type": "execute_result"
    }
   ],
   "source": [
    "spam = ['cat', 'dog', 'bat']\n",
    "spam.append('moose')\n",
    "spam"
   ]
  },
  {
   "cell_type": "markdown",
   "metadata": {},
   "source": [
    "\n",
    "- insert():"
   ]
  },
  {
   "cell_type": "code",
   "execution_count": 28,
   "metadata": {},
   "outputs": [
    {
     "data": {
      "text/plain": [
       "['cat', 'chicken', 'dog', 'bat', 'moose']"
      ]
     },
     "execution_count": 28,
     "metadata": {},
     "output_type": "execute_result"
    }
   ],
   "source": [
    "spam.insert(1, 'chicken')\n",
    "spam"
   ]
  },
  {
   "cell_type": "markdown",
   "metadata": {},
   "source": [
    "### Removing Values from Lists with ``remove()``"
   ]
  },
  {
   "cell_type": "code",
   "execution_count": 29,
   "metadata": {},
   "outputs": [
    {
     "data": {
      "text/plain": [
       "['cat', 'rat', 'elephant']"
      ]
     },
     "execution_count": 29,
     "metadata": {},
     "output_type": "execute_result"
    }
   ],
   "source": [
    "spam = ['cat', 'bat', 'rat', 'elephant']\n",
    "spam.remove('bat')\n",
    "spam"
   ]
  },
  {
   "cell_type": "markdown",
   "metadata": {},
   "source": [
    "\n",
    "### Sorting the Values in a List with the ``sort()`` Method"
   ]
  },
  {
   "cell_type": "code",
   "execution_count": 30,
   "metadata": {},
   "outputs": [
    {
     "data": {
      "text/plain": [
       "[-7, 1, 2, 3.14, 5]"
      ]
     },
     "execution_count": 30,
     "metadata": {},
     "output_type": "execute_result"
    }
   ],
   "source": [
    "spam = [2, 5, 3.14, 1, -7]\n",
    "spam.sort()\n",
    "spam"
   ]
  },
  {
   "cell_type": "markdown",
   "metadata": {},
   "source": [
    "### Tuples\n",
    "Tuples are also a sequence of Python objects. A tuple is created by separating items with a comma. They can be optionally put inside the parenthesis () but it is necessary to put parenthesis in an empty tuple.  \n",
    "Tuples are also `immutable` like `strings` so we can `only reassign` the variable but we `cannot` `change`, `add` or `remove` elements from the tuple.\n",
    "Some examples:"
   ]
  },
  {
   "cell_type": "code",
   "execution_count": 31,
   "metadata": {},
   "outputs": [
    {
     "name": "stdout",
     "output_type": "stream",
     "text": [
      "()\n",
      "(1, 2, 3, 4, 5)\n",
      "('78 Street', 3.8, 9826)\n"
     ]
    }
   ],
   "source": [
    "print(())\n",
    "print((1,2,3,4,5))\n",
    "print(( \"78 Street\", 3.8, 9826 ))"
   ]
  },
  {
   "cell_type": "markdown",
   "metadata": {},
   "source": [
    "#### Boxing, unboxing\n",
    "This is a valid code in Python:"
   ]
  },
  {
   "cell_type": "code",
   "execution_count": 32,
   "metadata": {},
   "outputs": [
    {
     "name": "stdout",
     "output_type": "stream",
     "text": [
      "Alice Bob\n",
      "Bob Alice\n"
     ]
    }
   ],
   "source": [
    "a, b = 'Alice', 'Bob'\n",
    "print(a, b)\n",
    "a, b = b, a\n",
    "print(a, b)"
   ]
  },
  {
   "cell_type": "markdown",
   "metadata": {},
   "source": [
    "How this works? Some misterious multiple assignment? No.\n",
    "Let's explain for this line `a, b = 'Alice', 'Bob'`.  \n",
    "On the right side of `=` sign the two strings are first converted into a tuple `('Alice', 'Bob')`. This is called boxing.\n",
    "On the left side of `=` sign if the number of variables is the same as the number of elements of the tuple (actualy unboxing works with all sequence types), each variable, in order, is assigned one element from sequence. This is called unboxing."
   ]
  },
  {
   "cell_type": "markdown",
   "metadata": {},
   "source": [
    "### Python ``range()`` objects\n",
    "range() is a built-in function in Python that returns us a range object. The range object is nothing but a sequence of integers. It generates the integers within the specified start and stop range.  \n",
    "Example:"
   ]
  },
  {
   "cell_type": "code",
   "execution_count": 33,
   "metadata": {},
   "outputs": [
    {
     "name": "stdout",
     "output_type": "stream",
     "text": [
      "0\n",
      "1\n",
      "2\n"
     ]
    }
   ],
   "source": [
    "for i in range(3):\n",
    "    print(i)"
   ]
  },
  {
   "cell_type": "markdown",
   "metadata": {},
   "source": [
    "## Common operations for sequences type\n",
    "\n",
    "### Getting Individual Values\n",
    "Done with the help of square brackets.  \n",
    "Example: "
   ]
  },
  {
   "cell_type": "code",
   "execution_count": 34,
   "metadata": {},
   "outputs": [
    {
     "name": "stdout",
     "output_type": "stream",
     "text": [
      "cat\n",
      "elephant\n",
      "elephant\n"
     ]
    },
    {
     "ename": "IndexError",
     "evalue": "list index out of range",
     "output_type": "error",
     "traceback": [
      "\u001b[1;31m---------------------------------------------------------------------------\u001b[0m",
      "\u001b[1;31mIndexError\u001b[0m                                Traceback (most recent call last)",
      "\u001b[1;32mC:\\Users\\RADICA~1\\AppData\\Local\\Temp/ipykernel_16584/2009781269.py\u001b[0m in \u001b[0;36m<cell line: 7>\u001b[1;34m()\u001b[0m\n\u001b[0;32m      5\u001b[0m \u001b[0mprint\u001b[0m\u001b[1;33m(\u001b[0m\u001b[0mspam\u001b[0m\u001b[1;33m[\u001b[0m\u001b[1;33m-\u001b[0m\u001b[1;36m1\u001b[0m\u001b[1;33m]\u001b[0m\u001b[1;33m)\u001b[0m\u001b[1;33m\u001b[0m\u001b[1;33m\u001b[0m\u001b[0m\n\u001b[0;32m      6\u001b[0m \u001b[1;31m# error: index out of range\u001b[0m\u001b[1;33m\u001b[0m\u001b[1;33m\u001b[0m\u001b[1;33m\u001b[0m\u001b[0m\n\u001b[1;32m----> 7\u001b[1;33m \u001b[0mspam\u001b[0m\u001b[1;33m[\u001b[0m\u001b[1;36m4\u001b[0m\u001b[1;33m]\u001b[0m\u001b[1;33m\u001b[0m\u001b[1;33m\u001b[0m\u001b[0m\n\u001b[0m",
      "\u001b[1;31mIndexError\u001b[0m: list index out of range"
     ]
    }
   ],
   "source": [
    "spam = ['cat', 'bat', 'rat', 'elephant']\n",
    "print(spam[0])\n",
    "print(spam[3])\n",
    "# negative indexes are allowed: -1 is the last element, -2 is the element before the last one\n",
    "print(spam[-1])\n",
    "# error: index out of range\n",
    "spam[4]"
   ]
  },
  {
   "cell_type": "markdown",
   "metadata": {},
   "source": [
    "### Concatenation\n",
    "The operator (``+``) is used to concatenate the second element to the first:"
   ]
  },
  {
   "cell_type": "code",
   "execution_count": 35,
   "metadata": {},
   "outputs": [
    {
     "data": {
      "text/plain": [
       "[1, 3, 4, 1, 1, 1]"
      ]
     },
     "execution_count": 35,
     "metadata": {},
     "output_type": "execute_result"
    }
   ],
   "source": [
    "[1,3,4] + [1,1,1]"
   ]
  },
  {
   "cell_type": "markdown",
   "metadata": {},
   "source": [
    "\n",
    "### Repeat\n",
    "The operator (``*``) is used to repeat a sequence n number of times:"
   ]
  },
  {
   "cell_type": "code",
   "execution_count": 36,
   "metadata": {},
   "outputs": [
    {
     "data": {
      "text/plain": [
       "(1, 2, 3, 1, 2, 3, 1, 2, 3)"
      ]
     },
     "execution_count": 36,
     "metadata": {},
     "output_type": "execute_result"
    }
   ],
   "source": [
    "(1,2,3) * 3"
   ]
  },
  {
   "cell_type": "markdown",
   "metadata": {},
   "source": [
    "### Membership Operators\n",
    "Membership operators `in` and `not in` are used to check whether an item is present in the sequence or not. They return True or False. Already seen in the string type context.\n",
    "\n",
    "### Slicing Operator\n",
    "All the sequences in Python can be sliced. The slicing operator can take out a part of a sequence from the sequence.  \n",
    "\n",
    "Examples:"
   ]
  },
  {
   "cell_type": "code",
   "execution_count": 37,
   "metadata": {},
   "outputs": [
    {
     "name": "stdout",
     "output_type": "stream",
     "text": [
      "new yo\n",
      "The ne\n",
      "(2, 3)\n",
      "(1, 3, 5)\n"
     ]
    }
   ],
   "source": [
    "str = \"The new york times\"\n",
    "print(str[4:10])\n",
    "# implicit start is position 0\n",
    "print(str[:6])\n",
    "tup = (1,2,3,4,5)\n",
    "print(tup[1:3])\n",
    " # third element in a slice is the step\n",
    "print(tup[::2])\n"
   ]
  },
  {
   "cell_type": "markdown",
   "metadata": {},
   "source": [
    "### List Comprehension\n",
    "The use of a Python list comprehension is when you want to iterate over a sequence and perform a quick operation on the elements, and having a list as result. Also you can iterate on every type that can be enumerated (like `set` or `dictionary`). \n",
    "Examples:"
   ]
  },
  {
   "cell_type": "code",
   "execution_count": 38,
   "metadata": {},
   "outputs": [
    {
     "name": "stdout",
     "output_type": "stream",
     "text": [
      "[11, 12, 13, 14, 15]\n",
      "[4, 16]\n"
     ]
    }
   ],
   "source": [
    "nums = [1,2,3,4,5]\n",
    "# create a new list from list nums adding 10 to each element\n",
    "print([i+10 for i in nums])\n",
    "# new list with squares for all even numbers from nums\n",
    "print([i**2 for i in nums if i % 2 == 0])"
   ]
  },
  {
   "cell_type": "markdown",
   "metadata": {},
   "source": [
    "<a id='collections'></a>\n",
    "\n",
    "## Collections\n",
    "\n",
    "### Sets\n",
    "Sets in Python are a collection of unordered and unindexed Python objects. Sets are mutable, iterable and they do not contain duplicate values. It is similar to the concept of the mathematical set. Here a nice [tutorial](https://techvidvan.com/tutorials/python-sets/).  \n",
    "\n",
    "Create some:  "
   ]
  },
  {
   "cell_type": "code",
   "execution_count": 39,
   "metadata": {},
   "outputs": [],
   "source": [
    "fruits = {\"apple\", \"banana\", \"cherry\", \"apple\"}\n",
    "empty_set = set()\n",
    "s = {1, 2, 3}"
   ]
  },
  {
   "cell_type": "markdown",
   "metadata": {},
   "source": [
    "and, as an unordered data type, they can't be indexed:  "
   ]
  },
  {
   "cell_type": "code",
   "execution_count": 40,
   "metadata": {},
   "outputs": [
    {
     "ename": "TypeError",
     "evalue": "'set' object is not subscriptable",
     "output_type": "error",
     "traceback": [
      "\u001b[1;31m---------------------------------------------------------------------------\u001b[0m",
      "\u001b[1;31mTypeError\u001b[0m                                 Traceback (most recent call last)",
      "\u001b[1;32mC:\\Users\\RADICA~1\\AppData\\Local\\Temp/ipykernel_16584/3287493502.py\u001b[0m in \u001b[0;36m<cell line: 2>\u001b[1;34m()\u001b[0m\n\u001b[0;32m      1\u001b[0m \u001b[0ms\u001b[0m \u001b[1;33m=\u001b[0m \u001b[1;33m{\u001b[0m\u001b[1;36m1\u001b[0m\u001b[1;33m,\u001b[0m \u001b[1;36m2\u001b[0m\u001b[1;33m,\u001b[0m \u001b[1;36m3\u001b[0m\u001b[1;33m}\u001b[0m\u001b[1;33m\u001b[0m\u001b[1;33m\u001b[0m\u001b[0m\n\u001b[1;32m----> 2\u001b[1;33m \u001b[0ms\u001b[0m\u001b[1;33m[\u001b[0m\u001b[1;36m0\u001b[0m\u001b[1;33m]\u001b[0m\u001b[1;33m\u001b[0m\u001b[1;33m\u001b[0m\u001b[0m\n\u001b[0m",
      "\u001b[1;31mTypeError\u001b[0m: 'set' object is not subscriptable"
     ]
    }
   ],
   "source": [
    "s = {1, 2, 3}\n",
    "s[0]"
   ]
  },
  {
   "cell_type": "markdown",
   "metadata": {},
   "source": [
    "Add an elemment to a set:"
   ]
  },
  {
   "cell_type": "code",
   "execution_count": 41,
   "metadata": {},
   "outputs": [
    {
     "data": {
      "text/plain": [
       "{1, 2, 3, 4}"
      ]
     },
     "execution_count": 41,
     "metadata": {},
     "output_type": "execute_result"
    }
   ],
   "source": [
    "s = {1, 2, 3}\n",
    "s.add(4)\n",
    "s"
   ]
  },
  {
   "cell_type": "markdown",
   "metadata": {},
   "source": [
    "or, several at once:"
   ]
  },
  {
   "cell_type": "code",
   "execution_count": 42,
   "metadata": {},
   "outputs": [
    {
     "data": {
      "text/plain": [
       "{1, 2, 3, 4, 5, 6}"
      ]
     },
     "execution_count": 42,
     "metadata": {},
     "output_type": "execute_result"
    }
   ],
   "source": [
    "s = {1, 2, 3}\n",
    "s.update([2, 3, 4, 5, 6])\n",
    "s"
   ]
  },
  {
   "cell_type": "markdown",
   "metadata": {},
   "source": [
    "and remember: Sets automatically remove duplicates.  \n",
    "\n",
    "\n",
    "Removing an element from a set:  \n",
    "There are two methods: `remove()` and `discard()`. Both methods will remove an element from the set, but remove() will raise a key error if the value doesn't exist."
   ]
  },
  {
   "cell_type": "code",
   "execution_count": 43,
   "metadata": {},
   "outputs": [
    {
     "data": {
      "text/plain": [
       "{1, 2}"
      ]
     },
     "execution_count": 43,
     "metadata": {},
     "output_type": "execute_result"
    }
   ],
   "source": [
    "s = {1, 2, 3}\n",
    "s.remove(3)\n",
    "s"
   ]
  },
  {
   "cell_type": "code",
   "execution_count": 44,
   "metadata": {},
   "outputs": [
    {
     "ename": "KeyError",
     "evalue": "3",
     "output_type": "error",
     "traceback": [
      "\u001b[1;31m---------------------------------------------------------------------------\u001b[0m",
      "\u001b[1;31mKeyError\u001b[0m                                  Traceback (most recent call last)",
      "\u001b[1;32mC:\\Users\\RADICA~1\\AppData\\Local\\Temp/ipykernel_16584/1356592174.py\u001b[0m in \u001b[0;36m<cell line: 1>\u001b[1;34m()\u001b[0m\n\u001b[1;32m----> 1\u001b[1;33m \u001b[0ms\u001b[0m\u001b[1;33m.\u001b[0m\u001b[0mremove\u001b[0m\u001b[1;33m(\u001b[0m\u001b[1;36m3\u001b[0m\u001b[1;33m)\u001b[0m\u001b[1;33m\u001b[0m\u001b[1;33m\u001b[0m\u001b[0m\n\u001b[0m",
      "\u001b[1;31mKeyError\u001b[0m: 3"
     ]
    }
   ],
   "source": [
    "s.remove(3)"
   ]
  },
  {
   "cell_type": "code",
   "execution_count": 45,
   "metadata": {},
   "outputs": [
    {
     "data": {
      "text/plain": [
       "{1, 2}"
      ]
     },
     "execution_count": 45,
     "metadata": {},
     "output_type": "execute_result"
    }
   ],
   "source": [
    "s.discard(3) # no error\n",
    "s"
   ]
  },
  {
   "cell_type": "markdown",
   "metadata": {},
   "source": [
    "#### Set Union  \n",
    "`union()` or `|` will create a new set that contains all the elements from the sets provided."
   ]
  },
  {
   "cell_type": "code",
   "execution_count": 46,
   "metadata": {},
   "outputs": [
    {
     "data": {
      "text/plain": [
       "{1, 2, 3, 4, 5}"
      ]
     },
     "execution_count": 46,
     "metadata": {},
     "output_type": "execute_result"
    }
   ],
   "source": [
    "s1 = {1, 2, 3}\n",
    "s2 = {3, 4, 5}\n",
    "s1.union(s2)  # or 's1 | s2'"
   ]
  },
  {
   "cell_type": "markdown",
   "metadata": {},
   "source": [
    "#### Set Intersection  \n",
    "`intersection()` or `&` will return a set containing only the elements that are common to all of them."
   ]
  },
  {
   "cell_type": "code",
   "execution_count": 47,
   "metadata": {},
   "outputs": [
    {
     "data": {
      "text/plain": [
       "{3}"
      ]
     },
     "execution_count": 47,
     "metadata": {},
     "output_type": "execute_result"
    }
   ],
   "source": [
    "s1 = {1, 2, 3}\n",
    "s2 = {2, 3, 4}\n",
    "s3 = {3, 4, 5}\n",
    "s1 & s2 & s3  # or 's1.intersection(s2, s3)'"
   ]
  },
  {
   "cell_type": "markdown",
   "metadata": {},
   "source": [
    "#### Set Difference\n",
    "`difference()` or `-` will return only the elements that are unique to the first set (invoked set)."
   ]
  },
  {
   "cell_type": "code",
   "execution_count": 48,
   "metadata": {},
   "outputs": [
    {
     "name": "stdout",
     "output_type": "stream",
     "text": [
      "{1}\n",
      "{4}\n"
     ]
    }
   ],
   "source": [
    "s1 = {1, 2, 3}\n",
    "s2 = {2, 3, 4}\n",
    "print(s1.difference(s2))  # or 's1 - s2'\n",
    "print(s2.difference(s1)) # or 's2 - s1'"
   ]
  },
  {
   "cell_type": "markdown",
   "metadata": {},
   "source": [
    "#### Set Symetric Difference  \n",
    "`symetric_difference()` or `^` will return all the elements that are not common between them."
   ]
  },
  {
   "cell_type": "code",
   "execution_count": 49,
   "metadata": {},
   "outputs": [
    {
     "data": {
      "text/plain": [
       "{1, 4}"
      ]
     },
     "execution_count": 49,
     "metadata": {},
     "output_type": "execute_result"
    }
   ],
   "source": [
    "s1 = {1, 2, 3}\n",
    "s2 = {2, 3, 4}\n",
    "s1.symmetric_difference(s2)  # or 's1 ^ s2'"
   ]
  },
  {
   "cell_type": "markdown",
   "metadata": {},
   "source": [
    "#### Set Comprehension\n",
    "Similar with list comprehension, it's possible to create a new set by enumerate and process elements from a different set (or list):"
   ]
  },
  {
   "cell_type": "code",
   "execution_count": 50,
   "metadata": {},
   "outputs": [
    {
     "data": {
      "text/plain": [
       "{'ABC', 'DEF'}"
      ]
     },
     "execution_count": 50,
     "metadata": {},
     "output_type": "execute_result"
    }
   ],
   "source": [
    "b = {\"abc\", \"def\"}\n",
    "{s.upper() for s in b}"
   ]
  },
  {
   "cell_type": "markdown",
   "metadata": {},
   "source": [
    "### Dictionaries\n",
    "Dictionaries in Python are collections that are unordered, indexed and mutable. They hold keys and values. Here a nice [tutorial](https://techvidvan.com/tutorials/python-dictionaries/). \n",
    "\n",
    "Let's create some:"
   ]
  },
  {
   "cell_type": "code",
   "execution_count": 51,
   "metadata": {},
   "outputs": [
    {
     "data": {
      "text/plain": [
       "{'name': 'John', 'age': 36}"
      ]
     },
     "execution_count": 51,
     "metadata": {},
     "output_type": "execute_result"
    }
   ],
   "source": [
    "x = {\"name\" : \"John\", \"age\" : 36}\n",
    "x"
   ]
  },
  {
   "cell_type": "code",
   "execution_count": 52,
   "metadata": {},
   "outputs": [
    {
     "data": {
      "text/plain": [
       "{'name': 'John', 'age': 36}"
      ]
     },
     "execution_count": 52,
     "metadata": {},
     "output_type": "execute_result"
    }
   ],
   "source": [
    "x = dict(name=\"John\", age=36)\n",
    "x"
   ]
  },
  {
   "cell_type": "markdown",
   "metadata": {},
   "source": [
    "#### The keys(), values(), and items() Methods:\n",
    "For accessing the keys, or values of the dictionary, or a pair (key, value) as a tuple.\n",
    "- Function values():"
   ]
  },
  {
   "cell_type": "code",
   "execution_count": 53,
   "metadata": {},
   "outputs": [
    {
     "name": "stdout",
     "output_type": "stream",
     "text": [
      "red\n",
      "42\n"
     ]
    }
   ],
   "source": [
    "spam = {'color': 'red', 'age': 42}\n",
    "for v in spam.values():\n",
    "    print(v)"
   ]
  },
  {
   "cell_type": "markdown",
   "metadata": {},
   "source": [
    " - Function keys():"
   ]
  },
  {
   "cell_type": "code",
   "execution_count": 54,
   "metadata": {},
   "outputs": [
    {
     "name": "stdout",
     "output_type": "stream",
     "text": [
      "color\n",
      "age\n"
     ]
    }
   ],
   "source": [
    "for k in spam.keys():\n",
    "    print(k)"
   ]
  },
  {
   "cell_type": "markdown",
   "metadata": {},
   "source": [
    "- Function items():"
   ]
  },
  {
   "cell_type": "code",
   "execution_count": 55,
   "metadata": {},
   "outputs": [
    {
     "name": "stdout",
     "output_type": "stream",
     "text": [
      "('color', 'red')\n",
      "('age', 42)\n"
     ]
    }
   ],
   "source": [
    "for i in spam.items():\n",
    "    print(i)"
   ]
  },
  {
   "cell_type": "markdown",
   "metadata": {},
   "source": [
    "Because items are key-value pairs, actually a tuple, it can be unboxed:"
   ]
  },
  {
   "cell_type": "code",
   "execution_count": 58,
   "metadata": {},
   "outputs": [
    {
     "name": "stdout",
     "output_type": "stream",
     "text": [
      "Key: color, Value: red\n",
      "Key: age, Value: 42\n"
     ]
    }
   ],
   "source": [
    "for k, v in spam.items():\n",
    "    print(f'Key: {k}, Value: {v}')"
   ]
  },
  {
   "cell_type": "markdown",
   "metadata": {},
   "source": [
    "Checking whether a key or value exists in a dictionary"
   ]
  },
  {
   "cell_type": "code",
   "execution_count": 59,
   "metadata": {},
   "outputs": [
    {
     "data": {
      "text/plain": [
       "True"
      ]
     },
     "execution_count": 59,
     "metadata": {},
     "output_type": "execute_result"
    }
   ],
   "source": [
    "spam = {'name': 'Zophie', 'age': 7}\n",
    "'name' in spam.keys()"
   ]
  },
  {
   "cell_type": "code",
   "execution_count": 60,
   "metadata": {},
   "outputs": [
    {
     "data": {
      "text/plain": [
       "True"
      ]
     },
     "execution_count": 60,
     "metadata": {},
     "output_type": "execute_result"
    }
   ],
   "source": [
    "'Zophie' in spam.values()"
   ]
  },
  {
   "cell_type": "markdown",
   "metadata": {},
   "source": [
    "You can omit the call to ``keys()`` when checking for a key:"
   ]
  },
  {
   "cell_type": "code",
   "execution_count": 64,
   "metadata": {},
   "outputs": [
    {
     "data": {
      "text/plain": [
       "False"
      ]
     },
     "execution_count": 64,
     "metadata": {},
     "output_type": "execute_result"
    }
   ],
   "source": [
    "'color' in spam # equivalent to: 'color' in spam.keys()"
   ]
  },
  {
   "cell_type": "code",
   "execution_count": 62,
   "metadata": {},
   "outputs": [
    {
     "data": {
      "text/plain": [
       "True"
      ]
     },
     "execution_count": 62,
     "metadata": {},
     "output_type": "execute_result"
    }
   ],
   "source": [
    "'color' not in spam"
   ]
  },
  {
   "cell_type": "markdown",
   "metadata": {},
   "source": [
    "#### The ``get()`` Method\n",
    "Get has two parameters: key and default value if the key did not exist"
   ]
  },
  {
   "cell_type": "code",
   "execution_count": 66,
   "metadata": {},
   "outputs": [
    {
     "name": "stdout",
     "output_type": "stream",
     "text": [
      "I am bringing 2 cups.\n",
      "I am bringing 0 eggs.\n"
     ]
    }
   ],
   "source": [
    "picnic_items = {'apples': 5, 'cups': 2}\n",
    "print(f'I am bringing {picnic_items.get(\"cups\", 0)} cups.')\n",
    "print(f'I am bringing {picnic_items.get(\"eggs\", 0)} eggs.')"
   ]
  },
  {
   "cell_type": "markdown",
   "metadata": {},
   "source": [
    "#### The ``setdefault()`` Method\n",
    "Adding a new key/value is done like this:"
   ]
  },
  {
   "cell_type": "code",
   "execution_count": 67,
   "metadata": {},
   "outputs": [
    {
     "data": {
      "text/plain": [
       "{'name': 'Pooka', 'age': 5, 'color': 'black'}"
      ]
     },
     "execution_count": 67,
     "metadata": {},
     "output_type": "execute_result"
    }
   ],
   "source": [
    "spam = {'name': 'Pooka', 'age': 5}\n",
    "if 'color' not in spam:\n",
    "    spam['color'] = 'black'\n",
    "spam"
   ]
  },
  {
   "cell_type": "markdown",
   "metadata": {},
   "source": [
    "Using setdefault() we could write the same code more succinctly:"
   ]
  },
  {
   "cell_type": "code",
   "execution_count": 68,
   "metadata": {},
   "outputs": [
    {
     "data": {
      "text/plain": [
       "{'name': 'Pooka', 'age': 5, 'color': 'black'}"
      ]
     },
     "execution_count": 68,
     "metadata": {},
     "output_type": "execute_result"
    }
   ],
   "source": [
    "spam = {'name': 'Pooka', 'age': 5}\n",
    "spam.setdefault('color', 'black')\n",
    "spam"
   ]
  },
  {
   "cell_type": "markdown",
   "metadata": {},
   "source": [
    "If the key already exists, the function is doing nothing:"
   ]
  },
  {
   "cell_type": "code",
   "execution_count": 69,
   "metadata": {},
   "outputs": [
    {
     "data": {
      "text/plain": [
       "{'name': 'Pooka', 'age': 5, 'color': 'black'}"
      ]
     },
     "execution_count": 69,
     "metadata": {},
     "output_type": "execute_result"
    }
   ],
   "source": [
    "spam.setdefault('color', 'white')\n",
    "spam"
   ]
  },
  {
   "cell_type": "markdown",
   "metadata": {},
   "source": [
    "#### Merge two dictionaries"
   ]
  },
  {
   "cell_type": "code",
   "execution_count": 70,
   "metadata": {},
   "outputs": [
    {
     "data": {
      "text/plain": [
       "{'a': 1, 'b': 3, 'c': 4}"
      ]
     },
     "execution_count": 70,
     "metadata": {},
     "output_type": "execute_result"
    }
   ],
   "source": [
    "x = {'a': 1, 'b': 2}\n",
    "y = {'b': 3, 'c': 4}\n",
    "z = {**x, **y}\n",
    "z"
   ]
  },
  {
   "cell_type": "markdown",
   "metadata": {},
   "source": [
    "#### Dictionary comprehension\n",
    "And, finally, the comprehension in dictionaries same way as for other sequences and collections."
   ]
  },
  {
   "cell_type": "code",
   "execution_count": 71,
   "metadata": {},
   "outputs": [
    {
     "data": {
      "text/plain": [
       "{'Pooka': 'name', 5: 'age'}"
      ]
     },
     "execution_count": 71,
     "metadata": {},
     "output_type": "execute_result"
    }
   ],
   "source": [
    "# nice example of changing keys in values and values in keys\n",
    "c = {'name': 'Pooka', 'age': 5}\n",
    "{v: k for k, v in c.items()}"
   ]
  },
  {
   "cell_type": "raw",
   "metadata": {},
   "source": [
    "[Make the same treatment for collections as for sequences]"
   ]
  },
  {
   "cell_type": "markdown",
   "metadata": {},
   "source": [
    "<a id='truthy'></a>\n",
    "\n",
    "## Truthy and Falsy Values\n",
    "Any object can be tested for truth value (not just boolean), for use in an if or while condition or as operand of the logical operations below (and, or, not).  \n",
    "They provide some shortcuts, but be aware, there is a little drawback: the code becomes not so readable.  \n",
    "\n",
    "Example: Checking the length of a string.  \n",
    "Without relying on `falsy`:"
   ]
  },
  {
   "cell_type": "code",
   "execution_count": 72,
   "metadata": {},
   "outputs": [
    {
     "name": "stdout",
     "output_type": "stream",
     "text": [
      "string empty\n"
     ]
    }
   ],
   "source": [
    "str = ''\n",
    "if len(str) > 0:\n",
    "    print('string not empty')\n",
    "else:\n",
    "    print('string empty')"
   ]
  },
  {
   "cell_type": "markdown",
   "metadata": {},
   "source": [
    "now the same thing with falsy:"
   ]
  },
  {
   "cell_type": "code",
   "execution_count": 73,
   "metadata": {},
   "outputs": [
    {
     "name": "stdout",
     "output_type": "stream",
     "text": [
      "string empty\n"
     ]
    }
   ],
   "source": [
    "str = ''\n",
    "if str:\n",
    "    print('string not empty')\n",
    "else:\n",
    "    print('string empty')"
   ]
  },
  {
   "cell_type": "markdown",
   "metadata": {},
   "source": [
    "Here some `falsy` values:  \n",
    "- Sequences and Collections:\n",
    "    - Empty lists []\n",
    "    - Empty tuples ()\n",
    "    - Empty dictionaries {}\n",
    "    - Empty sets set()\n",
    "    - Empty strings \"\"\n",
    "    - Empty ranges range(0)\n",
    "- Numbers, zero of any numeric type:\n",
    "    - Integer: 0\n",
    "    - Float: 0.0\n",
    "    - Complex: 0j\n",
    "- Constants\n",
    "    - None\n",
    "    - False"
   ]
  },
  {
   "cell_type": "markdown",
   "metadata": {},
   "source": [
    "<!--NAVIGATION-->\n",
    "<span style='background: rgb(128, 128, 128, .15); width: 100%; display: block; padding: 10px 0 10px 10px'>< [Quiz 1](01.05-Quiz.ipynb) | [Contents](00.00-Index.ipynb) | [Flow Control & Functions](02.02-Flow-Functions.ipynb) > [Top](#top) ^ </span>"
   ]
  },
  {
   "cell_type": "markdown",
   "metadata": {},
   "source": [
    "<span style='background: rgb(128, 128, 128, .15); width: 100%; display: block; padding: 10px 0 10px 10px'>This is the Jupyter notebook version of the __Python for Official Statistics__ produced by Eurostat; the content is available [on GitHub](https://github.com/eurostat/e-learning/tree/main/python-official-statistics).\n",
    "<br>The text and code are released under the [EUPL-1.2 license](https://github.com/eurostat/e-learning/blob/main/LICENSE).</span>"
   ]
  }
 ],
 "metadata": {
  "anaconda-cloud": {},
  "kernelspec": {
   "display_name": "Python 3.8.8 ('base')",
   "language": "python",
   "name": "python3"
  },
  "language_info": {
   "codemirror_mode": {
    "name": "ipython",
    "version": 3
   },
   "file_extension": ".py",
   "mimetype": "text/x-python",
   "name": "python",
   "nbconvert_exporter": "python",
   "pygments_lexer": "ipython3",
   "version": "3.8.8"
  },
  "vscode": {
   "interpreter": {
    "hash": "12d738f96725d1c1f433a1d40c5369c2dd6b861cec3a8aa29acd662c91ac2528"
   }
  }
 },
 "nbformat": 4,
 "nbformat_minor": 4
}
