{
 "cells": [
  {
   "cell_type": "markdown",
   "metadata": {},
   "source": [
    "# Python for Official Statistics"
   ]
  },
  {
   "cell_type": "markdown",
   "metadata": {},
   "source": [
    "![logo](img/logos.svg)\n",
    "\n",
    "*v.0.6 31/08/2022*"
   ]
  },
  {
   "cell_type": "markdown",
   "metadata": {},
   "source": [
    "<!--NAVIGATION-->\n",
    "<span style='background: rgb(128, 128, 128, .15); width: 100%; display: block; padding: 10px 0 10px 10px'>| [Welcome](00.00-Welcome.ipynb) ></span>\n",
    "\n",
    "<a href=\"https://colab.research.google.com/github/eurostat/e-learning/blob/main/python-official-statistics/00.00-Index.ipynb\"><img align=\"left\" src=\"https://colab.research.google.com/assets/colab-badge.svg\" alt=\"Open in Colab\" title=\"Open and Execute in Google Colaboratory\"></a>\n"
   ]
  },
  {
   "cell_type": "markdown",
   "metadata": {},
   "source": [
    "## Table of Contents\n",
    "  <br>\n",
    "      \n",
    "### [Welcome](00.00-Welcome.ipynb)\n",
    "### [Interview](00.01-Interview.mov)  \n",
    "  <br>\n",
    "      \n",
    "### 1. The Python's World\n",
    "- [Why Python?](01.01-Why-Python.ipynb)\n",
    "- [Installing Python & Tools](01.02-Installing-Python.ipynb)\n",
    "- [Hello World!](01.03-Hello-World.ipynb)\n",
    "- [Jupyter](01.04-Jupyter.ipynb)\n",
    "- [Quiz 1](01.05-Quiz.ipynb)\n",
    "<br><br>\n",
    "  \n",
    "### 2. A little bit of Python’s kitchen\n",
    "- [Data Types](02.01-Data-Types.ipynb)\n",
    "- [Flow Control & Functions](02.02-Flow-Functions.ipynb)\n",
    "- [Quiz 2](02.03-Quiz.ipynb)\n",
    "<br><br>\n",
    "  \n",
    "### 3. Performance computing\n",
    "- [Numpy & Data Types](03.01-Numpy.ipynb)\n",
    "- [More functionality: SciPy](03.02-SciPy.ipynb)\n",
    "- [More speed: Numba & Cython](03.03-Numba-Cython.ipynb)\n",
    "- [Quiz 3](03.04-Quiz.ipynb)\n",
    "<br><br>  \n",
    "  \n",
    "### 4. pandas - Python Data Analysis Library\n",
    "- [Series & Dataframes](04.01-Dataframes.ipynb)\n",
    "- [Advanced Processing](04.02-Pandas.ipynb)\n",
    "- [Quiz 4](04.03-Quiz.ipynb)\n",
    "<br><br>  \n",
    "  \n",
    "### 5. Visualization with Python\n",
    "- [Matplotlib](05.01-Matplotlib.ipynb)\n",
    "- [Evolutions: Seaborn, Plotly and Bokeh](05.02-Seaborn.ipynb)\n",
    "- [Quiz 5](05.03-Quiz.ipynb)\n",
    "<br><br>  \n",
    "  \n",
    "### 6. Machine Learning Frameworks in Python\n",
    "- [Scikit-learn](06.01-Scikit.ipynb)\n",
    "- [Tensorflow + Keras and PyTorch](06.02-Tensorflow.ipynb)\n",
    "- [Quiz 6](06.03-Quiz.ipynb)\n",
    "<br><br>  \n",
    "  \n",
    "### [The Future of Data Science and Python](07.00-Future.ipynb)  \n",
    "<br>  \n",
    "  \n",
    "### [Annex 1: Official Statistics Packages](07.01-OfS-Packages.ipynb)\n",
    "### [Annex 2: Packages Used](07.02-All-Packages.ipynb)\n",
    "### [Annex 3: References](07.03-References.ipynb)\n",
    "### [Annex 4: Helper Code Used](07.04-Helpers.ipynb)\n",
    "### [Annex 5: MNIST Image Generator](07.05-MNIST-Generator.ipynb)"
   ]
  },
  {
   "cell_type": "markdown",
   "metadata": {},
   "source": [
    "<span style='background: rgb(128, 128, 128, .15); width: 100%; display: block; padding: 10px 0 10px 10px'>This is the Jupyter notebook version of the __Python for Official Statistics__ produced by Eurostat; the content is available [on GitHub](https://github.com/eurostat/e-learning/tree/main/python-official-statistics).\n",
    "<br>The text and code are released under the [EUPL-1.2 license](https://github.com/eurostat/e-learning/blob/main/LICENSE).</span>"
   ]
  }
 ],
 "metadata": {
  "anaconda-cloud": {},
  "kernelspec": {
   "display_name": "Python 3.8.8 ('base')",
   "language": "python",
   "name": "python3"
  },
  "language_info": {
   "codemirror_mode": {
    "name": "ipython",
    "version": 3
   },
   "file_extension": ".py",
   "mimetype": "text/x-python",
   "name": "python",
   "nbconvert_exporter": "python",
   "pygments_lexer": "ipython3",
   "version": "3.8.8"
  },
  "vscode": {
   "interpreter": {
    "hash": "12d738f96725d1c1f433a1d40c5369c2dd6b861cec3a8aa29acd662c91ac2528"
   }
  }
 },
 "nbformat": 4,
 "nbformat_minor": 1
}
