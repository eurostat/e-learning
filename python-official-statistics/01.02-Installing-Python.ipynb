{
 "cells": [
  {
   "cell_type": "markdown",
   "metadata": {},
   "source": [
    "<!--NAVIGATION-->\n",
    "<span style='background: rgb(128, 128, 128, .15); width: 100%; display: block; padding: 10px 0 10px 10px'>< [Why Python?](01.01-Why-Python.ipynb) | [Contents](00.00-Index.ipynb) | [Hello World!](01.03-Hello-World.ipynb) ></span>\n",
    "\n",
    "<a href=\"https://colab.research.google.com/github/eurostat/e-learning/blob/main/python-official-statistics/01.02-Installing-Python.ipynb\"><img align=\"left\" src=\"https://colab.research.google.com/assets/colab-badge.svg\" alt=\"Open in Colab\" title=\"Open and Execute in Google Colaboratory\"></a>"
   ]
  },
  {
   "cell_type": "markdown",
   "metadata": {},
   "source": [
    "<a id='top'></a>\n",
    "\n",
    "# Installing Python & Tools\n",
    "## Content  \n",
    "- [Python](#python)  \n",
    "- [Anaconda and Miniconda](#anaconda)  \n",
    "- [IPython and Jupyter](#ipython)  \n",
    "- [IDEs](#ide)  "
   ]
  },
  {
   "cell_type": "markdown",
   "metadata": {},
   "source": [
    "<a id='python'></a>\n",
    "\n",
    "## Python\n",
    "Because of the very high popularity of Python it is possible that you already have it.<br>\n",
    "To verify that, check in a console (Command Prompt) if Python is installed: Type python, and if it is not installed in Windows you’ll see a message like this:\n",
    "\n",
    "```\n",
    "'python' is not recognized as an internal or external command,\n",
    "operable program or batch file.\n",
    "```\n",
    "\n",
    "Python can be downloaded and installed from this address:\n",
    "\n",
    "https://www.python.org/downloads/\n",
    "\n",
    "We recommend you to use, always, the last stable version. The minimum version we need for our examples is 3.6.\n",
    "\n",
    "If Python exists in your system a message like this:\n",
    "\n",
    "```\n",
    "Python 3.8.8 (default, Apr 13 2021, 15:08:03) [MSC v.1916 64 bit (AMD64)]\n",
    "Type \"help\", \"copyright\", \"credits\" or \"license\" for more information.\n",
    ">>>\n",
    "```\n",
    "\n",
    "The last line represents the cursor of the python environment. If you have that you can start writing code.\n",
    "\n",
    "**Version 3.8.8** (*python-3.8.8-amd64.exe*) 64 bits installer for windows, is 28MB in size, and contains: Python interpreter, documentation, pip installer, and some common packages.\n"
   ]
  },
  {
   "cell_type": "markdown",
   "metadata": {},
   "source": [
    "<a id='anaconda'></a>\n",
    "\n",
    "## Anaconda and Miniconda\n",
    "`Anaconda` is a distribution of the Python programming language for scientific computing, that aims to simplify package management and deployment. The distribution includes data-science packages suitable for Windows, Linux, and macOS.\n",
    "It is the most popular distribution with more than 25M users.\n",
    "\n",
    "Download distribution from here: https://www.anaconda.com/products/individual\n",
    "\n",
    "**Version 2021** (*Anaconda3-2021.05-Windows-x86_64.exe*) 64 bits installer for Windows is 489MB in size and contains:\n",
    "- Python interpreter, documentation, conda command line tool (used also as installer)\n",
    "- Over 250 packages are included in the distribution.<br>The list of packages in Anaconda can be found here: https://docs.anaconda.com/anaconda/packages/py3.8_win-64/\n",
    "- Jupyter environment\n",
    "- Spyder IDE\n",
    "\n",
    "`Miniconda` is a free minimal installer for conda. It is a small, bootstrap version of Anaconda that includes only conda, Python, the packages they depend on, and a small number of other useful packages, including pip, zlib and a few others.\n",
    "Miniconda can be installed from here:\n",
    "\n",
    "https://conda.io/en/latest/miniconda.html\n",
    "\n",
    "**Version 3** (*Miniconda3-latest-Windows-x86_64.exe*) 64 bits installer for Windows is 73MB in size and contains:\n",
    "Python interpreter, documentation, conda command line tool (used also as installer)\n",
    "### Which one?\n",
    "\n",
    "Both Anaconda and Miniconda are based on the Anaconda repository for packages and conda tool. If you want to know which one fits you better:\n",
    "\n",
    "**Choose Anaconda if you:**\n",
    "- Are new to conda or Python.\n",
    "- Like the convenience of having Python and over 1,500 scientific packages automatically installed at once.\n",
    "- Have the time and disk space---a few minutes and 3 GB.\n",
    "- Do not want to individually install each of the packages you want to use.\n",
    "- Wish to use a set of packages curated and vetted for interoperability and usability.\n",
    "\n",
    "**Choose Miniconda if you:**\n",
    "- Do not mind installing each of the packages you want to use individually.\n",
    "- Do not have time or disk space to install over 1,500 packages at once.\n",
    "- Want fast access to Python and the conda commands and you wish to sort out the other programs later."
   ]
  },
  {
   "cell_type": "markdown",
   "metadata": {},
   "source": [
    "<a id='ipython'></a>\n",
    "\n",
    "## IPython and Jupyter\n",
    "If you opted for a reduced distribution it’s probable not to have installed these tools. We highly recommend having them installed. \n",
    "\n",
    "`IPython` stands for Interactive Python, and is adding some new and very useful functionality on top of the existing version of Python. IPython is a kernel for Jupyter.<br>It comes installed in the Anaconda package and can be launched as: `ipython`\n",
    "\n",
    "For more check this:\n",
    "https://ipython.org/\n",
    "\n",
    "\n",
    "### Jupyter\n",
    "The `Jupyter Notebook` is the original web application for creating and sharing computational documents. It offers a simple, streamlined, document-centric experience.\n",
    "It comes installed in the Anaconda package.<br>\n",
    "`JupyterLab` is a next-generation web-based user interface for Project Jupyter.\n",
    "\n",
    "Jupyter is our choice for presenting the examples in this course, and we will have a whole presentation video for this tool.\n",
    "\n",
    "For more:\n",
    "https://jupyter.org/\n"
   ]
  },
  {
   "cell_type": "markdown",
   "metadata": {},
   "source": [
    "<a id='ide'></a>\n",
    "\n",
    "## IDEs\n",
    "An integrated development environment (IDE) is software for building applications that combines common developer tools into a single graphical user interface (GUI).\n",
    "There are several free or freemium IDEs of very high quality exclusively for Python or with Python plugins: `IDLE`, `Sublime Text 3`, `Atom`, `Thonny`, `PyCharm`, `VSC`, `Vim`, `Spyder`, `Jupyter`, `Eclipse`. My favorite is VSC.\n",
    "\n",
    "### VSC (Visual Studio Code)\n",
    "If you need a proper lightweight editor with good Python integration we recommend VSC (Visual Studio Code). It is an open source project, started by Microsoft. It has an extensions based architecture.<br>For Python there are very good extensions for autocompletion, debugging, jupyter integrations, etc.\n",
    "More here:\n",
    "\n",
    "https://code.visualstudio.com/download\n"
   ]
  },
  {
   "cell_type": "markdown",
   "metadata": {},
   "source": [
    "<!--NAVIGATION-->\n",
    "<span style='background: rgb(128, 128, 128, .15); width: 100%; display: block; padding: 10px 0 10px 10px'>< [Why Python?](01.01-Why-Python.ipynb) | [Contents](00.00-Index.ipynb) | [Hello World!](01.03-Hello-World.ipynb) > [Top](#top) ^ </span>"
   ]
  },
  {
   "cell_type": "markdown",
   "metadata": {},
   "source": [
    "<span style='background: rgb(128, 128, 128, .15); width: 100%; display: block; padding: 10px 0 10px 10px'>This is the Jupyter notebook version of the __Python for Official Statistics__ produced by Eurostat; the content is available [on GitHub](https://github.com/eurostat/e-learning/tree/main/python-official-statistics).\n",
    "<br>The text and code are released under the [EUPL-1.2 license](https://github.com/eurostat/e-learning/blob/main/LICENSE).</span>"
   ]
  }
 ],
 "metadata": {
  "anaconda-cloud": {},
  "kernelspec": {
   "display_name": "Python 3.8.8 ('base')",
   "language": "python",
   "name": "python3"
  },
  "language_info": {
   "codemirror_mode": {
    "name": "ipython",
    "version": 3
   },
   "file_extension": ".py",
   "mimetype": "text/x-python",
   "name": "python",
   "nbconvert_exporter": "python",
   "pygments_lexer": "ipython3",
   "version": "3.8.8"
  },
  "vscode": {
   "interpreter": {
    "hash": "12d738f96725d1c1f433a1d40c5369c2dd6b861cec3a8aa29acd662c91ac2528"
   }
  }
 },
 "nbformat": 4,
 "nbformat_minor": 4
}
