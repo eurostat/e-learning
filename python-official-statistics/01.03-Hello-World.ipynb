{
 "cells": [
  {
   "cell_type": "markdown",
   "metadata": {},
   "source": [
    "<!--NAVIGATION-->\n",
    "<span style='background: rgb(128, 128, 128, .15); width: 100%; display: block; padding: 10px 0 10px 10px'>< [Installing Python & Tools](01.02-Installing-Python.ipynb) | [Contents](00.00-Index.ipynb) | [Jupyter](01.04-Jupyter.ipynb) ></span>\n",
    "\n",
    "<a href=\"https://colab.research.google.com/github/eurostat/e-learning/blob/main/python-official-statistics/01.03-Hello-World.ipynb\"><img align=\"left\" src=\"https://colab.research.google.com/assets/colab-badge.svg\" alt=\"Open in Colab\" title=\"Open and Execute in Google Colaboratory\"></a>"
   ]
  },
  {
   "cell_type": "markdown",
   "metadata": {},
   "source": [
    "<a id='top'></a>\n",
    "\n",
    "# Hello World!\n",
    "## Content  \n",
    "- [Our first Python program](#our)  \n",
    "- [Scripts](#scripts)  \n",
    "- [In the Cloud](#in)  \n",
    "- [Unicode files, unicode variables](#unicode)  \n",
    "- [Helpers: dir() & help() Functions](#helpers)"
   ]
  },
  {
   "cell_type": "markdown",
   "metadata": {},
   "source": [
    "<a id='our'></a>\n",
    "\n",
    "## Our first Python program:  "
   ]
  },
  {
   "cell_type": "code",
   "execution_count": null,
   "metadata": {},
   "outputs": [],
   "source": [
    "print('Hello World!')"
   ]
  },
  {
   "cell_type": "markdown",
   "metadata": {},
   "source": [
    "There is a function `print` that has a parameter, in parenthesis, that is of string type, represented as a character sequence surrounded by apostrophes.  \n",
    "Until now nothing new, if you already know some other programming language, it is the standard in so many languages.\n",
    "\n",
    "You can run this by typing the line in your `Python prompt` and hit Enter.  \n",
    "Or you can create a new file called `hello-world.py`, type the code line in it, save it, and for your `console prompt` type `python hello-world.py` and hit Enter."
   ]
  },
  {
   "cell_type": "markdown",
   "metadata": {},
   "source": [
    "<a id='scripts'></a>\n",
    "\n",
    "## Scripts\n",
    "<div class=\"alert alert-block alert-success\"><b>Definition:</b> A Python script is a collection of commands in a file designed to be executed like a program. The file can of course contain functions and import various modules, but the idea is that it will be run or executed from the command line or from within a Python interactive shell to perform a specific task.</div>  \n",
    "They are used for repetitive tasks, or for some automations. It's probable that you'll use Python as a scripting language so let's detail it a little.   \n",
    "\n",
    "### Interactive scripts\n",
    "\n",
    "Let's go further with the Hello World example: Imagine that you want your program to prompt for your name and welcome you in a nice, personalized way.  \n",
    "Here is a possible version of the code:  "
   ]
  },
  {
   "cell_type": "code",
   "execution_count": null,
   "metadata": {},
   "outputs": [],
   "source": [
    "import random as rnd\n",
    "adjs = ['sunny', 'nice', 'fantastic', 'good']\n",
    "name = input('Your name: ')\n",
    "adj = rnd.choice(adjs)\n",
    "print(f'\\n\\nHello {name}!\\nWhat a {adj} day.')"
   ]
  },
  {
   "cell_type": "markdown",
   "metadata": {},
   "source": [
    "New notions pop-up in this example. Let's tackle them down, one by one:\n",
    "- First line is importing (loading in the Python context) a new module, `random`. A [module](https://docs.python.org/3/tutorial/modules.html) contains some classes and functions you can use in your programs. SEveral modules can be grouped in a package. This particular one, as the name implies, deals with (pseudo)[random](https://docs.python.org/3/library/random.html) stuff.\n",
    "- Second line is creating, and assigning, a new variable called `adjs` with a new data type, a list (we will go later in details about lists).\n",
    "- Third line is adding the interactivity: function `input` will prompt in the console the text 'Your name: ' and will wait for the user to enter some character and will wait until Enter is pressed. Then will assign the result to the variable `name`.\n",
    "- Fourth line is creating another variable `adj`, which will contain one of the values of list adjs peeked randomly. You can see a function `choice` from package `random` used, and how the objectual way of selecting a function from a package (via dot) is used.\n",
    "- And finally in the last line we use the same print function with some [fancy formating](https://docs.python.org/3/tutorial/inputoutput.html) to print out the result.  \n",
    "\n",
    "You can run the script (after copying the code into the file `interactive.py`) like this: `python interactive.py`\n",
    "\n",
    "### Parameterisable scripts\n",
    "Now you want to run these scripts automatically, without your intervention, but still need to give some extra information to the scripts, at runtime.  \n",
    "Here a very uninspiring script:\n",
    "\n",
    "```python\n",
    "import sys\n",
    "if len(sys.argv) != 3:\n",
    "    print('The script must be provided with 2 parameters!')\n",
    "    exit(1)\n",
    "path, x, y = sys.argv\n",
    "print(f'path: {path}, x: {x}, y: {y}')\n",
    "```\n",
    "We introduce some new notions here:\n",
    "- The module imported in the first line, [sys](https://docs.python.org/3/library/sys.html) is used to provide informations related to python interpreter.\n",
    "- Second line is adding more: You'll see how an if structure is constructed: if \\<boolean \\> and colon (:)\n",
    "- Next two lines is the if block, which is executed just if the if condition is true. A [block of code in Python](https://docs.python.org/3/reference/executionmodel.html) is defined by indentation.  \n",
    "In our example, if entity sys.argv do not contains exactly 3 elements, an error mesage will be shown and the script is ending the execution.\n",
    "- The fifth line is doing an unpacking, something very Python specific. Suffice for now to know that in this line the three variables: path, x and y will have the values for the script name and path as was sent to the Python interpreter, and the two parameters we type respectively when we run the script.\n",
    "\n",
    "As example you can run the script (after copying the code into the file `parameters.py`) like this: `python parameters.py first second`  \n",
    "And the result will be:\n",
    "```\n",
    "path: parameters.py, x: first, y: second\n",
    "```"
   ]
  },
  {
   "cell_type": "markdown",
   "metadata": {},
   "source": [
    "<a id='in'></a>\n",
    "\n",
    "## In the Cloud\n",
    "\n",
    "AWS cloud environment has a Python SDK that can be used to create, configure and manage AWS services such as EC2, Identity management, S3, SES, SQS, AWSKMS, etc.  \n",
    "All major cloud services providers (AWS, Microsoft Azure, Google Cloud) have Python as one of the languages (along JavaScript) used to develop cloud hosted code (Ex. Lambda functions in AWS)\n"
   ]
  },
  {
   "cell_type": "markdown",
   "metadata": {},
   "source": [
    "<a id='unicode'></a>\n",
    "\n",
    "## Unicode files, unicode variables\n",
    "Some funny characters in strings (emoticons), or interesting variable names (with letters from different alphabets) can be used in Python files.  \n",
    "All characters in Python files are stored in unicode format, so, following code is perfectly valid:"
   ]
  },
  {
   "cell_type": "code",
   "execution_count": null,
   "metadata": {},
   "outputs": [],
   "source": [
    "# unicode in texts\n",
    "print('Have a nice day!\\n🙂\\n\\n')\n",
    "\n",
    "# unicode in variable names\n",
    "𝛼 = 2.3\n",
    "𝛽 = 0.034\n",
    "\n",
    "# again unicode in texts\n",
    "print(f'𝛼 * 𝛽 = {𝛼*𝛽}')"
   ]
  },
  {
   "cell_type": "markdown",
   "metadata": {},
   "source": [
    "<a id='helpers'></a>\n",
    "\n",
    "## Helpers: dir() & help() Functions\n",
    "\n",
    "dir() short for directory will list all objects in the current python scope. If you first run dir(), without parameters, the result will be something like:  "
   ]
  },
  {
   "cell_type": "code",
   "execution_count": null,
   "metadata": {},
   "outputs": [],
   "source": [
    "dir()"
   ]
  },
  {
   "cell_type": "markdown",
   "metadata": {},
   "source": [
    "The most important object here (of type module) is `__builtins__` it includes all classes and functions (functions are also objects - instances of classes), that can be used without importing another module. To see what this module contains (here I just counted the objects, fill free to list them):  "
   ]
  },
  {
   "cell_type": "code",
   "execution_count": null,
   "metadata": {},
   "outputs": [],
   "source": [
    "len(dir(__builtins__))"
   ]
  },
  {
   "cell_type": "markdown",
   "metadata": {},
   "source": [
    "If you instantiate a variable (creating a new object), or importing a module, the scope is changing and you can see the difference:  "
   ]
  },
  {
   "cell_type": "code",
   "execution_count": null,
   "metadata": {},
   "outputs": [],
   "source": [
    "a = 3\n",
    "import numpy\n",
    "dir()"
   ]
  },
  {
   "cell_type": "markdown",
   "metadata": {},
   "source": [
    "dir() applied to an object of a specific type will list the attributes and function of the object type:"
   ]
  },
  {
   "cell_type": "code",
   "execution_count": null,
   "metadata": {},
   "outputs": [],
   "source": [
    "type(a)"
   ]
  },
  {
   "cell_type": "code",
   "execution_count": null,
   "metadata": {},
   "outputs": [],
   "source": [
    "dir(a) == dir(int)"
   ]
  },
  {
   "cell_type": "markdown",
   "metadata": {},
   "source": [
    "Another very important function is help(), which will automatically give the help for every function, or object/class:  "
   ]
  },
  {
   "cell_type": "code",
   "execution_count": null,
   "metadata": {},
   "outputs": [],
   "source": [
    "help(a)"
   ]
  },
  {
   "cell_type": "markdown",
   "metadata": {},
   "source": [
    "A different functionality, for the function help() is:"
   ]
  },
  {
   "cell_type": "code",
   "execution_count": null,
   "metadata": {
    "scrolled": false
   },
   "outputs": [],
   "source": [
    "# remove warnings from output window\n",
    "import warnings\n",
    "warnings.filterwarnings('ignore')\n",
    "help('modules')"
   ]
  },
  {
   "cell_type": "markdown",
   "metadata": {},
   "source": [
    "This call of the function lists all modules available (downloaded and installed) in your computer (or the computer where the python kernel is running) and can be imported into your ipython session."
   ]
  },
  {
   "cell_type": "markdown",
   "metadata": {},
   "source": [
    "<!--NAVIGATION-->\n",
    "<span style='background: rgb(128, 128, 128, .15); width: 100%; display: block; padding: 10px 0 10px 10px'>< [Installing Python & Tools](01.02-Installing-Python.ipynb) | [Contents](00.00-Index.ipynb) | [Jupyter](01.04-Jupyter.ipynb) > [Top](#top) ^ </span>"
   ]
  },
  {
   "cell_type": "markdown",
   "metadata": {},
   "source": [
    "<span style='background: rgb(128, 128, 128, .15); width: 100%; display: block; padding: 10px 0 10px 10px'>This is the Jupyter notebook version of the __Python for Official Statistics__ produced by Eurostat; the content is available [on GitHub](https://github.com/eurostat/e-learning/tree/main/python-official-statistics).\n",
    "<br>The text and code are released under the [EUPL-1.2 license](https://github.com/eurostat/e-learning/blob/main/LICENSE).</span>"
   ]
  }
 ],
 "metadata": {
  "anaconda-cloud": {},
  "kernelspec": {
   "display_name": "Python 3.8.8 ('base')",
   "language": "python",
   "name": "python3"
  },
  "language_info": {
   "codemirror_mode": {
    "name": "ipython",
    "version": 3
   },
   "file_extension": ".py",
   "mimetype": "text/x-python",
   "name": "python",
   "nbconvert_exporter": "python",
   "pygments_lexer": "ipython3",
   "version": "3.8.8"
  },
  "vscode": {
   "interpreter": {
    "hash": "12d738f96725d1c1f433a1d40c5369c2dd6b861cec3a8aa29acd662c91ac2528"
   }
  }
 },
 "nbformat": 4,
 "nbformat_minor": 4
}
