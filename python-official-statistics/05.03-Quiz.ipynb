{
 "cells": [
  {
   "cell_type": "markdown",
   "metadata": {},
   "source": [
    "<!--NAVIGATION-->\n",
    "<span style='background: rgb(128, 128, 128, .15); width: 100%; display: block; padding: 10px 0 10px 10px'>< [Evolutions: Seaborn, Plotly and Bokeh](05.02-Seaborn.ipynb) | [Contents](00.00-Index.ipynb) | [Scikit-learn](06.01-Scikit.ipynb) ></span>\n",
    "\n",
    "<a href=\"https://colab.research.google.com/github/eurostat/e-learning/blob/main/python-official-statistics/05.03-Quiz.ipynb\"><img align=\"left\" src=\"https://colab.research.google.com/assets/colab-badge.svg\" alt=\"Open in Colab\" title=\"Open and Execute in Google Colaboratory\"></a>"
   ]
  },
  {
   "cell_type": "markdown",
   "metadata": {},
   "source": [
    "<a id='top'></a>\n",
    "\n",
    "# Quiz 5\n",
    "## Visualization with Python\n",
    "  <br><br>\n",
    "  \n",
    "### [Questions for Revision](#rev)\n",
    "### [Exercises](#exe)\n",
    "### [Quiz](#quizz)"
   ]
  },
  {
   "cell_type": "markdown",
   "metadata": {},
   "source": [
    "<a id='rev'></a>\n",
    "\n",
    "## Questions for Revision\n",
    "\n",
    "Try answering the following questions to test your understanding of the topics covered in this notebook:\n",
    "\n",
    "1. What is data visualization?\n",
    "2. What is Matplotlib?\n",
    "3. What is Seaborn?\n",
    "4. How do you install Matplotlib and Seaborn?\n",
    "5. How do you import Matplotlib and Seaborn? What are the common aliases used while importing these modules?\n",
    "6. What is the purpose of the magic command `%matplotlib inline`?\n",
    "7. What is a line chart?\n",
    "8. How do you plot a line chart in Python? Illustrate with an example.\n",
    "9. How do you specify values for the X-axis of a line chart?\n",
    "10. How do you specify labels for the axes of a chart?\n",
    "11. How do you plot multiple line charts on the same axes?\n",
    "12. How do you show a legend for a line chart with multiple lines?\n",
    "13. How do you set a title for a chart?\n",
    "14. How do you show markers on a line chart?\n",
    "15. What are the different options for styling lines & markers in line charts? Illustrate with examples?\n",
    "16. What is the purpose of the `fmt` argument to `plt.plot`?\n",
    "18. Where can you see a list of all the arguments accepted by `plt.plot`?\n",
    "19. How do you change the size of the figure using Matplotlib?\n",
    "20. How do you apply the default styles from Seaborn globally for all charts?\n",
    "21. What are the predefined styles available in Seaborn? Illustrate with examples.\n",
    "22. What is a scatter plot?\n",
    "23. How is a scatter plot different from a line chart?\n",
    "24. How do you draw a scatter plot using Seaborn? Illustrate with an example.\n",
    "25. How do you decide when to use a scatter plot vs. a line chart?\n",
    "26. How do you specify the colors for dots on a scatter plot using a categorical variable?\n",
    "27. How do you customize the title, figure size, legend, etc., for Seaborn plots?\n",
    "28. How do you use a Pandas dataframe with `sns.scatterplot`?\n",
    "29. What is a histogram?\n",
    "30. When should you use a histogram vs. a line chart?\n",
    "31. How do you draw a histogram using Matplotlib? Illustrate with an example.\n",
    "32. What are \"bins\" in a histogram?\n",
    "33. How do you change the sizes of bins in a histogram?\n",
    "34. How do you change the number of bins in a histogram?\n",
    "35. How do you show multiple histograms on the same axes?\n",
    "36. How do you stack multiple histograms on top of one another?\n",
    "37. What is a bar chart?\n",
    "38. How do you draw a bar chart using Matplotlib? Illustrate with an example.\n",
    "39. What is the difference between a bar chart and a histogram?\n",
    "40. What is the difference between a bar chart and a line chart?\n",
    "41. How do you stack bars on top of one another?\n",
    "42. What is the difference between `plt.bar` and `sns.barplot`?\n",
    "43. What do the lines cutting the bars in a Seaborn bar plot represent?\n",
    "44. How do you show bar plots side-by-side?\n",
    "45. How do you draw a horizontal bar plot?\n",
    "46. What is a heat map?\n",
    "47. What type of data is best visualized with a heat map?\n",
    "48. What does the `pivot` method of a Pandas dataframe do?\n",
    "49. How do you draw a heat map using Seaborn? Illustrate with an example.\n",
    "50. How do you change the color scheme of a heat map?\n",
    "51. How do you show the original values from the dataset on a heat map?\n",
    "59. How do you display an image using Matplotlib?\n",
    "60. How do you turn off the axes and gridlines in a chart?\n",
    "61. How do you display a portion of an image using Matplotlib?\n",
    "62. How do you plot multiple charts in a grid using Matplotlib and Seaborn? Illustrate with examples.\n",
    "63. What is the purpose of the `plt.subplots` function?\n",
    "64. What are pair plots in Seaborn? Illustrate with an example.\n",
    "65. How do you export a plot into a PNG image file using Matplotlib?\n",
    "66. Where can you learn about the different types of charts you can create using Matplotlib and Seaborn?"
   ]
  },
  {
   "cell_type": "markdown",
   "metadata": {},
   "source": [
    "<a id='exe'></a>\n",
    "\n",
    "## Exercises"
   ]
  },
  {
   "cell_type": "markdown",
   "metadata": {},
   "source": [
    "<a id='quizz'></a>\n",
    "\n",
    "## Quiz\n",
    "\n",
    "1. What is Matplotlib?\n",
    "    1. Matplotlib is a multi-platform data visualization library.\n",
    "    2. It is built on NumPy arrays.\n",
    "    3. It is not working in a Jupyter environment. \n",
    "    4. It works with the SciPy stack.\n",
    "    5. It is not very stable.\n",
    "\n",
    "> <br/>  \n",
    "> (Answer: 1, 2, 4)  <br/><br/>   \n",
    "> \n",
    "<br/><br/>  \n",
    "\n",
    "\n",
    "2. What are the two ways of using Matplotlib?\n",
    "    1. The old way and the new way.\n",
    "    2. MATLAB-style interface, and an object-oriented interface.\n",
    "    3. State-based interface, and object instances interface. \n",
    "    4. There are not two ways of using Matplotlib.\n",
    "\n",
    "> <br/>  \n",
    "> (Answer: 2, 3)  <br/><br/>   \n",
    "> \n",
    "<br/><br/>  \n",
    "\n",
    "\n",
    "3. What is Seaborn?\n",
    "    1. It is a new and modern visualization library.\n",
    "    2. Seaborn is built on top of Matplotlib.\n",
    "    3. It makes the complex visualizations more easy. \n",
    "    4. It is very configurable and has a lot of styles.\n",
    "    5. Integrates with Pandas' dataframe.\n",
    "\n",
    "> <br/>  \n",
    "> (Answer: 1, 2, 3, 4, 5)  <br/><br/>   \n",
    "> \n",
    "<br/><br/>  \n",
    "\n",
    "\n",
    "4. What is the role of the Seaborn `set` method?\n",
    "    1. Set the colors for kdeplot.\n",
    "    2. Set the colors for all Seaborn types of plot.\n",
    "    3. Set the state, for styles, Seaborn style to be used with Matplotlib. \n",
    "    4. There is no such a method in Seaborn.\n",
    "\n",
    "> <br/>  \n",
    "> (Answer: 3)  <br/><br/>   \n",
    "> \n",
    "<br/><br/>  \n",
    "\n",
    "\n",
    "5. What library, Plotly or Bokeh is best described by the following attributes?\n",
    "    - The plots are interactive.\n",
    "    - It is a modern library.\n",
    "    - It can create similar charts as Matplotlib and Seaborn.\n",
    "    - Create publication-quality graphs.\n",
    "<br/><br/>\n",
    "    1. Both libraries.\n",
    "    2. None of them.\n",
    "    3. Plotly.\n",
    "    4. Bokeh.\n",
    "\n",
    "> <br/>  \n",
    "> (Answer: 1)  <br/><br/>   \n",
    "> "
   ]
  },
  {
   "cell_type": "markdown",
   "metadata": {},
   "source": [
    "<!--NAVIGATION-->\n",
    "<span style='background: rgb(128, 128, 128, .15); width: 100%; display: block; padding: 10px 0 10px 10px'>< [Evolutions: Seaborn, Plotly and Bokeh](05.02-Seaborn.ipynb) | [Contents](00.00-Index.ipynb) | [Scikit-learn](06.01-Scikit.ipynb) > [Top](#top) ^ </span>"
   ]
  },
  {
   "cell_type": "markdown",
   "metadata": {},
   "source": [
    "<span style='background: rgb(128, 128, 128, .15); width: 100%; display: block; padding: 10px 0 10px 10px'>This is the Jupyter notebook version of the __Python for Official Statistics__ produced by Eurostat; the content is available [on GitHub](https://github.com/eurostat/e-learning/tree/main/python-official-statistics).\n",
    "<br>The text and code are released under the [EUPL-1.2 license](https://github.com/eurostat/e-learning/blob/main/LICENSE).</span>"
   ]
  }
 ],
 "metadata": {
  "anaconda-cloud": {},
  "kernelspec": {
   "display_name": "Python 3.8.8 ('base')",
   "language": "python",
   "name": "python3"
  },
  "language_info": {
   "codemirror_mode": {
    "name": "ipython",
    "version": 3
   },
   "file_extension": ".py",
   "mimetype": "text/x-python",
   "name": "python",
   "nbconvert_exporter": "python",
   "pygments_lexer": "ipython3",
   "version": "3.8.8"
  },
  "vscode": {
   "interpreter": {
    "hash": "12d738f96725d1c1f433a1d40c5369c2dd6b861cec3a8aa29acd662c91ac2528"
   }
  }
 },
 "nbformat": 4,
 "nbformat_minor": 4
}
