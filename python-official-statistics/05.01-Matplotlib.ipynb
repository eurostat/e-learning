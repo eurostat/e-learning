{
 "cells": [
  {
   "cell_type": "markdown",
   "metadata": {},
   "source": [
    "<!--NAVIGATION-->\n",
    "<span style='background: rgb(128, 128, 128, .15); width: 100%; display: block; padding: 10px 0 10px 10px'>< [Quiz](04.03-Quiz.ipynb) | [Contents](00.00-Index.ipynb) | [Evolutions: Seaborn, Plotly and Bokeh](05.02-Seaborn.ipynb) ></span>\n",
    "\n",
    "<a href=\"https://colab.research.google.com/github/eurostat/e-learning/blob/main/python-official-statistics/05.01-Matplotlib.ipynb\"><img align=\"left\" src=\"https://colab.research.google.com/assets/colab-badge.svg\" alt=\"Open in Colab\" title=\"Open and Execute in Google Colaboratory\"></a>"
   ]
  },
  {
   "cell_type": "markdown",
   "metadata": {},
   "source": [
    "<a id='top'></a>\n",
    "\n",
    "# Matplotlib\n",
    "## Content  \n",
    "- [Saving Figures to File](#save)\n",
    "- [Two Ways of Using](#two)\n",
    "- [Simple Line Plots](#simple-line)\n",
    "- [Adjusting the Plot](#adjust)\n",
    "- [Simple Scatter Plots](#scatter)\n",
    "- [Visualizing Errors](#error)\n",
    "- [Visualizing a 3D Function in 2D](#f3d)\n",
    "- [Histograms and Density](#histo)\n",
    "- [Multiple Subplots](#multiple)\n",
    "\n",
    "Matplotlib is a multi-platform data visualization library built on NumPy arrays, and designed to work with the broader SciPy stack.\n",
    "It was conceived by John Hunter in 2002, originally as a patch to IPython for enabling interactive MATLAB-style plotting.  \n",
    "Some preparations before using matplotlib and the first example:"
   ]
  },
  {
   "cell_type": "code",
   "execution_count": null,
   "metadata": {},
   "outputs": [],
   "source": [
    "import matplotlib as mpl\n",
    "import matplotlib.pyplot as plt\n",
    "\n",
    "# directive to choose appropriate aesthetic styles for our figures\n",
    "plt.style.use('classic')\n",
    "\n",
    "# static images of your plot embedded in the notebook\n",
    "# for intractive plots use: \n",
    "# %matplotlib notebook\n",
    "%matplotlib inline\n",
    "\n",
    "# one small example\n",
    "import numpy as np\n",
    "x = np.linspace(0, 10, 100)\n",
    "\n",
    "# taking the plot as a figure object (for saving)\n",
    "fig = plt.figure()\n",
    "plt.plot(x, np.sin(x), '--')\n",
    "plt.plot(x, np.cos(x))"
   ]
  },
  {
   "cell_type": "markdown",
   "metadata": {},
   "source": [
    "<a id='save'></a>\n",
    "\n",
    "## Saving Figures to File\n",
    "\n",
    "One nice feature of Matplotlib is the ability to save figures in a wide variety of formats.\n",
    "Saving a figure can be done using the ``savefig()`` command.\n",
    "For example, to save the previous figure as a PNG file, you can run this:"
   ]
  },
  {
   "cell_type": "code",
   "execution_count": null,
   "metadata": {},
   "outputs": [],
   "source": [
    "# saving as png image file\n",
    "fig.savefig('img/saved_figure.png')\n",
    "# checking the image saved\n",
    "from IPython.display import Image\n",
    "Image('img/saved_figure.png')"
   ]
  },
  {
   "cell_type": "markdown",
   "metadata": {},
   "source": [
    "<a id='two'></a>\n",
    "\n",
    "## Two Ways of Using\n",
    "A powerful buit confusing feature of Matplotlib is its dual interfaces: a convenient MATLAB-style state-based interface, and a more powerful object-oriented interface. We'll quickly highlight the differences between the two here. We will switch between the MATLAB-style and object-oriented interfaces, throughout this chapter, depending on what is most convenient.\n",
    "### MATLAB-style Interface\n",
    "Matplotlib was originally written as a Python alternative for MATLAB users, and much of its syntax reflects that fact.\n",
    "The MATLAB-style tools are contained in the pyplot (``plt``) interface.  \n",
    "The following code will probably look quite familiar to MATLAB users:"
   ]
  },
  {
   "cell_type": "code",
   "execution_count": null,
   "metadata": {},
   "outputs": [],
   "source": [
    "plt.figure()  # create a plot figure\n",
    "\n",
    "# create the first of two panels and set current axis\n",
    "plt.subplot(2, 1, 1) # (rows, columns, panel number)\n",
    "plt.plot(x, np.sin(x))\n",
    "\n",
    "# create the second panel and set current axis\n",
    "plt.subplot(2, 1, 2)\n",
    "plt.plot(x, np.cos(x))"
   ]
  },
  {
   "cell_type": "markdown",
   "metadata": {},
   "source": [
    "While this stateful interface is fast and convenient for simple plots, it is easy to run into problems for more complicated plots.\n",
    "\n",
    "### Object-oriented interface\n",
    "\n",
    "The object-oriented interface is available for when you want more control over your figure.\n",
    "Rather than depending on some notion of an \"active\" figure or axes, in the object-oriented interface the plotting functions are *methods* of explicit ``figure`` and ``axes`` objects.\n",
    "To re-create the previous plot using this style of plotting, you might do the following:"
   ]
  },
  {
   "cell_type": "code",
   "execution_count": null,
   "metadata": {},
   "outputs": [],
   "source": [
    "# First create a grid of plots\n",
    "# ax will be an array of two Axes objects\n",
    "fig, ax = plt.subplots(2)\n",
    "# Call plot() method on the appropriate object\n",
    "ax[0].plot(x, np.sin(x))\n",
    "ax[1].plot(x, np.cos(x))"
   ]
  },
  {
   "cell_type": "markdown",
   "metadata": {},
   "source": [
    "<a id='simple-line'></a>\n",
    "\n",
    "## Simple Line Plots\n",
    "The simplest of all plots is the visualization of a single function $y = f(x)$.\n",
    "Here we will take a first look at creating a simple plot of this type.  \n",
    "Some notions first:  \n",
    "`figure`: The container that contains all the objects representing axes, graphics, text, and labels.  \n",
    "`axes`: The bounding box with ticks and labels, which will contain the plot elements that make up the visualization."
   ]
  },
  {
   "cell_type": "code",
   "execution_count": null,
   "metadata": {},
   "outputs": [],
   "source": [
    "# playing a little with the styling\n",
    "plt.style.use('seaborn-whitegrid')\n",
    "\n",
    "fig = plt.figure()\n",
    "ax = plt.axes()\n",
    "\n",
    "x = np.linspace(0.1, 10, 1000)\n",
    "ax.plot(x, np.sin(x))"
   ]
  },
  {
   "cell_type": "markdown",
   "metadata": {},
   "source": [
    "<a id='adjust'></a>\n",
    "\n",
    "## Adjusting the Plot\n",
    "We'll now dive into some more details about how to control the appearance of the axes and lines. There are a lot of elements adjustable here, we will touch these:\n",
    "- Line colors\n",
    "- Line styles\n",
    "- Axes limits\n",
    "- Labeling plots  \n",
    "\n",
    "First with MATLIB interface:"
   ]
  },
  {
   "cell_type": "code",
   "execution_count": null,
   "metadata": {},
   "outputs": [],
   "source": [
    "# specify color and style by name\n",
    "plt.plot(x, np.sin(x), color='green', linestyle='dashed', label='sin(x)')\n",
    "# grayscale between 0 and 1\n",
    "plt.plot(x, np.cos(x), color='0.45', label='cos(x)')\n",
    "# hex code (RRGGBB from 00 to FF)\n",
    "# style using a code (- solid, -- dashed, -. dashdot, : dotted)\n",
    "plt.plot(x, np.log(x), color='#EE4422', linestyle=':', label='log(x)')\n",
    "# axes limits\n",
    "plt.xlim(-1, 11)\n",
    "plt.ylim(-1.3, 2.3)\n",
    "# title, labels, legend\n",
    "plt.title(\"Sine, Cosine & Log Curves\")\n",
    "plt.xlabel(\"x\")\n",
    "plt.ylabel(\"f(x)\")\n",
    "# also axis can plt.axis('equal')\n",
    "plt.legend()"
   ]
  },
  {
   "cell_type": "markdown",
   "metadata": {},
   "source": [
    "In the object-oriented interface to plotting, rather than calling these functions individually, it is often more convenient to use the ``ax.set()`` method to set all these properties at once:"
   ]
  },
  {
   "cell_type": "code",
   "execution_count": null,
   "metadata": {},
   "outputs": [],
   "source": [
    "ax = plt.axes()\n",
    "ax.plot(x, np.sin(x), color='green', linestyle='dashed', label='sin(x)')\n",
    "ax.plot(x, np.cos(x), color='0.45', label='cos(x)')\n",
    "ax.plot(x, np.log(x), color='#EE4422', linestyle=':', label='log(x)')\n",
    "ax.set(xlim=(-1, 11), ylim=(-1.3, 2.3), xlabel='x', ylabel='f(x)', title='Sine, Cosine & Log Curves')\n",
    "ax.legend()"
   ]
  },
  {
   "cell_type": "markdown",
   "metadata": {},
   "source": [
    "<a id='scatter'></a>\n",
    "\n",
    "## Scatter Plots\n",
    "\n",
    "A method of creating scatter plots is the ``plt.scatter`` function, which can be used very similarly to the ``plt.plot`` function:"
   ]
  },
  {
   "cell_type": "code",
   "execution_count": null,
   "metadata": {},
   "outputs": [],
   "source": [
    "x = np.linspace(0, 10, 20)\n",
    "plt.scatter(x, np.sin(x), marker='o', s=60)"
   ]
  },
  {
   "cell_type": "markdown",
   "metadata": {},
   "source": [
    "The main difference of ``plt.scatter`` from ``plt.plot`` is that it can be used to create scatter plots where the properties of each individual point (size, face color, edge color, etc.) can be individually controlled or mapped to data.\n",
    "\n",
    "Let's create a random scatter plot with points of many colors and sizes.\n",
    "In order to better see the overlapping results, we'll also use the ``alpha`` keyword to adjust the transparency level:"
   ]
  },
  {
   "cell_type": "code",
   "execution_count": null,
   "metadata": {},
   "outputs": [],
   "source": [
    "rng = np.random.RandomState(131)\n",
    "x = rng.randn(20)\n",
    "y = rng.randn(20)\n",
    "colors = rng.rand(20)\n",
    "sizes = 4000 * rng.rand(20)\n",
    "\n",
    "plt.scatter(x, y, c=colors, s=sizes, alpha=0.3, cmap='viridis')\n",
    "# show color scale\n",
    "plt.colorbar()"
   ]
  },
  {
   "cell_type": "markdown",
   "metadata": {},
   "source": [
    "<a id='error'></a>\n",
    "\n",
    "## Visualizing Errors\n",
    "For scientific measurement, accurate accounting for errors is nearly as important, if not more important, than accurate reporting of the number itself. In visualization of data and results, showing these errors effectively can make a plot convey much more complete information.  \n",
    "\n",
    "A basic errorbar can be created with a single Matplotlib function call:"
   ]
  },
  {
   "cell_type": "code",
   "execution_count": null,
   "metadata": {},
   "outputs": [],
   "source": [
    "x = np.linspace(0, 10, 50)\n",
    "dy = 0.8\n",
    "y = np.sin(x) + dy * np.random.randn(50)\n",
    "\n",
    "plt.plot(x, np.sin(x))\n",
    "plt.errorbar(x, y, yerr=dy, fmt='.k')"
   ]
  },
  {
   "cell_type": "markdown",
   "metadata": {},
   "source": [
    "<a id='f3d'></a>\n",
    "\n",
    "## Visualizing a 3D Function\n",
    "### Visualizing in 2D\n",
    "Sometimes it is useful to display three-dimensional data in two dimensions using contours or color-coded regions.\n",
    "There are three Matplotlib functions that can be helpful for this task: ``plt.contour`` for contour plots, ``plt.contourf`` for filled contour plots, and ``plt.imshow`` for showing images.  \n",
    "\n",
    "A contour plot can be created with the ``plt.contour`` function.\n",
    "It takes three arguments: a grid of *x* values, a grid of *y* values, and a grid of *z* values.\n",
    "The *x* and *y* values represent positions on the plot, and the *z* values will be represented by the contour levels.\n",
    "Perhaps the most straightforward way to prepare such data is to use the ``np.meshgrid`` function, which builds two-dimensional grids from one-dimensional arrays:"
   ]
  },
  {
   "cell_type": "code",
   "execution_count": null,
   "metadata": {},
   "outputs": [],
   "source": [
    "import numpy as np\n",
    "\n",
    "def f(x, y):\n",
    "    return np.sin(x) + np.cos(y * x)* np.cos(y)\n",
    "\n",
    "x = np.linspace(0, 5, 50)\n",
    "y = np.linspace(0, 5, 40)\n",
    "\n",
    "X, Y = np.meshgrid(x, y)\n",
    "Z = f(X, Y)\n",
    "\n",
    "plt.contour(X, Y, Z, colors='black')"
   ]
  },
  {
   "cell_type": "markdown",
   "metadata": {},
   "source": [
    "By default just a single color is used: negative values are represented by dashed lines, and positive values by solid lines.\n",
    "The lines can be color-coded by specifying a colormap with the ``cmap`` argument (here blue for ``+`` and red for ``-``).\n",
    "Here, we'll also specify that we want more lines to be drawn—20 equally spaced intervals within the data range:"
   ]
  },
  {
   "cell_type": "code",
   "execution_count": null,
   "metadata": {},
   "outputs": [],
   "source": [
    "plt.contour(X, Y, Z, 20, cmap='RdBu')"
   ]
  },
  {
   "cell_type": "markdown",
   "metadata": {},
   "source": [
    "We can improve this by switching to a filled contour plot using the ``plt.contourf()`` function (notice the ``f`` at the end), which uses largely the same syntax as ``plt.contour()``.\n",
    "\n",
    "Additionally, we'll add a ``plt.colorbar()`` command for color/values:"
   ]
  },
  {
   "cell_type": "code",
   "execution_count": null,
   "metadata": {},
   "outputs": [],
   "source": [
    "plt.contourf(X, Y, Z, 20, cmap='RdBu')\n",
    "plt.colorbar()"
   ]
  },
  {
   "cell_type": "markdown",
   "metadata": {},
   "source": [
    "One issue with this plot is that the color steps are discrete rather than continuous.\n",
    "This could be remedied by using the ``plt.imshow()`` function, which interprets a two-dimensional grid of data as an image."
   ]
  },
  {
   "cell_type": "code",
   "execution_count": null,
   "metadata": {},
   "outputs": [],
   "source": [
    "plt.imshow(Z, extent=[0, 5, 0, 5], origin='lower',\n",
    "           cmap='RdBu')\n",
    "plt.colorbar()"
   ]
  },
  {
   "cell_type": "markdown",
   "metadata": {},
   "source": [
    "Or we can combine the contour with an image plot, and adding some labeling for levels:"
   ]
  },
  {
   "cell_type": "code",
   "execution_count": null,
   "metadata": {},
   "outputs": [],
   "source": [
    "contours = plt.contour(X, Y, Z, 5, colors='black')\n",
    "plt.clabel(contours, inline=True, fontsize=8)\n",
    "plt.imshow(Z, extent=[0, 5, 0, 5], origin='lower', cmap='RdBu', alpha=0.7)\n",
    "plt.colorbar()"
   ]
  },
  {
   "cell_type": "markdown",
   "metadata": {},
   "source": [
    "### Visualizing in 3D\n",
    "A three-dimensional axes can be created by passing the keyword ``projection='3d'`` to any of the normal axes creation routines:"
   ]
  },
  {
   "cell_type": "code",
   "execution_count": null,
   "metadata": {},
   "outputs": [],
   "source": [
    "fig = plt.figure()\n",
    "ax = plt.axes(projection='3d')"
   ]
  },
  {
   "cell_type": "markdown",
   "metadata": {},
   "source": [
    "The basic three-dimensional plot is a line or collection of scatter plot created from sets of (x, y, z) triples.\n",
    "These can be created using the ``ax.plot3D`` and ``ax.scatter3D`` functions:"
   ]
  },
  {
   "cell_type": "code",
   "execution_count": null,
   "metadata": {},
   "outputs": [],
   "source": [
    "ax = plt.axes(projection='3d')\n",
    "\n",
    "# Data for a three-dimensional line\n",
    "zline = np.linspace(0, 15, 1000)\n",
    "xline = np.sin(zline)\n",
    "yline = np.cos(zline)\n",
    "ax.plot3D(xline, yline, zline, 'gray')\n",
    "\n",
    "# Data for three-dimensional scattered points\n",
    "zdata = 15 * np.random.random(100)\n",
    "xdata = np.sin(zdata) + 0.1 * np.random.randn(100)\n",
    "ydata = np.cos(zdata) + 0.1 * np.random.randn(100)\n",
    "ax.scatter3D(xdata, ydata, zdata, c=zdata, cmap='Greens')"
   ]
  },
  {
   "cell_type": "markdown",
   "metadata": {},
   "source": [
    "Like two-dimensional ``ax.contour`` plots, ``ax.contour3D`` requires all the input data to be in the form of two-dimensional regular grids, with the Z data evaluated at each point.\n",
    "Here we'll show a three-dimensional contour of the same function as before, with some added change in the viewing angle:"
   ]
  },
  {
   "cell_type": "code",
   "execution_count": null,
   "metadata": {},
   "outputs": [],
   "source": [
    "fig = plt.figure()\n",
    "ax = plt.axes(projection='3d')\n",
    "ax.view_init(50, 25)\n",
    "ax.contour3D(X, Y, Z, 50, cmap='RdBu')\n",
    "ax.set_xlabel('x')\n",
    "ax.set_ylabel('y')\n",
    "ax.set_zlabel('z')"
   ]
  },
  {
   "cell_type": "markdown",
   "metadata": {},
   "source": [
    "The same example as a wireframe:"
   ]
  },
  {
   "cell_type": "code",
   "execution_count": null,
   "metadata": {},
   "outputs": [],
   "source": [
    "fig = plt.figure()\n",
    "ax = plt.axes(projection='3d')\n",
    "ax.plot_wireframe(X, Y, Z)\n"
   ]
  },
  {
   "cell_type": "markdown",
   "metadata": {},
   "source": [
    "A surface plot is like a wireframe plot, but each face of the wireframe is a filled polygon:"
   ]
  },
  {
   "cell_type": "code",
   "execution_count": null,
   "metadata": {},
   "outputs": [],
   "source": [
    "ax = plt.axes(projection='3d')\n",
    "ax.plot_surface(X, Y, Z, rstride=1, cstride=1, cmap='RdBu', edgecolor='none')"
   ]
  },
  {
   "cell_type": "markdown",
   "metadata": {},
   "source": [
    "<a id='histo'></a>\n",
    "\n",
    "## Histograms and Density\n",
    "A simple histogram can be a great first step in understanding a dataset. Here with some options:"
   ]
  },
  {
   "cell_type": "code",
   "execution_count": null,
   "metadata": {},
   "outputs": [],
   "source": [
    "data = np.random.randn(1000)\n",
    "plt.hist(data, bins=20, histtype='stepfilled', color='steelblue', edgecolor='none')"
   ]
  },
  {
   "cell_type": "markdown",
   "metadata": {},
   "source": [
    "Sometimes it is very useful to compare histograms for several distributions using transparency ``alpha``. Here with some options reusing:"
   ]
  },
  {
   "cell_type": "code",
   "execution_count": null,
   "metadata": {},
   "outputs": [],
   "source": [
    "x1 = np.random.normal(0, 0.8, 1000)\n",
    "x2 = np.random.normal(-2, 1, 1000)\n",
    "x3 = np.random.normal(3, 2, 1000)\n",
    "\n",
    "options = dict(histtype='stepfilled', alpha=0.4, bins=30)\n",
    "\n",
    "plt.hist(x1, **options)\n",
    "plt.hist(x2, **options)\n",
    "plt.hist(x3, **options)"
   ]
  },
  {
   "cell_type": "markdown",
   "metadata": {},
   "source": [
    "### Two-dimensional histogram\n",
    "Just as we create histograms in one dimension by dividing the number-line into bins, we can also create histograms in two-dimensions by dividing points among two-dimensional bins:"
   ]
  },
  {
   "cell_type": "code",
   "execution_count": null,
   "metadata": {},
   "outputs": [],
   "source": [
    "mean = [0, 0]\n",
    "cov = [[2, 1], [1, 2]]\n",
    "x, y = np.random.multivariate_normal(mean, cov, 10000).T\n",
    "plt.hist2d(x, y, bins=30, cmap='Blues')\n",
    "cb = plt.colorbar()"
   ]
  },
  {
   "cell_type": "markdown",
   "metadata": {},
   "source": [
    "The two-dimensional histogram creates a tesselation of squares across the axes.\n",
    "Another natural shape for such a tesselation is the regular hexagon:"
   ]
  },
  {
   "cell_type": "code",
   "execution_count": null,
   "metadata": {},
   "outputs": [],
   "source": [
    "plt.hexbin(x, y, gridsize=26, cmap='Blues')\n",
    "cb = plt.colorbar()"
   ]
  },
  {
   "cell_type": "markdown",
   "metadata": {},
   "source": [
    "<a id='multiple'></a>\n",
    "\n",
    "## Multiple Subplots\n",
    "Sometimes it is helpful to have different views of data side by side.\n",
    "For this Matplotlib has the concept of *subplots*: groups of smaller axes that can exist together within a single figure.  \n",
    "### Using ``plt.axes``\n",
    "The most basic method of creating an axes is to use the ``plt.axes`` function.\n",
    "By default this creates a standard axes object that fills the entire figure.\n",
    "``plt.axes`` also takes an optional argument, a list, that represent ``[left, bottom, width, height]`` in the figure coordinate system, which ranges from 0 at the bottom left of the figure to 1 at the top right of the figure:"
   ]
  },
  {
   "cell_type": "code",
   "execution_count": null,
   "metadata": {},
   "outputs": [],
   "source": [
    "ax1 = plt.axes([0, 0, 1, 1])  # standard axes\n",
    "ax2 = plt.axes([0.65, 0.65, 0.3, 0.3])"
   ]
  },
  {
   "cell_type": "code",
   "execution_count": null,
   "metadata": {},
   "outputs": [],
   "source": [
    "# the equivalent with the object-oriented interface\n",
    "fig = plt.figure()\n",
    "ax1 = fig.add_axes([0, 0, 1, 1])\n",
    "ax2 = fig.add_axes([0.65, 0.65, 0.3, 0.3])"
   ]
  },
  {
   "cell_type": "markdown",
   "metadata": {},
   "source": [
    "### Simple Grids of Subplots\n",
    "\n",
    "To align columns or rows of subplots we can use ``plt.subplot()``, which creates a single subplot within a grid.\n",
    "This command takes three integer arguments—the number of rows, the number of columns, and the index of the plot to be created in this scheme, which runs from the upper left to the bottom right:"
   ]
  },
  {
   "cell_type": "code",
   "execution_count": null,
   "metadata": {},
   "outputs": [],
   "source": [
    "for i in range(1, 7):\n",
    "    plt.subplot(2, 3, i)\n",
    "    plt.text(0.5, 0.5, str(i), fontsize=18, ha='center')"
   ]
  },
  {
   "cell_type": "code",
   "execution_count": null,
   "metadata": {},
   "outputs": [],
   "source": [
    "# the equivalent with the object-oriented interface, with some spacing\n",
    "fig = plt.figure()\n",
    "fig.subplots_adjust(hspace=0.4, wspace=0.4)\n",
    "for i in range(1, 7):\n",
    "    ax = fig.add_subplot(2, 3, i)\n",
    "    ax.text(0.5, 0.5, str(i), fontsize=18, ha='center')"
   ]
  },
  {
   "cell_type": "markdown",
   "metadata": {},
   "source": [
    "### The Whole Grid in One Go\n",
    "\n",
    "The approach just described can become quite tedious when creating a large grid of subplots, especially if you'd like to hide the x- and y-axis labels on the inner plots.\n",
    "``plt.subplots()`` is the easier tool to use (note the ``s`` at the end of ``subplots``). Rather than creating a single subplot, this function creates a full grid of subplots in a single line, returning them in a NumPy array.\n",
    "The arguments are the number of rows and number of columns, along with optional keywords ``sharex`` and ``sharey``, which allow you to specify the relationships between different axes:"
   ]
  },
  {
   "cell_type": "code",
   "execution_count": null,
   "metadata": {},
   "outputs": [],
   "source": [
    "fig, ax = plt.subplots(2, 3, sharex='col', sharey='row')\n",
    "\n",
    "for i in range(2):\n",
    "    for j in range(3):\n",
    "        ax[i, j].text(0.5, 0.5, str((i, j)), fontsize=18, ha='center')"
   ]
  },
  {
   "cell_type": "markdown",
   "metadata": {},
   "source": [
    "### More Complicated Arrangements\n",
    "\n",
    "To go beyond a regular grid to subplots that span multiple rows and columns, ``plt.GridSpec()`` is the best tool.\n",
    "The ``plt.GridSpec()`` object does not create a plot by itself; it is simply a convenient interface that is recognized by the ``plt.subplot()`` command.\n",
    "For example, a gridspec for a grid of two rows and three columns with some specified width and height space looks like this:"
   ]
  },
  {
   "cell_type": "code",
   "execution_count": null,
   "metadata": {},
   "outputs": [],
   "source": [
    "grid = plt.GridSpec(2, 3, wspace=0.4, hspace=0.3)\n",
    "plt.subplot(grid[0, 0])\n",
    "plt.subplot(grid[0, 1:])\n",
    "plt.subplot(grid[1, :2])\n",
    "plt.subplot(grid[1, 2])"
   ]
  },
  {
   "cell_type": "markdown",
   "metadata": {},
   "source": [
    "This type of flexible grid alignment has a wide range of uses.\n",
    "I most often use it when creating multi-axes histogram plots like the ones shown here:"
   ]
  },
  {
   "cell_type": "code",
   "execution_count": null,
   "metadata": {},
   "outputs": [],
   "source": [
    "# Create some normally distributed data\n",
    "mean = [0, 0]\n",
    "cov = [[1, 1], [1, 2]]\n",
    "x, y = np.random.multivariate_normal(mean, cov, 3000).T\n",
    "\n",
    "# Set up the axes with gridspec\n",
    "fig = plt.figure(figsize=(6, 6))\n",
    "grid = plt.GridSpec(4, 4, hspace=0.2, wspace=0.2)\n",
    "main_ax = fig.add_subplot(grid[:-1, 1:])\n",
    "y_hist = fig.add_subplot(grid[:-1, 0], xticklabels=[], sharey=main_ax)\n",
    "x_hist = fig.add_subplot(grid[-1, 1:], yticklabels=[], sharex=main_ax)\n",
    "\n",
    "# scatter points on the main axes\n",
    "main_ax.plot(x, y, 'ok', markersize=3, alpha=0.4, color='green')\n",
    "\n",
    "# histogram on the attached axes\n",
    "x_hist.hist(x, 40, histtype='stepfilled', orientation='vertical', color='gray')\n",
    "x_hist.invert_yaxis()\n",
    "\n",
    "y_hist.hist(y, 40, histtype='stepfilled', orientation='horizontal', color='gray')\n",
    "y_hist.invert_xaxis()"
   ]
  },
  {
   "cell_type": "markdown",
   "metadata": {},
   "source": [
    "<!--NAVIGATION-->\n",
    "<span style='background: rgb(128, 128, 128, .15); width: 100%; display: block; padding: 10px 0 10px 10px'>< [Quiz](04.03-Quiz.ipynb) | [Contents](00.00-Index.ipynb) | [Evolutions: Seaborn, Plotly and Bokeh](05.02-Seaborn.ipynb) > [Top](#top) ^ </span>"
   ]
  },
  {
   "cell_type": "markdown",
   "metadata": {},
   "source": [
    "<span style='background: rgb(128, 128, 128, .15); width: 100%; display: block; padding: 10px 0 10px 10px'>This is the Jupyter notebook version of the __Python for Official Statistics__ produced by Eurostat; the content is available [on GitHub](https://github.com/eurostat/e-learning/tree/main/python-official-statistics).\n",
    "<br>The text and code are released under the [EUPL-1.2 license](https://github.com/eurostat/e-learning/blob/main/LICENSE).</span>"
   ]
  }
 ],
 "metadata": {
  "anaconda-cloud": {},
  "kernelspec": {
   "display_name": "Python 3.8.8 ('base')",
   "language": "python",
   "name": "python3"
  },
  "language_info": {
   "codemirror_mode": {
    "name": "ipython",
    "version": 3
   },
   "file_extension": ".py",
   "mimetype": "text/x-python",
   "name": "python",
   "nbconvert_exporter": "python",
   "pygments_lexer": "ipython3",
   "version": "3.8.8"
  },
  "vscode": {
   "interpreter": {
    "hash": "12d738f96725d1c1f433a1d40c5369c2dd6b861cec3a8aa29acd662c91ac2528"
   }
  }
 },
 "nbformat": 4,
 "nbformat_minor": 4
}
