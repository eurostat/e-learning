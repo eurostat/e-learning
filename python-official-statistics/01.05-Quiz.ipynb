{
 "cells": [
  {
   "cell_type": "markdown",
   "metadata": {},
   "source": [
    "<!--NAVIGATION-->\n",
    "<span style='background: rgb(128, 128, 128, .15); width: 100%; display: block; padding: 10px 0 10px 10px'>< [Jupyter](01.04-Jupyter.ipynb) | [Contents](00.00-Index.ipynb) | [Data Types](02.01-Data-Types.ipynb) ></span>\n",
    "\n",
    "<a href=\"https://colab.research.google.com/github/eurostat/e-learning/blob/main/python-official-statistics/01.05-Quiz.ipynb\"><img align=\"left\" src=\"https://colab.research.google.com/assets/colab-badge.svg\" alt=\"Open in Colab\" title=\"Open and Execute in Google Colaboratory\"></a>"
   ]
  },
  {
   "cell_type": "markdown",
   "metadata": {},
   "source": [
    "<a id='top'></a>\n",
    "\n",
    "# Quiz 1\n",
    "## The Python's World\n",
    "  <br><br>\n",
    "  \n",
    "### [Questions for Revision](#rev)\n",
    "### [Quiz](#quiz)"
   ]
  },
  {
   "cell_type": "markdown",
   "metadata": {},
   "source": [
    "<a id='rev'></a>\n",
    "\n",
    "## Questions for Revision\n",
    "\n",
    "Try answering the following questions to test your understanding of the topics covered in this chapter:\n",
    "\n",
    "1. What is Python?\n",
    "1. Is Python a popular programming language?\n",
    "1. Is Python a new programming language?\n",
    "1. Why is Python good for data science?\n",
    "1. What is a ``pythonist``? Or a ``pythoneer``?\n",
    "1. What means ``pythonic``?\n",
    "1. What is ``Anaconda``? Or Miniconda?\n",
    "1. What is ``IPython``?\n",
    "1. What is ``Jupyter``?\n",
    "1. Are there IDEs for Python? Are you able to mention some?\n",
    "1. How do you create a variable in Python?\n",
    "1. What are the rules for naming a variable in Python?\n",
    "1. How do you view the value of a variable?\n",
    "1. What happens if you try to access a variable that has not been defined?\n",
    "1. What is the role of ``import`` command?\n",
    "1. What is an interactive script?\n",
    "1. It is possible to add parameters to run a python script?\n",
    "1. What is the function dir() doing?\n",
    "1. What is the function help() doing?\n",
    "1. What is the result of this call: ``help('modules')``?\n",
    "1. How do you display messages in Python?\n",
    "1. What type of inputs can the ``print`` function accept?\n",
    "1. What are code comments? How are they useful?\n",
    "1. What is a script?\n",
    "1. Can you build scripts in python?\n",
    "1. What is the ``input`` function? And where can you use it?\n",
    "1. What is a ``Jupyter`` notebook?\n",
    "1. What is ``JupyterLab``?\n",
    "1. What means ``modal user interface``?\n",
    "1. What is the Jupyter equivalent for help() function?\n",
    "1. What is the difference between ``?`` and ``??`` in Jupyter?\n",
    "1. How do you do wildcard matching in Jupyter?\n",
    "1. What is a magic command?\n",
    "1. What is this magic command: ``%timeit`` doing? \n",
    "1. How do you add a new ``code cell`` below an existing cell?\n",
    "1. How do you execute a code cell within Jupyter?\n",
    "1. What is Markdown? Why is it useful?\n",
    "1. How do you add a new ``Markdown`` cell below an existing cell?\n",
    "1. How do you create headings of different sizes using Markdown?\n",
    "1. How do you create bulleted and numbered lists using Markdown?\n",
    "1. How do you create bold or italic text using Markdown?\n",
    "1. How do you include links & images within Markdown cells?\n",
    "1. How do you include code blocks within Markdown cells?\n",
    "1. Is it possible to execute the code blocks within Markdown cells?"
   ]
  },
  {
   "cell_type": "markdown",
   "metadata": {},
   "source": [
    "<a id='quiz'></a>\n",
    "\n",
    "## Quiz"
   ]
  },
  {
   "cell_type": "markdown",
   "metadata": {},
   "source": [
    "<!--NAVIGATION-->\n",
    "<span style='background: rgb(128, 128, 128, .15); width: 100%; display: block; padding: 10px 0 10px 10px'>< [Jupyter](01.04-Jupyter.ipynb) | [Contents](00.00-Index.ipynb) | [Data Types](02.01-Data-Types.ipynb) > [Top](#top) ^ </span>"
   ]
  },
  {
   "cell_type": "markdown",
   "metadata": {},
   "source": [
    "<span style='background: rgb(128, 128, 128, .15); width: 100%; display: block; padding: 10px 0 10px 10px'>This is the Jupyter notebook version of the __Python for Official Statistics__ produced by Eurostat; the content is available [on GitHub](https://github.com/eurostat/e-learning/tree/main/python-official-statistics).\n",
    "<br>The text and code are released under the [EUPL-1.2 license](https://github.com/eurostat/e-learning/blob/main/LICENSE).</span>"
   ]
  }
 ],
 "metadata": {
  "anaconda-cloud": {},
  "kernelspec": {
   "display_name": "Python 3.8.8 ('base')",
   "language": "python",
   "name": "python3"
  },
  "language_info": {
   "codemirror_mode": {
    "name": "ipython",
    "version": 3
   },
   "file_extension": ".py",
   "mimetype": "text/x-python",
   "name": "python",
   "nbconvert_exporter": "python",
   "pygments_lexer": "ipython3",
   "version": "3.8.8"
  },
  "vscode": {
   "interpreter": {
    "hash": "12d738f96725d1c1f433a1d40c5369c2dd6b861cec3a8aa29acd662c91ac2528"
   }
  }
 },
 "nbformat": 4,
 "nbformat_minor": 4
}
