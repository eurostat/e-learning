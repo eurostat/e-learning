{
 "cells": [
  {
   "cell_type": "markdown",
   "metadata": {},
   "source": [
    "<!--NAVIGATION-->\n",
    "<span style='background: rgb(128, 128, 128, .15); width: 100%; display: block; padding: 10px 0 10px 10px'>< [Welcome](00.00-Welcome.ipynb) | [Contents](00.00-Index.ipynb) | [Installing Python & Tools](01.02-Installing-Python.ipynb) ></span>\n",
    "\n",
    "<a href=\"https://colab.research.google.com/github/eurostat/e-learning/blob/main/python-official-statistics/01.01-Why-Python.ipynb\"><img align=\"left\" src=\"https://colab.research.google.com/assets/colab-badge.svg\" alt=\"Open in Colab\" title=\"Open and Execute in Google Colaboratory\"></a>"
   ]
  },
  {
   "cell_type": "markdown",
   "metadata": {},
   "source": [
    "<a id='top'></a>\n",
    "\n",
    "# Why Python?\n",
    "## Content  \n",
    "- [What is Python?](#what)  \n",
    "- [Some Numbers](#some)  \n",
    "- [Some more numbers](#more)  \n",
    "- [Features](#features)  \n",
    "- [Syntax & Design](#syntax)  \n",
    "- [Common Uses](#common)  \n",
    "\n",
    "Let's find together if Python is a good choice as scientific/statistical tool, and if yes, why. But first ..."
   ]
  },
  {
   "cell_type": "markdown",
   "metadata": {},
   "source": [
    "<a id='what'></a>\n",
    "\n",
    "## What is Python?\n",
    "- Python is a general-purpose programming language conceived in 1989 by Dutch programmer Guido van Rossum.\n",
    "- Python is free and open source, with development coordinated through the Python Software Foundation.\n",
    "- Python has experienced rapid adoption in the last decade and is now one of the most popular programming languages."
   ]
  },
  {
   "cell_type": "markdown",
   "metadata": {},
   "source": [
    "<a id='some'></a>\n",
    "\n",
    "## Some Numbers\n",
    "It is difficult to pick the most meaningful comparison between programming languages. There are a lot of sources on the Internet which rank the most popular languages, based on very different criteria and formulas. What is sure is that there is no silver bullet, no one-size-fits-all programming language.  \n",
    "The one I used here is the IEEE's one based on 11 metrics, [explained here](https://spectrum.ieee.org/ieee-top-programming-languages-design-methods-and-data-sources).\n",
    "Let's see IEEE's rankings for years 2018-2021:\n",
    "\n",
    "| Language | 2018 | 2019 | 2020 | 2021 |\n",
    "| :- | :-: | :-: | :-: | :-: |\n",
    "| Python | 100 | 100 | 100 | 100 |\n",
    "| Java | 97.5 | 96.3 | 95.3 | 95.4 |\n",
    "| C++ | 99.7 | 87.5 | 87 | 92.4 |\n",
    "| C | 96.7 | 94.4 | 94.6 | 94.7 |\n",
    "| C# | 89.4 | 74.5 | NTT | 82.4 |\n",
    "| JavaScript | NTT | NTT | 79.5 | 88.1 |\n",
    "\n"
   ]
  },
  {
   "cell_type": "markdown",
   "metadata": {},
   "source": [
    "<a id='more'></a>\n",
    "\n",
    "## Some more numbers\n",
    "Thanks to `Stack Overflow` the biggest online tool for learning and sharing IT knowledge, which provide this statistical tool [Trends](https://insights.stackoverflow.com/trends?tags=r%2Cstatistics) about trends, anybody can search for trending keywords in their database.<br>\n",
    "If we try the same six programming languages we have this:<br><br>\n",
    "<span style=''><img style='background: rgb(128, 128, 128, .15); align: left; display: inline-block; padding: 20px' src='img/python-java.png'/></span>  \n",
    "\n",
    "### Maybe more from Data Science community?\n",
    "But maybe to compare Python, a generic, multi-purpose, programming language, with some more fine tunned and specialized languages used in data science, as matlab, R, Julia, etc. is not an apple to apple comparation.  \n",
    "You can find more about the today status from different, more specialized sources. Following are just few of them:  \n",
    "  <br>\n",
    "- __Kaggle__  \n",
    "Inside Kaggle you’ll find all the code & data you need to do your data science work. Use over 50,000 public datasets and 400,000 public notebooks to conquer any analysis in no time.  \n",
    "https://www.kaggle.com/  \n",
    "  <br>  \n",
    "  \n",
    "- __Datacamp__  \n",
    "Data drives everything. Get the skills you need for the future of work.  \n",
    "https://www.datacamp.com/\n",
    "  <br>  \n",
    "  \n",
    "- __QuantEcon__  \n",
    "Open source code for economic modeling.  \n",
    "https://quantecon.org/"
   ]
  },
  {
   "cell_type": "markdown",
   "metadata": {},
   "source": [
    "<a id='features'></a>\n",
    "\n",
    "## Features\n",
    "- Python is a `high-level language` suitable `for rapid development`.\n",
    "- It has a `relatively small core` language supported by `many libraries` (called packages, each containing one or more modules).\n",
    "- `Multiple programming styles` are supported (procedural, object-oriented, functional, etc.)  \n",
    "- It is `interpreted` rather than compiled."
   ]
  },
  {
   "cell_type": "markdown",
   "metadata": {},
   "source": [
    "<a id='syntax'></a>\n",
    "\n",
    "## Syntax and Design\n",
    "- Python has an ``elegant syntax``, it makes the syntax easy to read and easy to remember.\n",
    "- Closely related to elegant syntax is an `elegant design`: features like iterators, generators, decorators and list comprehensions make Python `highly expressive`, allowing you to get `more done with less code`."
   ]
  },
  {
   "cell_type": "markdown",
   "metadata": {},
   "source": [
    "<a id='common'></a>\n",
    "\n",
    "## Common Uses\n",
    "- Python is very beginner-friendly and is often used to `teach computer science and programming`.\n",
    "- Python is a `general-purpose language` used in almost all application domains such as: communications, web development, CGI and graphical user interfaces, game development, multimedia, data processing, security, etc..\n",
    "- `Used` extensively `by` Internet services and `high tech companies` including: Google, Dropbox, Reddit, YouTube, Walt Disney Animation\n",
    "- Python is particularly `popular within the scientific community` with users including NASA, CERN and practically all branches of academia.\n",
    "- It is also `replacing` familiar tools like `Excel` in the fields of `finance and banking`.\n"
   ]
  },
  {
   "cell_type": "markdown",
   "metadata": {},
   "source": [
    "### Scientific Programming\n",
    "Python has become one of the core languages of scientific computing.\n",
    "It’s either the dominant player or a major player in:\n",
    "- machine learning and data science: http://scikit-learn.org/stable/\n",
    "- astronomy: http://www.astropy.org/\n",
    "- artificial intelligence: https://wiki.python.org/moin/PythonForArtificialIntelligence\n",
    "- chemistry: http://chemlab.github.io/chemlab/\n",
    "- computational biology: http://biopython.org/wiki/Main_Page\n",
    "- meteorology: https://pypi.org/project/meteorology/\n",
    "- economics: https://quantecon.org/\n",
    "\n",
    "### Numerical Programming\n",
    "Fundamental matrix and array processing capabilities are provided by the excellent `NumPy` library. NumPy provides the basic array data type plus some simple processing operations.\n",
    "The `SciPy` library is built on top of NumPy and provides additional functionality. SciPy includes many of the standard routines used in:\n",
    "linear algebra, integration, interpolation, optimization, distributions and random number generation, signal processing.\n",
    "\n",
    "### Graphics\n",
    "The most popular and comprehensive Python library for creating figures and graphs is `Matplotlib`, with functionality including:\n",
    "- plots, histograms, contour images, 3D graphs, bar charts etc.  \n",
    "- output in many formats (PDF, PNG, EPS, etc.)  \n",
    "- LaTeX integration\n",
    "\n",
    "Other graphics libraries include: `Seaborn`, `Plotly`, `Bokeh`, `VPython`.\n",
    "\n",
    "### Statistics\n",
    "Python’s data manipulation and statistics libraries have improved rapidly over the last few years.\n",
    "One of the most popular libraries for working with data is Pandas. Pandas is fast, efficient, flexible and well designed.\n",
    "Other Useful Statistics Libraries:\n",
    "- `statsmodels` — various statistical routines  \n",
    "- `scikit-learn` — machine learning in Python (sponsored by Google, among others)  \n",
    "- `pyMC` — for Bayesian data analysis  \n",
    "- `pystan` — Bayesian analysis based on [stan](http://mc-stan.org/) \n",
    "\n",
    "### Networks and Graphs\n",
    "Python has many libraries for studying graphs.\n",
    "One well-known example is `NetworkX`.\n",
    "Its features include, among many other things:\n",
    "- standard graph algorithms for analyzing networks  \n",
    "- plotting routines\n"
   ]
  },
  {
   "cell_type": "markdown",
   "metadata": {},
   "source": [
    "<!--NAVIGATION-->\n",
    "<span style='background: rgb(128, 128, 128, .15); width: 100%; display: block; padding: 10px 0 10px 10px'>< [Welcome](00.00-Welcome.ipynb) | [Contents](00.00-Index.ipynb) | [Installing Python & Tools](01.02-Installing-Python.ipynb) > [Top](#top) ^ </span>"
   ]
  },
  {
   "cell_type": "markdown",
   "metadata": {},
   "source": [
    "<span style='background: rgb(128, 128, 128, .15); width: 100%; display: block; padding: 10px 0 10px 10px'>This is the Jupyter notebook version of the __Python for Official Statistics__ produced by Eurostat; the content is available [on GitHub](https://github.com/eurostat/e-learning/tree/main/python-official-statistics).\n",
    "<br>The text and code are released under the [EUPL-1.2 license](https://github.com/eurostat/e-learning/blob/main/LICENSE).</span>"
   ]
  }
 ],
 "metadata": {
  "anaconda-cloud": {},
  "kernelspec": {
   "display_name": "Python 3.8.8 ('base')",
   "language": "python",
   "name": "python3"
  },
  "language_info": {
   "codemirror_mode": {
    "name": "ipython",
    "version": 3
   },
   "file_extension": ".py",
   "mimetype": "text/x-python",
   "name": "python",
   "nbconvert_exporter": "python",
   "pygments_lexer": "ipython3",
   "version": "3.8.8"
  },
  "vscode": {
   "interpreter": {
    "hash": "12d738f96725d1c1f433a1d40c5369c2dd6b861cec3a8aa29acd662c91ac2528"
   }
  }
 },
 "nbformat": 4,
 "nbformat_minor": 4
}
