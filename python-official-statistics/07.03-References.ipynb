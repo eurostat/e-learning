{
 "cells": [
  {
   "cell_type": "markdown",
   "metadata": {},
   "source": [
    "# References & Useful Links"
   ]
  },
  {
   "cell_type": "markdown",
   "metadata": {},
   "source": [
    "![logo](img/logos.svg)\n",
    "\n",
    "*v.0.3 27/06/2022*"
   ]
  },
  {
   "cell_type": "markdown",
   "metadata": {},
   "source": [
    "<!--NAVIGATION-->\n",
    "<span style='background: rgb(128, 128, 128, .15); width: 100%; display: block; padding: 10px 0 10px 10px'>| [Welcome](00.00-Welcome.ipynb) ></span>\n",
    "\n",
    "<a href=\"https://colab.research.google.com/github/eurostat/e-learning/blob/main/python-official-statistics/07.03-References.ipynb\"><img align=\"left\" src=\"https://colab.research.google.com/assets/colab-badge.svg\" alt=\"Open in Colab\" title=\"Open and Execute in Google Colaboratory\"></a>"
   ]
  },
  {
   "cell_type": "markdown",
   "metadata": {},
   "source": [
    "## Table of Contents\n",
    "\n",
    "- ### [Official Resources](#python)\n",
    "- ### [Tutorials & Learning](#tutorials)\n",
    "- ### [Official Statistics](#official)"
   ]
  },
  {
   "cell_type": "markdown",
   "metadata": {},
   "source": [
    "<a id='python'></a>\n",
    "\n",
    "## Official Resources\n",
    "\n",
    "- __Python__: https://www.python.org/  \n",
    "_Official site for the Python language._\n",
    "- __The Python Package Index (PyPI)__: https://pypi.org/  \n",
    "_PyPI helps you find and install software developed and shared by the Python community._\n",
    "- __Project Jupyter__: https://jupyter.org/  \n",
    "_Free software, open standards, and web services for interactive computing across all programming languages._\n",
    "- __PyData__: https://pydata.org/  \n",
    "_A community for developers and users of open source data tools._\n",
    "\n",
    "QuantEcon  \n",
    "https://quantecon.org/lectures/\n",
    "\n",
    "Kaggle  \n",
    "https://www.kaggle.com\n",
    "  \n",
    "\n",
    "### Packages\n",
    "https://scikit-learn.org/stable/\n"
   ]
  },
  {
   "cell_type": "markdown",
   "metadata": {},
   "source": [
    "<a id='tutorials'></a>\n",
    "\n",
    "## Tutorials & Learning\n",
    "\n",
    "Official tutorials  \n",
    "https://wiki.python.org/moin/BeginnersGuide/Programmers\n",
    "  \n",
    "Coursera: Applied Data Science with Python Specialization  \n",
    "https://www.coursera.org/specializations/data-science-python\n",
    "  \n",
    "Datacamp - Python for Data Science  \n",
    "https://www.datacamp.com/courses/intro-to-python-for-data-science\n",
    "  \n",
    "Python Cookbook, Third Edition 3rd Edition   \n",
    "by David Beazley (Author), Brian K. Jones (Author)  \n",
    "https://www.amazon.com/gp/product/1449340377\n",
    "  \n",
    "W3 Python Tutorial  \n",
    "https://www.w3schools.com/python/\n",
    "  \n",
    "Socratica - Python  \n",
    "https://www.youtube.com/playlist?list=PLi01XoE8jYohWFPpC17Z-wWhPOSuh8Er-\n",
    "  \n",
    "Tutorials  \n",
    "https://techvidvan.com/tutorials/\n",
    "  \n",
    "Beginers Guide to Data Science with Python  \n",
    "https://towardsdatascience.com/a-beginners-guide-to-python-for-data-science-68f3f46654ce\n",
    "  \n",
    "Python cheat sheets  \n",
    "https://betterprogramming.pub/10-must-have-python-cheatsheets-2b74e8097bc3\n",
    "  \n",
    "Numpy cheatsheet (data quest)  \n",
    "https://www.dataquest.io/blog/numpy-cheat-sheet/\n",
    "  \n",
    "NumPy Tutorials  \n",
    "https://www.w3schools.com/python/numpy/default.asp\n",
    "https://www.dataquest.io/blog/numpy-tutorial-python/\n",
    "  \n",
    "Code Style - Idiomatic Python - Pythonic  \n",
    "https://docs.python-guide.org/writing/style/\n",
    "  \n",
    "Style guide for Python  \n",
    "https://www.python.org/dev/peps/pep-0008/\n",
    "  \n",
    "Google Python Style Guide  \n",
    "https://google.github.io/styleguide/pyguide.html\n",
    "  \n",
    "Pythonic  \n",
    "https://www.udacity.com/blog/2020/09/what-is-pythonic-style.html\n",
    "  \n",
    "Numpy youtube  \n",
    "https://www.youtube.com/watch?v=xECXZ3tyONo\n",
    "  \n",
    "What is Pandas? Why and How to Use Pandas in Python    \n",
    "https://www.youtube.com/watch?v=dcqPhpY7tWk\n",
    "  \n",
    "LEARN PANDAS: A great Python module for Data Science!   \n",
    "  \n",
    "https://www.youtube.com/watch?v=iGFdh6_FePU\n",
    "  \n",
    "Microsoft Learn & Python  \n",
    "https://docs.microsoft.com/en-us/learn/modules/explore-analyze-data-with-python/\n",
    "  \n",
    "Data Analysis with Python - Full Course for Beginners  \n",
    "(Numpy, Pandas, Matplotlib, Seaborn)  \n",
    "https://www.youtube.com/watch?v=r-uOLxNrNk8\n",
    "  \n",
    "Using Google Colab with GitHub   \n",
    "https://colab.research.google.com/github/googlecolab/colabtools/blob/master/notebooks/colab-github-demo.ipynb\n",
    "  \n",
    "Markdown cheatsheet  \n",
    "https://www.markdownguide.org/cheat-sheet/\n",
    "  \n",
    "Trends in stackoverflow  \n",
    "https://insights.stackoverflow.com/trends?tags=r%2Cstatistics\n",
    "  \n",
    "Python Data Science Handbook  \n",
    "https://jakevdp.github.io/PythonDataScienceHandbook/\n",
    "  \n",
    "Statistics and Machine Learning in Python  \n",
    "https://duchesnay.github.io/pystatsml/index.html\n",
    "  \n",
    "How to Think about Data Visualization  \n",
    "by Jake VanderPlas - PyCon 2019  \n",
    "https://www.youtube.com/watch?v=vTingdk_pVM\n",
    "  \n",
    "Online - FREE! - Python Console  \n",
    "https://www.programiz.com/python-programming/online-compiler/\n",
    "  \n",
    "Python for Everybody - Full University Python Course  \n",
    "https://www.youtube.com/watch?v=8DvywoWv6fI\n",
    "\n",
    "Want to learn Data Science? This is what you need to know  \n",
    "https://www.youtube.com/watch?v=xYsWGzZYZes\n",
    "  \n",
    "Plotly: World's most famous data visualization. One line of Python!   \n",
    "https://www.youtube.com/watch?v=oYVLxaxn3Dg\n",
    "  \n",
    "A Practical Introduction to Web Scraping in Python  \n",
    "https://realpython.com/python-web-scraping-practical-introduction/\n",
    "  \n",
    "Machine Learning  \n",
    "https://www.packtpub.com/product/python-machine-learning/9781783555130\n",
    "https://www.oreilly.com/library/view/introduction-to-machine/9781449369880/\n",
    "  \n",
    "Discover open source deep learning code and pretrained models.  \n",
    "https://modelzoo.co/\n",
    "  \n",
    "The Playful Academic: An Editorial  \n",
    "Rikke Toft Nørgård & Alex Moseley  \n",
    "https://www.journalofplayinadulthood.org.uk/article/id/954/\n",
    "  \n",
    "DBnomics  \n",
    "https://git.nomics.world/dbnomics/dbnomics-python-client/-/blob/master/index.ipynb\n",
    "  \n",
    "Top Programming Languages 2021  \n",
    "https://spectrum.ieee.org/top-programming-languages-2021"
   ]
  },
  {
   "cell_type": "markdown",
   "metadata": {},
   "source": [
    "<a id='official'></a>\n",
    "\n",
    "## Official Statistics\n",
    "\n",
    "Eurostat Databases  \n",
    "https://ec.europa.eu/eurostat/estat-navtree-portlet-prod/BulkDownloadListing\n",
    "  \n",
    "Commision Learning platform  \n",
    "https://academy.europa.eu/courses/beginner-s-guide-to-national-accounts\n",
    "  \n",
    "Awesome official statistics software  \n",
    "https://github.com/SNStatComp/awesome-official-statistics-software\n"
   ]
  },
  {
   "cell_type": "markdown",
   "metadata": {},
   "source": [
    "<span style='background: rgb(128, 128, 128, .15); width: 100%; display: block; padding: 10px 0 10px 10px'>This is the Jupyter notebook version of the __Python for Official Statistics__ produced by Eurostat; the content is available [on GitHub](https://github.com/eurostat/e-learning/tree/main/python-official-statistics).\n",
    "<br>The text and code are released under the [EUPL-1.2 license](https://github.com/eurostat/e-learning/blob/main/LICENSE).</span>"
   ]
  }
 ],
 "metadata": {
  "anaconda-cloud": {},
  "kernelspec": {
   "display_name": "Python 3.8.8 ('base')",
   "language": "python",
   "name": "python3"
  },
  "language_info": {
   "codemirror_mode": {
    "name": "ipython",
    "version": 3
   },
   "file_extension": ".py",
   "mimetype": "text/x-python",
   "name": "python",
   "nbconvert_exporter": "python",
   "pygments_lexer": "ipython3",
   "version": "3.8.8"
  },
  "vscode": {
   "interpreter": {
    "hash": "12d738f96725d1c1f433a1d40c5369c2dd6b861cec3a8aa29acd662c91ac2528"
   }
  }
 },
 "nbformat": 4,
 "nbformat_minor": 1
}
