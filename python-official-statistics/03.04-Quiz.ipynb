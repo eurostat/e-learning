{
 "cells": [
  {
   "cell_type": "markdown",
   "metadata": {},
   "source": [
    "<!--NAVIGATION-->\n",
    "<span style='background: rgb(128, 128, 128, .15); width: 100%; display: block; padding: 10px 0 10px 10px'>< [More speed: Numba & Cython](03.03-Numba-Cython.ipynb) | [Contents](00.00-Index.ipynb) | [Series & Dataframes](04.01-Dataframes.ipynb) ></span>\n",
    "\n",
    "<a href=\"https://colab.research.google.com/github/eurostat/e-learning/blob/main/python-official-statistics/03.04-Quiz.ipynb\"><img align=\"left\" src=\"https://colab.research.google.com/assets/colab-badge.svg\" alt=\"Open in Colab\" title=\"Open and Execute in Google Colaboratory\"></a>"
   ]
  },
  {
   "cell_type": "markdown",
   "metadata": {},
   "source": [
    "<a id='top'></a>\n",
    "\n",
    "# Quiz 3\n",
    "## Performance computing\n",
    "  <br><br>\n",
    "  \n",
    "### [Questions for Revision](#rev)\n",
    "### [Exercises](#exe)\n",
    "### [Quiz](#quizz)"
   ]
  },
  {
   "cell_type": "markdown",
   "metadata": {},
   "source": [
    "<a id='rev'></a>\n",
    "\n",
    "## Questions for Revision\n",
    "\n",
    "Try answering the following questions to test your understanding of the topics covered in this notebook:\n",
    "\n",
    "\n",
    "1. What is a vector?\n",
    "2. How do you represent vectors using a Python list? Give an example.\n",
    "3. What is a dot product of two vectors?\n",
    "4. Write a function to compute the dot product of two vectors.\n",
    "5. What is Numpy?\n",
    "6. How do you install Numpy?\n",
    "7. How do you import the `numpy` module?\n",
    "8. What does it mean to import a module with an alias? Give an example.\n",
    "9. What is the commonly used alias for `numpy`?\n",
    "10. What is a Numpy array?\n",
    "11. How do you create a Numpy array? Give an example.\n",
    "12. What is the type of Numpy arrays?\n",
    "13. How do you access the elements of a Numpy array?\n",
    "14. How do you compute the dot product of two vectors using Numpy?\n",
    "15. What happens if you try to compute the dot product of two vectors which have different sizes?\n",
    "16. How do you compute the element-wise product of two Numpy arrays?\n",
    "17. How do you compute the sum of all the elements in a Numpy array?\n",
    "18. What are the benefits of using Numpy arrays over Python lists for operating on numerical data?\n",
    "19. Why do Numpy array operations have better performance compared to Python functions and loops?\n",
    "20. Illustrate the performance difference between Numpy array operations and Python loops using an example.\n",
    "21. What are multi-dimensional Numpy arrays? \n",
    "22. Illustrate the creation of Numpy arrays with 2, 3, and 4 dimensions.\n",
    "23. How do you inspect the number of dimensions and the length along each dimension in a Numpy array?\n",
    "24. Can the elements of a Numpy array have different data types?\n",
    "25. How do you check the data type of the elements of a Numpy array?\n",
    "26. What is the data type of a Numpy array?\n",
    "27. What is the difference between a matrix and a 2D Numpy array?\n",
    "28. How do you perform matrix multiplication using Numpy?\n",
    "29. What is the `@` operator used for in Numpy?\n",
    "30. What is the CSV file format?\n",
    "31. How do you read data from a CSV file using Numpy?\n",
    "32. How do you concatenate two Numpy arrays?\n",
    "33. What is the purpose of the `axis` argument of `np.concatenate`?\n",
    "34. When are two Numpy arrays compatible for concatenation?\n",
    "35. Give an example of two Numpy arrays that can be concatenated.\n",
    "36. Give an example of two Numpy arrays that cannot be concatenated.\n",
    "37. What is the purpose of the `np.reshape` function?\n",
    "38. What does it mean to `reshape` a Numpy array?\n",
    "39. How do you write a numpy array into a CSV file?\n",
    "40. Give some examples of Numpy functions for performing mathematical operations.\n",
    "41. Give some examples of Numpy functions for performing array manipulation.\n",
    "42. Give some examples of Numpy functions for performing linear algebra.\n",
    "43. Give some examples of Numpy functions for performing statistical operations.\n",
    "44. How do you find the right Numpy function for a specific operation or use case?\n",
    "45. Where can you see a list of all the Numpy array functions and operations?\n",
    "46. What are the arithmetic operators supported by Numpy arrays? Illustrate with examples.\n",
    "47. What is array broadcasting? How is it useful? Illustrate with an example.\n",
    "48. Give some examples of arrays that are compatible for broadcasting?\n",
    "49. Give some examples of arrays that are not compatible for broadcasting?\n",
    "50. What are the comparison operators supported by Numpy arrays? Illustrate with examples.\n",
    "51. How do you access a specific subarray or slice from a Numpy array?\n",
    "52. Illustrate array indexing and slicing in multi-dimensional Numpy arrays with some examples.\n",
    "53. How do you create a Numpy array with a given shape containing all zeros?\n",
    "54. How do you create a Numpy array with a given shape containing all ones?\n",
    "55. How do you create an identity matrix of a given shape?\n",
    "56. How do you create a random vector of a given length?\n",
    "57. How do you create a Numpy array with a given shape with a fixed value for each element?\n",
    "58. How do you create a Numpy array with a given shape containing randomly initialized elements?\n",
    "59. What is the difference between `np.random.rand` and `np.random.randn`? Illustrate with examples.\n",
    "60. What is the difference between `np.arange` and `np.linspace`? Illustrate with examples."
   ]
  },
  {
   "cell_type": "markdown",
   "metadata": {},
   "source": [
    "<a id='exe'></a>\n",
    "\n",
    "## Exercises"
   ]
  },
  {
   "cell_type": "markdown",
   "metadata": {},
   "source": [
    "<a id='quizz'></a>\n",
    "\n",
    "## Quiz\n",
    "\n",
    "1. What is Numpy?\n",
    "    1. The de facto standard for manipulating arrays.\n",
    "    2. Efficient package for array processing.  \n",
    "    3. Has functionality built arround ndarray data type.\n",
    "    4. Mature, fast, stable and under continuous development.\n",
    "\n",
    "> <br/>  \n",
    "> (Answer: 1, 2, 3, 4)  <br/><br/>   \n",
    "> \n",
    "<br/><br/>  \n",
    "\n",
    "\n",
    "```python\n",
    "    import numpy as np\n",
    "```  \n",
    "2. How do you create a Numpy array?\n",
    "    1. np.array([1, 2, 3.14, 4])\n",
    "    2. np.matrix('1, 2; 3, 4')\n",
    "    3. np.array({1, 2, 3, 4, 2, 3, 4, 5})\n",
    "    4. np.zeros(10, dtype=int)\n",
    "    5. np.ones((3, 2), dtype=float)\n",
    "    6. np.full((2, 2), 3.14)\n",
    "\n",
    "> <br/>  \n",
    "> (Answer: 1, 3, 4, 5, 6)  <br/><br/>   \n",
    "> \n",
    "<br/><br/>  \n",
    "\n",
    "```python\n",
    "    import numpy as np\n",
    "    a = np.array([1, 2, 3.14, 4])\n",
    "    a.shape = (2,2)\n",
    "```  \n",
    "3. There is an array ``a`` created as in above code. How the 3rd element, 4, can be accessed?\n",
    "    1. a[3]\n",
    "    2. a[1, 1]\n",
    "    3. a[1][1]\n",
    "    4. a.item(3)\n",
    "\n",
    "> <br/>  \n",
    "> (Answer: 2, 3, 4)  <br/><br/>   \n",
    "> \n",
    "<br/><br/>  \n",
    "\n",
    "4. What is SciPy?\n",
    "    1. SciPy is a superset of NumPy.\n",
    "    2. Has faster functions than NumPy.  \n",
    "    3. Mature, fast, stable and under continuous development.\n",
    "\n",
    "> <br/>  \n",
    "> (Answer: 1, 3)  <br/><br/>   \n",
    "> \n",
    "<br/><br/>  \n",
    "\n",
    "5. What is Numba?\n",
    "    1. A snake species.\n",
    "    2. A speed optimization package for Python.  \n",
    "    3. A debugging tool.\n",
    "\n",
    "> <br/>  \n",
    "> (Answer: 2)  <br/><br/>   \n"
   ]
  },
  {
   "cell_type": "markdown",
   "metadata": {},
   "source": [
    "<!--NAVIGATION-->\n",
    "<span style='background: rgb(128, 128, 128, .15); width: 100%; display: block; padding: 10px 0 10px 10px'>< [More speed: Numba & Cython](03.03-Numba-Cython.ipynb) | [Contents](00.00-Index.ipynb) | [Series & Dataframes](04.01-Dataframes.ipynb) > [Top](#top) ^ </span>"
   ]
  },
  {
   "cell_type": "markdown",
   "metadata": {},
   "source": [
    "<span style='background: rgb(128, 128, 128, .15); width: 100%; display: block; padding: 10px 0 10px 10px'>This is the Jupyter notebook version of the __Python for Official Statistics__ produced by Eurostat; the content is available [on GitHub](https://github.com/eurostat/e-learning/tree/main/python-official-statistics).\n",
    "<br>The text and code are released under the [EUPL-1.2 license](https://github.com/eurostat/e-learning/blob/main/LICENSE).</span>"
   ]
  }
 ],
 "metadata": {
  "anaconda-cloud": {},
  "kernelspec": {
   "display_name": "Python 3.8.8 ('base')",
   "language": "python",
   "name": "python3"
  },
  "language_info": {
   "codemirror_mode": {
    "name": "ipython",
    "version": 3
   },
   "file_extension": ".py",
   "mimetype": "text/x-python",
   "name": "python",
   "nbconvert_exporter": "python",
   "pygments_lexer": "ipython3",
   "version": "3.8.8"
  },
  "vscode": {
   "interpreter": {
    "hash": "12d738f96725d1c1f433a1d40c5369c2dd6b861cec3a8aa29acd662c91ac2528"
   }
  }
 },
 "nbformat": 4,
 "nbformat_minor": 4
}
