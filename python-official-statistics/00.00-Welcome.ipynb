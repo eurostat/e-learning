{
 "cells": [
  {
   "cell_type": "markdown",
   "metadata": {},
   "source": [
    "<!--NAVIGATION-->\n",
    "<span style='background: rgb(128, 128, 128, .15); width: 100%; display: block; padding: 10px 0 10px 10px'>| [Contents](00.00-Index.ipynb) | [Why Python?](01.01-Why-Python.ipynb) ></span>\n",
    "\n",
    "<a href=\"https://colab.research.google.com/github/eurostat/e-learning/blob/main/python-official-statistics/00.00-Welcome.ipynb\"><img align=\"left\" src=\"https://colab.research.google.com/assets/colab-badge.svg\" alt=\"Open in Colab\" title=\"Open and Execute in Google Colaboratory\"></a>"
   ]
  },
  {
   "cell_type": "markdown",
   "metadata": {},
   "source": [
    "<a id='top'></a>\n",
    "\n",
    "# Hello and Welcome!\n",
    "## Content  \n",
    "- [Who Is This Book For?](#who)  \n",
    "- [Why Python?](#why)  \n",
    "- [Outline of the Course](#outline)  \n",
    "- [How to Use This Course?](#how)  "
   ]
  },
  {
   "cell_type": "markdown",
   "metadata": {},
   "source": [
    "<a id='who'></a>\n",
    "\n",
    "## Who Is This Course For?\n",
    "\n",
    "\n",
    "You are a STEM (technical) student, software developer, or researcher, maybe you already have a strong background in writing code and using computational and numerical tools.\n",
    "Maybe you already have some experience writing software, maybe already using Python, but want to learn the language with the aim of using it as a tool for data-intensive and computational science.\n",
    "There is already a huge collection of courses, videos, blog posts, and tutorials available online about Python, or about data science, or about both, for all levels, beginners or experts.\n",
    "\n",
    "## Why another course? How is this different?\n",
    "\n",
    "This course is not meant to be an introduction to Python, still it provides a brief introduction about some important Python's concepts, nor to programming in general.\n",
    "Also in this course you'll not learn what is needed to be a data scientist.\n",
    "Instead it is meant to help Python users, or aspiring users, learn to use Python's data science stack – libraries such as NumPy, Pandas, Matplotlib, Scikit-Learn, and related tools – to effectively store, manipulate, and gain insight from data.\n",
    "In this course we try to show the connections between Python and data science.\n",
    "It will present the current state of the art libraries, and the trends for future developments in the ecosystem.\n",
    "More important it will try to explain some important concepts and provide references for further and deeper studies."
   ]
  },
  {
   "cell_type": "markdown",
   "metadata": {},
   "source": [
    "<a id='why'></a>\n",
    "\n",
    "## Why Python?\n",
    "\n",
    "Python has become over the last decades a first-class tool for scientific computing tasks, including the analysis and visualization of large datasets.\n",
    "\n",
    "This may have come as a surprise to early proponents of the Python language: the language itself was not specifically designed with data analysis or scientific computing in mind.\n",
    "\n",
    "The usefulness of Python for data science stems primarily from the large and active ecosystem of third-party packages: `NumPy` (2005) for manipulation of homogeneous array-based data, `Pandas` (2008) for manipulation of heterogeneous and labeled data, `SciPy` (2001) for common scientific computing tasks, `Matplotlib` (2002) for publication-quality visualizations, `IPython` (2001), and later `Jupyter` (2014), for interactive execution and sharing of code, `Scikit-Learn` (2010) for machine learning, and many more tools that will be mentioned in the following pages.\n",
    "\n",
    "The [PyData](https://pydata.org/) world is certainly much larger than these packages, and is growing every day.\n",
    "\n",
    "<span style=''><img style='background: rgb(128, 128, 128, .15); align: left; display: inline-block; padding: 20px' src='img/jake-pydata-eco-pycon-2017.png'/></span>\n",
    "\n",
    "The Python ecosystem is evolving rapidly. We tried to give you a tool, this course, to help you understand this fast changing/growing system, the Python ecosystem and how to use it efficient for data science.\n",
    "Nevertheless, these packages are currently fundamental to much of the work being done in the Python data science space, and we expect they will remain important even as the ecosystem continues growing around them.\n",
    "\n",
    "We hope to succeed in answering some of the whys of using Python for Data science and make the jurney also an efficient and entertaining one.\n"
   ]
  },
  {
   "cell_type": "markdown",
   "metadata": {},
   "source": [
    "<a id='outline'></a>\n",
    "\n",
    "## Outline of the Course\n",
    "\n",
    "The first two chapters of the course are about Python. If you are already a [pythonist/pythonista](https://en.wiktionary.org/wiki/Pythonista) (or maybe even a pythoneer), you can skip them.  \n",
    "\n",
    "1. The Python's World: try to give some reasons to use Python and to familiarize you with the Python's ecosystem.\n",
    "2. A little bit of Python’s kitchen: a little bit about Python as a saoftware development tool, and few flashes of usage with some very popular packages.\n",
    "\n",
    "The following chapters focuses on particular package or tool that contributes a fundamental piece of the Python data science story.<br>\n",
    "They are named by the most representative of the packages for the subject, but will contain also the trends and alternatives.\n",
    "\n",
    "3. NumPy: this package provides the ``ndarray`` for efficient storage and fast manipulation of dense data arrays in Python.\n",
    "4. Pandas: this package provides the ``DataFrame`` for efficient storage and manipulation of labeled/columnar data in Python (Excel like).\n",
    "5. Matplotlib: this package provides capabilities for a flexible range of data visualizations in Python.\n",
    "6. Scikit-Learn: this package provides efficient & clean Python implementations of the most important and established machine learning algorithms."
   ]
  },
  {
   "cell_type": "markdown",
   "metadata": {},
   "source": [
    "<a id='how'></a>\n",
    "\n",
    "## How to Use This Course?\n",
    "\n",
    "This course is available for download in [GitHub](https://github.com/eurostat/e-learning/tree/main/python-official-statistics) as Jupyter notebooks, or as an online course (video).\n",
    "\n",
    "If you are in a video, and something is not clear, don't hesitate to pause the video and find answer to your questions. Follow the course at your own speed.\n",
    "\n",
    "We encourage you to use the course materials: a lot of examples, exercises, and quizes.\n",
    "\n",
    "Or just make an Google search (or any other search engine). The Python community is there and the most difficult problem will be to choose a source for the answer."
   ]
  },
  {
   "cell_type": "markdown",
   "metadata": {},
   "source": [
    "<!--NAVIGATION-->\n",
    "<span style='background: rgb(128, 128, 128, .15); width: 100%; display: block; padding: 10px 0 10px 10px'>| [Contents](00.00-Index.ipynb) | [Why Python?](01.01-Why-Python.ipynb) > [Top](#top) ^ </span>\n",
    "\n",
    "<a href=\"https://colab.research.google.com/github/eurostat/e-learning/blob/main/python-official-statistics/00.00-Welcome.ipynb\"><img align=\"left\" src=\"https://colab.research.google.com/assets/colab-badge.svg\" alt=\"Open in Colab\" title=\"Open and Execute in Google Colaboratory\"></a>\n"
   ]
  },
  {
   "cell_type": "markdown",
   "metadata": {},
   "source": [
    "<span style='background: rgb(128, 128, 128, .15); width: 100%; display: block; padding: 10px 0 10px 10px'>This is the Jupyter notebook version of the __Python for Official Statistics__ produced by Eurostat; the content is available [on GitHub](https://github.com/eurostat/e-learning/tree/main/python-official-statistics).\n",
    "<br>The text and code are released under the [EUPL-1.2 license](https://github.com/eurostat/e-learning/blob/main/LICENSE).</span>"
   ]
  }
 ],
 "metadata": {
  "anaconda-cloud": {},
  "kernelspec": {
   "display_name": "Python 3.8.8 ('base')",
   "language": "python",
   "name": "python3"
  },
  "language_info": {
   "codemirror_mode": {
    "name": "ipython",
    "version": 3
   },
   "file_extension": ".py",
   "mimetype": "text/x-python",
   "name": "python",
   "nbconvert_exporter": "python",
   "pygments_lexer": "ipython3",
   "version": "3.8.8"
  },
  "vscode": {
   "interpreter": {
    "hash": "12d738f96725d1c1f433a1d40c5369c2dd6b861cec3a8aa29acd662c91ac2528"
   }
  }
 },
 "nbformat": 4,
 "nbformat_minor": 4
}
