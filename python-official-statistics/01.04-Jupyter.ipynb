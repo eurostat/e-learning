{
 "cells": [
  {
   "cell_type": "markdown",
   "metadata": {},
   "source": [
    "<!--NAVIGATION-->\n",
    "<span style='background: rgb(128, 128, 128, .15); width: 100%; display: block; padding: 10px 0 10px 10px'>< [Hello World!](01.03-Hello-World.ipynb) | [Contents](00.00-Index.ipynb) | [Quiz 1](01.05-Quiz.ipynb) ></span>\n",
    "\n",
    "<a href=\"https://colab.research.google.com/github/eurostat/e-learning/blob/main/python-official-statistics/00.00-Welcome.ipynb\"><img align=\"left\" src=\"https://colab.research.google.com/assets/colab-badge.svg\" alt=\"Open in Colab\" title=\"Open and Execute in Google Colaboratory\"></a>"
   ]
  },
  {
   "cell_type": "markdown",
   "metadata": {},
   "source": [
    "<a id='top'></a>\n",
    "\n",
    "# Jupyter\n",
    "## Content  \n",
    "- [Why Another Tool?](#why)  \n",
    "- [IPython = Enhanced Python](#ipython)  \n",
    "- [Jupyter Notebook & JupyterLab](#jupyter)  \n",
    "- [Notebook Cells](#notebook)  \n",
    "    - [Code Cells](#code)\n",
    "    - [Markdown Cells](#markdown)\n",
    "- [Magic Commands](#magic)  \n",
    "\n",
    "Jupyter is a project and community whose goal is to \"develop open-source software, open-standards, and services for interactive computing.  \n",
    "The Jupyter notebook is a browser-based graphical interface to the IPython shell, and builds on it a rich set of dynamic display capabilities. As well as `executing Python/IPython statements`, the notebook allows the user to `include formatted text`, static and dynamic visualizations, mathematical equations, JavaScript widgets, and much more.\n"
   ]
  },
  {
   "cell_type": "markdown",
   "metadata": {},
   "source": [
    "<a id='why'></a>\n",
    "\n",
    "## Why Another Tool?\n",
    "\n",
    "- Good for create papers that can be shared with the experiment\n",
    "- Scientific (exploratory) way of coding"
   ]
  },
  {
   "cell_type": "markdown",
   "metadata": {},
   "source": [
    "<a id='ipython'></a>\n",
    "\n",
    "## IPython = Enhanced Python \n",
    "IPython (short for Interactive Python) was started in 2001 by Fernando Perez as an enhanced Python interpreter, and has since grown into a project aiming to provide, in Perez's words, \"Tools for the entire life cycle of research computing.\"\n",
    "IPython is closely tied with the Jupyter project, which provides a browser-based notebook that is useful for development, collaboration, sharing, and even publication of data science results. The IPython notebook is actually a special case of the broader Jupyter notebook structure, which encompasses notebooks for Julia, R, and other programming languages."
   ]
  },
  {
   "cell_type": "markdown",
   "metadata": {},
   "source": [
    "<a id='jupyter'></a>\n",
    "\n",
    "## Jupyter Notebook & JupyterLab\n",
    "\n",
    "Though the IPython notebook is viewed and edited through your web browser window, it must connect to a running Python process in order to execute code. This process (known as a \"kernel\") can be started by running the a specific command in your system shell.\n",
    "\n",
    "### Jupyter Notebook\n",
    "\n",
    "It was `spun off from IPython in 2014` by Fernando Pérez and Brian Granger. Project Jupyter's name is a reference to the three core programming languages supported by Jupyter, which are Julia, Python and R, and also a homage to Galileo's notebooks recording the discovery of the moons of Jupiter.  \n",
    "It is launched as: `jupyter notebook`.  \n",
    "\n",
    "This command will launch a local web server that will be visible to your browser.\n",
    "The output will look something like this:\n",
    "\n",
    "```\n",
    "$ jupyter notebook\n",
    "[NotebookApp] Serving notebooks from local directory: ...\n",
    "[NotebookApp] 0 active kernels \n",
    "[NotebookApp] The IPython Notebook is running at: http://localhost:8888/\n",
    "[NotebookApp] Use Control-C to stop this server and shut down all kernels (twice to skip confirmation).\n",
    "```\n",
    "After this, your default browser should automatically open and navigate to the listed local URL;\n",
    "the exact address will depend on your system.\n",
    "If the browser does not open automatically, you can open a window and manually open this address (*http://localhost:8888/* in this example).\n",
    "\n",
    "### JupyterLab\n",
    "\n",
    "JupyterLab is the next-generation user interface, including notebooks. The `first stable release` was announced` on February 20, 2018`. JupyterLab uses the same Notebook server and file format as the classic Jupyter Notebook to be fully compatible with the existing notebooks and kernels. The Classic Notebook and Jupyterlab can run side to side on the same computer.  \n",
    "It starts by running `jupyter-lab` in your console.  \n",
    "\n",
    "Something similar JupyterLab will output:\n",
    "\n",
    "```\n",
    "$ jupyter-lab\n",
    "[I 2022-02-21 15:57:25.066 ServerApp] jupyterlab | extension was successfully linked.\n",
    "[I 2022-02-21 15:57:25.250 ServerApp] jupyterlab | extension was successfully loaded.\n",
    "[I 2022-02-21 15:57:25.831 ServerApp] nbclassic | extension was successfully loaded.\n",
    "[I 2022-02-21 15:57:25.831 ServerApp] Serving notebooks from local directory: ...\n",
    "[I 2022-02-21 15:57:25.832 ServerApp] Jupyter Server 1.4.1 is running at: http://localhost:8888/\n",
    "[I 2022-02-21 15:57:25.833 ServerApp] Use Control-C to stop this server and shut down all kernels (twice to skip confirmation).\n",
    "```\n",
    "\n",
    "### Differences\n",
    "\n",
    "JupyterLab runs in a single tab, with sub-tabs displayed within that one tab, Jupyter Notebook opens new notebooks in new tabs.<br>So JupyterLab feels more like an IDE; in Notebook notebooks, it feels more standalone. All the files are opened as different tabs in your web browser.<br>It depends on you what you prefer more."
   ]
  },
  {
   "cell_type": "markdown",
   "metadata": {},
   "source": [
    "<a id='notebook'></a>\n",
    "\n",
    "## Notebook Cells\n",
    "The notebook consists of a sequence of cells. A cell is a multiline text input field, and its contents can be executed by using Shift - Enter , or by clicking either the “Play” button the toolbar, or Cell, Run in the menu bar. The execution behavior of a cell is determined by the cell's type.  \n",
    "Everything you want to do in a notebook you can do either by menu or by shortcuts. You can add cells, edit/modify or run them, or delete a cell.  \n",
    "\n",
    "Cells in Jupyter notebook are of three types − Code, Markdown and Raw.\n",
    "\n",
    "- Code Cells. Contents in this cell are treated as statements in a programming language of current kernel.\n",
    "- Markdown Cells. These cells contain text formatted using markdown language.\n",
    "- Raw Cells. Contents in raw cells are not evaluated by notebook kernel.\n",
    "\n"
   ]
  },
  {
   "cell_type": "markdown",
   "metadata": {},
   "source": [
    "### Modal Editor\n",
    "\n",
    "Jupyter Notebook has a modal user interface. This means that the keyboard does different things depending on which mode the Notebook is in. There are two modes: edit mode and command mode.\n",
    "#### Edit mode\n",
    "\n",
    "Edit mode is indicated by a green cell border and a prompt showing in the editor area.  \n",
    "When a cell is in edit mode, you can type into the cell, like a normal text editor.  \n",
    "\n",
    "Enter edit mode by pressing Enter or using the mouse to click on a cell’s editor area.\n",
    "\n",
    "#### Command mode\n",
    "\n",
    "Command mode is indicated by a grey cell border with a blue left margin.  \n",
    "When you are in command mode, you are able to edit the notebook as a whole, but not type into individual cells. Most importantly, in command mode, the keyboard is mapped to a set of shortcuts that let you perform notebook and cell actions efficiently. For example, if you are in command mode and you press c, you will copy the current cell - no modifier is needed.  \n",
    "\n",
    "Enter command mode by pressing Esc or using the mouse to click outside a cell’s editor area.  \n",
    "Some useful commands:  \n",
    "\n",
    "| Function | Keyboard Shortcut | Menu Tools  | \n",
    "| :- | :- | :- | \n",
    "| Save notebook | Esc + s | File → Save and Checkpoint |\n",
    "| Create new cell | Esc + a (above), Esc + b (below) | Insert→ cell above Insert → cell below |\n",
    "| Run Cell | Ctrl + enter | Cell → Run Cell |\n",
    "| Copy | Cell\tc | Copy Key |\n",
    "| Paste | Cell\tv | Paste Key |\n",
    "| Interrupt Kernel | Esc + i i | Kernel → Interrupt |\n",
    "| Restart Kernel | Esc + 0 0 | Kernel → Restart |  \n",
    "\n",
    "For more about Jupyter Notebook commands see [this](https://jupyter-notebook.readthedocs.io/en/latest/examples/Notebook/Notebook%20Basics.html).\n"
   ]
  },
  {
   "cell_type": "markdown",
   "metadata": {},
   "source": [
    "<a id='code'></a>\n",
    "\n",
    "### Code Cells\n",
    "A code cell allows you to edit and write new code, with full syntax highlighting and tab completion. The programming language you use depends on the kernel. When a code cell is executed, code that it contains is sent to the kernel associated with the notebook.  \n",
    "\n",
    "#### Help & Documentation\n",
    "In Jupyter finding help on an object is introduced by ``?`` character as a shorthand for built-in ``help()`` function in Python:  "
   ]
  },
  {
   "cell_type": "code",
   "execution_count": null,
   "metadata": {},
   "outputs": [],
   "source": [
    "len?"
   ]
  },
  {
   "cell_type": "markdown",
   "metadata": {},
   "source": [
    "Another level of insight is achieved by reading the source code of the object.\n",
    "Jupyter provides a shortcut to the source code with the double question mark (``??``):\n",
    "\n",
    "In the next cell a function called ``a_function`` is declared and ``??`` shortcut is applyed for the function name:"
   ]
  },
  {
   "cell_type": "code",
   "execution_count": null,
   "metadata": {},
   "outputs": [],
   "source": [
    "# defining a function\n",
    "def a_function(a, b):\n",
    "    \"\"\"This function is computing something\"\"\"\n",
    "    res = b\n",
    "    if a > 5:\n",
    "        res += a\n",
    "    return res\n",
    "\n",
    "a_function??\n"
   ]
  },
  {
   "cell_type": "markdown",
   "metadata": {},
   "source": [
    "#### Tab Completion\n",
    "\n",
    "Another useful interface feature is the use of the tab key for auto-completion and exploration of the contents of objects, modules, and name-spaces.\n",
    "In the examples that follow, we'll use ``<TAB>`` to indicate when the Tab key should be pressed."
   ]
  },
  {
   "cell_type": "code",
   "execution_count": null,
   "metadata": {},
   "outputs": [],
   "source": [
    "# list.<TAB> will show all function of the class list\n",
    "list.\n",
    "L = [1,2,3]\n",
    "# L.c.<TAB> because L is a list, it will show all list functions starting with c\n",
    "L.c"
   ]
  },
  {
   "cell_type": "markdown",
   "metadata": {},
   "source": [
    "The completion can be used in import for objects or modules:"
   ]
  },
  {
   "cell_type": "code",
   "execution_count": null,
   "metadata": {},
   "outputs": [],
   "source": [
    "# import <TAB>\n",
    "import \n",
    "# from scipy import <TAB>\n",
    "from scipy import "
   ]
  },
  {
   "cell_type": "markdown",
   "metadata": {},
   "source": [
    "#### Wildcard matching\n",
    "\n",
    "Tab completion is useful if you know the first few characters of the object or attribute you're looking for, but is little help if you'd like to match characters at the middle or end of the word.\n",
    "For this use-case, IPython provides a means of wildcard matching for names using the ``*`` character."
   ]
  },
  {
   "cell_type": "code",
   "execution_count": null,
   "metadata": {},
   "outputs": [],
   "source": [
    "# *Error? finding all objects in the namespace ending in ``Error``\n",
    "*Error?"
   ]
  },
  {
   "cell_type": "code",
   "execution_count": null,
   "metadata": {},
   "outputs": [],
   "source": [
    "# str.*find*? finding a string method that contains the word ``find`` somewhere in its name.\n",
    "str.*find*?"
   ]
  },
  {
   "cell_type": "markdown",
   "metadata": {},
   "source": [
    "<a id='markdown'></a>\n",
    "\n",
    "### Markdown Cells\n",
    "Markdown cell displays text which can be formatted using markdown language. In order to enter a text which should not be treated as code by Notebook server, it must be first converted as markdown cell either from cell menu or by using keyboard shortcut ``M`` while in command mode.  \n",
    "\n",
    "You can use Markdown to format documentation you add to Markdown cells in your Jupyter notebook.\n",
    "Here's how to format Markdown cells in Jupyter notebooks:\n",
    "#### Headings \n",
    "Use the number sign (#) followed by a blank space for notebook titles and section headings:\n",
    "```ipython\n",
    "# for titles \n",
    "## for major headings \n",
    "### for subheadings \n",
    "#### for 4th level subheadings \n",
    "```\n",
    "#### Emphasis \n",
    "Use the following code to emphasize text:\n",
    "```ipython\n",
    "Bold text: __string__ or **string** \n",
    "Italic text: _string_ or *string* \n",
    "```\n",
    "#### Monospace font \n",
    "Surround text with a grave accent (`) also called a back single quotation mark, for example:\n",
    "```ipython\n",
    "`string`\n",
    "```\n",
    "#### Line breaks \n",
    "Sometimes markdown doesn’t make line breaks when you want them. To force a linebreak, use the following code: <br> \n",
    "#### Indenting \n",
    "Use the greater than sign (>) followed by a space, for example:\n",
    "> Text that will be indented when the Markdown is rendered.\n",
    "Any subsequent text is indented until the next carriage return.\n",
    "#### Bullets \n",
    "To create a circular bullet point, use one of the following methods. Each bullet point must be on its own line.\n",
    "A hyphen (-) followed by one or two spaces, for example: - Bulleted item \n",
    "A space, a hyphen (-) and a space, for example: - Bulleted item \n",
    "An asterisk (*) followed by one or two spaces, for example: * Bulleted item \n",
    "To create a sub bullet, press Tab before entering the bullet point using one of the methods described above. For example:\n",
    "```\n",
    "- Main bullet point\n",
    "     - Sub bullet point\n",
    "```\n",
    "#### Numbered lists \n",
    "To create a numbered list, enter 1. followed by a space, for example:\n",
    "```\n",
    "1. Numbered item\n",
    "1. Numbered item  \n",
    "```\n",
    "For simplicity, you use 1. before each entry. The list will be numbered correctly when you run the cell.  \n",
    "To create a substep, press Tab before entering the numbered item, for example:  \n",
    "```\n",
    "1. Numbered item\n",
    "     1. Substep\n",
    "```"
   ]
  },
  {
   "cell_type": "markdown",
   "metadata": {},
   "source": [
    "#### Inserting Unicode (e.g., Greek Letters)\n",
    "\n",
    "Python supports [unicode](https://docs.python.org/3/howto/unicode.html), allowing the use of characters such as $ \\alpha $ and $ \\beta $ as names in your code. "
   ]
  },
  {
   "cell_type": "markdown",
   "metadata": {},
   "source": [
    "#### Also beautiful equations (with special characters)\n",
    "Jupyter has a nice [equation editor](https://jupyter-notebook.readthedocs.io/en/stable/examples/Notebook/Typesetting%20Equations.html).\n",
    "\n",
    "Just an example:\n",
    "\n",
    "- The Cauchy-Schwarz Inequality:\n",
    "\\begin{equation*}\n",
    "\\left( \\sum_{k=1}^n a_k b_k \\right)^2 \\leq \\left( \\sum_{k=1}^n a_k^2 \\right) \\left( \\sum_{k=1}^n b_k^2 \\right)\n",
    "\\end{equation*}"
   ]
  },
  {
   "cell_type": "markdown",
   "metadata": {},
   "source": [
    "<a id='magic'></a>\n",
    "\n",
    "## Magic Commands\n",
    "These commands are designed to succinctly solve various common problems in standard data analysis.\n",
    "Magic commands come in two flavors: *line magics*, which are denoted by a single ``%`` prefix and operate on a single line of input, and *cell magics*, which are denoted by a double ``%%`` prefix and operate on entire cell.  \n",
    "\n",
    "In the next paragraphs we'll describe some short example of such a commands, for more please check [IPython Magic Commands](https://ipython.readthedocs.io/en/stable/interactive/magics.html).\n",
    "\n",
    "### Timing Code Execution: ``%timeit``\n",
    "A very useful magic function is ``%timeit``, which will automatically determine the execution time of the single-line Python statement that follows it.\n",
    "As example, we may want to check the performance of a list comprehension:"
   ]
  },
  {
   "cell_type": "code",
   "execution_count": null,
   "metadata": {},
   "outputs": [],
   "source": [
    "%timeit L = [n ** 2 for n in range(1000)]"
   ]
  },
  {
   "cell_type": "markdown",
   "metadata": {},
   "source": [
    "For the whole cell:  "
   ]
  },
  {
   "cell_type": "code",
   "execution_count": null,
   "metadata": {},
   "outputs": [],
   "source": [
    "%%timeit\n",
    "L = []\n",
    "for n in range(1000):\n",
    "   L.append(n ** 2)"
   ]
  },
  {
   "cell_type": "markdown",
   "metadata": {},
   "source": [
    "### Help on Magic Functions: ``?``, ``%magic``, and ``%lsmagic``\n",
    "\n",
    "Like normal Python functions, magic functions have docstrings, and this useful\n",
    "documentation can be accessed in the standard manner.\n",
    "So, for example, to read the documentation of the ``%timeit`` magic simply type this:"
   ]
  },
  {
   "cell_type": "code",
   "execution_count": null,
   "metadata": {},
   "outputs": [],
   "source": [
    "%timeit?"
   ]
  },
  {
   "cell_type": "markdown",
   "metadata": {},
   "source": [
    "To access a general description of available magic functions, including some examples, you can type this:"
   ]
  },
  {
   "cell_type": "code",
   "execution_count": null,
   "metadata": {},
   "outputs": [],
   "source": [
    "%magic"
   ]
  },
  {
   "cell_type": "markdown",
   "metadata": {},
   "source": [
    "For a quick and simple list of all available magic functions, type this:"
   ]
  },
  {
   "cell_type": "code",
   "execution_count": null,
   "metadata": {},
   "outputs": [],
   "source": [
    "%lsmagic"
   ]
  },
  {
   "cell_type": "markdown",
   "metadata": {},
   "source": [
    "### More Magic\n",
    "- Profiling your code with ``%prun`` or ``%lprun``\n",
    "- Profiling memory use with ``%memit`` or ``%mprun``\n",
    "- And many, many more.   \n",
    "\n",
    "It is also possible and easy to define your own magic functions if you wish."
   ]
  },
  {
   "cell_type": "markdown",
   "metadata": {},
   "source": [
    "<!--NAVIGATION-->\n",
    "<span style='background: rgb(128, 128, 128, .15); width: 100%; display: block; padding: 10px 0 10px 10px'>< [Hello World!](01.03-Hello-World.ipynb) | [Contents](00.00-Index.ipynb) | [Quiz 1](01.05-Quiz.ipynb) > [Top](#top) ^ </span>"
   ]
  },
  {
   "cell_type": "markdown",
   "metadata": {},
   "source": [
    "<span style='background: rgb(128, 128, 128, .15); width: 100%; display: block; padding: 10px 0 10px 10px'>This is the Jupyter notebook version of the __Python for Official Statistics__ produced by Eurostat; the content is available [on GitHub](https://github.com/eurostat/e-learning/tree/main/python-official-statistics).\n",
    "<br>The text and code are released under the [EUPL-1.2 license](https://github.com/eurostat/e-learning/blob/main/LICENSE).</span>"
   ]
  }
 ],
 "metadata": {
  "anaconda-cloud": {},
  "kernelspec": {
   "display_name": "Python 3.8.8 ('base')",
   "language": "python",
   "name": "python3"
  },
  "language_info": {
   "codemirror_mode": {
    "name": "ipython",
    "version": 3
   },
   "file_extension": ".py",
   "mimetype": "text/x-python",
   "name": "python",
   "nbconvert_exporter": "python",
   "pygments_lexer": "ipython3",
   "version": "3.8.8"
  },
  "vscode": {
   "interpreter": {
    "hash": "12d738f96725d1c1f433a1d40c5369c2dd6b861cec3a8aa29acd662c91ac2528"
   }
  }
 },
 "nbformat": 4,
 "nbformat_minor": 4
}
