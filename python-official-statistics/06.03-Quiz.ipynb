{
 "cells": [
  {
   "cell_type": "markdown",
   "metadata": {},
   "source": [
    "<!--NAVIGATION-->\n",
    "<span style='background: rgb(128, 128, 128, .15); width: 100%; display: block; padding: 10px 0 10px 10px'>< [Tensorflow + Keras and PyTorch](06.02-Tensorflow.ipynb) | [Contents](00.00-Index.ipynb) | [The Future of Data Science and Python](07.00-Future.ipynb) ></span>\n",
    "\n",
    "<a href=\"https://colab.research.google.com/github/eurostat/e-learning/blob/main/python-official-statistics/06.03-Quiz.ipynb\"><img align=\"left\" src=\"https://colab.research.google.com/assets/colab-badge.svg\" alt=\"Open in Colab\" title=\"Open and Execute in Google Colaboratory\"></a>"
   ]
  },
  {
   "cell_type": "markdown",
   "metadata": {},
   "source": [
    "<a id='top'></a>\n",
    "\n",
    "# Quiz 6\n",
    "## Machine Learning Frameworks in Python\n",
    "  <br><br>\n",
    "  \n",
    "### [Questions for Revision](#rev)\n",
    "### [Exercises](#exe)\n",
    "### [Quiz](#quizz)"
   ]
  },
  {
   "cell_type": "markdown",
   "metadata": {},
   "source": [
    "<a id='rev'></a>\n",
    "\n",
    "## Questions for Revision\n",
    "\n",
    "Try answering the following questions to test your understanding of the topics covered in this notebook:\n",
    "\n",
    "1. What is Artificial Intelligence (``AI``)?\n",
    "1. What is Machine Learning (``ML``)?\n",
    "1. What is Deep Learning (``DL``)?\n",
    "1. What are the relations between ``AI``, ``ML`` and ``DL``?\n",
    "1. Enumerate few categories of ``ML``?\n",
    "1. What is ``supervised learning``?\n",
    "1. What are the types of Supervised learning?\n",
    "1. What is ``unsupervised learning``?\n",
    "1. What are some types of Unsupervised learning?\n",
    "1. What is ``Scikit-learn``?\n",
    "1. What is an ``estimator class`` in Scikit-learn?\n",
    "1. How you train a model in Scikit-learn?\n",
    "1. How you apply a trained model to new data?\n",
    "1. What is ``LinearRegression`` class?\n",
    "1. What are the ``hyperparameters`` of a model?\n",
    "1. How you can see the ``hyperparameters`` for a model?\n",
    "1. What is the data for a supervised model?\n",
    "1. What are ``features matrix`` and ``target vector``?\n",
    "1. Is Scikit-learn using numpy arrays?\n",
    "1. What is doing the ``predict`` method of a model class?\n",
    "1. What is ``train_test_split`` function doing?\n",
    "1. What is ``accuracy_score`` function doing?\n",
    "1. What kind of model class is principal component analysis (``PCA``)?\n",
    "1. What is doing the ``transform`` method of a model class?\n",
    "1. Give an example of a clastering model class.\n",
    "1. Can we use Scikit-learn for Deep learning?\n",
    "1. What are some differences between ``DL`` and other types of ``ML``?\n",
    "1. What is ``MLPClassifier`` class?\n",
    "1. What is Tensorflow?\n",
    "1. What is Keras?\n",
    "1. Is Tensorflow open source?\n",
    "1. Can we use Tensorflow without Keras?\n",
    "1. Is Tensorflow just for ``DL``?\n",
    "1. What is Tensorflow class for liniar regression?\n",
    "1. How you train an estimator in Tensorflow?\n",
    "1. What is ``One hot Encode``?\n",
    "1. How you do a one hot encode with Keras?\n",
    "1. What is doing the method ``evaluate`` in a Keras model?\n",
    "1. Is Keras working with numpy array?\n",
    "1. What is Convolutional Neural Network (``CNN``)?\n",
    "1. What is PyTorch?\n",
    "1. Is PyTorch open source?\n",
    "1. Do you need to learn both Tensorflow and PyThorch?\n",
    "1. What is Transfer learning?\n",
    "1. What is fine-tuning in the context of Transfer learning?\n",
    "1. What is more resource consumming in a DL model: learning or predicting?"
   ]
  },
  {
   "cell_type": "markdown",
   "metadata": {},
   "source": [
    "<a id='exe'></a>\n",
    "\n",
    "## Exercises"
   ]
  },
  {
   "cell_type": "markdown",
   "metadata": {},
   "source": [
    "<a id='quizz'></a>\n",
    "\n",
    "## Quiz\n",
    "\n",
    "1. What is ``Scikit-learn``?\n",
    "    1. It is a popular machine learning library.\n",
    "    2. It is very easy to use.  \n",
    "    3. It is highly configurable.\n",
    "    4. It has a low level interface.\n",
    "    5. It is specialized in deep learning models.\n",
    "\n",
    "> <br/>  \n",
    "> (Answer: 1, 2)  <br/><br/>   \n",
    "> \n",
    "<br/><br/>  \n",
    "\n",
    "2. Can you build a Deep Learning model with ``Scikit-learn``?\n",
    "    1. It has a lot of DL support.\n",
    "    2. It is good just as a starting point.  \n",
    "    3. It provide GPU support for efficient computing.\n",
    "    4. Don't use it for in depth research of DL.\n",
    "\n",
    "> <br/>  \n",
    "> (Answer: 2, 4)  <br/><br/>   \n",
    "> \n",
    "<br/><br/>  \n",
    "\n",
    "3. What is ``train_test_split`` function doing?\n",
    "    1. It is a utility function from Scikit-learn.\n",
    "    2. It is used to prepare data for for training and testing.\n",
    "    3. There is not such a function.  \n",
    "    4. By default, if train_size not specified, is 75%.\n",
    "\n",
    "> <br/>  \n",
    "> (Answer: 1, 2, 4)  <br/><br/>   \n",
    "> \n",
    "<br/><br/>  \n",
    "\n",
    "4. What is the relation between Tensorflow and Keras?\n",
    "    1. Tensorflow is built on top of Keras.\n",
    "    2. Keras is built on top of Tensorflow.\n",
    "    3. No relation between the two libraries.  \n",
    "    4. Tensorflow is a low level library.\n",
    "\n",
    "> <br/>  \n",
    "> (Answer: 2, 4)  <br/><br/>   \n",
    "> \n",
    "<br/><br/>  \n",
    "\n",
    "5. What is PyTorch?\n",
    "    1. Must be used on top of Tensorflow.\n",
    "    2. It is an optimized library used primarily for DL.\n",
    "    3. It is very popular in industry.\n",
    "    4. It is very pythonic.  \n",
    "    5. Must be used in conjunction with Keras.\n",
    "\n",
    "> <br/>  \n",
    "> (Answer: 2, 3, 4)  <br/><br/>   \n",
    "> "
   ]
  },
  {
   "cell_type": "markdown",
   "metadata": {},
   "source": [
    "<!--NAVIGATION-->\n",
    "<span style='background: rgb(128, 128, 128, .15); width: 100%; display: block; padding: 10px 0 10px 10px'>< [Tensorflow + Keras and PyTorch](06.02-Tensorflow.ipynb) | [Contents](00.00-Index.ipynb) | [The Future of Data Science and Python](07.00-Future.ipynb) > [Top](#top) ^ </span>"
   ]
  },
  {
   "cell_type": "markdown",
   "metadata": {},
   "source": [
    "<span style='background: rgb(128, 128, 128, .15); width: 100%; display: block; padding: 10px 0 10px 10px'>This is the Jupyter notebook version of the __Python for Official Statistics__ produced by Eurostat; the content is available [on GitHub](https://github.com/eurostat/e-learning/tree/main/python-official-statistics).\n",
    "<br>The text and code are released under the [EUPL-1.2 license](https://github.com/eurostat/e-learning/blob/main/LICENSE).</span>"
   ]
  }
 ],
 "metadata": {
  "anaconda-cloud": {},
  "kernelspec": {
   "display_name": "Python 3 (ipykernel)",
   "language": "python",
   "name": "python3"
  },
  "language_info": {
   "codemirror_mode": {
    "name": "ipython",
    "version": 3
   },
   "file_extension": ".py",
   "mimetype": "text/x-python",
   "name": "python",
   "nbconvert_exporter": "python",
   "pygments_lexer": "ipython3",
   "version": "3.8.8"
  },
  "vscode": {
   "interpreter": {
    "hash": "12d738f96725d1c1f433a1d40c5369c2dd6b861cec3a8aa29acd662c91ac2528"
   }
  }
 },
 "nbformat": 4,
 "nbformat_minor": 4
}
